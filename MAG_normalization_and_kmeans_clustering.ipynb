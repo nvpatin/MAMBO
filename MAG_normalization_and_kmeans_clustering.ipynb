{
 "cells": [
  {
   "cell_type": "code",
   "execution_count": 1,
   "metadata": {},
   "outputs": [],
   "source": [
    "%matplotlib inline"
   ]
  },
  {
   "cell_type": "markdown",
   "metadata": {},
   "source": [
    "# In this notebook, you will calculate temporal patterns of metagenome-assembled genome (MAG) representation from a time series of human gut metagenomes from one individual. MAGs will be clustered based on these patterns using the K-means clustering algorithm from scikit-learn. Information like metagenome size, MAG size, and MAG coverage have already been calculated."
   ]
  },
  {
   "cell_type": "markdown",
   "metadata": {},
   "source": [
    "### Import all the dependencies"
   ]
  },
  {
   "cell_type": "code",
   "execution_count": 2,
   "metadata": {},
   "outputs": [],
   "source": [
    "import os\n",
    "import pandas as pd\n",
    "import seaborn as sns\n",
    "from matplotlib import pyplot as plt\n",
    "import numpy as np\n",
    "from sklearn.cluster import KMeans\n",
    "from sklearn.preprocessing import StandardScaler\n",
    "from sklearn.decomposition import PCA"
   ]
  },
  {
   "cell_type": "markdown",
   "metadata": {},
   "source": [
    "### Move to working directory"
   ]
  },
  {
   "cell_type": "code",
   "execution_count": 205,
   "metadata": {},
   "outputs": [],
   "source": [
    "os.chdir('/home/manager/Desktop/Scripts/Sample_Data')"
   ]
  },
  {
   "cell_type": "markdown",
   "metadata": {},
   "source": [
    "# 01. This section takes MAG coverage in each metagenome, represented by the Truncated Average Depth (TAD), and normalizes by Genome Equivalent (GE) of the metagenome. "
   ]
  },
  {
   "cell_type": "markdown",
   "metadata": {},
   "source": [
    "## Raw TAD values have been previously calculated. These values will be normalized by the GE value of the metagenome, which was calculated by the program MicrobeCensus."
   ]
  },
  {
   "cell_type": "markdown",
   "metadata": {},
   "source": [
    "### Below is an example MicrobeCensus output file"
   ]
  },
  {
   "cell_type": "code",
   "execution_count": 203,
   "metadata": {},
   "outputs": [
    {
     "name": "stdout",
     "output_type": "stream",
     "text": [
      "Parameters\r\n",
      "metagenome:\t02.5.trimmed_fasta_split/15_1.1.fa,02.5.trimmed_fasta_split/15_1.2.fa\r\n",
      "reads_sampled:\t10000000\r\n",
      "trimmed_length:\t150\r\n",
      "min_quality:\t-5\r\n",
      "mean_quality:\t-5\r\n",
      "filter_dups:\tFalse\r\n",
      "max_unknown:\t100\r\n",
      "\r\n",
      "Results\r\n",
      "average_genome_size:\t2811588.93115\r\n",
      "total_bases:\t2766955683\r\n",
      "genome_equivalents:\t984.125258264\r\n"
     ]
    }
   ],
   "source": [
    "!cat GEs/15_1_GE.txt"
   ]
  },
  {
   "cell_type": "markdown",
   "metadata": {},
   "source": [
    "### Function to extract the Genome Equivalent value for a metagenome from the MicrobeCensus output file"
   ]
  },
  {
   "cell_type": "code",
   "execution_count": 95,
   "metadata": {},
   "outputs": [],
   "source": [
    "def extract_GE(GE):\n",
    "    \"\"\"Use the MicrobeCensus output file to extract the Genome Equivalent value of the metagenome\"\"\"\n",
    "    with open(GE, \"rt\") as GE_file:\n",
    "        # read all lines into a list\n",
    "        lines = GE_file.readlines()\n",
    "        # extract just the genome equivalent value, which is the second value on the 12th line\n",
    "        ge = float(lines[12].split('\\t')[1])\n",
    "    return(ge)"
   ]
  },
  {
   "cell_type": "markdown",
   "metadata": {},
   "source": [
    "### Navigate to the directory with all the MicrobeCensus files"
   ]
  },
  {
   "cell_type": "code",
   "execution_count": 96,
   "metadata": {},
   "outputs": [],
   "source": [
    "os.chdir('GEs')"
   ]
  },
  {
   "cell_type": "markdown",
   "metadata": {},
   "source": [
    "### Extract the GE values from each file"
   ]
  },
  {
   "cell_type": "code",
   "execution_count": 97,
   "metadata": {},
   "outputs": [],
   "source": [
    "GE_values = {}\n",
    "files = os.listdir()\n",
    "for file in files:\n",
    "    a, b = file.split('.')\n",
    "    x = extract_GE(file)\n",
    "    GE_values[a] = x"
   ]
  },
  {
   "cell_type": "markdown",
   "metadata": {},
   "source": [
    "## 02. Use information about MAG and metagenome sizes, as well as GE values extracted in [01], to generate normalize TAD values and other data for each MAG in each sample."
   ]
  },
  {
   "cell_type": "markdown",
   "metadata": {},
   "source": [
    "### We need three tables: the complete MAG list, high-quality dereplicated MAG names and corresponding size, and metagenome with time point ('Day) and size in bp."
   ]
  },
  {
   "cell_type": "markdown",
   "metadata": {},
   "source": [
    "#### Navigate back to the main directory"
   ]
  },
  {
   "cell_type": "code",
   "execution_count": 207,
   "metadata": {},
   "outputs": [],
   "source": [
    "os.chdir('/home/manager/Desktop/Scripts/Sample_Data')"
   ]
  },
  {
   "cell_type": "markdown",
   "metadata": {},
   "source": [
    "### 02a. Import two files: one with the MAG IDs of interest (ie high-quality, dereplicated) and one with only all MAGs and their corresponding sizes. Then merge the two tables to get a data frame with estimated sizes of only the relevant MAGs."
   ]
  },
  {
   "cell_type": "code",
   "execution_count": 208,
   "metadata": {},
   "outputs": [],
   "source": [
    "mag_list = pd.read_csv(\"MAG_list.csv\", names=[\"Bin\"])\n",
    "mag_sizes = pd.read_csv(\"MAG_sizes.csv\")"
   ]
  },
  {
   "cell_type": "code",
   "execution_count": 210,
   "metadata": {},
   "outputs": [
    {
     "data": {
      "text/html": [
       "<div>\n",
       "<style scoped>\n",
       "    .dataframe tbody tr th:only-of-type {\n",
       "        vertical-align: middle;\n",
       "    }\n",
       "\n",
       "    .dataframe tbody tr th {\n",
       "        vertical-align: top;\n",
       "    }\n",
       "\n",
       "    .dataframe thead th {\n",
       "        text-align: right;\n",
       "    }\n",
       "</style>\n",
       "<table border=\"1\" class=\"dataframe\">\n",
       "  <thead>\n",
       "    <tr style=\"text-align: right;\">\n",
       "      <th></th>\n",
       "      <th>Bin</th>\n",
       "    </tr>\n",
       "  </thead>\n",
       "  <tbody>\n",
       "    <tr>\n",
       "      <th>0</th>\n",
       "      <td>13_1_001</td>\n",
       "    </tr>\n",
       "    <tr>\n",
       "      <th>1</th>\n",
       "      <td>14_1_002</td>\n",
       "    </tr>\n",
       "    <tr>\n",
       "      <th>2</th>\n",
       "      <td>14_1_003</td>\n",
       "    </tr>\n",
       "    <tr>\n",
       "      <th>3</th>\n",
       "      <td>14_1_005</td>\n",
       "    </tr>\n",
       "    <tr>\n",
       "      <th>4</th>\n",
       "      <td>14_4_005</td>\n",
       "    </tr>\n",
       "  </tbody>\n",
       "</table>\n",
       "</div>"
      ],
      "text/plain": [
       "        Bin\n",
       "0  13_1_001\n",
       "1  14_1_002\n",
       "2  14_1_003\n",
       "3  14_1_005\n",
       "4  14_4_005"
      ]
     },
     "execution_count": 210,
     "metadata": {},
     "output_type": "execute_result"
    }
   ],
   "source": [
    "mag_list.head()"
   ]
  },
  {
   "cell_type": "code",
   "execution_count": 211,
   "metadata": {},
   "outputs": [
    {
     "data": {
      "text/html": [
       "<div>\n",
       "<style scoped>\n",
       "    .dataframe tbody tr th:only-of-type {\n",
       "        vertical-align: middle;\n",
       "    }\n",
       "\n",
       "    .dataframe tbody tr th {\n",
       "        vertical-align: top;\n",
       "    }\n",
       "\n",
       "    .dataframe thead th {\n",
       "        text-align: right;\n",
       "    }\n",
       "</style>\n",
       "<table border=\"1\" class=\"dataframe\">\n",
       "  <thead>\n",
       "    <tr style=\"text-align: right;\">\n",
       "      <th></th>\n",
       "      <th>Bin</th>\n",
       "      <th>Est_size</th>\n",
       "    </tr>\n",
       "  </thead>\n",
       "  <tbody>\n",
       "    <tr>\n",
       "      <th>0</th>\n",
       "      <td>13_1_001</td>\n",
       "      <td>7953998.182</td>\n",
       "    </tr>\n",
       "    <tr>\n",
       "      <th>1</th>\n",
       "      <td>13_1_002</td>\n",
       "      <td>2380288.584</td>\n",
       "    </tr>\n",
       "    <tr>\n",
       "      <th>2</th>\n",
       "      <td>13_1_003</td>\n",
       "      <td>8476194.553</td>\n",
       "    </tr>\n",
       "    <tr>\n",
       "      <th>3</th>\n",
       "      <td>13_1_004</td>\n",
       "      <td>3476218.204</td>\n",
       "    </tr>\n",
       "    <tr>\n",
       "      <th>4</th>\n",
       "      <td>13_1_005</td>\n",
       "      <td>8417263.158</td>\n",
       "    </tr>\n",
       "  </tbody>\n",
       "</table>\n",
       "</div>"
      ],
      "text/plain": [
       "        Bin     Est_size\n",
       "0  13_1_001  7953998.182\n",
       "1  13_1_002  2380288.584\n",
       "2  13_1_003  8476194.553\n",
       "3  13_1_004  3476218.204\n",
       "4  13_1_005  8417263.158"
      ]
     },
     "execution_count": 211,
     "metadata": {},
     "output_type": "execute_result"
    }
   ],
   "source": [
    "mag_sizes.head()"
   ]
  },
  {
   "cell_type": "code",
   "execution_count": 212,
   "metadata": {},
   "outputs": [
    {
     "data": {
      "text/html": [
       "<div>\n",
       "<style scoped>\n",
       "    .dataframe tbody tr th:only-of-type {\n",
       "        vertical-align: middle;\n",
       "    }\n",
       "\n",
       "    .dataframe tbody tr th {\n",
       "        vertical-align: top;\n",
       "    }\n",
       "\n",
       "    .dataframe thead th {\n",
       "        text-align: right;\n",
       "    }\n",
       "</style>\n",
       "<table border=\"1\" class=\"dataframe\">\n",
       "  <thead>\n",
       "    <tr style=\"text-align: right;\">\n",
       "      <th></th>\n",
       "      <th>Bin</th>\n",
       "      <th>Est_size</th>\n",
       "    </tr>\n",
       "  </thead>\n",
       "  <tbody>\n",
       "    <tr>\n",
       "      <th>0</th>\n",
       "      <td>13_1_001</td>\n",
       "      <td>7953998.182</td>\n",
       "    </tr>\n",
       "    <tr>\n",
       "      <th>1</th>\n",
       "      <td>14_1_002</td>\n",
       "      <td>2982715.048</td>\n",
       "    </tr>\n",
       "    <tr>\n",
       "      <th>2</th>\n",
       "      <td>14_1_003</td>\n",
       "      <td>2346629.669</td>\n",
       "    </tr>\n",
       "    <tr>\n",
       "      <th>3</th>\n",
       "      <td>14_1_005</td>\n",
       "      <td>2952562.304</td>\n",
       "    </tr>\n",
       "    <tr>\n",
       "      <th>4</th>\n",
       "      <td>14_4_005</td>\n",
       "      <td>2833498.943</td>\n",
       "    </tr>\n",
       "  </tbody>\n",
       "</table>\n",
       "</div>"
      ],
      "text/plain": [
       "        Bin     Est_size\n",
       "0  13_1_001  7953998.182\n",
       "1  14_1_002  2982715.048\n",
       "2  14_1_003  2346629.669\n",
       "3  14_1_005  2952562.304\n",
       "4  14_4_005  2833498.943"
      ]
     },
     "execution_count": 212,
     "metadata": {},
     "output_type": "execute_result"
    }
   ],
   "source": [
    "mag_list_sizes = mag_list.merge(mag_sizes, how='inner', on='Bin')\n",
    "mag_list_sizes.head()"
   ]
  },
  {
   "cell_type": "markdown",
   "metadata": {},
   "source": [
    "### Check if there are any MAGs from the list that didn't end up in the merged df with sizes"
   ]
  },
  {
   "cell_type": "code",
   "execution_count": null,
   "metadata": {},
   "outputs": [],
   "source": [
    "mag_list[(~mag_list.Bin.isin(mag_list_sizes.Bin))]"
   ]
  },
  {
   "cell_type": "markdown",
   "metadata": {},
   "source": [
    "### 02b. Import file containing each metagenome name ('Sample'), corresponding time point ('Day'), and corresponding read numbers and total base pairs."
   ]
  },
  {
   "cell_type": "markdown",
   "metadata": {},
   "source": [
    "### This file has information for several individuals over time, represented by the first number before the underscore (sample 13_1 is Individual 13, time point 1), but we will only use data from Individual 15 (see 02d)."
   ]
  },
  {
   "cell_type": "code",
   "execution_count": 213,
   "metadata": {},
   "outputs": [],
   "source": [
    "mgn_bps = pd.read_csv(\"MGN_reads.csv\")"
   ]
  },
  {
   "cell_type": "code",
   "execution_count": 214,
   "metadata": {},
   "outputs": [
    {
     "data": {
      "text/html": [
       "<div>\n",
       "<style scoped>\n",
       "    .dataframe tbody tr th:only-of-type {\n",
       "        vertical-align: middle;\n",
       "    }\n",
       "\n",
       "    .dataframe tbody tr th {\n",
       "        vertical-align: top;\n",
       "    }\n",
       "\n",
       "    .dataframe thead th {\n",
       "        text-align: right;\n",
       "    }\n",
       "</style>\n",
       "<table border=\"1\" class=\"dataframe\">\n",
       "  <thead>\n",
       "    <tr style=\"text-align: right;\">\n",
       "      <th></th>\n",
       "      <th>Sample</th>\n",
       "      <th>Day</th>\n",
       "      <th>reads</th>\n",
       "      <th>bp</th>\n",
       "    </tr>\n",
       "  </thead>\n",
       "  <tbody>\n",
       "    <tr>\n",
       "      <th>0</th>\n",
       "      <td>13_1</td>\n",
       "      <td>0</td>\n",
       "      <td>7961140</td>\n",
       "      <td>1110839980</td>\n",
       "    </tr>\n",
       "    <tr>\n",
       "      <th>1</th>\n",
       "      <td>13_2</td>\n",
       "      <td>2</td>\n",
       "      <td>5398844</td>\n",
       "      <td>759742464</td>\n",
       "    </tr>\n",
       "    <tr>\n",
       "      <th>2</th>\n",
       "      <td>13_4</td>\n",
       "      <td>4</td>\n",
       "      <td>9909670</td>\n",
       "      <td>1363502990</td>\n",
       "    </tr>\n",
       "    <tr>\n",
       "      <th>3</th>\n",
       "      <td>15_1</td>\n",
       "      <td>0</td>\n",
       "      <td>10076061</td>\n",
       "      <td>1388074800</td>\n",
       "    </tr>\n",
       "    <tr>\n",
       "      <th>4</th>\n",
       "      <td>15_3</td>\n",
       "      <td>3</td>\n",
       "      <td>9470006</td>\n",
       "      <td>1285469684</td>\n",
       "    </tr>\n",
       "  </tbody>\n",
       "</table>\n",
       "</div>"
      ],
      "text/plain": [
       "  Sample  Day     reads          bp\n",
       "0   13_1    0   7961140  1110839980\n",
       "1   13_2    2   5398844   759742464\n",
       "2   13_4    4   9909670  1363502990\n",
       "3   15_1    0  10076061  1388074800\n",
       "4   15_3    3   9470006  1285469684"
      ]
     },
     "execution_count": 214,
     "metadata": {},
     "output_type": "execute_result"
    }
   ],
   "source": [
    "mgn_bps.head()"
   ]
  },
  {
   "cell_type": "markdown",
   "metadata": {},
   "source": [
    "### 02c. Function to append TAD table for one metagenome with data on MAG size and coverage\n",
    "#### The input TAD table ('tads') should have two columns: one with MAG names and one with the corresponding raw TAD value, with no headers. GE input ('ge') should be the value corresponding to MAG name, as stored in the dictionary created above. The 'name' variable is the sample name (eg, 15_1), and 'sizes' is a table with two columns: one with MAG names and one with the corresponding sizes (ie, mag_list_sizes data frame created above). "
   ]
  },
  {
   "cell_type": "code",
   "execution_count": 215,
   "metadata": {},
   "outputs": [],
   "source": [
    "def normalize_TADs(tads, ge, name, sizes):\n",
    "    \"\"\"Use MAG TAD values and metagenome GE values to normalize TADs for each MAG in the metagenome\"\"\"\n",
    "    ge_list = [ge] * len(tads.index)\n",
    "    bps = mgn_bps.loc[mgn_bps['Sample'] == name, 'bp'].iloc[0]\n",
    "    bps_list = bps * len(tads.index)\n",
    "    days = mgn_bps.loc[mgn_bps['Sample'] == name, 'Day'].iloc[0]\n",
    "    tads['Sample'] = name\n",
    "    tads['GE'] = ge_list\n",
    "    tads['mgn_bps'] = bps_list\n",
    "    tads['Day'] = days\n",
    "    # calculate normalized TAD value by dividing the raw TAD by the Genome Equivalent value\n",
    "    tads['Normalized_TAD'] = tads['Raw_TAD'] / tads['GE'] \n",
    "    tads['MAG_size'] = sizes['Est_size']\n",
    "    tads['MAG_proportion'] = (tads['Raw_TAD'] * tads['MAG_size']) / tads['mgn_bps']\n",
    "    norm_output = tads[[\n",
    "        'Sample','Day','GE','mgn_bps','MAG','Raw_TAD','MAG_size','Normalized_TAD','MAG_proportion'\n",
    "        ]]\n",
    "    return(norm_output)"
   ]
  },
  {
   "cell_type": "markdown",
   "metadata": {},
   "source": [
    "### 02d. Loop through function with each metagenome in the time series for Individual 15 to generate data frame with normalized TAD and other data"
   ]
  },
  {
   "cell_type": "markdown",
   "metadata": {},
   "source": [
    "#### First navigate to the 'tads_RAW' directory, which has one file for each metagenome in the time series. Each file contains raw TAD values of each MAG in that metagenome."
   ]
  },
  {
   "cell_type": "code",
   "execution_count": 216,
   "metadata": {},
   "outputs": [],
   "source": [
    "os.chdir('tads_RAW')"
   ]
  },
  {
   "cell_type": "code",
   "execution_count": 217,
   "metadata": {
    "scrolled": true
   },
   "outputs": [],
   "source": [
    "# create empty list for data frames of individual samples, which will be concatenated outside the loop\n",
    "timeseries_df = [] \n",
    "# use the files in the working directory\n",
    "files = os.listdir() \n",
    "for file in files:\n",
    "    tads_file = pd.read_csv(file, names=[\"MAG\",\"Raw_TAD\"])\n",
    "    # The first part of the file name is our sample (metagenome) name\n",
    "    sample, ext = file.split('-')\n",
    "    x = '%s_GE' % sample\n",
    "    y = '%s' % sample\n",
    "    # print(x, GE_values[x], y)\n",
    "    df = normalize_TADs(tads_file, GE_values[x], y, mag_list_sizes)\n",
    "    #print(df.head(5))\n",
    "    timeseries_df.append(df)"
   ]
  },
  {
   "cell_type": "markdown",
   "metadata": {},
   "source": [
    "### Concatenate all the dataframes in the list timeseries_df"
   ]
  },
  {
   "cell_type": "code",
   "execution_count": 218,
   "metadata": {},
   "outputs": [
    {
     "data": {
      "text/html": [
       "<div>\n",
       "<style scoped>\n",
       "    .dataframe tbody tr th:only-of-type {\n",
       "        vertical-align: middle;\n",
       "    }\n",
       "\n",
       "    .dataframe tbody tr th {\n",
       "        vertical-align: top;\n",
       "    }\n",
       "\n",
       "    .dataframe thead th {\n",
       "        text-align: right;\n",
       "    }\n",
       "</style>\n",
       "<table border=\"1\" class=\"dataframe\">\n",
       "  <thead>\n",
       "    <tr style=\"text-align: right;\">\n",
       "      <th></th>\n",
       "      <th>Sample</th>\n",
       "      <th>Day</th>\n",
       "      <th>GE</th>\n",
       "      <th>mgn_bps</th>\n",
       "      <th>MAG</th>\n",
       "      <th>Raw_TAD</th>\n",
       "      <th>MAG_size</th>\n",
       "      <th>Normalized_TAD</th>\n",
       "      <th>MAG_proportion</th>\n",
       "    </tr>\n",
       "  </thead>\n",
       "  <tbody>\n",
       "    <tr>\n",
       "      <th>0</th>\n",
       "      <td>15_8</td>\n",
       "      <td>22</td>\n",
       "      <td>981.13545</td>\n",
       "      <td>88410340775</td>\n",
       "      <td>13_1_001</td>\n",
       "      <td>9.123320</td>\n",
       "      <td>7953998.182</td>\n",
       "      <td>0.009299</td>\n",
       "      <td>0.000821</td>\n",
       "    </tr>\n",
       "    <tr>\n",
       "      <th>1</th>\n",
       "      <td>15_8</td>\n",
       "      <td>22</td>\n",
       "      <td>981.13545</td>\n",
       "      <td>88410340775</td>\n",
       "      <td>14_1_002</td>\n",
       "      <td>0.557976</td>\n",
       "      <td>2982715.048</td>\n",
       "      <td>0.000569</td>\n",
       "      <td>0.000019</td>\n",
       "    </tr>\n",
       "    <tr>\n",
       "      <th>2</th>\n",
       "      <td>15_8</td>\n",
       "      <td>22</td>\n",
       "      <td>981.13545</td>\n",
       "      <td>88410340775</td>\n",
       "      <td>14_1_003</td>\n",
       "      <td>0.000000</td>\n",
       "      <td>2346629.669</td>\n",
       "      <td>0.000000</td>\n",
       "      <td>0.000000</td>\n",
       "    </tr>\n",
       "    <tr>\n",
       "      <th>3</th>\n",
       "      <td>15_8</td>\n",
       "      <td>22</td>\n",
       "      <td>981.13545</td>\n",
       "      <td>88410340775</td>\n",
       "      <td>14_1_005</td>\n",
       "      <td>0.000000</td>\n",
       "      <td>2952562.304</td>\n",
       "      <td>0.000000</td>\n",
       "      <td>0.000000</td>\n",
       "    </tr>\n",
       "    <tr>\n",
       "      <th>4</th>\n",
       "      <td>15_8</td>\n",
       "      <td>22</td>\n",
       "      <td>981.13545</td>\n",
       "      <td>88410340775</td>\n",
       "      <td>14_4_005</td>\n",
       "      <td>1.490583</td>\n",
       "      <td>2833498.943</td>\n",
       "      <td>0.001519</td>\n",
       "      <td>0.000048</td>\n",
       "    </tr>\n",
       "  </tbody>\n",
       "</table>\n",
       "</div>"
      ],
      "text/plain": [
       "  Sample  Day         GE      mgn_bps       MAG   Raw_TAD     MAG_size  \\\n",
       "0   15_8   22  981.13545  88410340775  13_1_001  9.123320  7953998.182   \n",
       "1   15_8   22  981.13545  88410340775  14_1_002  0.557976  2982715.048   \n",
       "2   15_8   22  981.13545  88410340775  14_1_003  0.000000  2346629.669   \n",
       "3   15_8   22  981.13545  88410340775  14_1_005  0.000000  2952562.304   \n",
       "4   15_8   22  981.13545  88410340775  14_4_005  1.490583  2833498.943   \n",
       "\n",
       "   Normalized_TAD  MAG_proportion  \n",
       "0        0.009299        0.000821  \n",
       "1        0.000569        0.000019  \n",
       "2        0.000000        0.000000  \n",
       "3        0.000000        0.000000  \n",
       "4        0.001519        0.000048  "
      ]
     },
     "execution_count": 218,
     "metadata": {},
     "output_type": "execute_result"
    }
   ],
   "source": [
    "timeseries_df = pd.concat(timeseries_df)\n",
    "timeseries_df.head()"
   ]
  },
  {
   "cell_type": "markdown",
   "metadata": {},
   "source": [
    "## 03. This section analyzes the temporal pattern of each MAG over the time course and clusters MAGs based on similar patterns using normalized TAD values at each time point and the k-means clustering algorithm."
   ]
  },
  {
   "cell_type": "markdown",
   "metadata": {},
   "source": [
    "### 03a. We compiled a lot of data for each sample and MAG in [02], but we only need a subset to analyze temporal patterns. So, first we select the relevant columns from the data frame."
   ]
  },
  {
   "cell_type": "code",
   "execution_count": 219,
   "metadata": {},
   "outputs": [
    {
     "data": {
      "text/html": [
       "<div>\n",
       "<style scoped>\n",
       "    .dataframe tbody tr th:only-of-type {\n",
       "        vertical-align: middle;\n",
       "    }\n",
       "\n",
       "    .dataframe tbody tr th {\n",
       "        vertical-align: top;\n",
       "    }\n",
       "\n",
       "    .dataframe thead th {\n",
       "        text-align: right;\n",
       "    }\n",
       "</style>\n",
       "<table border=\"1\" class=\"dataframe\">\n",
       "  <thead>\n",
       "    <tr style=\"text-align: right;\">\n",
       "      <th></th>\n",
       "      <th>Day</th>\n",
       "      <th>MAG</th>\n",
       "      <th>Normalized_TAD</th>\n",
       "    </tr>\n",
       "  </thead>\n",
       "  <tbody>\n",
       "    <tr>\n",
       "      <th>0</th>\n",
       "      <td>22</td>\n",
       "      <td>13_1_001</td>\n",
       "      <td>0.009299</td>\n",
       "    </tr>\n",
       "    <tr>\n",
       "      <th>1</th>\n",
       "      <td>22</td>\n",
       "      <td>14_1_002</td>\n",
       "      <td>0.000569</td>\n",
       "    </tr>\n",
       "    <tr>\n",
       "      <th>2</th>\n",
       "      <td>22</td>\n",
       "      <td>14_1_003</td>\n",
       "      <td>0.000000</td>\n",
       "    </tr>\n",
       "    <tr>\n",
       "      <th>3</th>\n",
       "      <td>22</td>\n",
       "      <td>14_1_005</td>\n",
       "      <td>0.000000</td>\n",
       "    </tr>\n",
       "    <tr>\n",
       "      <th>4</th>\n",
       "      <td>22</td>\n",
       "      <td>14_4_005</td>\n",
       "      <td>0.001519</td>\n",
       "    </tr>\n",
       "  </tbody>\n",
       "</table>\n",
       "</div>"
      ],
      "text/plain": [
       "   Day       MAG  Normalized_TAD\n",
       "0   22  13_1_001        0.009299\n",
       "1   22  14_1_002        0.000569\n",
       "2   22  14_1_003        0.000000\n",
       "3   22  14_1_005        0.000000\n",
       "4   22  14_4_005        0.001519"
      ]
     },
     "execution_count": 219,
     "metadata": {},
     "output_type": "execute_result"
    }
   ],
   "source": [
    "df_for_kmeans = timeseries_df[['Day','MAG','Normalized_TAD']]\n",
    "df_for_kmeans.head()"
   ]
  },
  {
   "cell_type": "markdown",
   "metadata": {},
   "source": [
    "### 03b. Plot the time series to get a sense of magnitude and pattern of change over time"
   ]
  },
  {
   "cell_type": "code",
   "execution_count": 220,
   "metadata": {},
   "outputs": [
    {
     "data": {
      "text/plain": [
       "Text(0.5, 1.0, 'Normalized TADs Over Time')"
      ]
     },
     "execution_count": 220,
     "metadata": {},
     "output_type": "execute_result"
    },
    {
     "data": {
      "image/png": "[encoded data removed]",
      "text/plain": [
       "<Figure size 1152x432 with 1 Axes>"
      ]
     },
     "metadata": {},
     "output_type": "display_data"
    }
   ],
   "source": [
    "plt.figure(figsize=(16, 6))\n",
    "sns.lineplot(\n",
    "    x=\"Day\", y=\"Normalized_TAD\", units=\"MAG\", data=df_for_kmeans, estimator=None, legend=False)\n",
    "plt.xlim(min(df_for_kmeans.Day), max(df_for_kmeans.Day))\n",
    "plt.ylim(min(df_for_kmeans.Normalized_TAD), None)\n",
    "plt.title('Normalized TADs Over Time')"
   ]
  },
  {
   "cell_type": "markdown",
   "metadata": {},
   "source": [
    "## Looks like there might be some patterns in here, but differences in TAD magnitude make them hard to visualize. Let's see if we can cluster MAGs based on similar temporal trends  using the unsupervised K-means clustering method implemented in scikit-learn."
   ]
  },
  {
   "cell_type": "markdown",
   "metadata": {},
   "source": [
    "### 03c. Format data"
   ]
  },
  {
   "cell_type": "markdown",
   "metadata": {},
   "source": [
    "### Check for missing values, because they will be a problem for the transformation and clustering"
   ]
  },
  {
   "cell_type": "code",
   "execution_count": 221,
   "metadata": {},
   "outputs": [
    {
     "name": "stdout",
     "output_type": "stream",
     "text": [
      "Day               0\n",
      "MAG               0\n",
      "Normalized_TAD    0\n",
      "dtype: int64\n"
     ]
    }
   ],
   "source": [
    "print(df_for_kmeans.isna().sum())"
   ]
  },
  {
   "cell_type": "markdown",
   "metadata": {},
   "source": [
    "### Reshape the data frame so we can just work with the normalized TAD values (the \"features\")"
   ]
  },
  {
   "cell_type": "code",
   "execution_count": 222,
   "metadata": {},
   "outputs": [
    {
     "data": {
      "text/html": [
       "<div>\n",
       "<style scoped>\n",
       "    .dataframe tbody tr th:only-of-type {\n",
       "        vertical-align: middle;\n",
       "    }\n",
       "\n",
       "    .dataframe tbody tr th {\n",
       "        vertical-align: top;\n",
       "    }\n",
       "\n",
       "    .dataframe thead tr th {\n",
       "        text-align: left;\n",
       "    }\n",
       "\n",
       "    .dataframe thead tr:last-of-type th {\n",
       "        text-align: right;\n",
       "    }\n",
       "</style>\n",
       "<table border=\"1\" class=\"dataframe\">\n",
       "  <thead>\n",
       "    <tr>\n",
       "      <th></th>\n",
       "      <th colspan=\"6\" halign=\"left\">Normalized_TAD</th>\n",
       "    </tr>\n",
       "    <tr>\n",
       "      <th>Day</th>\n",
       "      <th>0</th>\n",
       "      <th>3</th>\n",
       "      <th>7</th>\n",
       "      <th>14</th>\n",
       "      <th>22</th>\n",
       "      <th>28</th>\n",
       "    </tr>\n",
       "    <tr>\n",
       "      <th>MAG</th>\n",
       "      <th></th>\n",
       "      <th></th>\n",
       "      <th></th>\n",
       "      <th></th>\n",
       "      <th></th>\n",
       "      <th></th>\n",
       "    </tr>\n",
       "  </thead>\n",
       "  <tbody>\n",
       "    <tr>\n",
       "      <th>13_1_001</th>\n",
       "      <td>0.018062</td>\n",
       "      <td>0.007402</td>\n",
       "      <td>0.016936</td>\n",
       "      <td>0.031634</td>\n",
       "      <td>0.009299</td>\n",
       "      <td>0.025807</td>\n",
       "    </tr>\n",
       "    <tr>\n",
       "      <th>14_1_002</th>\n",
       "      <td>0.000378</td>\n",
       "      <td>0.000153</td>\n",
       "      <td>0.001026</td>\n",
       "      <td>0.000837</td>\n",
       "      <td>0.000569</td>\n",
       "      <td>0.000845</td>\n",
       "    </tr>\n",
       "    <tr>\n",
       "      <th>14_1_003</th>\n",
       "      <td>0.000000</td>\n",
       "      <td>0.000000</td>\n",
       "      <td>0.000016</td>\n",
       "      <td>0.000000</td>\n",
       "      <td>0.000000</td>\n",
       "      <td>0.000000</td>\n",
       "    </tr>\n",
       "    <tr>\n",
       "      <th>14_1_005</th>\n",
       "      <td>0.000000</td>\n",
       "      <td>0.000000</td>\n",
       "      <td>0.000000</td>\n",
       "      <td>0.000000</td>\n",
       "      <td>0.000000</td>\n",
       "      <td>0.000000</td>\n",
       "    </tr>\n",
       "    <tr>\n",
       "      <th>14_4_005</th>\n",
       "      <td>0.005431</td>\n",
       "      <td>0.002688</td>\n",
       "      <td>0.006657</td>\n",
       "      <td>0.002239</td>\n",
       "      <td>0.001519</td>\n",
       "      <td>0.000725</td>\n",
       "    </tr>\n",
       "  </tbody>\n",
       "</table>\n",
       "</div>"
      ],
      "text/plain": [
       "         Normalized_TAD                                                  \n",
       "Day                  0         3         7         14        22        28\n",
       "MAG                                                                      \n",
       "13_1_001       0.018062  0.007402  0.016936  0.031634  0.009299  0.025807\n",
       "14_1_002       0.000378  0.000153  0.001026  0.000837  0.000569  0.000845\n",
       "14_1_003       0.000000  0.000000  0.000016  0.000000  0.000000  0.000000\n",
       "14_1_005       0.000000  0.000000  0.000000  0.000000  0.000000  0.000000\n",
       "14_4_005       0.005431  0.002688  0.006657  0.002239  0.001519  0.000725"
      ]
     },
     "execution_count": 222,
     "metadata": {},
     "output_type": "execute_result"
    }
   ],
   "source": [
    "df = df_for_kmeans.pivot(index='MAG', columns='Day')\n",
    "df.head()"
   ]
  },
  {
   "cell_type": "markdown",
   "metadata": {},
   "source": [
    "### Generate an array of the values and sanity check for numbers ('float64') if desired"
   ]
  },
  {
   "cell_type": "code",
   "execution_count": 223,
   "metadata": {},
   "outputs": [],
   "source": [
    "kmeans_array = df.values\n",
    "# print(kmeans_array.dtype)\n",
    "# print(kmeans_array)"
   ]
  },
  {
   "cell_type": "markdown",
   "metadata": {},
   "source": [
    "### 03d. Standardize the features using scikit-learn \"StandardScaler\" function, which standardizes values by removing the mean and scaling to unit variance, and define the target labels."
   ]
  },
  {
   "cell_type": "code",
   "execution_count": 224,
   "metadata": {},
   "outputs": [
    {
     "data": {
      "text/plain": [
       "array([[ 8.94072976e-01,  7.12438006e-02,  5.49688812e-01,\n",
       "         1.38382521e+00,  1.62598387e-01,  1.41149709e+00],\n",
       "       [-4.61749235e-01, -4.45317473e-01, -3.23371574e-01,\n",
       "        -3.85447178e-01, -4.25999281e-01, -4.10737257e-01],\n",
       "       [-4.90708807e-01, -4.56255344e-01, -3.78805787e-01,\n",
       "        -4.33539895e-01, -4.64342582e-01, -4.72438389e-01],\n",
       "       [-4.90708807e-01, -4.56255344e-01, -3.79665373e-01,\n",
       "        -4.33539895e-01, -4.64342582e-01, -4.72438389e-01],\n",
       "       [-7.43354721e-02, -2.64686639e-01, -1.43466387e-02,\n",
       "        -3.04914380e-01, -3.61911947e-01, -4.19494623e-01],\n",
       "       [-4.37244656e-01, -3.90198004e-01, -3.42965129e-01,\n",
       "        -4.19065262e-01, -4.32362884e-01, -4.51270851e-01],\n",
       "       [ 7.75123221e-01,  4.86973186e-01, -3.52217116e-02,\n",
       "        -4.68404010e-02,  3.56393568e-01, -1.46357627e-01],\n",
       "       [ 2.91763037e-01, -2.78775620e-01, -2.77993919e-01,\n",
       "        -1.66808046e-01, -2.95278917e-01, -2.97340219e-01],\n",
       "       [ 3.04922257e-01, -3.20369293e-01,  4.91407482e-02,\n",
       "        -2.97752108e-02, -3.13898229e-01,  1.19148501e+00],\n",
       "       [-1.06035288e-01, -3.16298112e-01, -1.39560322e-02,\n",
       "        -2.31212204e-01, -2.57962306e-01, -4.13379732e-01],\n",
       "       [ 2.20228999e+00,  2.30102431e+00,  7.15362551e-01,\n",
       "         5.95528596e-01,  8.79205479e-01,  6.87391922e-01],\n",
       "       [ 9.38026066e-01,  1.21536235e+00,  1.14410595e-01,\n",
       "         8.36112293e-01,  2.52826932e+00,  1.01112577e+00],\n",
       "       [ 1.16605360e+00,  1.06494125e+00, -7.33821822e-02,\n",
       "         1.23039782e+00,  8.49669516e-01,  2.93370577e-01],\n",
       "       [ 2.70038503e+00,  5.69272090e-01,  6.06160698e+00,\n",
       "         4.42885230e+00,  4.35141507e+00,  5.84595456e+00],\n",
       "       [-2.26040642e-01,  5.21779765e-01,  2.13831048e+00,\n",
       "        -2.06345358e-02,  2.65569363e-01, -1.84795311e-01],\n",
       "       [-8.86192581e-02,  1.96950687e-01,  2.04076883e-01,\n",
       "         3.11102364e-01, -2.36068354e-02,  2.62703073e-01],\n",
       "       [ 6.45983888e+00,  5.34786266e+00,  3.66124933e+00,\n",
       "         5.98779991e+00,  1.49775952e+00,  2.43491588e+00],\n",
       "       [ 1.04665974e+00,  4.53852180e+00,  8.29893348e-02,\n",
       "         2.35812803e-01,  5.25750700e+00,  1.52189743e-01],\n",
       "       [-2.15163023e-02,  7.13309711e-01, -4.35206925e-02,\n",
       "        -3.77110543e-01,  1.17056582e+00, -4.72438389e-01],\n",
       "       [-1.54474224e-01, -3.09516319e-01, -2.75013858e-01,\n",
       "        -2.52390058e-01,  2.27206129e-01, -2.50932198e-01],\n",
       "       [-4.90708807e-01, -4.56255344e-01, -3.79665373e-01,\n",
       "        -4.33539895e-01, -4.64342582e-01, -4.72438389e-01],\n",
       "       [-4.90708807e-01, -4.56255344e-01, -3.79665373e-01,\n",
       "        -4.33539895e-01, -4.64342582e-01, -4.72438389e-01],\n",
       "       [-4.90708807e-01, -4.56255344e-01, -3.79665373e-01,\n",
       "        -4.33539895e-01, -4.64342582e-01, -4.72438389e-01],\n",
       "       [-4.90708807e-01, -4.56255344e-01, -3.79665373e-01,\n",
       "        -4.33539895e-01, -4.64342582e-01, -4.72438389e-01],\n",
       "       [-4.90708807e-01, -4.56255344e-01, -3.79665373e-01,\n",
       "        -4.33539895e-01, -4.64342582e-01, -4.72438389e-01],\n",
       "       [-4.62689475e-01, -4.41746871e-01, -3.53158302e-01,\n",
       "        -4.01443374e-01, -4.51067051e-01, -4.54490589e-01],\n",
       "       [ 1.04743542e-01, -2.14891292e-01, -8.44580452e-02,\n",
       "        -1.51407342e-01, -2.24773283e-01, -1.70642918e-01],\n",
       "       [-4.03211824e-01, -4.27753586e-01, -3.33616134e-01,\n",
       "        -4.24476664e-01, -4.13145799e-01, -3.33692698e-01],\n",
       "       [-2.71052113e-01, -1.82188135e-01, -2.99339615e-01,\n",
       "        -1.79976231e-01, -3.31762261e-01, -3.11236097e-01],\n",
       "       [-1.71213437e-01, -1.74868849e-01, -3.16906807e-01,\n",
       "        -2.36811328e-02, -1.12504704e-01, -2.94903407e-01],\n",
       "       [-7.56103250e-02, -2.91955755e-01, -3.50028927e-01,\n",
       "        -3.37329317e-01, -3.51953423e-01, -3.63453890e-01],\n",
       "       [ 8.29730133e-02, -7.52334854e-02, -3.37896801e-01,\n",
       "         1.07014567e-01,  3.79021566e-01,  6.42017314e-03],\n",
       "       [-3.88025626e-01, -3.64642364e-01, -3.34475255e-01,\n",
       "        -3.77885511e-01, -4.16604284e-01, -4.25376941e-01],\n",
       "       [-1.72588097e-01, -2.71421750e-01, -3.73524117e-01,\n",
       "         8.63043426e-02,  2.66959079e-01, -2.62381248e-01],\n",
       "       [-1.30385336e-01, -3.35322494e-02, -1.89043129e-01,\n",
       "        -2.01987391e-02, -1.65129190e-01,  1.58949935e-01],\n",
       "       [-3.74234466e-01, -3.83864954e-01, -3.42380893e-01,\n",
       "        -3.83017897e-01, -4.19460736e-01, -4.40709521e-01],\n",
       "       [-4.90708807e-01, -4.53052344e-01, -3.79665373e-01,\n",
       "        -4.33539895e-01, -4.64342582e-01, -4.72387407e-01],\n",
       "       [-4.87803457e-01, -4.56255344e-01, -3.77936712e-01,\n",
       "        -4.30150620e-01, -4.64342582e-01, -4.61294381e-01],\n",
       "       [-4.90708807e-01, -4.56255344e-01, -3.79665373e-01,\n",
       "        -4.33539895e-01, -4.64342582e-01, -4.72438389e-01],\n",
       "       [-4.40735087e-01, -4.32714942e-01, -3.63004152e-01,\n",
       "        -3.75689227e-01, -3.99348660e-01, -3.17995274e-01],\n",
       "       [-4.80313120e-01, -4.43456542e-01, -3.79249700e-01,\n",
       "        -4.28702588e-01, -4.60247670e-01, -4.67295989e-01],\n",
       "       [-4.65675567e-01, -4.19990435e-01, -3.62458680e-01,\n",
       "        -4.30257469e-01, -4.54866197e-01, -4.70015727e-01],\n",
       "       [-1.73172677e-01, -3.21058813e-01, -3.15683307e-01,\n",
       "         7.03749382e-03, -3.60328400e-01, -3.66596986e-01],\n",
       "       [-9.28770184e-02, -2.46598923e-01,  5.32867202e-02,\n",
       "        -1.76349397e-01, -3.65983590e-01,  1.61878868e-02],\n",
       "       [-3.34565571e-01, -3.56377449e-01, -3.59126941e-01,\n",
       "        -3.93343999e-01, -4.22633039e-01, -3.27701688e-01],\n",
       "       [-4.72304007e-01, -3.84668949e-01, -3.79665373e-01,\n",
       "        -4.21136864e-01, -4.13382681e-01, -4.67861595e-01],\n",
       "       [-3.34564760e-01, -3.25556099e-01, -3.50062180e-01,\n",
       "        -3.52763116e-01, -3.83550035e-01, -4.17724723e-01],\n",
       "       [-3.51214451e-01, -3.42036490e-01, -3.64539712e-01,\n",
       "        -2.88590121e-01, -3.70657352e-01, -3.92764107e-01],\n",
       "       [ 6.38497873e-01,  9.61823941e-01, -2.35719731e-01,\n",
       "         1.96329679e-01,  5.40209416e-01,  2.46659200e-01],\n",
       "       [-3.11952266e-01, -3.90312410e-01, -2.69878692e-01,\n",
       "        -2.31603831e-01, -4.26382612e-01,  2.14624379e-01],\n",
       "       [-4.21096013e-01, -3.96424899e-01, -3.72329686e-01,\n",
       "        -4.24644121e-01, -3.31658601e-01, -4.26251148e-01],\n",
       "       [-1.98465310e-01, -1.47696447e-01, -3.62448942e-01,\n",
       "        -3.29078978e-01, -3.24955588e-01, -3.81660542e-01],\n",
       "       [-4.56254809e-01, -4.00548166e-01, -3.65010334e-01,\n",
       "        -4.18983089e-01, -4.26701322e-01, -4.64618585e-01],\n",
       "       [-3.27261117e-01, -3.10469716e-01, -3.02719867e-01,\n",
       "         3.01396666e-02, -1.15742526e-01, -2.63498608e-02],\n",
       "       [ 5.46544654e-01,  3.23351267e-01,  6.46560019e-01,\n",
       "         4.56281091e-01,  2.44921661e-01,  3.62865999e+00],\n",
       "       [ 6.94313349e-02, -1.16382442e-01, -5.51381802e-02,\n",
       "         5.57289086e-01, -2.02491546e-01,  6.27520147e-01],\n",
       "       [-3.83240095e-01,  4.52892402e-01,  2.30564615e+00,\n",
       "         1.79644003e-01,  4.04430632e-01,  4.47267461e-01],\n",
       "       [-4.90708807e-01, -4.56255344e-01, -3.79665373e-01,\n",
       "        -4.33539895e-01, -4.64342582e-01, -4.72438389e-01],\n",
       "       [-3.98883731e-01, -4.08024973e-01, -1.82960978e-01,\n",
       "        -2.27144989e-01, -4.35098804e-01, -4.36100182e-02],\n",
       "       [-3.11886227e-01, -3.94357166e-01, -2.74440767e-01,\n",
       "        -2.43338184e-01, -4.12885458e-01,  1.85241506e-01],\n",
       "       [-3.16425176e-01, -3.48240017e-01, -3.53472879e-01,\n",
       "        -2.09596807e-01, -3.48821645e-01, -2.16040237e-01],\n",
       "       [-4.90708807e-01, -4.56255344e-01, -3.79665373e-01,\n",
       "        -4.33539895e-01, -4.64342582e-01, -4.72438389e-01],\n",
       "       [-4.90708807e-01, -4.56255344e-01, -3.79665373e-01,\n",
       "        -4.33539895e-01, -4.64342582e-01, -4.72438389e-01],\n",
       "       [-2.53637972e-01, -3.27837993e-01, -1.85713291e-01,\n",
       "        -3.37329089e-01, -3.89421572e-01, -4.26488162e-01],\n",
       "       [-3.21018391e-01, -2.25108015e-01, -3.41713104e-01,\n",
       "        -3.07596186e-01, -3.73984380e-01, -4.30175298e-01],\n",
       "       [-4.90708807e-01, -4.56255344e-01, -3.79665373e-01,\n",
       "        -4.33539895e-01, -4.64342582e-01, -4.72438389e-01],\n",
       "       [-4.89738135e-01, -4.55815770e-01, -3.79665373e-01,\n",
       "        -4.33539895e-01, -4.64342582e-01, -4.72438389e-01]])"
      ]
     },
     "execution_count": 224,
     "metadata": {},
     "output_type": "execute_result"
    }
   ],
   "source": [
    "x = StandardScaler().fit_transform(kmeans_array)\n",
    "x"
   ]
  },
  {
   "cell_type": "markdown",
   "metadata": {},
   "source": [
    "### Define the targets as the MAGs"
   ]
  },
  {
   "cell_type": "code",
   "execution_count": 225,
   "metadata": {},
   "outputs": [],
   "source": [
    "y = pd.Series(df.index)"
   ]
  },
  {
   "cell_type": "markdown",
   "metadata": {},
   "source": [
    "# 04. Principal Components Analysis and K-means clustering"
   ]
  },
  {
   "cell_type": "markdown",
   "metadata": {},
   "source": [
    "### 04a. First generate a PCA to reduce dimensionality"
   ]
  },
  {
   "cell_type": "code",
   "execution_count": 226,
   "metadata": {},
   "outputs": [],
   "source": [
    "pca = PCA(n_components=2)\n",
    "principalComponents = pca.fit_transform(x)"
   ]
  },
  {
   "cell_type": "code",
   "execution_count": 227,
   "metadata": {},
   "outputs": [],
   "source": [
    "principalDf = pd.DataFrame(data = principalComponents\n",
    "             , columns = ['principal component 1', 'principal component 2'])"
   ]
  },
  {
   "cell_type": "code",
   "execution_count": 228,
   "metadata": {},
   "outputs": [
    {
     "data": {
      "text/html": [
       "<div>\n",
       "<style scoped>\n",
       "    .dataframe tbody tr th:only-of-type {\n",
       "        vertical-align: middle;\n",
       "    }\n",
       "\n",
       "    .dataframe tbody tr th {\n",
       "        vertical-align: top;\n",
       "    }\n",
       "\n",
       "    .dataframe thead th {\n",
       "        text-align: right;\n",
       "    }\n",
       "</style>\n",
       "<table border=\"1\" class=\"dataframe\">\n",
       "  <thead>\n",
       "    <tr style=\"text-align: right;\">\n",
       "      <th></th>\n",
       "      <th>principal component 1</th>\n",
       "      <th>principal component 2</th>\n",
       "      <th>MAG</th>\n",
       "    </tr>\n",
       "  </thead>\n",
       "  <tbody>\n",
       "    <tr>\n",
       "      <th>0</th>\n",
       "      <td>1.879665</td>\n",
       "      <td>-0.902160</td>\n",
       "      <td>13_1_001</td>\n",
       "    </tr>\n",
       "    <tr>\n",
       "      <th>1</th>\n",
       "      <td>-0.997884</td>\n",
       "      <td>-0.099338</td>\n",
       "      <td>14_1_002</td>\n",
       "    </tr>\n",
       "    <tr>\n",
       "      <th>2</th>\n",
       "      <td>-1.097659</td>\n",
       "      <td>-0.061880</td>\n",
       "      <td>14_1_003</td>\n",
       "    </tr>\n",
       "    <tr>\n",
       "      <th>3</th>\n",
       "      <td>-1.098012</td>\n",
       "      <td>-0.061520</td>\n",
       "      <td>14_1_005</td>\n",
       "    </tr>\n",
       "    <tr>\n",
       "      <th>4</th>\n",
       "      <td>-0.576587</td>\n",
       "      <td>-0.035719</td>\n",
       "      <td>14_4_005</td>\n",
       "    </tr>\n",
       "  </tbody>\n",
       "</table>\n",
       "</div>"
      ],
      "text/plain": [
       "   principal component 1  principal component 2       MAG\n",
       "0               1.879665              -0.902160  13_1_001\n",
       "1              -0.997884              -0.099338  14_1_002\n",
       "2              -1.097659              -0.061880  14_1_003\n",
       "3              -1.098012              -0.061520  14_1_005\n",
       "4              -0.576587              -0.035719  14_4_005"
      ]
     },
     "execution_count": 228,
     "metadata": {},
     "output_type": "execute_result"
    }
   ],
   "source": [
    "finalDf = pd.concat([principalDf, y], axis = 1)\n",
    "finalDf.head(5)"
   ]
  },
  {
   "cell_type": "markdown",
   "metadata": {},
   "source": [
    "### Visualize the contribution of each principal component to total variance"
   ]
  },
  {
   "cell_type": "code",
   "execution_count": 229,
   "metadata": {},
   "outputs": [
    {
     "data": {
      "text/plain": [
       "([<matplotlib.axis.XTick at 0x7fbe7f1cc780>,\n",
       "  <matplotlib.axis.XTick at 0x7fbe7f16d208>],\n",
       " <a list of 2 Text xticklabel objects>)"
      ]
     },
     "execution_count": 229,
     "metadata": {},
     "output_type": "execute_result"
    },
    {
     "data": {
      "image/png": "[encoded data removed]",
      "text/plain": [
       "<Figure size 432x288 with 1 Axes>"
      ]
     },
     "metadata": {},
     "output_type": "display_data"
    }
   ],
   "source": [
    "features = range(pca.n_components_)\n",
    "plt.bar(features, pca.explained_variance_ratio_, color='black')\n",
    "plt.xlabel('PCA features')\n",
    "plt.ylabel('variance %')\n",
    "plt.xticks(features)"
   ]
  },
  {
   "cell_type": "markdown",
   "metadata": {},
   "source": [
    "### Plot PCA where each point is a MAG"
   ]
  },
  {
   "cell_type": "code",
   "execution_count": 230,
   "metadata": {},
   "outputs": [
    {
     "data": {
      "text/plain": [
       "Text(0, 0.5, 'PCA 2')"
      ]
     },
     "execution_count": 230,
     "metadata": {},
     "output_type": "execute_result"
    },
    {
     "data": {
      "image/png": "[encoded data removed]",
      "text/plain": [
       "<Figure size 432x288 with 1 Axes>"
      ]
     },
     "metadata": {},
     "output_type": "display_data"
    }
   ],
   "source": [
    "PCA_components = pd.DataFrame(principalComponents)\n",
    "plt.scatter(PCA_components[0], PCA_components[1], alpha=.1, color='black')\n",
    "plt.xlabel('PCA 1')\n",
    "plt.ylabel('PCA 2')"
   ]
  },
  {
   "cell_type": "markdown",
   "metadata": {},
   "source": [
    "## 04b. K-means clustering"
   ]
  },
  {
   "cell_type": "markdown",
   "metadata": {},
   "source": [
    "### Determine levels of inertia as a function of cluster number"
   ]
  },
  {
   "cell_type": "code",
   "execution_count": 231,
   "metadata": {},
   "outputs": [],
   "source": [
    "ks = range(1, 10)\n",
    "inertias = []\n",
    "for k in ks:\n",
    "    # Create a KMeans instance with k clusters: model\n",
    "    model = KMeans(n_clusters=k)\n",
    "    \n",
    "    # Fit model to samples\n",
    "    model.fit(PCA_components.iloc[:,:3])\n",
    "    \n",
    "    # Append the inertia to the list of inertias\n",
    "    inertias.append(model.inertia_)"
   ]
  },
  {
   "cell_type": "code",
   "execution_count": 232,
   "metadata": {},
   "outputs": [
    {
     "data": {
      "text/plain": [
       "[350.34640542612715,\n",
       " 133.2579511492458,\n",
       " 67.12397429798082,\n",
       " 42.517500459000814,\n",
       " 28.335125723037308,\n",
       " 17.426266962199804,\n",
       " 10.601480151337611,\n",
       " 7.413672741415341,\n",
       " 4.511421154337272]"
      ]
     },
     "execution_count": 232,
     "metadata": {},
     "output_type": "execute_result"
    }
   ],
   "source": [
    "inertias"
   ]
  },
  {
   "cell_type": "markdown",
   "metadata": {},
   "source": [
    "### Determine how many clusters are most informative. Once the line starts to level out, more clusters become less useful."
   ]
  },
  {
   "cell_type": "code",
   "execution_count": 233,
   "metadata": {},
   "outputs": [
    {
     "data": {
      "image/png": "[encoded data removed]",
      "text/plain": [
       "<Figure size 432x288 with 1 Axes>"
      ]
     },
     "metadata": {},
     "output_type": "display_data"
    }
   ],
   "source": [
    "plt.plot(ks, inertias, '-o', color='black')\n",
    "plt.xlabel('number of clusters, k')\n",
    "plt.ylabel('inertia')\n",
    "plt.xticks(ks)\n",
    "plt.show()"
   ]
  },
  {
   "cell_type": "markdown",
   "metadata": {},
   "source": [
    "### Initialize k-means using ideal number of clusters. I decided to use 6 clusters in this case."
   ]
  },
  {
   "cell_type": "code",
   "execution_count": 234,
   "metadata": {},
   "outputs": [
    {
     "data": {
      "text/plain": [
       "KMeans(algorithm='auto', copy_x=True, init='k-means++', max_iter=300,\n",
       "       n_clusters=6, n_init=10, n_jobs=None, precompute_distances='auto',\n",
       "       random_state=None, tol=0.0001, verbose=0)"
      ]
     },
     "execution_count": 234,
     "metadata": {},
     "output_type": "execute_result"
    }
   ],
   "source": [
    "kmeans = KMeans(n_clusters=6)\n",
    "kmeans.fit(principalDf)"
   ]
  },
  {
   "cell_type": "markdown",
   "metadata": {},
   "source": [
    "### Determine the centroids of each cluster"
   ]
  },
  {
   "cell_type": "code",
   "execution_count": 235,
   "metadata": {},
   "outputs": [
    {
     "data": {
      "text/plain": [
       "array([[-0.81853918, -0.04825301],\n",
       "       [10.55821541,  1.3548933 ],\n",
       "       [ 4.35423608,  4.63376339],\n",
       "       [ 1.55559309,  0.99094764],\n",
       "       [ 9.80070917, -3.94923207],\n",
       "       [ 1.09982558, -0.78917244]])"
      ]
     },
     "execution_count": 235,
     "metadata": {},
     "output_type": "execute_result"
    }
   ],
   "source": [
    "labels = kmeans.predict(principalDf)\n",
    "centroids = kmeans.cluster_centers_\n",
    "centroids"
   ]
  },
  {
   "cell_type": "markdown",
   "metadata": {},
   "source": [
    "### Plot the clusters with the centroids marked by (*)"
   ]
  },
  {
   "cell_type": "code",
   "execution_count": 236,
   "metadata": {},
   "outputs": [
    {
     "data": {
      "text/plain": [
       "Text(0.5, 1.0, '15 MAG K-means')"
      ]
     },
     "execution_count": 236,
     "metadata": {},
     "output_type": "execute_result"
    },
    {
     "data": {
      "image/png": "[encoded data removed]",
      "text/plain": [
       "<Figure size 720x432 with 1 Axes>"
      ]
     },
     "metadata": {},
     "output_type": "display_data"
    }
   ],
   "source": [
    "plt.figure(figsize=(10, 6))\n",
    "sns.set_style(\"white\")\n",
    "sns.scatterplot(finalDf.iloc[:, 0], finalDf.iloc[:, 1], s=100, color=\"forestgreen\")\n",
    "sns.scatterplot(centroids[ :, 0], centroids[ :, 1], marker='*', s=200, color=\"black\")\n",
    "plt.title('15 MAG K-means')"
   ]
  },
  {
   "cell_type": "markdown",
   "metadata": {},
   "source": [
    "## Looks like there aren't really distinct clusters of MAGs based on similar time series values. However, there are some individual MAGs that are differentiated from most of the others. It might be worth scaling or standardizing the data in a different way. For now, we can still extract the centroid points as they might be useful for identifying those three outlier MAGs. "
   ]
  },
  {
   "cell_type": "markdown",
   "metadata": {},
   "source": [
    "### Extract points of each cluster"
   ]
  },
  {
   "cell_type": "code",
   "execution_count": 237,
   "metadata": {},
   "outputs": [
    {
     "data": {
      "text/plain": [
       "array([5, 0, 0, 0, 0, 0, 3, 0, 5, 0, 3, 3, 3, 4, 5, 5, 1, 2, 3, 0, 0, 0,\n",
       "       0, 0, 0, 0, 0, 0, 0, 0, 0, 0, 0, 0, 0, 0, 0, 0, 0, 0, 0, 0, 0, 0,\n",
       "       0, 0, 0, 0, 3, 0, 0, 0, 0, 0, 5, 5, 5, 0, 0, 0, 0, 0, 0, 0, 0, 0,\n",
       "       0], dtype=int32)"
      ]
     },
     "execution_count": 237,
     "metadata": {},
     "output_type": "execute_result"
    }
   ],
   "source": [
    "#Labels of each point\n",
    "kmeans.labels_"
   ]
  },
  {
   "cell_type": "markdown",
   "metadata": {},
   "source": [
    "### Get the indices of the points for each corresponding cluster"
   ]
  },
  {
   "cell_type": "code",
   "execution_count": 238,
   "metadata": {},
   "outputs": [
    {
     "data": {
      "text/plain": [
       "{0: array([ 1,  2,  3,  4,  5,  7,  9, 19, 20, 21, 22, 23, 24, 25, 26, 27, 28,\n",
       "        29, 30, 31, 32, 33, 34, 35, 36, 37, 38, 39, 40, 41, 42, 43, 44, 45,\n",
       "        46, 47, 49, 50, 51, 52, 53, 57, 58, 59, 60, 61, 62, 63, 64, 65, 66]),\n",
       " 1: array([16]),\n",
       " 2: array([17]),\n",
       " 3: array([ 6, 10, 11, 12, 18, 48]),\n",
       " 4: array([13]),\n",
       " 5: array([ 0,  8, 14, 15, 54, 55, 56])}"
      ]
     },
     "execution_count": 238,
     "metadata": {},
     "output_type": "execute_result"
    }
   ],
   "source": [
    "points = {i: np.where(kmeans.labels_ == i)[0] for i in range(kmeans.n_clusters)}\n",
    "points"
   ]
  },
  {
   "cell_type": "markdown",
   "metadata": {},
   "source": [
    "### Save cluster lists"
   ]
  },
  {
   "cell_type": "code",
   "execution_count": 115,
   "metadata": {},
   "outputs": [],
   "source": [
    "# pd.DataFrame.from_dict(data=points, orient='index').to_csv('15-kmeans-cluster-6.csv', header=False)"
   ]
  },
  {
   "cell_type": "markdown",
   "metadata": {},
   "source": [
    "### If you got this far, thank you! Please let me know if you have any questions, and keep your eyes one for a study using this script to analyze human gut microbiomes infected with Norovirus."
   ]
  }
 ],
 "metadata": {
  "kernelspec": {
   "display_name": "Python 3",
   "language": "python",
   "name": "python3"
  },
  "language_info": {
   "codemirror_mode": {
    "name": "ipython",
    "version": 3
   },
   "file_extension": ".py",
   "mimetype": "text/x-python",
   "name": "python",
   "nbconvert_exporter": "python",
   "pygments_lexer": "ipython3",
   "version": "3.8.3"
  }
 },
 "nbformat": 4,
 "nbformat_minor": 2
}
