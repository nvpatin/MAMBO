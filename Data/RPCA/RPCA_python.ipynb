{
 "cells": [
  {
   "cell_type": "markdown",
   "id": "0d38fd73-8074-4e86-b910-abf160ae5831",
   "metadata": {
    "tags": []
   },
   "source": [
    "# Run DEICODE/Gemelli Robust PCA (RPCA) in python instead of R"
   ]
  },
  {
   "cell_type": "markdown",
   "id": "9e40be43-be0c-40e0-b6fc-d7db5ee45c7a",
   "metadata": {},
   "source": [
    "source: https://github.com/biocore/gemelli/blob/master/ipynb/tutorials/RPCA-moving-pictures-standalone-cli-and-api.ipynb"
   ]
  },
  {
   "cell_type": "markdown",
   "id": "10cb7632-e12a-4be1-91be-a7786bd84424",
   "metadata": {},
   "source": [
    "## Run if need to install:"
   ]
  },
  {
   "cell_type": "code",
   "execution_count": 3,
   "id": "b50d4ef3-c1a6-4bf4-a36b-3f2051ef2b57",
   "metadata": {
    "collapsed": true,
    "jupyter": {
     "outputs_hidden": true
    },
    "tags": []
   },
   "outputs": [
    {
     "name": "stdout",
     "output_type": "stream",
     "text": [
      "Collecting gemelli\n",
      "  Downloading gemelli-0.0.8-py3-none-any.whl (74 kB)\n",
      "\u001b[K     |████████████████████████████████| 74 kB 2.2 MB/s eta 0:00:01\n",
      "\u001b[?25hRequirement already satisfied: click in /Users/kpitz/opt/miniconda3/lib/python3.8/site-packages (from gemelli) (8.0.4)\n",
      "Requirement already satisfied: scipy>=0.19.1 in /Users/kpitz/opt/miniconda3/lib/python3.8/site-packages (from gemelli) (1.10.0)\n",
      "Requirement already satisfied: nose>=1.3.7 in /Users/kpitz/opt/miniconda3/lib/python3.8/site-packages (from gemelli) (1.3.7)\n",
      "Collecting biom-format\n",
      "  Downloading biom-format-2.1.14.tar.gz (11.7 MB)\n",
      "\u001b[K     |████████████████████████████████| 11.7 MB 5.9 MB/s eta 0:00:01\n",
      "\u001b[?25h  Installing build dependencies ... \u001b[?25ldone\n",
      "\u001b[?25h  Getting requirements to build wheel ... \u001b[?25ldone\n",
      "\u001b[?25h    Preparing wheel metadata ... \u001b[?25ldone\n",
      "\u001b[?25hCollecting tax2tree\n",
      "  Downloading tax2tree-1.1.tar.gz (25 kB)\n",
      "Requirement already satisfied: numpy>=1.12.1 in /Users/kpitz/opt/miniconda3/lib/python3.8/site-packages (from gemelli) (1.23.5)\n",
      "Requirement already satisfied: scikit-bio>0.5.3 in /Users/kpitz/opt/miniconda3/lib/python3.8/site-packages (from gemelli) (0.5.6)\n",
      "Collecting iow\n",
      "  Downloading iow-1.0.6.tar.gz (941 kB)\n",
      "\u001b[K     |████████████████████████████████| 941 kB 12.6 MB/s eta 0:00:01\n",
      "\u001b[?25hRequirement already satisfied: pandas>=0.10.0 in /Users/kpitz/opt/miniconda3/lib/python3.8/site-packages (from gemelli) (1.5.2)\n",
      "Requirement already satisfied: scikit-learn>=0.18.1 in /Users/kpitz/opt/miniconda3/lib/python3.8/site-packages (from gemelli) (1.2.0)\n",
      "Requirement already satisfied: h5py in /Users/kpitz/opt/miniconda3/lib/python3.8/site-packages (from gemelli) (2.10.0)\n",
      "Requirement already satisfied: python-dateutil>=2.8.1 in /Users/kpitz/opt/miniconda3/lib/python3.8/site-packages (from pandas>=0.10.0->gemelli) (2.8.2)\n",
      "Requirement already satisfied: pytz>=2020.1 in /Users/kpitz/opt/miniconda3/lib/python3.8/site-packages (from pandas>=0.10.0->gemelli) (2022.7)\n",
      "Requirement already satisfied: six>=1.5 in /Users/kpitz/opt/miniconda3/lib/python3.8/site-packages (from python-dateutil>=2.8.1->pandas>=0.10.0->gemelli) (1.16.0)\n",
      "Requirement already satisfied: natsort>=4.0.3 in /Users/kpitz/opt/miniconda3/lib/python3.8/site-packages (from scikit-bio>0.5.3->gemelli) (7.1.1)\n",
      "Requirement already satisfied: matplotlib>=1.4.3 in /Users/kpitz/opt/miniconda3/lib/python3.8/site-packages (from scikit-bio>0.5.3->gemelli) (3.6.2)\n",
      "Requirement already satisfied: hdmedians>=0.13 in /Users/kpitz/opt/miniconda3/lib/python3.8/site-packages (from scikit-bio>0.5.3->gemelli) (0.14.2)\n",
      "Requirement already satisfied: CacheControl>=0.11.5 in /Users/kpitz/opt/miniconda3/lib/python3.8/site-packages (from scikit-bio>0.5.3->gemelli) (0.12.11)\n",
      "Requirement already satisfied: lockfile>=0.10.2 in /Users/kpitz/opt/miniconda3/lib/python3.8/site-packages (from scikit-bio>0.5.3->gemelli) (0.12.2)\n",
      "Requirement already satisfied: IPython>=3.2.0 in /Users/kpitz/opt/miniconda3/lib/python3.8/site-packages (from scikit-bio>0.5.3->gemelli) (8.8.0)\n",
      "Requirement already satisfied: decorator>=3.4.2 in /Users/kpitz/opt/miniconda3/lib/python3.8/site-packages (from scikit-bio>0.5.3->gemelli) (5.1.1)\n",
      "Requirement already satisfied: msgpack>=0.5.2 in /Users/kpitz/opt/miniconda3/lib/python3.8/site-packages (from CacheControl>=0.11.5->scikit-bio>0.5.3->gemelli) (1.0.3)\n",
      "Requirement already satisfied: requests in /Users/kpitz/opt/miniconda3/lib/python3.8/site-packages (from CacheControl>=0.11.5->scikit-bio>0.5.3->gemelli) (2.28.1)\n",
      "Requirement already satisfied: Cython>=0.23 in /Users/kpitz/opt/miniconda3/lib/python3.8/site-packages (from hdmedians>=0.13->scikit-bio>0.5.3->gemelli) (0.29.32)\n",
      "Requirement already satisfied: matplotlib-inline in /Users/kpitz/opt/miniconda3/lib/python3.8/site-packages (from IPython>=3.2.0->scikit-bio>0.5.3->gemelli) (0.1.6)\n",
      "Requirement already satisfied: backcall in /Users/kpitz/opt/miniconda3/lib/python3.8/site-packages (from IPython>=3.2.0->scikit-bio>0.5.3->gemelli) (0.2.0)\n",
      "Requirement already satisfied: appnope in /Users/kpitz/opt/miniconda3/lib/python3.8/site-packages (from IPython>=3.2.0->scikit-bio>0.5.3->gemelli) (0.1.2)\n",
      "Requirement already satisfied: prompt-toolkit<3.1.0,>=3.0.11 in /Users/kpitz/opt/miniconda3/lib/python3.8/site-packages (from IPython>=3.2.0->scikit-bio>0.5.3->gemelli) (3.0.36)\n",
      "Requirement already satisfied: jedi>=0.16 in /Users/kpitz/opt/miniconda3/lib/python3.8/site-packages (from IPython>=3.2.0->scikit-bio>0.5.3->gemelli) (0.17.0)\n",
      "Requirement already satisfied: pexpect>4.3 in /Users/kpitz/opt/miniconda3/lib/python3.8/site-packages (from IPython>=3.2.0->scikit-bio>0.5.3->gemelli) (4.8.0)\n",
      "Requirement already satisfied: pygments>=2.4.0 in /Users/kpitz/opt/miniconda3/lib/python3.8/site-packages (from IPython>=3.2.0->scikit-bio>0.5.3->gemelli) (2.11.2)\n",
      "Requirement already satisfied: stack-data in /Users/kpitz/opt/miniconda3/lib/python3.8/site-packages (from IPython>=3.2.0->scikit-bio>0.5.3->gemelli) (0.2.0)\n",
      "Requirement already satisfied: pickleshare in /Users/kpitz/opt/miniconda3/lib/python3.8/site-packages (from IPython>=3.2.0->scikit-bio>0.5.3->gemelli) (0.7.5)\n",
      "Requirement already satisfied: traitlets>=5 in /Users/kpitz/opt/miniconda3/lib/python3.8/site-packages (from IPython>=3.2.0->scikit-bio>0.5.3->gemelli) (5.7.1)\n",
      "Requirement already satisfied: parso>=0.7.0 in /Users/kpitz/opt/miniconda3/lib/python3.8/site-packages (from jedi>=0.16->IPython>=3.2.0->scikit-bio>0.5.3->gemelli) (0.8.3)\n",
      "Requirement already satisfied: pyparsing>=2.2.1 in /Users/kpitz/opt/miniconda3/lib/python3.8/site-packages (from matplotlib>=1.4.3->scikit-bio>0.5.3->gemelli) (3.0.9)\n",
      "Requirement already satisfied: cycler>=0.10 in /Users/kpitz/opt/miniconda3/lib/python3.8/site-packages (from matplotlib>=1.4.3->scikit-bio>0.5.3->gemelli) (0.11.0)\n",
      "Requirement already satisfied: packaging>=20.0 in /Users/kpitz/opt/miniconda3/lib/python3.8/site-packages (from matplotlib>=1.4.3->scikit-bio>0.5.3->gemelli) (22.0)\n",
      "Requirement already satisfied: fonttools>=4.22.0 in /Users/kpitz/opt/miniconda3/lib/python3.8/site-packages (from matplotlib>=1.4.3->scikit-bio>0.5.3->gemelli) (4.38.0)\n",
      "Requirement already satisfied: contourpy>=1.0.1 in /Users/kpitz/opt/miniconda3/lib/python3.8/site-packages (from matplotlib>=1.4.3->scikit-bio>0.5.3->gemelli) (1.0.6)\n",
      "Requirement already satisfied: kiwisolver>=1.0.1 in /Users/kpitz/opt/miniconda3/lib/python3.8/site-packages (from matplotlib>=1.4.3->scikit-bio>0.5.3->gemelli) (1.4.4)\n",
      "Requirement already satisfied: pillow>=6.2.0 in /Users/kpitz/opt/miniconda3/lib/python3.8/site-packages (from matplotlib>=1.4.3->scikit-bio>0.5.3->gemelli) (8.3.1)\n",
      "Requirement already satisfied: ptyprocess>=0.5 in /Users/kpitz/opt/miniconda3/lib/python3.8/site-packages (from pexpect>4.3->IPython>=3.2.0->scikit-bio>0.5.3->gemelli) (0.7.0)\n",
      "Requirement already satisfied: wcwidth in /Users/kpitz/opt/miniconda3/lib/python3.8/site-packages (from prompt-toolkit<3.1.0,>=3.0.11->IPython>=3.2.0->scikit-bio>0.5.3->gemelli) (0.2.5)\n",
      "Requirement already satisfied: joblib>=1.1.1 in /Users/kpitz/opt/miniconda3/lib/python3.8/site-packages (from scikit-learn>=0.18.1->gemelli) (1.1.1)\n",
      "Requirement already satisfied: threadpoolctl>=2.0.0 in /Users/kpitz/opt/miniconda3/lib/python3.8/site-packages (from scikit-learn>=0.18.1->gemelli) (2.2.0)\n",
      "Requirement already satisfied: idna<4,>=2.5 in /Users/kpitz/opt/miniconda3/lib/python3.8/site-packages (from requests->CacheControl>=0.11.5->scikit-bio>0.5.3->gemelli) (3.4)\n",
      "Requirement already satisfied: certifi>=2017.4.17 in /Users/kpitz/opt/miniconda3/lib/python3.8/site-packages (from requests->CacheControl>=0.11.5->scikit-bio>0.5.3->gemelli) (2022.12.7)\n",
      "Requirement already satisfied: urllib3<1.27,>=1.21.1 in /Users/kpitz/opt/miniconda3/lib/python3.8/site-packages (from requests->CacheControl>=0.11.5->scikit-bio>0.5.3->gemelli) (1.26.14)\n",
      "Requirement already satisfied: charset-normalizer<3,>=2 in /Users/kpitz/opt/miniconda3/lib/python3.8/site-packages (from requests->CacheControl>=0.11.5->scikit-bio>0.5.3->gemelli) (2.0.4)\n",
      "Requirement already satisfied: executing in /Users/kpitz/opt/miniconda3/lib/python3.8/site-packages (from stack-data->IPython>=3.2.0->scikit-bio>0.5.3->gemelli) (0.8.3)\n",
      "Requirement already satisfied: asttokens in /Users/kpitz/opt/miniconda3/lib/python3.8/site-packages (from stack-data->IPython>=3.2.0->scikit-bio>0.5.3->gemelli) (2.0.5)\n",
      "Requirement already satisfied: pure-eval in /Users/kpitz/opt/miniconda3/lib/python3.8/site-packages (from stack-data->IPython>=3.2.0->scikit-bio>0.5.3->gemelli) (0.2.2)\n",
      "Requirement already satisfied: future>=0.13.1 in /Users/kpitz/opt/miniconda3/lib/python3.8/site-packages (from tax2tree->gemelli) (0.18.2)\n",
      "Building wheels for collected packages: biom-format, iow, tax2tree\n",
      "  Building wheel for biom-format (PEP 517) ... \u001b[?25ldone\n",
      "\u001b[?25h  Created wheel for biom-format: filename=biom_format-2.1.14-cp38-cp38-macosx_10_9_x86_64.whl size=11739420 sha256=b05f09e371d4dc1003b5b2e24e85c1bfeaab0a47c5208d31c5fe9dd6743da74c\n",
      "  Stored in directory: /Users/kpitz/Library/Caches/pip/wheels/e0/7d/69/7abe2636fe2544a6d2f87aadc01a223d8f6a1e316270acdb11\n",
      "  Building wheel for iow (setup.py) ... \u001b[?25ldone\n",
      "\u001b[?25h  Created wheel for iow: filename=iow-1.0.6-cp38-cp38-macosx_10_9_x86_64.whl size=707627 sha256=034d3524c786a42bd646c461fdc97c1abbcac79b9d10bc7c098ebf8be97eff4d\n",
      "  Stored in directory: /Users/kpitz/Library/Caches/pip/wheels/a3/a5/b6/a830d50d5077c0e34c3e7602f995ab94d3917ec8f17a1a1282\n",
      "  Building wheel for tax2tree (setup.py) ... \u001b[?25ldone\n",
      "\u001b[?25h  Created wheel for tax2tree: filename=tax2tree-1.1-py3-none-any.whl size=27770 sha256=183ebf27e8ac4f88d0dd041806b05e869ea3958d82da012ecc8c26cc9edb6b61\n",
      "  Stored in directory: /Users/kpitz/Library/Caches/pip/wheels/d2/3d/d0/2c19ab9b0f76772ea301680d0a81b257e43bddfb408e56b823\n",
      "Successfully built biom-format iow tax2tree\n",
      "Installing collected packages: iow, tax2tree, biom-format, gemelli\n",
      "Successfully installed biom-format-2.1.14 gemelli-0.0.8 iow-1.0.6 tax2tree-1.1\n"
     ]
    }
   ],
   "source": [
    "# !pip install gemelli"
   ]
  },
  {
   "cell_type": "code",
   "execution_count": 4,
   "id": "cb6e2c76-eb81-4e87-8cfe-8dbfd92db255",
   "metadata": {},
   "outputs": [],
   "source": [
    "from biom import load_table\n",
    "from gemelli.rpca import auto_rpca"
   ]
  },
  {
   "cell_type": "code",
   "execution_count": 5,
   "id": "a7f879fb-773b-4975-a284-988db911fe89",
   "metadata": {},
   "outputs": [
    {
     "name": "stderr",
     "output_type": "stream",
     "text": [
      "/Users/kpitz/opt/miniconda3/lib/python3.8/site-packages/gemelli/preprocessing.py:418: RuntimeWarning: divide by zero encountered in log\n",
      "  mat = np.log(matrix_closure(mat))\n"
     ]
    },
    {
     "name": "stdout",
     "output_type": "stream",
     "text": [
      "Estimated rank is 3\n"
     ]
    }
   ],
   "source": [
    "# import the data table, for now a test table from DEICODE analysis R script\n",
    "table = load_table('/Users/kpitz/github/NOAA-NCAR-Hackathon/Qiime_Results/COI/table.w_md.biom')\n",
    "# perform RPCA with auto. rank estimation\n",
    "ordination, distance = auto_rpca(table)"
   ]
  },
  {
   "cell_type": "code",
   "execution_count": 29,
   "id": "fb776a5a-798b-4915-a321-5f31318e8596",
   "metadata": {},
   "outputs": [
    {
     "name": "stdout",
     "output_type": "stream",
     "text": [
      "['CN18F' 'CN18S' 'Lasker18']\n"
     ]
    },
    {
     "data": {
      "text/html": [
       "<div>\n",
       "<style scoped>\n",
       "    .dataframe tbody tr th:only-of-type {\n",
       "        vertical-align: middle;\n",
       "    }\n",
       "\n",
       "    .dataframe tbody tr th {\n",
       "        vertical-align: top;\n",
       "    }\n",
       "\n",
       "    .dataframe thead th {\n",
       "        text-align: right;\n",
       "    }\n",
       "</style>\n",
       "<table border=\"1\" class=\"dataframe\">\n",
       "  <thead>\n",
       "    <tr style=\"text-align: right;\">\n",
       "      <th></th>\n",
       "      <th>Dataset</th>\n",
       "      <th>cruise</th>\n",
       "    </tr>\n",
       "    <tr>\n",
       "      <th>#SampleID</th>\n",
       "      <th></th>\n",
       "      <th></th>\n",
       "    </tr>\n",
       "  </thead>\n",
       "  <tbody>\n",
       "    <tr>\n",
       "      <th>CN18FESPkoa_SC58_FF</th>\n",
       "      <td>Merged2018</td>\n",
       "      <td>CN18F</td>\n",
       "    </tr>\n",
       "    <tr>\n",
       "      <th>CN18FESPkoa_SC57_FF</th>\n",
       "      <td>Merged2018</td>\n",
       "      <td>CN18F</td>\n",
       "    </tr>\n",
       "  </tbody>\n",
       "</table>\n",
       "</div>"
      ],
      "text/plain": [
       "                        Dataset cruise\n",
       "#SampleID                             \n",
       "CN18FESPkoa_SC58_FF  Merged2018  CN18F\n",
       "CN18FESPkoa_SC57_FF  Merged2018  CN18F"
      ]
     },
     "execution_count": 29,
     "metadata": {},
     "output_type": "execute_result"
    }
   ],
   "source": [
    "import pandas as pd\n",
    "import numpy as np\n",
    "import seaborn as sns\n",
    "from matplotlib import pyplot as plt\n",
    "#from assets.plotting_helper import biplot\n",
    "#%matplotlib inline\n",
    "\n",
    "# import the sample metadata\n",
    "mf = pd.read_csv('/Users/kpitz/github/NOAA-NCAR-Hackathon/Qiime_Results/COI/Qiime2_meta.tsv',\n",
    "                 sep='\\t', index_col=0)\n",
    "mf.loc[mf.index.str.contains('CN18F'), 'cruise'] = 'CN18F'\n",
    "mf.loc[mf.index.str.contains('CN18S'), 'cruise'] = 'CN18S'\n",
    "mf.loc[mf.index.str.contains('Lasker18'), 'cruise'] = 'Lasker18'\n",
    "print(mf['cruise'].unique())\n",
    "\n",
    "# import the taxonomy metadata\n",
    "tf = pd.read_csv('/Users/kpitz/github/NOAA-NCAR-Hackathon/Qiime_Results/COI/Qiime2_taxa.tsv',\n",
    "                 sep='\\t', index_col=0)\n",
    "# view\n",
    "mf.head(2)"
   ]
  },
  {
   "cell_type": "code",
   "execution_count": 30,
   "id": "b7ab25d7-bc7c-4b2e-a957-829500d3f60c",
   "metadata": {},
   "outputs": [
    {
     "data": {
      "text/html": [
       "<div>\n",
       "<style scoped>\n",
       "    .dataframe tbody tr th:only-of-type {\n",
       "        vertical-align: middle;\n",
       "    }\n",
       "\n",
       "    .dataframe tbody tr th {\n",
       "        vertical-align: top;\n",
       "    }\n",
       "\n",
       "    .dataframe thead th {\n",
       "        text-align: right;\n",
       "    }\n",
       "</style>\n",
       "<table border=\"1\" class=\"dataframe\">\n",
       "  <thead>\n",
       "    <tr style=\"text-align: right;\">\n",
       "      <th></th>\n",
       "      <th>Kingdom</th>\n",
       "      <th>Phylum</th>\n",
       "      <th>Class</th>\n",
       "      <th>Order</th>\n",
       "      <th>Family</th>\n",
       "      <th>Genus</th>\n",
       "      <th>Species</th>\n",
       "    </tr>\n",
       "    <tr>\n",
       "      <th>#OTUID</th>\n",
       "      <th></th>\n",
       "      <th></th>\n",
       "      <th></th>\n",
       "      <th></th>\n",
       "      <th></th>\n",
       "      <th></th>\n",
       "      <th></th>\n",
       "    </tr>\n",
       "  </thead>\n",
       "  <tbody>\n",
       "    <tr>\n",
       "      <th>ASV_1</th>\n",
       "      <td>Eukaryota</td>\n",
       "      <td>Arthropoda</td>\n",
       "      <td>Hexanauplia</td>\n",
       "      <td>Poecilostomatoida</td>\n",
       "      <td>Oncaeidae</td>\n",
       "      <td>g_</td>\n",
       "      <td>s_</td>\n",
       "    </tr>\n",
       "    <tr>\n",
       "      <th>ASV_2</th>\n",
       "      <td>Eukaryota</td>\n",
       "      <td>unassigned</td>\n",
       "      <td>unassigned</td>\n",
       "      <td>unassigned</td>\n",
       "      <td>unassigned</td>\n",
       "      <td>g_</td>\n",
       "      <td>s_</td>\n",
       "    </tr>\n",
       "    <tr>\n",
       "      <th>ASV_3</th>\n",
       "      <td>unassigned</td>\n",
       "      <td>unassigned</td>\n",
       "      <td>unassigned</td>\n",
       "      <td>unassigned</td>\n",
       "      <td>unassigned</td>\n",
       "      <td>unassigned</td>\n",
       "      <td>unassigned</td>\n",
       "    </tr>\n",
       "    <tr>\n",
       "      <th>ASV_4</th>\n",
       "      <td>Eukaryota</td>\n",
       "      <td>Rhodophyta</td>\n",
       "      <td>Bangiophyceae</td>\n",
       "      <td>Bangiales</td>\n",
       "      <td>Bangiaceae</td>\n",
       "      <td>g_</td>\n",
       "      <td>s_</td>\n",
       "    </tr>\n",
       "    <tr>\n",
       "      <th>ASV_5</th>\n",
       "      <td>Eukaryota</td>\n",
       "      <td>Picozoa</td>\n",
       "      <td>unknown</td>\n",
       "      <td>unknown</td>\n",
       "      <td>unknown</td>\n",
       "      <td>g_</td>\n",
       "      <td>s_</td>\n",
       "    </tr>\n",
       "  </tbody>\n",
       "</table>\n",
       "</div>"
      ],
      "text/plain": [
       "           Kingdom      Phylum          Class              Order      Family  \\\n",
       "#OTUID                                                                         \n",
       "ASV_1    Eukaryota  Arthropoda    Hexanauplia  Poecilostomatoida   Oncaeidae   \n",
       "ASV_2    Eukaryota  unassigned     unassigned         unassigned  unassigned   \n",
       "ASV_3   unassigned  unassigned     unassigned         unassigned  unassigned   \n",
       "ASV_4    Eukaryota  Rhodophyta  Bangiophyceae          Bangiales  Bangiaceae   \n",
       "ASV_5    Eukaryota     Picozoa        unknown            unknown     unknown   \n",
       "\n",
       "             Genus     Species  \n",
       "#OTUID                          \n",
       "ASV_1           g_          s_  \n",
       "ASV_2           g_          s_  \n",
       "ASV_3   unassigned  unassigned  \n",
       "ASV_4           g_          s_  \n",
       "ASV_5           g_          s_  "
      ]
     },
     "execution_count": 30,
     "metadata": {},
     "output_type": "execute_result"
    }
   ],
   "source": [
    "tf.head()"
   ]
  },
  {
   "cell_type": "code",
   "execution_count": 31,
   "id": "da5818b3-3650-4a0d-9222-d3e8d0fa4007",
   "metadata": {},
   "outputs": [
    {
     "data": {
      "text/html": [
       "<div>\n",
       "<style scoped>\n",
       "    .dataframe tbody tr th:only-of-type {\n",
       "        vertical-align: middle;\n",
       "    }\n",
       "\n",
       "    .dataframe tbody tr th {\n",
       "        vertical-align: top;\n",
       "    }\n",
       "\n",
       "    .dataframe thead th {\n",
       "        text-align: right;\n",
       "    }\n",
       "</style>\n",
       "<table border=\"1\" class=\"dataframe\">\n",
       "  <thead>\n",
       "    <tr style=\"text-align: right;\">\n",
       "      <th></th>\n",
       "      <th>PC1</th>\n",
       "      <th>PC2</th>\n",
       "      <th>PC3</th>\n",
       "    </tr>\n",
       "  </thead>\n",
       "  <tbody>\n",
       "    <tr>\n",
       "      <th>CN18FESPkoa_SC58_FF</th>\n",
       "      <td>-0.061604</td>\n",
       "      <td>-0.133757</td>\n",
       "      <td>0.004588</td>\n",
       "    </tr>\n",
       "    <tr>\n",
       "      <th>CN18FESPkoa_SC57_FF</th>\n",
       "      <td>-0.069241</td>\n",
       "      <td>-0.133155</td>\n",
       "      <td>-0.004812</td>\n",
       "    </tr>\n",
       "  </tbody>\n",
       "</table>\n",
       "</div>"
      ],
      "text/plain": [
       "                          PC1       PC2       PC3\n",
       "CN18FESPkoa_SC58_FF -0.061604 -0.133757  0.004588\n",
       "CN18FESPkoa_SC57_FF -0.069241 -0.133155 -0.004812"
      ]
     },
     "execution_count": 31,
     "metadata": {},
     "output_type": "execute_result"
    }
   ],
   "source": [
    "# the sample loadings\n",
    "spca_df = ordination.samples\n",
    "spca_df.head(2)"
   ]
  },
  {
   "cell_type": "code",
   "execution_count": 32,
   "id": "7deca5e3-13b8-431b-9adc-d77c16887051",
   "metadata": {},
   "outputs": [
    {
     "data": {
      "text/html": [
       "<div>\n",
       "<style scoped>\n",
       "    .dataframe tbody tr th:only-of-type {\n",
       "        vertical-align: middle;\n",
       "    }\n",
       "\n",
       "    .dataframe tbody tr th {\n",
       "        vertical-align: top;\n",
       "    }\n",
       "\n",
       "    .dataframe thead th {\n",
       "        text-align: right;\n",
       "    }\n",
       "</style>\n",
       "<table border=\"1\" class=\"dataframe\">\n",
       "  <thead>\n",
       "    <tr style=\"text-align: right;\">\n",
       "      <th></th>\n",
       "      <th>PC1</th>\n",
       "      <th>PC2</th>\n",
       "      <th>PC3</th>\n",
       "    </tr>\n",
       "  </thead>\n",
       "  <tbody>\n",
       "    <tr>\n",
       "      <th>ASV_1</th>\n",
       "      <td>-0.000503</td>\n",
       "      <td>-0.182661</td>\n",
       "      <td>0.061465</td>\n",
       "    </tr>\n",
       "    <tr>\n",
       "      <th>ASV_2</th>\n",
       "      <td>-0.043287</td>\n",
       "      <td>-0.046113</td>\n",
       "      <td>0.037631</td>\n",
       "    </tr>\n",
       "  </tbody>\n",
       "</table>\n",
       "</div>"
      ],
      "text/plain": [
       "            PC1       PC2       PC3\n",
       "ASV_1 -0.000503 -0.182661  0.061465\n",
       "ASV_2 -0.043287 -0.046113  0.037631"
      ]
     },
     "execution_count": 32,
     "metadata": {},
     "output_type": "execute_result"
    }
   ],
   "source": [
    "# the feature loadings\n",
    "fpca_df = ordination.features\n",
    "fpca_df.head(2)"
   ]
  },
  {
   "cell_type": "code",
   "execution_count": 43,
   "id": "12421a41-be04-44e4-bc86-b52c8a0f9d94",
   "metadata": {},
   "outputs": [
    {
     "ename": "TypeError",
     "evalue": "'OrdinationResults' object is not subscriptable",
     "output_type": "error",
     "traceback": [
      "\u001b[0;31m---------------------------------------------------------------------------\u001b[0m",
      "\u001b[0;31mTypeError\u001b[0m                                 Traceback (most recent call last)",
      "Cell \u001b[0;32mIn[43], line 1\u001b[0m\n\u001b[0;32m----> 1\u001b[0m \u001b[43mordination\u001b[49m\u001b[43m[\u001b[49m\u001b[38;5;241;43m1\u001b[39;49m\u001b[43m]\u001b[49m\n",
      "\u001b[0;31mTypeError\u001b[0m: 'OrdinationResults' object is not subscriptable"
     ]
    }
   ],
   "source": []
  },
  {
   "cell_type": "code",
   "execution_count": 33,
   "id": "8be6f184-ad3c-4eb9-b2e7-ecfd4123a946",
   "metadata": {},
   "outputs": [
    {
     "data": {
      "text/html": [
       "<div>\n",
       "<style scoped>\n",
       "    .dataframe tbody tr th:only-of-type {\n",
       "        vertical-align: middle;\n",
       "    }\n",
       "\n",
       "    .dataframe tbody tr th {\n",
       "        vertical-align: top;\n",
       "    }\n",
       "\n",
       "    .dataframe thead th {\n",
       "        text-align: right;\n",
       "    }\n",
       "</style>\n",
       "<table border=\"1\" class=\"dataframe\">\n",
       "  <thead>\n",
       "    <tr style=\"text-align: right;\">\n",
       "      <th></th>\n",
       "      <th>PC1</th>\n",
       "      <th>PC2</th>\n",
       "      <th>PC3</th>\n",
       "      <th>Dataset</th>\n",
       "      <th>cruise</th>\n",
       "    </tr>\n",
       "  </thead>\n",
       "  <tbody>\n",
       "    <tr>\n",
       "      <th>CN18FESPkoa_SC24_FF</th>\n",
       "      <td>-0.052684</td>\n",
       "      <td>-0.095779</td>\n",
       "      <td>0.088300</td>\n",
       "      <td>Merged2018</td>\n",
       "      <td>CN18F</td>\n",
       "    </tr>\n",
       "    <tr>\n",
       "      <th>CN18FESPkoa_SC26_FF</th>\n",
       "      <td>-0.067741</td>\n",
       "      <td>-0.099398</td>\n",
       "      <td>0.111198</td>\n",
       "      <td>Merged2018</td>\n",
       "      <td>CN18F</td>\n",
       "    </tr>\n",
       "  </tbody>\n",
       "</table>\n",
       "</div>"
      ],
      "text/plain": [
       "                          PC1       PC2       PC3     Dataset cruise\n",
       "CN18FESPkoa_SC24_FF -0.052684 -0.095779  0.088300  Merged2018  CN18F\n",
       "CN18FESPkoa_SC26_FF -0.067741 -0.099398  0.111198  Merged2018  CN18F"
      ]
     },
     "execution_count": 33,
     "metadata": {},
     "output_type": "execute_result"
    }
   ],
   "source": [
    "# merge the sample metadata and loadings\n",
    "spca_df = pd.concat([spca_df, mf.reindex(spca_df.index)],\n",
    "                    axis=1, sort=True)\n",
    "spca_df.head(2)"
   ]
  },
  {
   "cell_type": "code",
   "execution_count": 34,
   "id": "10bb0a69-1248-4da8-bf3b-ca320e023c54",
   "metadata": {},
   "outputs": [
    {
     "data": {
      "text/html": [
       "<div>\n",
       "<style scoped>\n",
       "    .dataframe tbody tr th:only-of-type {\n",
       "        vertical-align: middle;\n",
       "    }\n",
       "\n",
       "    .dataframe tbody tr th {\n",
       "        vertical-align: top;\n",
       "    }\n",
       "\n",
       "    .dataframe thead th {\n",
       "        text-align: right;\n",
       "    }\n",
       "</style>\n",
       "<table border=\"1\" class=\"dataframe\">\n",
       "  <thead>\n",
       "    <tr style=\"text-align: right;\">\n",
       "      <th></th>\n",
       "      <th>PC1</th>\n",
       "      <th>PC2</th>\n",
       "      <th>PC3</th>\n",
       "      <th>Kingdom</th>\n",
       "      <th>Phylum</th>\n",
       "      <th>Class</th>\n",
       "      <th>Order</th>\n",
       "      <th>Family</th>\n",
       "      <th>Genus</th>\n",
       "      <th>Species</th>\n",
       "    </tr>\n",
       "  </thead>\n",
       "  <tbody>\n",
       "    <tr>\n",
       "      <th>ASV_1</th>\n",
       "      <td>-0.000503</td>\n",
       "      <td>-0.182661</td>\n",
       "      <td>0.061465</td>\n",
       "      <td>Eukaryota</td>\n",
       "      <td>Arthropoda</td>\n",
       "      <td>Hexanauplia</td>\n",
       "      <td>Poecilostomatoida</td>\n",
       "      <td>Oncaeidae</td>\n",
       "      <td>g_</td>\n",
       "      <td>s_</td>\n",
       "    </tr>\n",
       "    <tr>\n",
       "      <th>ASV_10</th>\n",
       "      <td>0.000736</td>\n",
       "      <td>0.001368</td>\n",
       "      <td>0.178058</td>\n",
       "      <td>Eukaryota</td>\n",
       "      <td>Haptista</td>\n",
       "      <td>Haptophyta</td>\n",
       "      <td>Phaeocystales</td>\n",
       "      <td>Phaeocystaceae</td>\n",
       "      <td>Phaeocystis</td>\n",
       "      <td>Phaeocystis globosa</td>\n",
       "    </tr>\n",
       "  </tbody>\n",
       "</table>\n",
       "</div>"
      ],
      "text/plain": [
       "             PC1       PC2       PC3    Kingdom      Phylum        Class  \\\n",
       "ASV_1  -0.000503 -0.182661  0.061465  Eukaryota  Arthropoda  Hexanauplia   \n",
       "ASV_10  0.000736  0.001368  0.178058  Eukaryota    Haptista   Haptophyta   \n",
       "\n",
       "                    Order          Family        Genus              Species  \n",
       "ASV_1   Poecilostomatoida       Oncaeidae           g_                   s_  \n",
       "ASV_10      Phaeocystales  Phaeocystaceae  Phaeocystis  Phaeocystis globosa  "
      ]
     },
     "execution_count": 34,
     "metadata": {},
     "output_type": "execute_result"
    }
   ],
   "source": [
    "# merge the feature metadata and loadings\n",
    "fpca_df = pd.concat([fpca_df, tf.reindex(fpca_df.index)],\n",
    "                    axis=1, sort=True)\n",
    "fpca_df.head(2)"
   ]
  },
  {
   "cell_type": "code",
   "execution_count": 42,
   "id": "2b59ac21-b8eb-4796-99fa-ec884b5275f2",
   "metadata": {},
   "outputs": [
    {
     "data": {
      "image/png": "[encoded data removed]",
      "text/plain": [
       "<Figure size 640x480 with 1 Axes>"
      ]
     },
     "metadata": {},
     "output_type": "display_data"
    },
    {
     "data": {
      "image/png": "[encoded data removed]",
      "text/plain": [
       "<Figure size 640x480 with 1 Axes>"
      ]
     },
     "metadata": {},
     "output_type": "display_data"
    }
   ],
   "source": [
    "sns.scatterplot(data=spca_df, x=\"PC1\", y=\"PC2\", hue=\"cruise\")\n",
    "plt.title('COI python RPCA')\n",
    "plt.show()\n",
    "\n",
    "sns.scatterplot(data=spca_df, x=\"PC2\", y=\"PC3\", hue=\"cruise\")\n",
    "plt.title('COI python RPCA')\n",
    "plt.show()"
   ]
  },
  {
   "cell_type": "code",
   "execution_count": 35,
   "id": "0df4a832-1dab-4cbf-aff6-d015c8aa9a95",
   "metadata": {},
   "outputs": [
    {
     "ename": "NameError",
     "evalue": "name 'biplot' is not defined",
     "output_type": "error",
     "traceback": [
      "\u001b[0;31m---------------------------------------------------------------------------\u001b[0m",
      "\u001b[0;31mNameError\u001b[0m                                 Traceback (most recent call last)",
      "Cell \u001b[0;32mIn[35], line 4\u001b[0m\n\u001b[1;32m      1\u001b[0m fig, ax \u001b[38;5;241m=\u001b[39m plt\u001b[38;5;241m.\u001b[39msubplots(\u001b[38;5;241m1\u001b[39m,\u001b[38;5;241m1\u001b[39m, figsize\u001b[38;5;241m=\u001b[39m(\u001b[38;5;241m6\u001b[39m, \u001b[38;5;241m6\u001b[39m))\n\u001b[1;32m      3\u001b[0m \u001b[38;5;66;03m# plot the biplot\u001b[39;00m\n\u001b[0;32m----> 4\u001b[0m ax \u001b[38;5;241m=\u001b[39m \u001b[43mbiplot\u001b[49m(\u001b[38;5;124m'\u001b[39m\u001b[38;5;124mPC1\u001b[39m\u001b[38;5;124m'\u001b[39m, \u001b[38;5;124m'\u001b[39m\u001b[38;5;124mPC2\u001b[39m\u001b[38;5;124m'\u001b[39m, spca_df,\n\u001b[1;32m      5\u001b[0m             fpca_df, \u001b[38;5;124m'\u001b[39m\u001b[38;5;124mcruise\u001b[39m\u001b[38;5;124m'\u001b[39m, ax)\n\u001b[1;32m      7\u001b[0m plt\u001b[38;5;241m.\u001b[39mshow()\n",
      "\u001b[0;31mNameError\u001b[0m: name 'biplot' is not defined"
     ]
    },
    {
     "data": {
      "image/png": "[encoded data removed]",
      "text/plain": [
       "<Figure size 600x600 with 1 Axes>"
      ]
     },
     "metadata": {},
     "output_type": "display_data"
    }
   ],
   "source": [
    "'''fig, ax = plt.subplots(1,1, figsize=(6, 6))\n",
    "\n",
    "# plot the biplot\n",
    "ax = biplot('PC1', 'PC2', spca_df,\n",
    "            fpca_df, 'cruise', ax)\n",
    "\n",
    "plt.show()'''"
   ]
  },
  {
   "cell_type": "code",
   "execution_count": 36,
   "id": "0bdd6a09-6ef1-4bc2-92d0-18d020806a70",
   "metadata": {},
   "outputs": [
    {
     "data": {
      "text/plain": [
       "method name               PERMANOVA\n",
       "test statistic name        pseudo-F\n",
       "sample size                     131\n",
       "number of groups                  3\n",
       "test statistic            56.167109\n",
       "p-value                       0.001\n",
       "number of permutations          999\n",
       "Name: PERMANOVA results, dtype: object"
      ]
     },
     "execution_count": 36,
     "metadata": {},
     "output_type": "execute_result"
    }
   ],
   "source": [
    "from skbio.stats.distance import permanova\n",
    "\n",
    "permanova(distance, mf['cruise'])"
   ]
  },
  {
   "cell_type": "code",
   "execution_count": null,
   "id": "e0287354-c8be-442a-a12c-a8d71d4495f2",
   "metadata": {},
   "outputs": [],
   "source": []
  }
 ],
 "metadata": {
  "kernelspec": {
   "display_name": "Python 3 (ipykernel)",
   "language": "python",
   "name": "python3"
  },
  "language_info": {
   "codemirror_mode": {
    "name": "ipython",
    "version": 3
   },
   "file_extension": ".py",
   "mimetype": "text/x-python",
   "name": "python",
   "nbconvert_exporter": "python",
   "pygments_lexer": "ipython3",
   "version": "3.8.15"
  }
 },
 "nbformat": 4,
 "nbformat_minor": 5
}
