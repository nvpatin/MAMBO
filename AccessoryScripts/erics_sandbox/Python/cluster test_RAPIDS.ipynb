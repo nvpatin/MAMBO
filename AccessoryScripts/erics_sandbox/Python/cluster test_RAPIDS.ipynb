{
 "cells": [
  {
   "cell_type": "code",
   "execution_count": 21,
   "id": "significant-cornell",
   "metadata": {},
   "outputs": [],
   "source": [
    "import MarineDNA_RAPIDS as md\n",
    "import cudf\n",
    "import cupy as cp\n",
    "import cuml\n",
    "from cuml import AgglomerativeClustering as aggclust\n",
    "from cuml.decomposition import PCA\n",
    "import numpy as np\n",
    "import plotly.express as px\n",
    "\n",
    "#import pandas as pd\n",
    "#import sklearn as skl\n",
    "#from sklearn.cluster import AgglomerativeClustering"
   ]
  },
  {
   "cell_type": "code",
   "execution_count": 22,
   "id": "f5e32982-5d77-43e7-8aeb-d0d7f4b2717b",
   "metadata": {},
   "outputs": [],
   "source": [
    "file1 = \"../../../Data/Flyer2018_16S_table_counts.tsv\"\n",
    "asvs1 = cudf.read_csv(file1, index_col=0, sep=\"\\t\")"
   ]
  },
  {
   "cell_type": "code",
   "execution_count": 23,
   "id": "0652e9d4-0caf-4c1d-8b78-a767c53cd19f",
   "metadata": {},
   "outputs": [],
   "source": [
    "def ranRelPct(df, asLogOdds = True):\n",
    "    result = df.copy()\n",
    "    for i in range(df.shape[1]):\n",
    "        col = df.iloc[:,i]\n",
    "        a = col + 1\n",
    "        b = col.sum() - col + 1\n",
    "        beta_dist = cp.random.beta(a,b)\n",
    "        beta_dist /= beta_dist.sum()\n",
    "        result.iloc[:,i] = beta_dist\n",
    "    # convert to log-odds if requested\n",
    "    if asLogOdds:\n",
    "        # need to use numpy for this transformation not cupy\n",
    "        result = np.log(result / (1 - result))\n",
    "    return result.transpose()"
   ]
  },
  {
   "cell_type": "code",
   "execution_count": 24,
   "id": "186e91cb-539f-49d3-857e-b0be36cf330d",
   "metadata": {},
   "outputs": [
    {
     "data": {
      "text/html": [
       "<div>\n",
       "<style scoped>\n",
       "    .dataframe tbody tr th:only-of-type {\n",
       "        vertical-align: middle;\n",
       "    }\n",
       "\n",
       "    .dataframe tbody tr th {\n",
       "        vertical-align: top;\n",
       "    }\n",
       "\n",
       "    .dataframe thead th {\n",
       "        text-align: right;\n",
       "    }\n",
       "</style>\n",
       "<table border=\"1\" class=\"dataframe\">\n",
       "  <thead>\n",
       "    <tr style=\"text-align: right;\">\n",
       "      <th></th>\n",
       "      <th>495c1bd1608a1dad54d3e2824ce899ef</th>\n",
       "      <th>a900b6678ce86851fb16bfafb87f3326</th>\n",
       "      <th>c8e360969108fa2125a3d56eb4dad24f</th>\n",
       "      <th>72143fd9e63fe40c1258948d2f0d79c3</th>\n",
       "      <th>7b6b178fad5599c0e9a734e4fb09fd64</th>\n",
       "      <th>4bbec3bb723375416616a87d785ac74a</th>\n",
       "      <th>0c35cfa523aa27921ef8544a16d1cd36</th>\n",
       "      <th>7ec69f2c62aad60e060e588ef687bdd0</th>\n",
       "      <th>61e9a50f4346bb3a5b16179b8eca71fa</th>\n",
       "      <th>a140195871278e8fcf9447e42bad8786</th>\n",
       "      <th>...</th>\n",
       "      <th>995cc65bcfa53a868c42615004e99ad3</th>\n",
       "      <th>46b90aab075ecd8e4db549da708550d8</th>\n",
       "      <th>c4e1933274329209b7cf24daf18dfe0d</th>\n",
       "      <th>aa9e141a5e2781d280406c513bf34d45</th>\n",
       "      <th>d7682f536589fc5f920533513dd0002b</th>\n",
       "      <th>674933a0d44342a0647f7a5b4591f26e</th>\n",
       "      <th>bebe1b9a7e9aaa78172c1208111f4570</th>\n",
       "      <th>0128431733f67d02efad766d717fe6fd</th>\n",
       "      <th>41102a7dd1f4647ba5477c947daabc0e</th>\n",
       "      <th>51440f89c391fb32f9ee895db22bf8f8</th>\n",
       "    </tr>\n",
       "  </thead>\n",
       "  <tbody>\n",
       "    <tr>\n",
       "      <th>CN18Fc12_8_eDNA</th>\n",
       "      <td>-2.402074</td>\n",
       "      <td>-3.490717</td>\n",
       "      <td>-3.784002</td>\n",
       "      <td>-3.886529</td>\n",
       "      <td>-3.711261</td>\n",
       "      <td>-4.677608</td>\n",
       "      <td>-7.266085</td>\n",
       "      <td>-4.257749</td>\n",
       "      <td>-3.478644</td>\n",
       "      <td>-4.224144</td>\n",
       "      <td>...</td>\n",
       "      <td>-9.147011</td>\n",
       "      <td>-13.097670</td>\n",
       "      <td>-7.458116</td>\n",
       "      <td>-8.676306</td>\n",
       "      <td>-10.638815</td>\n",
       "      <td>-10.068675</td>\n",
       "      <td>-9.092338</td>\n",
       "      <td>-9.894179</td>\n",
       "      <td>-9.214627</td>\n",
       "      <td>-8.804530</td>\n",
       "    </tr>\n",
       "    <tr>\n",
       "      <th>CN18Fc19_5_eDNA</th>\n",
       "      <td>-1.585746</td>\n",
       "      <td>-3.074170</td>\n",
       "      <td>-2.969887</td>\n",
       "      <td>-3.120578</td>\n",
       "      <td>-3.181473</td>\n",
       "      <td>-4.475288</td>\n",
       "      <td>-5.253461</td>\n",
       "      <td>-4.317067</td>\n",
       "      <td>-4.073528</td>\n",
       "      <td>-3.825368</td>\n",
       "      <td>...</td>\n",
       "      <td>-10.075962</td>\n",
       "      <td>-11.671836</td>\n",
       "      <td>-12.399655</td>\n",
       "      <td>-10.433967</td>\n",
       "      <td>-10.621924</td>\n",
       "      <td>-10.063614</td>\n",
       "      <td>-13.857385</td>\n",
       "      <td>-9.563822</td>\n",
       "      <td>-11.168945</td>\n",
       "      <td>-11.112942</td>\n",
       "    </tr>\n",
       "    <tr>\n",
       "      <th>CN18Fc21_6_eDNA</th>\n",
       "      <td>-1.875454</td>\n",
       "      <td>-3.067480</td>\n",
       "      <td>-3.212686</td>\n",
       "      <td>-3.219817</td>\n",
       "      <td>-3.587768</td>\n",
       "      <td>-4.374516</td>\n",
       "      <td>-4.642209</td>\n",
       "      <td>-4.033737</td>\n",
       "      <td>-3.749748</td>\n",
       "      <td>-3.983546</td>\n",
       "      <td>...</td>\n",
       "      <td>-14.214298</td>\n",
       "      <td>-10.518399</td>\n",
       "      <td>-10.929510</td>\n",
       "      <td>-10.943070</td>\n",
       "      <td>-16.252094</td>\n",
       "      <td>-12.379283</td>\n",
       "      <td>-11.185760</td>\n",
       "      <td>-10.538782</td>\n",
       "      <td>-11.939503</td>\n",
       "      <td>-12.193877</td>\n",
       "    </tr>\n",
       "    <tr>\n",
       "      <th>CN18Fc22_6_eDNA</th>\n",
       "      <td>-1.689710</td>\n",
       "      <td>-3.218527</td>\n",
       "      <td>-3.195757</td>\n",
       "      <td>-3.171582</td>\n",
       "      <td>-3.297811</td>\n",
       "      <td>-4.605804</td>\n",
       "      <td>-5.080229</td>\n",
       "      <td>-4.193843</td>\n",
       "      <td>-3.968792</td>\n",
       "      <td>-4.027630</td>\n",
       "      <td>...</td>\n",
       "      <td>-11.709872</td>\n",
       "      <td>-12.219002</td>\n",
       "      <td>-10.694165</td>\n",
       "      <td>-12.583330</td>\n",
       "      <td>-11.782047</td>\n",
       "      <td>-11.246520</td>\n",
       "      <td>-10.036828</td>\n",
       "      <td>-13.358864</td>\n",
       "      <td>-10.381750</td>\n",
       "      <td>-12.708571</td>\n",
       "    </tr>\n",
       "    <tr>\n",
       "      <th>CN18Fc24_6_eDNA</th>\n",
       "      <td>-1.875251</td>\n",
       "      <td>-3.450444</td>\n",
       "      <td>-3.081295</td>\n",
       "      <td>-3.149868</td>\n",
       "      <td>-3.389744</td>\n",
       "      <td>-4.228975</td>\n",
       "      <td>-5.201350</td>\n",
       "      <td>-4.080325</td>\n",
       "      <td>-3.817355</td>\n",
       "      <td>-4.181282</td>\n",
       "      <td>...</td>\n",
       "      <td>-10.457152</td>\n",
       "      <td>-10.802869</td>\n",
       "      <td>-11.176728</td>\n",
       "      <td>-12.798423</td>\n",
       "      <td>-10.372606</td>\n",
       "      <td>-10.914674</td>\n",
       "      <td>-10.629893</td>\n",
       "      <td>-14.930447</td>\n",
       "      <td>-14.409034</td>\n",
       "      <td>-10.505408</td>\n",
       "    </tr>\n",
       "    <tr>\n",
       "      <th>...</th>\n",
       "      <td>...</td>\n",
       "      <td>...</td>\n",
       "      <td>...</td>\n",
       "      <td>...</td>\n",
       "      <td>...</td>\n",
       "      <td>...</td>\n",
       "      <td>...</td>\n",
       "      <td>...</td>\n",
       "      <td>...</td>\n",
       "      <td>...</td>\n",
       "      <td>...</td>\n",
       "      <td>...</td>\n",
       "      <td>...</td>\n",
       "      <td>...</td>\n",
       "      <td>...</td>\n",
       "      <td>...</td>\n",
       "      <td>...</td>\n",
       "      <td>...</td>\n",
       "      <td>...</td>\n",
       "      <td>...</td>\n",
       "      <td>...</td>\n",
       "    </tr>\n",
       "    <tr>\n",
       "      <th>CN18SESPkoa_SC42</th>\n",
       "      <td>-3.032680</td>\n",
       "      <td>-1.608062</td>\n",
       "      <td>-6.682953</td>\n",
       "      <td>-6.008040</td>\n",
       "      <td>-6.331814</td>\n",
       "      <td>-4.543212</td>\n",
       "      <td>-3.014132</td>\n",
       "      <td>-5.681572</td>\n",
       "      <td>-6.267176</td>\n",
       "      <td>-5.303297</td>\n",
       "      <td>...</td>\n",
       "      <td>-11.832149</td>\n",
       "      <td>-13.313950</td>\n",
       "      <td>-11.806601</td>\n",
       "      <td>-11.799272</td>\n",
       "      <td>-12.329835</td>\n",
       "      <td>-10.956852</td>\n",
       "      <td>-10.377181</td>\n",
       "      <td>-13.875120</td>\n",
       "      <td>-11.334859</td>\n",
       "      <td>-11.064012</td>\n",
       "    </tr>\n",
       "    <tr>\n",
       "      <th>CN18SESPkoa_SC44</th>\n",
       "      <td>-5.779112</td>\n",
       "      <td>-4.438372</td>\n",
       "      <td>-4.957342</td>\n",
       "      <td>-5.085617</td>\n",
       "      <td>-4.931281</td>\n",
       "      <td>-3.207863</td>\n",
       "      <td>-9.286961</td>\n",
       "      <td>-3.436397</td>\n",
       "      <td>-5.477660</td>\n",
       "      <td>-10.763444</td>\n",
       "      <td>...</td>\n",
       "      <td>-8.016053</td>\n",
       "      <td>-9.391042</td>\n",
       "      <td>-10.954519</td>\n",
       "      <td>-10.201096</td>\n",
       "      <td>-8.683704</td>\n",
       "      <td>-10.797071</td>\n",
       "      <td>-8.968640</td>\n",
       "      <td>-7.953776</td>\n",
       "      <td>-10.248915</td>\n",
       "      <td>-8.818672</td>\n",
       "    </tr>\n",
       "    <tr>\n",
       "      <th>CN18SESPkoa_SC45</th>\n",
       "      <td>-3.200072</td>\n",
       "      <td>-1.645035</td>\n",
       "      <td>-7.680948</td>\n",
       "      <td>-6.316834</td>\n",
       "      <td>-6.886994</td>\n",
       "      <td>-4.994566</td>\n",
       "      <td>-2.857763</td>\n",
       "      <td>-6.215196</td>\n",
       "      <td>-6.486688</td>\n",
       "      <td>-5.699816</td>\n",
       "      <td>...</td>\n",
       "      <td>-10.002541</td>\n",
       "      <td>-10.316612</td>\n",
       "      <td>-9.675137</td>\n",
       "      <td>-10.861858</td>\n",
       "      <td>-12.447037</td>\n",
       "      <td>-9.684577</td>\n",
       "      <td>-10.457763</td>\n",
       "      <td>-18.015313</td>\n",
       "      <td>-10.525585</td>\n",
       "      <td>-13.463480</td>\n",
       "    </tr>\n",
       "    <tr>\n",
       "      <th>CN18SESPkoa_SC47</th>\n",
       "      <td>-3.478741</td>\n",
       "      <td>-1.722991</td>\n",
       "      <td>-7.515543</td>\n",
       "      <td>-6.311038</td>\n",
       "      <td>-6.618916</td>\n",
       "      <td>-5.324538</td>\n",
       "      <td>-3.146956</td>\n",
       "      <td>-6.600898</td>\n",
       "      <td>-6.736287</td>\n",
       "      <td>-5.577953</td>\n",
       "      <td>...</td>\n",
       "      <td>-10.775152</td>\n",
       "      <td>-11.337768</td>\n",
       "      <td>-10.845074</td>\n",
       "      <td>-9.723058</td>\n",
       "      <td>-10.212860</td>\n",
       "      <td>-10.572641</td>\n",
       "      <td>-10.565357</td>\n",
       "      <td>-12.196615</td>\n",
       "      <td>-13.678918</td>\n",
       "      <td>-12.153876</td>\n",
       "    </tr>\n",
       "    <tr>\n",
       "      <th>CN18SESPkoa_SC49</th>\n",
       "      <td>-3.351799</td>\n",
       "      <td>-1.694523</td>\n",
       "      <td>-7.095213</td>\n",
       "      <td>-6.556622</td>\n",
       "      <td>-7.036536</td>\n",
       "      <td>-5.209602</td>\n",
       "      <td>-3.006169</td>\n",
       "      <td>-6.712858</td>\n",
       "      <td>-6.356023</td>\n",
       "      <td>-5.617192</td>\n",
       "      <td>...</td>\n",
       "      <td>-10.133820</td>\n",
       "      <td>-9.434617</td>\n",
       "      <td>-10.550724</td>\n",
       "      <td>-9.220204</td>\n",
       "      <td>-9.450443</td>\n",
       "      <td>-10.763867</td>\n",
       "      <td>-10.840365</td>\n",
       "      <td>-11.493046</td>\n",
       "      <td>-10.802167</td>\n",
       "      <td>-10.401726</td>\n",
       "    </tr>\n",
       "  </tbody>\n",
       "</table>\n",
       "<p>62 rows × 2752 columns</p>\n",
       "</div>"
      ],
      "text/plain": [
       "                  495c1bd1608a1dad54d3e2824ce899ef  \\\n",
       "CN18Fc12_8_eDNA                          -2.402074   \n",
       "CN18Fc19_5_eDNA                          -1.585746   \n",
       "CN18Fc21_6_eDNA                          -1.875454   \n",
       "CN18Fc22_6_eDNA                          -1.689710   \n",
       "CN18Fc24_6_eDNA                          -1.875251   \n",
       "...                                            ...   \n",
       "CN18SESPkoa_SC42                         -3.032680   \n",
       "CN18SESPkoa_SC44                         -5.779112   \n",
       "CN18SESPkoa_SC45                         -3.200072   \n",
       "CN18SESPkoa_SC47                         -3.478741   \n",
       "CN18SESPkoa_SC49                         -3.351799   \n",
       "\n",
       "                  a900b6678ce86851fb16bfafb87f3326  \\\n",
       "CN18Fc12_8_eDNA                          -3.490717   \n",
       "CN18Fc19_5_eDNA                          -3.074170   \n",
       "CN18Fc21_6_eDNA                          -3.067480   \n",
       "CN18Fc22_6_eDNA                          -3.218527   \n",
       "CN18Fc24_6_eDNA                          -3.450444   \n",
       "...                                            ...   \n",
       "CN18SESPkoa_SC42                         -1.608062   \n",
       "CN18SESPkoa_SC44                         -4.438372   \n",
       "CN18SESPkoa_SC45                         -1.645035   \n",
       "CN18SESPkoa_SC47                         -1.722991   \n",
       "CN18SESPkoa_SC49                         -1.694523   \n",
       "\n",
       "                  c8e360969108fa2125a3d56eb4dad24f  \\\n",
       "CN18Fc12_8_eDNA                          -3.784002   \n",
       "CN18Fc19_5_eDNA                          -2.969887   \n",
       "CN18Fc21_6_eDNA                          -3.212686   \n",
       "CN18Fc22_6_eDNA                          -3.195757   \n",
       "CN18Fc24_6_eDNA                          -3.081295   \n",
       "...                                            ...   \n",
       "CN18SESPkoa_SC42                         -6.682953   \n",
       "CN18SESPkoa_SC44                         -4.957342   \n",
       "CN18SESPkoa_SC45                         -7.680948   \n",
       "CN18SESPkoa_SC47                         -7.515543   \n",
       "CN18SESPkoa_SC49                         -7.095213   \n",
       "\n",
       "                  72143fd9e63fe40c1258948d2f0d79c3  \\\n",
       "CN18Fc12_8_eDNA                          -3.886529   \n",
       "CN18Fc19_5_eDNA                          -3.120578   \n",
       "CN18Fc21_6_eDNA                          -3.219817   \n",
       "CN18Fc22_6_eDNA                          -3.171582   \n",
       "CN18Fc24_6_eDNA                          -3.149868   \n",
       "...                                            ...   \n",
       "CN18SESPkoa_SC42                         -6.008040   \n",
       "CN18SESPkoa_SC44                         -5.085617   \n",
       "CN18SESPkoa_SC45                         -6.316834   \n",
       "CN18SESPkoa_SC47                         -6.311038   \n",
       "CN18SESPkoa_SC49                         -6.556622   \n",
       "\n",
       "                  7b6b178fad5599c0e9a734e4fb09fd64  \\\n",
       "CN18Fc12_8_eDNA                          -3.711261   \n",
       "CN18Fc19_5_eDNA                          -3.181473   \n",
       "CN18Fc21_6_eDNA                          -3.587768   \n",
       "CN18Fc22_6_eDNA                          -3.297811   \n",
       "CN18Fc24_6_eDNA                          -3.389744   \n",
       "...                                            ...   \n",
       "CN18SESPkoa_SC42                         -6.331814   \n",
       "CN18SESPkoa_SC44                         -4.931281   \n",
       "CN18SESPkoa_SC45                         -6.886994   \n",
       "CN18SESPkoa_SC47                         -6.618916   \n",
       "CN18SESPkoa_SC49                         -7.036536   \n",
       "\n",
       "                  4bbec3bb723375416616a87d785ac74a  \\\n",
       "CN18Fc12_8_eDNA                          -4.677608   \n",
       "CN18Fc19_5_eDNA                          -4.475288   \n",
       "CN18Fc21_6_eDNA                          -4.374516   \n",
       "CN18Fc22_6_eDNA                          -4.605804   \n",
       "CN18Fc24_6_eDNA                          -4.228975   \n",
       "...                                            ...   \n",
       "CN18SESPkoa_SC42                         -4.543212   \n",
       "CN18SESPkoa_SC44                         -3.207863   \n",
       "CN18SESPkoa_SC45                         -4.994566   \n",
       "CN18SESPkoa_SC47                         -5.324538   \n",
       "CN18SESPkoa_SC49                         -5.209602   \n",
       "\n",
       "                  0c35cfa523aa27921ef8544a16d1cd36  \\\n",
       "CN18Fc12_8_eDNA                          -7.266085   \n",
       "CN18Fc19_5_eDNA                          -5.253461   \n",
       "CN18Fc21_6_eDNA                          -4.642209   \n",
       "CN18Fc22_6_eDNA                          -5.080229   \n",
       "CN18Fc24_6_eDNA                          -5.201350   \n",
       "...                                            ...   \n",
       "CN18SESPkoa_SC42                         -3.014132   \n",
       "CN18SESPkoa_SC44                         -9.286961   \n",
       "CN18SESPkoa_SC45                         -2.857763   \n",
       "CN18SESPkoa_SC47                         -3.146956   \n",
       "CN18SESPkoa_SC49                         -3.006169   \n",
       "\n",
       "                  7ec69f2c62aad60e060e588ef687bdd0  \\\n",
       "CN18Fc12_8_eDNA                          -4.257749   \n",
       "CN18Fc19_5_eDNA                          -4.317067   \n",
       "CN18Fc21_6_eDNA                          -4.033737   \n",
       "CN18Fc22_6_eDNA                          -4.193843   \n",
       "CN18Fc24_6_eDNA                          -4.080325   \n",
       "...                                            ...   \n",
       "CN18SESPkoa_SC42                         -5.681572   \n",
       "CN18SESPkoa_SC44                         -3.436397   \n",
       "CN18SESPkoa_SC45                         -6.215196   \n",
       "CN18SESPkoa_SC47                         -6.600898   \n",
       "CN18SESPkoa_SC49                         -6.712858   \n",
       "\n",
       "                  61e9a50f4346bb3a5b16179b8eca71fa  \\\n",
       "CN18Fc12_8_eDNA                          -3.478644   \n",
       "CN18Fc19_5_eDNA                          -4.073528   \n",
       "CN18Fc21_6_eDNA                          -3.749748   \n",
       "CN18Fc22_6_eDNA                          -3.968792   \n",
       "CN18Fc24_6_eDNA                          -3.817355   \n",
       "...                                            ...   \n",
       "CN18SESPkoa_SC42                         -6.267176   \n",
       "CN18SESPkoa_SC44                         -5.477660   \n",
       "CN18SESPkoa_SC45                         -6.486688   \n",
       "CN18SESPkoa_SC47                         -6.736287   \n",
       "CN18SESPkoa_SC49                         -6.356023   \n",
       "\n",
       "                  a140195871278e8fcf9447e42bad8786  ...  \\\n",
       "CN18Fc12_8_eDNA                          -4.224144  ...   \n",
       "CN18Fc19_5_eDNA                          -3.825368  ...   \n",
       "CN18Fc21_6_eDNA                          -3.983546  ...   \n",
       "CN18Fc22_6_eDNA                          -4.027630  ...   \n",
       "CN18Fc24_6_eDNA                          -4.181282  ...   \n",
       "...                                            ...  ...   \n",
       "CN18SESPkoa_SC42                         -5.303297  ...   \n",
       "CN18SESPkoa_SC44                        -10.763444  ...   \n",
       "CN18SESPkoa_SC45                         -5.699816  ...   \n",
       "CN18SESPkoa_SC47                         -5.577953  ...   \n",
       "CN18SESPkoa_SC49                         -5.617192  ...   \n",
       "\n",
       "                  995cc65bcfa53a868c42615004e99ad3  \\\n",
       "CN18Fc12_8_eDNA                          -9.147011   \n",
       "CN18Fc19_5_eDNA                         -10.075962   \n",
       "CN18Fc21_6_eDNA                         -14.214298   \n",
       "CN18Fc22_6_eDNA                         -11.709872   \n",
       "CN18Fc24_6_eDNA                         -10.457152   \n",
       "...                                            ...   \n",
       "CN18SESPkoa_SC42                        -11.832149   \n",
       "CN18SESPkoa_SC44                         -8.016053   \n",
       "CN18SESPkoa_SC45                        -10.002541   \n",
       "CN18SESPkoa_SC47                        -10.775152   \n",
       "CN18SESPkoa_SC49                        -10.133820   \n",
       "\n",
       "                  46b90aab075ecd8e4db549da708550d8  \\\n",
       "CN18Fc12_8_eDNA                         -13.097670   \n",
       "CN18Fc19_5_eDNA                         -11.671836   \n",
       "CN18Fc21_6_eDNA                         -10.518399   \n",
       "CN18Fc22_6_eDNA                         -12.219002   \n",
       "CN18Fc24_6_eDNA                         -10.802869   \n",
       "...                                            ...   \n",
       "CN18SESPkoa_SC42                        -13.313950   \n",
       "CN18SESPkoa_SC44                         -9.391042   \n",
       "CN18SESPkoa_SC45                        -10.316612   \n",
       "CN18SESPkoa_SC47                        -11.337768   \n",
       "CN18SESPkoa_SC49                         -9.434617   \n",
       "\n",
       "                  c4e1933274329209b7cf24daf18dfe0d  \\\n",
       "CN18Fc12_8_eDNA                          -7.458116   \n",
       "CN18Fc19_5_eDNA                         -12.399655   \n",
       "CN18Fc21_6_eDNA                         -10.929510   \n",
       "CN18Fc22_6_eDNA                         -10.694165   \n",
       "CN18Fc24_6_eDNA                         -11.176728   \n",
       "...                                            ...   \n",
       "CN18SESPkoa_SC42                        -11.806601   \n",
       "CN18SESPkoa_SC44                        -10.954519   \n",
       "CN18SESPkoa_SC45                         -9.675137   \n",
       "CN18SESPkoa_SC47                        -10.845074   \n",
       "CN18SESPkoa_SC49                        -10.550724   \n",
       "\n",
       "                  aa9e141a5e2781d280406c513bf34d45  \\\n",
       "CN18Fc12_8_eDNA                          -8.676306   \n",
       "CN18Fc19_5_eDNA                         -10.433967   \n",
       "CN18Fc21_6_eDNA                         -10.943070   \n",
       "CN18Fc22_6_eDNA                         -12.583330   \n",
       "CN18Fc24_6_eDNA                         -12.798423   \n",
       "...                                            ...   \n",
       "CN18SESPkoa_SC42                        -11.799272   \n",
       "CN18SESPkoa_SC44                        -10.201096   \n",
       "CN18SESPkoa_SC45                        -10.861858   \n",
       "CN18SESPkoa_SC47                         -9.723058   \n",
       "CN18SESPkoa_SC49                         -9.220204   \n",
       "\n",
       "                  d7682f536589fc5f920533513dd0002b  \\\n",
       "CN18Fc12_8_eDNA                         -10.638815   \n",
       "CN18Fc19_5_eDNA                         -10.621924   \n",
       "CN18Fc21_6_eDNA                         -16.252094   \n",
       "CN18Fc22_6_eDNA                         -11.782047   \n",
       "CN18Fc24_6_eDNA                         -10.372606   \n",
       "...                                            ...   \n",
       "CN18SESPkoa_SC42                        -12.329835   \n",
       "CN18SESPkoa_SC44                         -8.683704   \n",
       "CN18SESPkoa_SC45                        -12.447037   \n",
       "CN18SESPkoa_SC47                        -10.212860   \n",
       "CN18SESPkoa_SC49                         -9.450443   \n",
       "\n",
       "                  674933a0d44342a0647f7a5b4591f26e  \\\n",
       "CN18Fc12_8_eDNA                         -10.068675   \n",
       "CN18Fc19_5_eDNA                         -10.063614   \n",
       "CN18Fc21_6_eDNA                         -12.379283   \n",
       "CN18Fc22_6_eDNA                         -11.246520   \n",
       "CN18Fc24_6_eDNA                         -10.914674   \n",
       "...                                            ...   \n",
       "CN18SESPkoa_SC42                        -10.956852   \n",
       "CN18SESPkoa_SC44                        -10.797071   \n",
       "CN18SESPkoa_SC45                         -9.684577   \n",
       "CN18SESPkoa_SC47                        -10.572641   \n",
       "CN18SESPkoa_SC49                        -10.763867   \n",
       "\n",
       "                  bebe1b9a7e9aaa78172c1208111f4570  \\\n",
       "CN18Fc12_8_eDNA                          -9.092338   \n",
       "CN18Fc19_5_eDNA                         -13.857385   \n",
       "CN18Fc21_6_eDNA                         -11.185760   \n",
       "CN18Fc22_6_eDNA                         -10.036828   \n",
       "CN18Fc24_6_eDNA                         -10.629893   \n",
       "...                                            ...   \n",
       "CN18SESPkoa_SC42                        -10.377181   \n",
       "CN18SESPkoa_SC44                         -8.968640   \n",
       "CN18SESPkoa_SC45                        -10.457763   \n",
       "CN18SESPkoa_SC47                        -10.565357   \n",
       "CN18SESPkoa_SC49                        -10.840365   \n",
       "\n",
       "                  0128431733f67d02efad766d717fe6fd  \\\n",
       "CN18Fc12_8_eDNA                          -9.894179   \n",
       "CN18Fc19_5_eDNA                          -9.563822   \n",
       "CN18Fc21_6_eDNA                         -10.538782   \n",
       "CN18Fc22_6_eDNA                         -13.358864   \n",
       "CN18Fc24_6_eDNA                         -14.930447   \n",
       "...                                            ...   \n",
       "CN18SESPkoa_SC42                        -13.875120   \n",
       "CN18SESPkoa_SC44                         -7.953776   \n",
       "CN18SESPkoa_SC45                        -18.015313   \n",
       "CN18SESPkoa_SC47                        -12.196615   \n",
       "CN18SESPkoa_SC49                        -11.493046   \n",
       "\n",
       "                  41102a7dd1f4647ba5477c947daabc0e  \\\n",
       "CN18Fc12_8_eDNA                          -9.214627   \n",
       "CN18Fc19_5_eDNA                         -11.168945   \n",
       "CN18Fc21_6_eDNA                         -11.939503   \n",
       "CN18Fc22_6_eDNA                         -10.381750   \n",
       "CN18Fc24_6_eDNA                         -14.409034   \n",
       "...                                            ...   \n",
       "CN18SESPkoa_SC42                        -11.334859   \n",
       "CN18SESPkoa_SC44                        -10.248915   \n",
       "CN18SESPkoa_SC45                        -10.525585   \n",
       "CN18SESPkoa_SC47                        -13.678918   \n",
       "CN18SESPkoa_SC49                        -10.802167   \n",
       "\n",
       "                  51440f89c391fb32f9ee895db22bf8f8  \n",
       "CN18Fc12_8_eDNA                          -8.804530  \n",
       "CN18Fc19_5_eDNA                         -11.112942  \n",
       "CN18Fc21_6_eDNA                         -12.193877  \n",
       "CN18Fc22_6_eDNA                         -12.708571  \n",
       "CN18Fc24_6_eDNA                         -10.505408  \n",
       "...                                            ...  \n",
       "CN18SESPkoa_SC42                        -11.064012  \n",
       "CN18SESPkoa_SC44                         -8.818672  \n",
       "CN18SESPkoa_SC45                        -13.463480  \n",
       "CN18SESPkoa_SC47                        -12.153876  \n",
       "CN18SESPkoa_SC49                        -10.401726  \n",
       "\n",
       "[62 rows x 2752 columns]"
      ]
     },
     "execution_count": 24,
     "metadata": {},
     "output_type": "execute_result"
    }
   ],
   "source": [
    "# one random draw\n",
    "ran_lo = md.ranRelPct(asvs1)\n",
    "ran_lo"
   ]
  },
  {
   "cell_type": "code",
   "execution_count": 32,
   "id": "845e696c-9542-46e1-8976-44fbdeba19a7",
   "metadata": {},
   "outputs": [],
   "source": [
    "def doClustering(df, num_clusts, num_pcs = None):\n",
    "    agg_clust = aggclust(n_clusters = num_clusts, affinity = \"euclidean\", \n",
    "                         linkage = \"single\", output_type=\"cudf\")\n",
    "    labels = agg_clust.fit_predict(df)\n",
    "    return labels.astype(int)"
   ]
  },
  {
   "cell_type": "code",
   "execution_count": 34,
   "id": "9fc93f31-2599-4d14-9b66-cb5622599a1d",
   "metadata": {},
   "outputs": [
    {
     "name": "stdout",
     "output_type": "stream",
     "text": [
      "[0 0 0 0 0 0 0 0 0 0 0 0 0 0 0 0 0 0 0 0 0 0 0 0 0 0 0 0 0 0 0 0 0 0 0 0 0\n",
      " 0 0 0 0 0 1 1 1 1 1 0 1 0 1 0 2 1 0 1 0 1 0 1 1 1]\n",
      "\n",
      "   0   1\n",
      "0  0  48\n",
      "1  1  13\n",
      "2  2   1\n"
     ]
    }
   ],
   "source": [
    "# Hierarchical clustering of random log-odds draw\n",
    "labels = doClustering(ran_lo, 3).to_cupy()\n",
    "print(labels)\n",
    "print()\n",
    "print(cudf.DataFrame(cp.array(cp.unique(labels, return_counts=True)).T))"
   ]
  },
  {
   "cell_type": "code",
   "execution_count": 35,
   "id": "4848e2a7-9be4-49c8-a9e6-90da82159311",
   "metadata": {},
   "outputs": [],
   "source": [
    "def doPCA(df, num_pcs = None):\n",
    "    max_pcs = min(df.shape[0] - 1, df.shape[1] - 1)\n",
    "    if num_pcs is None:\n",
    "        num_pcs = max_pcs\n",
    "    elif num_pcs > max_pcs:\n",
    "        num_pcs = max_pcs\n",
    "    pca = PCA(n_components = num_pcs)\n",
    "    pca_fit = pca.fit(df)\n",
    "    pca_results = {\n",
    "        \"scores\": pca_fit.transform(df),\n",
    "        \"loadings\": np.transpose(pca_fit.components_)\n",
    "    }\n",
    "    return pca_results"
   ]
  },
  {
   "cell_type": "code",
   "execution_count": 43,
   "id": "bb46af22-5286-438d-903f-ccaa84f6e2b0",
   "metadata": {},
   "outputs": [
    {
     "data": {
      "text/html": [
       "<div>\n",
       "<style scoped>\n",
       "    .dataframe tbody tr th:only-of-type {\n",
       "        vertical-align: middle;\n",
       "    }\n",
       "\n",
       "    .dataframe tbody tr th {\n",
       "        vertical-align: top;\n",
       "    }\n",
       "\n",
       "    .dataframe thead th {\n",
       "        text-align: right;\n",
       "    }\n",
       "</style>\n",
       "<table border=\"1\" class=\"dataframe\">\n",
       "  <thead>\n",
       "    <tr style=\"text-align: right;\">\n",
       "      <th></th>\n",
       "      <th>0</th>\n",
       "      <th>1</th>\n",
       "      <th>2</th>\n",
       "      <th>3</th>\n",
       "      <th>4</th>\n",
       "      <th>5</th>\n",
       "      <th>6</th>\n",
       "      <th>7</th>\n",
       "      <th>8</th>\n",
       "      <th>9</th>\n",
       "      <th>...</th>\n",
       "      <th>51</th>\n",
       "      <th>52</th>\n",
       "      <th>53</th>\n",
       "      <th>54</th>\n",
       "      <th>55</th>\n",
       "      <th>56</th>\n",
       "      <th>57</th>\n",
       "      <th>58</th>\n",
       "      <th>59</th>\n",
       "      <th>60</th>\n",
       "    </tr>\n",
       "  </thead>\n",
       "  <tbody>\n",
       "    <tr>\n",
       "      <th>CN18Fc12_8_eDNA</th>\n",
       "      <td>26.633125</td>\n",
       "      <td>81.008242</td>\n",
       "      <td>37.643277</td>\n",
       "      <td>13.318918</td>\n",
       "      <td>-6.444128</td>\n",
       "      <td>4.257501</td>\n",
       "      <td>-1.641300</td>\n",
       "      <td>-1.894444</td>\n",
       "      <td>-5.476461</td>\n",
       "      <td>-1.114083</td>\n",
       "      <td>...</td>\n",
       "      <td>4.235449</td>\n",
       "      <td>-10.518119</td>\n",
       "      <td>-9.436984</td>\n",
       "      <td>23.012666</td>\n",
       "      <td>4.884406</td>\n",
       "      <td>-4.566032</td>\n",
       "      <td>3.240318</td>\n",
       "      <td>-7.986310</td>\n",
       "      <td>-6.030244</td>\n",
       "      <td>-5.553163</td>\n",
       "    </tr>\n",
       "    <tr>\n",
       "      <th>CN18Fc19_5_eDNA</th>\n",
       "      <td>-19.430991</td>\n",
       "      <td>6.336744</td>\n",
       "      <td>7.883806</td>\n",
       "      <td>0.638402</td>\n",
       "      <td>6.017583</td>\n",
       "      <td>-7.454463</td>\n",
       "      <td>6.061775</td>\n",
       "      <td>-6.416460</td>\n",
       "      <td>19.271632</td>\n",
       "      <td>-4.240084</td>\n",
       "      <td>...</td>\n",
       "      <td>-6.277418</td>\n",
       "      <td>0.488903</td>\n",
       "      <td>5.676441</td>\n",
       "      <td>-0.842434</td>\n",
       "      <td>16.274325</td>\n",
       "      <td>-5.885582</td>\n",
       "      <td>-5.431640</td>\n",
       "      <td>-1.000835</td>\n",
       "      <td>18.951263</td>\n",
       "      <td>6.866653</td>\n",
       "    </tr>\n",
       "    <tr>\n",
       "      <th>CN18Fc21_6_eDNA</th>\n",
       "      <td>-25.417937</td>\n",
       "      <td>-13.558568</td>\n",
       "      <td>9.535080</td>\n",
       "      <td>11.283990</td>\n",
       "      <td>-7.808565</td>\n",
       "      <td>-12.060478</td>\n",
       "      <td>5.318536</td>\n",
       "      <td>-6.466850</td>\n",
       "      <td>4.095472</td>\n",
       "      <td>-10.776201</td>\n",
       "      <td>...</td>\n",
       "      <td>4.704645</td>\n",
       "      <td>-12.528844</td>\n",
       "      <td>-3.981617</td>\n",
       "      <td>0.619974</td>\n",
       "      <td>-10.364353</td>\n",
       "      <td>-1.970343</td>\n",
       "      <td>5.254757</td>\n",
       "      <td>10.868783</td>\n",
       "      <td>9.271278</td>\n",
       "      <td>1.797001</td>\n",
       "    </tr>\n",
       "    <tr>\n",
       "      <th>CN18Fc22_6_eDNA</th>\n",
       "      <td>-22.443585</td>\n",
       "      <td>-5.083674</td>\n",
       "      <td>6.991064</td>\n",
       "      <td>1.596799</td>\n",
       "      <td>3.230142</td>\n",
       "      <td>-10.682107</td>\n",
       "      <td>5.224916</td>\n",
       "      <td>-9.465627</td>\n",
       "      <td>7.698258</td>\n",
       "      <td>-13.280346</td>\n",
       "      <td>...</td>\n",
       "      <td>20.007526</td>\n",
       "      <td>-3.952385</td>\n",
       "      <td>-5.780538</td>\n",
       "      <td>-6.094470</td>\n",
       "      <td>-0.977828</td>\n",
       "      <td>-8.118280</td>\n",
       "      <td>-1.962383</td>\n",
       "      <td>-1.936196</td>\n",
       "      <td>-1.329840</td>\n",
       "      <td>2.586476</td>\n",
       "    </tr>\n",
       "    <tr>\n",
       "      <th>CN18Fc24_6_eDNA</th>\n",
       "      <td>-25.675394</td>\n",
       "      <td>0.637582</td>\n",
       "      <td>10.323905</td>\n",
       "      <td>8.190665</td>\n",
       "      <td>6.766119</td>\n",
       "      <td>-3.462494</td>\n",
       "      <td>8.534896</td>\n",
       "      <td>2.824094</td>\n",
       "      <td>11.215545</td>\n",
       "      <td>11.963531</td>\n",
       "      <td>...</td>\n",
       "      <td>-12.237606</td>\n",
       "      <td>3.376856</td>\n",
       "      <td>-12.173078</td>\n",
       "      <td>6.058940</td>\n",
       "      <td>4.058842</td>\n",
       "      <td>18.594722</td>\n",
       "      <td>13.185003</td>\n",
       "      <td>7.782146</td>\n",
       "      <td>-9.309658</td>\n",
       "      <td>0.012925</td>\n",
       "    </tr>\n",
       "    <tr>\n",
       "      <th>...</th>\n",
       "      <td>...</td>\n",
       "      <td>...</td>\n",
       "      <td>...</td>\n",
       "      <td>...</td>\n",
       "      <td>...</td>\n",
       "      <td>...</td>\n",
       "      <td>...</td>\n",
       "      <td>...</td>\n",
       "      <td>...</td>\n",
       "      <td>...</td>\n",
       "      <td>...</td>\n",
       "      <td>...</td>\n",
       "      <td>...</td>\n",
       "      <td>...</td>\n",
       "      <td>...</td>\n",
       "      <td>...</td>\n",
       "      <td>...</td>\n",
       "      <td>...</td>\n",
       "      <td>...</td>\n",
       "      <td>...</td>\n",
       "      <td>...</td>\n",
       "    </tr>\n",
       "    <tr>\n",
       "      <th>CN18SESPkoa_SC42</th>\n",
       "      <td>67.431675</td>\n",
       "      <td>-23.099000</td>\n",
       "      <td>1.028447</td>\n",
       "      <td>3.908635</td>\n",
       "      <td>1.324678</td>\n",
       "      <td>-3.411786</td>\n",
       "      <td>-18.506041</td>\n",
       "      <td>-2.551439</td>\n",
       "      <td>-3.789146</td>\n",
       "      <td>-9.483929</td>\n",
       "      <td>...</td>\n",
       "      <td>-4.699402</td>\n",
       "      <td>-2.217623</td>\n",
       "      <td>-1.119132</td>\n",
       "      <td>0.887859</td>\n",
       "      <td>-7.929645</td>\n",
       "      <td>8.839734</td>\n",
       "      <td>2.583012</td>\n",
       "      <td>-0.542581</td>\n",
       "      <td>-2.500127</td>\n",
       "      <td>2.968015</td>\n",
       "    </tr>\n",
       "    <tr>\n",
       "      <th>CN18SESPkoa_SC44</th>\n",
       "      <td>33.783033</td>\n",
       "      <td>93.854828</td>\n",
       "      <td>10.960167</td>\n",
       "      <td>8.370723</td>\n",
       "      <td>-13.384891</td>\n",
       "      <td>2.297346</td>\n",
       "      <td>1.043533</td>\n",
       "      <td>17.321072</td>\n",
       "      <td>-8.188014</td>\n",
       "      <td>-3.951064</td>\n",
       "      <td>...</td>\n",
       "      <td>0.290130</td>\n",
       "      <td>1.818614</td>\n",
       "      <td>2.023168</td>\n",
       "      <td>-1.741815</td>\n",
       "      <td>1.699487</td>\n",
       "      <td>-5.243689</td>\n",
       "      <td>11.692389</td>\n",
       "      <td>-0.624574</td>\n",
       "      <td>5.700194</td>\n",
       "      <td>8.457555</td>\n",
       "    </tr>\n",
       "    <tr>\n",
       "      <th>CN18SESPkoa_SC45</th>\n",
       "      <td>66.553362</td>\n",
       "      <td>-18.875990</td>\n",
       "      <td>7.699308</td>\n",
       "      <td>-0.487302</td>\n",
       "      <td>1.084516</td>\n",
       "      <td>-6.743879</td>\n",
       "      <td>3.251372</td>\n",
       "      <td>-5.148708</td>\n",
       "      <td>-3.739578</td>\n",
       "      <td>-16.025225</td>\n",
       "      <td>...</td>\n",
       "      <td>3.376532</td>\n",
       "      <td>-0.314077</td>\n",
       "      <td>6.430268</td>\n",
       "      <td>-8.639379</td>\n",
       "      <td>-9.895881</td>\n",
       "      <td>0.050153</td>\n",
       "      <td>-1.985651</td>\n",
       "      <td>3.660580</td>\n",
       "      <td>-13.389273</td>\n",
       "      <td>0.563855</td>\n",
       "    </tr>\n",
       "    <tr>\n",
       "      <th>CN18SESPkoa_SC47</th>\n",
       "      <td>70.734854</td>\n",
       "      <td>-23.522454</td>\n",
       "      <td>9.614742</td>\n",
       "      <td>-2.601888</td>\n",
       "      <td>-0.412628</td>\n",
       "      <td>-1.372254</td>\n",
       "      <td>4.328467</td>\n",
       "      <td>-0.429163</td>\n",
       "      <td>0.317482</td>\n",
       "      <td>-24.934225</td>\n",
       "      <td>...</td>\n",
       "      <td>-4.459568</td>\n",
       "      <td>3.148394</td>\n",
       "      <td>-4.788108</td>\n",
       "      <td>-2.835120</td>\n",
       "      <td>-3.459106</td>\n",
       "      <td>8.385833</td>\n",
       "      <td>-2.283138</td>\n",
       "      <td>-1.577903</td>\n",
       "      <td>3.857636</td>\n",
       "      <td>-2.392391</td>\n",
       "    </tr>\n",
       "    <tr>\n",
       "      <th>CN18SESPkoa_SC49</th>\n",
       "      <td>70.979767</td>\n",
       "      <td>-20.144166</td>\n",
       "      <td>5.375998</td>\n",
       "      <td>0.344516</td>\n",
       "      <td>-3.308611</td>\n",
       "      <td>0.040492</td>\n",
       "      <td>7.122139</td>\n",
       "      <td>-6.699273</td>\n",
       "      <td>3.933616</td>\n",
       "      <td>-5.804450</td>\n",
       "      <td>...</td>\n",
       "      <td>6.508202</td>\n",
       "      <td>0.185936</td>\n",
       "      <td>-6.083086</td>\n",
       "      <td>2.860821</td>\n",
       "      <td>9.699485</td>\n",
       "      <td>-2.579689</td>\n",
       "      <td>9.185071</td>\n",
       "      <td>0.586745</td>\n",
       "      <td>-1.682686</td>\n",
       "      <td>-2.776026</td>\n",
       "    </tr>\n",
       "  </tbody>\n",
       "</table>\n",
       "<p>62 rows × 61 columns</p>\n",
       "</div>"
      ],
      "text/plain": [
       "                         0          1          2          3          4   \\\n",
       "CN18Fc12_8_eDNA   26.633125  81.008242  37.643277  13.318918  -6.444128   \n",
       "CN18Fc19_5_eDNA  -19.430991   6.336744   7.883806   0.638402   6.017583   \n",
       "CN18Fc21_6_eDNA  -25.417937 -13.558568   9.535080  11.283990  -7.808565   \n",
       "CN18Fc22_6_eDNA  -22.443585  -5.083674   6.991064   1.596799   3.230142   \n",
       "CN18Fc24_6_eDNA  -25.675394   0.637582  10.323905   8.190665   6.766119   \n",
       "...                     ...        ...        ...        ...        ...   \n",
       "CN18SESPkoa_SC42  67.431675 -23.099000   1.028447   3.908635   1.324678   \n",
       "CN18SESPkoa_SC44  33.783033  93.854828  10.960167   8.370723 -13.384891   \n",
       "CN18SESPkoa_SC45  66.553362 -18.875990   7.699308  -0.487302   1.084516   \n",
       "CN18SESPkoa_SC47  70.734854 -23.522454   9.614742  -2.601888  -0.412628   \n",
       "CN18SESPkoa_SC49  70.979767 -20.144166   5.375998   0.344516  -3.308611   \n",
       "\n",
       "                         5          6          7          8          9   ...  \\\n",
       "CN18Fc12_8_eDNA    4.257501  -1.641300  -1.894444  -5.476461  -1.114083  ...   \n",
       "CN18Fc19_5_eDNA   -7.454463   6.061775  -6.416460  19.271632  -4.240084  ...   \n",
       "CN18Fc21_6_eDNA  -12.060478   5.318536  -6.466850   4.095472 -10.776201  ...   \n",
       "CN18Fc22_6_eDNA  -10.682107   5.224916  -9.465627   7.698258 -13.280346  ...   \n",
       "CN18Fc24_6_eDNA   -3.462494   8.534896   2.824094  11.215545  11.963531  ...   \n",
       "...                     ...        ...        ...        ...        ...  ...   \n",
       "CN18SESPkoa_SC42  -3.411786 -18.506041  -2.551439  -3.789146  -9.483929  ...   \n",
       "CN18SESPkoa_SC44   2.297346   1.043533  17.321072  -8.188014  -3.951064  ...   \n",
       "CN18SESPkoa_SC45  -6.743879   3.251372  -5.148708  -3.739578 -16.025225  ...   \n",
       "CN18SESPkoa_SC47  -1.372254   4.328467  -0.429163   0.317482 -24.934225  ...   \n",
       "CN18SESPkoa_SC49   0.040492   7.122139  -6.699273   3.933616  -5.804450  ...   \n",
       "\n",
       "                         51         52         53         54         55  \\\n",
       "CN18Fc12_8_eDNA    4.235449 -10.518119  -9.436984  23.012666   4.884406   \n",
       "CN18Fc19_5_eDNA   -6.277418   0.488903   5.676441  -0.842434  16.274325   \n",
       "CN18Fc21_6_eDNA    4.704645 -12.528844  -3.981617   0.619974 -10.364353   \n",
       "CN18Fc22_6_eDNA   20.007526  -3.952385  -5.780538  -6.094470  -0.977828   \n",
       "CN18Fc24_6_eDNA  -12.237606   3.376856 -12.173078   6.058940   4.058842   \n",
       "...                     ...        ...        ...        ...        ...   \n",
       "CN18SESPkoa_SC42  -4.699402  -2.217623  -1.119132   0.887859  -7.929645   \n",
       "CN18SESPkoa_SC44   0.290130   1.818614   2.023168  -1.741815   1.699487   \n",
       "CN18SESPkoa_SC45   3.376532  -0.314077   6.430268  -8.639379  -9.895881   \n",
       "CN18SESPkoa_SC47  -4.459568   3.148394  -4.788108  -2.835120  -3.459106   \n",
       "CN18SESPkoa_SC49   6.508202   0.185936  -6.083086   2.860821   9.699485   \n",
       "\n",
       "                         56         57         58         59        60  \n",
       "CN18Fc12_8_eDNA   -4.566032   3.240318  -7.986310  -6.030244 -5.553163  \n",
       "CN18Fc19_5_eDNA   -5.885582  -5.431640  -1.000835  18.951263  6.866653  \n",
       "CN18Fc21_6_eDNA   -1.970343   5.254757  10.868783   9.271278  1.797001  \n",
       "CN18Fc22_6_eDNA   -8.118280  -1.962383  -1.936196  -1.329840  2.586476  \n",
       "CN18Fc24_6_eDNA   18.594722  13.185003   7.782146  -9.309658  0.012925  \n",
       "...                     ...        ...        ...        ...       ...  \n",
       "CN18SESPkoa_SC42   8.839734   2.583012  -0.542581  -2.500127  2.968015  \n",
       "CN18SESPkoa_SC44  -5.243689  11.692389  -0.624574   5.700194  8.457555  \n",
       "CN18SESPkoa_SC45   0.050153  -1.985651   3.660580 -13.389273  0.563855  \n",
       "CN18SESPkoa_SC47   8.385833  -2.283138  -1.577903   3.857636 -2.392391  \n",
       "CN18SESPkoa_SC49  -2.579689   9.185071   0.586745  -1.682686 -2.776026  \n",
       "\n",
       "[62 rows x 61 columns]"
      ]
     },
     "execution_count": 43,
     "metadata": {},
     "output_type": "execute_result"
    }
   ],
   "source": [
    "scores = doPCA(ran_lo)[\"scores\"]\n",
    "scores"
   ]
  },
  {
   "cell_type": "code",
   "execution_count": 45,
   "id": "7be5759e-85fc-4ddf-851e-e4c500d89ec9",
   "metadata": {},
   "outputs": [
    {
     "data": {
      "text/plain": [
       "array([0, 0, 0, 0, 0, 0, 0, 0, 0, 0, 0, 0, 0, 0, 0, 0, 0, 0, 0, 0, 0, 0,\n",
       "       0, 0, 0, 0, 0, 0, 0, 0, 0, 0, 0, 0, 0, 0, 0, 0, 0, 0, 0, 0, 1, 1,\n",
       "       1, 1, 1, 0, 1, 0, 1, 0, 2, 1, 0, 1, 0, 1, 0, 1, 1, 1])"
      ]
     },
     "execution_count": 45,
     "metadata": {},
     "output_type": "execute_result"
    }
   ],
   "source": [
    "#labels = labels.astype()\n",
    "labels"
   ]
  },
  {
   "cell_type": "code",
   "execution_count": 46,
   "id": "53435a6e-e97f-4370-ac73-7da405c66537",
   "metadata": {},
   "outputs": [
    {
     "ename": "TypeError",
     "evalue": "Implicit conversion to a host NumPy array via __array__ is not allowed, To explicitly construct a GPU matrix, consider using .to_cupy()\nTo explicitly construct a host matrix, consider using .to_numpy().",
     "output_type": "error",
     "traceback": [
      "\u001b[0;31m---------------------------------------------------------------------------\u001b[0m",
      "\u001b[0;31mTypeError\u001b[0m                                 Traceback (most recent call last)",
      "\u001b[0;32m/tmp/ipykernel_7644/562857681.py\u001b[0m in \u001b[0;36m<module>\u001b[0;34m\u001b[0m\n\u001b[1;32m      2\u001b[0m \u001b[0mscores\u001b[0m \u001b[0;34m=\u001b[0m \u001b[0mdoPCA\u001b[0m\u001b[0;34m(\u001b[0m\u001b[0mran_lo\u001b[0m\u001b[0;34m)\u001b[0m\u001b[0;34m[\u001b[0m\u001b[0;34m\"scores\"\u001b[0m\u001b[0;34m]\u001b[0m\u001b[0;34m\u001b[0m\u001b[0;34m\u001b[0m\u001b[0m\n\u001b[1;32m      3\u001b[0m \u001b[0mscores\u001b[0m\u001b[0;34m[\u001b[0m\u001b[0;34m\"labels\"\u001b[0m\u001b[0;34m]\u001b[0m \u001b[0;34m=\u001b[0m \u001b[0mlabels\u001b[0m\u001b[0;34m\u001b[0m\u001b[0;34m\u001b[0m\u001b[0m\n\u001b[0;32m----> 4\u001b[0;31m fig = px.scatter(\n\u001b[0m\u001b[1;32m      5\u001b[0m     \u001b[0mscores\u001b[0m\u001b[0;34m,\u001b[0m\u001b[0;34m\u001b[0m\u001b[0;34m\u001b[0m\u001b[0m\n\u001b[1;32m      6\u001b[0m     \u001b[0mx\u001b[0m \u001b[0;34m=\u001b[0m \u001b[0;36m0\u001b[0m\u001b[0;34m,\u001b[0m\u001b[0;34m\u001b[0m\u001b[0;34m\u001b[0m\u001b[0m\n",
      "\u001b[0;32m/opt/conda/envs/rapids/lib/python3.9/site-packages/plotly/express/_chart_types.py\u001b[0m in \u001b[0;36mscatter\u001b[0;34m(data_frame, x, y, color, symbol, size, hover_name, hover_data, custom_data, text, facet_row, facet_col, facet_col_wrap, facet_row_spacing, facet_col_spacing, error_x, error_x_minus, error_y, error_y_minus, animation_frame, animation_group, category_orders, labels, orientation, color_discrete_sequence, color_discrete_map, color_continuous_scale, range_color, color_continuous_midpoint, symbol_sequence, symbol_map, opacity, size_max, marginal_x, marginal_y, trendline, trendline_options, trendline_color_override, trendline_scope, log_x, log_y, range_x, range_y, render_mode, title, template, width, height)\u001b[0m\n\u001b[1;32m     64\u001b[0m     \u001b[0mmark\u001b[0m \u001b[0;32min\u001b[0m \u001b[0;36m2\u001b[0m\u001b[0mD\u001b[0m \u001b[0mspace\u001b[0m\u001b[0;34m.\u001b[0m\u001b[0;34m\u001b[0m\u001b[0;34m\u001b[0m\u001b[0m\n\u001b[1;32m     65\u001b[0m     \"\"\"\n\u001b[0;32m---> 66\u001b[0;31m     \u001b[0;32mreturn\u001b[0m \u001b[0mmake_figure\u001b[0m\u001b[0;34m(\u001b[0m\u001b[0margs\u001b[0m\u001b[0;34m=\u001b[0m\u001b[0mlocals\u001b[0m\u001b[0;34m(\u001b[0m\u001b[0;34m)\u001b[0m\u001b[0;34m,\u001b[0m \u001b[0mconstructor\u001b[0m\u001b[0;34m=\u001b[0m\u001b[0mgo\u001b[0m\u001b[0;34m.\u001b[0m\u001b[0mScatter\u001b[0m\u001b[0;34m)\u001b[0m\u001b[0;34m\u001b[0m\u001b[0;34m\u001b[0m\u001b[0m\n\u001b[0m\u001b[1;32m     67\u001b[0m \u001b[0;34m\u001b[0m\u001b[0m\n\u001b[1;32m     68\u001b[0m \u001b[0;34m\u001b[0m\u001b[0m\n",
      "\u001b[0;32m/opt/conda/envs/rapids/lib/python3.9/site-packages/plotly/express/_core.py\u001b[0m in \u001b[0;36mmake_figure\u001b[0;34m(args, constructor, trace_patch, layout_patch)\u001b[0m\n\u001b[1;32m   1989\u001b[0m     \u001b[0mapply_default_cascade\u001b[0m\u001b[0;34m(\u001b[0m\u001b[0margs\u001b[0m\u001b[0;34m)\u001b[0m\u001b[0;34m\u001b[0m\u001b[0;34m\u001b[0m\u001b[0m\n\u001b[1;32m   1990\u001b[0m \u001b[0;34m\u001b[0m\u001b[0m\n\u001b[0;32m-> 1991\u001b[0;31m     \u001b[0margs\u001b[0m \u001b[0;34m=\u001b[0m \u001b[0mbuild_dataframe\u001b[0m\u001b[0;34m(\u001b[0m\u001b[0margs\u001b[0m\u001b[0;34m,\u001b[0m \u001b[0mconstructor\u001b[0m\u001b[0;34m)\u001b[0m\u001b[0;34m\u001b[0m\u001b[0;34m\u001b[0m\u001b[0m\n\u001b[0m\u001b[1;32m   1992\u001b[0m     \u001b[0;32mif\u001b[0m \u001b[0mconstructor\u001b[0m \u001b[0;32min\u001b[0m \u001b[0;34m[\u001b[0m\u001b[0mgo\u001b[0m\u001b[0;34m.\u001b[0m\u001b[0mTreemap\u001b[0m\u001b[0;34m,\u001b[0m \u001b[0mgo\u001b[0m\u001b[0;34m.\u001b[0m\u001b[0mSunburst\u001b[0m\u001b[0;34m,\u001b[0m \u001b[0mgo\u001b[0m\u001b[0;34m.\u001b[0m\u001b[0mIcicle\u001b[0m\u001b[0;34m]\u001b[0m \u001b[0;32mand\u001b[0m \u001b[0margs\u001b[0m\u001b[0;34m[\u001b[0m\u001b[0;34m\"path\"\u001b[0m\u001b[0;34m]\u001b[0m \u001b[0;32mis\u001b[0m \u001b[0;32mnot\u001b[0m \u001b[0;32mNone\u001b[0m\u001b[0;34m:\u001b[0m\u001b[0;34m\u001b[0m\u001b[0;34m\u001b[0m\u001b[0m\n\u001b[1;32m   1993\u001b[0m         \u001b[0margs\u001b[0m \u001b[0;34m=\u001b[0m \u001b[0mprocess_dataframe_hierarchy\u001b[0m\u001b[0;34m(\u001b[0m\u001b[0margs\u001b[0m\u001b[0;34m)\u001b[0m\u001b[0;34m\u001b[0m\u001b[0;34m\u001b[0m\u001b[0m\n",
      "\u001b[0;32m/opt/conda/envs/rapids/lib/python3.9/site-packages/plotly/express/_core.py\u001b[0m in \u001b[0;36mbuild_dataframe\u001b[0;34m(args, constructor)\u001b[0m\n\u001b[1;32m   1305\u001b[0m     \u001b[0mdf_provided\u001b[0m \u001b[0;34m=\u001b[0m \u001b[0margs\u001b[0m\u001b[0;34m[\u001b[0m\u001b[0;34m\"data_frame\"\u001b[0m\u001b[0;34m]\u001b[0m \u001b[0;32mis\u001b[0m \u001b[0;32mnot\u001b[0m \u001b[0;32mNone\u001b[0m\u001b[0;34m\u001b[0m\u001b[0;34m\u001b[0m\u001b[0m\n\u001b[1;32m   1306\u001b[0m     \u001b[0;32mif\u001b[0m \u001b[0mdf_provided\u001b[0m \u001b[0;32mand\u001b[0m \u001b[0;32mnot\u001b[0m \u001b[0misinstance\u001b[0m\u001b[0;34m(\u001b[0m\u001b[0margs\u001b[0m\u001b[0;34m[\u001b[0m\u001b[0;34m\"data_frame\"\u001b[0m\u001b[0;34m]\u001b[0m\u001b[0;34m,\u001b[0m \u001b[0mpd\u001b[0m\u001b[0;34m.\u001b[0m\u001b[0mDataFrame\u001b[0m\u001b[0;34m)\u001b[0m\u001b[0;34m:\u001b[0m\u001b[0;34m\u001b[0m\u001b[0;34m\u001b[0m\u001b[0m\n\u001b[0;32m-> 1307\u001b[0;31m         \u001b[0margs\u001b[0m\u001b[0;34m[\u001b[0m\u001b[0;34m\"data_frame\"\u001b[0m\u001b[0;34m]\u001b[0m \u001b[0;34m=\u001b[0m \u001b[0mpd\u001b[0m\u001b[0;34m.\u001b[0m\u001b[0mDataFrame\u001b[0m\u001b[0;34m(\u001b[0m\u001b[0margs\u001b[0m\u001b[0;34m[\u001b[0m\u001b[0;34m\"data_frame\"\u001b[0m\u001b[0;34m]\u001b[0m\u001b[0;34m)\u001b[0m\u001b[0;34m\u001b[0m\u001b[0;34m\u001b[0m\u001b[0m\n\u001b[0m\u001b[1;32m   1308\u001b[0m     \u001b[0mdf_input\u001b[0m \u001b[0;34m=\u001b[0m \u001b[0margs\u001b[0m\u001b[0;34m[\u001b[0m\u001b[0;34m\"data_frame\"\u001b[0m\u001b[0;34m]\u001b[0m\u001b[0;34m\u001b[0m\u001b[0;34m\u001b[0m\u001b[0m\n\u001b[1;32m   1309\u001b[0m \u001b[0;34m\u001b[0m\u001b[0m\n",
      "\u001b[0;32m/opt/conda/envs/rapids/lib/python3.9/site-packages/pandas/core/frame.py\u001b[0m in \u001b[0;36m__init__\u001b[0;34m(self, data, index, columns, dtype, copy)\u001b[0m\n\u001b[1;32m    732\u001b[0m                 \u001b[0;32mif\u001b[0m \u001b[0mhasattr\u001b[0m\u001b[0;34m(\u001b[0m\u001b[0mdata\u001b[0m\u001b[0;34m,\u001b[0m \u001b[0;34m\"__array__\"\u001b[0m\u001b[0;34m)\u001b[0m\u001b[0;34m:\u001b[0m\u001b[0;34m\u001b[0m\u001b[0;34m\u001b[0m\u001b[0m\n\u001b[1;32m    733\u001b[0m                     \u001b[0;31m# GH#44616 big perf improvement for e.g. pytorch tensor\u001b[0m\u001b[0;34m\u001b[0m\u001b[0;34m\u001b[0m\u001b[0m\n\u001b[0;32m--> 734\u001b[0;31m                     \u001b[0mdata\u001b[0m \u001b[0;34m=\u001b[0m \u001b[0mnp\u001b[0m\u001b[0;34m.\u001b[0m\u001b[0masarray\u001b[0m\u001b[0;34m(\u001b[0m\u001b[0mdata\u001b[0m\u001b[0;34m)\u001b[0m\u001b[0;34m\u001b[0m\u001b[0;34m\u001b[0m\u001b[0m\n\u001b[0m\u001b[1;32m    735\u001b[0m                 \u001b[0;32melse\u001b[0m\u001b[0;34m:\u001b[0m\u001b[0;34m\u001b[0m\u001b[0;34m\u001b[0m\u001b[0m\n\u001b[1;32m    736\u001b[0m                     \u001b[0mdata\u001b[0m \u001b[0;34m=\u001b[0m \u001b[0mlist\u001b[0m\u001b[0;34m(\u001b[0m\u001b[0mdata\u001b[0m\u001b[0;34m)\u001b[0m\u001b[0;34m\u001b[0m\u001b[0;34m\u001b[0m\u001b[0m\n",
      "\u001b[0;32m/opt/conda/envs/rapids/lib/python3.9/site-packages/cudf/core/frame.py\u001b[0m in \u001b[0;36m__array__\u001b[0;34m(self, dtype)\u001b[0m\n\u001b[1;32m    445\u001b[0m \u001b[0;34m\u001b[0m\u001b[0m\n\u001b[1;32m    446\u001b[0m     \u001b[0;32mdef\u001b[0m \u001b[0m__array__\u001b[0m\u001b[0;34m(\u001b[0m\u001b[0mself\u001b[0m\u001b[0;34m,\u001b[0m \u001b[0mdtype\u001b[0m\u001b[0;34m=\u001b[0m\u001b[0;32mNone\u001b[0m\u001b[0;34m)\u001b[0m\u001b[0;34m:\u001b[0m\u001b[0;34m\u001b[0m\u001b[0;34m\u001b[0m\u001b[0m\n\u001b[0;32m--> 447\u001b[0;31m         raise TypeError(\n\u001b[0m\u001b[1;32m    448\u001b[0m             \u001b[0;34m\"Implicit conversion to a host NumPy array via __array__ is not \"\u001b[0m\u001b[0;34m\u001b[0m\u001b[0;34m\u001b[0m\u001b[0m\n\u001b[1;32m    449\u001b[0m             \u001b[0;34m\"allowed, To explicitly construct a GPU matrix, consider using \"\u001b[0m\u001b[0;34m\u001b[0m\u001b[0;34m\u001b[0m\u001b[0m\n",
      "\u001b[0;31mTypeError\u001b[0m: Implicit conversion to a host NumPy array via __array__ is not allowed, To explicitly construct a GPU matrix, consider using .to_cupy()\nTo explicitly construct a host matrix, consider using .to_numpy()."
     ]
    }
   ],
   "source": [
    "# Visualize clustering on first 2 PC axes\n",
    "scores = doPCA(ran_lo)[\"scores\"]\n",
    "scores[\"labels\"] = labels\n",
    "fig = px.scatter(\n",
    "    scores,\n",
    "    x = 0,\n",
    "    y = 1,\n",
    "    color = \"labels\"\n",
    ")\n",
    "fig.show()"
   ]
  },
  {
   "cell_type": "code",
   "execution_count": 11,
   "id": "661b0ba0-27fd-45c4-9354-ec340c617cdb",
   "metadata": {},
   "outputs": [
    {
     "data": {
      "text/html": [
       "<div>\n",
       "<style scoped>\n",
       "    .dataframe tbody tr th:only-of-type {\n",
       "        vertical-align: middle;\n",
       "    }\n",
       "\n",
       "    .dataframe tbody tr th {\n",
       "        vertical-align: top;\n",
       "    }\n",
       "\n",
       "    .dataframe thead th {\n",
       "        text-align: right;\n",
       "    }\n",
       "</style>\n",
       "<table border=\"1\" class=\"dataframe\">\n",
       "  <thead>\n",
       "    <tr style=\"text-align: right;\">\n",
       "      <th></th>\n",
       "      <th>0</th>\n",
       "      <th>1</th>\n",
       "      <th>2</th>\n",
       "      <th>3</th>\n",
       "      <th>4</th>\n",
       "      <th>5</th>\n",
       "      <th>6</th>\n",
       "      <th>7</th>\n",
       "      <th>8</th>\n",
       "      <th>9</th>\n",
       "    </tr>\n",
       "  </thead>\n",
       "  <tbody>\n",
       "    <tr>\n",
       "      <th>0</th>\n",
       "      <td>3</td>\n",
       "      <td>3</td>\n",
       "      <td>3</td>\n",
       "      <td>7</td>\n",
       "      <td>3</td>\n",
       "      <td>3</td>\n",
       "      <td>3</td>\n",
       "      <td>7</td>\n",
       "      <td>3</td>\n",
       "      <td>7</td>\n",
       "    </tr>\n",
       "    <tr>\n",
       "      <th>1</th>\n",
       "      <td>0</td>\n",
       "      <td>4</td>\n",
       "      <td>6</td>\n",
       "      <td>6</td>\n",
       "      <td>0</td>\n",
       "      <td>2</td>\n",
       "      <td>0</td>\n",
       "      <td>6</td>\n",
       "      <td>0</td>\n",
       "      <td>0</td>\n",
       "    </tr>\n",
       "    <tr>\n",
       "      <th>2</th>\n",
       "      <td>4</td>\n",
       "      <td>0</td>\n",
       "      <td>0</td>\n",
       "      <td>5</td>\n",
       "      <td>5</td>\n",
       "      <td>7</td>\n",
       "      <td>6</td>\n",
       "      <td>2</td>\n",
       "      <td>5</td>\n",
       "      <td>2</td>\n",
       "    </tr>\n",
       "    <tr>\n",
       "      <th>3</th>\n",
       "      <td>0</td>\n",
       "      <td>0</td>\n",
       "      <td>0</td>\n",
       "      <td>5</td>\n",
       "      <td>0</td>\n",
       "      <td>2</td>\n",
       "      <td>2</td>\n",
       "      <td>6</td>\n",
       "      <td>5</td>\n",
       "      <td>6</td>\n",
       "    </tr>\n",
       "    <tr>\n",
       "      <th>4</th>\n",
       "      <td>4</td>\n",
       "      <td>0</td>\n",
       "      <td>0</td>\n",
       "      <td>5</td>\n",
       "      <td>0</td>\n",
       "      <td>7</td>\n",
       "      <td>2</td>\n",
       "      <td>6</td>\n",
       "      <td>5</td>\n",
       "      <td>2</td>\n",
       "    </tr>\n",
       "    <tr>\n",
       "      <th>...</th>\n",
       "      <td>...</td>\n",
       "      <td>...</td>\n",
       "      <td>...</td>\n",
       "      <td>...</td>\n",
       "      <td>...</td>\n",
       "      <td>...</td>\n",
       "      <td>...</td>\n",
       "      <td>...</td>\n",
       "      <td>...</td>\n",
       "      <td>...</td>\n",
       "    </tr>\n",
       "    <tr>\n",
       "      <th>57</th>\n",
       "      <td>1</td>\n",
       "      <td>1</td>\n",
       "      <td>1</td>\n",
       "      <td>0</td>\n",
       "      <td>1</td>\n",
       "      <td>1</td>\n",
       "      <td>4</td>\n",
       "      <td>1</td>\n",
       "      <td>1</td>\n",
       "      <td>1</td>\n",
       "    </tr>\n",
       "    <tr>\n",
       "      <th>58</th>\n",
       "      <td>3</td>\n",
       "      <td>3</td>\n",
       "      <td>3</td>\n",
       "      <td>7</td>\n",
       "      <td>3</td>\n",
       "      <td>3</td>\n",
       "      <td>3</td>\n",
       "      <td>7</td>\n",
       "      <td>3</td>\n",
       "      <td>7</td>\n",
       "    </tr>\n",
       "    <tr>\n",
       "      <th>59</th>\n",
       "      <td>1</td>\n",
       "      <td>1</td>\n",
       "      <td>1</td>\n",
       "      <td>0</td>\n",
       "      <td>1</td>\n",
       "      <td>1</td>\n",
       "      <td>4</td>\n",
       "      <td>1</td>\n",
       "      <td>1</td>\n",
       "      <td>1</td>\n",
       "    </tr>\n",
       "    <tr>\n",
       "      <th>60</th>\n",
       "      <td>1</td>\n",
       "      <td>1</td>\n",
       "      <td>1</td>\n",
       "      <td>0</td>\n",
       "      <td>1</td>\n",
       "      <td>1</td>\n",
       "      <td>4</td>\n",
       "      <td>1</td>\n",
       "      <td>1</td>\n",
       "      <td>1</td>\n",
       "    </tr>\n",
       "    <tr>\n",
       "      <th>61</th>\n",
       "      <td>1</td>\n",
       "      <td>1</td>\n",
       "      <td>1</td>\n",
       "      <td>0</td>\n",
       "      <td>1</td>\n",
       "      <td>1</td>\n",
       "      <td>4</td>\n",
       "      <td>1</td>\n",
       "      <td>1</td>\n",
       "      <td>1</td>\n",
       "    </tr>\n",
       "  </tbody>\n",
       "</table>\n",
       "<p>62 rows × 10 columns</p>\n",
       "</div>"
      ],
      "text/plain": [
       "    0  1  2  3  4  5  6  7  8  9\n",
       "0   3  3  3  7  3  3  3  7  3  7\n",
       "1   0  4  6  6  0  2  0  6  0  0\n",
       "2   4  0  0  5  5  7  6  2  5  2\n",
       "3   0  0  0  5  0  2  2  6  5  6\n",
       "4   4  0  0  5  0  7  2  6  5  2\n",
       ".. .. .. .. .. .. .. .. .. .. ..\n",
       "57  1  1  1  0  1  1  4  1  1  1\n",
       "58  3  3  3  7  3  3  3  7  3  7\n",
       "59  1  1  1  0  1  1  4  1  1  1\n",
       "60  1  1  1  0  1  1  4  1  1  1\n",
       "61  1  1  1  0  1  1  4  1  1  1\n",
       "\n",
       "[62 rows x 10 columns]"
      ]
     },
     "execution_count": 11,
     "metadata": {},
     "output_type": "execute_result"
    }
   ],
   "source": [
    "# Run sampleClust function n_rep times to assign n_clust clusters\n",
    "n_clust = 8\n",
    "n_rep = 10\n",
    " \n",
    "cluster_samples = [md.doClustering(md.ranRelPct(asvs1), n_clust) for i in range(n_rep)]\n",
    "cluster_samples = pd.DataFrame(cluster_samples).transpose()\n",
    "cluster_samples"
   ]
  },
  {
   "cell_type": "code",
   "execution_count": 12,
   "id": "bbfea1db-6660-4f3e-be73-6bbd05dc2b06",
   "metadata": {},
   "outputs": [
    {
     "name": "stdout",
     "output_type": "stream",
     "text": [
      "True\n",
      "False\n"
     ]
    }
   ],
   "source": [
    "# A function to test if row pws[0] is the same cluster as row pws[1] in column 'col'\n",
    "def isSameCluster(pws, df, col):\n",
    "    return df.iloc[pws[0], col] == df.iloc[pws[1], col]\n",
    "\n",
    "print(isSameCluster((1, 3), cluster_samples, 0))\n",
    "print(isSameCluster((0, 3), cluster_samples, 0))"
   ]
  },
  {
   "cell_type": "code",
   "execution_count": 13,
   "id": "c5bb8571-bdc4-4d70-896d-78cb70fe40c0",
   "metadata": {},
   "outputs": [
    {
     "data": {
      "text/plain": [
       "1891.0"
      ]
     },
     "execution_count": 13,
     "metadata": {},
     "output_type": "execute_result"
    }
   ],
   "source": [
    "(62 * 61) / 2"
   ]
  },
  {
   "cell_type": "code",
   "execution_count": 14,
   "id": "385fc025-fa7d-4001-998f-fe18c4f5a489",
   "metadata": {},
   "outputs": [
    {
     "data": {
      "text/html": [
       "<div>\n",
       "<style scoped>\n",
       "    .dataframe tbody tr th:only-of-type {\n",
       "        vertical-align: middle;\n",
       "    }\n",
       "\n",
       "    .dataframe tbody tr th {\n",
       "        vertical-align: top;\n",
       "    }\n",
       "\n",
       "    .dataframe thead th {\n",
       "        text-align: right;\n",
       "    }\n",
       "</style>\n",
       "<table border=\"1\" class=\"dataframe\">\n",
       "  <thead>\n",
       "    <tr style=\"text-align: right;\">\n",
       "      <th></th>\n",
       "      <th>0</th>\n",
       "      <th>1</th>\n",
       "      <th>2</th>\n",
       "      <th>3</th>\n",
       "      <th>4</th>\n",
       "      <th>5</th>\n",
       "      <th>6</th>\n",
       "      <th>7</th>\n",
       "      <th>8</th>\n",
       "      <th>9</th>\n",
       "    </tr>\n",
       "  </thead>\n",
       "  <tbody>\n",
       "    <tr>\n",
       "      <th>0</th>\n",
       "      <td>False</td>\n",
       "      <td>False</td>\n",
       "      <td>False</td>\n",
       "      <td>False</td>\n",
       "      <td>False</td>\n",
       "      <td>False</td>\n",
       "      <td>False</td>\n",
       "      <td>False</td>\n",
       "      <td>False</td>\n",
       "      <td>False</td>\n",
       "    </tr>\n",
       "    <tr>\n",
       "      <th>1</th>\n",
       "      <td>False</td>\n",
       "      <td>False</td>\n",
       "      <td>False</td>\n",
       "      <td>False</td>\n",
       "      <td>False</td>\n",
       "      <td>False</td>\n",
       "      <td>False</td>\n",
       "      <td>False</td>\n",
       "      <td>False</td>\n",
       "      <td>False</td>\n",
       "    </tr>\n",
       "    <tr>\n",
       "      <th>2</th>\n",
       "      <td>False</td>\n",
       "      <td>False</td>\n",
       "      <td>False</td>\n",
       "      <td>False</td>\n",
       "      <td>False</td>\n",
       "      <td>False</td>\n",
       "      <td>False</td>\n",
       "      <td>False</td>\n",
       "      <td>False</td>\n",
       "      <td>False</td>\n",
       "    </tr>\n",
       "    <tr>\n",
       "      <th>3</th>\n",
       "      <td>False</td>\n",
       "      <td>False</td>\n",
       "      <td>False</td>\n",
       "      <td>False</td>\n",
       "      <td>False</td>\n",
       "      <td>False</td>\n",
       "      <td>False</td>\n",
       "      <td>False</td>\n",
       "      <td>False</td>\n",
       "      <td>False</td>\n",
       "    </tr>\n",
       "    <tr>\n",
       "      <th>4</th>\n",
       "      <td>False</td>\n",
       "      <td>False</td>\n",
       "      <td>False</td>\n",
       "      <td>False</td>\n",
       "      <td>False</td>\n",
       "      <td>False</td>\n",
       "      <td>False</td>\n",
       "      <td>False</td>\n",
       "      <td>False</td>\n",
       "      <td>False</td>\n",
       "    </tr>\n",
       "    <tr>\n",
       "      <th>...</th>\n",
       "      <td>...</td>\n",
       "      <td>...</td>\n",
       "      <td>...</td>\n",
       "      <td>...</td>\n",
       "      <td>...</td>\n",
       "      <td>...</td>\n",
       "      <td>...</td>\n",
       "      <td>...</td>\n",
       "      <td>...</td>\n",
       "      <td>...</td>\n",
       "    </tr>\n",
       "    <tr>\n",
       "      <th>1886</th>\n",
       "      <td>False</td>\n",
       "      <td>False</td>\n",
       "      <td>False</td>\n",
       "      <td>False</td>\n",
       "      <td>False</td>\n",
       "      <td>False</td>\n",
       "      <td>False</td>\n",
       "      <td>False</td>\n",
       "      <td>False</td>\n",
       "      <td>False</td>\n",
       "    </tr>\n",
       "    <tr>\n",
       "      <th>1887</th>\n",
       "      <td>False</td>\n",
       "      <td>False</td>\n",
       "      <td>False</td>\n",
       "      <td>False</td>\n",
       "      <td>False</td>\n",
       "      <td>False</td>\n",
       "      <td>False</td>\n",
       "      <td>False</td>\n",
       "      <td>False</td>\n",
       "      <td>False</td>\n",
       "    </tr>\n",
       "    <tr>\n",
       "      <th>1888</th>\n",
       "      <td>True</td>\n",
       "      <td>True</td>\n",
       "      <td>True</td>\n",
       "      <td>True</td>\n",
       "      <td>True</td>\n",
       "      <td>True</td>\n",
       "      <td>True</td>\n",
       "      <td>True</td>\n",
       "      <td>True</td>\n",
       "      <td>True</td>\n",
       "    </tr>\n",
       "    <tr>\n",
       "      <th>1889</th>\n",
       "      <td>True</td>\n",
       "      <td>True</td>\n",
       "      <td>True</td>\n",
       "      <td>True</td>\n",
       "      <td>True</td>\n",
       "      <td>True</td>\n",
       "      <td>True</td>\n",
       "      <td>True</td>\n",
       "      <td>True</td>\n",
       "      <td>True</td>\n",
       "    </tr>\n",
       "    <tr>\n",
       "      <th>1890</th>\n",
       "      <td>True</td>\n",
       "      <td>True</td>\n",
       "      <td>True</td>\n",
       "      <td>True</td>\n",
       "      <td>True</td>\n",
       "      <td>True</td>\n",
       "      <td>True</td>\n",
       "      <td>True</td>\n",
       "      <td>True</td>\n",
       "      <td>True</td>\n",
       "    </tr>\n",
       "  </tbody>\n",
       "</table>\n",
       "<p>1891 rows × 10 columns</p>\n",
       "</div>"
      ],
      "text/plain": [
       "          0      1      2      3      4      5      6      7      8      9\n",
       "0     False  False  False  False  False  False  False  False  False  False\n",
       "1     False  False  False  False  False  False  False  False  False  False\n",
       "2     False  False  False  False  False  False  False  False  False  False\n",
       "3     False  False  False  False  False  False  False  False  False  False\n",
       "4     False  False  False  False  False  False  False  False  False  False\n",
       "...     ...    ...    ...    ...    ...    ...    ...    ...    ...    ...\n",
       "1886  False  False  False  False  False  False  False  False  False  False\n",
       "1887  False  False  False  False  False  False  False  False  False  False\n",
       "1888   True   True   True   True   True   True   True   True   True   True\n",
       "1889   True   True   True   True   True   True   True   True   True   True\n",
       "1890   True   True   True   True   True   True   True   True   True   True\n",
       "\n",
       "[1891 rows x 10 columns]"
      ]
     },
     "execution_count": 14,
     "metadata": {},
     "output_type": "execute_result"
    }
   ],
   "source": [
    "# Code to test if each pair of rows ((n^2 - 1)/2) = 1891) are the same for all columns\n",
    "import itertools\n",
    "pws_rows = itertools.combinations(range(cluster_samples.shape[0]), 2)\n",
    "\n",
    "pws_same = pd.DataFrame([[isSameCluster(pair, cluster_samples, col) for col in range(cluster_samples.shape[1])] for pair in pws_rows])\n",
    "pws_same"
   ]
  },
  {
   "cell_type": "code",
   "execution_count": 15,
   "id": "5332e67c-b654-4e04-b231-61deffbb2953",
   "metadata": {},
   "outputs": [
    {
     "name": "stdout",
     "output_type": "stream",
     "text": [
      "10\n",
      "10\n"
     ]
    }
   ],
   "source": [
    "# Function to return maximum number of values that are the same in a each row\n",
    "def maxSame(row):\n",
    "    return row.value_counts().max()\n",
    "\n",
    "print(maxSame(pws_same.iloc[0, :]))\n",
    "print(maxSame(pws_same.iloc[1890, :]))"
   ]
  },
  {
   "cell_type": "code",
   "execution_count": 16,
   "id": "42c657e9-d7dd-423e-bb64-11885d867d43",
   "metadata": {},
   "outputs": [
    {
     "data": {
      "text/plain": [
       "92.00423056583818"
      ]
     },
     "execution_count": 16,
     "metadata": {},
     "output_type": "execute_result"
    }
   ],
   "source": [
    "# Code to return the percent of all values that were the same by row\n",
    "num_same = [maxSame(pws_same.iloc[row, :]) for row in range(pws_same.shape[0])]\n",
    "np.sum(num_same) * 100 / (pws_same.shape[0] * pws_same.shape[1])"
   ]
  },
  {
   "cell_type": "code",
   "execution_count": 17,
   "id": "342dd802-5c31-4adf-9ae5-04f0fe062ae7",
   "metadata": {},
   "outputs": [],
   "source": [
    "# Putting it all together...\n",
    "\n",
    "# Function to create n_rep draws of df and assign n_clusters and returns percent of draws that had same relative cluster assignments\n",
    "def pctSame(df, n_clust, n_rep):\n",
    "    if n_clust >= df.shape[0]:\n",
    "        return 100\n",
    "    \n",
    "    def isSameCluster(pws, df, col):\n",
    "        return df.iloc[pws[0], col] == df.iloc[pws[1], col]\n",
    "    \n",
    "    def maxSame(row):\n",
    "        return row.value_counts().max()\n",
    "    \n",
    "    # cluster a random sample of logit(relative percentages)\n",
    "    cluster_samples = [md.doClustering(md.ranRelPct(df), n_clust) for i in range(n_rep)]\n",
    "    cluster_samples = pd.DataFrame(cluster_samples).transpose()\n",
    "    # unique pairs of rows\n",
    "    pws_rows = itertools.combinations(range(cluster_samples.shape[0]), 2)\n",
    "    # identify pairs of samples that are in the same cluster (True) or in different clusters (False)\n",
    "    pws_same = pd.DataFrame([[isSameCluster(pair, cluster_samples, col) for col in range(cluster_samples.shape[1])] for pair in pws_rows])\n",
    "    # get the maximum number replicates that have the same value (True or False) for each sample\n",
    "    num_same = [maxSame(pws_same.iloc[row, :]) for row in range(pws_same.shape[0])]\n",
    "    # convert to percentage with maximum of same value across all replicates\n",
    "    return np.sum(num_same) * 100 / (pws_same.shape[0] * pws_same.shape[1])"
   ]
  },
  {
   "cell_type": "code",
   "execution_count": 13,
   "id": "53518060-b276-42e2-a8d6-7991d252f9c2",
   "metadata": {},
   "outputs": [
    {
     "name": "stdout",
     "output_type": "stream",
     "text": [
      "CPU times: user 7min 49s, sys: 6.64 s, total: 7min 55s\n",
      "Wall time: 7min 55s\n"
     ]
    }
   ],
   "source": [
    "%%time\n",
    "# Code to return pct of draws that had the same relative cluster assignment for 2 to 62 clusters for n_rep replicates\n",
    "# NB: This takes a long time to run for a modest number of replicates!!\n",
    "\n",
    "n_rep = 50\n",
    "num_clust = np.arange(2, asvs1.shape[1] + 1)\n",
    "pct_same = [pctSame(asvs1, x, n_rep) for x in num_clust]"
   ]
  },
  {
   "cell_type": "code",
   "execution_count": 14,
   "id": "50bc0dd5-dd94-4a2e-a9d6-6fe8b7f9ab05",
   "metadata": {},
   "outputs": [
    {
     "data": {
      "application/vnd.plotly.v1+json": {
       "config": {
        "plotlyServerURL": "https://plot.ly"
       },
       "data": [
        {
         "hovertemplate": "x=%{x}<br>y=%{y}<extra></extra>",
         "legendgroup": "",
         "line": {
          "color": "#636efa",
          "dash": "solid"
         },
         "marker": {
          "symbol": "circle"
         },
         "mode": "lines",
         "name": "",
         "orientation": "v",
         "showlegend": false,
         "type": "scatter",
         "x": [
          2,
          3,
          4,
          5,
          6,
          7,
          8,
          9,
          10,
          11,
          12,
          13,
          14,
          15,
          16,
          17,
          18,
          19,
          20,
          21,
          22,
          23,
          24,
          25,
          26,
          27,
          28,
          29,
          30,
          31,
          32,
          33,
          34,
          35,
          36,
          37,
          38,
          39,
          40,
          41,
          42,
          43,
          44,
          45,
          46,
          47,
          48,
          49,
          50,
          51,
          52,
          53,
          54,
          55,
          56,
          57,
          58,
          59,
          60,
          61,
          62
         ],
         "xaxis": "x",
         "y": [
          98.4865150713908,
          100,
          100,
          94.3532522474881,
          94.57218402961396,
          93.58223162347964,
          92.52459016393442,
          93.37176097303015,
          92.98360655737704,
          92.83130618720254,
          92.98043363299841,
          93.3823373876256,
          93.62982548915917,
          93.84981491274458,
          93.79270227392914,
          94.15335801163405,
          94.34056054997356,
          94.15335801163405,
          94.6292966684294,
          94.73823373876256,
          94.92437863564251,
          95.08619777895294,
          95.04706504494976,
          95.30830248545743,
          95.65732416710735,
          95.87308302485458,
          96.07826546800635,
          96.32152300370174,
          96.45161290322581,
          96.62718138551031,
          96.83024854574299,
          97.06398730830249,
          97.19725013220518,
          97.30089899524062,
          97.5272342675833,
          97.64992067689053,
          97.84452670544685,
          97.86567953463776,
          98.14172395557905,
          98.27075621364358,
          98.3670015864622,
          98.46959280803807,
          98.56266525647806,
          98.67689053410894,
          98.76150185087255,
          98.86620835536753,
          98.97197250132206,
          99.06081438392386,
          99.18032786885246,
          99.26282390269698,
          99.36012691697515,
          99.43733474352194,
          99.49338974087784,
          99.57059756742464,
          99.64569011105236,
          99.7028027498678,
          99.7778952934955,
          99.83500793231094,
          99.89212057112638,
          99.94711792702275,
          100
         ],
         "yaxis": "y"
        }
       ],
       "layout": {
        "autosize": true,
        "legend": {
         "tracegroupgap": 0
        },
        "margin": {
         "t": 60
        },
        "template": {
         "data": {
          "bar": [
           {
            "error_x": {
             "color": "#2a3f5f"
            },
            "error_y": {
             "color": "#2a3f5f"
            },
            "marker": {
             "line": {
              "color": "#E5ECF6",
              "width": 0.5
             },
             "pattern": {
              "fillmode": "overlay",
              "size": 10,
              "solidity": 0.2
             }
            },
            "type": "bar"
           }
          ],
          "barpolar": [
           {
            "marker": {
             "line": {
              "color": "#E5ECF6",
              "width": 0.5
             },
             "pattern": {
              "fillmode": "overlay",
              "size": 10,
              "solidity": 0.2
             }
            },
            "type": "barpolar"
           }
          ],
          "carpet": [
           {
            "aaxis": {
             "endlinecolor": "#2a3f5f",
             "gridcolor": "white",
             "linecolor": "white",
             "minorgridcolor": "white",
             "startlinecolor": "#2a3f5f"
            },
            "baxis": {
             "endlinecolor": "#2a3f5f",
             "gridcolor": "white",
             "linecolor": "white",
             "minorgridcolor": "white",
             "startlinecolor": "#2a3f5f"
            },
            "type": "carpet"
           }
          ],
          "choropleth": [
           {
            "colorbar": {
             "outlinewidth": 0,
             "ticks": ""
            },
            "type": "choropleth"
           }
          ],
          "contour": [
           {
            "colorbar": {
             "outlinewidth": 0,
             "ticks": ""
            },
            "colorscale": [
             [
              0,
              "#0d0887"
             ],
             [
              0.1111111111111111,
              "#46039f"
             ],
             [
              0.2222222222222222,
              "#7201a8"
             ],
             [
              0.3333333333333333,
              "#9c179e"
             ],
             [
              0.4444444444444444,
              "#bd3786"
             ],
             [
              0.5555555555555556,
              "#d8576b"
             ],
             [
              0.6666666666666666,
              "#ed7953"
             ],
             [
              0.7777777777777778,
              "#fb9f3a"
             ],
             [
              0.8888888888888888,
              "#fdca26"
             ],
             [
              1,
              "#f0f921"
             ]
            ],
            "type": "contour"
           }
          ],
          "contourcarpet": [
           {
            "colorbar": {
             "outlinewidth": 0,
             "ticks": ""
            },
            "type": "contourcarpet"
           }
          ],
          "heatmap": [
           {
            "colorbar": {
             "outlinewidth": 0,
             "ticks": ""
            },
            "colorscale": [
             [
              0,
              "#0d0887"
             ],
             [
              0.1111111111111111,
              "#46039f"
             ],
             [
              0.2222222222222222,
              "#7201a8"
             ],
             [
              0.3333333333333333,
              "#9c179e"
             ],
             [
              0.4444444444444444,
              "#bd3786"
             ],
             [
              0.5555555555555556,
              "#d8576b"
             ],
             [
              0.6666666666666666,
              "#ed7953"
             ],
             [
              0.7777777777777778,
              "#fb9f3a"
             ],
             [
              0.8888888888888888,
              "#fdca26"
             ],
             [
              1,
              "#f0f921"
             ]
            ],
            "type": "heatmap"
           }
          ],
          "heatmapgl": [
           {
            "colorbar": {
             "outlinewidth": 0,
             "ticks": ""
            },
            "colorscale": [
             [
              0,
              "#0d0887"
             ],
             [
              0.1111111111111111,
              "#46039f"
             ],
             [
              0.2222222222222222,
              "#7201a8"
             ],
             [
              0.3333333333333333,
              "#9c179e"
             ],
             [
              0.4444444444444444,
              "#bd3786"
             ],
             [
              0.5555555555555556,
              "#d8576b"
             ],
             [
              0.6666666666666666,
              "#ed7953"
             ],
             [
              0.7777777777777778,
              "#fb9f3a"
             ],
             [
              0.8888888888888888,
              "#fdca26"
             ],
             [
              1,
              "#f0f921"
             ]
            ],
            "type": "heatmapgl"
           }
          ],
          "histogram": [
           {
            "marker": {
             "pattern": {
              "fillmode": "overlay",
              "size": 10,
              "solidity": 0.2
             }
            },
            "type": "histogram"
           }
          ],
          "histogram2d": [
           {
            "colorbar": {
             "outlinewidth": 0,
             "ticks": ""
            },
            "colorscale": [
             [
              0,
              "#0d0887"
             ],
             [
              0.1111111111111111,
              "#46039f"
             ],
             [
              0.2222222222222222,
              "#7201a8"
             ],
             [
              0.3333333333333333,
              "#9c179e"
             ],
             [
              0.4444444444444444,
              "#bd3786"
             ],
             [
              0.5555555555555556,
              "#d8576b"
             ],
             [
              0.6666666666666666,
              "#ed7953"
             ],
             [
              0.7777777777777778,
              "#fb9f3a"
             ],
             [
              0.8888888888888888,
              "#fdca26"
             ],
             [
              1,
              "#f0f921"
             ]
            ],
            "type": "histogram2d"
           }
          ],
          "histogram2dcontour": [
           {
            "colorbar": {
             "outlinewidth": 0,
             "ticks": ""
            },
            "colorscale": [
             [
              0,
              "#0d0887"
             ],
             [
              0.1111111111111111,
              "#46039f"
             ],
             [
              0.2222222222222222,
              "#7201a8"
             ],
             [
              0.3333333333333333,
              "#9c179e"
             ],
             [
              0.4444444444444444,
              "#bd3786"
             ],
             [
              0.5555555555555556,
              "#d8576b"
             ],
             [
              0.6666666666666666,
              "#ed7953"
             ],
             [
              0.7777777777777778,
              "#fb9f3a"
             ],
             [
              0.8888888888888888,
              "#fdca26"
             ],
             [
              1,
              "#f0f921"
             ]
            ],
            "type": "histogram2dcontour"
           }
          ],
          "mesh3d": [
           {
            "colorbar": {
             "outlinewidth": 0,
             "ticks": ""
            },
            "type": "mesh3d"
           }
          ],
          "parcoords": [
           {
            "line": {
             "colorbar": {
              "outlinewidth": 0,
              "ticks": ""
             }
            },
            "type": "parcoords"
           }
          ],
          "pie": [
           {
            "automargin": true,
            "type": "pie"
           }
          ],
          "scatter": [
           {
            "fillpattern": {
             "fillmode": "overlay",
             "size": 10,
             "solidity": 0.2
            },
            "type": "scatter"
           }
          ],
          "scatter3d": [
           {
            "line": {
             "colorbar": {
              "outlinewidth": 0,
              "ticks": ""
             }
            },
            "marker": {
             "colorbar": {
              "outlinewidth": 0,
              "ticks": ""
             }
            },
            "type": "scatter3d"
           }
          ],
          "scattercarpet": [
           {
            "marker": {
             "colorbar": {
              "outlinewidth": 0,
              "ticks": ""
             }
            },
            "type": "scattercarpet"
           }
          ],
          "scattergeo": [
           {
            "marker": {
             "colorbar": {
              "outlinewidth": 0,
              "ticks": ""
             }
            },
            "type": "scattergeo"
           }
          ],
          "scattergl": [
           {
            "marker": {
             "colorbar": {
              "outlinewidth": 0,
              "ticks": ""
             }
            },
            "type": "scattergl"
           }
          ],
          "scattermapbox": [
           {
            "marker": {
             "colorbar": {
              "outlinewidth": 0,
              "ticks": ""
             }
            },
            "type": "scattermapbox"
           }
          ],
          "scatterpolar": [
           {
            "marker": {
             "colorbar": {
              "outlinewidth": 0,
              "ticks": ""
             }
            },
            "type": "scatterpolar"
           }
          ],
          "scatterpolargl": [
           {
            "marker": {
             "colorbar": {
              "outlinewidth": 0,
              "ticks": ""
             }
            },
            "type": "scatterpolargl"
           }
          ],
          "scatterternary": [
           {
            "marker": {
             "colorbar": {
              "outlinewidth": 0,
              "ticks": ""
             }
            },
            "type": "scatterternary"
           }
          ],
          "surface": [
           {
            "colorbar": {
             "outlinewidth": 0,
             "ticks": ""
            },
            "colorscale": [
             [
              0,
              "#0d0887"
             ],
             [
              0.1111111111111111,
              "#46039f"
             ],
             [
              0.2222222222222222,
              "#7201a8"
             ],
             [
              0.3333333333333333,
              "#9c179e"
             ],
             [
              0.4444444444444444,
              "#bd3786"
             ],
             [
              0.5555555555555556,
              "#d8576b"
             ],
             [
              0.6666666666666666,
              "#ed7953"
             ],
             [
              0.7777777777777778,
              "#fb9f3a"
             ],
             [
              0.8888888888888888,
              "#fdca26"
             ],
             [
              1,
              "#f0f921"
             ]
            ],
            "type": "surface"
           }
          ],
          "table": [
           {
            "cells": {
             "fill": {
              "color": "#EBF0F8"
             },
             "line": {
              "color": "white"
             }
            },
            "header": {
             "fill": {
              "color": "#C8D4E3"
             },
             "line": {
              "color": "white"
             }
            },
            "type": "table"
           }
          ]
         },
         "layout": {
          "annotationdefaults": {
           "arrowcolor": "#2a3f5f",
           "arrowhead": 0,
           "arrowwidth": 1
          },
          "autotypenumbers": "strict",
          "coloraxis": {
           "colorbar": {
            "outlinewidth": 0,
            "ticks": ""
           }
          },
          "colorscale": {
           "diverging": [
            [
             0,
             "#8e0152"
            ],
            [
             0.1,
             "#c51b7d"
            ],
            [
             0.2,
             "#de77ae"
            ],
            [
             0.3,
             "#f1b6da"
            ],
            [
             0.4,
             "#fde0ef"
            ],
            [
             0.5,
             "#f7f7f7"
            ],
            [
             0.6,
             "#e6f5d0"
            ],
            [
             0.7,
             "#b8e186"
            ],
            [
             0.8,
             "#7fbc41"
            ],
            [
             0.9,
             "#4d9221"
            ],
            [
             1,
             "#276419"
            ]
           ],
           "sequential": [
            [
             0,
             "#0d0887"
            ],
            [
             0.1111111111111111,
             "#46039f"
            ],
            [
             0.2222222222222222,
             "#7201a8"
            ],
            [
             0.3333333333333333,
             "#9c179e"
            ],
            [
             0.4444444444444444,
             "#bd3786"
            ],
            [
             0.5555555555555556,
             "#d8576b"
            ],
            [
             0.6666666666666666,
             "#ed7953"
            ],
            [
             0.7777777777777778,
             "#fb9f3a"
            ],
            [
             0.8888888888888888,
             "#fdca26"
            ],
            [
             1,
             "#f0f921"
            ]
           ],
           "sequentialminus": [
            [
             0,
             "#0d0887"
            ],
            [
             0.1111111111111111,
             "#46039f"
            ],
            [
             0.2222222222222222,
             "#7201a8"
            ],
            [
             0.3333333333333333,
             "#9c179e"
            ],
            [
             0.4444444444444444,
             "#bd3786"
            ],
            [
             0.5555555555555556,
             "#d8576b"
            ],
            [
             0.6666666666666666,
             "#ed7953"
            ],
            [
             0.7777777777777778,
             "#fb9f3a"
            ],
            [
             0.8888888888888888,
             "#fdca26"
            ],
            [
             1,
             "#f0f921"
            ]
           ]
          },
          "colorway": [
           "#636efa",
           "#EF553B",
           "#00cc96",
           "#ab63fa",
           "#FFA15A",
           "#19d3f3",
           "#FF6692",
           "#B6E880",
           "#FF97FF",
           "#FECB52"
          ],
          "font": {
           "color": "#2a3f5f"
          },
          "geo": {
           "bgcolor": "white",
           "lakecolor": "white",
           "landcolor": "#E5ECF6",
           "showlakes": true,
           "showland": true,
           "subunitcolor": "white"
          },
          "hoverlabel": {
           "align": "left"
          },
          "hovermode": "closest",
          "mapbox": {
           "style": "light"
          },
          "paper_bgcolor": "white",
          "plot_bgcolor": "#E5ECF6",
          "polar": {
           "angularaxis": {
            "gridcolor": "white",
            "linecolor": "white",
            "ticks": ""
           },
           "bgcolor": "#E5ECF6",
           "radialaxis": {
            "gridcolor": "white",
            "linecolor": "white",
            "ticks": ""
           }
          },
          "scene": {
           "xaxis": {
            "backgroundcolor": "#E5ECF6",
            "gridcolor": "white",
            "gridwidth": 2,
            "linecolor": "white",
            "showbackground": true,
            "ticks": "",
            "zerolinecolor": "white"
           },
           "yaxis": {
            "backgroundcolor": "#E5ECF6",
            "gridcolor": "white",
            "gridwidth": 2,
            "linecolor": "white",
            "showbackground": true,
            "ticks": "",
            "zerolinecolor": "white"
           },
           "zaxis": {
            "backgroundcolor": "#E5ECF6",
            "gridcolor": "white",
            "gridwidth": 2,
            "linecolor": "white",
            "showbackground": true,
            "ticks": "",
            "zerolinecolor": "white"
           }
          },
          "shapedefaults": {
           "line": {
            "color": "#2a3f5f"
           }
          },
          "ternary": {
           "aaxis": {
            "gridcolor": "white",
            "linecolor": "white",
            "ticks": ""
           },
           "baxis": {
            "gridcolor": "white",
            "linecolor": "white",
            "ticks": ""
           },
           "bgcolor": "#E5ECF6",
           "caxis": {
            "gridcolor": "white",
            "linecolor": "white",
            "ticks": ""
           }
          },
          "title": {
           "x": 0.05
          },
          "xaxis": {
           "automargin": true,
           "gridcolor": "white",
           "linecolor": "white",
           "ticks": "",
           "title": {
            "standoff": 15
           },
           "zerolinecolor": "white",
           "zerolinewidth": 2
          },
          "yaxis": {
           "automargin": true,
           "gridcolor": "white",
           "linecolor": "white",
           "ticks": "",
           "title": {
            "standoff": 15
           },
           "zerolinecolor": "white",
           "zerolinewidth": 2
          }
         }
        },
        "xaxis": {
         "anchor": "y",
         "autorange": true,
         "domain": [
          0,
          1
         ],
         "range": [
          2,
          62
         ],
         "title": {
          "text": "x"
         },
         "type": "linear"
        },
        "yaxis": {
         "anchor": "x",
         "autorange": true,
         "domain": [
          0,
          1
         ],
         "range": [
          92.10928961748633,
          100.4153005464481
         ],
         "title": {
          "text": "y"
         },
         "type": "linear"
        }
       }
      },
      "image/png": "[encoded data removed]",
      "text/html": [
       "<div>                            <div id=\"e22a904e-b028-494b-9f71-e656ecb4f99a\" class=\"plotly-graph-div\" style=\"height:525px; width:100%;\"></div>            <script type=\"text/javascript\">                require([\"plotly\"], function(Plotly) {                    window.PLOTLYENV=window.PLOTLYENV || {};                                    if (document.getElementById(\"e22a904e-b028-494b-9f71-e656ecb4f99a\")) {                    Plotly.newPlot(                        \"e22a904e-b028-494b-9f71-e656ecb4f99a\",                        [{\"hovertemplate\":\"x=%{x}<br>y=%{y}<extra></extra>\",\"legendgroup\":\"\",\"line\":{\"color\":\"#636efa\",\"dash\":\"solid\"},\"marker\":{\"symbol\":\"circle\"},\"mode\":\"lines\",\"name\":\"\",\"orientation\":\"v\",\"showlegend\":false,\"x\":[2,3,4,5,6,7,8,9,10,11,12,13,14,15,16,17,18,19,20,21,22,23,24,25,26,27,28,29,30,31,32,33,34,35,36,37,38,39,40,41,42,43,44,45,46,47,48,49,50,51,52,53,54,55,56,57,58,59,60,61,62],\"xaxis\":\"x\",\"y\":[98.4865150713908,100.0,100.0,94.3532522474881,94.57218402961396,93.58223162347964,92.52459016393442,93.37176097303015,92.98360655737704,92.83130618720254,92.98043363299841,93.3823373876256,93.62982548915917,93.84981491274458,93.79270227392914,94.15335801163405,94.34056054997356,94.15335801163405,94.6292966684294,94.73823373876256,94.92437863564251,95.08619777895294,95.04706504494976,95.30830248545743,95.65732416710735,95.87308302485458,96.07826546800635,96.32152300370174,96.45161290322581,96.62718138551031,96.83024854574299,97.06398730830249,97.19725013220518,97.30089899524062,97.5272342675833,97.64992067689053,97.84452670544685,97.86567953463776,98.14172395557905,98.27075621364358,98.3670015864622,98.46959280803807,98.56266525647806,98.67689053410894,98.76150185087255,98.86620835536753,98.97197250132206,99.06081438392386,99.18032786885246,99.26282390269698,99.36012691697515,99.43733474352194,99.49338974087784,99.57059756742464,99.64569011105236,99.7028027498678,99.7778952934955,99.83500793231094,99.89212057112638,99.94711792702275,100.0],\"yaxis\":\"y\",\"type\":\"scatter\"}],                        {\"template\":{\"data\":{\"histogram2dcontour\":[{\"type\":\"histogram2dcontour\",\"colorbar\":{\"outlinewidth\":0,\"ticks\":\"\"},\"colorscale\":[[0.0,\"#0d0887\"],[0.1111111111111111,\"#46039f\"],[0.2222222222222222,\"#7201a8\"],[0.3333333333333333,\"#9c179e\"],[0.4444444444444444,\"#bd3786\"],[0.5555555555555556,\"#d8576b\"],[0.6666666666666666,\"#ed7953\"],[0.7777777777777778,\"#fb9f3a\"],[0.8888888888888888,\"#fdca26\"],[1.0,\"#f0f921\"]]}],\"choropleth\":[{\"type\":\"choropleth\",\"colorbar\":{\"outlinewidth\":0,\"ticks\":\"\"}}],\"histogram2d\":[{\"type\":\"histogram2d\",\"colorbar\":{\"outlinewidth\":0,\"ticks\":\"\"},\"colorscale\":[[0.0,\"#0d0887\"],[0.1111111111111111,\"#46039f\"],[0.2222222222222222,\"#7201a8\"],[0.3333333333333333,\"#9c179e\"],[0.4444444444444444,\"#bd3786\"],[0.5555555555555556,\"#d8576b\"],[0.6666666666666666,\"#ed7953\"],[0.7777777777777778,\"#fb9f3a\"],[0.8888888888888888,\"#fdca26\"],[1.0,\"#f0f921\"]]}],\"heatmap\":[{\"type\":\"heatmap\",\"colorbar\":{\"outlinewidth\":0,\"ticks\":\"\"},\"colorscale\":[[0.0,\"#0d0887\"],[0.1111111111111111,\"#46039f\"],[0.2222222222222222,\"#7201a8\"],[0.3333333333333333,\"#9c179e\"],[0.4444444444444444,\"#bd3786\"],[0.5555555555555556,\"#d8576b\"],[0.6666666666666666,\"#ed7953\"],[0.7777777777777778,\"#fb9f3a\"],[0.8888888888888888,\"#fdca26\"],[1.0,\"#f0f921\"]]}],\"heatmapgl\":[{\"type\":\"heatmapgl\",\"colorbar\":{\"outlinewidth\":0,\"ticks\":\"\"},\"colorscale\":[[0.0,\"#0d0887\"],[0.1111111111111111,\"#46039f\"],[0.2222222222222222,\"#7201a8\"],[0.3333333333333333,\"#9c179e\"],[0.4444444444444444,\"#bd3786\"],[0.5555555555555556,\"#d8576b\"],[0.6666666666666666,\"#ed7953\"],[0.7777777777777778,\"#fb9f3a\"],[0.8888888888888888,\"#fdca26\"],[1.0,\"#f0f921\"]]}],\"contourcarpet\":[{\"type\":\"contourcarpet\",\"colorbar\":{\"outlinewidth\":0,\"ticks\":\"\"}}],\"contour\":[{\"type\":\"contour\",\"colorbar\":{\"outlinewidth\":0,\"ticks\":\"\"},\"colorscale\":[[0.0,\"#0d0887\"],[0.1111111111111111,\"#46039f\"],[0.2222222222222222,\"#7201a8\"],[0.3333333333333333,\"#9c179e\"],[0.4444444444444444,\"#bd3786\"],[0.5555555555555556,\"#d8576b\"],[0.6666666666666666,\"#ed7953\"],[0.7777777777777778,\"#fb9f3a\"],[0.8888888888888888,\"#fdca26\"],[1.0,\"#f0f921\"]]}],\"surface\":[{\"type\":\"surface\",\"colorbar\":{\"outlinewidth\":0,\"ticks\":\"\"},\"colorscale\":[[0.0,\"#0d0887\"],[0.1111111111111111,\"#46039f\"],[0.2222222222222222,\"#7201a8\"],[0.3333333333333333,\"#9c179e\"],[0.4444444444444444,\"#bd3786\"],[0.5555555555555556,\"#d8576b\"],[0.6666666666666666,\"#ed7953\"],[0.7777777777777778,\"#fb9f3a\"],[0.8888888888888888,\"#fdca26\"],[1.0,\"#f0f921\"]]}],\"mesh3d\":[{\"type\":\"mesh3d\",\"colorbar\":{\"outlinewidth\":0,\"ticks\":\"\"}}],\"scatter\":[{\"fillpattern\":{\"fillmode\":\"overlay\",\"size\":10,\"solidity\":0.2},\"type\":\"scatter\"}],\"parcoords\":[{\"type\":\"parcoords\",\"line\":{\"colorbar\":{\"outlinewidth\":0,\"ticks\":\"\"}}}],\"scatterpolargl\":[{\"type\":\"scatterpolargl\",\"marker\":{\"colorbar\":{\"outlinewidth\":0,\"ticks\":\"\"}}}],\"bar\":[{\"error_x\":{\"color\":\"#2a3f5f\"},\"error_y\":{\"color\":\"#2a3f5f\"},\"marker\":{\"line\":{\"color\":\"#E5ECF6\",\"width\":0.5},\"pattern\":{\"fillmode\":\"overlay\",\"size\":10,\"solidity\":0.2}},\"type\":\"bar\"}],\"scattergeo\":[{\"type\":\"scattergeo\",\"marker\":{\"colorbar\":{\"outlinewidth\":0,\"ticks\":\"\"}}}],\"scatterpolar\":[{\"type\":\"scatterpolar\",\"marker\":{\"colorbar\":{\"outlinewidth\":0,\"ticks\":\"\"}}}],\"histogram\":[{\"marker\":{\"pattern\":{\"fillmode\":\"overlay\",\"size\":10,\"solidity\":0.2}},\"type\":\"histogram\"}],\"scattergl\":[{\"type\":\"scattergl\",\"marker\":{\"colorbar\":{\"outlinewidth\":0,\"ticks\":\"\"}}}],\"scatter3d\":[{\"type\":\"scatter3d\",\"line\":{\"colorbar\":{\"outlinewidth\":0,\"ticks\":\"\"}},\"marker\":{\"colorbar\":{\"outlinewidth\":0,\"ticks\":\"\"}}}],\"scattermapbox\":[{\"type\":\"scattermapbox\",\"marker\":{\"colorbar\":{\"outlinewidth\":0,\"ticks\":\"\"}}}],\"scatterternary\":[{\"type\":\"scatterternary\",\"marker\":{\"colorbar\":{\"outlinewidth\":0,\"ticks\":\"\"}}}],\"scattercarpet\":[{\"type\":\"scattercarpet\",\"marker\":{\"colorbar\":{\"outlinewidth\":0,\"ticks\":\"\"}}}],\"carpet\":[{\"aaxis\":{\"endlinecolor\":\"#2a3f5f\",\"gridcolor\":\"white\",\"linecolor\":\"white\",\"minorgridcolor\":\"white\",\"startlinecolor\":\"#2a3f5f\"},\"baxis\":{\"endlinecolor\":\"#2a3f5f\",\"gridcolor\":\"white\",\"linecolor\":\"white\",\"minorgridcolor\":\"white\",\"startlinecolor\":\"#2a3f5f\"},\"type\":\"carpet\"}],\"table\":[{\"cells\":{\"fill\":{\"color\":\"#EBF0F8\"},\"line\":{\"color\":\"white\"}},\"header\":{\"fill\":{\"color\":\"#C8D4E3\"},\"line\":{\"color\":\"white\"}},\"type\":\"table\"}],\"barpolar\":[{\"marker\":{\"line\":{\"color\":\"#E5ECF6\",\"width\":0.5},\"pattern\":{\"fillmode\":\"overlay\",\"size\":10,\"solidity\":0.2}},\"type\":\"barpolar\"}],\"pie\":[{\"automargin\":true,\"type\":\"pie\"}]},\"layout\":{\"autotypenumbers\":\"strict\",\"colorway\":[\"#636efa\",\"#EF553B\",\"#00cc96\",\"#ab63fa\",\"#FFA15A\",\"#19d3f3\",\"#FF6692\",\"#B6E880\",\"#FF97FF\",\"#FECB52\"],\"font\":{\"color\":\"#2a3f5f\"},\"hovermode\":\"closest\",\"hoverlabel\":{\"align\":\"left\"},\"paper_bgcolor\":\"white\",\"plot_bgcolor\":\"#E5ECF6\",\"polar\":{\"bgcolor\":\"#E5ECF6\",\"angularaxis\":{\"gridcolor\":\"white\",\"linecolor\":\"white\",\"ticks\":\"\"},\"radialaxis\":{\"gridcolor\":\"white\",\"linecolor\":\"white\",\"ticks\":\"\"}},\"ternary\":{\"bgcolor\":\"#E5ECF6\",\"aaxis\":{\"gridcolor\":\"white\",\"linecolor\":\"white\",\"ticks\":\"\"},\"baxis\":{\"gridcolor\":\"white\",\"linecolor\":\"white\",\"ticks\":\"\"},\"caxis\":{\"gridcolor\":\"white\",\"linecolor\":\"white\",\"ticks\":\"\"}},\"coloraxis\":{\"colorbar\":{\"outlinewidth\":0,\"ticks\":\"\"}},\"colorscale\":{\"sequential\":[[0.0,\"#0d0887\"],[0.1111111111111111,\"#46039f\"],[0.2222222222222222,\"#7201a8\"],[0.3333333333333333,\"#9c179e\"],[0.4444444444444444,\"#bd3786\"],[0.5555555555555556,\"#d8576b\"],[0.6666666666666666,\"#ed7953\"],[0.7777777777777778,\"#fb9f3a\"],[0.8888888888888888,\"#fdca26\"],[1.0,\"#f0f921\"]],\"sequentialminus\":[[0.0,\"#0d0887\"],[0.1111111111111111,\"#46039f\"],[0.2222222222222222,\"#7201a8\"],[0.3333333333333333,\"#9c179e\"],[0.4444444444444444,\"#bd3786\"],[0.5555555555555556,\"#d8576b\"],[0.6666666666666666,\"#ed7953\"],[0.7777777777777778,\"#fb9f3a\"],[0.8888888888888888,\"#fdca26\"],[1.0,\"#f0f921\"]],\"diverging\":[[0,\"#8e0152\"],[0.1,\"#c51b7d\"],[0.2,\"#de77ae\"],[0.3,\"#f1b6da\"],[0.4,\"#fde0ef\"],[0.5,\"#f7f7f7\"],[0.6,\"#e6f5d0\"],[0.7,\"#b8e186\"],[0.8,\"#7fbc41\"],[0.9,\"#4d9221\"],[1,\"#276419\"]]},\"xaxis\":{\"gridcolor\":\"white\",\"linecolor\":\"white\",\"ticks\":\"\",\"title\":{\"standoff\":15},\"zerolinecolor\":\"white\",\"automargin\":true,\"zerolinewidth\":2},\"yaxis\":{\"gridcolor\":\"white\",\"linecolor\":\"white\",\"ticks\":\"\",\"title\":{\"standoff\":15},\"zerolinecolor\":\"white\",\"automargin\":true,\"zerolinewidth\":2},\"scene\":{\"xaxis\":{\"backgroundcolor\":\"#E5ECF6\",\"gridcolor\":\"white\",\"linecolor\":\"white\",\"showbackground\":true,\"ticks\":\"\",\"zerolinecolor\":\"white\",\"gridwidth\":2},\"yaxis\":{\"backgroundcolor\":\"#E5ECF6\",\"gridcolor\":\"white\",\"linecolor\":\"white\",\"showbackground\":true,\"ticks\":\"\",\"zerolinecolor\":\"white\",\"gridwidth\":2},\"zaxis\":{\"backgroundcolor\":\"#E5ECF6\",\"gridcolor\":\"white\",\"linecolor\":\"white\",\"showbackground\":true,\"ticks\":\"\",\"zerolinecolor\":\"white\",\"gridwidth\":2}},\"shapedefaults\":{\"line\":{\"color\":\"#2a3f5f\"}},\"annotationdefaults\":{\"arrowcolor\":\"#2a3f5f\",\"arrowhead\":0,\"arrowwidth\":1},\"geo\":{\"bgcolor\":\"white\",\"landcolor\":\"#E5ECF6\",\"subunitcolor\":\"white\",\"showland\":true,\"showlakes\":true,\"lakecolor\":\"white\"},\"title\":{\"x\":0.05},\"mapbox\":{\"style\":\"light\"}}},\"xaxis\":{\"anchor\":\"y\",\"domain\":[0.0,1.0],\"title\":{\"text\":\"x\"}},\"yaxis\":{\"anchor\":\"x\",\"domain\":[0.0,1.0],\"title\":{\"text\":\"y\"}},\"legend\":{\"tracegroupgap\":0},\"margin\":{\"t\":60}},                        {\"responsive\": true}                    ).then(function(){\n",
       "                            \n",
       "var gd = document.getElementById('e22a904e-b028-494b-9f71-e656ecb4f99a');\n",
       "var x = new MutationObserver(function (mutations, observer) {{\n",
       "        var display = window.getComputedStyle(gd).display;\n",
       "        if (!display || display === 'none') {{\n",
       "            console.log([gd, 'removed!']);\n",
       "            Plotly.purge(gd);\n",
       "            observer.disconnect();\n",
       "        }}\n",
       "}});\n",
       "\n",
       "// Listen for the removal of the full notebook cells\n",
       "var notebookContainer = gd.closest('#notebook-container');\n",
       "if (notebookContainer) {{\n",
       "    x.observe(notebookContainer, {childList: true});\n",
       "}}\n",
       "\n",
       "// Listen for the clearing of the current output cell\n",
       "var outputEl = gd.closest('.output');\n",
       "if (outputEl) {{\n",
       "    x.observe(outputEl, {childList: true});\n",
       "}}\n",
       "\n",
       "                        })                };                });            </script>        </div>"
      ]
     },
     "metadata": {},
     "output_type": "display_data"
    }
   ],
   "source": [
    "# Plot percent of draws the same for each number of clusters\n",
    "px.line(x = num_clust, y = pct_same)"
   ]
  }
 ],
 "metadata": {
  "kernelspec": {
   "display_name": "Python 3 (ipykernel)",
   "language": "python",
   "name": "python3"
  },
  "language_info": {
   "codemirror_mode": {
    "name": "ipython",
    "version": 3
   },
   "file_extension": ".py",
   "mimetype": "text/x-python",
   "name": "python",
   "nbconvert_exporter": "python",
   "pygments_lexer": "ipython3",
   "version": "3.9.13"
  }
 },
 "nbformat": 4,
 "nbformat_minor": 5
}
