{
 "cells": [
  {
   "cell_type": "code",
   "execution_count": 1,
   "id": "significant-cornell",
   "metadata": {},
   "outputs": [],
   "source": [
    "import pandas as pd\n",
    "import numpy as np\n",
    "import MarineDNA as md\n",
    "from sklearn.decomposition import PCA"
   ]
  },
  {
   "cell_type": "code",
   "execution_count": 2,
   "id": "f5e32982-5d77-43e7-8aeb-d0d7f4b2717b",
   "metadata": {},
   "outputs": [],
   "source": [
    "file1 = \"../../../Data/Flyer2018_16S_table_counts.tsv\"\n",
    "file2 = \"../../../Data/Flyer2018_18S_table_counts.tsv\"\n",
    "asvs1 = pd.read_csv(file1, index_col=0, sep=\"\\t\").transpose()\n",
    "asvs2 = pd.read_csv(file2, index_col=0, sep=\"\\t\").transpose()"
   ]
  },
  {
   "cell_type": "code",
   "execution_count": 3,
   "id": "56279617-ffee-4fdc-9d5a-ca83e1049599",
   "metadata": {},
   "outputs": [],
   "source": [
    "def pca_from_sample(df):\n",
    "  ran_df = md.ranRelPct(df)\n",
    "  lo_df = np.log(ran_df / (1 - ran_df))\n",
    "  pca = PCA(n_components = 10)\n",
    "  pca_fit = pca.fit(lo_df)\n",
    "  pca_results = {\n",
    "      \"lo_df\": lo_df,\n",
    "      \"scores\": pca_fit.transform(lo_df),\n",
    "      \"loadings\": np.transpose(pca_fit.components_)\n",
    "  }\n",
    "  return(pca_results)"
   ]
  },
  {
   "cell_type": "code",
   "execution_count": 4,
   "id": "53435a6e-e97f-4370-ac73-7da405c66537",
   "metadata": {},
   "outputs": [],
   "source": [
    "n_draws = 5\n",
    "\n",
    "asv_draws = [pca_from_sample(asvs1) for i in range(n_draws)]"
   ]
  },
  {
   "cell_type": "code",
   "execution_count": 5,
   "id": "8a6d814a-8b52-4428-a18e-fcb394fe58d9",
   "metadata": {},
   "outputs": [],
   "source": [
    "loadings = [x[\"loadings\"] for x in asv_draws]"
   ]
  },
  {
   "cell_type": "code",
   "execution_count": 8,
   "id": "d11301b7-6980-4f6a-b414-e4dde5a13bae",
   "metadata": {},
   "outputs": [
    {
     "name": "stdout",
     "output_type": "stream",
     "text": [
      "(2752, 10, 5)\n"
     ]
    }
   ],
   "source": [
    "loadings_arr = np.stack(md.harmonizeColumnSigns(loadings), axis = 2)\n",
    "print(loadings_arr.shape)"
   ]
  }
 ],
 "metadata": {
  "kernelspec": {
   "display_name": "Python 3 (ipykernel)",
   "language": "python",
   "name": "python3"
  },
  "language_info": {
   "codemirror_mode": {
    "name": "ipython",
    "version": 3
   },
   "file_extension": ".py",
   "mimetype": "text/x-python",
   "name": "python",
   "nbconvert_exporter": "python",
   "pygments_lexer": "ipython3",
   "version": "3.10.4"
  }
 },
 "nbformat": 4,
 "nbformat_minor": 5
}
