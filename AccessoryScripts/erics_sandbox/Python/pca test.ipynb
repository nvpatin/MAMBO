{
 "cells": [
  {
   "cell_type": "code",
   "execution_count": 10,
   "id": "significant-cornell",
   "metadata": {},
   "outputs": [],
   "source": [
    "import pandas as pd\n",
    "import numpy as np\n",
    "import MarineDNA as md"
   ]
  },
  {
   "cell_type": "code",
   "execution_count": 2,
   "id": "radical-delhi",
   "metadata": {},
   "outputs": [
    {
     "name": "stdout",
     "output_type": "stream",
     "text": [
      "[[3 4 0 0 1 3]\n",
      " [2 0 1 3 3 0]\n",
      " [0 3 3 3 4 2]\n",
      " [1 1 2 1 1 0]]\n",
      "[[0.30522744 0.46798209 0.04546993 0.2245303  0.07658423 0.38158745]\n",
      " [0.22172885 0.19842203 0.46205077 0.35951607 0.31677776 0.27385216]\n",
      " [0.05202749 0.50917607 0.15786188 0.42271165 0.17329326 0.08201126]\n",
      " [0.23204172 0.17043014 0.23558922 0.6153469  0.73201259 0.29922816]]\n"
     ]
    }
   ],
   "source": [
    "test_mat = np.random.randint(5, size=(4, 6))\n",
    "print(test_mat)\n",
    "\n",
    "p = md.ranRelPct(test_mat)\n",
    "print(p)"
   ]
  },
  {
   "cell_type": "code",
   "execution_count": 3,
   "id": "caroline-correlation",
   "metadata": {},
   "outputs": [
    {
     "name": "stdout",
     "output_type": "stream",
     "text": [
      "[[-0.82252734 -0.12824714 -3.04416802 -1.23945824 -2.48968837 -0.48281574]\n",
      " [-1.25561972 -1.396186   -0.1520894  -0.57746518 -0.76861975 -0.97516524]\n",
      " [-2.90255321  0.0367084  -1.67422358 -0.31165162 -1.56246471 -2.41532858]\n",
      " [-1.19681825 -1.58258184 -1.17701564  0.46984428  1.00485769 -0.85097598]]\n"
     ]
    }
   ],
   "source": [
    "lo_mat = np.log(p / (1 - p))\n",
    "print(lo_mat)"
   ]
  },
  {
   "cell_type": "code",
   "execution_count": 4,
   "id": "confident-crime",
   "metadata": {},
   "outputs": [
    {
     "name": "stdout",
     "output_type": "stream",
     "text": [
      "PCA(n_components=2)\n"
     ]
    }
   ],
   "source": [
    "from sklearn.decomposition import PCA\n",
    "\n",
    "pca = PCA(n_components=2)\n",
    "pca_fit = pca.fit(lo_mat)\n",
    "\n",
    "print(pca_fit)"
   ]
  },
  {
   "cell_type": "code",
   "execution_count": 5,
   "id": "sonic-fourth",
   "metadata": {},
   "outputs": [
    {
     "name": "stdout",
     "output_type": "stream",
     "text": [
      "[[ 2.27556746 -1.26303927]\n",
      " [-1.01390082 -0.18044575]\n",
      " [ 0.92671587  1.87797418]\n",
      " [-2.18838251 -0.43448916]]\n"
     ]
    }
   ],
   "source": [
    "scores = pca_fit.transform(lo_mat)\n",
    "print(scores)"
   ]
  },
  {
   "cell_type": "code",
   "execution_count": 6,
   "id": "stuffed-abraham",
   "metadata": {},
   "outputs": [
    {
     "name": "stdout",
     "output_type": "stream",
     "text": [
      "[[-0.05646932 -0.68597936]\n",
      " [ 0.38983154  0.21904963]\n",
      " [-0.48496409  0.23198718]\n",
      " [-0.29964427  0.16473971]\n",
      " [-0.71985046 -0.01639403]\n",
      " [-0.04100054 -0.63263227]]\n"
     ]
    }
   ],
   "source": [
    "loadings = np.transpose(pca_fit.components_)\n",
    "print(loadings)"
   ]
  }
 ],
 "metadata": {
  "kernelspec": {
   "display_name": "Python 3 (ipykernel)",
   "language": "python",
   "name": "python3"
  },
  "language_info": {
   "codemirror_mode": {
    "name": "ipython",
    "version": 3
   },
   "file_extension": ".py",
   "mimetype": "text/x-python",
   "name": "python",
   "nbconvert_exporter": "python",
   "pygments_lexer": "ipython3",
   "version": "3.10.4"
  }
 },
 "nbformat": 4,
 "nbformat_minor": 5
}
