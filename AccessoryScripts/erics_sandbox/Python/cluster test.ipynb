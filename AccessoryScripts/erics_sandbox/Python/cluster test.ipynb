{
 "cells": [
  {
   "cell_type": "code",
   "execution_count": 1,
   "id": "significant-cornell",
   "metadata": {},
   "outputs": [],
   "source": [
    "import pandas as pd\n",
    "import MarineDNA as md\n",
    "import plotly.express as px\n",
    "from sklearn.cluster import AgglomerativeClustering"
   ]
  },
  {
   "cell_type": "code",
   "execution_count": 2,
   "id": "f5e32982-5d77-43e7-8aeb-d0d7f4b2717b",
   "metadata": {},
   "outputs": [],
   "source": [
    "file1 = \"../../../Data/Flyer2018_16S_table_counts.tsv\"\n",
    "asvs1 = pd.read_csv(file1, index_col=0, sep=\"\\t\").transpose()"
   ]
  },
  {
   "cell_type": "code",
   "execution_count": 15,
   "id": "53435a6e-e97f-4370-ac73-7da405c66537",
   "metadata": {},
   "outputs": [
    {
     "name": "stdout",
     "output_type": "stream",
     "text": [
      "['0' '2' '2' '2' '2' '2' '0' '2' '2' '2' '2' '2' '2' '2' '2' '2' '2' '2'\n",
      " '2' '2' '2' '2' '2' '2' '2' '2' '2' '2' '2' '2' '2' '2' '2' '2' '2' '2'\n",
      " '2' '2' '2' '2' '2' '2' '1' '1' '1' '1' '1' '0' '1' '0' '1' '0' '0' '1'\n",
      " '0' '1' '0' '1' '0' '1' '1' '1']\n"
     ]
    },
    {
     "data": {
      "application/vnd.plotly.v1+json": {
       "config": {
        "plotlyServerURL": "https://plot.ly"
       },
       "data": [
        {
         "hovertemplate": "labels=0<br>0=%{x}<br>1=%{y}<extra></extra>",
         "legendgroup": "0",
         "marker": {
          "color": "#636efa",
          "symbol": "circle"
         },
         "mode": "markers",
         "name": "0",
         "orientation": "v",
         "showlegend": true,
         "type": "scatter",
         "x": [
          24.77945572406194,
          34.506917325456264,
          17.750029710587672,
          6.590392698347227,
          13.569105055314044,
          2.5036313705315596,
          12.554717380081222,
          12.690395320410355,
          35.12206996189387
         ],
         "xaxis": "x",
         "y": [
          81.95856053923818,
          105.50187306259343,
          33.948260039473205,
          11.973485991005141,
          24.062963248741205,
          -17.02053136716376,
          35.81299076086791,
          35.7932061792791,
          93.68525561846309
         ],
         "yaxis": "y"
        },
        {
         "hovertemplate": "labels=2<br>0=%{x}<br>1=%{y}<extra></extra>",
         "legendgroup": "2",
         "marker": {
          "color": "#EF553B",
          "symbol": "circle"
         },
         "mode": "markers",
         "name": "2",
         "orientation": "v",
         "showlegend": true,
         "type": "scatter",
         "x": [
          -20.02789352252542,
          -27.899313633960958,
          -23.327465038062435,
          -27.534772834867045,
          -28.183739134596294,
          -31.835083875219294,
          -23.353234211267804,
          1.4482400147202947,
          -31.460345606463353,
          -25.30002323851773,
          -31.287601151614087,
          -32.72350056713867,
          -23.97323322611151,
          -30.77923328460724,
          -28.638427109742576,
          -26.065325766514313,
          -19.421693414383043,
          -23.311660214031587,
          -14.337828125575498,
          -11.578895964369053,
          -27.05058878773947,
          -24.859882041657848,
          -16.423765914294155,
          -34.35141182001888,
          -24.134169318439863,
          -29.289363744120415,
          -16.009006712092894,
          -33.9401370757184,
          -29.775532058210125,
          -32.62041409262054,
          -29.64318145231497,
          -28.86496483796602,
          -25.387960129273186,
          -29.474595881016164,
          -29.999610399026853,
          -34.16765935474319,
          -22.018092186123596,
          -31.18737007646055,
          -28.929143940087123,
          -31.53810219426364
         ],
         "xaxis": "x",
         "y": [
          5.328134692378006,
          -9.679394129125553,
          -4.702175824633747,
          -1.5445648249981527,
          -27.343744395567676,
          -9.430355429880107,
          -12.450033671366553,
          25.945326946258444,
          -13.879505055740976,
          -8.580445753016095,
          -11.771888489483223,
          -4.479390823087461,
          -2.576935374963598,
          -9.196534834983852,
          -8.14632871818867,
          4.203841718997492,
          2.9126608995048953,
          4.992087626594991,
          20.62431486378877,
          13.431567533602257,
          -2.967829359813778,
          0.8108683774875236,
          13.47895713654986,
          -13.567094659328019,
          -4.718357481228745,
          -5.827438513616698,
          22.128099978119177,
          -15.35939317709741,
          -11.726766770657433,
          -11.235936845839307,
          -6.99977129687436,
          -10.452469559289687,
          -6.124812602087644,
          -13.038180241473313,
          -11.636772040493636,
          -11.200252148385136,
          7.312913171828359,
          -7.448101495072624,
          -6.877022195989804,
          -9.213637738248517
         ],
         "yaxis": "y"
        },
        {
         "hovertemplate": "labels=1<br>0=%{x}<br>1=%{y}<extra></extra>",
         "legendgroup": "1",
         "marker": {
          "color": "#00cc96",
          "symbol": "circle"
         },
         "mode": "markers",
         "name": "1",
         "orientation": "v",
         "showlegend": true,
         "type": "scatter",
         "x": [
          65.57088170159756,
          68.99366347646988,
          69.75300548562404,
          51.43707583771619,
          64.55384319468594,
          64.5203582382758,
          75.05169570755362,
          68.88155222050688,
          72.58143433909017,
          67.78788795387797,
          67.8908716328247,
          71.60272247288844,
          70.56427511324027
         ],
         "xaxis": "x",
         "y": [
          -20.74746697826957,
          -20.949858610784705,
          -26.209650963132663,
          -10.870703476428499,
          -21.998770534898128,
          -18.52483329887737,
          -21.4652043171144,
          -15.182705638431369,
          -15.873594876184995,
          -21.99815709943352,
          -20.206611103345967,
          -20.52675070973108,
          -20.155395960443226
         ],
         "yaxis": "y"
        }
       ],
       "layout": {
        "autosize": true,
        "legend": {
         "title": {
          "text": "labels"
         },
         "tracegroupgap": 0
        },
        "margin": {
         "t": 60
        },
        "template": {
         "data": {
          "bar": [
           {
            "error_x": {
             "color": "#2a3f5f"
            },
            "error_y": {
             "color": "#2a3f5f"
            },
            "marker": {
             "line": {
              "color": "#E5ECF6",
              "width": 0.5
             },
             "pattern": {
              "fillmode": "overlay",
              "size": 10,
              "solidity": 0.2
             }
            },
            "type": "bar"
           }
          ],
          "barpolar": [
           {
            "marker": {
             "line": {
              "color": "#E5ECF6",
              "width": 0.5
             },
             "pattern": {
              "fillmode": "overlay",
              "size": 10,
              "solidity": 0.2
             }
            },
            "type": "barpolar"
           }
          ],
          "carpet": [
           {
            "aaxis": {
             "endlinecolor": "#2a3f5f",
             "gridcolor": "white",
             "linecolor": "white",
             "minorgridcolor": "white",
             "startlinecolor": "#2a3f5f"
            },
            "baxis": {
             "endlinecolor": "#2a3f5f",
             "gridcolor": "white",
             "linecolor": "white",
             "minorgridcolor": "white",
             "startlinecolor": "#2a3f5f"
            },
            "type": "carpet"
           }
          ],
          "choropleth": [
           {
            "colorbar": {
             "outlinewidth": 0,
             "ticks": ""
            },
            "type": "choropleth"
           }
          ],
          "contour": [
           {
            "colorbar": {
             "outlinewidth": 0,
             "ticks": ""
            },
            "colorscale": [
             [
              0,
              "#0d0887"
             ],
             [
              0.1111111111111111,
              "#46039f"
             ],
             [
              0.2222222222222222,
              "#7201a8"
             ],
             [
              0.3333333333333333,
              "#9c179e"
             ],
             [
              0.4444444444444444,
              "#bd3786"
             ],
             [
              0.5555555555555556,
              "#d8576b"
             ],
             [
              0.6666666666666666,
              "#ed7953"
             ],
             [
              0.7777777777777778,
              "#fb9f3a"
             ],
             [
              0.8888888888888888,
              "#fdca26"
             ],
             [
              1,
              "#f0f921"
             ]
            ],
            "type": "contour"
           }
          ],
          "contourcarpet": [
           {
            "colorbar": {
             "outlinewidth": 0,
             "ticks": ""
            },
            "type": "contourcarpet"
           }
          ],
          "heatmap": [
           {
            "colorbar": {
             "outlinewidth": 0,
             "ticks": ""
            },
            "colorscale": [
             [
              0,
              "#0d0887"
             ],
             [
              0.1111111111111111,
              "#46039f"
             ],
             [
              0.2222222222222222,
              "#7201a8"
             ],
             [
              0.3333333333333333,
              "#9c179e"
             ],
             [
              0.4444444444444444,
              "#bd3786"
             ],
             [
              0.5555555555555556,
              "#d8576b"
             ],
             [
              0.6666666666666666,
              "#ed7953"
             ],
             [
              0.7777777777777778,
              "#fb9f3a"
             ],
             [
              0.8888888888888888,
              "#fdca26"
             ],
             [
              1,
              "#f0f921"
             ]
            ],
            "type": "heatmap"
           }
          ],
          "heatmapgl": [
           {
            "colorbar": {
             "outlinewidth": 0,
             "ticks": ""
            },
            "colorscale": [
             [
              0,
              "#0d0887"
             ],
             [
              0.1111111111111111,
              "#46039f"
             ],
             [
              0.2222222222222222,
              "#7201a8"
             ],
             [
              0.3333333333333333,
              "#9c179e"
             ],
             [
              0.4444444444444444,
              "#bd3786"
             ],
             [
              0.5555555555555556,
              "#d8576b"
             ],
             [
              0.6666666666666666,
              "#ed7953"
             ],
             [
              0.7777777777777778,
              "#fb9f3a"
             ],
             [
              0.8888888888888888,
              "#fdca26"
             ],
             [
              1,
              "#f0f921"
             ]
            ],
            "type": "heatmapgl"
           }
          ],
          "histogram": [
           {
            "marker": {
             "pattern": {
              "fillmode": "overlay",
              "size": 10,
              "solidity": 0.2
             }
            },
            "type": "histogram"
           }
          ],
          "histogram2d": [
           {
            "colorbar": {
             "outlinewidth": 0,
             "ticks": ""
            },
            "colorscale": [
             [
              0,
              "#0d0887"
             ],
             [
              0.1111111111111111,
              "#46039f"
             ],
             [
              0.2222222222222222,
              "#7201a8"
             ],
             [
              0.3333333333333333,
              "#9c179e"
             ],
             [
              0.4444444444444444,
              "#bd3786"
             ],
             [
              0.5555555555555556,
              "#d8576b"
             ],
             [
              0.6666666666666666,
              "#ed7953"
             ],
             [
              0.7777777777777778,
              "#fb9f3a"
             ],
             [
              0.8888888888888888,
              "#fdca26"
             ],
             [
              1,
              "#f0f921"
             ]
            ],
            "type": "histogram2d"
           }
          ],
          "histogram2dcontour": [
           {
            "colorbar": {
             "outlinewidth": 0,
             "ticks": ""
            },
            "colorscale": [
             [
              0,
              "#0d0887"
             ],
             [
              0.1111111111111111,
              "#46039f"
             ],
             [
              0.2222222222222222,
              "#7201a8"
             ],
             [
              0.3333333333333333,
              "#9c179e"
             ],
             [
              0.4444444444444444,
              "#bd3786"
             ],
             [
              0.5555555555555556,
              "#d8576b"
             ],
             [
              0.6666666666666666,
              "#ed7953"
             ],
             [
              0.7777777777777778,
              "#fb9f3a"
             ],
             [
              0.8888888888888888,
              "#fdca26"
             ],
             [
              1,
              "#f0f921"
             ]
            ],
            "type": "histogram2dcontour"
           }
          ],
          "mesh3d": [
           {
            "colorbar": {
             "outlinewidth": 0,
             "ticks": ""
            },
            "type": "mesh3d"
           }
          ],
          "parcoords": [
           {
            "line": {
             "colorbar": {
              "outlinewidth": 0,
              "ticks": ""
             }
            },
            "type": "parcoords"
           }
          ],
          "pie": [
           {
            "automargin": true,
            "type": "pie"
           }
          ],
          "scatter": [
           {
            "fillpattern": {
             "fillmode": "overlay",
             "size": 10,
             "solidity": 0.2
            },
            "type": "scatter"
           }
          ],
          "scatter3d": [
           {
            "line": {
             "colorbar": {
              "outlinewidth": 0,
              "ticks": ""
             }
            },
            "marker": {
             "colorbar": {
              "outlinewidth": 0,
              "ticks": ""
             }
            },
            "type": "scatter3d"
           }
          ],
          "scattercarpet": [
           {
            "marker": {
             "colorbar": {
              "outlinewidth": 0,
              "ticks": ""
             }
            },
            "type": "scattercarpet"
           }
          ],
          "scattergeo": [
           {
            "marker": {
             "colorbar": {
              "outlinewidth": 0,
              "ticks": ""
             }
            },
            "type": "scattergeo"
           }
          ],
          "scattergl": [
           {
            "marker": {
             "colorbar": {
              "outlinewidth": 0,
              "ticks": ""
             }
            },
            "type": "scattergl"
           }
          ],
          "scattermapbox": [
           {
            "marker": {
             "colorbar": {
              "outlinewidth": 0,
              "ticks": ""
             }
            },
            "type": "scattermapbox"
           }
          ],
          "scatterpolar": [
           {
            "marker": {
             "colorbar": {
              "outlinewidth": 0,
              "ticks": ""
             }
            },
            "type": "scatterpolar"
           }
          ],
          "scatterpolargl": [
           {
            "marker": {
             "colorbar": {
              "outlinewidth": 0,
              "ticks": ""
             }
            },
            "type": "scatterpolargl"
           }
          ],
          "scatterternary": [
           {
            "marker": {
             "colorbar": {
              "outlinewidth": 0,
              "ticks": ""
             }
            },
            "type": "scatterternary"
           }
          ],
          "surface": [
           {
            "colorbar": {
             "outlinewidth": 0,
             "ticks": ""
            },
            "colorscale": [
             [
              0,
              "#0d0887"
             ],
             [
              0.1111111111111111,
              "#46039f"
             ],
             [
              0.2222222222222222,
              "#7201a8"
             ],
             [
              0.3333333333333333,
              "#9c179e"
             ],
             [
              0.4444444444444444,
              "#bd3786"
             ],
             [
              0.5555555555555556,
              "#d8576b"
             ],
             [
              0.6666666666666666,
              "#ed7953"
             ],
             [
              0.7777777777777778,
              "#fb9f3a"
             ],
             [
              0.8888888888888888,
              "#fdca26"
             ],
             [
              1,
              "#f0f921"
             ]
            ],
            "type": "surface"
           }
          ],
          "table": [
           {
            "cells": {
             "fill": {
              "color": "#EBF0F8"
             },
             "line": {
              "color": "white"
             }
            },
            "header": {
             "fill": {
              "color": "#C8D4E3"
             },
             "line": {
              "color": "white"
             }
            },
            "type": "table"
           }
          ]
         },
         "layout": {
          "annotationdefaults": {
           "arrowcolor": "#2a3f5f",
           "arrowhead": 0,
           "arrowwidth": 1
          },
          "autotypenumbers": "strict",
          "coloraxis": {
           "colorbar": {
            "outlinewidth": 0,
            "ticks": ""
           }
          },
          "colorscale": {
           "diverging": [
            [
             0,
             "#8e0152"
            ],
            [
             0.1,
             "#c51b7d"
            ],
            [
             0.2,
             "#de77ae"
            ],
            [
             0.3,
             "#f1b6da"
            ],
            [
             0.4,
             "#fde0ef"
            ],
            [
             0.5,
             "#f7f7f7"
            ],
            [
             0.6,
             "#e6f5d0"
            ],
            [
             0.7,
             "#b8e186"
            ],
            [
             0.8,
             "#7fbc41"
            ],
            [
             0.9,
             "#4d9221"
            ],
            [
             1,
             "#276419"
            ]
           ],
           "sequential": [
            [
             0,
             "#0d0887"
            ],
            [
             0.1111111111111111,
             "#46039f"
            ],
            [
             0.2222222222222222,
             "#7201a8"
            ],
            [
             0.3333333333333333,
             "#9c179e"
            ],
            [
             0.4444444444444444,
             "#bd3786"
            ],
            [
             0.5555555555555556,
             "#d8576b"
            ],
            [
             0.6666666666666666,
             "#ed7953"
            ],
            [
             0.7777777777777778,
             "#fb9f3a"
            ],
            [
             0.8888888888888888,
             "#fdca26"
            ],
            [
             1,
             "#f0f921"
            ]
           ],
           "sequentialminus": [
            [
             0,
             "#0d0887"
            ],
            [
             0.1111111111111111,
             "#46039f"
            ],
            [
             0.2222222222222222,
             "#7201a8"
            ],
            [
             0.3333333333333333,
             "#9c179e"
            ],
            [
             0.4444444444444444,
             "#bd3786"
            ],
            [
             0.5555555555555556,
             "#d8576b"
            ],
            [
             0.6666666666666666,
             "#ed7953"
            ],
            [
             0.7777777777777778,
             "#fb9f3a"
            ],
            [
             0.8888888888888888,
             "#fdca26"
            ],
            [
             1,
             "#f0f921"
            ]
           ]
          },
          "colorway": [
           "#636efa",
           "#EF553B",
           "#00cc96",
           "#ab63fa",
           "#FFA15A",
           "#19d3f3",
           "#FF6692",
           "#B6E880",
           "#FF97FF",
           "#FECB52"
          ],
          "font": {
           "color": "#2a3f5f"
          },
          "geo": {
           "bgcolor": "white",
           "lakecolor": "white",
           "landcolor": "#E5ECF6",
           "showlakes": true,
           "showland": true,
           "subunitcolor": "white"
          },
          "hoverlabel": {
           "align": "left"
          },
          "hovermode": "closest",
          "mapbox": {
           "style": "light"
          },
          "paper_bgcolor": "white",
          "plot_bgcolor": "#E5ECF6",
          "polar": {
           "angularaxis": {
            "gridcolor": "white",
            "linecolor": "white",
            "ticks": ""
           },
           "bgcolor": "#E5ECF6",
           "radialaxis": {
            "gridcolor": "white",
            "linecolor": "white",
            "ticks": ""
           }
          },
          "scene": {
           "xaxis": {
            "backgroundcolor": "#E5ECF6",
            "gridcolor": "white",
            "gridwidth": 2,
            "linecolor": "white",
            "showbackground": true,
            "ticks": "",
            "zerolinecolor": "white"
           },
           "yaxis": {
            "backgroundcolor": "#E5ECF6",
            "gridcolor": "white",
            "gridwidth": 2,
            "linecolor": "white",
            "showbackground": true,
            "ticks": "",
            "zerolinecolor": "white"
           },
           "zaxis": {
            "backgroundcolor": "#E5ECF6",
            "gridcolor": "white",
            "gridwidth": 2,
            "linecolor": "white",
            "showbackground": true,
            "ticks": "",
            "zerolinecolor": "white"
           }
          },
          "shapedefaults": {
           "line": {
            "color": "#2a3f5f"
           }
          },
          "ternary": {
           "aaxis": {
            "gridcolor": "white",
            "linecolor": "white",
            "ticks": ""
           },
           "baxis": {
            "gridcolor": "white",
            "linecolor": "white",
            "ticks": ""
           },
           "bgcolor": "#E5ECF6",
           "caxis": {
            "gridcolor": "white",
            "linecolor": "white",
            "ticks": ""
           }
          },
          "title": {
           "x": 0.05
          },
          "xaxis": {
           "automargin": true,
           "gridcolor": "white",
           "linecolor": "white",
           "ticks": "",
           "title": {
            "standoff": 15
           },
           "zerolinecolor": "white",
           "zerolinewidth": 2
          },
          "yaxis": {
           "automargin": true,
           "gridcolor": "white",
           "linecolor": "white",
           "ticks": "",
           "title": {
            "standoff": 15
           },
           "zerolinecolor": "white",
           "zerolinewidth": 2
          }
         }
        },
        "xaxis": {
         "anchor": "y",
         "autorange": true,
         "domain": [
          0,
          1
         ],
         "range": [
          -40.707097132121504,
          81.40738101965624
         ],
         "title": {
          "text": "0"
         },
         "type": "linear"
        },
        "yaxis": {
         "anchor": "x",
         "autorange": true,
         "domain": [
          0,
          1
         ],
         "range": [
          -37.62969115413921,
          115.78781982116496
         ],
         "title": {
          "text": "1"
         },
         "type": "linear"
        }
       }
      },
      "image/png": "[encoded data removed]",
      "text/html": [
       "<div>                            <div id=\"12e0c982-d9fe-404f-9136-a5f6d9e4fd75\" class=\"plotly-graph-div\" style=\"height:525px; width:100%;\"></div>            <script type=\"text/javascript\">                require([\"plotly\"], function(Plotly) {                    window.PLOTLYENV=window.PLOTLYENV || {};                                    if (document.getElementById(\"12e0c982-d9fe-404f-9136-a5f6d9e4fd75\")) {                    Plotly.newPlot(                        \"12e0c982-d9fe-404f-9136-a5f6d9e4fd75\",                        [{\"hovertemplate\":\"labels=0<br>0=%{x}<br>1=%{y}<extra></extra>\",\"legendgroup\":\"0\",\"marker\":{\"color\":\"#636efa\",\"symbol\":\"circle\"},\"mode\":\"markers\",\"name\":\"0\",\"orientation\":\"v\",\"showlegend\":true,\"x\":[24.77945572406194,34.506917325456264,17.750029710587672,6.590392698347227,13.569105055314044,2.5036313705315596,12.554717380081222,12.690395320410355,35.12206996189387],\"xaxis\":\"x\",\"y\":[81.95856053923818,105.50187306259343,33.948260039473205,11.973485991005141,24.062963248741205,-17.02053136716376,35.81299076086791,35.7932061792791,93.68525561846309],\"yaxis\":\"y\",\"type\":\"scatter\"},{\"hovertemplate\":\"labels=2<br>0=%{x}<br>1=%{y}<extra></extra>\",\"legendgroup\":\"2\",\"marker\":{\"color\":\"#EF553B\",\"symbol\":\"circle\"},\"mode\":\"markers\",\"name\":\"2\",\"orientation\":\"v\",\"showlegend\":true,\"x\":[-20.02789352252542,-27.899313633960958,-23.327465038062435,-27.534772834867045,-28.183739134596294,-31.835083875219294,-23.353234211267804,1.4482400147202947,-31.460345606463353,-25.30002323851773,-31.287601151614087,-32.72350056713867,-23.97323322611151,-30.77923328460724,-28.638427109742576,-26.065325766514313,-19.421693414383043,-23.311660214031587,-14.337828125575498,-11.578895964369053,-27.05058878773947,-24.859882041657848,-16.423765914294155,-34.35141182001888,-24.134169318439863,-29.289363744120415,-16.009006712092894,-33.9401370757184,-29.775532058210125,-32.62041409262054,-29.64318145231497,-28.86496483796602,-25.387960129273186,-29.474595881016164,-29.999610399026853,-34.16765935474319,-22.018092186123596,-31.18737007646055,-28.929143940087123,-31.53810219426364],\"xaxis\":\"x\",\"y\":[5.328134692378006,-9.679394129125553,-4.702175824633747,-1.5445648249981527,-27.343744395567676,-9.430355429880107,-12.450033671366553,25.945326946258444,-13.879505055740976,-8.580445753016095,-11.771888489483223,-4.479390823087461,-2.576935374963598,-9.196534834983852,-8.14632871818867,4.203841718997492,2.9126608995048953,4.992087626594991,20.62431486378877,13.431567533602257,-2.967829359813778,0.8108683774875236,13.47895713654986,-13.567094659328019,-4.718357481228745,-5.827438513616698,22.128099978119177,-15.35939317709741,-11.726766770657433,-11.235936845839307,-6.99977129687436,-10.452469559289687,-6.124812602087644,-13.038180241473313,-11.636772040493636,-11.200252148385136,7.312913171828359,-7.448101495072624,-6.877022195989804,-9.213637738248517],\"yaxis\":\"y\",\"type\":\"scatter\"},{\"hovertemplate\":\"labels=1<br>0=%{x}<br>1=%{y}<extra></extra>\",\"legendgroup\":\"1\",\"marker\":{\"color\":\"#00cc96\",\"symbol\":\"circle\"},\"mode\":\"markers\",\"name\":\"1\",\"orientation\":\"v\",\"showlegend\":true,\"x\":[65.57088170159756,68.99366347646988,69.75300548562404,51.43707583771619,64.55384319468594,64.5203582382758,75.05169570755362,68.88155222050688,72.58143433909017,67.78788795387797,67.8908716328247,71.60272247288844,70.56427511324027],\"xaxis\":\"x\",\"y\":[-20.74746697826957,-20.949858610784705,-26.209650963132663,-10.870703476428499,-21.998770534898128,-18.52483329887737,-21.4652043171144,-15.182705638431369,-15.873594876184995,-21.99815709943352,-20.206611103345967,-20.52675070973108,-20.155395960443226],\"yaxis\":\"y\",\"type\":\"scatter\"}],                        {\"template\":{\"data\":{\"histogram2dcontour\":[{\"type\":\"histogram2dcontour\",\"colorbar\":{\"outlinewidth\":0,\"ticks\":\"\"},\"colorscale\":[[0.0,\"#0d0887\"],[0.1111111111111111,\"#46039f\"],[0.2222222222222222,\"#7201a8\"],[0.3333333333333333,\"#9c179e\"],[0.4444444444444444,\"#bd3786\"],[0.5555555555555556,\"#d8576b\"],[0.6666666666666666,\"#ed7953\"],[0.7777777777777778,\"#fb9f3a\"],[0.8888888888888888,\"#fdca26\"],[1.0,\"#f0f921\"]]}],\"choropleth\":[{\"type\":\"choropleth\",\"colorbar\":{\"outlinewidth\":0,\"ticks\":\"\"}}],\"histogram2d\":[{\"type\":\"histogram2d\",\"colorbar\":{\"outlinewidth\":0,\"ticks\":\"\"},\"colorscale\":[[0.0,\"#0d0887\"],[0.1111111111111111,\"#46039f\"],[0.2222222222222222,\"#7201a8\"],[0.3333333333333333,\"#9c179e\"],[0.4444444444444444,\"#bd3786\"],[0.5555555555555556,\"#d8576b\"],[0.6666666666666666,\"#ed7953\"],[0.7777777777777778,\"#fb9f3a\"],[0.8888888888888888,\"#fdca26\"],[1.0,\"#f0f921\"]]}],\"heatmap\":[{\"type\":\"heatmap\",\"colorbar\":{\"outlinewidth\":0,\"ticks\":\"\"},\"colorscale\":[[0.0,\"#0d0887\"],[0.1111111111111111,\"#46039f\"],[0.2222222222222222,\"#7201a8\"],[0.3333333333333333,\"#9c179e\"],[0.4444444444444444,\"#bd3786\"],[0.5555555555555556,\"#d8576b\"],[0.6666666666666666,\"#ed7953\"],[0.7777777777777778,\"#fb9f3a\"],[0.8888888888888888,\"#fdca26\"],[1.0,\"#f0f921\"]]}],\"heatmapgl\":[{\"type\":\"heatmapgl\",\"colorbar\":{\"outlinewidth\":0,\"ticks\":\"\"},\"colorscale\":[[0.0,\"#0d0887\"],[0.1111111111111111,\"#46039f\"],[0.2222222222222222,\"#7201a8\"],[0.3333333333333333,\"#9c179e\"],[0.4444444444444444,\"#bd3786\"],[0.5555555555555556,\"#d8576b\"],[0.6666666666666666,\"#ed7953\"],[0.7777777777777778,\"#fb9f3a\"],[0.8888888888888888,\"#fdca26\"],[1.0,\"#f0f921\"]]}],\"contourcarpet\":[{\"type\":\"contourcarpet\",\"colorbar\":{\"outlinewidth\":0,\"ticks\":\"\"}}],\"contour\":[{\"type\":\"contour\",\"colorbar\":{\"outlinewidth\":0,\"ticks\":\"\"},\"colorscale\":[[0.0,\"#0d0887\"],[0.1111111111111111,\"#46039f\"],[0.2222222222222222,\"#7201a8\"],[0.3333333333333333,\"#9c179e\"],[0.4444444444444444,\"#bd3786\"],[0.5555555555555556,\"#d8576b\"],[0.6666666666666666,\"#ed7953\"],[0.7777777777777778,\"#fb9f3a\"],[0.8888888888888888,\"#fdca26\"],[1.0,\"#f0f921\"]]}],\"surface\":[{\"type\":\"surface\",\"colorbar\":{\"outlinewidth\":0,\"ticks\":\"\"},\"colorscale\":[[0.0,\"#0d0887\"],[0.1111111111111111,\"#46039f\"],[0.2222222222222222,\"#7201a8\"],[0.3333333333333333,\"#9c179e\"],[0.4444444444444444,\"#bd3786\"],[0.5555555555555556,\"#d8576b\"],[0.6666666666666666,\"#ed7953\"],[0.7777777777777778,\"#fb9f3a\"],[0.8888888888888888,\"#fdca26\"],[1.0,\"#f0f921\"]]}],\"mesh3d\":[{\"type\":\"mesh3d\",\"colorbar\":{\"outlinewidth\":0,\"ticks\":\"\"}}],\"scatter\":[{\"fillpattern\":{\"fillmode\":\"overlay\",\"size\":10,\"solidity\":0.2},\"type\":\"scatter\"}],\"parcoords\":[{\"type\":\"parcoords\",\"line\":{\"colorbar\":{\"outlinewidth\":0,\"ticks\":\"\"}}}],\"scatterpolargl\":[{\"type\":\"scatterpolargl\",\"marker\":{\"colorbar\":{\"outlinewidth\":0,\"ticks\":\"\"}}}],\"bar\":[{\"error_x\":{\"color\":\"#2a3f5f\"},\"error_y\":{\"color\":\"#2a3f5f\"},\"marker\":{\"line\":{\"color\":\"#E5ECF6\",\"width\":0.5},\"pattern\":{\"fillmode\":\"overlay\",\"size\":10,\"solidity\":0.2}},\"type\":\"bar\"}],\"scattergeo\":[{\"type\":\"scattergeo\",\"marker\":{\"colorbar\":{\"outlinewidth\":0,\"ticks\":\"\"}}}],\"scatterpolar\":[{\"type\":\"scatterpolar\",\"marker\":{\"colorbar\":{\"outlinewidth\":0,\"ticks\":\"\"}}}],\"histogram\":[{\"marker\":{\"pattern\":{\"fillmode\":\"overlay\",\"size\":10,\"solidity\":0.2}},\"type\":\"histogram\"}],\"scattergl\":[{\"type\":\"scattergl\",\"marker\":{\"colorbar\":{\"outlinewidth\":0,\"ticks\":\"\"}}}],\"scatter3d\":[{\"type\":\"scatter3d\",\"line\":{\"colorbar\":{\"outlinewidth\":0,\"ticks\":\"\"}},\"marker\":{\"colorbar\":{\"outlinewidth\":0,\"ticks\":\"\"}}}],\"scattermapbox\":[{\"type\":\"scattermapbox\",\"marker\":{\"colorbar\":{\"outlinewidth\":0,\"ticks\":\"\"}}}],\"scatterternary\":[{\"type\":\"scatterternary\",\"marker\":{\"colorbar\":{\"outlinewidth\":0,\"ticks\":\"\"}}}],\"scattercarpet\":[{\"type\":\"scattercarpet\",\"marker\":{\"colorbar\":{\"outlinewidth\":0,\"ticks\":\"\"}}}],\"carpet\":[{\"aaxis\":{\"endlinecolor\":\"#2a3f5f\",\"gridcolor\":\"white\",\"linecolor\":\"white\",\"minorgridcolor\":\"white\",\"startlinecolor\":\"#2a3f5f\"},\"baxis\":{\"endlinecolor\":\"#2a3f5f\",\"gridcolor\":\"white\",\"linecolor\":\"white\",\"minorgridcolor\":\"white\",\"startlinecolor\":\"#2a3f5f\"},\"type\":\"carpet\"}],\"table\":[{\"cells\":{\"fill\":{\"color\":\"#EBF0F8\"},\"line\":{\"color\":\"white\"}},\"header\":{\"fill\":{\"color\":\"#C8D4E3\"},\"line\":{\"color\":\"white\"}},\"type\":\"table\"}],\"barpolar\":[{\"marker\":{\"line\":{\"color\":\"#E5ECF6\",\"width\":0.5},\"pattern\":{\"fillmode\":\"overlay\",\"size\":10,\"solidity\":0.2}},\"type\":\"barpolar\"}],\"pie\":[{\"automargin\":true,\"type\":\"pie\"}]},\"layout\":{\"autotypenumbers\":\"strict\",\"colorway\":[\"#636efa\",\"#EF553B\",\"#00cc96\",\"#ab63fa\",\"#FFA15A\",\"#19d3f3\",\"#FF6692\",\"#B6E880\",\"#FF97FF\",\"#FECB52\"],\"font\":{\"color\":\"#2a3f5f\"},\"hovermode\":\"closest\",\"hoverlabel\":{\"align\":\"left\"},\"paper_bgcolor\":\"white\",\"plot_bgcolor\":\"#E5ECF6\",\"polar\":{\"bgcolor\":\"#E5ECF6\",\"angularaxis\":{\"gridcolor\":\"white\",\"linecolor\":\"white\",\"ticks\":\"\"},\"radialaxis\":{\"gridcolor\":\"white\",\"linecolor\":\"white\",\"ticks\":\"\"}},\"ternary\":{\"bgcolor\":\"#E5ECF6\",\"aaxis\":{\"gridcolor\":\"white\",\"linecolor\":\"white\",\"ticks\":\"\"},\"baxis\":{\"gridcolor\":\"white\",\"linecolor\":\"white\",\"ticks\":\"\"},\"caxis\":{\"gridcolor\":\"white\",\"linecolor\":\"white\",\"ticks\":\"\"}},\"coloraxis\":{\"colorbar\":{\"outlinewidth\":0,\"ticks\":\"\"}},\"colorscale\":{\"sequential\":[[0.0,\"#0d0887\"],[0.1111111111111111,\"#46039f\"],[0.2222222222222222,\"#7201a8\"],[0.3333333333333333,\"#9c179e\"],[0.4444444444444444,\"#bd3786\"],[0.5555555555555556,\"#d8576b\"],[0.6666666666666666,\"#ed7953\"],[0.7777777777777778,\"#fb9f3a\"],[0.8888888888888888,\"#fdca26\"],[1.0,\"#f0f921\"]],\"sequentialminus\":[[0.0,\"#0d0887\"],[0.1111111111111111,\"#46039f\"],[0.2222222222222222,\"#7201a8\"],[0.3333333333333333,\"#9c179e\"],[0.4444444444444444,\"#bd3786\"],[0.5555555555555556,\"#d8576b\"],[0.6666666666666666,\"#ed7953\"],[0.7777777777777778,\"#fb9f3a\"],[0.8888888888888888,\"#fdca26\"],[1.0,\"#f0f921\"]],\"diverging\":[[0,\"#8e0152\"],[0.1,\"#c51b7d\"],[0.2,\"#de77ae\"],[0.3,\"#f1b6da\"],[0.4,\"#fde0ef\"],[0.5,\"#f7f7f7\"],[0.6,\"#e6f5d0\"],[0.7,\"#b8e186\"],[0.8,\"#7fbc41\"],[0.9,\"#4d9221\"],[1,\"#276419\"]]},\"xaxis\":{\"gridcolor\":\"white\",\"linecolor\":\"white\",\"ticks\":\"\",\"title\":{\"standoff\":15},\"zerolinecolor\":\"white\",\"automargin\":true,\"zerolinewidth\":2},\"yaxis\":{\"gridcolor\":\"white\",\"linecolor\":\"white\",\"ticks\":\"\",\"title\":{\"standoff\":15},\"zerolinecolor\":\"white\",\"automargin\":true,\"zerolinewidth\":2},\"scene\":{\"xaxis\":{\"backgroundcolor\":\"#E5ECF6\",\"gridcolor\":\"white\",\"linecolor\":\"white\",\"showbackground\":true,\"ticks\":\"\",\"zerolinecolor\":\"white\",\"gridwidth\":2},\"yaxis\":{\"backgroundcolor\":\"#E5ECF6\",\"gridcolor\":\"white\",\"linecolor\":\"white\",\"showbackground\":true,\"ticks\":\"\",\"zerolinecolor\":\"white\",\"gridwidth\":2},\"zaxis\":{\"backgroundcolor\":\"#E5ECF6\",\"gridcolor\":\"white\",\"linecolor\":\"white\",\"showbackground\":true,\"ticks\":\"\",\"zerolinecolor\":\"white\",\"gridwidth\":2}},\"shapedefaults\":{\"line\":{\"color\":\"#2a3f5f\"}},\"annotationdefaults\":{\"arrowcolor\":\"#2a3f5f\",\"arrowhead\":0,\"arrowwidth\":1},\"geo\":{\"bgcolor\":\"white\",\"landcolor\":\"#E5ECF6\",\"subunitcolor\":\"white\",\"showland\":true,\"showlakes\":true,\"lakecolor\":\"white\"},\"title\":{\"x\":0.05},\"mapbox\":{\"style\":\"light\"}}},\"xaxis\":{\"anchor\":\"y\",\"domain\":[0.0,1.0],\"title\":{\"text\":\"0\"}},\"yaxis\":{\"anchor\":\"x\",\"domain\":[0.0,1.0],\"title\":{\"text\":\"1\"}},\"legend\":{\"title\":{\"text\":\"labels\"},\"tracegroupgap\":0},\"margin\":{\"t\":60}},                        {\"responsive\": true}                    ).then(function(){\n",
       "                            \n",
       "var gd = document.getElementById('12e0c982-d9fe-404f-9136-a5f6d9e4fd75');\n",
       "var x = new MutationObserver(function (mutations, observer) {{\n",
       "        var display = window.getComputedStyle(gd).display;\n",
       "        if (!display || display === 'none') {{\n",
       "            console.log([gd, 'removed!']);\n",
       "            Plotly.purge(gd);\n",
       "            observer.disconnect();\n",
       "        }}\n",
       "}});\n",
       "\n",
       "// Listen for the removal of the full notebook cells\n",
       "var notebookContainer = gd.closest('#notebook-container');\n",
       "if (notebookContainer) {{\n",
       "    x.observe(notebookContainer, {childList: true});\n",
       "}}\n",
       "\n",
       "// Listen for the clearing of the current output cell\n",
       "var outputEl = gd.closest('.output');\n",
       "if (outputEl) {{\n",
       "    x.observe(outputEl, {childList: true});\n",
       "}}\n",
       "\n",
       "                        })                };                });            </script>        </div>"
      ]
     },
     "metadata": {},
     "output_type": "display_data"
    }
   ],
   "source": [
    "pca = [md.samplePCA(asvs1) for i in range(10)]\n",
    "test_df = pca[1][\"df\"]\n",
    "test_scores = pd.DataFrame(pca[1][\"scores\"])\n",
    "\n",
    "agg_clust = AgglomerativeClustering(n_clusters = 3, metric = \"euclidean\", linkage = \"ward\")\n",
    "labels = agg_clust.fit_predict(test_df)\n",
    "labels = labels.astype(str)\n",
    "print(labels)\n",
    "\n",
    "test_scores['labels'] = labels\n",
    "fig = px.scatter(\n",
    "    test_scores,\n",
    "    x = 0,\n",
    "    y = 1,\n",
    "    color = \"labels\"\n",
    ")\n",
    "fig.show()"
   ]
  },
  {
   "cell_type": "code",
   "execution_count": 19,
   "id": "e066a3bd-8c03-497d-9450-71b31b144f75",
   "metadata": {},
   "outputs": [
    {
     "data": {
      "text/html": [
       "<div>\n",
       "<style scoped>\n",
       "    .dataframe tbody tr th:only-of-type {\n",
       "        vertical-align: middle;\n",
       "    }\n",
       "\n",
       "    .dataframe tbody tr th {\n",
       "        vertical-align: top;\n",
       "    }\n",
       "\n",
       "    .dataframe thead th {\n",
       "        text-align: right;\n",
       "    }\n",
       "</style>\n",
       "<table border=\"1\" class=\"dataframe\">\n",
       "  <thead>\n",
       "    <tr style=\"text-align: right;\">\n",
       "      <th></th>\n",
       "      <th>0</th>\n",
       "      <th>1</th>\n",
       "      <th>2</th>\n",
       "      <th>3</th>\n",
       "      <th>4</th>\n",
       "      <th>5</th>\n",
       "      <th>6</th>\n",
       "      <th>7</th>\n",
       "      <th>8</th>\n",
       "      <th>9</th>\n",
       "      <th>...</th>\n",
       "      <th>52</th>\n",
       "      <th>53</th>\n",
       "      <th>54</th>\n",
       "      <th>55</th>\n",
       "      <th>56</th>\n",
       "      <th>57</th>\n",
       "      <th>58</th>\n",
       "      <th>59</th>\n",
       "      <th>60</th>\n",
       "      <th>labels</th>\n",
       "    </tr>\n",
       "  </thead>\n",
       "  <tbody>\n",
       "    <tr>\n",
       "      <th>0</th>\n",
       "      <td>24.779456</td>\n",
       "      <td>81.958561</td>\n",
       "      <td>-35.440794</td>\n",
       "      <td>18.729767</td>\n",
       "      <td>7.129458</td>\n",
       "      <td>-12.646634</td>\n",
       "      <td>1.230852</td>\n",
       "      <td>3.033911</td>\n",
       "      <td>-7.493735</td>\n",
       "      <td>0.469057</td>\n",
       "      <td>...</td>\n",
       "      <td>-4.499549</td>\n",
       "      <td>-6.837835</td>\n",
       "      <td>1.871331</td>\n",
       "      <td>-5.975407</td>\n",
       "      <td>6.419448</td>\n",
       "      <td>0.181827</td>\n",
       "      <td>-0.363290</td>\n",
       "      <td>-9.514567</td>\n",
       "      <td>-8.016383</td>\n",
       "      <td>0</td>\n",
       "    </tr>\n",
       "    <tr>\n",
       "      <th>1</th>\n",
       "      <td>-20.027894</td>\n",
       "      <td>5.328135</td>\n",
       "      <td>-7.188357</td>\n",
       "      <td>-3.771754</td>\n",
       "      <td>10.824924</td>\n",
       "      <td>2.401078</td>\n",
       "      <td>-2.052402</td>\n",
       "      <td>16.325859</td>\n",
       "      <td>-10.384940</td>\n",
       "      <td>-17.569091</td>\n",
       "      <td>...</td>\n",
       "      <td>-6.750692</td>\n",
       "      <td>-7.720451</td>\n",
       "      <td>21.191139</td>\n",
       "      <td>0.258739</td>\n",
       "      <td>-4.728926</td>\n",
       "      <td>-12.873601</td>\n",
       "      <td>7.706897</td>\n",
       "      <td>2.133924</td>\n",
       "      <td>0.386779</td>\n",
       "      <td>2</td>\n",
       "    </tr>\n",
       "    <tr>\n",
       "      <th>2</th>\n",
       "      <td>-27.899314</td>\n",
       "      <td>-9.679394</td>\n",
       "      <td>-9.436050</td>\n",
       "      <td>9.381756</td>\n",
       "      <td>-11.633087</td>\n",
       "      <td>9.547332</td>\n",
       "      <td>8.422920</td>\n",
       "      <td>6.323255</td>\n",
       "      <td>2.471875</td>\n",
       "      <td>-4.099539</td>\n",
       "      <td>...</td>\n",
       "      <td>12.811117</td>\n",
       "      <td>-7.309044</td>\n",
       "      <td>-9.478133</td>\n",
       "      <td>-1.407580</td>\n",
       "      <td>-4.928882</td>\n",
       "      <td>3.623764</td>\n",
       "      <td>-4.150132</td>\n",
       "      <td>-1.099915</td>\n",
       "      <td>-15.271647</td>\n",
       "      <td>2</td>\n",
       "    </tr>\n",
       "    <tr>\n",
       "      <th>3</th>\n",
       "      <td>-23.327465</td>\n",
       "      <td>-4.702176</td>\n",
       "      <td>-6.800907</td>\n",
       "      <td>4.385573</td>\n",
       "      <td>3.059284</td>\n",
       "      <td>6.763755</td>\n",
       "      <td>2.548172</td>\n",
       "      <td>13.519441</td>\n",
       "      <td>0.046823</td>\n",
       "      <td>-15.163059</td>\n",
       "      <td>...</td>\n",
       "      <td>0.864654</td>\n",
       "      <td>-3.376803</td>\n",
       "      <td>8.209258</td>\n",
       "      <td>-14.292680</td>\n",
       "      <td>10.842015</td>\n",
       "      <td>7.263394</td>\n",
       "      <td>-7.012555</td>\n",
       "      <td>9.867807</td>\n",
       "      <td>-1.121559</td>\n",
       "      <td>2</td>\n",
       "    </tr>\n",
       "    <tr>\n",
       "      <th>4</th>\n",
       "      <td>-27.534773</td>\n",
       "      <td>-1.544565</td>\n",
       "      <td>-10.178093</td>\n",
       "      <td>7.073274</td>\n",
       "      <td>-2.760213</td>\n",
       "      <td>9.576543</td>\n",
       "      <td>-0.500212</td>\n",
       "      <td>13.267462</td>\n",
       "      <td>5.589467</td>\n",
       "      <td>4.285844</td>\n",
       "      <td>...</td>\n",
       "      <td>-11.419292</td>\n",
       "      <td>-5.417810</td>\n",
       "      <td>-1.550614</td>\n",
       "      <td>-2.352272</td>\n",
       "      <td>-4.296282</td>\n",
       "      <td>7.234454</td>\n",
       "      <td>0.016026</td>\n",
       "      <td>-11.638956</td>\n",
       "      <td>-15.031193</td>\n",
       "      <td>2</td>\n",
       "    </tr>\n",
       "    <tr>\n",
       "      <th>...</th>\n",
       "      <td>...</td>\n",
       "      <td>...</td>\n",
       "      <td>...</td>\n",
       "      <td>...</td>\n",
       "      <td>...</td>\n",
       "      <td>...</td>\n",
       "      <td>...</td>\n",
       "      <td>...</td>\n",
       "      <td>...</td>\n",
       "      <td>...</td>\n",
       "      <td>...</td>\n",
       "      <td>...</td>\n",
       "      <td>...</td>\n",
       "      <td>...</td>\n",
       "      <td>...</td>\n",
       "      <td>...</td>\n",
       "      <td>...</td>\n",
       "      <td>...</td>\n",
       "      <td>...</td>\n",
       "      <td>...</td>\n",
       "      <td>...</td>\n",
       "    </tr>\n",
       "    <tr>\n",
       "      <th>57</th>\n",
       "      <td>67.787888</td>\n",
       "      <td>-21.998157</td>\n",
       "      <td>-2.415016</td>\n",
       "      <td>5.361322</td>\n",
       "      <td>-0.575476</td>\n",
       "      <td>-0.449784</td>\n",
       "      <td>8.416603</td>\n",
       "      <td>-11.121105</td>\n",
       "      <td>17.229946</td>\n",
       "      <td>-21.837524</td>\n",
       "      <td>...</td>\n",
       "      <td>-7.607592</td>\n",
       "      <td>7.497723</td>\n",
       "      <td>2.894628</td>\n",
       "      <td>-4.836837</td>\n",
       "      <td>7.484420</td>\n",
       "      <td>5.365298</td>\n",
       "      <td>-0.370328</td>\n",
       "      <td>1.979073</td>\n",
       "      <td>-1.302211</td>\n",
       "      <td>1</td>\n",
       "    </tr>\n",
       "    <tr>\n",
       "      <th>58</th>\n",
       "      <td>35.122070</td>\n",
       "      <td>93.685256</td>\n",
       "      <td>-14.036036</td>\n",
       "      <td>7.872441</td>\n",
       "      <td>-14.313887</td>\n",
       "      <td>6.764571</td>\n",
       "      <td>-6.648950</td>\n",
       "      <td>-13.889652</td>\n",
       "      <td>-1.385599</td>\n",
       "      <td>7.586641</td>\n",
       "      <td>...</td>\n",
       "      <td>10.529570</td>\n",
       "      <td>-7.988116</td>\n",
       "      <td>5.507016</td>\n",
       "      <td>-16.497326</td>\n",
       "      <td>-3.749292</td>\n",
       "      <td>-1.002272</td>\n",
       "      <td>4.136774</td>\n",
       "      <td>4.427049</td>\n",
       "      <td>6.654369</td>\n",
       "      <td>0</td>\n",
       "    </tr>\n",
       "    <tr>\n",
       "      <th>59</th>\n",
       "      <td>67.890872</td>\n",
       "      <td>-20.206611</td>\n",
       "      <td>-4.602257</td>\n",
       "      <td>-1.491999</td>\n",
       "      <td>0.437988</td>\n",
       "      <td>-0.819880</td>\n",
       "      <td>-4.463688</td>\n",
       "      <td>2.164827</td>\n",
       "      <td>4.474402</td>\n",
       "      <td>-1.743723</td>\n",
       "      <td>...</td>\n",
       "      <td>3.136525</td>\n",
       "      <td>0.944798</td>\n",
       "      <td>-3.660902</td>\n",
       "      <td>-2.145770</td>\n",
       "      <td>-0.810683</td>\n",
       "      <td>-4.724205</td>\n",
       "      <td>0.490477</td>\n",
       "      <td>11.659939</td>\n",
       "      <td>-1.116283</td>\n",
       "      <td>1</td>\n",
       "    </tr>\n",
       "    <tr>\n",
       "      <th>60</th>\n",
       "      <td>71.602722</td>\n",
       "      <td>-20.526751</td>\n",
       "      <td>-8.852176</td>\n",
       "      <td>3.579855</td>\n",
       "      <td>-3.780643</td>\n",
       "      <td>-1.645844</td>\n",
       "      <td>-2.214434</td>\n",
       "      <td>12.727163</td>\n",
       "      <td>-2.974671</td>\n",
       "      <td>-1.751961</td>\n",
       "      <td>...</td>\n",
       "      <td>-6.312746</td>\n",
       "      <td>2.527495</td>\n",
       "      <td>9.437870</td>\n",
       "      <td>-1.206994</td>\n",
       "      <td>-1.459508</td>\n",
       "      <td>-7.869039</td>\n",
       "      <td>1.372544</td>\n",
       "      <td>4.431861</td>\n",
       "      <td>6.606222</td>\n",
       "      <td>1</td>\n",
       "    </tr>\n",
       "    <tr>\n",
       "      <th>61</th>\n",
       "      <td>70.564275</td>\n",
       "      <td>-20.155396</td>\n",
       "      <td>-7.637730</td>\n",
       "      <td>0.796250</td>\n",
       "      <td>-1.794274</td>\n",
       "      <td>-2.113987</td>\n",
       "      <td>-7.044772</td>\n",
       "      <td>-0.524452</td>\n",
       "      <td>-4.970933</td>\n",
       "      <td>-3.818741</td>\n",
       "      <td>...</td>\n",
       "      <td>10.322020</td>\n",
       "      <td>7.387434</td>\n",
       "      <td>5.362505</td>\n",
       "      <td>4.405832</td>\n",
       "      <td>-3.902900</td>\n",
       "      <td>8.681022</td>\n",
       "      <td>-3.477449</td>\n",
       "      <td>-7.534836</td>\n",
       "      <td>1.312531</td>\n",
       "      <td>1</td>\n",
       "    </tr>\n",
       "  </tbody>\n",
       "</table>\n",
       "<p>62 rows × 62 columns</p>\n",
       "</div>"
      ],
      "text/plain": [
       "            0          1          2          3          4          5  \\\n",
       "0   24.779456  81.958561 -35.440794  18.729767   7.129458 -12.646634   \n",
       "1  -20.027894   5.328135  -7.188357  -3.771754  10.824924   2.401078   \n",
       "2  -27.899314  -9.679394  -9.436050   9.381756 -11.633087   9.547332   \n",
       "3  -23.327465  -4.702176  -6.800907   4.385573   3.059284   6.763755   \n",
       "4  -27.534773  -1.544565 -10.178093   7.073274  -2.760213   9.576543   \n",
       "..        ...        ...        ...        ...        ...        ...   \n",
       "57  67.787888 -21.998157  -2.415016   5.361322  -0.575476  -0.449784   \n",
       "58  35.122070  93.685256 -14.036036   7.872441 -14.313887   6.764571   \n",
       "59  67.890872 -20.206611  -4.602257  -1.491999   0.437988  -0.819880   \n",
       "60  71.602722 -20.526751  -8.852176   3.579855  -3.780643  -1.645844   \n",
       "61  70.564275 -20.155396  -7.637730   0.796250  -1.794274  -2.113987   \n",
       "\n",
       "           6          7          8          9  ...         52        53  \\\n",
       "0   1.230852   3.033911  -7.493735   0.469057  ...  -4.499549 -6.837835   \n",
       "1  -2.052402  16.325859 -10.384940 -17.569091  ...  -6.750692 -7.720451   \n",
       "2   8.422920   6.323255   2.471875  -4.099539  ...  12.811117 -7.309044   \n",
       "3   2.548172  13.519441   0.046823 -15.163059  ...   0.864654 -3.376803   \n",
       "4  -0.500212  13.267462   5.589467   4.285844  ... -11.419292 -5.417810   \n",
       "..       ...        ...        ...        ...  ...        ...       ...   \n",
       "57  8.416603 -11.121105  17.229946 -21.837524  ...  -7.607592  7.497723   \n",
       "58 -6.648950 -13.889652  -1.385599   7.586641  ...  10.529570 -7.988116   \n",
       "59 -4.463688   2.164827   4.474402  -1.743723  ...   3.136525  0.944798   \n",
       "60 -2.214434  12.727163  -2.974671  -1.751961  ...  -6.312746  2.527495   \n",
       "61 -7.044772  -0.524452  -4.970933  -3.818741  ...  10.322020  7.387434   \n",
       "\n",
       "           54         55         56         57        58         59  \\\n",
       "0    1.871331  -5.975407   6.419448   0.181827 -0.363290  -9.514567   \n",
       "1   21.191139   0.258739  -4.728926 -12.873601  7.706897   2.133924   \n",
       "2   -9.478133  -1.407580  -4.928882   3.623764 -4.150132  -1.099915   \n",
       "3    8.209258 -14.292680  10.842015   7.263394 -7.012555   9.867807   \n",
       "4   -1.550614  -2.352272  -4.296282   7.234454  0.016026 -11.638956   \n",
       "..        ...        ...        ...        ...       ...        ...   \n",
       "57   2.894628  -4.836837   7.484420   5.365298 -0.370328   1.979073   \n",
       "58   5.507016 -16.497326  -3.749292  -1.002272  4.136774   4.427049   \n",
       "59  -3.660902  -2.145770  -0.810683  -4.724205  0.490477  11.659939   \n",
       "60   9.437870  -1.206994  -1.459508  -7.869039  1.372544   4.431861   \n",
       "61   5.362505   4.405832  -3.902900   8.681022 -3.477449  -7.534836   \n",
       "\n",
       "           60  labels  \n",
       "0   -8.016383       0  \n",
       "1    0.386779       2  \n",
       "2  -15.271647       2  \n",
       "3   -1.121559       2  \n",
       "4  -15.031193       2  \n",
       "..        ...     ...  \n",
       "57  -1.302211       1  \n",
       "58   6.654369       0  \n",
       "59  -1.116283       1  \n",
       "60   6.606222       1  \n",
       "61   1.312531       1  \n",
       "\n",
       "[62 rows x 62 columns]"
      ]
     },
     "execution_count": 19,
     "metadata": {},
     "output_type": "execute_result"
    }
   ],
   "source": [
    "test_scores"
   ]
  },
  {
   "cell_type": "code",
   "execution_count": 14,
   "id": "d33be6dd-df6f-49b3-aefb-ad814c437ca1",
   "metadata": {},
   "outputs": [
    {
     "data": {
      "text/plain": [
       "array(['3', '0', '0', '0', '0', '0', '3', '0', '0', '0', '0', '0', '0',\n",
       "       '0', '0', '0', '0', '0', '0', '0', '0', '0', '0', '0', '0', '0',\n",
       "       '0', '0', '0', '0', '0', '0', '0', '0', '0', '0', '0', '0', '0',\n",
       "       '0', '0', '0', '1', '1', '1', '1', '1', '2', '1', '2', '1', '2',\n",
       "       '4', '1', '2', '1', '2', '1', '3', '1', '1', '1'], dtype='<U21')"
      ]
     },
     "execution_count": 14,
     "metadata": {},
     "output_type": "execute_result"
    }
   ],
   "source": [
    "def sampleClust(df, n_clusts, n_pcs = None):\n",
    "    x = md.samplePCA(asvs1, n_pcs)\n",
    "    test_df = x[\"df\"]\n",
    "    test_scores = pd.DataFrame(x[\"scores\"])\n",
    "    agg_clust = AgglomerativeClustering(n_clusters = n_clusts, metric = \"euclidean\", linkage = \"ward\")\n",
    "    labels = agg_clust.fit_predict(test_df)\n",
    "    return labels.astype(str)\n",
    "\n",
    "sample_label = sampleClust(asvs1, 5, 3)\n",
    "sample_label"
   ]
  },
  {
   "cell_type": "code",
   "execution_count": 20,
   "id": "661b0ba0-27fd-45c4-9354-ec340c617cdb",
   "metadata": {},
   "outputs": [
    {
     "data": {
      "text/html": [
       "<div>\n",
       "<style scoped>\n",
       "    .dataframe tbody tr th:only-of-type {\n",
       "        vertical-align: middle;\n",
       "    }\n",
       "\n",
       "    .dataframe tbody tr th {\n",
       "        vertical-align: top;\n",
       "    }\n",
       "\n",
       "    .dataframe thead th {\n",
       "        text-align: right;\n",
       "    }\n",
       "</style>\n",
       "<table border=\"1\" class=\"dataframe\">\n",
       "  <thead>\n",
       "    <tr style=\"text-align: right;\">\n",
       "      <th></th>\n",
       "      <th>0</th>\n",
       "      <th>1</th>\n",
       "      <th>2</th>\n",
       "      <th>3</th>\n",
       "      <th>4</th>\n",
       "      <th>5</th>\n",
       "      <th>6</th>\n",
       "      <th>7</th>\n",
       "      <th>8</th>\n",
       "      <th>9</th>\n",
       "      <th>...</th>\n",
       "      <th>90</th>\n",
       "      <th>91</th>\n",
       "      <th>92</th>\n",
       "      <th>93</th>\n",
       "      <th>94</th>\n",
       "      <th>95</th>\n",
       "      <th>96</th>\n",
       "      <th>97</th>\n",
       "      <th>98</th>\n",
       "      <th>99</th>\n",
       "    </tr>\n",
       "  </thead>\n",
       "  <tbody>\n",
       "    <tr>\n",
       "      <th>0</th>\n",
       "      <td>0</td>\n",
       "      <td>0</td>\n",
       "      <td>0</td>\n",
       "      <td>0</td>\n",
       "      <td>0</td>\n",
       "      <td>0</td>\n",
       "      <td>0</td>\n",
       "      <td>0</td>\n",
       "      <td>0</td>\n",
       "      <td>0</td>\n",
       "      <td>...</td>\n",
       "      <td>0</td>\n",
       "      <td>0</td>\n",
       "      <td>0</td>\n",
       "      <td>0</td>\n",
       "      <td>0</td>\n",
       "      <td>0</td>\n",
       "      <td>0</td>\n",
       "      <td>0</td>\n",
       "      <td>0</td>\n",
       "      <td>0</td>\n",
       "    </tr>\n",
       "    <tr>\n",
       "      <th>1</th>\n",
       "      <td>2</td>\n",
       "      <td>2</td>\n",
       "      <td>2</td>\n",
       "      <td>2</td>\n",
       "      <td>2</td>\n",
       "      <td>2</td>\n",
       "      <td>2</td>\n",
       "      <td>2</td>\n",
       "      <td>2</td>\n",
       "      <td>2</td>\n",
       "      <td>...</td>\n",
       "      <td>2</td>\n",
       "      <td>2</td>\n",
       "      <td>2</td>\n",
       "      <td>2</td>\n",
       "      <td>2</td>\n",
       "      <td>2</td>\n",
       "      <td>2</td>\n",
       "      <td>2</td>\n",
       "      <td>2</td>\n",
       "      <td>2</td>\n",
       "    </tr>\n",
       "    <tr>\n",
       "      <th>2</th>\n",
       "      <td>2</td>\n",
       "      <td>2</td>\n",
       "      <td>2</td>\n",
       "      <td>2</td>\n",
       "      <td>2</td>\n",
       "      <td>2</td>\n",
       "      <td>2</td>\n",
       "      <td>2</td>\n",
       "      <td>2</td>\n",
       "      <td>2</td>\n",
       "      <td>...</td>\n",
       "      <td>2</td>\n",
       "      <td>2</td>\n",
       "      <td>2</td>\n",
       "      <td>2</td>\n",
       "      <td>2</td>\n",
       "      <td>2</td>\n",
       "      <td>2</td>\n",
       "      <td>2</td>\n",
       "      <td>2</td>\n",
       "      <td>2</td>\n",
       "    </tr>\n",
       "    <tr>\n",
       "      <th>3</th>\n",
       "      <td>2</td>\n",
       "      <td>2</td>\n",
       "      <td>2</td>\n",
       "      <td>2</td>\n",
       "      <td>2</td>\n",
       "      <td>2</td>\n",
       "      <td>2</td>\n",
       "      <td>2</td>\n",
       "      <td>2</td>\n",
       "      <td>2</td>\n",
       "      <td>...</td>\n",
       "      <td>2</td>\n",
       "      <td>2</td>\n",
       "      <td>2</td>\n",
       "      <td>2</td>\n",
       "      <td>2</td>\n",
       "      <td>2</td>\n",
       "      <td>2</td>\n",
       "      <td>2</td>\n",
       "      <td>2</td>\n",
       "      <td>2</td>\n",
       "    </tr>\n",
       "    <tr>\n",
       "      <th>4</th>\n",
       "      <td>2</td>\n",
       "      <td>2</td>\n",
       "      <td>2</td>\n",
       "      <td>2</td>\n",
       "      <td>2</td>\n",
       "      <td>2</td>\n",
       "      <td>2</td>\n",
       "      <td>2</td>\n",
       "      <td>2</td>\n",
       "      <td>2</td>\n",
       "      <td>...</td>\n",
       "      <td>2</td>\n",
       "      <td>2</td>\n",
       "      <td>2</td>\n",
       "      <td>2</td>\n",
       "      <td>2</td>\n",
       "      <td>2</td>\n",
       "      <td>2</td>\n",
       "      <td>2</td>\n",
       "      <td>2</td>\n",
       "      <td>2</td>\n",
       "    </tr>\n",
       "    <tr>\n",
       "      <th>...</th>\n",
       "      <td>...</td>\n",
       "      <td>...</td>\n",
       "      <td>...</td>\n",
       "      <td>...</td>\n",
       "      <td>...</td>\n",
       "      <td>...</td>\n",
       "      <td>...</td>\n",
       "      <td>...</td>\n",
       "      <td>...</td>\n",
       "      <td>...</td>\n",
       "      <td>...</td>\n",
       "      <td>...</td>\n",
       "      <td>...</td>\n",
       "      <td>...</td>\n",
       "      <td>...</td>\n",
       "      <td>...</td>\n",
       "      <td>...</td>\n",
       "      <td>...</td>\n",
       "      <td>...</td>\n",
       "      <td>...</td>\n",
       "      <td>...</td>\n",
       "    </tr>\n",
       "    <tr>\n",
       "      <th>57</th>\n",
       "      <td>1</td>\n",
       "      <td>1</td>\n",
       "      <td>1</td>\n",
       "      <td>1</td>\n",
       "      <td>1</td>\n",
       "      <td>1</td>\n",
       "      <td>1</td>\n",
       "      <td>1</td>\n",
       "      <td>1</td>\n",
       "      <td>1</td>\n",
       "      <td>...</td>\n",
       "      <td>1</td>\n",
       "      <td>1</td>\n",
       "      <td>1</td>\n",
       "      <td>1</td>\n",
       "      <td>1</td>\n",
       "      <td>1</td>\n",
       "      <td>1</td>\n",
       "      <td>1</td>\n",
       "      <td>1</td>\n",
       "      <td>1</td>\n",
       "    </tr>\n",
       "    <tr>\n",
       "      <th>58</th>\n",
       "      <td>0</td>\n",
       "      <td>0</td>\n",
       "      <td>0</td>\n",
       "      <td>0</td>\n",
       "      <td>0</td>\n",
       "      <td>0</td>\n",
       "      <td>0</td>\n",
       "      <td>0</td>\n",
       "      <td>0</td>\n",
       "      <td>0</td>\n",
       "      <td>...</td>\n",
       "      <td>0</td>\n",
       "      <td>0</td>\n",
       "      <td>0</td>\n",
       "      <td>0</td>\n",
       "      <td>0</td>\n",
       "      <td>0</td>\n",
       "      <td>0</td>\n",
       "      <td>0</td>\n",
       "      <td>0</td>\n",
       "      <td>0</td>\n",
       "    </tr>\n",
       "    <tr>\n",
       "      <th>59</th>\n",
       "      <td>1</td>\n",
       "      <td>1</td>\n",
       "      <td>1</td>\n",
       "      <td>1</td>\n",
       "      <td>1</td>\n",
       "      <td>1</td>\n",
       "      <td>1</td>\n",
       "      <td>1</td>\n",
       "      <td>1</td>\n",
       "      <td>1</td>\n",
       "      <td>...</td>\n",
       "      <td>1</td>\n",
       "      <td>1</td>\n",
       "      <td>1</td>\n",
       "      <td>1</td>\n",
       "      <td>1</td>\n",
       "      <td>1</td>\n",
       "      <td>1</td>\n",
       "      <td>1</td>\n",
       "      <td>1</td>\n",
       "      <td>1</td>\n",
       "    </tr>\n",
       "    <tr>\n",
       "      <th>60</th>\n",
       "      <td>1</td>\n",
       "      <td>1</td>\n",
       "      <td>1</td>\n",
       "      <td>1</td>\n",
       "      <td>1</td>\n",
       "      <td>1</td>\n",
       "      <td>1</td>\n",
       "      <td>1</td>\n",
       "      <td>1</td>\n",
       "      <td>1</td>\n",
       "      <td>...</td>\n",
       "      <td>1</td>\n",
       "      <td>1</td>\n",
       "      <td>1</td>\n",
       "      <td>1</td>\n",
       "      <td>1</td>\n",
       "      <td>1</td>\n",
       "      <td>1</td>\n",
       "      <td>1</td>\n",
       "      <td>1</td>\n",
       "      <td>1</td>\n",
       "    </tr>\n",
       "    <tr>\n",
       "      <th>61</th>\n",
       "      <td>1</td>\n",
       "      <td>1</td>\n",
       "      <td>1</td>\n",
       "      <td>1</td>\n",
       "      <td>1</td>\n",
       "      <td>1</td>\n",
       "      <td>1</td>\n",
       "      <td>1</td>\n",
       "      <td>1</td>\n",
       "      <td>1</td>\n",
       "      <td>...</td>\n",
       "      <td>1</td>\n",
       "      <td>1</td>\n",
       "      <td>1</td>\n",
       "      <td>1</td>\n",
       "      <td>1</td>\n",
       "      <td>1</td>\n",
       "      <td>1</td>\n",
       "      <td>1</td>\n",
       "      <td>1</td>\n",
       "      <td>1</td>\n",
       "    </tr>\n",
       "  </tbody>\n",
       "</table>\n",
       "<p>62 rows × 100 columns</p>\n",
       "</div>"
      ],
      "text/plain": [
       "   0  1  2  3  4  5  6  7  8  9   ... 90 91 92 93 94 95 96 97 98 99\n",
       "0   0  0  0  0  0  0  0  0  0  0  ...  0  0  0  0  0  0  0  0  0  0\n",
       "1   2  2  2  2  2  2  2  2  2  2  ...  2  2  2  2  2  2  2  2  2  2\n",
       "2   2  2  2  2  2  2  2  2  2  2  ...  2  2  2  2  2  2  2  2  2  2\n",
       "3   2  2  2  2  2  2  2  2  2  2  ...  2  2  2  2  2  2  2  2  2  2\n",
       "4   2  2  2  2  2  2  2  2  2  2  ...  2  2  2  2  2  2  2  2  2  2\n",
       ".. .. .. .. .. .. .. .. .. .. ..  ... .. .. .. .. .. .. .. .. .. ..\n",
       "57  1  1  1  1  1  1  1  1  1  1  ...  1  1  1  1  1  1  1  1  1  1\n",
       "58  0  0  0  0  0  0  0  0  0  0  ...  0  0  0  0  0  0  0  0  0  0\n",
       "59  1  1  1  1  1  1  1  1  1  1  ...  1  1  1  1  1  1  1  1  1  1\n",
       "60  1  1  1  1  1  1  1  1  1  1  ...  1  1  1  1  1  1  1  1  1  1\n",
       "61  1  1  1  1  1  1  1  1  1  1  ...  1  1  1  1  1  1  1  1  1  1\n",
       "\n",
       "[62 rows x 100 columns]"
      ]
     },
     "execution_count": 20,
     "metadata": {},
     "output_type": "execute_result"
    }
   ],
   "source": [
    "label_dist = [sampleClust(asvs1, 3) for i in range(100)]\n",
    "pd.DataFrame(label_dist).transpose()"
   ]
  }
 ],
 "metadata": {
  "kernelspec": {
   "display_name": "Python 3 (ipykernel)",
   "language": "python",
   "name": "python3"
  },
  "language_info": {
   "codemirror_mode": {
    "name": "ipython",
    "version": 3
   },
   "file_extension": ".py",
   "mimetype": "text/x-python",
   "name": "python",
   "nbconvert_exporter": "python",
   "pygments_lexer": "ipython3",
   "version": "3.10.4"
  }
 },
 "nbformat": 4,
 "nbformat_minor": 5
}
