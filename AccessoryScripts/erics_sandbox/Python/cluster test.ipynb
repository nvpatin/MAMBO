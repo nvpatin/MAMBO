{
 "cells": [
  {
   "cell_type": "code",
   "execution_count": 14,
   "id": "significant-cornell",
   "metadata": {},
   "outputs": [],
   "source": [
    "import pandas as pd\n",
    "import MarineDNA as md\n",
    "import plotly.express as px\n",
    "import numpy as np\n",
    "from sklearn.cluster import AgglomerativeClustering\n",
    "from sklearn.decomposition import PCA"
   ]
  },
  {
   "cell_type": "code",
   "execution_count": 15,
   "id": "f5e32982-5d77-43e7-8aeb-d0d7f4b2717b",
   "metadata": {},
   "outputs": [],
   "source": [
    "file1 = \"../../../Data/Flyer2018_16S_table_counts.tsv\"\n",
    "file2 = \"../../../Data/Flyer2018_18S_table_counts.tsv\"\n",
    "asvs_16S = pd.read_csv(file1, index_col=0, sep=\"\\t\")\n",
    "asvs_18S = pd.read_csv(file2, index_col=0, sep=\"\\t\")"
   ]
  },
  {
   "cell_type": "code",
   "execution_count": 17,
   "id": "186e91cb-539f-49d3-857e-b0be36cf330d",
   "metadata": {},
   "outputs": [
    {
     "data": {
      "text/html": [
       "<div>\n",
       "<style scoped>\n",
       "    .dataframe tbody tr th:only-of-type {\n",
       "        vertical-align: middle;\n",
       "    }\n",
       "\n",
       "    .dataframe tbody tr th {\n",
       "        vertical-align: top;\n",
       "    }\n",
       "\n",
       "    .dataframe thead th {\n",
       "        text-align: right;\n",
       "    }\n",
       "</style>\n",
       "<table border=\"1\" class=\"dataframe\">\n",
       "  <thead>\n",
       "    <tr style=\"text-align: right;\">\n",
       "      <th>ASV ID</th>\n",
       "      <th>495c1bd1608a1dad54d3e2824ce899ef</th>\n",
       "      <th>a900b6678ce86851fb16bfafb87f3326</th>\n",
       "      <th>c8e360969108fa2125a3d56eb4dad24f</th>\n",
       "      <th>72143fd9e63fe40c1258948d2f0d79c3</th>\n",
       "      <th>7b6b178fad5599c0e9a734e4fb09fd64</th>\n",
       "      <th>4bbec3bb723375416616a87d785ac74a</th>\n",
       "      <th>0c35cfa523aa27921ef8544a16d1cd36</th>\n",
       "      <th>7ec69f2c62aad60e060e588ef687bdd0</th>\n",
       "      <th>61e9a50f4346bb3a5b16179b8eca71fa</th>\n",
       "      <th>a140195871278e8fcf9447e42bad8786</th>\n",
       "      <th>...</th>\n",
       "      <th>995cc65bcfa53a868c42615004e99ad3</th>\n",
       "      <th>46b90aab075ecd8e4db549da708550d8</th>\n",
       "      <th>c4e1933274329209b7cf24daf18dfe0d</th>\n",
       "      <th>aa9e141a5e2781d280406c513bf34d45</th>\n",
       "      <th>d7682f536589fc5f920533513dd0002b</th>\n",
       "      <th>674933a0d44342a0647f7a5b4591f26e</th>\n",
       "      <th>bebe1b9a7e9aaa78172c1208111f4570</th>\n",
       "      <th>0128431733f67d02efad766d717fe6fd</th>\n",
       "      <th>41102a7dd1f4647ba5477c947daabc0e</th>\n",
       "      <th>51440f89c391fb32f9ee895db22bf8f8</th>\n",
       "    </tr>\n",
       "  </thead>\n",
       "  <tbody>\n",
       "    <tr>\n",
       "      <th>CN18Fc12_8_eDNA</th>\n",
       "      <td>-2.321659</td>\n",
       "      <td>-3.270113</td>\n",
       "      <td>-3.874499</td>\n",
       "      <td>-3.914634</td>\n",
       "      <td>-3.584651</td>\n",
       "      <td>-4.968061</td>\n",
       "      <td>-7.364816</td>\n",
       "      <td>-4.374186</td>\n",
       "      <td>-3.542097</td>\n",
       "      <td>-4.269531</td>\n",
       "      <td>...</td>\n",
       "      <td>-9.777009</td>\n",
       "      <td>-8.346381</td>\n",
       "      <td>-10.491897</td>\n",
       "      <td>-7.518628</td>\n",
       "      <td>-9.761570</td>\n",
       "      <td>-8.543699</td>\n",
       "      <td>-7.901624</td>\n",
       "      <td>-9.440594</td>\n",
       "      <td>-8.428785</td>\n",
       "      <td>-9.221996</td>\n",
       "    </tr>\n",
       "    <tr>\n",
       "      <th>CN18Fc19_5_eDNA</th>\n",
       "      <td>-1.582046</td>\n",
       "      <td>-3.076018</td>\n",
       "      <td>-2.979066</td>\n",
       "      <td>-3.149151</td>\n",
       "      <td>-3.213919</td>\n",
       "      <td>-4.487587</td>\n",
       "      <td>-5.198579</td>\n",
       "      <td>-4.255784</td>\n",
       "      <td>-4.026227</td>\n",
       "      <td>-3.838657</td>\n",
       "      <td>...</td>\n",
       "      <td>-10.514019</td>\n",
       "      <td>-11.166622</td>\n",
       "      <td>-11.474946</td>\n",
       "      <td>-10.425299</td>\n",
       "      <td>-11.181551</td>\n",
       "      <td>-11.165759</td>\n",
       "      <td>-10.524446</td>\n",
       "      <td>-12.620223</td>\n",
       "      <td>-9.469297</td>\n",
       "      <td>-10.752884</td>\n",
       "    </tr>\n",
       "    <tr>\n",
       "      <th>CN18Fc21_6_eDNA</th>\n",
       "      <td>-1.882797</td>\n",
       "      <td>-3.144415</td>\n",
       "      <td>-3.180574</td>\n",
       "      <td>-3.242004</td>\n",
       "      <td>-3.604982</td>\n",
       "      <td>-4.469254</td>\n",
       "      <td>-4.632684</td>\n",
       "      <td>-4.032244</td>\n",
       "      <td>-3.752182</td>\n",
       "      <td>-3.937927</td>\n",
       "      <td>...</td>\n",
       "      <td>-12.483828</td>\n",
       "      <td>-12.695054</td>\n",
       "      <td>-13.952737</td>\n",
       "      <td>-12.001283</td>\n",
       "      <td>-11.692628</td>\n",
       "      <td>-10.818525</td>\n",
       "      <td>-12.619645</td>\n",
       "      <td>-12.054226</td>\n",
       "      <td>-10.308794</td>\n",
       "      <td>-9.223921</td>\n",
       "    </tr>\n",
       "    <tr>\n",
       "      <th>CN18Fc22_6_eDNA</th>\n",
       "      <td>-1.708874</td>\n",
       "      <td>-3.256989</td>\n",
       "      <td>-3.197724</td>\n",
       "      <td>-3.190701</td>\n",
       "      <td>-3.325369</td>\n",
       "      <td>-4.669997</td>\n",
       "      <td>-4.978966</td>\n",
       "      <td>-4.242424</td>\n",
       "      <td>-3.974284</td>\n",
       "      <td>-4.063326</td>\n",
       "      <td>...</td>\n",
       "      <td>-10.451855</td>\n",
       "      <td>-11.228328</td>\n",
       "      <td>-11.400462</td>\n",
       "      <td>-10.752198</td>\n",
       "      <td>-11.059409</td>\n",
       "      <td>-11.482426</td>\n",
       "      <td>-13.317599</td>\n",
       "      <td>-10.366052</td>\n",
       "      <td>-9.902440</td>\n",
       "      <td>-9.552659</td>\n",
       "    </tr>\n",
       "    <tr>\n",
       "      <th>CN18Fc24_6_eDNA</th>\n",
       "      <td>-1.888347</td>\n",
       "      <td>-3.441020</td>\n",
       "      <td>-3.074153</td>\n",
       "      <td>-3.143349</td>\n",
       "      <td>-3.343005</td>\n",
       "      <td>-4.297786</td>\n",
       "      <td>-5.076498</td>\n",
       "      <td>-4.120449</td>\n",
       "      <td>-3.817309</td>\n",
       "      <td>-4.197315</td>\n",
       "      <td>...</td>\n",
       "      <td>-12.547557</td>\n",
       "      <td>-11.332724</td>\n",
       "      <td>-10.231824</td>\n",
       "      <td>-12.117268</td>\n",
       "      <td>-9.905153</td>\n",
       "      <td>-11.188473</td>\n",
       "      <td>-11.442256</td>\n",
       "      <td>-10.454673</td>\n",
       "      <td>-12.878359</td>\n",
       "      <td>-10.968297</td>\n",
       "    </tr>\n",
       "    <tr>\n",
       "      <th>...</th>\n",
       "      <td>...</td>\n",
       "      <td>...</td>\n",
       "      <td>...</td>\n",
       "      <td>...</td>\n",
       "      <td>...</td>\n",
       "      <td>...</td>\n",
       "      <td>...</td>\n",
       "      <td>...</td>\n",
       "      <td>...</td>\n",
       "      <td>...</td>\n",
       "      <td>...</td>\n",
       "      <td>...</td>\n",
       "      <td>...</td>\n",
       "      <td>...</td>\n",
       "      <td>...</td>\n",
       "      <td>...</td>\n",
       "      <td>...</td>\n",
       "      <td>...</td>\n",
       "      <td>...</td>\n",
       "      <td>...</td>\n",
       "      <td>...</td>\n",
       "    </tr>\n",
       "    <tr>\n",
       "      <th>CN18SESPkoa_SC42</th>\n",
       "      <td>-3.075015</td>\n",
       "      <td>-1.623496</td>\n",
       "      <td>-7.068931</td>\n",
       "      <td>-5.904327</td>\n",
       "      <td>-6.296119</td>\n",
       "      <td>-4.473762</td>\n",
       "      <td>-3.037665</td>\n",
       "      <td>-5.613365</td>\n",
       "      <td>-6.324158</td>\n",
       "      <td>-5.117981</td>\n",
       "      <td>...</td>\n",
       "      <td>-10.814347</td>\n",
       "      <td>-12.351647</td>\n",
       "      <td>-11.365326</td>\n",
       "      <td>-9.881691</td>\n",
       "      <td>-11.498172</td>\n",
       "      <td>-11.486651</td>\n",
       "      <td>-12.365198</td>\n",
       "      <td>-11.715065</td>\n",
       "      <td>-11.656779</td>\n",
       "      <td>-11.330962</td>\n",
       "    </tr>\n",
       "    <tr>\n",
       "      <th>CN18SESPkoa_SC44</th>\n",
       "      <td>-6.171455</td>\n",
       "      <td>-4.787193</td>\n",
       "      <td>-4.921945</td>\n",
       "      <td>-4.982212</td>\n",
       "      <td>-4.996425</td>\n",
       "      <td>-3.128665</td>\n",
       "      <td>-9.079505</td>\n",
       "      <td>-3.444318</td>\n",
       "      <td>-5.740170</td>\n",
       "      <td>-9.605010</td>\n",
       "      <td>...</td>\n",
       "      <td>-9.220663</td>\n",
       "      <td>-8.947039</td>\n",
       "      <td>-8.170744</td>\n",
       "      <td>-8.426911</td>\n",
       "      <td>-15.824250</td>\n",
       "      <td>-11.616784</td>\n",
       "      <td>-10.614877</td>\n",
       "      <td>-8.905120</td>\n",
       "      <td>-9.661049</td>\n",
       "      <td>-14.840895</td>\n",
       "    </tr>\n",
       "    <tr>\n",
       "      <th>CN18SESPkoa_SC45</th>\n",
       "      <td>-3.220631</td>\n",
       "      <td>-1.617484</td>\n",
       "      <td>-7.511588</td>\n",
       "      <td>-6.412593</td>\n",
       "      <td>-6.783091</td>\n",
       "      <td>-5.025402</td>\n",
       "      <td>-2.867669</td>\n",
       "      <td>-6.351842</td>\n",
       "      <td>-6.403900</td>\n",
       "      <td>-5.649121</td>\n",
       "      <td>...</td>\n",
       "      <td>-13.110313</td>\n",
       "      <td>-10.191163</td>\n",
       "      <td>-13.908383</td>\n",
       "      <td>-10.826455</td>\n",
       "      <td>-10.335092</td>\n",
       "      <td>-9.632003</td>\n",
       "      <td>-17.490848</td>\n",
       "      <td>-11.171405</td>\n",
       "      <td>-10.353480</td>\n",
       "      <td>-10.063897</td>\n",
       "    </tr>\n",
       "    <tr>\n",
       "      <th>CN18SESPkoa_SC47</th>\n",
       "      <td>-3.423500</td>\n",
       "      <td>-1.739083</td>\n",
       "      <td>-7.690723</td>\n",
       "      <td>-6.275645</td>\n",
       "      <td>-6.670897</td>\n",
       "      <td>-5.252598</td>\n",
       "      <td>-3.121521</td>\n",
       "      <td>-6.483933</td>\n",
       "      <td>-6.772192</td>\n",
       "      <td>-5.644021</td>\n",
       "      <td>...</td>\n",
       "      <td>-12.764710</td>\n",
       "      <td>-11.242462</td>\n",
       "      <td>-12.441899</td>\n",
       "      <td>-10.560037</td>\n",
       "      <td>-10.822182</td>\n",
       "      <td>-15.089918</td>\n",
       "      <td>-11.576840</td>\n",
       "      <td>-11.182723</td>\n",
       "      <td>-11.432148</td>\n",
       "      <td>-10.167048</td>\n",
       "    </tr>\n",
       "    <tr>\n",
       "      <th>CN18SESPkoa_SC49</th>\n",
       "      <td>-3.372224</td>\n",
       "      <td>-1.672931</td>\n",
       "      <td>-7.180648</td>\n",
       "      <td>-6.817599</td>\n",
       "      <td>-6.827789</td>\n",
       "      <td>-5.248380</td>\n",
       "      <td>-3.005848</td>\n",
       "      <td>-6.771928</td>\n",
       "      <td>-6.488933</td>\n",
       "      <td>-5.596431</td>\n",
       "      <td>...</td>\n",
       "      <td>-9.675513</td>\n",
       "      <td>-10.376337</td>\n",
       "      <td>-9.166314</td>\n",
       "      <td>-9.432207</td>\n",
       "      <td>-9.121006</td>\n",
       "      <td>-10.944879</td>\n",
       "      <td>-12.614024</td>\n",
       "      <td>-11.382645</td>\n",
       "      <td>-11.343911</td>\n",
       "      <td>-10.439941</td>\n",
       "    </tr>\n",
       "  </tbody>\n",
       "</table>\n",
       "<p>62 rows × 2752 columns</p>\n",
       "</div>"
      ],
      "text/plain": [
       "ASV ID            495c1bd1608a1dad54d3e2824ce899ef  \\\n",
       "CN18Fc12_8_eDNA                          -2.321659   \n",
       "CN18Fc19_5_eDNA                          -1.582046   \n",
       "CN18Fc21_6_eDNA                          -1.882797   \n",
       "CN18Fc22_6_eDNA                          -1.708874   \n",
       "CN18Fc24_6_eDNA                          -1.888347   \n",
       "...                                            ...   \n",
       "CN18SESPkoa_SC42                         -3.075015   \n",
       "CN18SESPkoa_SC44                         -6.171455   \n",
       "CN18SESPkoa_SC45                         -3.220631   \n",
       "CN18SESPkoa_SC47                         -3.423500   \n",
       "CN18SESPkoa_SC49                         -3.372224   \n",
       "\n",
       "ASV ID            a900b6678ce86851fb16bfafb87f3326  \\\n",
       "CN18Fc12_8_eDNA                          -3.270113   \n",
       "CN18Fc19_5_eDNA                          -3.076018   \n",
       "CN18Fc21_6_eDNA                          -3.144415   \n",
       "CN18Fc22_6_eDNA                          -3.256989   \n",
       "CN18Fc24_6_eDNA                          -3.441020   \n",
       "...                                            ...   \n",
       "CN18SESPkoa_SC42                         -1.623496   \n",
       "CN18SESPkoa_SC44                         -4.787193   \n",
       "CN18SESPkoa_SC45                         -1.617484   \n",
       "CN18SESPkoa_SC47                         -1.739083   \n",
       "CN18SESPkoa_SC49                         -1.672931   \n",
       "\n",
       "ASV ID            c8e360969108fa2125a3d56eb4dad24f  \\\n",
       "CN18Fc12_8_eDNA                          -3.874499   \n",
       "CN18Fc19_5_eDNA                          -2.979066   \n",
       "CN18Fc21_6_eDNA                          -3.180574   \n",
       "CN18Fc22_6_eDNA                          -3.197724   \n",
       "CN18Fc24_6_eDNA                          -3.074153   \n",
       "...                                            ...   \n",
       "CN18SESPkoa_SC42                         -7.068931   \n",
       "CN18SESPkoa_SC44                         -4.921945   \n",
       "CN18SESPkoa_SC45                         -7.511588   \n",
       "CN18SESPkoa_SC47                         -7.690723   \n",
       "CN18SESPkoa_SC49                         -7.180648   \n",
       "\n",
       "ASV ID            72143fd9e63fe40c1258948d2f0d79c3  \\\n",
       "CN18Fc12_8_eDNA                          -3.914634   \n",
       "CN18Fc19_5_eDNA                          -3.149151   \n",
       "CN18Fc21_6_eDNA                          -3.242004   \n",
       "CN18Fc22_6_eDNA                          -3.190701   \n",
       "CN18Fc24_6_eDNA                          -3.143349   \n",
       "...                                            ...   \n",
       "CN18SESPkoa_SC42                         -5.904327   \n",
       "CN18SESPkoa_SC44                         -4.982212   \n",
       "CN18SESPkoa_SC45                         -6.412593   \n",
       "CN18SESPkoa_SC47                         -6.275645   \n",
       "CN18SESPkoa_SC49                         -6.817599   \n",
       "\n",
       "ASV ID            7b6b178fad5599c0e9a734e4fb09fd64  \\\n",
       "CN18Fc12_8_eDNA                          -3.584651   \n",
       "CN18Fc19_5_eDNA                          -3.213919   \n",
       "CN18Fc21_6_eDNA                          -3.604982   \n",
       "CN18Fc22_6_eDNA                          -3.325369   \n",
       "CN18Fc24_6_eDNA                          -3.343005   \n",
       "...                                            ...   \n",
       "CN18SESPkoa_SC42                         -6.296119   \n",
       "CN18SESPkoa_SC44                         -4.996425   \n",
       "CN18SESPkoa_SC45                         -6.783091   \n",
       "CN18SESPkoa_SC47                         -6.670897   \n",
       "CN18SESPkoa_SC49                         -6.827789   \n",
       "\n",
       "ASV ID            4bbec3bb723375416616a87d785ac74a  \\\n",
       "CN18Fc12_8_eDNA                          -4.968061   \n",
       "CN18Fc19_5_eDNA                          -4.487587   \n",
       "CN18Fc21_6_eDNA                          -4.469254   \n",
       "CN18Fc22_6_eDNA                          -4.669997   \n",
       "CN18Fc24_6_eDNA                          -4.297786   \n",
       "...                                            ...   \n",
       "CN18SESPkoa_SC42                         -4.473762   \n",
       "CN18SESPkoa_SC44                         -3.128665   \n",
       "CN18SESPkoa_SC45                         -5.025402   \n",
       "CN18SESPkoa_SC47                         -5.252598   \n",
       "CN18SESPkoa_SC49                         -5.248380   \n",
       "\n",
       "ASV ID            0c35cfa523aa27921ef8544a16d1cd36  \\\n",
       "CN18Fc12_8_eDNA                          -7.364816   \n",
       "CN18Fc19_5_eDNA                          -5.198579   \n",
       "CN18Fc21_6_eDNA                          -4.632684   \n",
       "CN18Fc22_6_eDNA                          -4.978966   \n",
       "CN18Fc24_6_eDNA                          -5.076498   \n",
       "...                                            ...   \n",
       "CN18SESPkoa_SC42                         -3.037665   \n",
       "CN18SESPkoa_SC44                         -9.079505   \n",
       "CN18SESPkoa_SC45                         -2.867669   \n",
       "CN18SESPkoa_SC47                         -3.121521   \n",
       "CN18SESPkoa_SC49                         -3.005848   \n",
       "\n",
       "ASV ID            7ec69f2c62aad60e060e588ef687bdd0  \\\n",
       "CN18Fc12_8_eDNA                          -4.374186   \n",
       "CN18Fc19_5_eDNA                          -4.255784   \n",
       "CN18Fc21_6_eDNA                          -4.032244   \n",
       "CN18Fc22_6_eDNA                          -4.242424   \n",
       "CN18Fc24_6_eDNA                          -4.120449   \n",
       "...                                            ...   \n",
       "CN18SESPkoa_SC42                         -5.613365   \n",
       "CN18SESPkoa_SC44                         -3.444318   \n",
       "CN18SESPkoa_SC45                         -6.351842   \n",
       "CN18SESPkoa_SC47                         -6.483933   \n",
       "CN18SESPkoa_SC49                         -6.771928   \n",
       "\n",
       "ASV ID            61e9a50f4346bb3a5b16179b8eca71fa  \\\n",
       "CN18Fc12_8_eDNA                          -3.542097   \n",
       "CN18Fc19_5_eDNA                          -4.026227   \n",
       "CN18Fc21_6_eDNA                          -3.752182   \n",
       "CN18Fc22_6_eDNA                          -3.974284   \n",
       "CN18Fc24_6_eDNA                          -3.817309   \n",
       "...                                            ...   \n",
       "CN18SESPkoa_SC42                         -6.324158   \n",
       "CN18SESPkoa_SC44                         -5.740170   \n",
       "CN18SESPkoa_SC45                         -6.403900   \n",
       "CN18SESPkoa_SC47                         -6.772192   \n",
       "CN18SESPkoa_SC49                         -6.488933   \n",
       "\n",
       "ASV ID            a140195871278e8fcf9447e42bad8786  ...  \\\n",
       "CN18Fc12_8_eDNA                          -4.269531  ...   \n",
       "CN18Fc19_5_eDNA                          -3.838657  ...   \n",
       "CN18Fc21_6_eDNA                          -3.937927  ...   \n",
       "CN18Fc22_6_eDNA                          -4.063326  ...   \n",
       "CN18Fc24_6_eDNA                          -4.197315  ...   \n",
       "...                                            ...  ...   \n",
       "CN18SESPkoa_SC42                         -5.117981  ...   \n",
       "CN18SESPkoa_SC44                         -9.605010  ...   \n",
       "CN18SESPkoa_SC45                         -5.649121  ...   \n",
       "CN18SESPkoa_SC47                         -5.644021  ...   \n",
       "CN18SESPkoa_SC49                         -5.596431  ...   \n",
       "\n",
       "ASV ID            995cc65bcfa53a868c42615004e99ad3  \\\n",
       "CN18Fc12_8_eDNA                          -9.777009   \n",
       "CN18Fc19_5_eDNA                         -10.514019   \n",
       "CN18Fc21_6_eDNA                         -12.483828   \n",
       "CN18Fc22_6_eDNA                         -10.451855   \n",
       "CN18Fc24_6_eDNA                         -12.547557   \n",
       "...                                            ...   \n",
       "CN18SESPkoa_SC42                        -10.814347   \n",
       "CN18SESPkoa_SC44                         -9.220663   \n",
       "CN18SESPkoa_SC45                        -13.110313   \n",
       "CN18SESPkoa_SC47                        -12.764710   \n",
       "CN18SESPkoa_SC49                         -9.675513   \n",
       "\n",
       "ASV ID            46b90aab075ecd8e4db549da708550d8  \\\n",
       "CN18Fc12_8_eDNA                          -8.346381   \n",
       "CN18Fc19_5_eDNA                         -11.166622   \n",
       "CN18Fc21_6_eDNA                         -12.695054   \n",
       "CN18Fc22_6_eDNA                         -11.228328   \n",
       "CN18Fc24_6_eDNA                         -11.332724   \n",
       "...                                            ...   \n",
       "CN18SESPkoa_SC42                        -12.351647   \n",
       "CN18SESPkoa_SC44                         -8.947039   \n",
       "CN18SESPkoa_SC45                        -10.191163   \n",
       "CN18SESPkoa_SC47                        -11.242462   \n",
       "CN18SESPkoa_SC49                        -10.376337   \n",
       "\n",
       "ASV ID            c4e1933274329209b7cf24daf18dfe0d  \\\n",
       "CN18Fc12_8_eDNA                         -10.491897   \n",
       "CN18Fc19_5_eDNA                         -11.474946   \n",
       "CN18Fc21_6_eDNA                         -13.952737   \n",
       "CN18Fc22_6_eDNA                         -11.400462   \n",
       "CN18Fc24_6_eDNA                         -10.231824   \n",
       "...                                            ...   \n",
       "CN18SESPkoa_SC42                        -11.365326   \n",
       "CN18SESPkoa_SC44                         -8.170744   \n",
       "CN18SESPkoa_SC45                        -13.908383   \n",
       "CN18SESPkoa_SC47                        -12.441899   \n",
       "CN18SESPkoa_SC49                         -9.166314   \n",
       "\n",
       "ASV ID            aa9e141a5e2781d280406c513bf34d45  \\\n",
       "CN18Fc12_8_eDNA                          -7.518628   \n",
       "CN18Fc19_5_eDNA                         -10.425299   \n",
       "CN18Fc21_6_eDNA                         -12.001283   \n",
       "CN18Fc22_6_eDNA                         -10.752198   \n",
       "CN18Fc24_6_eDNA                         -12.117268   \n",
       "...                                            ...   \n",
       "CN18SESPkoa_SC42                         -9.881691   \n",
       "CN18SESPkoa_SC44                         -8.426911   \n",
       "CN18SESPkoa_SC45                        -10.826455   \n",
       "CN18SESPkoa_SC47                        -10.560037   \n",
       "CN18SESPkoa_SC49                         -9.432207   \n",
       "\n",
       "ASV ID            d7682f536589fc5f920533513dd0002b  \\\n",
       "CN18Fc12_8_eDNA                          -9.761570   \n",
       "CN18Fc19_5_eDNA                         -11.181551   \n",
       "CN18Fc21_6_eDNA                         -11.692628   \n",
       "CN18Fc22_6_eDNA                         -11.059409   \n",
       "CN18Fc24_6_eDNA                          -9.905153   \n",
       "...                                            ...   \n",
       "CN18SESPkoa_SC42                        -11.498172   \n",
       "CN18SESPkoa_SC44                        -15.824250   \n",
       "CN18SESPkoa_SC45                        -10.335092   \n",
       "CN18SESPkoa_SC47                        -10.822182   \n",
       "CN18SESPkoa_SC49                         -9.121006   \n",
       "\n",
       "ASV ID            674933a0d44342a0647f7a5b4591f26e  \\\n",
       "CN18Fc12_8_eDNA                          -8.543699   \n",
       "CN18Fc19_5_eDNA                         -11.165759   \n",
       "CN18Fc21_6_eDNA                         -10.818525   \n",
       "CN18Fc22_6_eDNA                         -11.482426   \n",
       "CN18Fc24_6_eDNA                         -11.188473   \n",
       "...                                            ...   \n",
       "CN18SESPkoa_SC42                        -11.486651   \n",
       "CN18SESPkoa_SC44                        -11.616784   \n",
       "CN18SESPkoa_SC45                         -9.632003   \n",
       "CN18SESPkoa_SC47                        -15.089918   \n",
       "CN18SESPkoa_SC49                        -10.944879   \n",
       "\n",
       "ASV ID            bebe1b9a7e9aaa78172c1208111f4570  \\\n",
       "CN18Fc12_8_eDNA                          -7.901624   \n",
       "CN18Fc19_5_eDNA                         -10.524446   \n",
       "CN18Fc21_6_eDNA                         -12.619645   \n",
       "CN18Fc22_6_eDNA                         -13.317599   \n",
       "CN18Fc24_6_eDNA                         -11.442256   \n",
       "...                                            ...   \n",
       "CN18SESPkoa_SC42                        -12.365198   \n",
       "CN18SESPkoa_SC44                        -10.614877   \n",
       "CN18SESPkoa_SC45                        -17.490848   \n",
       "CN18SESPkoa_SC47                        -11.576840   \n",
       "CN18SESPkoa_SC49                        -12.614024   \n",
       "\n",
       "ASV ID            0128431733f67d02efad766d717fe6fd  \\\n",
       "CN18Fc12_8_eDNA                          -9.440594   \n",
       "CN18Fc19_5_eDNA                         -12.620223   \n",
       "CN18Fc21_6_eDNA                         -12.054226   \n",
       "CN18Fc22_6_eDNA                         -10.366052   \n",
       "CN18Fc24_6_eDNA                         -10.454673   \n",
       "...                                            ...   \n",
       "CN18SESPkoa_SC42                        -11.715065   \n",
       "CN18SESPkoa_SC44                         -8.905120   \n",
       "CN18SESPkoa_SC45                        -11.171405   \n",
       "CN18SESPkoa_SC47                        -11.182723   \n",
       "CN18SESPkoa_SC49                        -11.382645   \n",
       "\n",
       "ASV ID            41102a7dd1f4647ba5477c947daabc0e  \\\n",
       "CN18Fc12_8_eDNA                          -8.428785   \n",
       "CN18Fc19_5_eDNA                          -9.469297   \n",
       "CN18Fc21_6_eDNA                         -10.308794   \n",
       "CN18Fc22_6_eDNA                          -9.902440   \n",
       "CN18Fc24_6_eDNA                         -12.878359   \n",
       "...                                            ...   \n",
       "CN18SESPkoa_SC42                        -11.656779   \n",
       "CN18SESPkoa_SC44                         -9.661049   \n",
       "CN18SESPkoa_SC45                        -10.353480   \n",
       "CN18SESPkoa_SC47                        -11.432148   \n",
       "CN18SESPkoa_SC49                        -11.343911   \n",
       "\n",
       "ASV ID            51440f89c391fb32f9ee895db22bf8f8  \n",
       "CN18Fc12_8_eDNA                          -9.221996  \n",
       "CN18Fc19_5_eDNA                         -10.752884  \n",
       "CN18Fc21_6_eDNA                          -9.223921  \n",
       "CN18Fc22_6_eDNA                          -9.552659  \n",
       "CN18Fc24_6_eDNA                         -10.968297  \n",
       "...                                            ...  \n",
       "CN18SESPkoa_SC42                        -11.330962  \n",
       "CN18SESPkoa_SC44                        -14.840895  \n",
       "CN18SESPkoa_SC45                        -10.063897  \n",
       "CN18SESPkoa_SC47                        -10.167048  \n",
       "CN18SESPkoa_SC49                        -10.439941  \n",
       "\n",
       "[62 rows x 2752 columns]"
      ]
     },
     "execution_count": 17,
     "metadata": {},
     "output_type": "execute_result"
    }
   ],
   "source": [
    "# one random draw\n",
    "ran_lo_16S = md.ranRelPct(asvs1)\n",
    "ran_lo_18S = md.ranRelPct(asvs1)\n",
    "ran_lo_18S"
   ]
  },
  {
   "cell_type": "code",
   "execution_count": 19,
   "id": "9fc93f31-2599-4d14-9b66-cb5622599a1d",
   "metadata": {},
   "outputs": [
    {
     "name": "stdout",
     "output_type": "stream",
     "text": [
      "['0' '2' '2' '2' '2' '2' '0' '2' '2' '2' '2' '2' '2' '2' '2' '2' '2' '2'\n",
      " '2' '2' '2' '2' '2' '2' '2' '2' '2' '2' '2' '2' '2' '2' '2' '2' '2' '2'\n",
      " '2' '2' '2' '2' '2' '2' '1' '1' '1' '1' '1' '0' '1' '0' '1' '0' '0' '1'\n",
      " '0' '1' '0' '1' '0' '1' '1' '1']\n",
      "\n",
      "   0   1\n",
      "0  0   9\n",
      "1  1  13\n",
      "2  2  40\n"
     ]
    }
   ],
   "source": [
    "# Hierarchical clustering of random log-odds draw\n",
    "labels_16S = md.doClustering(ran_lo_16S, 3)\n",
    "labels_18S = md.doClustering(ran_lo_18S, 3)\n",
    "print(labels_16S)\n",
    "print()\n",
    "print(pd.DataFrame(np.array(np.unique(labels_16S, return_counts=True)).T))"
   ]
  },
  {
   "cell_type": "code",
   "execution_count": 21,
   "id": "4999c2e4-6852-4d2e-84ce-983e8be96631",
   "metadata": {},
   "outputs": [
    {
     "data": {
      "text/plain": [
       "array([[ 25.68448262,  77.96336841, -38.92929093, ...,  -2.16692086,\n",
       "          7.68249287,  -5.54642461],\n",
       "       [-20.90710991,   4.54306739,  -8.91726777, ..., -10.13955173,\n",
       "          1.03165086,   3.77768611],\n",
       "       [-28.99534802, -11.20177952,  -6.60885287, ...,  16.21817786,\n",
       "        -14.55246429,  10.8798231 ],\n",
       "       ...,\n",
       "       [ 68.08610561, -21.03847202,  -4.83745146, ...,   1.10011366,\n",
       "          2.04209281,  -5.63565048],\n",
       "       [ 69.84831077, -20.66277002,  -6.84339878, ...,   2.40999914,\n",
       "         13.65090466,  -2.40729325],\n",
       "       [ 68.52059772, -22.36641078,  -8.58794001, ...,   1.98460483,\n",
       "         -2.69516977,   1.35040754]])"
      ]
     },
     "execution_count": 21,
     "metadata": {},
     "output_type": "execute_result"
    }
   ],
   "source": [
    "pca_results_16S = md.doPCA(ran_lo_16S)\n",
    "pca_results_18S = md.doPCA(ran_lo_18S)\n",
    "pca_results_16S[\"scores\"]"
   ]
  },
  {
   "cell_type": "markdown",
   "id": "06fb813d-3a72-444d-89fc-287c6b2d4bdd",
   "metadata": {},
   "source": [
    "### Visualizing PCAs"
   ]
  },
  {
   "cell_type": "code",
   "execution_count": 22,
   "id": "53435a6e-e97f-4370-ac73-7da405c66537",
   "metadata": {},
   "outputs": [
    {
     "data": {
      "application/vnd.plotly.v1+json": {
       "config": {
        "plotlyServerURL": "https://plot.ly"
       },
       "data": [
        {
         "hovertemplate": "labels=0<br>0=%{x}<br>1=%{y}<extra></extra>",
         "legendgroup": "0",
         "marker": {
          "color": "#636efa",
          "symbol": "circle"
         },
         "mode": "markers",
         "name": "0",
         "orientation": "v",
         "showlegend": true,
         "type": "scatter",
         "x": [
          25.35480822222338,
          35.73238228549918,
          16.42297862592311,
          6.493157777870553,
          11.442790169259883,
          1.497424269332871,
          13.613706871370502,
          13.631956708738231,
          35.13034288835721
         ],
         "xaxis": "x",
         "y": [
          84.49011160671843,
          105.58100549877389,
          32.225885141714265,
          7.814769108180376,
          19.563299544224417,
          -23.66975657625185,
          35.6571240962185,
          35.65199858220103,
          92.10965340606745
         ],
         "yaxis": "y"
        },
        {
         "hovertemplate": "labels=2<br>0=%{x}<br>1=%{y}<extra></extra>",
         "legendgroup": "2",
         "marker": {
          "color": "#EF553B",
          "symbol": "circle"
         },
         "mode": "markers",
         "name": "2",
         "orientation": "v",
         "showlegend": true,
         "type": "scatter",
         "x": [
          -19.80654334374805,
          -28.022639417131796,
          -24.184622704866097,
          -26.590518483990092,
          -28.91545719120936,
          -30.449030869147894,
          -23.4807562199607,
          1.9234844190673166,
          -30.353542037787825,
          -24.850595309915533,
          -28.893628895328767,
          -32.77087054029921,
          -25.635228669729898,
          -29.54645094808135,
          -27.676239515229835,
          -25.689503606058448,
          -20.14916669543863,
          -21.666282001796343,
          -11.931010706953673,
          -12.56309160796209,
          -27.268166357493804,
          -22.901274097983723,
          -16.596587930901183,
          -33.39399040573211,
          -23.648883639636363,
          -28.760327936742648,
          -14.64832908595375,
          -33.98781849641035,
          -32.943426354094846,
          -32.551800581272516,
          -27.361487848366735,
          -29.14618556464908,
          -25.593453578925075,
          -26.054181032103042,
          -29.196679175223423,
          -33.38288524814718,
          -21.886724018250373,
          -29.21242238547916,
          -30.304587071530694,
          -33.08578634331301
         ],
         "xaxis": "x",
         "y": [
          5.981859494716037,
          -8.492283999229524,
          -2.181934251048059,
          -1.933090130437838,
          -26.708521897158622,
          -11.705721630443016,
          -12.876312232563105,
          28.2510619286299,
          -9.84412223049073,
          -6.302508294580816,
          -8.118196126912165,
          -2.9968416543458267,
          -2.419506875714732,
          -9.73679939748352,
          -4.571305641612395,
          6.968938006727558,
          0.9919881987498065,
          7.356429153798103,
          18.80179222466172,
          9.518814186239354,
          -4.660102517160524,
          0.18768982572267284,
          16.12857796493775,
          -12.753159819798443,
          -3.7368780252346725,
          -4.49753367968985,
          19.209459218669565,
          -15.537542464175678,
          -13.217822879337652,
          -12.876655507682596,
          -7.747603918877111,
          -11.212404237031734,
          -7.245988927383261,
          -8.742367410648633,
          -15.151262622756908,
          -11.255872814241993,
          7.093604472279947,
          -7.721524854783093,
          -1.9430109274501084,
          -9.445044400359095
         ],
         "yaxis": "y"
        },
        {
         "hovertemplate": "labels=1<br>0=%{x}<br>1=%{y}<extra></extra>",
         "legendgroup": "1",
         "marker": {
          "color": "#00cc96",
          "symbol": "circle"
         },
         "mode": "markers",
         "name": "1",
         "orientation": "v",
         "showlegend": true,
         "type": "scatter",
         "x": [
          64.46154460591221,
          66.77416386054668,
          69.12587049460923,
          51.740270261540175,
          63.66856707441602,
          65.33380443475671,
          73.30251856162172,
          67.20885627473237,
          71.55644247209847,
          65.29217560512522,
          65.91054538123004,
          70.17560869560364,
          69.3067759570099
         ],
         "xaxis": "x",
         "y": [
          -18.623927280986074,
          -19.237086502722462,
          -27.744116059119325,
          -13.603656141010397,
          -24.92591653415399,
          -23.7979397949869,
          -19.864322710451642,
          -14.696579747096768,
          -15.26079069585104,
          -19.654532273963213,
          -15.994727662347463,
          -21.249596266800477,
          -19.629194044857396
         ],
         "yaxis": "y"
        }
       ],
       "layout": {
        "autosize": true,
        "legend": {
         "title": {
          "text": "labels"
         },
         "tracegroupgap": 0
        },
        "margin": {
         "t": 60
        },
        "template": {
         "data": {
          "bar": [
           {
            "error_x": {
             "color": "#2a3f5f"
            },
            "error_y": {
             "color": "#2a3f5f"
            },
            "marker": {
             "line": {
              "color": "#E5ECF6",
              "width": 0.5
             },
             "pattern": {
              "fillmode": "overlay",
              "size": 10,
              "solidity": 0.2
             }
            },
            "type": "bar"
           }
          ],
          "barpolar": [
           {
            "marker": {
             "line": {
              "color": "#E5ECF6",
              "width": 0.5
             },
             "pattern": {
              "fillmode": "overlay",
              "size": 10,
              "solidity": 0.2
             }
            },
            "type": "barpolar"
           }
          ],
          "carpet": [
           {
            "aaxis": {
             "endlinecolor": "#2a3f5f",
             "gridcolor": "white",
             "linecolor": "white",
             "minorgridcolor": "white",
             "startlinecolor": "#2a3f5f"
            },
            "baxis": {
             "endlinecolor": "#2a3f5f",
             "gridcolor": "white",
             "linecolor": "white",
             "minorgridcolor": "white",
             "startlinecolor": "#2a3f5f"
            },
            "type": "carpet"
           }
          ],
          "choropleth": [
           {
            "colorbar": {
             "outlinewidth": 0,
             "ticks": ""
            },
            "type": "choropleth"
           }
          ],
          "contour": [
           {
            "colorbar": {
             "outlinewidth": 0,
             "ticks": ""
            },
            "colorscale": [
             [
              0,
              "#0d0887"
             ],
             [
              0.1111111111111111,
              "#46039f"
             ],
             [
              0.2222222222222222,
              "#7201a8"
             ],
             [
              0.3333333333333333,
              "#9c179e"
             ],
             [
              0.4444444444444444,
              "#bd3786"
             ],
             [
              0.5555555555555556,
              "#d8576b"
             ],
             [
              0.6666666666666666,
              "#ed7953"
             ],
             [
              0.7777777777777778,
              "#fb9f3a"
             ],
             [
              0.8888888888888888,
              "#fdca26"
             ],
             [
              1,
              "#f0f921"
             ]
            ],
            "type": "contour"
           }
          ],
          "contourcarpet": [
           {
            "colorbar": {
             "outlinewidth": 0,
             "ticks": ""
            },
            "type": "contourcarpet"
           }
          ],
          "heatmap": [
           {
            "colorbar": {
             "outlinewidth": 0,
             "ticks": ""
            },
            "colorscale": [
             [
              0,
              "#0d0887"
             ],
             [
              0.1111111111111111,
              "#46039f"
             ],
             [
              0.2222222222222222,
              "#7201a8"
             ],
             [
              0.3333333333333333,
              "#9c179e"
             ],
             [
              0.4444444444444444,
              "#bd3786"
             ],
             [
              0.5555555555555556,
              "#d8576b"
             ],
             [
              0.6666666666666666,
              "#ed7953"
             ],
             [
              0.7777777777777778,
              "#fb9f3a"
             ],
             [
              0.8888888888888888,
              "#fdca26"
             ],
             [
              1,
              "#f0f921"
             ]
            ],
            "type": "heatmap"
           }
          ],
          "heatmapgl": [
           {
            "colorbar": {
             "outlinewidth": 0,
             "ticks": ""
            },
            "colorscale": [
             [
              0,
              "#0d0887"
             ],
             [
              0.1111111111111111,
              "#46039f"
             ],
             [
              0.2222222222222222,
              "#7201a8"
             ],
             [
              0.3333333333333333,
              "#9c179e"
             ],
             [
              0.4444444444444444,
              "#bd3786"
             ],
             [
              0.5555555555555556,
              "#d8576b"
             ],
             [
              0.6666666666666666,
              "#ed7953"
             ],
             [
              0.7777777777777778,
              "#fb9f3a"
             ],
             [
              0.8888888888888888,
              "#fdca26"
             ],
             [
              1,
              "#f0f921"
             ]
            ],
            "type": "heatmapgl"
           }
          ],
          "histogram": [
           {
            "marker": {
             "pattern": {
              "fillmode": "overlay",
              "size": 10,
              "solidity": 0.2
             }
            },
            "type": "histogram"
           }
          ],
          "histogram2d": [
           {
            "colorbar": {
             "outlinewidth": 0,
             "ticks": ""
            },
            "colorscale": [
             [
              0,
              "#0d0887"
             ],
             [
              0.1111111111111111,
              "#46039f"
             ],
             [
              0.2222222222222222,
              "#7201a8"
             ],
             [
              0.3333333333333333,
              "#9c179e"
             ],
             [
              0.4444444444444444,
              "#bd3786"
             ],
             [
              0.5555555555555556,
              "#d8576b"
             ],
             [
              0.6666666666666666,
              "#ed7953"
             ],
             [
              0.7777777777777778,
              "#fb9f3a"
             ],
             [
              0.8888888888888888,
              "#fdca26"
             ],
             [
              1,
              "#f0f921"
             ]
            ],
            "type": "histogram2d"
           }
          ],
          "histogram2dcontour": [
           {
            "colorbar": {
             "outlinewidth": 0,
             "ticks": ""
            },
            "colorscale": [
             [
              0,
              "#0d0887"
             ],
             [
              0.1111111111111111,
              "#46039f"
             ],
             [
              0.2222222222222222,
              "#7201a8"
             ],
             [
              0.3333333333333333,
              "#9c179e"
             ],
             [
              0.4444444444444444,
              "#bd3786"
             ],
             [
              0.5555555555555556,
              "#d8576b"
             ],
             [
              0.6666666666666666,
              "#ed7953"
             ],
             [
              0.7777777777777778,
              "#fb9f3a"
             ],
             [
              0.8888888888888888,
              "#fdca26"
             ],
             [
              1,
              "#f0f921"
             ]
            ],
            "type": "histogram2dcontour"
           }
          ],
          "mesh3d": [
           {
            "colorbar": {
             "outlinewidth": 0,
             "ticks": ""
            },
            "type": "mesh3d"
           }
          ],
          "parcoords": [
           {
            "line": {
             "colorbar": {
              "outlinewidth": 0,
              "ticks": ""
             }
            },
            "type": "parcoords"
           }
          ],
          "pie": [
           {
            "automargin": true,
            "type": "pie"
           }
          ],
          "scatter": [
           {
            "fillpattern": {
             "fillmode": "overlay",
             "size": 10,
             "solidity": 0.2
            },
            "type": "scatter"
           }
          ],
          "scatter3d": [
           {
            "line": {
             "colorbar": {
              "outlinewidth": 0,
              "ticks": ""
             }
            },
            "marker": {
             "colorbar": {
              "outlinewidth": 0,
              "ticks": ""
             }
            },
            "type": "scatter3d"
           }
          ],
          "scattercarpet": [
           {
            "marker": {
             "colorbar": {
              "outlinewidth": 0,
              "ticks": ""
             }
            },
            "type": "scattercarpet"
           }
          ],
          "scattergeo": [
           {
            "marker": {
             "colorbar": {
              "outlinewidth": 0,
              "ticks": ""
             }
            },
            "type": "scattergeo"
           }
          ],
          "scattergl": [
           {
            "marker": {
             "colorbar": {
              "outlinewidth": 0,
              "ticks": ""
             }
            },
            "type": "scattergl"
           }
          ],
          "scattermapbox": [
           {
            "marker": {
             "colorbar": {
              "outlinewidth": 0,
              "ticks": ""
             }
            },
            "type": "scattermapbox"
           }
          ],
          "scatterpolar": [
           {
            "marker": {
             "colorbar": {
              "outlinewidth": 0,
              "ticks": ""
             }
            },
            "type": "scatterpolar"
           }
          ],
          "scatterpolargl": [
           {
            "marker": {
             "colorbar": {
              "outlinewidth": 0,
              "ticks": ""
             }
            },
            "type": "scatterpolargl"
           }
          ],
          "scatterternary": [
           {
            "marker": {
             "colorbar": {
              "outlinewidth": 0,
              "ticks": ""
             }
            },
            "type": "scatterternary"
           }
          ],
          "surface": [
           {
            "colorbar": {
             "outlinewidth": 0,
             "ticks": ""
            },
            "colorscale": [
             [
              0,
              "#0d0887"
             ],
             [
              0.1111111111111111,
              "#46039f"
             ],
             [
              0.2222222222222222,
              "#7201a8"
             ],
             [
              0.3333333333333333,
              "#9c179e"
             ],
             [
              0.4444444444444444,
              "#bd3786"
             ],
             [
              0.5555555555555556,
              "#d8576b"
             ],
             [
              0.6666666666666666,
              "#ed7953"
             ],
             [
              0.7777777777777778,
              "#fb9f3a"
             ],
             [
              0.8888888888888888,
              "#fdca26"
             ],
             [
              1,
              "#f0f921"
             ]
            ],
            "type": "surface"
           }
          ],
          "table": [
           {
            "cells": {
             "fill": {
              "color": "#EBF0F8"
             },
             "line": {
              "color": "white"
             }
            },
            "header": {
             "fill": {
              "color": "#C8D4E3"
             },
             "line": {
              "color": "white"
             }
            },
            "type": "table"
           }
          ]
         },
         "layout": {
          "annotationdefaults": {
           "arrowcolor": "#2a3f5f",
           "arrowhead": 0,
           "arrowwidth": 1
          },
          "autotypenumbers": "strict",
          "coloraxis": {
           "colorbar": {
            "outlinewidth": 0,
            "ticks": ""
           }
          },
          "colorscale": {
           "diverging": [
            [
             0,
             "#8e0152"
            ],
            [
             0.1,
             "#c51b7d"
            ],
            [
             0.2,
             "#de77ae"
            ],
            [
             0.3,
             "#f1b6da"
            ],
            [
             0.4,
             "#fde0ef"
            ],
            [
             0.5,
             "#f7f7f7"
            ],
            [
             0.6,
             "#e6f5d0"
            ],
            [
             0.7,
             "#b8e186"
            ],
            [
             0.8,
             "#7fbc41"
            ],
            [
             0.9,
             "#4d9221"
            ],
            [
             1,
             "#276419"
            ]
           ],
           "sequential": [
            [
             0,
             "#0d0887"
            ],
            [
             0.1111111111111111,
             "#46039f"
            ],
            [
             0.2222222222222222,
             "#7201a8"
            ],
            [
             0.3333333333333333,
             "#9c179e"
            ],
            [
             0.4444444444444444,
             "#bd3786"
            ],
            [
             0.5555555555555556,
             "#d8576b"
            ],
            [
             0.6666666666666666,
             "#ed7953"
            ],
            [
             0.7777777777777778,
             "#fb9f3a"
            ],
            [
             0.8888888888888888,
             "#fdca26"
            ],
            [
             1,
             "#f0f921"
            ]
           ],
           "sequentialminus": [
            [
             0,
             "#0d0887"
            ],
            [
             0.1111111111111111,
             "#46039f"
            ],
            [
             0.2222222222222222,
             "#7201a8"
            ],
            [
             0.3333333333333333,
             "#9c179e"
            ],
            [
             0.4444444444444444,
             "#bd3786"
            ],
            [
             0.5555555555555556,
             "#d8576b"
            ],
            [
             0.6666666666666666,
             "#ed7953"
            ],
            [
             0.7777777777777778,
             "#fb9f3a"
            ],
            [
             0.8888888888888888,
             "#fdca26"
            ],
            [
             1,
             "#f0f921"
            ]
           ]
          },
          "colorway": [
           "#636efa",
           "#EF553B",
           "#00cc96",
           "#ab63fa",
           "#FFA15A",
           "#19d3f3",
           "#FF6692",
           "#B6E880",
           "#FF97FF",
           "#FECB52"
          ],
          "font": {
           "color": "#2a3f5f"
          },
          "geo": {
           "bgcolor": "white",
           "lakecolor": "white",
           "landcolor": "#E5ECF6",
           "showlakes": true,
           "showland": true,
           "subunitcolor": "white"
          },
          "hoverlabel": {
           "align": "left"
          },
          "hovermode": "closest",
          "mapbox": {
           "style": "light"
          },
          "paper_bgcolor": "white",
          "plot_bgcolor": "#E5ECF6",
          "polar": {
           "angularaxis": {
            "gridcolor": "white",
            "linecolor": "white",
            "ticks": ""
           },
           "bgcolor": "#E5ECF6",
           "radialaxis": {
            "gridcolor": "white",
            "linecolor": "white",
            "ticks": ""
           }
          },
          "scene": {
           "xaxis": {
            "backgroundcolor": "#E5ECF6",
            "gridcolor": "white",
            "gridwidth": 2,
            "linecolor": "white",
            "showbackground": true,
            "ticks": "",
            "zerolinecolor": "white"
           },
           "yaxis": {
            "backgroundcolor": "#E5ECF6",
            "gridcolor": "white",
            "gridwidth": 2,
            "linecolor": "white",
            "showbackground": true,
            "ticks": "",
            "zerolinecolor": "white"
           },
           "zaxis": {
            "backgroundcolor": "#E5ECF6",
            "gridcolor": "white",
            "gridwidth": 2,
            "linecolor": "white",
            "showbackground": true,
            "ticks": "",
            "zerolinecolor": "white"
           }
          },
          "shapedefaults": {
           "line": {
            "color": "#2a3f5f"
           }
          },
          "ternary": {
           "aaxis": {
            "gridcolor": "white",
            "linecolor": "white",
            "ticks": ""
           },
           "baxis": {
            "gridcolor": "white",
            "linecolor": "white",
            "ticks": ""
           },
           "bgcolor": "#E5ECF6",
           "caxis": {
            "gridcolor": "white",
            "linecolor": "white",
            "ticks": ""
           }
          },
          "title": {
           "x": 0.05
          },
          "xaxis": {
           "automargin": true,
           "gridcolor": "white",
           "linecolor": "white",
           "ticks": "",
           "title": {
            "standoff": 15
           },
           "zerolinecolor": "white",
           "zerolinewidth": 2
          },
          "yaxis": {
           "automargin": true,
           "gridcolor": "white",
           "linecolor": "white",
           "ticks": "",
           "title": {
            "standoff": 15
           },
           "zerolinecolor": "white",
           "zerolinewidth": 2
          }
         }
        },
        "xaxis": {
         "anchor": "y",
         "autorange": true,
         "domain": [
          0,
          1
         ],
         "range": [
          -40.487908914360155,
          79.80260897957153
         ],
         "title": {
          "text": "0"
         },
         "type": "linear"
        },
        "yaxis": {
         "anchor": "x",
         "autorange": true,
         "domain": [
          0,
          1
         ],
         "range": [
          -38.06718977554413,
          115.90407921519869
         ],
         "title": {
          "text": "1"
         },
         "type": "linear"
        }
       }
      },
      "image/png": "[encoded data removed]",
      "text/html": [
       "<div>                            <div id=\"a3c02902-1386-491c-a3a9-52082b236b4f\" class=\"plotly-graph-div\" style=\"height:525px; width:100%;\"></div>            <script type=\"text/javascript\">                require([\"plotly\"], function(Plotly) {                    window.PLOTLYENV=window.PLOTLYENV || {};                                    if (document.getElementById(\"a3c02902-1386-491c-a3a9-52082b236b4f\")) {                    Plotly.newPlot(                        \"a3c02902-1386-491c-a3a9-52082b236b4f\",                        [{\"hovertemplate\":\"labels=0<br>0=%{x}<br>1=%{y}<extra></extra>\",\"legendgroup\":\"0\",\"marker\":{\"color\":\"#636efa\",\"symbol\":\"circle\"},\"mode\":\"markers\",\"name\":\"0\",\"orientation\":\"v\",\"showlegend\":true,\"x\":[25.35480822222338,35.73238228549918,16.42297862592311,6.493157777870553,11.442790169259883,1.497424269332871,13.613706871370502,13.631956708738231,35.13034288835721],\"xaxis\":\"x\",\"y\":[84.49011160671843,105.58100549877389,32.225885141714265,7.814769108180376,19.563299544224417,-23.66975657625185,35.6571240962185,35.65199858220103,92.10965340606745],\"yaxis\":\"y\",\"type\":\"scatter\"},{\"hovertemplate\":\"labels=2<br>0=%{x}<br>1=%{y}<extra></extra>\",\"legendgroup\":\"2\",\"marker\":{\"color\":\"#EF553B\",\"symbol\":\"circle\"},\"mode\":\"markers\",\"name\":\"2\",\"orientation\":\"v\",\"showlegend\":true,\"x\":[-19.80654334374805,-28.022639417131796,-24.184622704866097,-26.590518483990092,-28.91545719120936,-30.449030869147894,-23.4807562199607,1.9234844190673166,-30.353542037787825,-24.850595309915533,-28.893628895328767,-32.77087054029921,-25.635228669729898,-29.54645094808135,-27.676239515229835,-25.689503606058448,-20.14916669543863,-21.666282001796343,-11.931010706953673,-12.56309160796209,-27.268166357493804,-22.901274097983723,-16.596587930901183,-33.39399040573211,-23.648883639636363,-28.760327936742648,-14.64832908595375,-33.98781849641035,-32.943426354094846,-32.551800581272516,-27.361487848366735,-29.14618556464908,-25.593453578925075,-26.054181032103042,-29.196679175223423,-33.38288524814718,-21.886724018250373,-29.21242238547916,-30.304587071530694,-33.08578634331301],\"xaxis\":\"x\",\"y\":[5.981859494716037,-8.492283999229524,-2.181934251048059,-1.933090130437838,-26.708521897158622,-11.705721630443016,-12.876312232563105,28.2510619286299,-9.84412223049073,-6.302508294580816,-8.118196126912165,-2.9968416543458267,-2.419506875714732,-9.73679939748352,-4.571305641612395,6.968938006727558,0.9919881987498065,7.356429153798103,18.80179222466172,9.518814186239354,-4.660102517160524,0.18768982572267284,16.12857796493775,-12.753159819798443,-3.7368780252346725,-4.49753367968985,19.209459218669565,-15.537542464175678,-13.217822879337652,-12.876655507682596,-7.747603918877111,-11.212404237031734,-7.245988927383261,-8.742367410648633,-15.151262622756908,-11.255872814241993,7.093604472279947,-7.721524854783093,-1.9430109274501084,-9.445044400359095],\"yaxis\":\"y\",\"type\":\"scatter\"},{\"hovertemplate\":\"labels=1<br>0=%{x}<br>1=%{y}<extra></extra>\",\"legendgroup\":\"1\",\"marker\":{\"color\":\"#00cc96\",\"symbol\":\"circle\"},\"mode\":\"markers\",\"name\":\"1\",\"orientation\":\"v\",\"showlegend\":true,\"x\":[64.46154460591221,66.77416386054668,69.12587049460923,51.740270261540175,63.66856707441602,65.33380443475671,73.30251856162172,67.20885627473237,71.55644247209847,65.29217560512522,65.91054538123004,70.17560869560364,69.3067759570099],\"xaxis\":\"x\",\"y\":[-18.623927280986074,-19.237086502722462,-27.744116059119325,-13.603656141010397,-24.92591653415399,-23.7979397949869,-19.864322710451642,-14.696579747096768,-15.26079069585104,-19.654532273963213,-15.994727662347463,-21.249596266800477,-19.629194044857396],\"yaxis\":\"y\",\"type\":\"scatter\"}],                        {\"template\":{\"data\":{\"histogram2dcontour\":[{\"type\":\"histogram2dcontour\",\"colorbar\":{\"outlinewidth\":0,\"ticks\":\"\"},\"colorscale\":[[0.0,\"#0d0887\"],[0.1111111111111111,\"#46039f\"],[0.2222222222222222,\"#7201a8\"],[0.3333333333333333,\"#9c179e\"],[0.4444444444444444,\"#bd3786\"],[0.5555555555555556,\"#d8576b\"],[0.6666666666666666,\"#ed7953\"],[0.7777777777777778,\"#fb9f3a\"],[0.8888888888888888,\"#fdca26\"],[1.0,\"#f0f921\"]]}],\"choropleth\":[{\"type\":\"choropleth\",\"colorbar\":{\"outlinewidth\":0,\"ticks\":\"\"}}],\"histogram2d\":[{\"type\":\"histogram2d\",\"colorbar\":{\"outlinewidth\":0,\"ticks\":\"\"},\"colorscale\":[[0.0,\"#0d0887\"],[0.1111111111111111,\"#46039f\"],[0.2222222222222222,\"#7201a8\"],[0.3333333333333333,\"#9c179e\"],[0.4444444444444444,\"#bd3786\"],[0.5555555555555556,\"#d8576b\"],[0.6666666666666666,\"#ed7953\"],[0.7777777777777778,\"#fb9f3a\"],[0.8888888888888888,\"#fdca26\"],[1.0,\"#f0f921\"]]}],\"heatmap\":[{\"type\":\"heatmap\",\"colorbar\":{\"outlinewidth\":0,\"ticks\":\"\"},\"colorscale\":[[0.0,\"#0d0887\"],[0.1111111111111111,\"#46039f\"],[0.2222222222222222,\"#7201a8\"],[0.3333333333333333,\"#9c179e\"],[0.4444444444444444,\"#bd3786\"],[0.5555555555555556,\"#d8576b\"],[0.6666666666666666,\"#ed7953\"],[0.7777777777777778,\"#fb9f3a\"],[0.8888888888888888,\"#fdca26\"],[1.0,\"#f0f921\"]]}],\"heatmapgl\":[{\"type\":\"heatmapgl\",\"colorbar\":{\"outlinewidth\":0,\"ticks\":\"\"},\"colorscale\":[[0.0,\"#0d0887\"],[0.1111111111111111,\"#46039f\"],[0.2222222222222222,\"#7201a8\"],[0.3333333333333333,\"#9c179e\"],[0.4444444444444444,\"#bd3786\"],[0.5555555555555556,\"#d8576b\"],[0.6666666666666666,\"#ed7953\"],[0.7777777777777778,\"#fb9f3a\"],[0.8888888888888888,\"#fdca26\"],[1.0,\"#f0f921\"]]}],\"contourcarpet\":[{\"type\":\"contourcarpet\",\"colorbar\":{\"outlinewidth\":0,\"ticks\":\"\"}}],\"contour\":[{\"type\":\"contour\",\"colorbar\":{\"outlinewidth\":0,\"ticks\":\"\"},\"colorscale\":[[0.0,\"#0d0887\"],[0.1111111111111111,\"#46039f\"],[0.2222222222222222,\"#7201a8\"],[0.3333333333333333,\"#9c179e\"],[0.4444444444444444,\"#bd3786\"],[0.5555555555555556,\"#d8576b\"],[0.6666666666666666,\"#ed7953\"],[0.7777777777777778,\"#fb9f3a\"],[0.8888888888888888,\"#fdca26\"],[1.0,\"#f0f921\"]]}],\"surface\":[{\"type\":\"surface\",\"colorbar\":{\"outlinewidth\":0,\"ticks\":\"\"},\"colorscale\":[[0.0,\"#0d0887\"],[0.1111111111111111,\"#46039f\"],[0.2222222222222222,\"#7201a8\"],[0.3333333333333333,\"#9c179e\"],[0.4444444444444444,\"#bd3786\"],[0.5555555555555556,\"#d8576b\"],[0.6666666666666666,\"#ed7953\"],[0.7777777777777778,\"#fb9f3a\"],[0.8888888888888888,\"#fdca26\"],[1.0,\"#f0f921\"]]}],\"mesh3d\":[{\"type\":\"mesh3d\",\"colorbar\":{\"outlinewidth\":0,\"ticks\":\"\"}}],\"scatter\":[{\"fillpattern\":{\"fillmode\":\"overlay\",\"size\":10,\"solidity\":0.2},\"type\":\"scatter\"}],\"parcoords\":[{\"type\":\"parcoords\",\"line\":{\"colorbar\":{\"outlinewidth\":0,\"ticks\":\"\"}}}],\"scatterpolargl\":[{\"type\":\"scatterpolargl\",\"marker\":{\"colorbar\":{\"outlinewidth\":0,\"ticks\":\"\"}}}],\"bar\":[{\"error_x\":{\"color\":\"#2a3f5f\"},\"error_y\":{\"color\":\"#2a3f5f\"},\"marker\":{\"line\":{\"color\":\"#E5ECF6\",\"width\":0.5},\"pattern\":{\"fillmode\":\"overlay\",\"size\":10,\"solidity\":0.2}},\"type\":\"bar\"}],\"scattergeo\":[{\"type\":\"scattergeo\",\"marker\":{\"colorbar\":{\"outlinewidth\":0,\"ticks\":\"\"}}}],\"scatterpolar\":[{\"type\":\"scatterpolar\",\"marker\":{\"colorbar\":{\"outlinewidth\":0,\"ticks\":\"\"}}}],\"histogram\":[{\"marker\":{\"pattern\":{\"fillmode\":\"overlay\",\"size\":10,\"solidity\":0.2}},\"type\":\"histogram\"}],\"scattergl\":[{\"type\":\"scattergl\",\"marker\":{\"colorbar\":{\"outlinewidth\":0,\"ticks\":\"\"}}}],\"scatter3d\":[{\"type\":\"scatter3d\",\"line\":{\"colorbar\":{\"outlinewidth\":0,\"ticks\":\"\"}},\"marker\":{\"colorbar\":{\"outlinewidth\":0,\"ticks\":\"\"}}}],\"scattermapbox\":[{\"type\":\"scattermapbox\",\"marker\":{\"colorbar\":{\"outlinewidth\":0,\"ticks\":\"\"}}}],\"scatterternary\":[{\"type\":\"scatterternary\",\"marker\":{\"colorbar\":{\"outlinewidth\":0,\"ticks\":\"\"}}}],\"scattercarpet\":[{\"type\":\"scattercarpet\",\"marker\":{\"colorbar\":{\"outlinewidth\":0,\"ticks\":\"\"}}}],\"carpet\":[{\"aaxis\":{\"endlinecolor\":\"#2a3f5f\",\"gridcolor\":\"white\",\"linecolor\":\"white\",\"minorgridcolor\":\"white\",\"startlinecolor\":\"#2a3f5f\"},\"baxis\":{\"endlinecolor\":\"#2a3f5f\",\"gridcolor\":\"white\",\"linecolor\":\"white\",\"minorgridcolor\":\"white\",\"startlinecolor\":\"#2a3f5f\"},\"type\":\"carpet\"}],\"table\":[{\"cells\":{\"fill\":{\"color\":\"#EBF0F8\"},\"line\":{\"color\":\"white\"}},\"header\":{\"fill\":{\"color\":\"#C8D4E3\"},\"line\":{\"color\":\"white\"}},\"type\":\"table\"}],\"barpolar\":[{\"marker\":{\"line\":{\"color\":\"#E5ECF6\",\"width\":0.5},\"pattern\":{\"fillmode\":\"overlay\",\"size\":10,\"solidity\":0.2}},\"type\":\"barpolar\"}],\"pie\":[{\"automargin\":true,\"type\":\"pie\"}]},\"layout\":{\"autotypenumbers\":\"strict\",\"colorway\":[\"#636efa\",\"#EF553B\",\"#00cc96\",\"#ab63fa\",\"#FFA15A\",\"#19d3f3\",\"#FF6692\",\"#B6E880\",\"#FF97FF\",\"#FECB52\"],\"font\":{\"color\":\"#2a3f5f\"},\"hovermode\":\"closest\",\"hoverlabel\":{\"align\":\"left\"},\"paper_bgcolor\":\"white\",\"plot_bgcolor\":\"#E5ECF6\",\"polar\":{\"bgcolor\":\"#E5ECF6\",\"angularaxis\":{\"gridcolor\":\"white\",\"linecolor\":\"white\",\"ticks\":\"\"},\"radialaxis\":{\"gridcolor\":\"white\",\"linecolor\":\"white\",\"ticks\":\"\"}},\"ternary\":{\"bgcolor\":\"#E5ECF6\",\"aaxis\":{\"gridcolor\":\"white\",\"linecolor\":\"white\",\"ticks\":\"\"},\"baxis\":{\"gridcolor\":\"white\",\"linecolor\":\"white\",\"ticks\":\"\"},\"caxis\":{\"gridcolor\":\"white\",\"linecolor\":\"white\",\"ticks\":\"\"}},\"coloraxis\":{\"colorbar\":{\"outlinewidth\":0,\"ticks\":\"\"}},\"colorscale\":{\"sequential\":[[0.0,\"#0d0887\"],[0.1111111111111111,\"#46039f\"],[0.2222222222222222,\"#7201a8\"],[0.3333333333333333,\"#9c179e\"],[0.4444444444444444,\"#bd3786\"],[0.5555555555555556,\"#d8576b\"],[0.6666666666666666,\"#ed7953\"],[0.7777777777777778,\"#fb9f3a\"],[0.8888888888888888,\"#fdca26\"],[1.0,\"#f0f921\"]],\"sequentialminus\":[[0.0,\"#0d0887\"],[0.1111111111111111,\"#46039f\"],[0.2222222222222222,\"#7201a8\"],[0.3333333333333333,\"#9c179e\"],[0.4444444444444444,\"#bd3786\"],[0.5555555555555556,\"#d8576b\"],[0.6666666666666666,\"#ed7953\"],[0.7777777777777778,\"#fb9f3a\"],[0.8888888888888888,\"#fdca26\"],[1.0,\"#f0f921\"]],\"diverging\":[[0,\"#8e0152\"],[0.1,\"#c51b7d\"],[0.2,\"#de77ae\"],[0.3,\"#f1b6da\"],[0.4,\"#fde0ef\"],[0.5,\"#f7f7f7\"],[0.6,\"#e6f5d0\"],[0.7,\"#b8e186\"],[0.8,\"#7fbc41\"],[0.9,\"#4d9221\"],[1,\"#276419\"]]},\"xaxis\":{\"gridcolor\":\"white\",\"linecolor\":\"white\",\"ticks\":\"\",\"title\":{\"standoff\":15},\"zerolinecolor\":\"white\",\"automargin\":true,\"zerolinewidth\":2},\"yaxis\":{\"gridcolor\":\"white\",\"linecolor\":\"white\",\"ticks\":\"\",\"title\":{\"standoff\":15},\"zerolinecolor\":\"white\",\"automargin\":true,\"zerolinewidth\":2},\"scene\":{\"xaxis\":{\"backgroundcolor\":\"#E5ECF6\",\"gridcolor\":\"white\",\"linecolor\":\"white\",\"showbackground\":true,\"ticks\":\"\",\"zerolinecolor\":\"white\",\"gridwidth\":2},\"yaxis\":{\"backgroundcolor\":\"#E5ECF6\",\"gridcolor\":\"white\",\"linecolor\":\"white\",\"showbackground\":true,\"ticks\":\"\",\"zerolinecolor\":\"white\",\"gridwidth\":2},\"zaxis\":{\"backgroundcolor\":\"#E5ECF6\",\"gridcolor\":\"white\",\"linecolor\":\"white\",\"showbackground\":true,\"ticks\":\"\",\"zerolinecolor\":\"white\",\"gridwidth\":2}},\"shapedefaults\":{\"line\":{\"color\":\"#2a3f5f\"}},\"annotationdefaults\":{\"arrowcolor\":\"#2a3f5f\",\"arrowhead\":0,\"arrowwidth\":1},\"geo\":{\"bgcolor\":\"white\",\"landcolor\":\"#E5ECF6\",\"subunitcolor\":\"white\",\"showland\":true,\"showlakes\":true,\"lakecolor\":\"white\"},\"title\":{\"x\":0.05},\"mapbox\":{\"style\":\"light\"}}},\"xaxis\":{\"anchor\":\"y\",\"domain\":[0.0,1.0],\"title\":{\"text\":\"0\"}},\"yaxis\":{\"anchor\":\"x\",\"domain\":[0.0,1.0],\"title\":{\"text\":\"1\"}},\"legend\":{\"title\":{\"text\":\"labels\"},\"tracegroupgap\":0},\"margin\":{\"t\":60}},                        {\"responsive\": true}                    ).then(function(){\n",
       "                            \n",
       "var gd = document.getElementById('a3c02902-1386-491c-a3a9-52082b236b4f');\n",
       "var x = new MutationObserver(function (mutations, observer) {{\n",
       "        var display = window.getComputedStyle(gd).display;\n",
       "        if (!display || display === 'none') {{\n",
       "            console.log([gd, 'removed!']);\n",
       "            Plotly.purge(gd);\n",
       "            observer.disconnect();\n",
       "        }}\n",
       "}});\n",
       "\n",
       "// Listen for the removal of the full notebook cells\n",
       "var notebookContainer = gd.closest('#notebook-container');\n",
       "if (notebookContainer) {{\n",
       "    x.observe(notebookContainer, {childList: true});\n",
       "}}\n",
       "\n",
       "// Listen for the clearing of the current output cell\n",
       "var outputEl = gd.closest('.output');\n",
       "if (outputEl) {{\n",
       "    x.observe(outputEl, {childList: true});\n",
       "}}\n",
       "\n",
       "                        })                };                });            </script>        </div>"
      ]
     },
     "metadata": {},
     "output_type": "display_data"
    }
   ],
   "source": [
    "# 16S\n",
    "scores_16S = pd.DataFrame(md.doPCA(ran_lo_16S)[\"scores\"])\n",
    "scores_16S[\"labels\"] = labels\n",
    "fig_16S = px.scatter(\n",
    "    scores,\n",
    "    x = 0,\n",
    "    y = 1,\n",
    "    color = \"labels\"\n",
    ")\n",
    "fig_16S.show()"
   ]
  },
  {
   "cell_type": "code",
   "execution_count": null,
   "id": "a97e2e8a-5910-40e7-be39-fa83fc039df6",
   "metadata": {},
   "outputs": [],
   "source": [
    "# 18S\n",
    "scores_16S = pd.DataFrame(md.doPCA(ran_lo_16S)[\"scores\"])\n",
    "scores_16S[\"labels\"] = labels\n",
    "fig_16S = px.scatter(\n",
    "    scores,\n",
    "    x = 0,\n",
    "    y = 1,\n",
    "    color = \"labels\"\n",
    ")\n",
    "fig_16S.show()"
   ]
  },
  {
   "cell_type": "code",
   "execution_count": 6,
   "id": "661b0ba0-27fd-45c4-9354-ec340c617cdb",
   "metadata": {},
   "outputs": [
    {
     "data": {
      "text/html": [
       "<div>\n",
       "<style scoped>\n",
       "    .dataframe tbody tr th:only-of-type {\n",
       "        vertical-align: middle;\n",
       "    }\n",
       "\n",
       "    .dataframe tbody tr th {\n",
       "        vertical-align: top;\n",
       "    }\n",
       "\n",
       "    .dataframe thead th {\n",
       "        text-align: right;\n",
       "    }\n",
       "</style>\n",
       "<table border=\"1\" class=\"dataframe\">\n",
       "  <thead>\n",
       "    <tr style=\"text-align: right;\">\n",
       "      <th></th>\n",
       "      <th>0</th>\n",
       "      <th>1</th>\n",
       "      <th>2</th>\n",
       "      <th>3</th>\n",
       "      <th>4</th>\n",
       "      <th>5</th>\n",
       "      <th>6</th>\n",
       "      <th>7</th>\n",
       "      <th>8</th>\n",
       "      <th>9</th>\n",
       "    </tr>\n",
       "  </thead>\n",
       "  <tbody>\n",
       "    <tr>\n",
       "      <th>0</th>\n",
       "      <td>3</td>\n",
       "      <td>3</td>\n",
       "      <td>7</td>\n",
       "      <td>3</td>\n",
       "      <td>3</td>\n",
       "      <td>3</td>\n",
       "      <td>3</td>\n",
       "      <td>3</td>\n",
       "      <td>3</td>\n",
       "      <td>3</td>\n",
       "    </tr>\n",
       "    <tr>\n",
       "      <th>1</th>\n",
       "      <td>4</td>\n",
       "      <td>0</td>\n",
       "      <td>2</td>\n",
       "      <td>5</td>\n",
       "      <td>2</td>\n",
       "      <td>0</td>\n",
       "      <td>4</td>\n",
       "      <td>5</td>\n",
       "      <td>0</td>\n",
       "      <td>2</td>\n",
       "    </tr>\n",
       "    <tr>\n",
       "      <th>2</th>\n",
       "      <td>0</td>\n",
       "      <td>6</td>\n",
       "      <td>5</td>\n",
       "      <td>5</td>\n",
       "      <td>2</td>\n",
       "      <td>5</td>\n",
       "      <td>6</td>\n",
       "      <td>5</td>\n",
       "      <td>2</td>\n",
       "      <td>5</td>\n",
       "    </tr>\n",
       "    <tr>\n",
       "      <th>3</th>\n",
       "      <td>0</td>\n",
       "      <td>2</td>\n",
       "      <td>5</td>\n",
       "      <td>5</td>\n",
       "      <td>2</td>\n",
       "      <td>5</td>\n",
       "      <td>6</td>\n",
       "      <td>5</td>\n",
       "      <td>2</td>\n",
       "      <td>5</td>\n",
       "    </tr>\n",
       "    <tr>\n",
       "      <th>4</th>\n",
       "      <td>0</td>\n",
       "      <td>2</td>\n",
       "      <td>5</td>\n",
       "      <td>5</td>\n",
       "      <td>2</td>\n",
       "      <td>5</td>\n",
       "      <td>6</td>\n",
       "      <td>5</td>\n",
       "      <td>2</td>\n",
       "      <td>5</td>\n",
       "    </tr>\n",
       "    <tr>\n",
       "      <th>...</th>\n",
       "      <td>...</td>\n",
       "      <td>...</td>\n",
       "      <td>...</td>\n",
       "      <td>...</td>\n",
       "      <td>...</td>\n",
       "      <td>...</td>\n",
       "      <td>...</td>\n",
       "      <td>...</td>\n",
       "      <td>...</td>\n",
       "      <td>...</td>\n",
       "    </tr>\n",
       "    <tr>\n",
       "      <th>57</th>\n",
       "      <td>1</td>\n",
       "      <td>1</td>\n",
       "      <td>0</td>\n",
       "      <td>1</td>\n",
       "      <td>1</td>\n",
       "      <td>1</td>\n",
       "      <td>0</td>\n",
       "      <td>1</td>\n",
       "      <td>1</td>\n",
       "      <td>1</td>\n",
       "    </tr>\n",
       "    <tr>\n",
       "      <th>58</th>\n",
       "      <td>3</td>\n",
       "      <td>3</td>\n",
       "      <td>7</td>\n",
       "      <td>3</td>\n",
       "      <td>3</td>\n",
       "      <td>3</td>\n",
       "      <td>3</td>\n",
       "      <td>3</td>\n",
       "      <td>3</td>\n",
       "      <td>3</td>\n",
       "    </tr>\n",
       "    <tr>\n",
       "      <th>59</th>\n",
       "      <td>1</td>\n",
       "      <td>1</td>\n",
       "      <td>0</td>\n",
       "      <td>1</td>\n",
       "      <td>1</td>\n",
       "      <td>1</td>\n",
       "      <td>0</td>\n",
       "      <td>1</td>\n",
       "      <td>1</td>\n",
       "      <td>1</td>\n",
       "    </tr>\n",
       "    <tr>\n",
       "      <th>60</th>\n",
       "      <td>1</td>\n",
       "      <td>1</td>\n",
       "      <td>0</td>\n",
       "      <td>1</td>\n",
       "      <td>1</td>\n",
       "      <td>1</td>\n",
       "      <td>0</td>\n",
       "      <td>1</td>\n",
       "      <td>1</td>\n",
       "      <td>1</td>\n",
       "    </tr>\n",
       "    <tr>\n",
       "      <th>61</th>\n",
       "      <td>1</td>\n",
       "      <td>1</td>\n",
       "      <td>0</td>\n",
       "      <td>1</td>\n",
       "      <td>1</td>\n",
       "      <td>1</td>\n",
       "      <td>0</td>\n",
       "      <td>1</td>\n",
       "      <td>1</td>\n",
       "      <td>1</td>\n",
       "    </tr>\n",
       "  </tbody>\n",
       "</table>\n",
       "<p>62 rows × 10 columns</p>\n",
       "</div>"
      ],
      "text/plain": [
       "    0  1  2  3  4  5  6  7  8  9\n",
       "0   3  3  7  3  3  3  3  3  3  3\n",
       "1   4  0  2  5  2  0  4  5  0  2\n",
       "2   0  6  5  5  2  5  6  5  2  5\n",
       "3   0  2  5  5  2  5  6  5  2  5\n",
       "4   0  2  5  5  2  5  6  5  2  5\n",
       ".. .. .. .. .. .. .. .. .. .. ..\n",
       "57  1  1  0  1  1  1  0  1  1  1\n",
       "58  3  3  7  3  3  3  3  3  3  3\n",
       "59  1  1  0  1  1  1  0  1  1  1\n",
       "60  1  1  0  1  1  1  0  1  1  1\n",
       "61  1  1  0  1  1  1  0  1  1  1\n",
       "\n",
       "[62 rows x 10 columns]"
      ]
     },
     "execution_count": 6,
     "metadata": {},
     "output_type": "execute_result"
    }
   ],
   "source": [
    "# Run sampleClust function n_rep times to assign n_clust clusters\n",
    "n_clust = 8\n",
    "n_rep = 10\n",
    " \n",
    "cluster_samples = [md.doClustering(md.ranRelPct(asvs1), n_clust) for i in range(n_rep)]\n",
    "cluster_samples = pd.DataFrame(cluster_samples).transpose()\n",
    "cluster_samples"
   ]
  },
  {
   "cell_type": "code",
   "execution_count": 7,
   "id": "bbfea1db-6660-4f3e-be73-6bbd05dc2b06",
   "metadata": {},
   "outputs": [
    {
     "name": "stdout",
     "output_type": "stream",
     "text": [
      "False\n",
      "False\n"
     ]
    }
   ],
   "source": [
    "# A function to test if row pws[0] is the same cluster as row pws[1] in column 'col'\n",
    "def isSameCluster(pws, df, col):\n",
    "    return df.iloc[pws[0], col] == df.iloc[pws[1], col]\n",
    "\n",
    "print(isSameCluster((1, 3), cluster_samples, 0))\n",
    "print(isSameCluster((0, 3), cluster_samples, 0))"
   ]
  },
  {
   "cell_type": "code",
   "execution_count": 8,
   "id": "c5bb8571-bdc4-4d70-896d-78cb70fe40c0",
   "metadata": {},
   "outputs": [
    {
     "data": {
      "text/plain": [
       "1891.0"
      ]
     },
     "execution_count": 8,
     "metadata": {},
     "output_type": "execute_result"
    }
   ],
   "source": [
    "(62 * 61) / 2"
   ]
  },
  {
   "cell_type": "code",
   "execution_count": 9,
   "id": "385fc025-fa7d-4001-998f-fe18c4f5a489",
   "metadata": {},
   "outputs": [
    {
     "data": {
      "text/html": [
       "<div>\n",
       "<style scoped>\n",
       "    .dataframe tbody tr th:only-of-type {\n",
       "        vertical-align: middle;\n",
       "    }\n",
       "\n",
       "    .dataframe tbody tr th {\n",
       "        vertical-align: top;\n",
       "    }\n",
       "\n",
       "    .dataframe thead th {\n",
       "        text-align: right;\n",
       "    }\n",
       "</style>\n",
       "<table border=\"1\" class=\"dataframe\">\n",
       "  <thead>\n",
       "    <tr style=\"text-align: right;\">\n",
       "      <th></th>\n",
       "      <th>0</th>\n",
       "      <th>1</th>\n",
       "      <th>2</th>\n",
       "      <th>3</th>\n",
       "      <th>4</th>\n",
       "      <th>5</th>\n",
       "      <th>6</th>\n",
       "      <th>7</th>\n",
       "      <th>8</th>\n",
       "      <th>9</th>\n",
       "    </tr>\n",
       "  </thead>\n",
       "  <tbody>\n",
       "    <tr>\n",
       "      <th>0</th>\n",
       "      <td>False</td>\n",
       "      <td>False</td>\n",
       "      <td>False</td>\n",
       "      <td>False</td>\n",
       "      <td>False</td>\n",
       "      <td>False</td>\n",
       "      <td>False</td>\n",
       "      <td>False</td>\n",
       "      <td>False</td>\n",
       "      <td>False</td>\n",
       "    </tr>\n",
       "    <tr>\n",
       "      <th>1</th>\n",
       "      <td>False</td>\n",
       "      <td>False</td>\n",
       "      <td>False</td>\n",
       "      <td>False</td>\n",
       "      <td>False</td>\n",
       "      <td>False</td>\n",
       "      <td>False</td>\n",
       "      <td>False</td>\n",
       "      <td>False</td>\n",
       "      <td>False</td>\n",
       "    </tr>\n",
       "    <tr>\n",
       "      <th>2</th>\n",
       "      <td>False</td>\n",
       "      <td>False</td>\n",
       "      <td>False</td>\n",
       "      <td>False</td>\n",
       "      <td>False</td>\n",
       "      <td>False</td>\n",
       "      <td>False</td>\n",
       "      <td>False</td>\n",
       "      <td>False</td>\n",
       "      <td>False</td>\n",
       "    </tr>\n",
       "    <tr>\n",
       "      <th>3</th>\n",
       "      <td>False</td>\n",
       "      <td>False</td>\n",
       "      <td>False</td>\n",
       "      <td>False</td>\n",
       "      <td>False</td>\n",
       "      <td>False</td>\n",
       "      <td>False</td>\n",
       "      <td>False</td>\n",
       "      <td>False</td>\n",
       "      <td>False</td>\n",
       "    </tr>\n",
       "    <tr>\n",
       "      <th>4</th>\n",
       "      <td>False</td>\n",
       "      <td>False</td>\n",
       "      <td>False</td>\n",
       "      <td>False</td>\n",
       "      <td>False</td>\n",
       "      <td>False</td>\n",
       "      <td>False</td>\n",
       "      <td>False</td>\n",
       "      <td>False</td>\n",
       "      <td>False</td>\n",
       "    </tr>\n",
       "    <tr>\n",
       "      <th>...</th>\n",
       "      <td>...</td>\n",
       "      <td>...</td>\n",
       "      <td>...</td>\n",
       "      <td>...</td>\n",
       "      <td>...</td>\n",
       "      <td>...</td>\n",
       "      <td>...</td>\n",
       "      <td>...</td>\n",
       "      <td>...</td>\n",
       "      <td>...</td>\n",
       "    </tr>\n",
       "    <tr>\n",
       "      <th>1886</th>\n",
       "      <td>False</td>\n",
       "      <td>False</td>\n",
       "      <td>False</td>\n",
       "      <td>False</td>\n",
       "      <td>False</td>\n",
       "      <td>False</td>\n",
       "      <td>False</td>\n",
       "      <td>False</td>\n",
       "      <td>False</td>\n",
       "      <td>False</td>\n",
       "    </tr>\n",
       "    <tr>\n",
       "      <th>1887</th>\n",
       "      <td>False</td>\n",
       "      <td>False</td>\n",
       "      <td>False</td>\n",
       "      <td>False</td>\n",
       "      <td>False</td>\n",
       "      <td>False</td>\n",
       "      <td>False</td>\n",
       "      <td>False</td>\n",
       "      <td>False</td>\n",
       "      <td>False</td>\n",
       "    </tr>\n",
       "    <tr>\n",
       "      <th>1888</th>\n",
       "      <td>True</td>\n",
       "      <td>True</td>\n",
       "      <td>True</td>\n",
       "      <td>True</td>\n",
       "      <td>True</td>\n",
       "      <td>True</td>\n",
       "      <td>True</td>\n",
       "      <td>True</td>\n",
       "      <td>True</td>\n",
       "      <td>True</td>\n",
       "    </tr>\n",
       "    <tr>\n",
       "      <th>1889</th>\n",
       "      <td>True</td>\n",
       "      <td>True</td>\n",
       "      <td>True</td>\n",
       "      <td>True</td>\n",
       "      <td>True</td>\n",
       "      <td>True</td>\n",
       "      <td>True</td>\n",
       "      <td>True</td>\n",
       "      <td>True</td>\n",
       "      <td>True</td>\n",
       "    </tr>\n",
       "    <tr>\n",
       "      <th>1890</th>\n",
       "      <td>True</td>\n",
       "      <td>True</td>\n",
       "      <td>True</td>\n",
       "      <td>True</td>\n",
       "      <td>True</td>\n",
       "      <td>True</td>\n",
       "      <td>True</td>\n",
       "      <td>True</td>\n",
       "      <td>True</td>\n",
       "      <td>True</td>\n",
       "    </tr>\n",
       "  </tbody>\n",
       "</table>\n",
       "<p>1891 rows × 10 columns</p>\n",
       "</div>"
      ],
      "text/plain": [
       "          0      1      2      3      4      5      6      7      8      9\n",
       "0     False  False  False  False  False  False  False  False  False  False\n",
       "1     False  False  False  False  False  False  False  False  False  False\n",
       "2     False  False  False  False  False  False  False  False  False  False\n",
       "3     False  False  False  False  False  False  False  False  False  False\n",
       "4     False  False  False  False  False  False  False  False  False  False\n",
       "...     ...    ...    ...    ...    ...    ...    ...    ...    ...    ...\n",
       "1886  False  False  False  False  False  False  False  False  False  False\n",
       "1887  False  False  False  False  False  False  False  False  False  False\n",
       "1888   True   True   True   True   True   True   True   True   True   True\n",
       "1889   True   True   True   True   True   True   True   True   True   True\n",
       "1890   True   True   True   True   True   True   True   True   True   True\n",
       "\n",
       "[1891 rows x 10 columns]"
      ]
     },
     "execution_count": 9,
     "metadata": {},
     "output_type": "execute_result"
    }
   ],
   "source": [
    "# Code to test if each pair of rows ((n^2 - 1)/2) = 1891) are the same for all columns\n",
    "import itertools\n",
    "pws_rows = itertools.combinations(range(cluster_samples.shape[0]), 2)\n",
    "\n",
    "pws_same = pd.DataFrame([[isSameCluster(pair, cluster_samples, col) for col in range(cluster_samples.shape[1])] for pair in pws_rows])\n",
    "pws_same"
   ]
  },
  {
   "cell_type": "code",
   "execution_count": 10,
   "id": "5332e67c-b654-4e04-b231-61deffbb2953",
   "metadata": {},
   "outputs": [
    {
     "name": "stdout",
     "output_type": "stream",
     "text": [
      "10\n",
      "10\n"
     ]
    }
   ],
   "source": [
    "# Function to return maximum number of values that are the same in a each row\n",
    "def maxSame(row):\n",
    "    return row.value_counts().max()\n",
    "\n",
    "print(maxSame(pws_same.iloc[0, :]))\n",
    "print(maxSame(pws_same.iloc[1890, :]))"
   ]
  },
  {
   "cell_type": "code",
   "execution_count": 11,
   "id": "42c657e9-d7dd-423e-bb64-11885d867d43",
   "metadata": {},
   "outputs": [
    {
     "data": {
      "text/plain": [
       "94.59545214172395"
      ]
     },
     "execution_count": 11,
     "metadata": {},
     "output_type": "execute_result"
    }
   ],
   "source": [
    "# Code to return the percent of all values that were the same by row\n",
    "num_same = [maxSame(pws_same.iloc[row, :]) for row in range(pws_same.shape[0])]\n",
    "np.sum(num_same) * 100 / (pws_same.shape[0] * pws_same.shape[1])"
   ]
  },
  {
   "cell_type": "code",
   "execution_count": 12,
   "id": "342dd802-5c31-4adf-9ae5-04f0fe062ae7",
   "metadata": {},
   "outputs": [],
   "source": [
    "# Putting it all together...\n",
    "\n",
    "# Function to create n_rep draws of df and assign n_clusters and returns percent of draws that had same relative cluster assignments\n",
    "def pctSame(df, n_clust, n_rep):\n",
    "    if n_clust >= df.shape[0]:\n",
    "        return 100\n",
    "    \n",
    "    def isSameCluster(pws, df, col):\n",
    "        return df.iloc[pws[0], col] == df.iloc[pws[1], col]\n",
    "    \n",
    "    def maxSame(row):\n",
    "        return row.value_counts().max()\n",
    "    \n",
    "    # cluster a random sample of logit(relative percentages)\n",
    "    cluster_samples = [md.doClustering(md.ranRelPct(df), n_clust) for i in range(n_rep)]\n",
    "    cluster_samples = pd.DataFrame(cluster_samples).transpose()\n",
    "    # unique pairs of rows\n",
    "    pws_rows = itertools.combinations(range(cluster_samples.shape[0]), 2)\n",
    "    # identify pairs of samples that are in the same cluster (True) or in different clusters (False)\n",
    "    pws_same = pd.DataFrame([[isSameCluster(pair, cluster_samples, col) for col in range(cluster_samples.shape[1])] for pair in pws_rows])\n",
    "    # get the maximum number replicates that have the same value (True or False) for each sample\n",
    "    num_same = [maxSame(pws_same.iloc[row, :]) for row in range(pws_same.shape[0])]\n",
    "    # convert to percentage with maximum of same value across all replicates\n",
    "    return np.sum(num_same) * 100 / (pws_same.shape[0] * pws_same.shape[1])"
   ]
  },
  {
   "cell_type": "code",
   "execution_count": 13,
   "id": "53518060-b276-42e2-a8d6-7991d252f9c2",
   "metadata": {},
   "outputs": [
    {
     "name": "stdout",
     "output_type": "stream",
     "text": [
      "CPU times: user 7min 49s, sys: 6.64 s, total: 7min 55s\n",
      "Wall time: 7min 55s\n"
     ]
    }
   ],
   "source": [
    "%%time\n",
    "# Code to return pct of draws that had the same relative cluster assignment for 2 to 62 clusters for n_rep replicates\n",
    "# NB: This takes a long time to run for a modest number of replicates!!\n",
    "\n",
    "n_rep = 50\n",
    "num_clust = np.arange(2, asvs1.shape[1] + 1)\n",
    "pct_same = [pctSame(asvs1, x, n_rep) for x in num_clust]"
   ]
  },
  {
   "cell_type": "code",
   "execution_count": 14,
   "id": "50bc0dd5-dd94-4a2e-a9d6-6fe8b7f9ab05",
   "metadata": {},
   "outputs": [
    {
     "data": {
      "application/vnd.plotly.v1+json": {
       "config": {
        "plotlyServerURL": "https://plot.ly"
       },
       "data": [
        {
         "hovertemplate": "x=%{x}<br>y=%{y}<extra></extra>",
         "legendgroup": "",
         "line": {
          "color": "#636efa",
          "dash": "solid"
         },
         "marker": {
          "symbol": "circle"
         },
         "mode": "lines",
         "name": "",
         "orientation": "v",
         "showlegend": false,
         "type": "scatter",
         "x": [
          2,
          3,
          4,
          5,
          6,
          7,
          8,
          9,
          10,
          11,
          12,
          13,
          14,
          15,
          16,
          17,
          18,
          19,
          20,
          21,
          22,
          23,
          24,
          25,
          26,
          27,
          28,
          29,
          30,
          31,
          32,
          33,
          34,
          35,
          36,
          37,
          38,
          39,
          40,
          41,
          42,
          43,
          44,
          45,
          46,
          47,
          48,
          49,
          50,
          51,
          52,
          53,
          54,
          55,
          56,
          57,
          58,
          59,
          60,
          61,
          62
         ],
         "xaxis": "x",
         "y": [
          98.4865150713908,
          100,
          100,
          94.3532522474881,
          94.57218402961396,
          93.58223162347964,
          92.52459016393442,
          93.37176097303015,
          92.98360655737704,
          92.83130618720254,
          92.98043363299841,
          93.3823373876256,
          93.62982548915917,
          93.84981491274458,
          93.79270227392914,
          94.15335801163405,
          94.34056054997356,
          94.15335801163405,
          94.6292966684294,
          94.73823373876256,
          94.92437863564251,
          95.08619777895294,
          95.04706504494976,
          95.30830248545743,
          95.65732416710735,
          95.87308302485458,
          96.07826546800635,
          96.32152300370174,
          96.45161290322581,
          96.62718138551031,
          96.83024854574299,
          97.06398730830249,
          97.19725013220518,
          97.30089899524062,
          97.5272342675833,
          97.64992067689053,
          97.84452670544685,
          97.86567953463776,
          98.14172395557905,
          98.27075621364358,
          98.3670015864622,
          98.46959280803807,
          98.56266525647806,
          98.67689053410894,
          98.76150185087255,
          98.86620835536753,
          98.97197250132206,
          99.06081438392386,
          99.18032786885246,
          99.26282390269698,
          99.36012691697515,
          99.43733474352194,
          99.49338974087784,
          99.57059756742464,
          99.64569011105236,
          99.7028027498678,
          99.7778952934955,
          99.83500793231094,
          99.89212057112638,
          99.94711792702275,
          100
         ],
         "yaxis": "y"
        }
       ],
       "layout": {
        "autosize": true,
        "legend": {
         "tracegroupgap": 0
        },
        "margin": {
         "t": 60
        },
        "template": {
         "data": {
          "bar": [
           {
            "error_x": {
             "color": "#2a3f5f"
            },
            "error_y": {
             "color": "#2a3f5f"
            },
            "marker": {
             "line": {
              "color": "#E5ECF6",
              "width": 0.5
             },
             "pattern": {
              "fillmode": "overlay",
              "size": 10,
              "solidity": 0.2
             }
            },
            "type": "bar"
           }
          ],
          "barpolar": [
           {
            "marker": {
             "line": {
              "color": "#E5ECF6",
              "width": 0.5
             },
             "pattern": {
              "fillmode": "overlay",
              "size": 10,
              "solidity": 0.2
             }
            },
            "type": "barpolar"
           }
          ],
          "carpet": [
           {
            "aaxis": {
             "endlinecolor": "#2a3f5f",
             "gridcolor": "white",
             "linecolor": "white",
             "minorgridcolor": "white",
             "startlinecolor": "#2a3f5f"
            },
            "baxis": {
             "endlinecolor": "#2a3f5f",
             "gridcolor": "white",
             "linecolor": "white",
             "minorgridcolor": "white",
             "startlinecolor": "#2a3f5f"
            },
            "type": "carpet"
           }
          ],
          "choropleth": [
           {
            "colorbar": {
             "outlinewidth": 0,
             "ticks": ""
            },
            "type": "choropleth"
           }
          ],
          "contour": [
           {
            "colorbar": {
             "outlinewidth": 0,
             "ticks": ""
            },
            "colorscale": [
             [
              0,
              "#0d0887"
             ],
             [
              0.1111111111111111,
              "#46039f"
             ],
             [
              0.2222222222222222,
              "#7201a8"
             ],
             [
              0.3333333333333333,
              "#9c179e"
             ],
             [
              0.4444444444444444,
              "#bd3786"
             ],
             [
              0.5555555555555556,
              "#d8576b"
             ],
             [
              0.6666666666666666,
              "#ed7953"
             ],
             [
              0.7777777777777778,
              "#fb9f3a"
             ],
             [
              0.8888888888888888,
              "#fdca26"
             ],
             [
              1,
              "#f0f921"
             ]
            ],
            "type": "contour"
           }
          ],
          "contourcarpet": [
           {
            "colorbar": {
             "outlinewidth": 0,
             "ticks": ""
            },
            "type": "contourcarpet"
           }
          ],
          "heatmap": [
           {
            "colorbar": {
             "outlinewidth": 0,
             "ticks": ""
            },
            "colorscale": [
             [
              0,
              "#0d0887"
             ],
             [
              0.1111111111111111,
              "#46039f"
             ],
             [
              0.2222222222222222,
              "#7201a8"
             ],
             [
              0.3333333333333333,
              "#9c179e"
             ],
             [
              0.4444444444444444,
              "#bd3786"
             ],
             [
              0.5555555555555556,
              "#d8576b"
             ],
             [
              0.6666666666666666,
              "#ed7953"
             ],
             [
              0.7777777777777778,
              "#fb9f3a"
             ],
             [
              0.8888888888888888,
              "#fdca26"
             ],
             [
              1,
              "#f0f921"
             ]
            ],
            "type": "heatmap"
           }
          ],
          "heatmapgl": [
           {
            "colorbar": {
             "outlinewidth": 0,
             "ticks": ""
            },
            "colorscale": [
             [
              0,
              "#0d0887"
             ],
             [
              0.1111111111111111,
              "#46039f"
             ],
             [
              0.2222222222222222,
              "#7201a8"
             ],
             [
              0.3333333333333333,
              "#9c179e"
             ],
             [
              0.4444444444444444,
              "#bd3786"
             ],
             [
              0.5555555555555556,
              "#d8576b"
             ],
             [
              0.6666666666666666,
              "#ed7953"
             ],
             [
              0.7777777777777778,
              "#fb9f3a"
             ],
             [
              0.8888888888888888,
              "#fdca26"
             ],
             [
              1,
              "#f0f921"
             ]
            ],
            "type": "heatmapgl"
           }
          ],
          "histogram": [
           {
            "marker": {
             "pattern": {
              "fillmode": "overlay",
              "size": 10,
              "solidity": 0.2
             }
            },
            "type": "histogram"
           }
          ],
          "histogram2d": [
           {
            "colorbar": {
             "outlinewidth": 0,
             "ticks": ""
            },
            "colorscale": [
             [
              0,
              "#0d0887"
             ],
             [
              0.1111111111111111,
              "#46039f"
             ],
             [
              0.2222222222222222,
              "#7201a8"
             ],
             [
              0.3333333333333333,
              "#9c179e"
             ],
             [
              0.4444444444444444,
              "#bd3786"
             ],
             [
              0.5555555555555556,
              "#d8576b"
             ],
             [
              0.6666666666666666,
              "#ed7953"
             ],
             [
              0.7777777777777778,
              "#fb9f3a"
             ],
             [
              0.8888888888888888,
              "#fdca26"
             ],
             [
              1,
              "#f0f921"
             ]
            ],
            "type": "histogram2d"
           }
          ],
          "histogram2dcontour": [
           {
            "colorbar": {
             "outlinewidth": 0,
             "ticks": ""
            },
            "colorscale": [
             [
              0,
              "#0d0887"
             ],
             [
              0.1111111111111111,
              "#46039f"
             ],
             [
              0.2222222222222222,
              "#7201a8"
             ],
             [
              0.3333333333333333,
              "#9c179e"
             ],
             [
              0.4444444444444444,
              "#bd3786"
             ],
             [
              0.5555555555555556,
              "#d8576b"
             ],
             [
              0.6666666666666666,
              "#ed7953"
             ],
             [
              0.7777777777777778,
              "#fb9f3a"
             ],
             [
              0.8888888888888888,
              "#fdca26"
             ],
             [
              1,
              "#f0f921"
             ]
            ],
            "type": "histogram2dcontour"
           }
          ],
          "mesh3d": [
           {
            "colorbar": {
             "outlinewidth": 0,
             "ticks": ""
            },
            "type": "mesh3d"
           }
          ],
          "parcoords": [
           {
            "line": {
             "colorbar": {
              "outlinewidth": 0,
              "ticks": ""
             }
            },
            "type": "parcoords"
           }
          ],
          "pie": [
           {
            "automargin": true,
            "type": "pie"
           }
          ],
          "scatter": [
           {
            "fillpattern": {
             "fillmode": "overlay",
             "size": 10,
             "solidity": 0.2
            },
            "type": "scatter"
           }
          ],
          "scatter3d": [
           {
            "line": {
             "colorbar": {
              "outlinewidth": 0,
              "ticks": ""
             }
            },
            "marker": {
             "colorbar": {
              "outlinewidth": 0,
              "ticks": ""
             }
            },
            "type": "scatter3d"
           }
          ],
          "scattercarpet": [
           {
            "marker": {
             "colorbar": {
              "outlinewidth": 0,
              "ticks": ""
             }
            },
            "type": "scattercarpet"
           }
          ],
          "scattergeo": [
           {
            "marker": {
             "colorbar": {
              "outlinewidth": 0,
              "ticks": ""
             }
            },
            "type": "scattergeo"
           }
          ],
          "scattergl": [
           {
            "marker": {
             "colorbar": {
              "outlinewidth": 0,
              "ticks": ""
             }
            },
            "type": "scattergl"
           }
          ],
          "scattermapbox": [
           {
            "marker": {
             "colorbar": {
              "outlinewidth": 0,
              "ticks": ""
             }
            },
            "type": "scattermapbox"
           }
          ],
          "scatterpolar": [
           {
            "marker": {
             "colorbar": {
              "outlinewidth": 0,
              "ticks": ""
             }
            },
            "type": "scatterpolar"
           }
          ],
          "scatterpolargl": [
           {
            "marker": {
             "colorbar": {
              "outlinewidth": 0,
              "ticks": ""
             }
            },
            "type": "scatterpolargl"
           }
          ],
          "scatterternary": [
           {
            "marker": {
             "colorbar": {
              "outlinewidth": 0,
              "ticks": ""
             }
            },
            "type": "scatterternary"
           }
          ],
          "surface": [
           {
            "colorbar": {
             "outlinewidth": 0,
             "ticks": ""
            },
            "colorscale": [
             [
              0,
              "#0d0887"
             ],
             [
              0.1111111111111111,
              "#46039f"
             ],
             [
              0.2222222222222222,
              "#7201a8"
             ],
             [
              0.3333333333333333,
              "#9c179e"
             ],
             [
              0.4444444444444444,
              "#bd3786"
             ],
             [
              0.5555555555555556,
              "#d8576b"
             ],
             [
              0.6666666666666666,
              "#ed7953"
             ],
             [
              0.7777777777777778,
              "#fb9f3a"
             ],
             [
              0.8888888888888888,
              "#fdca26"
             ],
             [
              1,
              "#f0f921"
             ]
            ],
            "type": "surface"
           }
          ],
          "table": [
           {
            "cells": {
             "fill": {
              "color": "#EBF0F8"
             },
             "line": {
              "color": "white"
             }
            },
            "header": {
             "fill": {
              "color": "#C8D4E3"
             },
             "line": {
              "color": "white"
             }
            },
            "type": "table"
           }
          ]
         },
         "layout": {
          "annotationdefaults": {
           "arrowcolor": "#2a3f5f",
           "arrowhead": 0,
           "arrowwidth": 1
          },
          "autotypenumbers": "strict",
          "coloraxis": {
           "colorbar": {
            "outlinewidth": 0,
            "ticks": ""
           }
          },
          "colorscale": {
           "diverging": [
            [
             0,
             "#8e0152"
            ],
            [
             0.1,
             "#c51b7d"
            ],
            [
             0.2,
             "#de77ae"
            ],
            [
             0.3,
             "#f1b6da"
            ],
            [
             0.4,
             "#fde0ef"
            ],
            [
             0.5,
             "#f7f7f7"
            ],
            [
             0.6,
             "#e6f5d0"
            ],
            [
             0.7,
             "#b8e186"
            ],
            [
             0.8,
             "#7fbc41"
            ],
            [
             0.9,
             "#4d9221"
            ],
            [
             1,
             "#276419"
            ]
           ],
           "sequential": [
            [
             0,
             "#0d0887"
            ],
            [
             0.1111111111111111,
             "#46039f"
            ],
            [
             0.2222222222222222,
             "#7201a8"
            ],
            [
             0.3333333333333333,
             "#9c179e"
            ],
            [
             0.4444444444444444,
             "#bd3786"
            ],
            [
             0.5555555555555556,
             "#d8576b"
            ],
            [
             0.6666666666666666,
             "#ed7953"
            ],
            [
             0.7777777777777778,
             "#fb9f3a"
            ],
            [
             0.8888888888888888,
             "#fdca26"
            ],
            [
             1,
             "#f0f921"
            ]
           ],
           "sequentialminus": [
            [
             0,
             "#0d0887"
            ],
            [
             0.1111111111111111,
             "#46039f"
            ],
            [
             0.2222222222222222,
             "#7201a8"
            ],
            [
             0.3333333333333333,
             "#9c179e"
            ],
            [
             0.4444444444444444,
             "#bd3786"
            ],
            [
             0.5555555555555556,
             "#d8576b"
            ],
            [
             0.6666666666666666,
             "#ed7953"
            ],
            [
             0.7777777777777778,
             "#fb9f3a"
            ],
            [
             0.8888888888888888,
             "#fdca26"
            ],
            [
             1,
             "#f0f921"
            ]
           ]
          },
          "colorway": [
           "#636efa",
           "#EF553B",
           "#00cc96",
           "#ab63fa",
           "#FFA15A",
           "#19d3f3",
           "#FF6692",
           "#B6E880",
           "#FF97FF",
           "#FECB52"
          ],
          "font": {
           "color": "#2a3f5f"
          },
          "geo": {
           "bgcolor": "white",
           "lakecolor": "white",
           "landcolor": "#E5ECF6",
           "showlakes": true,
           "showland": true,
           "subunitcolor": "white"
          },
          "hoverlabel": {
           "align": "left"
          },
          "hovermode": "closest",
          "mapbox": {
           "style": "light"
          },
          "paper_bgcolor": "white",
          "plot_bgcolor": "#E5ECF6",
          "polar": {
           "angularaxis": {
            "gridcolor": "white",
            "linecolor": "white",
            "ticks": ""
           },
           "bgcolor": "#E5ECF6",
           "radialaxis": {
            "gridcolor": "white",
            "linecolor": "white",
            "ticks": ""
           }
          },
          "scene": {
           "xaxis": {
            "backgroundcolor": "#E5ECF6",
            "gridcolor": "white",
            "gridwidth": 2,
            "linecolor": "white",
            "showbackground": true,
            "ticks": "",
            "zerolinecolor": "white"
           },
           "yaxis": {
            "backgroundcolor": "#E5ECF6",
            "gridcolor": "white",
            "gridwidth": 2,
            "linecolor": "white",
            "showbackground": true,
            "ticks": "",
            "zerolinecolor": "white"
           },
           "zaxis": {
            "backgroundcolor": "#E5ECF6",
            "gridcolor": "white",
            "gridwidth": 2,
            "linecolor": "white",
            "showbackground": true,
            "ticks": "",
            "zerolinecolor": "white"
           }
          },
          "shapedefaults": {
           "line": {
            "color": "#2a3f5f"
           }
          },
          "ternary": {
           "aaxis": {
            "gridcolor": "white",
            "linecolor": "white",
            "ticks": ""
           },
           "baxis": {
            "gridcolor": "white",
            "linecolor": "white",
            "ticks": ""
           },
           "bgcolor": "#E5ECF6",
           "caxis": {
            "gridcolor": "white",
            "linecolor": "white",
            "ticks": ""
           }
          },
          "title": {
           "x": 0.05
          },
          "xaxis": {
           "automargin": true,
           "gridcolor": "white",
           "linecolor": "white",
           "ticks": "",
           "title": {
            "standoff": 15
           },
           "zerolinecolor": "white",
           "zerolinewidth": 2
          },
          "yaxis": {
           "automargin": true,
           "gridcolor": "white",
           "linecolor": "white",
           "ticks": "",
           "title": {
            "standoff": 15
           },
           "zerolinecolor": "white",
           "zerolinewidth": 2
          }
         }
        },
        "xaxis": {
         "anchor": "y",
         "autorange": true,
         "domain": [
          0,
          1
         ],
         "range": [
          2,
          62
         ],
         "title": {
          "text": "x"
         },
         "type": "linear"
        },
        "yaxis": {
         "anchor": "x",
         "autorange": true,
         "domain": [
          0,
          1
         ],
         "range": [
          92.10928961748633,
          100.4153005464481
         ],
         "title": {
          "text": "y"
         },
         "type": "linear"
        }
       }
      },
      "image/png": "[encoded data removed]",
      "text/html": [
       "<div>                            <div id=\"e22a904e-b028-494b-9f71-e656ecb4f99a\" class=\"plotly-graph-div\" style=\"height:525px; width:100%;\"></div>            <script type=\"text/javascript\">                require([\"plotly\"], function(Plotly) {                    window.PLOTLYENV=window.PLOTLYENV || {};                                    if (document.getElementById(\"e22a904e-b028-494b-9f71-e656ecb4f99a\")) {                    Plotly.newPlot(                        \"e22a904e-b028-494b-9f71-e656ecb4f99a\",                        [{\"hovertemplate\":\"x=%{x}<br>y=%{y}<extra></extra>\",\"legendgroup\":\"\",\"line\":{\"color\":\"#636efa\",\"dash\":\"solid\"},\"marker\":{\"symbol\":\"circle\"},\"mode\":\"lines\",\"name\":\"\",\"orientation\":\"v\",\"showlegend\":false,\"x\":[2,3,4,5,6,7,8,9,10,11,12,13,14,15,16,17,18,19,20,21,22,23,24,25,26,27,28,29,30,31,32,33,34,35,36,37,38,39,40,41,42,43,44,45,46,47,48,49,50,51,52,53,54,55,56,57,58,59,60,61,62],\"xaxis\":\"x\",\"y\":[98.4865150713908,100.0,100.0,94.3532522474881,94.57218402961396,93.58223162347964,92.52459016393442,93.37176097303015,92.98360655737704,92.83130618720254,92.98043363299841,93.3823373876256,93.62982548915917,93.84981491274458,93.79270227392914,94.15335801163405,94.34056054997356,94.15335801163405,94.6292966684294,94.73823373876256,94.92437863564251,95.08619777895294,95.04706504494976,95.30830248545743,95.65732416710735,95.87308302485458,96.07826546800635,96.32152300370174,96.45161290322581,96.62718138551031,96.83024854574299,97.06398730830249,97.19725013220518,97.30089899524062,97.5272342675833,97.64992067689053,97.84452670544685,97.86567953463776,98.14172395557905,98.27075621364358,98.3670015864622,98.46959280803807,98.56266525647806,98.67689053410894,98.76150185087255,98.86620835536753,98.97197250132206,99.06081438392386,99.18032786885246,99.26282390269698,99.36012691697515,99.43733474352194,99.49338974087784,99.57059756742464,99.64569011105236,99.7028027498678,99.7778952934955,99.83500793231094,99.89212057112638,99.94711792702275,100.0],\"yaxis\":\"y\",\"type\":\"scatter\"}],                        {\"template\":{\"data\":{\"histogram2dcontour\":[{\"type\":\"histogram2dcontour\",\"colorbar\":{\"outlinewidth\":0,\"ticks\":\"\"},\"colorscale\":[[0.0,\"#0d0887\"],[0.1111111111111111,\"#46039f\"],[0.2222222222222222,\"#7201a8\"],[0.3333333333333333,\"#9c179e\"],[0.4444444444444444,\"#bd3786\"],[0.5555555555555556,\"#d8576b\"],[0.6666666666666666,\"#ed7953\"],[0.7777777777777778,\"#fb9f3a\"],[0.8888888888888888,\"#fdca26\"],[1.0,\"#f0f921\"]]}],\"choropleth\":[{\"type\":\"choropleth\",\"colorbar\":{\"outlinewidth\":0,\"ticks\":\"\"}}],\"histogram2d\":[{\"type\":\"histogram2d\",\"colorbar\":{\"outlinewidth\":0,\"ticks\":\"\"},\"colorscale\":[[0.0,\"#0d0887\"],[0.1111111111111111,\"#46039f\"],[0.2222222222222222,\"#7201a8\"],[0.3333333333333333,\"#9c179e\"],[0.4444444444444444,\"#bd3786\"],[0.5555555555555556,\"#d8576b\"],[0.6666666666666666,\"#ed7953\"],[0.7777777777777778,\"#fb9f3a\"],[0.8888888888888888,\"#fdca26\"],[1.0,\"#f0f921\"]]}],\"heatmap\":[{\"type\":\"heatmap\",\"colorbar\":{\"outlinewidth\":0,\"ticks\":\"\"},\"colorscale\":[[0.0,\"#0d0887\"],[0.1111111111111111,\"#46039f\"],[0.2222222222222222,\"#7201a8\"],[0.3333333333333333,\"#9c179e\"],[0.4444444444444444,\"#bd3786\"],[0.5555555555555556,\"#d8576b\"],[0.6666666666666666,\"#ed7953\"],[0.7777777777777778,\"#fb9f3a\"],[0.8888888888888888,\"#fdca26\"],[1.0,\"#f0f921\"]]}],\"heatmapgl\":[{\"type\":\"heatmapgl\",\"colorbar\":{\"outlinewidth\":0,\"ticks\":\"\"},\"colorscale\":[[0.0,\"#0d0887\"],[0.1111111111111111,\"#46039f\"],[0.2222222222222222,\"#7201a8\"],[0.3333333333333333,\"#9c179e\"],[0.4444444444444444,\"#bd3786\"],[0.5555555555555556,\"#d8576b\"],[0.6666666666666666,\"#ed7953\"],[0.7777777777777778,\"#fb9f3a\"],[0.8888888888888888,\"#fdca26\"],[1.0,\"#f0f921\"]]}],\"contourcarpet\":[{\"type\":\"contourcarpet\",\"colorbar\":{\"outlinewidth\":0,\"ticks\":\"\"}}],\"contour\":[{\"type\":\"contour\",\"colorbar\":{\"outlinewidth\":0,\"ticks\":\"\"},\"colorscale\":[[0.0,\"#0d0887\"],[0.1111111111111111,\"#46039f\"],[0.2222222222222222,\"#7201a8\"],[0.3333333333333333,\"#9c179e\"],[0.4444444444444444,\"#bd3786\"],[0.5555555555555556,\"#d8576b\"],[0.6666666666666666,\"#ed7953\"],[0.7777777777777778,\"#fb9f3a\"],[0.8888888888888888,\"#fdca26\"],[1.0,\"#f0f921\"]]}],\"surface\":[{\"type\":\"surface\",\"colorbar\":{\"outlinewidth\":0,\"ticks\":\"\"},\"colorscale\":[[0.0,\"#0d0887\"],[0.1111111111111111,\"#46039f\"],[0.2222222222222222,\"#7201a8\"],[0.3333333333333333,\"#9c179e\"],[0.4444444444444444,\"#bd3786\"],[0.5555555555555556,\"#d8576b\"],[0.6666666666666666,\"#ed7953\"],[0.7777777777777778,\"#fb9f3a\"],[0.8888888888888888,\"#fdca26\"],[1.0,\"#f0f921\"]]}],\"mesh3d\":[{\"type\":\"mesh3d\",\"colorbar\":{\"outlinewidth\":0,\"ticks\":\"\"}}],\"scatter\":[{\"fillpattern\":{\"fillmode\":\"overlay\",\"size\":10,\"solidity\":0.2},\"type\":\"scatter\"}],\"parcoords\":[{\"type\":\"parcoords\",\"line\":{\"colorbar\":{\"outlinewidth\":0,\"ticks\":\"\"}}}],\"scatterpolargl\":[{\"type\":\"scatterpolargl\",\"marker\":{\"colorbar\":{\"outlinewidth\":0,\"ticks\":\"\"}}}],\"bar\":[{\"error_x\":{\"color\":\"#2a3f5f\"},\"error_y\":{\"color\":\"#2a3f5f\"},\"marker\":{\"line\":{\"color\":\"#E5ECF6\",\"width\":0.5},\"pattern\":{\"fillmode\":\"overlay\",\"size\":10,\"solidity\":0.2}},\"type\":\"bar\"}],\"scattergeo\":[{\"type\":\"scattergeo\",\"marker\":{\"colorbar\":{\"outlinewidth\":0,\"ticks\":\"\"}}}],\"scatterpolar\":[{\"type\":\"scatterpolar\",\"marker\":{\"colorbar\":{\"outlinewidth\":0,\"ticks\":\"\"}}}],\"histogram\":[{\"marker\":{\"pattern\":{\"fillmode\":\"overlay\",\"size\":10,\"solidity\":0.2}},\"type\":\"histogram\"}],\"scattergl\":[{\"type\":\"scattergl\",\"marker\":{\"colorbar\":{\"outlinewidth\":0,\"ticks\":\"\"}}}],\"scatter3d\":[{\"type\":\"scatter3d\",\"line\":{\"colorbar\":{\"outlinewidth\":0,\"ticks\":\"\"}},\"marker\":{\"colorbar\":{\"outlinewidth\":0,\"ticks\":\"\"}}}],\"scattermapbox\":[{\"type\":\"scattermapbox\",\"marker\":{\"colorbar\":{\"outlinewidth\":0,\"ticks\":\"\"}}}],\"scatterternary\":[{\"type\":\"scatterternary\",\"marker\":{\"colorbar\":{\"outlinewidth\":0,\"ticks\":\"\"}}}],\"scattercarpet\":[{\"type\":\"scattercarpet\",\"marker\":{\"colorbar\":{\"outlinewidth\":0,\"ticks\":\"\"}}}],\"carpet\":[{\"aaxis\":{\"endlinecolor\":\"#2a3f5f\",\"gridcolor\":\"white\",\"linecolor\":\"white\",\"minorgridcolor\":\"white\",\"startlinecolor\":\"#2a3f5f\"},\"baxis\":{\"endlinecolor\":\"#2a3f5f\",\"gridcolor\":\"white\",\"linecolor\":\"white\",\"minorgridcolor\":\"white\",\"startlinecolor\":\"#2a3f5f\"},\"type\":\"carpet\"}],\"table\":[{\"cells\":{\"fill\":{\"color\":\"#EBF0F8\"},\"line\":{\"color\":\"white\"}},\"header\":{\"fill\":{\"color\":\"#C8D4E3\"},\"line\":{\"color\":\"white\"}},\"type\":\"table\"}],\"barpolar\":[{\"marker\":{\"line\":{\"color\":\"#E5ECF6\",\"width\":0.5},\"pattern\":{\"fillmode\":\"overlay\",\"size\":10,\"solidity\":0.2}},\"type\":\"barpolar\"}],\"pie\":[{\"automargin\":true,\"type\":\"pie\"}]},\"layout\":{\"autotypenumbers\":\"strict\",\"colorway\":[\"#636efa\",\"#EF553B\",\"#00cc96\",\"#ab63fa\",\"#FFA15A\",\"#19d3f3\",\"#FF6692\",\"#B6E880\",\"#FF97FF\",\"#FECB52\"],\"font\":{\"color\":\"#2a3f5f\"},\"hovermode\":\"closest\",\"hoverlabel\":{\"align\":\"left\"},\"paper_bgcolor\":\"white\",\"plot_bgcolor\":\"#E5ECF6\",\"polar\":{\"bgcolor\":\"#E5ECF6\",\"angularaxis\":{\"gridcolor\":\"white\",\"linecolor\":\"white\",\"ticks\":\"\"},\"radialaxis\":{\"gridcolor\":\"white\",\"linecolor\":\"white\",\"ticks\":\"\"}},\"ternary\":{\"bgcolor\":\"#E5ECF6\",\"aaxis\":{\"gridcolor\":\"white\",\"linecolor\":\"white\",\"ticks\":\"\"},\"baxis\":{\"gridcolor\":\"white\",\"linecolor\":\"white\",\"ticks\":\"\"},\"caxis\":{\"gridcolor\":\"white\",\"linecolor\":\"white\",\"ticks\":\"\"}},\"coloraxis\":{\"colorbar\":{\"outlinewidth\":0,\"ticks\":\"\"}},\"colorscale\":{\"sequential\":[[0.0,\"#0d0887\"],[0.1111111111111111,\"#46039f\"],[0.2222222222222222,\"#7201a8\"],[0.3333333333333333,\"#9c179e\"],[0.4444444444444444,\"#bd3786\"],[0.5555555555555556,\"#d8576b\"],[0.6666666666666666,\"#ed7953\"],[0.7777777777777778,\"#fb9f3a\"],[0.8888888888888888,\"#fdca26\"],[1.0,\"#f0f921\"]],\"sequentialminus\":[[0.0,\"#0d0887\"],[0.1111111111111111,\"#46039f\"],[0.2222222222222222,\"#7201a8\"],[0.3333333333333333,\"#9c179e\"],[0.4444444444444444,\"#bd3786\"],[0.5555555555555556,\"#d8576b\"],[0.6666666666666666,\"#ed7953\"],[0.7777777777777778,\"#fb9f3a\"],[0.8888888888888888,\"#fdca26\"],[1.0,\"#f0f921\"]],\"diverging\":[[0,\"#8e0152\"],[0.1,\"#c51b7d\"],[0.2,\"#de77ae\"],[0.3,\"#f1b6da\"],[0.4,\"#fde0ef\"],[0.5,\"#f7f7f7\"],[0.6,\"#e6f5d0\"],[0.7,\"#b8e186\"],[0.8,\"#7fbc41\"],[0.9,\"#4d9221\"],[1,\"#276419\"]]},\"xaxis\":{\"gridcolor\":\"white\",\"linecolor\":\"white\",\"ticks\":\"\",\"title\":{\"standoff\":15},\"zerolinecolor\":\"white\",\"automargin\":true,\"zerolinewidth\":2},\"yaxis\":{\"gridcolor\":\"white\",\"linecolor\":\"white\",\"ticks\":\"\",\"title\":{\"standoff\":15},\"zerolinecolor\":\"white\",\"automargin\":true,\"zerolinewidth\":2},\"scene\":{\"xaxis\":{\"backgroundcolor\":\"#E5ECF6\",\"gridcolor\":\"white\",\"linecolor\":\"white\",\"showbackground\":true,\"ticks\":\"\",\"zerolinecolor\":\"white\",\"gridwidth\":2},\"yaxis\":{\"backgroundcolor\":\"#E5ECF6\",\"gridcolor\":\"white\",\"linecolor\":\"white\",\"showbackground\":true,\"ticks\":\"\",\"zerolinecolor\":\"white\",\"gridwidth\":2},\"zaxis\":{\"backgroundcolor\":\"#E5ECF6\",\"gridcolor\":\"white\",\"linecolor\":\"white\",\"showbackground\":true,\"ticks\":\"\",\"zerolinecolor\":\"white\",\"gridwidth\":2}},\"shapedefaults\":{\"line\":{\"color\":\"#2a3f5f\"}},\"annotationdefaults\":{\"arrowcolor\":\"#2a3f5f\",\"arrowhead\":0,\"arrowwidth\":1},\"geo\":{\"bgcolor\":\"white\",\"landcolor\":\"#E5ECF6\",\"subunitcolor\":\"white\",\"showland\":true,\"showlakes\":true,\"lakecolor\":\"white\"},\"title\":{\"x\":0.05},\"mapbox\":{\"style\":\"light\"}}},\"xaxis\":{\"anchor\":\"y\",\"domain\":[0.0,1.0],\"title\":{\"text\":\"x\"}},\"yaxis\":{\"anchor\":\"x\",\"domain\":[0.0,1.0],\"title\":{\"text\":\"y\"}},\"legend\":{\"tracegroupgap\":0},\"margin\":{\"t\":60}},                        {\"responsive\": true}                    ).then(function(){\n",
       "                            \n",
       "var gd = document.getElementById('e22a904e-b028-494b-9f71-e656ecb4f99a');\n",
       "var x = new MutationObserver(function (mutations, observer) {{\n",
       "        var display = window.getComputedStyle(gd).display;\n",
       "        if (!display || display === 'none') {{\n",
       "            console.log([gd, 'removed!']);\n",
       "            Plotly.purge(gd);\n",
       "            observer.disconnect();\n",
       "        }}\n",
       "}});\n",
       "\n",
       "// Listen for the removal of the full notebook cells\n",
       "var notebookContainer = gd.closest('#notebook-container');\n",
       "if (notebookContainer) {{\n",
       "    x.observe(notebookContainer, {childList: true});\n",
       "}}\n",
       "\n",
       "// Listen for the clearing of the current output cell\n",
       "var outputEl = gd.closest('.output');\n",
       "if (outputEl) {{\n",
       "    x.observe(outputEl, {childList: true});\n",
       "}}\n",
       "\n",
       "                        })                };                });            </script>        </div>"
      ]
     },
     "metadata": {},
     "output_type": "display_data"
    }
   ],
   "source": [
    "# Plot percent of draws the same for each number of clusters\n",
    "px.line(x = num_clust, y = pct_same)"
   ]
  }
 ],
 "metadata": {
  "kernelspec": {
   "display_name": "Python 3 (ipykernel)",
   "language": "python",
   "name": "python3"
  },
  "language_info": {
   "codemirror_mode": {
    "name": "ipython",
    "version": 3
   },
   "file_extension": ".py",
   "mimetype": "text/x-python",
   "name": "python",
   "nbconvert_exporter": "python",
   "pygments_lexer": "ipython3",
   "version": "3.9.13"
  }
 },
 "nbformat": 4,
 "nbformat_minor": 5
}
