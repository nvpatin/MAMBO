{
 "cells": [
  {
   "cell_type": "code",
   "execution_count": null,
   "id": "3429b9ce-4dc1-4d41-b686-45db2d8d55f3",
   "metadata": {},
   "outputs": [],
   "source": [
    "#loadings_df = xr.DataArray(loadings).to_dataframe(\"loading\").reset_index()\n",
    "#loadings_df = loadings_df.rename(columns = {\n",
    "#    \"dim_0\": \"ASV\",\n",
    "#    \"dim_1\": \"PC\",\n",
    "#    \"dim_2\": \"replicate\"\n",
    "#})"
   ]
  }
 ],
 "metadata": {
  "kernelspec": {
   "display_name": "Python 3 (ipykernel)",
   "language": "python",
   "name": "python3"
  },
  "language_info": {
   "codemirror_mode": {
    "name": "ipython",
    "version": 3
   },
   "file_extension": ".py",
   "mimetype": "text/x-python",
   "name": "python",
   "nbconvert_exporter": "python",
   "pygments_lexer": "ipython3",
   "version": "3.10.4"
  }
 },
 "nbformat": 4,
 "nbformat_minor": 5
}
