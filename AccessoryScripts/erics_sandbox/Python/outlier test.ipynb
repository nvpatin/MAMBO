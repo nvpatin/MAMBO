{
 "cells": [
  {
   "cell_type": "code",
   "execution_count": null,
   "id": "a8f1c37d-02b2-40ce-8cad-a611cb885d1e",
   "metadata": {},
   "outputs": [],
   "source": [
    "import pandas as pd\n",
    "import MarineDNA as md\n",
    "import seaborn as sn"
   ]
  },
  {
   "cell_type": "code",
   "execution_count": null,
   "id": "323f9e6b-0570-4c2c-b2b7-b32563c0d7e9",
   "metadata": {},
   "outputs": [],
   "source": [
    "file1 = \"../../../Data/Flyer2018_16S_table_counts.tsv\"\n",
    "asvs1 = pd.read_csv(file1, index_col=0, sep=\"\\t\").transpose()"
   ]
  },
  {
   "cell_type": "code",
   "execution_count": null,
   "id": "44fd7d8a-c80e-42c2-a183-2d9fc87c94a9",
   "metadata": {},
   "outputs": [],
   "source": [
    "asv_PCAs = md.samplePCA"
   ]
  }
 ],
 "metadata": {
  "kernelspec": {
   "display_name": "Python 3 (ipykernel)",
   "language": "python",
   "name": "python3"
  },
  "language_info": {
   "codemirror_mode": {
    "name": "ipython",
    "version": 3
   },
   "file_extension": ".py",
   "mimetype": "text/x-python",
   "name": "python",
   "nbconvert_exporter": "python",
   "pygments_lexer": "ipython3",
   "version": "3.10.4"
  }
 },
 "nbformat": 4,
 "nbformat_minor": 5
}
