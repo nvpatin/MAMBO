{
 "cells": [
  {
   "cell_type": "code",
   "execution_count": 1,
   "id": "hourly-stand",
   "metadata": {},
   "outputs": [],
   "source": [
    "import numpy as np\n",
    "import random as ran\n",
    "import pandas as pd\n",
    "import MarineDNA as md"
   ]
  },
  {
   "cell_type": "code",
   "execution_count": 2,
   "id": "lasting-bridal",
   "metadata": {},
   "outputs": [
    {
     "name": "stdout",
     "output_type": "stream",
     "text": [
      "[[2 0 0 3 1 1]\n",
      " [3 0 0 0 1 2]\n",
      " [1 0 4 1 3 4]\n",
      " [3 4 0 0 1 0]]\n"
     ]
    }
   ],
   "source": [
    "test_mat = np.random.randint(5, size=(4, 6))\n",
    "print(test_mat)"
   ]
  },
  {
   "cell_type": "code",
   "execution_count": 21,
   "id": "rubber-element",
   "metadata": {},
   "outputs": [
    {
     "name": "stdout",
     "output_type": "stream",
     "text": [
      "[[0.2902853  0.06392156 0.0310967  0.39356876 0.18128368 0.32258142]\n",
      " [0.67696038 0.12933805 0.20136052 0.08313684 0.20797874 0.52549496]\n",
      " [0.22844493 0.01844587 0.37488862 0.09611282 0.13082023 0.48697718]\n",
      " [0.51783192 0.90809957 0.00184527 0.16610135 0.07877439 0.06655679]]\n"
     ]
    }
   ],
   "source": [
    "print(md.ranRelPct(test_mat))"
   ]
  },
  {
   "cell_type": "code",
   "execution_count": 4,
   "id": "e54d2c48",
   "metadata": {},
   "outputs": [],
   "source": [
    "df = pd.DataFrame(test_mat)"
   ]
  },
  {
   "cell_type": "code",
   "execution_count": 5,
   "id": "8c1702ac",
   "metadata": {},
   "outputs": [
    {
     "name": "stdout",
     "output_type": "stream",
     "text": [
      "   0  1  2  3  4  5\n",
      "0  2  0  0  3  1  1\n",
      "1  3  0  0  0  1  2\n",
      "2  1  0  4  1  3  4\n",
      "3  3  4  0  0  1  0\n"
     ]
    }
   ],
   "source": [
    "print(df)"
   ]
  },
  {
   "cell_type": "code",
   "execution_count": 13,
   "id": "348c395c",
   "metadata": {},
   "outputs": [
    {
     "name": "stdout",
     "output_type": "stream",
     "text": [
      "0    [0.1955907802857973, 0.11888775242639107, 0.05...\n",
      "1    [0.22029673694935106, 0.14253960633528076, 0.0...\n",
      "2    [0.011374493561834176, 0.02442120490548283, 0....\n",
      "3    [0.2904538825651229, 0.29808874822032316, 0.31...\n",
      "dtype: object\n"
     ]
    }
   ],
   "source": [
    "print(md.ranRelPct_df(df))"
   ]
  }
 ],
 "metadata": {
  "kernelspec": {
   "display_name": "Python 3 (ipykernel)",
   "language": "python",
   "name": "python3"
  },
  "language_info": {
   "codemirror_mode": {
    "name": "ipython",
    "version": 3
   },
   "file_extension": ".py",
   "mimetype": "text/x-python",
   "name": "python",
   "nbconvert_exporter": "python",
   "pygments_lexer": "ipython3",
   "version": "3.10.4"
  }
 },
 "nbformat": 4,
 "nbformat_minor": 5
}
