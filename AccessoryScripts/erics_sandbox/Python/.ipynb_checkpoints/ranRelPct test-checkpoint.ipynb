{
 "cells": [
  {
   "cell_type": "code",
   "execution_count": 1,
   "id": "thousand-architect",
   "metadata": {},
   "outputs": [],
   "source": [
    "import numpy as np\n",
    "import random as ran"
   ]
  },
  {
   "cell_type": "code",
   "execution_count": 2,
   "id": "cooperative-walter",
   "metadata": {},
   "outputs": [],
   "source": [
    "def ranRelPct(mat):\n",
    "    def drawOneSample(x, total):\n",
    "        a = x + 1\n",
    "        return ran.betavariate(a, total - a)\n",
    "    p = [[drawOneSample(count, sum(row)) for count in row] for row in mat]\n",
    "    return(np.array(p))"
   ]
  },
  {
   "cell_type": "code",
   "execution_count": 3,
   "id": "leading-placement",
   "metadata": {},
   "outputs": [
    {
     "name": "stdout",
     "output_type": "stream",
     "text": [
      "[[1 4 2 2 1 3]\n",
      " [3 2 1 2 0 4]\n",
      " [1 3 0 4 4 1]\n",
      " [0 0 2 3 2 3]]\n"
     ]
    }
   ],
   "source": [
    "test_mat = np.random.randint(5, size=(4, 6))\n",
    "print(test_mat)"
   ]
  },
  {
   "cell_type": "code",
   "execution_count": 4,
   "id": "israeli-tribune",
   "metadata": {},
   "outputs": [
    {
     "name": "stdout",
     "output_type": "stream",
     "text": [
      "[[0.02215847 0.20772292 0.11150548 0.22896422 0.18222165 0.26166769]\n",
      " [0.46850784 0.1377576  0.03174368 0.11493895 0.07403955 0.31767568]\n",
      " [0.2163535  0.26456268 0.09748975 0.27022045 0.48984637 0.08342606]\n",
      " [0.05449031 0.07054225 0.33453946 0.78536266 0.12928457 0.12326267]]\n"
     ]
    }
   ],
   "source": [
    "print(ranRelPct(test_mat))"
   ]
  }
 ],
 "metadata": {
  "kernelspec": {
   "display_name": "Python 3",
   "language": "python",
   "name": "python3"
  },
  "language_info": {
   "codemirror_mode": {
    "name": "ipython",
    "version": 3
   },
   "file_extension": ".py",
   "mimetype": "text/x-python",
   "name": "python",
   "nbconvert_exporter": "python",
   "pygments_lexer": "ipython3",
   "version": "3.8.3"
  }
 },
 "nbformat": 4,
 "nbformat_minor": 5
}
