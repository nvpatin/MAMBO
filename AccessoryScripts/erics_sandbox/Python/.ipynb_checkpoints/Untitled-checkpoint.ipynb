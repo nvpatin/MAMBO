{
 "cells": [
  {
   "cell_type": "code",
   "execution_count": null,
   "id": "58ba4720-76d2-4690-a4c0-b57c38e4d48f",
   "metadata": {},
   "outputs": [],
   "source": [
    "import pandas as pd\n",
    "import MarineDNA as md\n",
    "import seaborn as sn\n",
    "import numpy as np"
   ]
  },
  {
   "cell_type": "code",
   "execution_count": null,
   "id": "00cfa49e-d58d-401e-a030-b9f3aa6b6855",
   "metadata": {},
   "outputs": [],
   "source": [
    "file1 = \"../../../Data/Flyer2018_16S_table_counts.tsv\"\n",
    "asvs1 = pd.read_csv(file1, index_col=0, sep=\"\\t\")"
   ]
  },
  {
   "cell_type": "code",
   "execution_count": null,
   "id": "213cfe62-bfe3-4ac6-9354-c7e13a50b450",
   "metadata": {},
   "outputs": [],
   "source": [
    "ran_sample = ranRelPct_new(asvs1)\n",
    "ran_sample.head()"
   ]
  }
 ],
 "metadata": {
  "kernelspec": {
   "display_name": "Python 3 (ipykernel)",
   "language": "python",
   "name": "python3"
  },
  "language_info": {
   "codemirror_mode": {
    "name": "ipython",
    "version": 3
   },
   "file_extension": ".py",
   "mimetype": "text/x-python",
   "name": "python",
   "nbconvert_exporter": "python",
   "pygments_lexer": "ipython3",
   "version": "3.10.4"
  }
 },
 "nbformat": 4,
 "nbformat_minor": 5
}
