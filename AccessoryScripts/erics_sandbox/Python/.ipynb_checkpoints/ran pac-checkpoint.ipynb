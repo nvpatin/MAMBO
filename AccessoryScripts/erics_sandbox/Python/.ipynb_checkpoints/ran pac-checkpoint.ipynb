{
 "cells": [
  {
   "cell_type": "code",
   "execution_count": null,
   "id": "17ba5b9f",
   "metadata": {},
   "outputs": [],
   "source": [
    "import pandas as pd\n",
    "import numpy as np\n",
    "import MarineDNA as md"
   ]
  },
  {
   "cell_type": "code",
   "execution_count": null,
   "id": "e684d8a0",
   "metadata": {},
   "outputs": [],
   "source": [
    "counts16s = pd.read_csv(r\"../../../Data/Flyer2018_16S_table_counts.tsv\", sep = '\\t', index_col = [0]).transpose()\n",
    "\n",
    "counts16s"
   ]
  },
  {
   "cell_type": "markdown",
   "id": "77e4dc95",
   "metadata": {},
   "source": [
    "Draw an example relative percent occurrence matrix"
   ]
  },
  {
   "cell_type": "code",
   "execution_count": null,
   "id": "1f26dee9",
   "metadata": {},
   "outputs": [],
   "source": [
    "# p = md.ranRelPct(counts16s.to_numpy())"
   ]
  },
  {
   "cell_type": "markdown",
   "id": "4d088881",
   "metadata": {},
   "source": [
    "Subset original counts, draw relative percent matrix and convert to log-odds"
   ]
  },
  {
   "cell_type": "code",
   "execution_count": null,
   "id": "aabc127c",
   "metadata": {},
   "outputs": [],
   "source": [
    "test_counts = counts16s.iloc[:, 0:10]\n",
    "\n",
    "p = md.ranRelPct(test_counts.to_numpy())\n",
    "lo = np.log(p / (1 - p))"
   ]
  },
  {
   "cell_type": "markdown",
   "id": "aa902a00",
   "metadata": {},
   "source": [
    "Function to return PCA scores and loadings for random draw"
   ]
  },
  {
   "cell_type": "code",
   "execution_count": null,
   "id": "6205ee2c",
   "metadata": {},
   "outputs": [],
   "source": [
    "def ranPCA(mat):\n",
    "    p = md.ranRelPct(mat)\n",
    "    lo = np.log(p / (1 - p))\n",
    "    pca = PCA()\n",
    "    result = {\n",
    "        \"lo\": lo,\n",
    "        \"scores\": pca_fit.transform(lo),\n",
    "        \"loadings\": np.transpose(pca.fit(lo).components_)\n",
    "    }\n",
    "    return result"
   ]
  },
  {
   "cell_type": "markdown",
   "id": "4e08ac98",
   "metadata": {},
   "source": [
    "Run above function multiple times"
   ]
  },
  {
   "cell_type": "code",
   "execution_count": null,
   "id": "6d1d8dac",
   "metadata": {},
   "outputs": [],
   "source": [
    "x = [ranPCA(test_counts.to_numpy()) for i in range(5)]"
   ]
  },
  {
   "cell_type": "markdown",
   "id": "18d1c985",
   "metadata": {},
   "source": [
    "Change signs of loadings based on loading of first variable in first PCA"
   ]
  },
  {
   "cell_type": "code",
   "execution_count": null,
   "id": "59f1c02d",
   "metadata": {},
   "outputs": [],
   "source": [
    "first_sign = np.sign(x[0][\"loadings\"][0, ])\n",
    "\n",
    "for i in range(x):\n",
    "    if i == 0:\n",
    "        continue\n",
    "    "
   ]
  }
 ],
 "metadata": {
  "kernelspec": {
   "display_name": "Python 3 (ipykernel)",
   "language": "python",
   "name": "python3"
  },
  "language_info": {
   "codemirror_mode": {
    "name": "ipython",
    "version": 3
   },
   "file_extension": ".py",
   "mimetype": "text/x-python",
   "name": "python",
   "nbconvert_exporter": "python",
   "pygments_lexer": "ipython3",
   "version": "3.10.4"
  }
 },
 "nbformat": 4,
 "nbformat_minor": 5
}
