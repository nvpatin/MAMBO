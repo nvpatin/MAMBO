{
 "cells": [
  {
   "cell_type": "code",
   "execution_count": 1,
   "id": "significant-cornell",
   "metadata": {},
   "outputs": [],
   "source": [
    "import MarineDNA_RAPIDS as md\n",
    "import cudf\n",
    "import cupy as cp\n",
    "import cuml\n",
    "from cuml import AgglomerativeClustering as aggclust\n",
    "from cuml.decomposition import PCA\n",
    "import numpy as np\n",
    "import plotly.express as px\n",
    "\n",
    "%load_ext autoreload\n",
    "%autoreload 2\n",
    "\n",
    "#import pandas as pd\n",
    "#import sklearn as skl\n",
    "#from sklearn.cluster import AgglomerativeClustering"
   ]
  },
  {
   "cell_type": "code",
   "execution_count": 2,
   "id": "f5e32982-5d77-43e7-8aeb-d0d7f4b2717b",
   "metadata": {},
   "outputs": [],
   "source": [
    "file1 = \"../../../Data/Flyer2018_16S_table_counts.tsv\"\n",
    "asvs1 = cudf.read_csv(file1, index_col=0, sep=\"\\t\")"
   ]
  },
  {
   "cell_type": "code",
   "execution_count": 3,
   "id": "186e91cb-539f-49d3-857e-b0be36cf330d",
   "metadata": {},
   "outputs": [
    {
     "data": {
      "text/html": [
       "<div>\n",
       "<style scoped>\n",
       "    .dataframe tbody tr th:only-of-type {\n",
       "        vertical-align: middle;\n",
       "    }\n",
       "\n",
       "    .dataframe tbody tr th {\n",
       "        vertical-align: top;\n",
       "    }\n",
       "\n",
       "    .dataframe thead th {\n",
       "        text-align: right;\n",
       "    }\n",
       "</style>\n",
       "<table border=\"1\" class=\"dataframe\">\n",
       "  <thead>\n",
       "    <tr style=\"text-align: right;\">\n",
       "      <th></th>\n",
       "      <th>495c1bd1608a1dad54d3e2824ce899ef</th>\n",
       "      <th>a900b6678ce86851fb16bfafb87f3326</th>\n",
       "      <th>c8e360969108fa2125a3d56eb4dad24f</th>\n",
       "      <th>72143fd9e63fe40c1258948d2f0d79c3</th>\n",
       "      <th>7b6b178fad5599c0e9a734e4fb09fd64</th>\n",
       "      <th>4bbec3bb723375416616a87d785ac74a</th>\n",
       "      <th>0c35cfa523aa27921ef8544a16d1cd36</th>\n",
       "      <th>7ec69f2c62aad60e060e588ef687bdd0</th>\n",
       "      <th>61e9a50f4346bb3a5b16179b8eca71fa</th>\n",
       "      <th>a140195871278e8fcf9447e42bad8786</th>\n",
       "      <th>...</th>\n",
       "      <th>995cc65bcfa53a868c42615004e99ad3</th>\n",
       "      <th>46b90aab075ecd8e4db549da708550d8</th>\n",
       "      <th>c4e1933274329209b7cf24daf18dfe0d</th>\n",
       "      <th>aa9e141a5e2781d280406c513bf34d45</th>\n",
       "      <th>d7682f536589fc5f920533513dd0002b</th>\n",
       "      <th>674933a0d44342a0647f7a5b4591f26e</th>\n",
       "      <th>bebe1b9a7e9aaa78172c1208111f4570</th>\n",
       "      <th>0128431733f67d02efad766d717fe6fd</th>\n",
       "      <th>41102a7dd1f4647ba5477c947daabc0e</th>\n",
       "      <th>51440f89c391fb32f9ee895db22bf8f8</th>\n",
       "    </tr>\n",
       "  </thead>\n",
       "  <tbody>\n",
       "    <tr>\n",
       "      <th>CN18Fc12_8_eDNA</th>\n",
       "      <td>-2.403645</td>\n",
       "      <td>-3.496692</td>\n",
       "      <td>-3.727209</td>\n",
       "      <td>-4.187943</td>\n",
       "      <td>-3.801162</td>\n",
       "      <td>-4.803155</td>\n",
       "      <td>-9.052326</td>\n",
       "      <td>-4.320083</td>\n",
       "      <td>-3.431730</td>\n",
       "      <td>-4.194684</td>\n",
       "      <td>...</td>\n",
       "      <td>-9.119217</td>\n",
       "      <td>-8.399508</td>\n",
       "      <td>-9.483418</td>\n",
       "      <td>-7.640354</td>\n",
       "      <td>-9.159804</td>\n",
       "      <td>-9.329438</td>\n",
       "      <td>-8.576661</td>\n",
       "      <td>-9.891756</td>\n",
       "      <td>-10.557296</td>\n",
       "      <td>-7.829635</td>\n",
       "    </tr>\n",
       "    <tr>\n",
       "      <th>CN18Fc19_5_eDNA</th>\n",
       "      <td>-1.575974</td>\n",
       "      <td>-3.052707</td>\n",
       "      <td>-3.026556</td>\n",
       "      <td>-3.136238</td>\n",
       "      <td>-3.226363</td>\n",
       "      <td>-4.472141</td>\n",
       "      <td>-5.167275</td>\n",
       "      <td>-4.282305</td>\n",
       "      <td>-4.043360</td>\n",
       "      <td>-3.811418</td>\n",
       "      <td>...</td>\n",
       "      <td>-10.518419</td>\n",
       "      <td>-12.924056</td>\n",
       "      <td>-10.873013</td>\n",
       "      <td>-10.704024</td>\n",
       "      <td>-11.089179</td>\n",
       "      <td>-9.939172</td>\n",
       "      <td>-12.722249</td>\n",
       "      <td>-10.456014</td>\n",
       "      <td>-11.967450</td>\n",
       "      <td>-9.901321</td>\n",
       "    </tr>\n",
       "    <tr>\n",
       "      <th>CN18Fc21_6_eDNA</th>\n",
       "      <td>-1.885705</td>\n",
       "      <td>-3.114070</td>\n",
       "      <td>-3.235461</td>\n",
       "      <td>-3.223105</td>\n",
       "      <td>-3.597524</td>\n",
       "      <td>-4.367833</td>\n",
       "      <td>-4.574076</td>\n",
       "      <td>-4.007506</td>\n",
       "      <td>-3.729091</td>\n",
       "      <td>-3.963902</td>\n",
       "      <td>...</td>\n",
       "      <td>-11.193077</td>\n",
       "      <td>-9.981792</td>\n",
       "      <td>-12.480668</td>\n",
       "      <td>-12.183185</td>\n",
       "      <td>-11.699099</td>\n",
       "      <td>-9.989114</td>\n",
       "      <td>-10.423794</td>\n",
       "      <td>-11.169390</td>\n",
       "      <td>-11.365970</td>\n",
       "      <td>-9.812003</td>\n",
       "    </tr>\n",
       "    <tr>\n",
       "      <th>CN18Fc22_6_eDNA</th>\n",
       "      <td>-1.704987</td>\n",
       "      <td>-3.268448</td>\n",
       "      <td>-3.198817</td>\n",
       "      <td>-3.152957</td>\n",
       "      <td>-3.317004</td>\n",
       "      <td>-4.567326</td>\n",
       "      <td>-5.057135</td>\n",
       "      <td>-4.261689</td>\n",
       "      <td>-3.928141</td>\n",
       "      <td>-3.974796</td>\n",
       "      <td>...</td>\n",
       "      <td>-15.300472</td>\n",
       "      <td>-11.070850</td>\n",
       "      <td>-10.941014</td>\n",
       "      <td>-11.494262</td>\n",
       "      <td>-12.217405</td>\n",
       "      <td>-12.678232</td>\n",
       "      <td>-11.277525</td>\n",
       "      <td>-9.272199</td>\n",
       "      <td>-10.392376</td>\n",
       "      <td>-13.092275</td>\n",
       "    </tr>\n",
       "    <tr>\n",
       "      <th>CN18Fc24_6_eDNA</th>\n",
       "      <td>-1.895229</td>\n",
       "      <td>-3.421179</td>\n",
       "      <td>-3.117475</td>\n",
       "      <td>-3.140518</td>\n",
       "      <td>-3.366310</td>\n",
       "      <td>-4.228513</td>\n",
       "      <td>-5.071809</td>\n",
       "      <td>-4.117228</td>\n",
       "      <td>-3.779453</td>\n",
       "      <td>-4.127674</td>\n",
       "      <td>...</td>\n",
       "      <td>-11.842759</td>\n",
       "      <td>-10.242584</td>\n",
       "      <td>-13.322475</td>\n",
       "      <td>-11.099615</td>\n",
       "      <td>-13.208416</td>\n",
       "      <td>-13.690486</td>\n",
       "      <td>-12.347520</td>\n",
       "      <td>-15.046471</td>\n",
       "      <td>-10.430801</td>\n",
       "      <td>-12.245423</td>\n",
       "    </tr>\n",
       "    <tr>\n",
       "      <th>...</th>\n",
       "      <td>...</td>\n",
       "      <td>...</td>\n",
       "      <td>...</td>\n",
       "      <td>...</td>\n",
       "      <td>...</td>\n",
       "      <td>...</td>\n",
       "      <td>...</td>\n",
       "      <td>...</td>\n",
       "      <td>...</td>\n",
       "      <td>...</td>\n",
       "      <td>...</td>\n",
       "      <td>...</td>\n",
       "      <td>...</td>\n",
       "      <td>...</td>\n",
       "      <td>...</td>\n",
       "      <td>...</td>\n",
       "      <td>...</td>\n",
       "      <td>...</td>\n",
       "      <td>...</td>\n",
       "      <td>...</td>\n",
       "      <td>...</td>\n",
       "    </tr>\n",
       "    <tr>\n",
       "      <th>CN18SESPkoa_SC42</th>\n",
       "      <td>-3.073012</td>\n",
       "      <td>-1.612679</td>\n",
       "      <td>-6.982784</td>\n",
       "      <td>-6.126017</td>\n",
       "      <td>-6.321422</td>\n",
       "      <td>-4.481326</td>\n",
       "      <td>-3.037884</td>\n",
       "      <td>-5.641363</td>\n",
       "      <td>-6.242570</td>\n",
       "      <td>-5.319481</td>\n",
       "      <td>...</td>\n",
       "      <td>-12.364863</td>\n",
       "      <td>-10.690893</td>\n",
       "      <td>-11.318630</td>\n",
       "      <td>-10.405087</td>\n",
       "      <td>-11.997184</td>\n",
       "      <td>-10.127476</td>\n",
       "      <td>-11.050955</td>\n",
       "      <td>-12.104308</td>\n",
       "      <td>-15.741267</td>\n",
       "      <td>-12.601198</td>\n",
       "    </tr>\n",
       "    <tr>\n",
       "      <th>CN18SESPkoa_SC44</th>\n",
       "      <td>-6.065674</td>\n",
       "      <td>-4.767128</td>\n",
       "      <td>-4.838625</td>\n",
       "      <td>-4.835430</td>\n",
       "      <td>-4.806905</td>\n",
       "      <td>-3.192336</td>\n",
       "      <td>-7.822520</td>\n",
       "      <td>-3.455377</td>\n",
       "      <td>-5.417533</td>\n",
       "      <td>-9.477781</td>\n",
       "      <td>...</td>\n",
       "      <td>-12.317243</td>\n",
       "      <td>-11.996893</td>\n",
       "      <td>-11.186212</td>\n",
       "      <td>-11.755468</td>\n",
       "      <td>-7.924764</td>\n",
       "      <td>-10.032586</td>\n",
       "      <td>-12.341618</td>\n",
       "      <td>-8.159744</td>\n",
       "      <td>-9.846180</td>\n",
       "      <td>-9.429285</td>\n",
       "    </tr>\n",
       "    <tr>\n",
       "      <th>CN18SESPkoa_SC45</th>\n",
       "      <td>-3.181458</td>\n",
       "      <td>-1.621144</td>\n",
       "      <td>-7.540421</td>\n",
       "      <td>-6.202269</td>\n",
       "      <td>-6.801961</td>\n",
       "      <td>-5.100381</td>\n",
       "      <td>-2.891568</td>\n",
       "      <td>-6.187955</td>\n",
       "      <td>-6.295924</td>\n",
       "      <td>-5.673765</td>\n",
       "      <td>...</td>\n",
       "      <td>-11.908582</td>\n",
       "      <td>-10.198639</td>\n",
       "      <td>-13.243974</td>\n",
       "      <td>-10.377341</td>\n",
       "      <td>-10.650070</td>\n",
       "      <td>-11.207537</td>\n",
       "      <td>-10.043896</td>\n",
       "      <td>-10.609497</td>\n",
       "      <td>-10.544539</td>\n",
       "      <td>-10.845153</td>\n",
       "    </tr>\n",
       "    <tr>\n",
       "      <th>CN18SESPkoa_SC47</th>\n",
       "      <td>-3.514018</td>\n",
       "      <td>-1.696276</td>\n",
       "      <td>-7.564393</td>\n",
       "      <td>-6.073875</td>\n",
       "      <td>-6.765544</td>\n",
       "      <td>-5.335505</td>\n",
       "      <td>-3.145718</td>\n",
       "      <td>-6.488583</td>\n",
       "      <td>-6.696137</td>\n",
       "      <td>-5.669438</td>\n",
       "      <td>...</td>\n",
       "      <td>-11.757817</td>\n",
       "      <td>-11.656414</td>\n",
       "      <td>-11.909488</td>\n",
       "      <td>-13.510401</td>\n",
       "      <td>-10.553098</td>\n",
       "      <td>-11.374002</td>\n",
       "      <td>-12.311905</td>\n",
       "      <td>-10.436171</td>\n",
       "      <td>-12.307211</td>\n",
       "      <td>-10.896395</td>\n",
       "    </tr>\n",
       "    <tr>\n",
       "      <th>CN18SESPkoa_SC49</th>\n",
       "      <td>-3.323443</td>\n",
       "      <td>-1.676318</td>\n",
       "      <td>-7.367126</td>\n",
       "      <td>-6.693618</td>\n",
       "      <td>-6.992498</td>\n",
       "      <td>-5.169373</td>\n",
       "      <td>-3.039723</td>\n",
       "      <td>-6.676187</td>\n",
       "      <td>-6.524604</td>\n",
       "      <td>-5.539033</td>\n",
       "      <td>...</td>\n",
       "      <td>-10.185814</td>\n",
       "      <td>-9.852251</td>\n",
       "      <td>-9.453005</td>\n",
       "      <td>-9.749382</td>\n",
       "      <td>-10.560668</td>\n",
       "      <td>-11.935887</td>\n",
       "      <td>-12.761761</td>\n",
       "      <td>-11.727617</td>\n",
       "      <td>-10.649861</td>\n",
       "      <td>-11.064012</td>\n",
       "    </tr>\n",
       "  </tbody>\n",
       "</table>\n",
       "<p>62 rows × 2752 columns</p>\n",
       "</div>"
      ],
      "text/plain": [
       "                  495c1bd1608a1dad54d3e2824ce899ef  \\\n",
       "CN18Fc12_8_eDNA                          -2.403645   \n",
       "CN18Fc19_5_eDNA                          -1.575974   \n",
       "CN18Fc21_6_eDNA                          -1.885705   \n",
       "CN18Fc22_6_eDNA                          -1.704987   \n",
       "CN18Fc24_6_eDNA                          -1.895229   \n",
       "...                                            ...   \n",
       "CN18SESPkoa_SC42                         -3.073012   \n",
       "CN18SESPkoa_SC44                         -6.065674   \n",
       "CN18SESPkoa_SC45                         -3.181458   \n",
       "CN18SESPkoa_SC47                         -3.514018   \n",
       "CN18SESPkoa_SC49                         -3.323443   \n",
       "\n",
       "                  a900b6678ce86851fb16bfafb87f3326  \\\n",
       "CN18Fc12_8_eDNA                          -3.496692   \n",
       "CN18Fc19_5_eDNA                          -3.052707   \n",
       "CN18Fc21_6_eDNA                          -3.114070   \n",
       "CN18Fc22_6_eDNA                          -3.268448   \n",
       "CN18Fc24_6_eDNA                          -3.421179   \n",
       "...                                            ...   \n",
       "CN18SESPkoa_SC42                         -1.612679   \n",
       "CN18SESPkoa_SC44                         -4.767128   \n",
       "CN18SESPkoa_SC45                         -1.621144   \n",
       "CN18SESPkoa_SC47                         -1.696276   \n",
       "CN18SESPkoa_SC49                         -1.676318   \n",
       "\n",
       "                  c8e360969108fa2125a3d56eb4dad24f  \\\n",
       "CN18Fc12_8_eDNA                          -3.727209   \n",
       "CN18Fc19_5_eDNA                          -3.026556   \n",
       "CN18Fc21_6_eDNA                          -3.235461   \n",
       "CN18Fc22_6_eDNA                          -3.198817   \n",
       "CN18Fc24_6_eDNA                          -3.117475   \n",
       "...                                            ...   \n",
       "CN18SESPkoa_SC42                         -6.982784   \n",
       "CN18SESPkoa_SC44                         -4.838625   \n",
       "CN18SESPkoa_SC45                         -7.540421   \n",
       "CN18SESPkoa_SC47                         -7.564393   \n",
       "CN18SESPkoa_SC49                         -7.367126   \n",
       "\n",
       "                  72143fd9e63fe40c1258948d2f0d79c3  \\\n",
       "CN18Fc12_8_eDNA                          -4.187943   \n",
       "CN18Fc19_5_eDNA                          -3.136238   \n",
       "CN18Fc21_6_eDNA                          -3.223105   \n",
       "CN18Fc22_6_eDNA                          -3.152957   \n",
       "CN18Fc24_6_eDNA                          -3.140518   \n",
       "...                                            ...   \n",
       "CN18SESPkoa_SC42                         -6.126017   \n",
       "CN18SESPkoa_SC44                         -4.835430   \n",
       "CN18SESPkoa_SC45                         -6.202269   \n",
       "CN18SESPkoa_SC47                         -6.073875   \n",
       "CN18SESPkoa_SC49                         -6.693618   \n",
       "\n",
       "                  7b6b178fad5599c0e9a734e4fb09fd64  \\\n",
       "CN18Fc12_8_eDNA                          -3.801162   \n",
       "CN18Fc19_5_eDNA                          -3.226363   \n",
       "CN18Fc21_6_eDNA                          -3.597524   \n",
       "CN18Fc22_6_eDNA                          -3.317004   \n",
       "CN18Fc24_6_eDNA                          -3.366310   \n",
       "...                                            ...   \n",
       "CN18SESPkoa_SC42                         -6.321422   \n",
       "CN18SESPkoa_SC44                         -4.806905   \n",
       "CN18SESPkoa_SC45                         -6.801961   \n",
       "CN18SESPkoa_SC47                         -6.765544   \n",
       "CN18SESPkoa_SC49                         -6.992498   \n",
       "\n",
       "                  4bbec3bb723375416616a87d785ac74a  \\\n",
       "CN18Fc12_8_eDNA                          -4.803155   \n",
       "CN18Fc19_5_eDNA                          -4.472141   \n",
       "CN18Fc21_6_eDNA                          -4.367833   \n",
       "CN18Fc22_6_eDNA                          -4.567326   \n",
       "CN18Fc24_6_eDNA                          -4.228513   \n",
       "...                                            ...   \n",
       "CN18SESPkoa_SC42                         -4.481326   \n",
       "CN18SESPkoa_SC44                         -3.192336   \n",
       "CN18SESPkoa_SC45                         -5.100381   \n",
       "CN18SESPkoa_SC47                         -5.335505   \n",
       "CN18SESPkoa_SC49                         -5.169373   \n",
       "\n",
       "                  0c35cfa523aa27921ef8544a16d1cd36  \\\n",
       "CN18Fc12_8_eDNA                          -9.052326   \n",
       "CN18Fc19_5_eDNA                          -5.167275   \n",
       "CN18Fc21_6_eDNA                          -4.574076   \n",
       "CN18Fc22_6_eDNA                          -5.057135   \n",
       "CN18Fc24_6_eDNA                          -5.071809   \n",
       "...                                            ...   \n",
       "CN18SESPkoa_SC42                         -3.037884   \n",
       "CN18SESPkoa_SC44                         -7.822520   \n",
       "CN18SESPkoa_SC45                         -2.891568   \n",
       "CN18SESPkoa_SC47                         -3.145718   \n",
       "CN18SESPkoa_SC49                         -3.039723   \n",
       "\n",
       "                  7ec69f2c62aad60e060e588ef687bdd0  \\\n",
       "CN18Fc12_8_eDNA                          -4.320083   \n",
       "CN18Fc19_5_eDNA                          -4.282305   \n",
       "CN18Fc21_6_eDNA                          -4.007506   \n",
       "CN18Fc22_6_eDNA                          -4.261689   \n",
       "CN18Fc24_6_eDNA                          -4.117228   \n",
       "...                                            ...   \n",
       "CN18SESPkoa_SC42                         -5.641363   \n",
       "CN18SESPkoa_SC44                         -3.455377   \n",
       "CN18SESPkoa_SC45                         -6.187955   \n",
       "CN18SESPkoa_SC47                         -6.488583   \n",
       "CN18SESPkoa_SC49                         -6.676187   \n",
       "\n",
       "                  61e9a50f4346bb3a5b16179b8eca71fa  \\\n",
       "CN18Fc12_8_eDNA                          -3.431730   \n",
       "CN18Fc19_5_eDNA                          -4.043360   \n",
       "CN18Fc21_6_eDNA                          -3.729091   \n",
       "CN18Fc22_6_eDNA                          -3.928141   \n",
       "CN18Fc24_6_eDNA                          -3.779453   \n",
       "...                                            ...   \n",
       "CN18SESPkoa_SC42                         -6.242570   \n",
       "CN18SESPkoa_SC44                         -5.417533   \n",
       "CN18SESPkoa_SC45                         -6.295924   \n",
       "CN18SESPkoa_SC47                         -6.696137   \n",
       "CN18SESPkoa_SC49                         -6.524604   \n",
       "\n",
       "                  a140195871278e8fcf9447e42bad8786  ...  \\\n",
       "CN18Fc12_8_eDNA                          -4.194684  ...   \n",
       "CN18Fc19_5_eDNA                          -3.811418  ...   \n",
       "CN18Fc21_6_eDNA                          -3.963902  ...   \n",
       "CN18Fc22_6_eDNA                          -3.974796  ...   \n",
       "CN18Fc24_6_eDNA                          -4.127674  ...   \n",
       "...                                            ...  ...   \n",
       "CN18SESPkoa_SC42                         -5.319481  ...   \n",
       "CN18SESPkoa_SC44                         -9.477781  ...   \n",
       "CN18SESPkoa_SC45                         -5.673765  ...   \n",
       "CN18SESPkoa_SC47                         -5.669438  ...   \n",
       "CN18SESPkoa_SC49                         -5.539033  ...   \n",
       "\n",
       "                  995cc65bcfa53a868c42615004e99ad3  \\\n",
       "CN18Fc12_8_eDNA                          -9.119217   \n",
       "CN18Fc19_5_eDNA                         -10.518419   \n",
       "CN18Fc21_6_eDNA                         -11.193077   \n",
       "CN18Fc22_6_eDNA                         -15.300472   \n",
       "CN18Fc24_6_eDNA                         -11.842759   \n",
       "...                                            ...   \n",
       "CN18SESPkoa_SC42                        -12.364863   \n",
       "CN18SESPkoa_SC44                        -12.317243   \n",
       "CN18SESPkoa_SC45                        -11.908582   \n",
       "CN18SESPkoa_SC47                        -11.757817   \n",
       "CN18SESPkoa_SC49                        -10.185814   \n",
       "\n",
       "                  46b90aab075ecd8e4db549da708550d8  \\\n",
       "CN18Fc12_8_eDNA                          -8.399508   \n",
       "CN18Fc19_5_eDNA                         -12.924056   \n",
       "CN18Fc21_6_eDNA                          -9.981792   \n",
       "CN18Fc22_6_eDNA                         -11.070850   \n",
       "CN18Fc24_6_eDNA                         -10.242584   \n",
       "...                                            ...   \n",
       "CN18SESPkoa_SC42                        -10.690893   \n",
       "CN18SESPkoa_SC44                        -11.996893   \n",
       "CN18SESPkoa_SC45                        -10.198639   \n",
       "CN18SESPkoa_SC47                        -11.656414   \n",
       "CN18SESPkoa_SC49                         -9.852251   \n",
       "\n",
       "                  c4e1933274329209b7cf24daf18dfe0d  \\\n",
       "CN18Fc12_8_eDNA                          -9.483418   \n",
       "CN18Fc19_5_eDNA                         -10.873013   \n",
       "CN18Fc21_6_eDNA                         -12.480668   \n",
       "CN18Fc22_6_eDNA                         -10.941014   \n",
       "CN18Fc24_6_eDNA                         -13.322475   \n",
       "...                                            ...   \n",
       "CN18SESPkoa_SC42                        -11.318630   \n",
       "CN18SESPkoa_SC44                        -11.186212   \n",
       "CN18SESPkoa_SC45                        -13.243974   \n",
       "CN18SESPkoa_SC47                        -11.909488   \n",
       "CN18SESPkoa_SC49                         -9.453005   \n",
       "\n",
       "                  aa9e141a5e2781d280406c513bf34d45  \\\n",
       "CN18Fc12_8_eDNA                          -7.640354   \n",
       "CN18Fc19_5_eDNA                         -10.704024   \n",
       "CN18Fc21_6_eDNA                         -12.183185   \n",
       "CN18Fc22_6_eDNA                         -11.494262   \n",
       "CN18Fc24_6_eDNA                         -11.099615   \n",
       "...                                            ...   \n",
       "CN18SESPkoa_SC42                        -10.405087   \n",
       "CN18SESPkoa_SC44                        -11.755468   \n",
       "CN18SESPkoa_SC45                        -10.377341   \n",
       "CN18SESPkoa_SC47                        -13.510401   \n",
       "CN18SESPkoa_SC49                         -9.749382   \n",
       "\n",
       "                  d7682f536589fc5f920533513dd0002b  \\\n",
       "CN18Fc12_8_eDNA                          -9.159804   \n",
       "CN18Fc19_5_eDNA                         -11.089179   \n",
       "CN18Fc21_6_eDNA                         -11.699099   \n",
       "CN18Fc22_6_eDNA                         -12.217405   \n",
       "CN18Fc24_6_eDNA                         -13.208416   \n",
       "...                                            ...   \n",
       "CN18SESPkoa_SC42                        -11.997184   \n",
       "CN18SESPkoa_SC44                         -7.924764   \n",
       "CN18SESPkoa_SC45                        -10.650070   \n",
       "CN18SESPkoa_SC47                        -10.553098   \n",
       "CN18SESPkoa_SC49                        -10.560668   \n",
       "\n",
       "                  674933a0d44342a0647f7a5b4591f26e  \\\n",
       "CN18Fc12_8_eDNA                          -9.329438   \n",
       "CN18Fc19_5_eDNA                          -9.939172   \n",
       "CN18Fc21_6_eDNA                          -9.989114   \n",
       "CN18Fc22_6_eDNA                         -12.678232   \n",
       "CN18Fc24_6_eDNA                         -13.690486   \n",
       "...                                            ...   \n",
       "CN18SESPkoa_SC42                        -10.127476   \n",
       "CN18SESPkoa_SC44                        -10.032586   \n",
       "CN18SESPkoa_SC45                        -11.207537   \n",
       "CN18SESPkoa_SC47                        -11.374002   \n",
       "CN18SESPkoa_SC49                        -11.935887   \n",
       "\n",
       "                  bebe1b9a7e9aaa78172c1208111f4570  \\\n",
       "CN18Fc12_8_eDNA                          -8.576661   \n",
       "CN18Fc19_5_eDNA                         -12.722249   \n",
       "CN18Fc21_6_eDNA                         -10.423794   \n",
       "CN18Fc22_6_eDNA                         -11.277525   \n",
       "CN18Fc24_6_eDNA                         -12.347520   \n",
       "...                                            ...   \n",
       "CN18SESPkoa_SC42                        -11.050955   \n",
       "CN18SESPkoa_SC44                        -12.341618   \n",
       "CN18SESPkoa_SC45                        -10.043896   \n",
       "CN18SESPkoa_SC47                        -12.311905   \n",
       "CN18SESPkoa_SC49                        -12.761761   \n",
       "\n",
       "                  0128431733f67d02efad766d717fe6fd  \\\n",
       "CN18Fc12_8_eDNA                          -9.891756   \n",
       "CN18Fc19_5_eDNA                         -10.456014   \n",
       "CN18Fc21_6_eDNA                         -11.169390   \n",
       "CN18Fc22_6_eDNA                          -9.272199   \n",
       "CN18Fc24_6_eDNA                         -15.046471   \n",
       "...                                            ...   \n",
       "CN18SESPkoa_SC42                        -12.104308   \n",
       "CN18SESPkoa_SC44                         -8.159744   \n",
       "CN18SESPkoa_SC45                        -10.609497   \n",
       "CN18SESPkoa_SC47                        -10.436171   \n",
       "CN18SESPkoa_SC49                        -11.727617   \n",
       "\n",
       "                  41102a7dd1f4647ba5477c947daabc0e  \\\n",
       "CN18Fc12_8_eDNA                         -10.557296   \n",
       "CN18Fc19_5_eDNA                         -11.967450   \n",
       "CN18Fc21_6_eDNA                         -11.365970   \n",
       "CN18Fc22_6_eDNA                         -10.392376   \n",
       "CN18Fc24_6_eDNA                         -10.430801   \n",
       "...                                            ...   \n",
       "CN18SESPkoa_SC42                        -15.741267   \n",
       "CN18SESPkoa_SC44                         -9.846180   \n",
       "CN18SESPkoa_SC45                        -10.544539   \n",
       "CN18SESPkoa_SC47                        -12.307211   \n",
       "CN18SESPkoa_SC49                        -10.649861   \n",
       "\n",
       "                  51440f89c391fb32f9ee895db22bf8f8  \n",
       "CN18Fc12_8_eDNA                          -7.829635  \n",
       "CN18Fc19_5_eDNA                          -9.901321  \n",
       "CN18Fc21_6_eDNA                          -9.812003  \n",
       "CN18Fc22_6_eDNA                         -13.092275  \n",
       "CN18Fc24_6_eDNA                         -12.245423  \n",
       "...                                            ...  \n",
       "CN18SESPkoa_SC42                        -12.601198  \n",
       "CN18SESPkoa_SC44                         -9.429285  \n",
       "CN18SESPkoa_SC45                        -10.845153  \n",
       "CN18SESPkoa_SC47                        -10.896395  \n",
       "CN18SESPkoa_SC49                        -11.064012  \n",
       "\n",
       "[62 rows x 2752 columns]"
      ]
     },
     "execution_count": 3,
     "metadata": {},
     "output_type": "execute_result"
    }
   ],
   "source": [
    "# one random draw\n",
    "ran_lo = md.ranRelPct(asvs1)\n",
    "ran_lo"
   ]
  },
  {
   "cell_type": "code",
   "execution_count": 11,
   "id": "48ff2125-588d-4bdf-8cfb-e9dbaea4e8bd",
   "metadata": {},
   "outputs": [],
   "source": [
    "import pandas as pd"
   ]
  },
  {
   "cell_type": "code",
   "execution_count": 14,
   "id": "9fc93f31-2599-4d14-9b66-cb5622599a1d",
   "metadata": {},
   "outputs": [
    {
     "name": "stdout",
     "output_type": "stream",
     "text": [
      "['0' '0' '0' '0' '0' '0' '0' '0' '0' '0' '0' '0' '0' '0' '0' '0' '0' '0'\n",
      " '0' '0' '0' '0' '0' '0' '0' '0' '0' '0' '0' '0' '0' '0' '0' '0' '0' '0'\n",
      " '0' '0' '0' '0' '0' '0' '1' '1' '1' '1' '1' '0' '1' '0' '1' '0' '2' '1'\n",
      " '0' '1' '0' '1' '0' '1' '1' '1']\n",
      "\n",
      "   0   1\n",
      "0  0  48\n",
      "1  1  13\n",
      "2  2   1\n"
     ]
    }
   ],
   "source": [
    "# Hierarchical clustering of random log-odds draw\n",
    "labels = md.doClustering(ran_lo, 3).to_numpy()\n",
    "print(labels)\n",
    "print()\n",
    "print(pd.DataFrame(np.array(np.unique(labels, return_counts=True)).T))"
   ]
  },
  {
   "cell_type": "code",
   "execution_count": 17,
   "id": "bb46af22-5286-438d-903f-ccaa84f6e2b0",
   "metadata": {},
   "outputs": [],
   "source": [
    "scores = md.doPCA(ran_lo)[\"scores\"]"
   ]
  },
  {
   "cell_type": "code",
   "execution_count": 18,
   "id": "2de137a2-6754-4919-9a96-93b3c81d28c3",
   "metadata": {},
   "outputs": [
    {
     "data": {
      "text/html": [
       "<div>\n",
       "<style scoped>\n",
       "    .dataframe tbody tr th:only-of-type {\n",
       "        vertical-align: middle;\n",
       "    }\n",
       "\n",
       "    .dataframe tbody tr th {\n",
       "        vertical-align: top;\n",
       "    }\n",
       "\n",
       "    .dataframe thead th {\n",
       "        text-align: right;\n",
       "    }\n",
       "</style>\n",
       "<table border=\"1\" class=\"dataframe\">\n",
       "  <thead>\n",
       "    <tr style=\"text-align: right;\">\n",
       "      <th></th>\n",
       "      <th>0</th>\n",
       "      <th>1</th>\n",
       "      <th>2</th>\n",
       "      <th>3</th>\n",
       "      <th>4</th>\n",
       "      <th>5</th>\n",
       "      <th>6</th>\n",
       "      <th>7</th>\n",
       "      <th>8</th>\n",
       "      <th>9</th>\n",
       "      <th>...</th>\n",
       "      <th>51</th>\n",
       "      <th>52</th>\n",
       "      <th>53</th>\n",
       "      <th>54</th>\n",
       "      <th>55</th>\n",
       "      <th>56</th>\n",
       "      <th>57</th>\n",
       "      <th>58</th>\n",
       "      <th>59</th>\n",
       "      <th>60</th>\n",
       "    </tr>\n",
       "  </thead>\n",
       "  <tbody>\n",
       "    <tr>\n",
       "      <th>CN18Fc12_8_eDNA</th>\n",
       "      <td>-23.360920</td>\n",
       "      <td>86.727296</td>\n",
       "      <td>-32.112993</td>\n",
       "      <td>12.786990</td>\n",
       "      <td>4.516322</td>\n",
       "      <td>8.038535</td>\n",
       "      <td>3.194441</td>\n",
       "      <td>5.317937</td>\n",
       "      <td>-14.793105</td>\n",
       "      <td>1.939197</td>\n",
       "      <td>...</td>\n",
       "      <td>4.601373</td>\n",
       "      <td>1.344092</td>\n",
       "      <td>-4.375873</td>\n",
       "      <td>3.614832</td>\n",
       "      <td>0.550122</td>\n",
       "      <td>-9.728506</td>\n",
       "      <td>4.278813</td>\n",
       "      <td>10.233968</td>\n",
       "      <td>10.758399</td>\n",
       "      <td>-4.532561</td>\n",
       "    </tr>\n",
       "    <tr>\n",
       "      <th>CN18Fc19_5_eDNA</th>\n",
       "      <td>22.013961</td>\n",
       "      <td>8.070951</td>\n",
       "      <td>-5.377835</td>\n",
       "      <td>-5.792239</td>\n",
       "      <td>9.536693</td>\n",
       "      <td>-8.120251</td>\n",
       "      <td>5.356261</td>\n",
       "      <td>-9.402973</td>\n",
       "      <td>1.428456</td>\n",
       "      <td>-5.706534</td>\n",
       "      <td>...</td>\n",
       "      <td>1.552592</td>\n",
       "      <td>-6.183833</td>\n",
       "      <td>15.114068</td>\n",
       "      <td>3.380318</td>\n",
       "      <td>-9.207020</td>\n",
       "      <td>1.156447</td>\n",
       "      <td>-19.849895</td>\n",
       "      <td>-12.757354</td>\n",
       "      <td>-6.721662</td>\n",
       "      <td>-10.952255</td>\n",
       "    </tr>\n",
       "    <tr>\n",
       "      <th>CN18Fc21_6_eDNA</th>\n",
       "      <td>27.321002</td>\n",
       "      <td>-11.514486</td>\n",
       "      <td>-10.878613</td>\n",
       "      <td>10.790086</td>\n",
       "      <td>-4.423984</td>\n",
       "      <td>-19.891222</td>\n",
       "      <td>3.412546</td>\n",
       "      <td>-3.579161</td>\n",
       "      <td>4.011766</td>\n",
       "      <td>-2.278182</td>\n",
       "      <td>...</td>\n",
       "      <td>-1.135700</td>\n",
       "      <td>7.743794</td>\n",
       "      <td>-7.006833</td>\n",
       "      <td>-0.531534</td>\n",
       "      <td>-5.072125</td>\n",
       "      <td>-4.365938</td>\n",
       "      <td>-4.343423</td>\n",
       "      <td>4.258516</td>\n",
       "      <td>-1.524603</td>\n",
       "      <td>-5.831055</td>\n",
       "    </tr>\n",
       "    <tr>\n",
       "      <th>CN18Fc22_6_eDNA</th>\n",
       "      <td>23.908178</td>\n",
       "      <td>-2.641698</td>\n",
       "      <td>-7.691718</td>\n",
       "      <td>4.003211</td>\n",
       "      <td>4.618135</td>\n",
       "      <td>-6.384526</td>\n",
       "      <td>2.820855</td>\n",
       "      <td>-11.208775</td>\n",
       "      <td>-6.101434</td>\n",
       "      <td>-4.143214</td>\n",
       "      <td>...</td>\n",
       "      <td>-22.054908</td>\n",
       "      <td>-7.268522</td>\n",
       "      <td>7.898803</td>\n",
       "      <td>-1.907235</td>\n",
       "      <td>15.933776</td>\n",
       "      <td>-14.375547</td>\n",
       "      <td>13.925920</td>\n",
       "      <td>-2.332636</td>\n",
       "      <td>4.681056</td>\n",
       "      <td>-0.365475</td>\n",
       "    </tr>\n",
       "    <tr>\n",
       "      <th>CN18Fc24_6_eDNA</th>\n",
       "      <td>25.722295</td>\n",
       "      <td>-1.908877</td>\n",
       "      <td>-10.063478</td>\n",
       "      <td>1.532398</td>\n",
       "      <td>6.381873</td>\n",
       "      <td>-5.948188</td>\n",
       "      <td>5.198451</td>\n",
       "      <td>-6.460926</td>\n",
       "      <td>2.590258</td>\n",
       "      <td>2.715832</td>\n",
       "      <td>...</td>\n",
       "      <td>-0.968755</td>\n",
       "      <td>-10.088433</td>\n",
       "      <td>-15.257178</td>\n",
       "      <td>-1.357411</td>\n",
       "      <td>-0.677807</td>\n",
       "      <td>-0.288052</td>\n",
       "      <td>-7.895325</td>\n",
       "      <td>-6.311777</td>\n",
       "      <td>-1.090825</td>\n",
       "      <td>-10.234842</td>\n",
       "    </tr>\n",
       "    <tr>\n",
       "      <th>...</th>\n",
       "      <td>...</td>\n",
       "      <td>...</td>\n",
       "      <td>...</td>\n",
       "      <td>...</td>\n",
       "      <td>...</td>\n",
       "      <td>...</td>\n",
       "      <td>...</td>\n",
       "      <td>...</td>\n",
       "      <td>...</td>\n",
       "      <td>...</td>\n",
       "      <td>...</td>\n",
       "      <td>...</td>\n",
       "      <td>...</td>\n",
       "      <td>...</td>\n",
       "      <td>...</td>\n",
       "      <td>...</td>\n",
       "      <td>...</td>\n",
       "      <td>...</td>\n",
       "      <td>...</td>\n",
       "      <td>...</td>\n",
       "      <td>...</td>\n",
       "    </tr>\n",
       "    <tr>\n",
       "      <th>CN18SESPkoa_SC42</th>\n",
       "      <td>-65.301305</td>\n",
       "      <td>-21.664958</td>\n",
       "      <td>-4.585115</td>\n",
       "      <td>5.090508</td>\n",
       "      <td>-6.280347</td>\n",
       "      <td>4.351260</td>\n",
       "      <td>-5.665877</td>\n",
       "      <td>4.851400</td>\n",
       "      <td>24.252795</td>\n",
       "      <td>-14.718446</td>\n",
       "      <td>...</td>\n",
       "      <td>-1.729321</td>\n",
       "      <td>-6.278032</td>\n",
       "      <td>-7.098885</td>\n",
       "      <td>0.725472</td>\n",
       "      <td>-4.732697</td>\n",
       "      <td>-16.119474</td>\n",
       "      <td>10.382207</td>\n",
       "      <td>9.508762</td>\n",
       "      <td>-1.414426</td>\n",
       "      <td>-6.795397</td>\n",
       "    </tr>\n",
       "    <tr>\n",
       "      <th>CN18SESPkoa_SC44</th>\n",
       "      <td>-33.698760</td>\n",
       "      <td>91.644597</td>\n",
       "      <td>-11.147269</td>\n",
       "      <td>13.674331</td>\n",
       "      <td>-11.285293</td>\n",
       "      <td>-0.136780</td>\n",
       "      <td>-19.753630</td>\n",
       "      <td>9.921265</td>\n",
       "      <td>13.504199</td>\n",
       "      <td>10.858010</td>\n",
       "      <td>...</td>\n",
       "      <td>-1.991571</td>\n",
       "      <td>-4.070523</td>\n",
       "      <td>9.825430</td>\n",
       "      <td>-3.716357</td>\n",
       "      <td>-7.939829</td>\n",
       "      <td>-13.190116</td>\n",
       "      <td>-5.173563</td>\n",
       "      <td>3.789245</td>\n",
       "      <td>-6.351112</td>\n",
       "      <td>0.963303</td>\n",
       "    </tr>\n",
       "    <tr>\n",
       "      <th>CN18SESPkoa_SC45</th>\n",
       "      <td>-66.071602</td>\n",
       "      <td>-18.885596</td>\n",
       "      <td>-7.877093</td>\n",
       "      <td>-4.627298</td>\n",
       "      <td>-1.373586</td>\n",
       "      <td>2.122196</td>\n",
       "      <td>3.768538</td>\n",
       "      <td>-21.472165</td>\n",
       "      <td>10.812764</td>\n",
       "      <td>-6.954207</td>\n",
       "      <td>...</td>\n",
       "      <td>1.051824</td>\n",
       "      <td>0.444176</td>\n",
       "      <td>5.148561</td>\n",
       "      <td>0.960140</td>\n",
       "      <td>5.283224</td>\n",
       "      <td>7.461805</td>\n",
       "      <td>0.442847</td>\n",
       "      <td>-1.381873</td>\n",
       "      <td>5.507353</td>\n",
       "      <td>8.264151</td>\n",
       "    </tr>\n",
       "    <tr>\n",
       "      <th>CN18SESPkoa_SC47</th>\n",
       "      <td>-71.452429</td>\n",
       "      <td>-20.766807</td>\n",
       "      <td>-9.891773</td>\n",
       "      <td>0.658169</td>\n",
       "      <td>-4.518871</td>\n",
       "      <td>2.020216</td>\n",
       "      <td>4.042893</td>\n",
       "      <td>-6.810163</td>\n",
       "      <td>10.312223</td>\n",
       "      <td>9.300012</td>\n",
       "      <td>...</td>\n",
       "      <td>-0.863787</td>\n",
       "      <td>-7.378176</td>\n",
       "      <td>12.327546</td>\n",
       "      <td>-8.107918</td>\n",
       "      <td>2.210220</td>\n",
       "      <td>13.883941</td>\n",
       "      <td>-5.774056</td>\n",
       "      <td>-0.590601</td>\n",
       "      <td>-6.466185</td>\n",
       "      <td>-2.376361</td>\n",
       "    </tr>\n",
       "    <tr>\n",
       "      <th>CN18SESPkoa_SC49</th>\n",
       "      <td>-70.988464</td>\n",
       "      <td>-20.054818</td>\n",
       "      <td>-7.408213</td>\n",
       "      <td>1.850491</td>\n",
       "      <td>6.532875</td>\n",
       "      <td>-3.279276</td>\n",
       "      <td>0.635739</td>\n",
       "      <td>5.260498</td>\n",
       "      <td>18.259090</td>\n",
       "      <td>12.536086</td>\n",
       "      <td>...</td>\n",
       "      <td>0.536046</td>\n",
       "      <td>10.586510</td>\n",
       "      <td>-5.675358</td>\n",
       "      <td>9.521494</td>\n",
       "      <td>-7.867579</td>\n",
       "      <td>9.436266</td>\n",
       "      <td>-0.980772</td>\n",
       "      <td>-2.233607</td>\n",
       "      <td>5.978188</td>\n",
       "      <td>6.174506</td>\n",
       "    </tr>\n",
       "  </tbody>\n",
       "</table>\n",
       "<p>62 rows × 61 columns</p>\n",
       "</div>"
      ],
      "text/plain": [
       "                         0          1          2          3          4   \\\n",
       "CN18Fc12_8_eDNA  -23.360920  86.727296 -32.112993  12.786990   4.516322   \n",
       "CN18Fc19_5_eDNA   22.013961   8.070951  -5.377835  -5.792239   9.536693   \n",
       "CN18Fc21_6_eDNA   27.321002 -11.514486 -10.878613  10.790086  -4.423984   \n",
       "CN18Fc22_6_eDNA   23.908178  -2.641698  -7.691718   4.003211   4.618135   \n",
       "CN18Fc24_6_eDNA   25.722295  -1.908877 -10.063478   1.532398   6.381873   \n",
       "...                     ...        ...        ...        ...        ...   \n",
       "CN18SESPkoa_SC42 -65.301305 -21.664958  -4.585115   5.090508  -6.280347   \n",
       "CN18SESPkoa_SC44 -33.698760  91.644597 -11.147269  13.674331 -11.285293   \n",
       "CN18SESPkoa_SC45 -66.071602 -18.885596  -7.877093  -4.627298  -1.373586   \n",
       "CN18SESPkoa_SC47 -71.452429 -20.766807  -9.891773   0.658169  -4.518871   \n",
       "CN18SESPkoa_SC49 -70.988464 -20.054818  -7.408213   1.850491   6.532875   \n",
       "\n",
       "                         5          6          7          8          9   ...  \\\n",
       "CN18Fc12_8_eDNA    8.038535   3.194441   5.317937 -14.793105   1.939197  ...   \n",
       "CN18Fc19_5_eDNA   -8.120251   5.356261  -9.402973   1.428456  -5.706534  ...   \n",
       "CN18Fc21_6_eDNA  -19.891222   3.412546  -3.579161   4.011766  -2.278182  ...   \n",
       "CN18Fc22_6_eDNA   -6.384526   2.820855 -11.208775  -6.101434  -4.143214  ...   \n",
       "CN18Fc24_6_eDNA   -5.948188   5.198451  -6.460926   2.590258   2.715832  ...   \n",
       "...                     ...        ...        ...        ...        ...  ...   \n",
       "CN18SESPkoa_SC42   4.351260  -5.665877   4.851400  24.252795 -14.718446  ...   \n",
       "CN18SESPkoa_SC44  -0.136780 -19.753630   9.921265  13.504199  10.858010  ...   \n",
       "CN18SESPkoa_SC45   2.122196   3.768538 -21.472165  10.812764  -6.954207  ...   \n",
       "CN18SESPkoa_SC47   2.020216   4.042893  -6.810163  10.312223   9.300012  ...   \n",
       "CN18SESPkoa_SC49  -3.279276   0.635739   5.260498  18.259090  12.536086  ...   \n",
       "\n",
       "                         51         52         53        54         55  \\\n",
       "CN18Fc12_8_eDNA    4.601373   1.344092  -4.375873  3.614832   0.550122   \n",
       "CN18Fc19_5_eDNA    1.552592  -6.183833  15.114068  3.380318  -9.207020   \n",
       "CN18Fc21_6_eDNA   -1.135700   7.743794  -7.006833 -0.531534  -5.072125   \n",
       "CN18Fc22_6_eDNA  -22.054908  -7.268522   7.898803 -1.907235  15.933776   \n",
       "CN18Fc24_6_eDNA   -0.968755 -10.088433 -15.257178 -1.357411  -0.677807   \n",
       "...                     ...        ...        ...       ...        ...   \n",
       "CN18SESPkoa_SC42  -1.729321  -6.278032  -7.098885  0.725472  -4.732697   \n",
       "CN18SESPkoa_SC44  -1.991571  -4.070523   9.825430 -3.716357  -7.939829   \n",
       "CN18SESPkoa_SC45   1.051824   0.444176   5.148561  0.960140   5.283224   \n",
       "CN18SESPkoa_SC47  -0.863787  -7.378176  12.327546 -8.107918   2.210220   \n",
       "CN18SESPkoa_SC49   0.536046  10.586510  -5.675358  9.521494  -7.867579   \n",
       "\n",
       "                         56         57         58         59         60  \n",
       "CN18Fc12_8_eDNA   -9.728506   4.278813  10.233968  10.758399  -4.532561  \n",
       "CN18Fc19_5_eDNA    1.156447 -19.849895 -12.757354  -6.721662 -10.952255  \n",
       "CN18Fc21_6_eDNA   -4.365938  -4.343423   4.258516  -1.524603  -5.831055  \n",
       "CN18Fc22_6_eDNA  -14.375547  13.925920  -2.332636   4.681056  -0.365475  \n",
       "CN18Fc24_6_eDNA   -0.288052  -7.895325  -6.311777  -1.090825 -10.234842  \n",
       "...                     ...        ...        ...        ...        ...  \n",
       "CN18SESPkoa_SC42 -16.119474  10.382207   9.508762  -1.414426  -6.795397  \n",
       "CN18SESPkoa_SC44 -13.190116  -5.173563   3.789245  -6.351112   0.963303  \n",
       "CN18SESPkoa_SC45   7.461805   0.442847  -1.381873   5.507353   8.264151  \n",
       "CN18SESPkoa_SC47  13.883941  -5.774056  -0.590601  -6.466185  -2.376361  \n",
       "CN18SESPkoa_SC49   9.436266  -0.980772  -2.233607   5.978188   6.174506  \n",
       "\n",
       "[62 rows x 61 columns]"
      ]
     },
     "execution_count": 18,
     "metadata": {},
     "output_type": "execute_result"
    }
   ],
   "source": [
    "scores"
   ]
  },
  {
   "cell_type": "code",
   "execution_count": 20,
   "id": "53435a6e-e97f-4370-ac73-7da405c66537",
   "metadata": {},
   "outputs": [
    {
     "ename": "IndexError",
     "evalue": "only integers, slices (`:`), ellipsis (`...`), numpy.newaxis (`None`) and integer or boolean arrays are valid indices",
     "output_type": "error",
     "traceback": [
      "\u001b[0;31m---------------------------------------------------------------------------\u001b[0m",
      "\u001b[0;31mIndexError\u001b[0m                                Traceback (most recent call last)",
      "\u001b[0;32m/tmp/ipykernel_7644/1957318585.py\u001b[0m in \u001b[0;36m<module>\u001b[0;34m\u001b[0m\n\u001b[1;32m      1\u001b[0m \u001b[0;31m# Visualize clustering on first 2 PC axes\u001b[0m\u001b[0;34m\u001b[0m\u001b[0;34m\u001b[0m\u001b[0m\n\u001b[1;32m      2\u001b[0m \u001b[0mscores\u001b[0m \u001b[0;34m=\u001b[0m \u001b[0mmd\u001b[0m\u001b[0;34m.\u001b[0m\u001b[0mdoPCA\u001b[0m\u001b[0;34m(\u001b[0m\u001b[0mran_lo\u001b[0m\u001b[0;34m)\u001b[0m\u001b[0;34m[\u001b[0m\u001b[0;34m\"scores\"\u001b[0m\u001b[0;34m]\u001b[0m\u001b[0;34m.\u001b[0m\u001b[0mto_numpy\u001b[0m\u001b[0;34m(\u001b[0m\u001b[0;34m)\u001b[0m\u001b[0;34m\u001b[0m\u001b[0;34m\u001b[0m\u001b[0m\n\u001b[0;32m----> 3\u001b[0;31m \u001b[0mscores\u001b[0m\u001b[0;34m[\u001b[0m\u001b[0;34m\"labels\"\u001b[0m\u001b[0;34m]\u001b[0m \u001b[0;34m=\u001b[0m \u001b[0mlabels\u001b[0m\u001b[0;34m\u001b[0m\u001b[0;34m\u001b[0m\u001b[0m\n\u001b[0m\u001b[1;32m      4\u001b[0m fig = px.scatter(\n\u001b[1;32m      5\u001b[0m     \u001b[0mscores\u001b[0m\u001b[0;34m,\u001b[0m\u001b[0;34m\u001b[0m\u001b[0;34m\u001b[0m\u001b[0m\n",
      "\u001b[0;31mIndexError\u001b[0m: only integers, slices (`:`), ellipsis (`...`), numpy.newaxis (`None`) and integer or boolean arrays are valid indices"
     ]
    }
   ],
   "source": [
    "# Visualize clustering on first 2 PC axes\n",
    "scores = md.doPCA(ran_lo)[\"scores\"]\n",
    "scores[\"labels\"] = labels\n",
    "fig = px.scatter(\n",
    "    scores,\n",
    "    x = 0,\n",
    "    y = 1,\n",
    "    color = \"labels\"\n",
    ")\n",
    "fig.show()"
   ]
  },
  {
   "cell_type": "code",
   "execution_count": 11,
   "id": "661b0ba0-27fd-45c4-9354-ec340c617cdb",
   "metadata": {},
   "outputs": [
    {
     "data": {
      "text/html": [
       "<div>\n",
       "<style scoped>\n",
       "    .dataframe tbody tr th:only-of-type {\n",
       "        vertical-align: middle;\n",
       "    }\n",
       "\n",
       "    .dataframe tbody tr th {\n",
       "        vertical-align: top;\n",
       "    }\n",
       "\n",
       "    .dataframe thead th {\n",
       "        text-align: right;\n",
       "    }\n",
       "</style>\n",
       "<table border=\"1\" class=\"dataframe\">\n",
       "  <thead>\n",
       "    <tr style=\"text-align: right;\">\n",
       "      <th></th>\n",
       "      <th>0</th>\n",
       "      <th>1</th>\n",
       "      <th>2</th>\n",
       "      <th>3</th>\n",
       "      <th>4</th>\n",
       "      <th>5</th>\n",
       "      <th>6</th>\n",
       "      <th>7</th>\n",
       "      <th>8</th>\n",
       "      <th>9</th>\n",
       "    </tr>\n",
       "  </thead>\n",
       "  <tbody>\n",
       "    <tr>\n",
       "      <th>0</th>\n",
       "      <td>3</td>\n",
       "      <td>3</td>\n",
       "      <td>3</td>\n",
       "      <td>7</td>\n",
       "      <td>3</td>\n",
       "      <td>3</td>\n",
       "      <td>3</td>\n",
       "      <td>7</td>\n",
       "      <td>3</td>\n",
       "      <td>7</td>\n",
       "    </tr>\n",
       "    <tr>\n",
       "      <th>1</th>\n",
       "      <td>0</td>\n",
       "      <td>4</td>\n",
       "      <td>6</td>\n",
       "      <td>6</td>\n",
       "      <td>0</td>\n",
       "      <td>2</td>\n",
       "      <td>0</td>\n",
       "      <td>6</td>\n",
       "      <td>0</td>\n",
       "      <td>0</td>\n",
       "    </tr>\n",
       "    <tr>\n",
       "      <th>2</th>\n",
       "      <td>4</td>\n",
       "      <td>0</td>\n",
       "      <td>0</td>\n",
       "      <td>5</td>\n",
       "      <td>5</td>\n",
       "      <td>7</td>\n",
       "      <td>6</td>\n",
       "      <td>2</td>\n",
       "      <td>5</td>\n",
       "      <td>2</td>\n",
       "    </tr>\n",
       "    <tr>\n",
       "      <th>3</th>\n",
       "      <td>0</td>\n",
       "      <td>0</td>\n",
       "      <td>0</td>\n",
       "      <td>5</td>\n",
       "      <td>0</td>\n",
       "      <td>2</td>\n",
       "      <td>2</td>\n",
       "      <td>6</td>\n",
       "      <td>5</td>\n",
       "      <td>6</td>\n",
       "    </tr>\n",
       "    <tr>\n",
       "      <th>4</th>\n",
       "      <td>4</td>\n",
       "      <td>0</td>\n",
       "      <td>0</td>\n",
       "      <td>5</td>\n",
       "      <td>0</td>\n",
       "      <td>7</td>\n",
       "      <td>2</td>\n",
       "      <td>6</td>\n",
       "      <td>5</td>\n",
       "      <td>2</td>\n",
       "    </tr>\n",
       "    <tr>\n",
       "      <th>...</th>\n",
       "      <td>...</td>\n",
       "      <td>...</td>\n",
       "      <td>...</td>\n",
       "      <td>...</td>\n",
       "      <td>...</td>\n",
       "      <td>...</td>\n",
       "      <td>...</td>\n",
       "      <td>...</td>\n",
       "      <td>...</td>\n",
       "      <td>...</td>\n",
       "    </tr>\n",
       "    <tr>\n",
       "      <th>57</th>\n",
       "      <td>1</td>\n",
       "      <td>1</td>\n",
       "      <td>1</td>\n",
       "      <td>0</td>\n",
       "      <td>1</td>\n",
       "      <td>1</td>\n",
       "      <td>4</td>\n",
       "      <td>1</td>\n",
       "      <td>1</td>\n",
       "      <td>1</td>\n",
       "    </tr>\n",
       "    <tr>\n",
       "      <th>58</th>\n",
       "      <td>3</td>\n",
       "      <td>3</td>\n",
       "      <td>3</td>\n",
       "      <td>7</td>\n",
       "      <td>3</td>\n",
       "      <td>3</td>\n",
       "      <td>3</td>\n",
       "      <td>7</td>\n",
       "      <td>3</td>\n",
       "      <td>7</td>\n",
       "    </tr>\n",
       "    <tr>\n",
       "      <th>59</th>\n",
       "      <td>1</td>\n",
       "      <td>1</td>\n",
       "      <td>1</td>\n",
       "      <td>0</td>\n",
       "      <td>1</td>\n",
       "      <td>1</td>\n",
       "      <td>4</td>\n",
       "      <td>1</td>\n",
       "      <td>1</td>\n",
       "      <td>1</td>\n",
       "    </tr>\n",
       "    <tr>\n",
       "      <th>60</th>\n",
       "      <td>1</td>\n",
       "      <td>1</td>\n",
       "      <td>1</td>\n",
       "      <td>0</td>\n",
       "      <td>1</td>\n",
       "      <td>1</td>\n",
       "      <td>4</td>\n",
       "      <td>1</td>\n",
       "      <td>1</td>\n",
       "      <td>1</td>\n",
       "    </tr>\n",
       "    <tr>\n",
       "      <th>61</th>\n",
       "      <td>1</td>\n",
       "      <td>1</td>\n",
       "      <td>1</td>\n",
       "      <td>0</td>\n",
       "      <td>1</td>\n",
       "      <td>1</td>\n",
       "      <td>4</td>\n",
       "      <td>1</td>\n",
       "      <td>1</td>\n",
       "      <td>1</td>\n",
       "    </tr>\n",
       "  </tbody>\n",
       "</table>\n",
       "<p>62 rows × 10 columns</p>\n",
       "</div>"
      ],
      "text/plain": [
       "    0  1  2  3  4  5  6  7  8  9\n",
       "0   3  3  3  7  3  3  3  7  3  7\n",
       "1   0  4  6  6  0  2  0  6  0  0\n",
       "2   4  0  0  5  5  7  6  2  5  2\n",
       "3   0  0  0  5  0  2  2  6  5  6\n",
       "4   4  0  0  5  0  7  2  6  5  2\n",
       ".. .. .. .. .. .. .. .. .. .. ..\n",
       "57  1  1  1  0  1  1  4  1  1  1\n",
       "58  3  3  3  7  3  3  3  7  3  7\n",
       "59  1  1  1  0  1  1  4  1  1  1\n",
       "60  1  1  1  0  1  1  4  1  1  1\n",
       "61  1  1  1  0  1  1  4  1  1  1\n",
       "\n",
       "[62 rows x 10 columns]"
      ]
     },
     "execution_count": 11,
     "metadata": {},
     "output_type": "execute_result"
    }
   ],
   "source": [
    "# Run sampleClust function n_rep times to assign n_clust clusters\n",
    "n_clust = 8\n",
    "n_rep = 10\n",
    " \n",
    "cluster_samples = [md.doClustering(md.ranRelPct(asvs1), n_clust) for i in range(n_rep)]\n",
    "cluster_samples = pd.DataFrame(cluster_samples).transpose()\n",
    "cluster_samples"
   ]
  },
  {
   "cell_type": "code",
   "execution_count": 12,
   "id": "bbfea1db-6660-4f3e-be73-6bbd05dc2b06",
   "metadata": {},
   "outputs": [
    {
     "name": "stdout",
     "output_type": "stream",
     "text": [
      "True\n",
      "False\n"
     ]
    }
   ],
   "source": [
    "# A function to test if row pws[0] is the same cluster as row pws[1] in column 'col'\n",
    "def isSameCluster(pws, df, col):\n",
    "    return df.iloc[pws[0], col] == df.iloc[pws[1], col]\n",
    "\n",
    "print(isSameCluster((1, 3), cluster_samples, 0))\n",
    "print(isSameCluster((0, 3), cluster_samples, 0))"
   ]
  },
  {
   "cell_type": "code",
   "execution_count": 13,
   "id": "c5bb8571-bdc4-4d70-896d-78cb70fe40c0",
   "metadata": {},
   "outputs": [
    {
     "data": {
      "text/plain": [
       "1891.0"
      ]
     },
     "execution_count": 13,
     "metadata": {},
     "output_type": "execute_result"
    }
   ],
   "source": [
    "(62 * 61) / 2"
   ]
  },
  {
   "cell_type": "code",
   "execution_count": 14,
   "id": "385fc025-fa7d-4001-998f-fe18c4f5a489",
   "metadata": {},
   "outputs": [
    {
     "data": {
      "text/html": [
       "<div>\n",
       "<style scoped>\n",
       "    .dataframe tbody tr th:only-of-type {\n",
       "        vertical-align: middle;\n",
       "    }\n",
       "\n",
       "    .dataframe tbody tr th {\n",
       "        vertical-align: top;\n",
       "    }\n",
       "\n",
       "    .dataframe thead th {\n",
       "        text-align: right;\n",
       "    }\n",
       "</style>\n",
       "<table border=\"1\" class=\"dataframe\">\n",
       "  <thead>\n",
       "    <tr style=\"text-align: right;\">\n",
       "      <th></th>\n",
       "      <th>0</th>\n",
       "      <th>1</th>\n",
       "      <th>2</th>\n",
       "      <th>3</th>\n",
       "      <th>4</th>\n",
       "      <th>5</th>\n",
       "      <th>6</th>\n",
       "      <th>7</th>\n",
       "      <th>8</th>\n",
       "      <th>9</th>\n",
       "    </tr>\n",
       "  </thead>\n",
       "  <tbody>\n",
       "    <tr>\n",
       "      <th>0</th>\n",
       "      <td>False</td>\n",
       "      <td>False</td>\n",
       "      <td>False</td>\n",
       "      <td>False</td>\n",
       "      <td>False</td>\n",
       "      <td>False</td>\n",
       "      <td>False</td>\n",
       "      <td>False</td>\n",
       "      <td>False</td>\n",
       "      <td>False</td>\n",
       "    </tr>\n",
       "    <tr>\n",
       "      <th>1</th>\n",
       "      <td>False</td>\n",
       "      <td>False</td>\n",
       "      <td>False</td>\n",
       "      <td>False</td>\n",
       "      <td>False</td>\n",
       "      <td>False</td>\n",
       "      <td>False</td>\n",
       "      <td>False</td>\n",
       "      <td>False</td>\n",
       "      <td>False</td>\n",
       "    </tr>\n",
       "    <tr>\n",
       "      <th>2</th>\n",
       "      <td>False</td>\n",
       "      <td>False</td>\n",
       "      <td>False</td>\n",
       "      <td>False</td>\n",
       "      <td>False</td>\n",
       "      <td>False</td>\n",
       "      <td>False</td>\n",
       "      <td>False</td>\n",
       "      <td>False</td>\n",
       "      <td>False</td>\n",
       "    </tr>\n",
       "    <tr>\n",
       "      <th>3</th>\n",
       "      <td>False</td>\n",
       "      <td>False</td>\n",
       "      <td>False</td>\n",
       "      <td>False</td>\n",
       "      <td>False</td>\n",
       "      <td>False</td>\n",
       "      <td>False</td>\n",
       "      <td>False</td>\n",
       "      <td>False</td>\n",
       "      <td>False</td>\n",
       "    </tr>\n",
       "    <tr>\n",
       "      <th>4</th>\n",
       "      <td>False</td>\n",
       "      <td>False</td>\n",
       "      <td>False</td>\n",
       "      <td>False</td>\n",
       "      <td>False</td>\n",
       "      <td>False</td>\n",
       "      <td>False</td>\n",
       "      <td>False</td>\n",
       "      <td>False</td>\n",
       "      <td>False</td>\n",
       "    </tr>\n",
       "    <tr>\n",
       "      <th>...</th>\n",
       "      <td>...</td>\n",
       "      <td>...</td>\n",
       "      <td>...</td>\n",
       "      <td>...</td>\n",
       "      <td>...</td>\n",
       "      <td>...</td>\n",
       "      <td>...</td>\n",
       "      <td>...</td>\n",
       "      <td>...</td>\n",
       "      <td>...</td>\n",
       "    </tr>\n",
       "    <tr>\n",
       "      <th>1886</th>\n",
       "      <td>False</td>\n",
       "      <td>False</td>\n",
       "      <td>False</td>\n",
       "      <td>False</td>\n",
       "      <td>False</td>\n",
       "      <td>False</td>\n",
       "      <td>False</td>\n",
       "      <td>False</td>\n",
       "      <td>False</td>\n",
       "      <td>False</td>\n",
       "    </tr>\n",
       "    <tr>\n",
       "      <th>1887</th>\n",
       "      <td>False</td>\n",
       "      <td>False</td>\n",
       "      <td>False</td>\n",
       "      <td>False</td>\n",
       "      <td>False</td>\n",
       "      <td>False</td>\n",
       "      <td>False</td>\n",
       "      <td>False</td>\n",
       "      <td>False</td>\n",
       "      <td>False</td>\n",
       "    </tr>\n",
       "    <tr>\n",
       "      <th>1888</th>\n",
       "      <td>True</td>\n",
       "      <td>True</td>\n",
       "      <td>True</td>\n",
       "      <td>True</td>\n",
       "      <td>True</td>\n",
       "      <td>True</td>\n",
       "      <td>True</td>\n",
       "      <td>True</td>\n",
       "      <td>True</td>\n",
       "      <td>True</td>\n",
       "    </tr>\n",
       "    <tr>\n",
       "      <th>1889</th>\n",
       "      <td>True</td>\n",
       "      <td>True</td>\n",
       "      <td>True</td>\n",
       "      <td>True</td>\n",
       "      <td>True</td>\n",
       "      <td>True</td>\n",
       "      <td>True</td>\n",
       "      <td>True</td>\n",
       "      <td>True</td>\n",
       "      <td>True</td>\n",
       "    </tr>\n",
       "    <tr>\n",
       "      <th>1890</th>\n",
       "      <td>True</td>\n",
       "      <td>True</td>\n",
       "      <td>True</td>\n",
       "      <td>True</td>\n",
       "      <td>True</td>\n",
       "      <td>True</td>\n",
       "      <td>True</td>\n",
       "      <td>True</td>\n",
       "      <td>True</td>\n",
       "      <td>True</td>\n",
       "    </tr>\n",
       "  </tbody>\n",
       "</table>\n",
       "<p>1891 rows × 10 columns</p>\n",
       "</div>"
      ],
      "text/plain": [
       "          0      1      2      3      4      5      6      7      8      9\n",
       "0     False  False  False  False  False  False  False  False  False  False\n",
       "1     False  False  False  False  False  False  False  False  False  False\n",
       "2     False  False  False  False  False  False  False  False  False  False\n",
       "3     False  False  False  False  False  False  False  False  False  False\n",
       "4     False  False  False  False  False  False  False  False  False  False\n",
       "...     ...    ...    ...    ...    ...    ...    ...    ...    ...    ...\n",
       "1886  False  False  False  False  False  False  False  False  False  False\n",
       "1887  False  False  False  False  False  False  False  False  False  False\n",
       "1888   True   True   True   True   True   True   True   True   True   True\n",
       "1889   True   True   True   True   True   True   True   True   True   True\n",
       "1890   True   True   True   True   True   True   True   True   True   True\n",
       "\n",
       "[1891 rows x 10 columns]"
      ]
     },
     "execution_count": 14,
     "metadata": {},
     "output_type": "execute_result"
    }
   ],
   "source": [
    "# Code to test if each pair of rows ((n^2 - 1)/2) = 1891) are the same for all columns\n",
    "import itertools\n",
    "pws_rows = itertools.combinations(range(cluster_samples.shape[0]), 2)\n",
    "\n",
    "pws_same = pd.DataFrame([[isSameCluster(pair, cluster_samples, col) for col in range(cluster_samples.shape[1])] for pair in pws_rows])\n",
    "pws_same"
   ]
  },
  {
   "cell_type": "code",
   "execution_count": 15,
   "id": "5332e67c-b654-4e04-b231-61deffbb2953",
   "metadata": {},
   "outputs": [
    {
     "name": "stdout",
     "output_type": "stream",
     "text": [
      "10\n",
      "10\n"
     ]
    }
   ],
   "source": [
    "# Function to return maximum number of values that are the same in a each row\n",
    "def maxSame(row):\n",
    "    return row.value_counts().max()\n",
    "\n",
    "print(maxSame(pws_same.iloc[0, :]))\n",
    "print(maxSame(pws_same.iloc[1890, :]))"
   ]
  },
  {
   "cell_type": "code",
   "execution_count": 16,
   "id": "42c657e9-d7dd-423e-bb64-11885d867d43",
   "metadata": {},
   "outputs": [
    {
     "data": {
      "text/plain": [
       "92.00423056583818"
      ]
     },
     "execution_count": 16,
     "metadata": {},
     "output_type": "execute_result"
    }
   ],
   "source": [
    "# Code to return the percent of all values that were the same by row\n",
    "num_same = [maxSame(pws_same.iloc[row, :]) for row in range(pws_same.shape[0])]\n",
    "np.sum(num_same) * 100 / (pws_same.shape[0] * pws_same.shape[1])"
   ]
  },
  {
   "cell_type": "code",
   "execution_count": 17,
   "id": "342dd802-5c31-4adf-9ae5-04f0fe062ae7",
   "metadata": {},
   "outputs": [],
   "source": [
    "# Putting it all together...\n",
    "\n",
    "# Function to create n_rep draws of df and assign n_clusters and returns percent of draws that had same relative cluster assignments\n",
    "def pctSame(df, n_clust, n_rep):\n",
    "    if n_clust >= df.shape[0]:\n",
    "        return 100\n",
    "    \n",
    "    def isSameCluster(pws, df, col):\n",
    "        return df.iloc[pws[0], col] == df.iloc[pws[1], col]\n",
    "    \n",
    "    def maxSame(row):\n",
    "        return row.value_counts().max()\n",
    "    \n",
    "    # cluster a random sample of logit(relative percentages)\n",
    "    cluster_samples = [md.doClustering(md.ranRelPct(df), n_clust) for i in range(n_rep)]\n",
    "    cluster_samples = pd.DataFrame(cluster_samples).transpose()\n",
    "    # unique pairs of rows\n",
    "    pws_rows = itertools.combinations(range(cluster_samples.shape[0]), 2)\n",
    "    # identify pairs of samples that are in the same cluster (True) or in different clusters (False)\n",
    "    pws_same = pd.DataFrame([[isSameCluster(pair, cluster_samples, col) for col in range(cluster_samples.shape[1])] for pair in pws_rows])\n",
    "    # get the maximum number replicates that have the same value (True or False) for each sample\n",
    "    num_same = [maxSame(pws_same.iloc[row, :]) for row in range(pws_same.shape[0])]\n",
    "    # convert to percentage with maximum of same value across all replicates\n",
    "    return np.sum(num_same) * 100 / (pws_same.shape[0] * pws_same.shape[1])"
   ]
  },
  {
   "cell_type": "code",
   "execution_count": 13,
   "id": "53518060-b276-42e2-a8d6-7991d252f9c2",
   "metadata": {},
   "outputs": [
    {
     "name": "stdout",
     "output_type": "stream",
     "text": [
      "CPU times: user 7min 49s, sys: 6.64 s, total: 7min 55s\n",
      "Wall time: 7min 55s\n"
     ]
    }
   ],
   "source": [
    "%%time\n",
    "# Code to return pct of draws that had the same relative cluster assignment for 2 to 62 clusters for n_rep replicates\n",
    "# NB: This takes a long time to run for a modest number of replicates!!\n",
    "\n",
    "n_rep = 50\n",
    "num_clust = np.arange(2, asvs1.shape[1] + 1)\n",
    "pct_same = [pctSame(asvs1, x, n_rep) for x in num_clust]"
   ]
  },
  {
   "cell_type": "code",
   "execution_count": 14,
   "id": "50bc0dd5-dd94-4a2e-a9d6-6fe8b7f9ab05",
   "metadata": {},
   "outputs": [
    {
     "data": {
      "application/vnd.plotly.v1+json": {
       "config": {
        "plotlyServerURL": "https://plot.ly"
       },
       "data": [
        {
         "hovertemplate": "x=%{x}<br>y=%{y}<extra></extra>",
         "legendgroup": "",
         "line": {
          "color": "#636efa",
          "dash": "solid"
         },
         "marker": {
          "symbol": "circle"
         },
         "mode": "lines",
         "name": "",
         "orientation": "v",
         "showlegend": false,
         "type": "scatter",
         "x": [
          2,
          3,
          4,
          5,
          6,
          7,
          8,
          9,
          10,
          11,
          12,
          13,
          14,
          15,
          16,
          17,
          18,
          19,
          20,
          21,
          22,
          23,
          24,
          25,
          26,
          27,
          28,
          29,
          30,
          31,
          32,
          33,
          34,
          35,
          36,
          37,
          38,
          39,
          40,
          41,
          42,
          43,
          44,
          45,
          46,
          47,
          48,
          49,
          50,
          51,
          52,
          53,
          54,
          55,
          56,
          57,
          58,
          59,
          60,
          61,
          62
         ],
         "xaxis": "x",
         "y": [
          98.4865150713908,
          100,
          100,
          94.3532522474881,
          94.57218402961396,
          93.58223162347964,
          92.52459016393442,
          93.37176097303015,
          92.98360655737704,
          92.83130618720254,
          92.98043363299841,
          93.3823373876256,
          93.62982548915917,
          93.84981491274458,
          93.79270227392914,
          94.15335801163405,
          94.34056054997356,
          94.15335801163405,
          94.6292966684294,
          94.73823373876256,
          94.92437863564251,
          95.08619777895294,
          95.04706504494976,
          95.30830248545743,
          95.65732416710735,
          95.87308302485458,
          96.07826546800635,
          96.32152300370174,
          96.45161290322581,
          96.62718138551031,
          96.83024854574299,
          97.06398730830249,
          97.19725013220518,
          97.30089899524062,
          97.5272342675833,
          97.64992067689053,
          97.84452670544685,
          97.86567953463776,
          98.14172395557905,
          98.27075621364358,
          98.3670015864622,
          98.46959280803807,
          98.56266525647806,
          98.67689053410894,
          98.76150185087255,
          98.86620835536753,
          98.97197250132206,
          99.06081438392386,
          99.18032786885246,
          99.26282390269698,
          99.36012691697515,
          99.43733474352194,
          99.49338974087784,
          99.57059756742464,
          99.64569011105236,
          99.7028027498678,
          99.7778952934955,
          99.83500793231094,
          99.89212057112638,
          99.94711792702275,
          100
         ],
         "yaxis": "y"
        }
       ],
       "layout": {
        "autosize": true,
        "legend": {
         "tracegroupgap": 0
        },
        "margin": {
         "t": 60
        },
        "template": {
         "data": {
          "bar": [
           {
            "error_x": {
             "color": "#2a3f5f"
            },
            "error_y": {
             "color": "#2a3f5f"
            },
            "marker": {
             "line": {
              "color": "#E5ECF6",
              "width": 0.5
             },
             "pattern": {
              "fillmode": "overlay",
              "size": 10,
              "solidity": 0.2
             }
            },
            "type": "bar"
           }
          ],
          "barpolar": [
           {
            "marker": {
             "line": {
              "color": "#E5ECF6",
              "width": 0.5
             },
             "pattern": {
              "fillmode": "overlay",
              "size": 10,
              "solidity": 0.2
             }
            },
            "type": "barpolar"
           }
          ],
          "carpet": [
           {
            "aaxis": {
             "endlinecolor": "#2a3f5f",
             "gridcolor": "white",
             "linecolor": "white",
             "minorgridcolor": "white",
             "startlinecolor": "#2a3f5f"
            },
            "baxis": {
             "endlinecolor": "#2a3f5f",
             "gridcolor": "white",
             "linecolor": "white",
             "minorgridcolor": "white",
             "startlinecolor": "#2a3f5f"
            },
            "type": "carpet"
           }
          ],
          "choropleth": [
           {
            "colorbar": {
             "outlinewidth": 0,
             "ticks": ""
            },
            "type": "choropleth"
           }
          ],
          "contour": [
           {
            "colorbar": {
             "outlinewidth": 0,
             "ticks": ""
            },
            "colorscale": [
             [
              0,
              "#0d0887"
             ],
             [
              0.1111111111111111,
              "#46039f"
             ],
             [
              0.2222222222222222,
              "#7201a8"
             ],
             [
              0.3333333333333333,
              "#9c179e"
             ],
             [
              0.4444444444444444,
              "#bd3786"
             ],
             [
              0.5555555555555556,
              "#d8576b"
             ],
             [
              0.6666666666666666,
              "#ed7953"
             ],
             [
              0.7777777777777778,
              "#fb9f3a"
             ],
             [
              0.8888888888888888,
              "#fdca26"
             ],
             [
              1,
              "#f0f921"
             ]
            ],
            "type": "contour"
           }
          ],
          "contourcarpet": [
           {
            "colorbar": {
             "outlinewidth": 0,
             "ticks": ""
            },
            "type": "contourcarpet"
           }
          ],
          "heatmap": [
           {
            "colorbar": {
             "outlinewidth": 0,
             "ticks": ""
            },
            "colorscale": [
             [
              0,
              "#0d0887"
             ],
             [
              0.1111111111111111,
              "#46039f"
             ],
             [
              0.2222222222222222,
              "#7201a8"
             ],
             [
              0.3333333333333333,
              "#9c179e"
             ],
             [
              0.4444444444444444,
              "#bd3786"
             ],
             [
              0.5555555555555556,
              "#d8576b"
             ],
             [
              0.6666666666666666,
              "#ed7953"
             ],
             [
              0.7777777777777778,
              "#fb9f3a"
             ],
             [
              0.8888888888888888,
              "#fdca26"
             ],
             [
              1,
              "#f0f921"
             ]
            ],
            "type": "heatmap"
           }
          ],
          "heatmapgl": [
           {
            "colorbar": {
             "outlinewidth": 0,
             "ticks": ""
            },
            "colorscale": [
             [
              0,
              "#0d0887"
             ],
             [
              0.1111111111111111,
              "#46039f"
             ],
             [
              0.2222222222222222,
              "#7201a8"
             ],
             [
              0.3333333333333333,
              "#9c179e"
             ],
             [
              0.4444444444444444,
              "#bd3786"
             ],
             [
              0.5555555555555556,
              "#d8576b"
             ],
             [
              0.6666666666666666,
              "#ed7953"
             ],
             [
              0.7777777777777778,
              "#fb9f3a"
             ],
             [
              0.8888888888888888,
              "#fdca26"
             ],
             [
              1,
              "#f0f921"
             ]
            ],
            "type": "heatmapgl"
           }
          ],
          "histogram": [
           {
            "marker": {
             "pattern": {
              "fillmode": "overlay",
              "size": 10,
              "solidity": 0.2
             }
            },
            "type": "histogram"
           }
          ],
          "histogram2d": [
           {
            "colorbar": {
             "outlinewidth": 0,
             "ticks": ""
            },
            "colorscale": [
             [
              0,
              "#0d0887"
             ],
             [
              0.1111111111111111,
              "#46039f"
             ],
             [
              0.2222222222222222,
              "#7201a8"
             ],
             [
              0.3333333333333333,
              "#9c179e"
             ],
             [
              0.4444444444444444,
              "#bd3786"
             ],
             [
              0.5555555555555556,
              "#d8576b"
             ],
             [
              0.6666666666666666,
              "#ed7953"
             ],
             [
              0.7777777777777778,
              "#fb9f3a"
             ],
             [
              0.8888888888888888,
              "#fdca26"
             ],
             [
              1,
              "#f0f921"
             ]
            ],
            "type": "histogram2d"
           }
          ],
          "histogram2dcontour": [
           {
            "colorbar": {
             "outlinewidth": 0,
             "ticks": ""
            },
            "colorscale": [
             [
              0,
              "#0d0887"
             ],
             [
              0.1111111111111111,
              "#46039f"
             ],
             [
              0.2222222222222222,
              "#7201a8"
             ],
             [
              0.3333333333333333,
              "#9c179e"
             ],
             [
              0.4444444444444444,
              "#bd3786"
             ],
             [
              0.5555555555555556,
              "#d8576b"
             ],
             [
              0.6666666666666666,
              "#ed7953"
             ],
             [
              0.7777777777777778,
              "#fb9f3a"
             ],
             [
              0.8888888888888888,
              "#fdca26"
             ],
             [
              1,
              "#f0f921"
             ]
            ],
            "type": "histogram2dcontour"
           }
          ],
          "mesh3d": [
           {
            "colorbar": {
             "outlinewidth": 0,
             "ticks": ""
            },
            "type": "mesh3d"
           }
          ],
          "parcoords": [
           {
            "line": {
             "colorbar": {
              "outlinewidth": 0,
              "ticks": ""
             }
            },
            "type": "parcoords"
           }
          ],
          "pie": [
           {
            "automargin": true,
            "type": "pie"
           }
          ],
          "scatter": [
           {
            "fillpattern": {
             "fillmode": "overlay",
             "size": 10,
             "solidity": 0.2
            },
            "type": "scatter"
           }
          ],
          "scatter3d": [
           {
            "line": {
             "colorbar": {
              "outlinewidth": 0,
              "ticks": ""
             }
            },
            "marker": {
             "colorbar": {
              "outlinewidth": 0,
              "ticks": ""
             }
            },
            "type": "scatter3d"
           }
          ],
          "scattercarpet": [
           {
            "marker": {
             "colorbar": {
              "outlinewidth": 0,
              "ticks": ""
             }
            },
            "type": "scattercarpet"
           }
          ],
          "scattergeo": [
           {
            "marker": {
             "colorbar": {
              "outlinewidth": 0,
              "ticks": ""
             }
            },
            "type": "scattergeo"
           }
          ],
          "scattergl": [
           {
            "marker": {
             "colorbar": {
              "outlinewidth": 0,
              "ticks": ""
             }
            },
            "type": "scattergl"
           }
          ],
          "scattermapbox": [
           {
            "marker": {
             "colorbar": {
              "outlinewidth": 0,
              "ticks": ""
             }
            },
            "type": "scattermapbox"
           }
          ],
          "scatterpolar": [
           {
            "marker": {
             "colorbar": {
              "outlinewidth": 0,
              "ticks": ""
             }
            },
            "type": "scatterpolar"
           }
          ],
          "scatterpolargl": [
           {
            "marker": {
             "colorbar": {
              "outlinewidth": 0,
              "ticks": ""
             }
            },
            "type": "scatterpolargl"
           }
          ],
          "scatterternary": [
           {
            "marker": {
             "colorbar": {
              "outlinewidth": 0,
              "ticks": ""
             }
            },
            "type": "scatterternary"
           }
          ],
          "surface": [
           {
            "colorbar": {
             "outlinewidth": 0,
             "ticks": ""
            },
            "colorscale": [
             [
              0,
              "#0d0887"
             ],
             [
              0.1111111111111111,
              "#46039f"
             ],
             [
              0.2222222222222222,
              "#7201a8"
             ],
             [
              0.3333333333333333,
              "#9c179e"
             ],
             [
              0.4444444444444444,
              "#bd3786"
             ],
             [
              0.5555555555555556,
              "#d8576b"
             ],
             [
              0.6666666666666666,
              "#ed7953"
             ],
             [
              0.7777777777777778,
              "#fb9f3a"
             ],
             [
              0.8888888888888888,
              "#fdca26"
             ],
             [
              1,
              "#f0f921"
             ]
            ],
            "type": "surface"
           }
          ],
          "table": [
           {
            "cells": {
             "fill": {
              "color": "#EBF0F8"
             },
             "line": {
              "color": "white"
             }
            },
            "header": {
             "fill": {
              "color": "#C8D4E3"
             },
             "line": {
              "color": "white"
             }
            },
            "type": "table"
           }
          ]
         },
         "layout": {
          "annotationdefaults": {
           "arrowcolor": "#2a3f5f",
           "arrowhead": 0,
           "arrowwidth": 1
          },
          "autotypenumbers": "strict",
          "coloraxis": {
           "colorbar": {
            "outlinewidth": 0,
            "ticks": ""
           }
          },
          "colorscale": {
           "diverging": [
            [
             0,
             "#8e0152"
            ],
            [
             0.1,
             "#c51b7d"
            ],
            [
             0.2,
             "#de77ae"
            ],
            [
             0.3,
             "#f1b6da"
            ],
            [
             0.4,
             "#fde0ef"
            ],
            [
             0.5,
             "#f7f7f7"
            ],
            [
             0.6,
             "#e6f5d0"
            ],
            [
             0.7,
             "#b8e186"
            ],
            [
             0.8,
             "#7fbc41"
            ],
            [
             0.9,
             "#4d9221"
            ],
            [
             1,
             "#276419"
            ]
           ],
           "sequential": [
            [
             0,
             "#0d0887"
            ],
            [
             0.1111111111111111,
             "#46039f"
            ],
            [
             0.2222222222222222,
             "#7201a8"
            ],
            [
             0.3333333333333333,
             "#9c179e"
            ],
            [
             0.4444444444444444,
             "#bd3786"
            ],
            [
             0.5555555555555556,
             "#d8576b"
            ],
            [
             0.6666666666666666,
             "#ed7953"
            ],
            [
             0.7777777777777778,
             "#fb9f3a"
            ],
            [
             0.8888888888888888,
             "#fdca26"
            ],
            [
             1,
             "#f0f921"
            ]
           ],
           "sequentialminus": [
            [
             0,
             "#0d0887"
            ],
            [
             0.1111111111111111,
             "#46039f"
            ],
            [
             0.2222222222222222,
             "#7201a8"
            ],
            [
             0.3333333333333333,
             "#9c179e"
            ],
            [
             0.4444444444444444,
             "#bd3786"
            ],
            [
             0.5555555555555556,
             "#d8576b"
            ],
            [
             0.6666666666666666,
             "#ed7953"
            ],
            [
             0.7777777777777778,
             "#fb9f3a"
            ],
            [
             0.8888888888888888,
             "#fdca26"
            ],
            [
             1,
             "#f0f921"
            ]
           ]
          },
          "colorway": [
           "#636efa",
           "#EF553B",
           "#00cc96",
           "#ab63fa",
           "#FFA15A",
           "#19d3f3",
           "#FF6692",
           "#B6E880",
           "#FF97FF",
           "#FECB52"
          ],
          "font": {
           "color": "#2a3f5f"
          },
          "geo": {
           "bgcolor": "white",
           "lakecolor": "white",
           "landcolor": "#E5ECF6",
           "showlakes": true,
           "showland": true,
           "subunitcolor": "white"
          },
          "hoverlabel": {
           "align": "left"
          },
          "hovermode": "closest",
          "mapbox": {
           "style": "light"
          },
          "paper_bgcolor": "white",
          "plot_bgcolor": "#E5ECF6",
          "polar": {
           "angularaxis": {
            "gridcolor": "white",
            "linecolor": "white",
            "ticks": ""
           },
           "bgcolor": "#E5ECF6",
           "radialaxis": {
            "gridcolor": "white",
            "linecolor": "white",
            "ticks": ""
           }
          },
          "scene": {
           "xaxis": {
            "backgroundcolor": "#E5ECF6",
            "gridcolor": "white",
            "gridwidth": 2,
            "linecolor": "white",
            "showbackground": true,
            "ticks": "",
            "zerolinecolor": "white"
           },
           "yaxis": {
            "backgroundcolor": "#E5ECF6",
            "gridcolor": "white",
            "gridwidth": 2,
            "linecolor": "white",
            "showbackground": true,
            "ticks": "",
            "zerolinecolor": "white"
           },
           "zaxis": {
            "backgroundcolor": "#E5ECF6",
            "gridcolor": "white",
            "gridwidth": 2,
            "linecolor": "white",
            "showbackground": true,
            "ticks": "",
            "zerolinecolor": "white"
           }
          },
          "shapedefaults": {
           "line": {
            "color": "#2a3f5f"
           }
          },
          "ternary": {
           "aaxis": {
            "gridcolor": "white",
            "linecolor": "white",
            "ticks": ""
           },
           "baxis": {
            "gridcolor": "white",
            "linecolor": "white",
            "ticks": ""
           },
           "bgcolor": "#E5ECF6",
           "caxis": {
            "gridcolor": "white",
            "linecolor": "white",
            "ticks": ""
           }
          },
          "title": {
           "x": 0.05
          },
          "xaxis": {
           "automargin": true,
           "gridcolor": "white",
           "linecolor": "white",
           "ticks": "",
           "title": {
            "standoff": 15
           },
           "zerolinecolor": "white",
           "zerolinewidth": 2
          },
          "yaxis": {
           "automargin": true,
           "gridcolor": "white",
           "linecolor": "white",
           "ticks": "",
           "title": {
            "standoff": 15
           },
           "zerolinecolor": "white",
           "zerolinewidth": 2
          }
         }
        },
        "xaxis": {
         "anchor": "y",
         "autorange": true,
         "domain": [
          0,
          1
         ],
         "range": [
          2,
          62
         ],
         "title": {
          "text": "x"
         },
         "type": "linear"
        },
        "yaxis": {
         "anchor": "x",
         "autorange": true,
         "domain": [
          0,
          1
         ],
         "range": [
          92.10928961748633,
          100.4153005464481
         ],
         "title": {
          "text": "y"
         },
         "type": "linear"
        }
       }
      },
      "image/png": "[encoded data removed]",
      "text/html": [
       "<div>                            <div id=\"e22a904e-b028-494b-9f71-e656ecb4f99a\" class=\"plotly-graph-div\" style=\"height:525px; width:100%;\"></div>            <script type=\"text/javascript\">                require([\"plotly\"], function(Plotly) {                    window.PLOTLYENV=window.PLOTLYENV || {};                                    if (document.getElementById(\"e22a904e-b028-494b-9f71-e656ecb4f99a\")) {                    Plotly.newPlot(                        \"e22a904e-b028-494b-9f71-e656ecb4f99a\",                        [{\"hovertemplate\":\"x=%{x}<br>y=%{y}<extra></extra>\",\"legendgroup\":\"\",\"line\":{\"color\":\"#636efa\",\"dash\":\"solid\"},\"marker\":{\"symbol\":\"circle\"},\"mode\":\"lines\",\"name\":\"\",\"orientation\":\"v\",\"showlegend\":false,\"x\":[2,3,4,5,6,7,8,9,10,11,12,13,14,15,16,17,18,19,20,21,22,23,24,25,26,27,28,29,30,31,32,33,34,35,36,37,38,39,40,41,42,43,44,45,46,47,48,49,50,51,52,53,54,55,56,57,58,59,60,61,62],\"xaxis\":\"x\",\"y\":[98.4865150713908,100.0,100.0,94.3532522474881,94.57218402961396,93.58223162347964,92.52459016393442,93.37176097303015,92.98360655737704,92.83130618720254,92.98043363299841,93.3823373876256,93.62982548915917,93.84981491274458,93.79270227392914,94.15335801163405,94.34056054997356,94.15335801163405,94.6292966684294,94.73823373876256,94.92437863564251,95.08619777895294,95.04706504494976,95.30830248545743,95.65732416710735,95.87308302485458,96.07826546800635,96.32152300370174,96.45161290322581,96.62718138551031,96.83024854574299,97.06398730830249,97.19725013220518,97.30089899524062,97.5272342675833,97.64992067689053,97.84452670544685,97.86567953463776,98.14172395557905,98.27075621364358,98.3670015864622,98.46959280803807,98.56266525647806,98.67689053410894,98.76150185087255,98.86620835536753,98.97197250132206,99.06081438392386,99.18032786885246,99.26282390269698,99.36012691697515,99.43733474352194,99.49338974087784,99.57059756742464,99.64569011105236,99.7028027498678,99.7778952934955,99.83500793231094,99.89212057112638,99.94711792702275,100.0],\"yaxis\":\"y\",\"type\":\"scatter\"}],                        {\"template\":{\"data\":{\"histogram2dcontour\":[{\"type\":\"histogram2dcontour\",\"colorbar\":{\"outlinewidth\":0,\"ticks\":\"\"},\"colorscale\":[[0.0,\"#0d0887\"],[0.1111111111111111,\"#46039f\"],[0.2222222222222222,\"#7201a8\"],[0.3333333333333333,\"#9c179e\"],[0.4444444444444444,\"#bd3786\"],[0.5555555555555556,\"#d8576b\"],[0.6666666666666666,\"#ed7953\"],[0.7777777777777778,\"#fb9f3a\"],[0.8888888888888888,\"#fdca26\"],[1.0,\"#f0f921\"]]}],\"choropleth\":[{\"type\":\"choropleth\",\"colorbar\":{\"outlinewidth\":0,\"ticks\":\"\"}}],\"histogram2d\":[{\"type\":\"histogram2d\",\"colorbar\":{\"outlinewidth\":0,\"ticks\":\"\"},\"colorscale\":[[0.0,\"#0d0887\"],[0.1111111111111111,\"#46039f\"],[0.2222222222222222,\"#7201a8\"],[0.3333333333333333,\"#9c179e\"],[0.4444444444444444,\"#bd3786\"],[0.5555555555555556,\"#d8576b\"],[0.6666666666666666,\"#ed7953\"],[0.7777777777777778,\"#fb9f3a\"],[0.8888888888888888,\"#fdca26\"],[1.0,\"#f0f921\"]]}],\"heatmap\":[{\"type\":\"heatmap\",\"colorbar\":{\"outlinewidth\":0,\"ticks\":\"\"},\"colorscale\":[[0.0,\"#0d0887\"],[0.1111111111111111,\"#46039f\"],[0.2222222222222222,\"#7201a8\"],[0.3333333333333333,\"#9c179e\"],[0.4444444444444444,\"#bd3786\"],[0.5555555555555556,\"#d8576b\"],[0.6666666666666666,\"#ed7953\"],[0.7777777777777778,\"#fb9f3a\"],[0.8888888888888888,\"#fdca26\"],[1.0,\"#f0f921\"]]}],\"heatmapgl\":[{\"type\":\"heatmapgl\",\"colorbar\":{\"outlinewidth\":0,\"ticks\":\"\"},\"colorscale\":[[0.0,\"#0d0887\"],[0.1111111111111111,\"#46039f\"],[0.2222222222222222,\"#7201a8\"],[0.3333333333333333,\"#9c179e\"],[0.4444444444444444,\"#bd3786\"],[0.5555555555555556,\"#d8576b\"],[0.6666666666666666,\"#ed7953\"],[0.7777777777777778,\"#fb9f3a\"],[0.8888888888888888,\"#fdca26\"],[1.0,\"#f0f921\"]]}],\"contourcarpet\":[{\"type\":\"contourcarpet\",\"colorbar\":{\"outlinewidth\":0,\"ticks\":\"\"}}],\"contour\":[{\"type\":\"contour\",\"colorbar\":{\"outlinewidth\":0,\"ticks\":\"\"},\"colorscale\":[[0.0,\"#0d0887\"],[0.1111111111111111,\"#46039f\"],[0.2222222222222222,\"#7201a8\"],[0.3333333333333333,\"#9c179e\"],[0.4444444444444444,\"#bd3786\"],[0.5555555555555556,\"#d8576b\"],[0.6666666666666666,\"#ed7953\"],[0.7777777777777778,\"#fb9f3a\"],[0.8888888888888888,\"#fdca26\"],[1.0,\"#f0f921\"]]}],\"surface\":[{\"type\":\"surface\",\"colorbar\":{\"outlinewidth\":0,\"ticks\":\"\"},\"colorscale\":[[0.0,\"#0d0887\"],[0.1111111111111111,\"#46039f\"],[0.2222222222222222,\"#7201a8\"],[0.3333333333333333,\"#9c179e\"],[0.4444444444444444,\"#bd3786\"],[0.5555555555555556,\"#d8576b\"],[0.6666666666666666,\"#ed7953\"],[0.7777777777777778,\"#fb9f3a\"],[0.8888888888888888,\"#fdca26\"],[1.0,\"#f0f921\"]]}],\"mesh3d\":[{\"type\":\"mesh3d\",\"colorbar\":{\"outlinewidth\":0,\"ticks\":\"\"}}],\"scatter\":[{\"fillpattern\":{\"fillmode\":\"overlay\",\"size\":10,\"solidity\":0.2},\"type\":\"scatter\"}],\"parcoords\":[{\"type\":\"parcoords\",\"line\":{\"colorbar\":{\"outlinewidth\":0,\"ticks\":\"\"}}}],\"scatterpolargl\":[{\"type\":\"scatterpolargl\",\"marker\":{\"colorbar\":{\"outlinewidth\":0,\"ticks\":\"\"}}}],\"bar\":[{\"error_x\":{\"color\":\"#2a3f5f\"},\"error_y\":{\"color\":\"#2a3f5f\"},\"marker\":{\"line\":{\"color\":\"#E5ECF6\",\"width\":0.5},\"pattern\":{\"fillmode\":\"overlay\",\"size\":10,\"solidity\":0.2}},\"type\":\"bar\"}],\"scattergeo\":[{\"type\":\"scattergeo\",\"marker\":{\"colorbar\":{\"outlinewidth\":0,\"ticks\":\"\"}}}],\"scatterpolar\":[{\"type\":\"scatterpolar\",\"marker\":{\"colorbar\":{\"outlinewidth\":0,\"ticks\":\"\"}}}],\"histogram\":[{\"marker\":{\"pattern\":{\"fillmode\":\"overlay\",\"size\":10,\"solidity\":0.2}},\"type\":\"histogram\"}],\"scattergl\":[{\"type\":\"scattergl\",\"marker\":{\"colorbar\":{\"outlinewidth\":0,\"ticks\":\"\"}}}],\"scatter3d\":[{\"type\":\"scatter3d\",\"line\":{\"colorbar\":{\"outlinewidth\":0,\"ticks\":\"\"}},\"marker\":{\"colorbar\":{\"outlinewidth\":0,\"ticks\":\"\"}}}],\"scattermapbox\":[{\"type\":\"scattermapbox\",\"marker\":{\"colorbar\":{\"outlinewidth\":0,\"ticks\":\"\"}}}],\"scatterternary\":[{\"type\":\"scatterternary\",\"marker\":{\"colorbar\":{\"outlinewidth\":0,\"ticks\":\"\"}}}],\"scattercarpet\":[{\"type\":\"scattercarpet\",\"marker\":{\"colorbar\":{\"outlinewidth\":0,\"ticks\":\"\"}}}],\"carpet\":[{\"aaxis\":{\"endlinecolor\":\"#2a3f5f\",\"gridcolor\":\"white\",\"linecolor\":\"white\",\"minorgridcolor\":\"white\",\"startlinecolor\":\"#2a3f5f\"},\"baxis\":{\"endlinecolor\":\"#2a3f5f\",\"gridcolor\":\"white\",\"linecolor\":\"white\",\"minorgridcolor\":\"white\",\"startlinecolor\":\"#2a3f5f\"},\"type\":\"carpet\"}],\"table\":[{\"cells\":{\"fill\":{\"color\":\"#EBF0F8\"},\"line\":{\"color\":\"white\"}},\"header\":{\"fill\":{\"color\":\"#C8D4E3\"},\"line\":{\"color\":\"white\"}},\"type\":\"table\"}],\"barpolar\":[{\"marker\":{\"line\":{\"color\":\"#E5ECF6\",\"width\":0.5},\"pattern\":{\"fillmode\":\"overlay\",\"size\":10,\"solidity\":0.2}},\"type\":\"barpolar\"}],\"pie\":[{\"automargin\":true,\"type\":\"pie\"}]},\"layout\":{\"autotypenumbers\":\"strict\",\"colorway\":[\"#636efa\",\"#EF553B\",\"#00cc96\",\"#ab63fa\",\"#FFA15A\",\"#19d3f3\",\"#FF6692\",\"#B6E880\",\"#FF97FF\",\"#FECB52\"],\"font\":{\"color\":\"#2a3f5f\"},\"hovermode\":\"closest\",\"hoverlabel\":{\"align\":\"left\"},\"paper_bgcolor\":\"white\",\"plot_bgcolor\":\"#E5ECF6\",\"polar\":{\"bgcolor\":\"#E5ECF6\",\"angularaxis\":{\"gridcolor\":\"white\",\"linecolor\":\"white\",\"ticks\":\"\"},\"radialaxis\":{\"gridcolor\":\"white\",\"linecolor\":\"white\",\"ticks\":\"\"}},\"ternary\":{\"bgcolor\":\"#E5ECF6\",\"aaxis\":{\"gridcolor\":\"white\",\"linecolor\":\"white\",\"ticks\":\"\"},\"baxis\":{\"gridcolor\":\"white\",\"linecolor\":\"white\",\"ticks\":\"\"},\"caxis\":{\"gridcolor\":\"white\",\"linecolor\":\"white\",\"ticks\":\"\"}},\"coloraxis\":{\"colorbar\":{\"outlinewidth\":0,\"ticks\":\"\"}},\"colorscale\":{\"sequential\":[[0.0,\"#0d0887\"],[0.1111111111111111,\"#46039f\"],[0.2222222222222222,\"#7201a8\"],[0.3333333333333333,\"#9c179e\"],[0.4444444444444444,\"#bd3786\"],[0.5555555555555556,\"#d8576b\"],[0.6666666666666666,\"#ed7953\"],[0.7777777777777778,\"#fb9f3a\"],[0.8888888888888888,\"#fdca26\"],[1.0,\"#f0f921\"]],\"sequentialminus\":[[0.0,\"#0d0887\"],[0.1111111111111111,\"#46039f\"],[0.2222222222222222,\"#7201a8\"],[0.3333333333333333,\"#9c179e\"],[0.4444444444444444,\"#bd3786\"],[0.5555555555555556,\"#d8576b\"],[0.6666666666666666,\"#ed7953\"],[0.7777777777777778,\"#fb9f3a\"],[0.8888888888888888,\"#fdca26\"],[1.0,\"#f0f921\"]],\"diverging\":[[0,\"#8e0152\"],[0.1,\"#c51b7d\"],[0.2,\"#de77ae\"],[0.3,\"#f1b6da\"],[0.4,\"#fde0ef\"],[0.5,\"#f7f7f7\"],[0.6,\"#e6f5d0\"],[0.7,\"#b8e186\"],[0.8,\"#7fbc41\"],[0.9,\"#4d9221\"],[1,\"#276419\"]]},\"xaxis\":{\"gridcolor\":\"white\",\"linecolor\":\"white\",\"ticks\":\"\",\"title\":{\"standoff\":15},\"zerolinecolor\":\"white\",\"automargin\":true,\"zerolinewidth\":2},\"yaxis\":{\"gridcolor\":\"white\",\"linecolor\":\"white\",\"ticks\":\"\",\"title\":{\"standoff\":15},\"zerolinecolor\":\"white\",\"automargin\":true,\"zerolinewidth\":2},\"scene\":{\"xaxis\":{\"backgroundcolor\":\"#E5ECF6\",\"gridcolor\":\"white\",\"linecolor\":\"white\",\"showbackground\":true,\"ticks\":\"\",\"zerolinecolor\":\"white\",\"gridwidth\":2},\"yaxis\":{\"backgroundcolor\":\"#E5ECF6\",\"gridcolor\":\"white\",\"linecolor\":\"white\",\"showbackground\":true,\"ticks\":\"\",\"zerolinecolor\":\"white\",\"gridwidth\":2},\"zaxis\":{\"backgroundcolor\":\"#E5ECF6\",\"gridcolor\":\"white\",\"linecolor\":\"white\",\"showbackground\":true,\"ticks\":\"\",\"zerolinecolor\":\"white\",\"gridwidth\":2}},\"shapedefaults\":{\"line\":{\"color\":\"#2a3f5f\"}},\"annotationdefaults\":{\"arrowcolor\":\"#2a3f5f\",\"arrowhead\":0,\"arrowwidth\":1},\"geo\":{\"bgcolor\":\"white\",\"landcolor\":\"#E5ECF6\",\"subunitcolor\":\"white\",\"showland\":true,\"showlakes\":true,\"lakecolor\":\"white\"},\"title\":{\"x\":0.05},\"mapbox\":{\"style\":\"light\"}}},\"xaxis\":{\"anchor\":\"y\",\"domain\":[0.0,1.0],\"title\":{\"text\":\"x\"}},\"yaxis\":{\"anchor\":\"x\",\"domain\":[0.0,1.0],\"title\":{\"text\":\"y\"}},\"legend\":{\"tracegroupgap\":0},\"margin\":{\"t\":60}},                        {\"responsive\": true}                    ).then(function(){\n",
       "                            \n",
       "var gd = document.getElementById('e22a904e-b028-494b-9f71-e656ecb4f99a');\n",
       "var x = new MutationObserver(function (mutations, observer) {{\n",
       "        var display = window.getComputedStyle(gd).display;\n",
       "        if (!display || display === 'none') {{\n",
       "            console.log([gd, 'removed!']);\n",
       "            Plotly.purge(gd);\n",
       "            observer.disconnect();\n",
       "        }}\n",
       "}});\n",
       "\n",
       "// Listen for the removal of the full notebook cells\n",
       "var notebookContainer = gd.closest('#notebook-container');\n",
       "if (notebookContainer) {{\n",
       "    x.observe(notebookContainer, {childList: true});\n",
       "}}\n",
       "\n",
       "// Listen for the clearing of the current output cell\n",
       "var outputEl = gd.closest('.output');\n",
       "if (outputEl) {{\n",
       "    x.observe(outputEl, {childList: true});\n",
       "}}\n",
       "\n",
       "                        })                };                });            </script>        </div>"
      ]
     },
     "metadata": {},
     "output_type": "display_data"
    }
   ],
   "source": [
    "# Plot percent of draws the same for each number of clusters\n",
    "px.line(x = num_clust, y = pct_same)"
   ]
  }
 ],
 "metadata": {
  "kernelspec": {
   "display_name": "Python 3 (ipykernel)",
   "language": "python",
   "name": "python3"
  },
  "language_info": {
   "codemirror_mode": {
    "name": "ipython",
    "version": 3
   },
   "file_extension": ".py",
   "mimetype": "text/x-python",
   "name": "python",
   "nbconvert_exporter": "python",
   "pygments_lexer": "ipython3",
   "version": "3.9.13"
  }
 },
 "nbformat": 4,
 "nbformat_minor": 5
}
