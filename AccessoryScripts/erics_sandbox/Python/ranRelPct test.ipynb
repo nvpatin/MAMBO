{
 "cells": [
  {
   "cell_type": "code",
   "execution_count": 1,
   "id": "hourly-stand",
   "metadata": {},
   "outputs": [],
   "source": [
    "import numpy as np\n",
    "import random as ran\n",
    "import pandas as pd\n",
    "import MarineDNA as md"
   ]
  },
  {
   "cell_type": "code",
   "execution_count": 2,
   "id": "lasting-bridal",
   "metadata": {},
   "outputs": [
    {
     "name": "stdout",
     "output_type": "stream",
     "text": [
      "[[0 3 3 3 1 4]\n",
      " [0 2 1 4 1 3]\n",
      " [4 0 0 1 0 4]\n",
      " [1 0 3 3 2 4]]\n"
     ]
    }
   ],
   "source": [
    "test_mat = np.random.randint(5, size=(4, 6))\n",
    "print(test_mat)"
   ]
  },
  {
   "cell_type": "code",
   "execution_count": 3,
   "id": "rubber-element",
   "metadata": {},
   "outputs": [
    {
     "name": "stdout",
     "output_type": "stream",
     "text": [
      "[[0.04678072 0.44858847 0.17168463 0.2752584  0.06242719 0.42233488]\n",
      " [0.26818762 0.3224755  0.0261883  0.64047999 0.22289739 0.25574034]\n",
      " [0.58196077 0.12134776 0.08462004 0.22677765 0.08265076 0.72907142]\n",
      " [0.23348055 0.0829413  0.32926339 0.09406018 0.45704189 0.31316286]]\n"
     ]
    }
   ],
   "source": [
    "print(md.ranRelPct(test_mat))"
   ]
  },
  {
   "cell_type": "code",
   "execution_count": 4,
   "id": "6bc80dcf",
   "metadata": {},
   "outputs": [],
   "source": [
    "df = pd.DataFrame(test_mat)"
   ]
  },
  {
   "cell_type": "code",
   "execution_count": 5,
   "id": "6c883e75",
   "metadata": {},
   "outputs": [
    {
     "name": "stdout",
     "output_type": "stream",
     "text": [
      "   0  1  2  3  4  5\n",
      "0  0  3  3  3  1  4\n",
      "1  0  2  1  4  1  3\n",
      "2  4  0  0  1  0  4\n",
      "3  1  0  3  3  2  4\n"
     ]
    }
   ],
   "source": [
    "print(df)"
   ]
  },
  {
   "cell_type": "code",
   "execution_count": 6,
   "id": "0a4bd502",
   "metadata": {},
   "outputs": [
    {
     "ename": "AttributeError",
     "evalue": "module 'MarineDNA' has no attribute 'RanRelPct_df'",
     "output_type": "error",
     "traceback": [
      "\u001b[0;31m---------------------------------------------------------------------------\u001b[0m",
      "\u001b[0;31mAttributeError\u001b[0m                            Traceback (most recent call last)",
      "Cell \u001b[0;32mIn[6], line 1\u001b[0m\n\u001b[0;32m----> 1\u001b[0m \u001b[38;5;28mprint\u001b[39m(\u001b[43mmd\u001b[49m\u001b[38;5;241;43m.\u001b[39;49m\u001b[43mRanRelPct_df\u001b[49m(df))\n",
      "\u001b[0;31mAttributeError\u001b[0m: module 'MarineDNA' has no attribute 'RanRelPct_df'"
     ]
    }
   ],
   "source": [
    "print(md.ranRelPct_df(df))"
   ]
  }
 ],
 "metadata": {
  "kernelspec": {
   "display_name": "Python 3 (ipykernel)",
   "language": "python",
   "name": "python3"
  },
  "language_info": {
   "codemirror_mode": {
    "name": "ipython",
    "version": 3
   },
   "file_extension": ".py",
   "mimetype": "text/x-python",
   "name": "python",
   "nbconvert_exporter": "python",
   "pygments_lexer": "ipython3",
   "version": "3.10.4"
  }
 },
 "nbformat": 4,
 "nbformat_minor": 5
}
