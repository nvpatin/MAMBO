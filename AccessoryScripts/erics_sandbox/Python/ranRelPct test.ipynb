{
 "cells": [
  {
   "cell_type": "code",
   "execution_count": 1,
   "id": "hourly-stand",
   "metadata": {},
   "outputs": [],
   "source": [
    "import numpy as np\n",
    "import random as ran"
   ]
  },
  {
   "cell_type": "code",
   "execution_count": 2,
   "id": "human-stations",
   "metadata": {},
   "outputs": [],
   "source": [
    "def ranRelPct(mat):\n",
    "    def drawOneSample(x, total):\n",
    "        a = x + 1\n",
    "        return ran.betavariate(a, total - a)\n",
    "    p = [[drawOneSample(count, sum(row)) for count in row] for row in mat]\n",
    "    return(np.array(p))"
   ]
  },
  {
   "cell_type": "code",
   "execution_count": 3,
   "id": "lasting-bridal",
   "metadata": {},
   "outputs": [
    {
     "name": "stdout",
     "output_type": "stream",
     "text": [
      "[[0 3 0 1 0 3]\n",
      " [0 1 1 2 0 4]\n",
      " [2 1 1 3 0 0]\n",
      " [2 0 0 2 2 2]]\n"
     ]
    }
   ],
   "source": [
    "test_mat = np.random.randint(5, size=(4, 6))\n",
    "print(test_mat)"
   ]
  },
  {
   "cell_type": "code",
   "execution_count": 4,
   "id": "rubber-element",
   "metadata": {},
   "outputs": [
    {
     "name": "stdout",
     "output_type": "stream",
     "text": [
      "[[0.06025637 0.64070463 0.01003007 0.45564048 0.10659206 0.56330264]\n",
      " [0.06098899 0.24255544 0.53886416 0.31612821 0.05476879 0.35879289]\n",
      " [0.66739798 0.22994133 0.39037374 0.51273666 0.02002007 0.00166347]\n",
      " [0.5535508  0.13143933 0.00235194 0.28037971 0.38237116 0.32079415]]\n"
     ]
    }
   ],
   "source": [
    "print(ranRelPct(test_mat))"
   ]
  },
  {
   "cell_type": "code",
   "execution_count": null,
   "id": "exotic-sailing",
   "metadata": {},
   "outputs": [],
   "source": []
  }
 ],
 "metadata": {
  "kernelspec": {
   "display_name": "Python 3",
   "language": "python",
   "name": "python3"
  },
  "language_info": {
   "codemirror_mode": {
    "name": "ipython",
    "version": 3
   },
   "file_extension": ".py",
   "mimetype": "text/x-python",
   "name": "python",
   "nbconvert_exporter": "python",
   "pygments_lexer": "ipython3",
   "version": "3.8.3"
  }
 },
 "nbformat": 4,
 "nbformat_minor": 5
}
