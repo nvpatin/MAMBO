{
 "cells": [
  {
   "cell_type": "code",
   "execution_count": 7,
   "id": "hourly-stand",
   "metadata": {},
   "outputs": [],
   "source": [
    "import numpy as np\n",
    "import random as ran\n",
    "import pandas as pd\n",
    "import MarineDNA as md"
   ]
  },
  {
   "cell_type": "code",
   "execution_count": 8,
   "id": "lasting-bridal",
   "metadata": {},
   "outputs": [
    {
     "name": "stdout",
     "output_type": "stream",
     "text": [
      "[[2 3 1 0 3 2]\n",
      " [3 3 2 3 0 2]\n",
      " [2 2 0 2 1 3]\n",
      " [2 4 0 1 2 1]]\n"
     ]
    }
   ],
   "source": [
    "test_mat = np.random.randint(5, size=(4, 6))\n",
    "print(test_mat)"
   ]
  },
  {
   "cell_type": "code",
   "execution_count": 10,
   "id": "e54d2c48",
   "metadata": {},
   "outputs": [],
   "source": [
    "df = pd.read"
   ]
  },
  {
   "cell_type": "code",
   "execution_count": 11,
   "id": "8c1702ac",
   "metadata": {},
   "outputs": [
    {
     "name": "stdout",
     "output_type": "stream",
     "text": [
      "   0  1  2  3  4  5\n",
      "0  2  3  1  0  3  2\n",
      "1  3  3  2  3  0  2\n",
      "2  2  2  0  2  1  3\n",
      "3  2  4  0  1  2  1\n"
     ]
    }
   ],
   "source": [
    "print(df)"
   ]
  },
  {
   "cell_type": "code",
   "execution_count": 12,
   "id": "348c395c",
   "metadata": {},
   "outputs": [
    {
     "name": "stdout",
     "output_type": "stream",
     "text": [
      "0    [0.17606920845486124, 0.22843998663266937, 0.3...\n",
      "1    [0.2764656713110937, 0.2859338648019954, 0.187...\n",
      "2    [0.1782558253842127, 0.10437064514196853, 0.21...\n",
      "3    [0.37788324310730786, 0.6617389635253831, 0.09...\n",
      "dtype: object\n"
     ]
    }
   ],
   "source": [
    "print(md.ranRelPct_df(df))"
   ]
  },
  {
   "cell_type": "code",
   "execution_count": null,
   "id": "f4ec7465-e4fb-4566-a26a-e532cf021c89",
   "metadata": {},
   "outputs": [],
   "source": []
  }
 ],
 "metadata": {
  "kernelspec": {
   "display_name": "Python 3 (ipykernel)",
   "language": "python",
   "name": "python3"
  },
  "language_info": {
   "codemirror_mode": {
    "name": "ipython",
    "version": 3
   },
   "file_extension": ".py",
   "mimetype": "text/x-python",
   "name": "python",
   "nbconvert_exporter": "python",
   "pygments_lexer": "ipython3",
   "version": "3.8.15"
  }
 },
 "nbformat": 4,
 "nbformat_minor": 5
}
