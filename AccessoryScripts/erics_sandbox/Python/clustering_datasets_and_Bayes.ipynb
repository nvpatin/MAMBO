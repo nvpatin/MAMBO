{
 "cells": [
  {
   "cell_type": "code",
   "execution_count": 51,
   "id": "significant-cornell",
   "metadata": {},
   "outputs": [],
   "source": [
    "import pandas as pd\n",
    "import MarineDNA as md\n",
    "import plotly.express as px\n",
    "import numpy as np\n",
    "from sklearn.cluster import AgglomerativeClustering\n",
    "from sklearn.decomposition import PCA"
   ]
  },
  {
   "cell_type": "code",
   "execution_count": 15,
   "id": "f5e32982-5d77-43e7-8aeb-d0d7f4b2717b",
   "metadata": {},
   "outputs": [],
   "source": [
    "file1 = \"../../../Data/merged_data/no_duplicates/Merged2018_16S_otu_filtered.tsv\"\n",
    "file2 = \"../../../Data/merged_data/no_duplicates/Merged2018_18S_otu_filtered.tsv\"\n",
    "asvs_16S = pd.read_csv(file1, index_col=0, sep=\"\\t\")\n",
    "asvs_18S = pd.read_csv(file2, index_col=0, sep=\"\\t\")"
   ]
  },
  {
   "cell_type": "code",
   "execution_count": 30,
   "id": "186e91cb-539f-49d3-857e-b0be36cf330d",
   "metadata": {},
   "outputs": [
    {
     "data": {
      "text/html": [
       "<div>\n",
       "<style scoped>\n",
       "    .dataframe tbody tr th:only-of-type {\n",
       "        vertical-align: middle;\n",
       "    }\n",
       "\n",
       "    .dataframe tbody tr th {\n",
       "        vertical-align: top;\n",
       "    }\n",
       "\n",
       "    .dataframe thead th {\n",
       "        text-align: right;\n",
       "    }\n",
       "</style>\n",
       "<table border=\"1\" class=\"dataframe\">\n",
       "  <thead>\n",
       "    <tr style=\"text-align: right;\">\n",
       "      <th>ASV ID</th>\n",
       "      <th>495c1bd1608a1dad54d3e2824ce899ef</th>\n",
       "      <th>a900b6678ce86851fb16bfafb87f3326</th>\n",
       "      <th>c8e360969108fa2125a3d56eb4dad24f</th>\n",
       "      <th>72143fd9e63fe40c1258948d2f0d79c3</th>\n",
       "      <th>7b6b178fad5599c0e9a734e4fb09fd64</th>\n",
       "      <th>4bbec3bb723375416616a87d785ac74a</th>\n",
       "      <th>0c35cfa523aa27921ef8544a16d1cd36</th>\n",
       "      <th>7ec69f2c62aad60e060e588ef687bdd0</th>\n",
       "      <th>61e9a50f4346bb3a5b16179b8eca71fa</th>\n",
       "      <th>a140195871278e8fcf9447e42bad8786</th>\n",
       "      <th>...</th>\n",
       "      <th>995cc65bcfa53a868c42615004e99ad3</th>\n",
       "      <th>46b90aab075ecd8e4db549da708550d8</th>\n",
       "      <th>c4e1933274329209b7cf24daf18dfe0d</th>\n",
       "      <th>aa9e141a5e2781d280406c513bf34d45</th>\n",
       "      <th>d7682f536589fc5f920533513dd0002b</th>\n",
       "      <th>674933a0d44342a0647f7a5b4591f26e</th>\n",
       "      <th>bebe1b9a7e9aaa78172c1208111f4570</th>\n",
       "      <th>0128431733f67d02efad766d717fe6fd</th>\n",
       "      <th>41102a7dd1f4647ba5477c947daabc0e</th>\n",
       "      <th>51440f89c391fb32f9ee895db22bf8f8</th>\n",
       "    </tr>\n",
       "  </thead>\n",
       "  <tbody>\n",
       "    <tr>\n",
       "      <th>CN18Fc12_8_eDNA</th>\n",
       "      <td>-2.378413</td>\n",
       "      <td>-3.369011</td>\n",
       "      <td>-3.785973</td>\n",
       "      <td>-4.018545</td>\n",
       "      <td>-3.854298</td>\n",
       "      <td>-4.957980</td>\n",
       "      <td>-11.207407</td>\n",
       "      <td>-4.142199</td>\n",
       "      <td>-3.529455</td>\n",
       "      <td>-4.068907</td>\n",
       "      <td>...</td>\n",
       "      <td>-9.014709</td>\n",
       "      <td>-8.410203</td>\n",
       "      <td>-9.772417</td>\n",
       "      <td>-12.996136</td>\n",
       "      <td>-9.247176</td>\n",
       "      <td>-12.742194</td>\n",
       "      <td>-11.830134</td>\n",
       "      <td>-11.248812</td>\n",
       "      <td>-10.294835</td>\n",
       "      <td>-9.188598</td>\n",
       "    </tr>\n",
       "    <tr>\n",
       "      <th>CN18Fc19_5_eDNA</th>\n",
       "      <td>-1.587599</td>\n",
       "      <td>-3.098862</td>\n",
       "      <td>-2.976983</td>\n",
       "      <td>-3.134390</td>\n",
       "      <td>-3.150967</td>\n",
       "      <td>-4.523760</td>\n",
       "      <td>-5.291080</td>\n",
       "      <td>-4.249724</td>\n",
       "      <td>-4.048346</td>\n",
       "      <td>-3.790040</td>\n",
       "      <td>...</td>\n",
       "      <td>-11.048005</td>\n",
       "      <td>-10.683545</td>\n",
       "      <td>-12.878937</td>\n",
       "      <td>-11.633353</td>\n",
       "      <td>-9.780870</td>\n",
       "      <td>-10.800591</td>\n",
       "      <td>-11.615101</td>\n",
       "      <td>-11.474808</td>\n",
       "      <td>-11.415205</td>\n",
       "      <td>-9.869198</td>\n",
       "    </tr>\n",
       "    <tr>\n",
       "      <th>CN18Fc21_6_eDNA</th>\n",
       "      <td>-1.887255</td>\n",
       "      <td>-3.102123</td>\n",
       "      <td>-3.234806</td>\n",
       "      <td>-3.242718</td>\n",
       "      <td>-3.603849</td>\n",
       "      <td>-4.334532</td>\n",
       "      <td>-4.635524</td>\n",
       "      <td>-3.997826</td>\n",
       "      <td>-3.720854</td>\n",
       "      <td>-3.926365</td>\n",
       "      <td>...</td>\n",
       "      <td>-10.387803</td>\n",
       "      <td>-11.427691</td>\n",
       "      <td>-10.615036</td>\n",
       "      <td>-10.932742</td>\n",
       "      <td>-11.182335</td>\n",
       "      <td>-12.114738</td>\n",
       "      <td>-13.273016</td>\n",
       "      <td>-13.633329</td>\n",
       "      <td>-18.520559</td>\n",
       "      <td>-12.335467</td>\n",
       "    </tr>\n",
       "    <tr>\n",
       "      <th>CN18Fc22_6_eDNA</th>\n",
       "      <td>-1.704653</td>\n",
       "      <td>-3.251212</td>\n",
       "      <td>-3.178024</td>\n",
       "      <td>-3.168909</td>\n",
       "      <td>-3.341454</td>\n",
       "      <td>-4.591858</td>\n",
       "      <td>-5.008526</td>\n",
       "      <td>-4.216495</td>\n",
       "      <td>-3.973574</td>\n",
       "      <td>-4.051521</td>\n",
       "      <td>...</td>\n",
       "      <td>-11.195165</td>\n",
       "      <td>-11.193358</td>\n",
       "      <td>-11.042665</td>\n",
       "      <td>-11.905558</td>\n",
       "      <td>-12.885949</td>\n",
       "      <td>-11.138985</td>\n",
       "      <td>-12.811245</td>\n",
       "      <td>-9.896409</td>\n",
       "      <td>-12.023891</td>\n",
       "      <td>-10.824480</td>\n",
       "    </tr>\n",
       "    <tr>\n",
       "      <th>CN18Fc24_6_eDNA</th>\n",
       "      <td>-1.880794</td>\n",
       "      <td>-3.444575</td>\n",
       "      <td>-3.098435</td>\n",
       "      <td>-3.126092</td>\n",
       "      <td>-3.358328</td>\n",
       "      <td>-4.329323</td>\n",
       "      <td>-5.129402</td>\n",
       "      <td>-4.122507</td>\n",
       "      <td>-3.814556</td>\n",
       "      <td>-4.184728</td>\n",
       "      <td>...</td>\n",
       "      <td>-13.512908</td>\n",
       "      <td>-10.166657</td>\n",
       "      <td>-10.405370</td>\n",
       "      <td>-10.314484</td>\n",
       "      <td>-8.981388</td>\n",
       "      <td>-13.930453</td>\n",
       "      <td>-10.387630</td>\n",
       "      <td>-12.182197</td>\n",
       "      <td>-11.134392</td>\n",
       "      <td>-11.988887</td>\n",
       "    </tr>\n",
       "    <tr>\n",
       "      <th>...</th>\n",
       "      <td>...</td>\n",
       "      <td>...</td>\n",
       "      <td>...</td>\n",
       "      <td>...</td>\n",
       "      <td>...</td>\n",
       "      <td>...</td>\n",
       "      <td>...</td>\n",
       "      <td>...</td>\n",
       "      <td>...</td>\n",
       "      <td>...</td>\n",
       "      <td>...</td>\n",
       "      <td>...</td>\n",
       "      <td>...</td>\n",
       "      <td>...</td>\n",
       "      <td>...</td>\n",
       "      <td>...</td>\n",
       "      <td>...</td>\n",
       "      <td>...</td>\n",
       "      <td>...</td>\n",
       "      <td>...</td>\n",
       "      <td>...</td>\n",
       "    </tr>\n",
       "    <tr>\n",
       "      <th>CN18SESPkoa_SC42</th>\n",
       "      <td>-3.035495</td>\n",
       "      <td>-1.616085</td>\n",
       "      <td>-6.886600</td>\n",
       "      <td>-5.876543</td>\n",
       "      <td>-6.643857</td>\n",
       "      <td>-4.547136</td>\n",
       "      <td>-3.044867</td>\n",
       "      <td>-5.715603</td>\n",
       "      <td>-6.247619</td>\n",
       "      <td>-5.288427</td>\n",
       "      <td>...</td>\n",
       "      <td>-9.935985</td>\n",
       "      <td>-13.283564</td>\n",
       "      <td>-10.493476</td>\n",
       "      <td>-11.582430</td>\n",
       "      <td>-9.585490</td>\n",
       "      <td>-10.698694</td>\n",
       "      <td>-11.767815</td>\n",
       "      <td>-11.375412</td>\n",
       "      <td>-11.692256</td>\n",
       "      <td>-13.958600</td>\n",
       "    </tr>\n",
       "    <tr>\n",
       "      <th>CN18SESPkoa_SC44</th>\n",
       "      <td>-6.102613</td>\n",
       "      <td>-4.499137</td>\n",
       "      <td>-4.843580</td>\n",
       "      <td>-5.091624</td>\n",
       "      <td>-4.967108</td>\n",
       "      <td>-3.228550</td>\n",
       "      <td>-8.519800</td>\n",
       "      <td>-3.478708</td>\n",
       "      <td>-5.648037</td>\n",
       "      <td>-11.481353</td>\n",
       "      <td>...</td>\n",
       "      <td>-9.630980</td>\n",
       "      <td>-9.905503</td>\n",
       "      <td>-10.953949</td>\n",
       "      <td>-10.598331</td>\n",
       "      <td>-8.736200</td>\n",
       "      <td>-9.085089</td>\n",
       "      <td>-11.280933</td>\n",
       "      <td>-10.988160</td>\n",
       "      <td>-9.263342</td>\n",
       "      <td>-8.751608</td>\n",
       "    </tr>\n",
       "    <tr>\n",
       "      <th>CN18SESPkoa_SC45</th>\n",
       "      <td>-3.224491</td>\n",
       "      <td>-1.630342</td>\n",
       "      <td>-7.387682</td>\n",
       "      <td>-6.132497</td>\n",
       "      <td>-6.683227</td>\n",
       "      <td>-4.933105</td>\n",
       "      <td>-2.841109</td>\n",
       "      <td>-6.209303</td>\n",
       "      <td>-6.394166</td>\n",
       "      <td>-5.826867</td>\n",
       "      <td>...</td>\n",
       "      <td>-11.573902</td>\n",
       "      <td>-15.695320</td>\n",
       "      <td>-11.221712</td>\n",
       "      <td>-11.333059</td>\n",
       "      <td>-13.457073</td>\n",
       "      <td>-11.253673</td>\n",
       "      <td>-9.895053</td>\n",
       "      <td>-10.616310</td>\n",
       "      <td>-11.720490</td>\n",
       "      <td>-10.863420</td>\n",
       "    </tr>\n",
       "    <tr>\n",
       "      <th>CN18SESPkoa_SC47</th>\n",
       "      <td>-3.443543</td>\n",
       "      <td>-1.714866</td>\n",
       "      <td>-7.784885</td>\n",
       "      <td>-6.118163</td>\n",
       "      <td>-6.688243</td>\n",
       "      <td>-5.163195</td>\n",
       "      <td>-3.160888</td>\n",
       "      <td>-6.467150</td>\n",
       "      <td>-6.759575</td>\n",
       "      <td>-5.657093</td>\n",
       "      <td>...</td>\n",
       "      <td>-10.598968</td>\n",
       "      <td>-9.917348</td>\n",
       "      <td>-11.651373</td>\n",
       "      <td>-11.433969</td>\n",
       "      <td>-9.753111</td>\n",
       "      <td>-10.879285</td>\n",
       "      <td>-13.230673</td>\n",
       "      <td>-11.760083</td>\n",
       "      <td>-11.661451</td>\n",
       "      <td>-12.189107</td>\n",
       "    </tr>\n",
       "    <tr>\n",
       "      <th>CN18SESPkoa_SC49</th>\n",
       "      <td>-3.341222</td>\n",
       "      <td>-1.678019</td>\n",
       "      <td>-7.197115</td>\n",
       "      <td>-6.529739</td>\n",
       "      <td>-6.794065</td>\n",
       "      <td>-5.239084</td>\n",
       "      <td>-2.986639</td>\n",
       "      <td>-6.672507</td>\n",
       "      <td>-6.507750</td>\n",
       "      <td>-5.727118</td>\n",
       "      <td>...</td>\n",
       "      <td>-9.779601</td>\n",
       "      <td>-9.178015</td>\n",
       "      <td>-9.713206</td>\n",
       "      <td>-12.157356</td>\n",
       "      <td>-9.731488</td>\n",
       "      <td>-13.718628</td>\n",
       "      <td>-10.455074</td>\n",
       "      <td>-11.936828</td>\n",
       "      <td>-11.891625</td>\n",
       "      <td>-13.370560</td>\n",
       "    </tr>\n",
       "  </tbody>\n",
       "</table>\n",
       "<p>62 rows × 2752 columns</p>\n",
       "</div>"
      ],
      "text/plain": [
       "ASV ID            495c1bd1608a1dad54d3e2824ce899ef  \\\n",
       "CN18Fc12_8_eDNA                          -2.378413   \n",
       "CN18Fc19_5_eDNA                          -1.587599   \n",
       "CN18Fc21_6_eDNA                          -1.887255   \n",
       "CN18Fc22_6_eDNA                          -1.704653   \n",
       "CN18Fc24_6_eDNA                          -1.880794   \n",
       "...                                            ...   \n",
       "CN18SESPkoa_SC42                         -3.035495   \n",
       "CN18SESPkoa_SC44                         -6.102613   \n",
       "CN18SESPkoa_SC45                         -3.224491   \n",
       "CN18SESPkoa_SC47                         -3.443543   \n",
       "CN18SESPkoa_SC49                         -3.341222   \n",
       "\n",
       "ASV ID            a900b6678ce86851fb16bfafb87f3326  \\\n",
       "CN18Fc12_8_eDNA                          -3.369011   \n",
       "CN18Fc19_5_eDNA                          -3.098862   \n",
       "CN18Fc21_6_eDNA                          -3.102123   \n",
       "CN18Fc22_6_eDNA                          -3.251212   \n",
       "CN18Fc24_6_eDNA                          -3.444575   \n",
       "...                                            ...   \n",
       "CN18SESPkoa_SC42                         -1.616085   \n",
       "CN18SESPkoa_SC44                         -4.499137   \n",
       "CN18SESPkoa_SC45                         -1.630342   \n",
       "CN18SESPkoa_SC47                         -1.714866   \n",
       "CN18SESPkoa_SC49                         -1.678019   \n",
       "\n",
       "ASV ID            c8e360969108fa2125a3d56eb4dad24f  \\\n",
       "CN18Fc12_8_eDNA                          -3.785973   \n",
       "CN18Fc19_5_eDNA                          -2.976983   \n",
       "CN18Fc21_6_eDNA                          -3.234806   \n",
       "CN18Fc22_6_eDNA                          -3.178024   \n",
       "CN18Fc24_6_eDNA                          -3.098435   \n",
       "...                                            ...   \n",
       "CN18SESPkoa_SC42                         -6.886600   \n",
       "CN18SESPkoa_SC44                         -4.843580   \n",
       "CN18SESPkoa_SC45                         -7.387682   \n",
       "CN18SESPkoa_SC47                         -7.784885   \n",
       "CN18SESPkoa_SC49                         -7.197115   \n",
       "\n",
       "ASV ID            72143fd9e63fe40c1258948d2f0d79c3  \\\n",
       "CN18Fc12_8_eDNA                          -4.018545   \n",
       "CN18Fc19_5_eDNA                          -3.134390   \n",
       "CN18Fc21_6_eDNA                          -3.242718   \n",
       "CN18Fc22_6_eDNA                          -3.168909   \n",
       "CN18Fc24_6_eDNA                          -3.126092   \n",
       "...                                            ...   \n",
       "CN18SESPkoa_SC42                         -5.876543   \n",
       "CN18SESPkoa_SC44                         -5.091624   \n",
       "CN18SESPkoa_SC45                         -6.132497   \n",
       "CN18SESPkoa_SC47                         -6.118163   \n",
       "CN18SESPkoa_SC49                         -6.529739   \n",
       "\n",
       "ASV ID            7b6b178fad5599c0e9a734e4fb09fd64  \\\n",
       "CN18Fc12_8_eDNA                          -3.854298   \n",
       "CN18Fc19_5_eDNA                          -3.150967   \n",
       "CN18Fc21_6_eDNA                          -3.603849   \n",
       "CN18Fc22_6_eDNA                          -3.341454   \n",
       "CN18Fc24_6_eDNA                          -3.358328   \n",
       "...                                            ...   \n",
       "CN18SESPkoa_SC42                         -6.643857   \n",
       "CN18SESPkoa_SC44                         -4.967108   \n",
       "CN18SESPkoa_SC45                         -6.683227   \n",
       "CN18SESPkoa_SC47                         -6.688243   \n",
       "CN18SESPkoa_SC49                         -6.794065   \n",
       "\n",
       "ASV ID            4bbec3bb723375416616a87d785ac74a  \\\n",
       "CN18Fc12_8_eDNA                          -4.957980   \n",
       "CN18Fc19_5_eDNA                          -4.523760   \n",
       "CN18Fc21_6_eDNA                          -4.334532   \n",
       "CN18Fc22_6_eDNA                          -4.591858   \n",
       "CN18Fc24_6_eDNA                          -4.329323   \n",
       "...                                            ...   \n",
       "CN18SESPkoa_SC42                         -4.547136   \n",
       "CN18SESPkoa_SC44                         -3.228550   \n",
       "CN18SESPkoa_SC45                         -4.933105   \n",
       "CN18SESPkoa_SC47                         -5.163195   \n",
       "CN18SESPkoa_SC49                         -5.239084   \n",
       "\n",
       "ASV ID            0c35cfa523aa27921ef8544a16d1cd36  \\\n",
       "CN18Fc12_8_eDNA                         -11.207407   \n",
       "CN18Fc19_5_eDNA                          -5.291080   \n",
       "CN18Fc21_6_eDNA                          -4.635524   \n",
       "CN18Fc22_6_eDNA                          -5.008526   \n",
       "CN18Fc24_6_eDNA                          -5.129402   \n",
       "...                                            ...   \n",
       "CN18SESPkoa_SC42                         -3.044867   \n",
       "CN18SESPkoa_SC44                         -8.519800   \n",
       "CN18SESPkoa_SC45                         -2.841109   \n",
       "CN18SESPkoa_SC47                         -3.160888   \n",
       "CN18SESPkoa_SC49                         -2.986639   \n",
       "\n",
       "ASV ID            7ec69f2c62aad60e060e588ef687bdd0  \\\n",
       "CN18Fc12_8_eDNA                          -4.142199   \n",
       "CN18Fc19_5_eDNA                          -4.249724   \n",
       "CN18Fc21_6_eDNA                          -3.997826   \n",
       "CN18Fc22_6_eDNA                          -4.216495   \n",
       "CN18Fc24_6_eDNA                          -4.122507   \n",
       "...                                            ...   \n",
       "CN18SESPkoa_SC42                         -5.715603   \n",
       "CN18SESPkoa_SC44                         -3.478708   \n",
       "CN18SESPkoa_SC45                         -6.209303   \n",
       "CN18SESPkoa_SC47                         -6.467150   \n",
       "CN18SESPkoa_SC49                         -6.672507   \n",
       "\n",
       "ASV ID            61e9a50f4346bb3a5b16179b8eca71fa  \\\n",
       "CN18Fc12_8_eDNA                          -3.529455   \n",
       "CN18Fc19_5_eDNA                          -4.048346   \n",
       "CN18Fc21_6_eDNA                          -3.720854   \n",
       "CN18Fc22_6_eDNA                          -3.973574   \n",
       "CN18Fc24_6_eDNA                          -3.814556   \n",
       "...                                            ...   \n",
       "CN18SESPkoa_SC42                         -6.247619   \n",
       "CN18SESPkoa_SC44                         -5.648037   \n",
       "CN18SESPkoa_SC45                         -6.394166   \n",
       "CN18SESPkoa_SC47                         -6.759575   \n",
       "CN18SESPkoa_SC49                         -6.507750   \n",
       "\n",
       "ASV ID            a140195871278e8fcf9447e42bad8786  ...  \\\n",
       "CN18Fc12_8_eDNA                          -4.068907  ...   \n",
       "CN18Fc19_5_eDNA                          -3.790040  ...   \n",
       "CN18Fc21_6_eDNA                          -3.926365  ...   \n",
       "CN18Fc22_6_eDNA                          -4.051521  ...   \n",
       "CN18Fc24_6_eDNA                          -4.184728  ...   \n",
       "...                                            ...  ...   \n",
       "CN18SESPkoa_SC42                         -5.288427  ...   \n",
       "CN18SESPkoa_SC44                        -11.481353  ...   \n",
       "CN18SESPkoa_SC45                         -5.826867  ...   \n",
       "CN18SESPkoa_SC47                         -5.657093  ...   \n",
       "CN18SESPkoa_SC49                         -5.727118  ...   \n",
       "\n",
       "ASV ID            995cc65bcfa53a868c42615004e99ad3  \\\n",
       "CN18Fc12_8_eDNA                          -9.014709   \n",
       "CN18Fc19_5_eDNA                         -11.048005   \n",
       "CN18Fc21_6_eDNA                         -10.387803   \n",
       "CN18Fc22_6_eDNA                         -11.195165   \n",
       "CN18Fc24_6_eDNA                         -13.512908   \n",
       "...                                            ...   \n",
       "CN18SESPkoa_SC42                         -9.935985   \n",
       "CN18SESPkoa_SC44                         -9.630980   \n",
       "CN18SESPkoa_SC45                        -11.573902   \n",
       "CN18SESPkoa_SC47                        -10.598968   \n",
       "CN18SESPkoa_SC49                         -9.779601   \n",
       "\n",
       "ASV ID            46b90aab075ecd8e4db549da708550d8  \\\n",
       "CN18Fc12_8_eDNA                          -8.410203   \n",
       "CN18Fc19_5_eDNA                         -10.683545   \n",
       "CN18Fc21_6_eDNA                         -11.427691   \n",
       "CN18Fc22_6_eDNA                         -11.193358   \n",
       "CN18Fc24_6_eDNA                         -10.166657   \n",
       "...                                            ...   \n",
       "CN18SESPkoa_SC42                        -13.283564   \n",
       "CN18SESPkoa_SC44                         -9.905503   \n",
       "CN18SESPkoa_SC45                        -15.695320   \n",
       "CN18SESPkoa_SC47                         -9.917348   \n",
       "CN18SESPkoa_SC49                         -9.178015   \n",
       "\n",
       "ASV ID            c4e1933274329209b7cf24daf18dfe0d  \\\n",
       "CN18Fc12_8_eDNA                          -9.772417   \n",
       "CN18Fc19_5_eDNA                         -12.878937   \n",
       "CN18Fc21_6_eDNA                         -10.615036   \n",
       "CN18Fc22_6_eDNA                         -11.042665   \n",
       "CN18Fc24_6_eDNA                         -10.405370   \n",
       "...                                            ...   \n",
       "CN18SESPkoa_SC42                        -10.493476   \n",
       "CN18SESPkoa_SC44                        -10.953949   \n",
       "CN18SESPkoa_SC45                        -11.221712   \n",
       "CN18SESPkoa_SC47                        -11.651373   \n",
       "CN18SESPkoa_SC49                         -9.713206   \n",
       "\n",
       "ASV ID            aa9e141a5e2781d280406c513bf34d45  \\\n",
       "CN18Fc12_8_eDNA                         -12.996136   \n",
       "CN18Fc19_5_eDNA                         -11.633353   \n",
       "CN18Fc21_6_eDNA                         -10.932742   \n",
       "CN18Fc22_6_eDNA                         -11.905558   \n",
       "CN18Fc24_6_eDNA                         -10.314484   \n",
       "...                                            ...   \n",
       "CN18SESPkoa_SC42                        -11.582430   \n",
       "CN18SESPkoa_SC44                        -10.598331   \n",
       "CN18SESPkoa_SC45                        -11.333059   \n",
       "CN18SESPkoa_SC47                        -11.433969   \n",
       "CN18SESPkoa_SC49                        -12.157356   \n",
       "\n",
       "ASV ID            d7682f536589fc5f920533513dd0002b  \\\n",
       "CN18Fc12_8_eDNA                          -9.247176   \n",
       "CN18Fc19_5_eDNA                          -9.780870   \n",
       "CN18Fc21_6_eDNA                         -11.182335   \n",
       "CN18Fc22_6_eDNA                         -12.885949   \n",
       "CN18Fc24_6_eDNA                          -8.981388   \n",
       "...                                            ...   \n",
       "CN18SESPkoa_SC42                         -9.585490   \n",
       "CN18SESPkoa_SC44                         -8.736200   \n",
       "CN18SESPkoa_SC45                        -13.457073   \n",
       "CN18SESPkoa_SC47                         -9.753111   \n",
       "CN18SESPkoa_SC49                         -9.731488   \n",
       "\n",
       "ASV ID            674933a0d44342a0647f7a5b4591f26e  \\\n",
       "CN18Fc12_8_eDNA                         -12.742194   \n",
       "CN18Fc19_5_eDNA                         -10.800591   \n",
       "CN18Fc21_6_eDNA                         -12.114738   \n",
       "CN18Fc22_6_eDNA                         -11.138985   \n",
       "CN18Fc24_6_eDNA                         -13.930453   \n",
       "...                                            ...   \n",
       "CN18SESPkoa_SC42                        -10.698694   \n",
       "CN18SESPkoa_SC44                         -9.085089   \n",
       "CN18SESPkoa_SC45                        -11.253673   \n",
       "CN18SESPkoa_SC47                        -10.879285   \n",
       "CN18SESPkoa_SC49                        -13.718628   \n",
       "\n",
       "ASV ID            bebe1b9a7e9aaa78172c1208111f4570  \\\n",
       "CN18Fc12_8_eDNA                         -11.830134   \n",
       "CN18Fc19_5_eDNA                         -11.615101   \n",
       "CN18Fc21_6_eDNA                         -13.273016   \n",
       "CN18Fc22_6_eDNA                         -12.811245   \n",
       "CN18Fc24_6_eDNA                         -10.387630   \n",
       "...                                            ...   \n",
       "CN18SESPkoa_SC42                        -11.767815   \n",
       "CN18SESPkoa_SC44                        -11.280933   \n",
       "CN18SESPkoa_SC45                         -9.895053   \n",
       "CN18SESPkoa_SC47                        -13.230673   \n",
       "CN18SESPkoa_SC49                        -10.455074   \n",
       "\n",
       "ASV ID            0128431733f67d02efad766d717fe6fd  \\\n",
       "CN18Fc12_8_eDNA                         -11.248812   \n",
       "CN18Fc19_5_eDNA                         -11.474808   \n",
       "CN18Fc21_6_eDNA                         -13.633329   \n",
       "CN18Fc22_6_eDNA                          -9.896409   \n",
       "CN18Fc24_6_eDNA                         -12.182197   \n",
       "...                                            ...   \n",
       "CN18SESPkoa_SC42                        -11.375412   \n",
       "CN18SESPkoa_SC44                        -10.988160   \n",
       "CN18SESPkoa_SC45                        -10.616310   \n",
       "CN18SESPkoa_SC47                        -11.760083   \n",
       "CN18SESPkoa_SC49                        -11.936828   \n",
       "\n",
       "ASV ID            41102a7dd1f4647ba5477c947daabc0e  \\\n",
       "CN18Fc12_8_eDNA                         -10.294835   \n",
       "CN18Fc19_5_eDNA                         -11.415205   \n",
       "CN18Fc21_6_eDNA                         -18.520559   \n",
       "CN18Fc22_6_eDNA                         -12.023891   \n",
       "CN18Fc24_6_eDNA                         -11.134392   \n",
       "...                                            ...   \n",
       "CN18SESPkoa_SC42                        -11.692256   \n",
       "CN18SESPkoa_SC44                         -9.263342   \n",
       "CN18SESPkoa_SC45                        -11.720490   \n",
       "CN18SESPkoa_SC47                        -11.661451   \n",
       "CN18SESPkoa_SC49                        -11.891625   \n",
       "\n",
       "ASV ID            51440f89c391fb32f9ee895db22bf8f8  \n",
       "CN18Fc12_8_eDNA                          -9.188598  \n",
       "CN18Fc19_5_eDNA                          -9.869198  \n",
       "CN18Fc21_6_eDNA                         -12.335467  \n",
       "CN18Fc22_6_eDNA                         -10.824480  \n",
       "CN18Fc24_6_eDNA                         -11.988887  \n",
       "...                                            ...  \n",
       "CN18SESPkoa_SC42                        -13.958600  \n",
       "CN18SESPkoa_SC44                         -8.751608  \n",
       "CN18SESPkoa_SC45                        -10.863420  \n",
       "CN18SESPkoa_SC47                        -12.189107  \n",
       "CN18SESPkoa_SC49                        -13.370560  \n",
       "\n",
       "[62 rows x 2752 columns]"
      ]
     },
     "execution_count": 30,
     "metadata": {},
     "output_type": "execute_result"
    }
   ],
   "source": [
    "# one random draw\n",
    "ran_lo_16S = md.ranRelPct(asvs_16S)\n",
    "ran_lo_18S = md.ranRelPct(asvs_18S)\n",
    "ran_lo_16S"
   ]
  },
  {
   "cell_type": "code",
   "execution_count": 26,
   "id": "9fc93f31-2599-4d14-9b66-cb5622599a1d",
   "metadata": {},
   "outputs": [
    {
     "name": "stdout",
     "output_type": "stream",
     "text": [
      "['0' '2' '2' '2' '2' '2' '0' '2' '2' '2' '2' '2' '2' '2' '2' '2' '2' '2'\n",
      " '2' '2' '2' '2' '2' '2' '2' '2' '2' '2' '2' '2' '2' '2' '2' '2' '2' '2'\n",
      " '2' '2' '2' '2' '2' '2' '1' '1' '1' '1' '1' '0' '1' '0' '1' '0' '0' '1'\n",
      " '0' '1' '0' '1' '0' '1' '1' '1']\n",
      "\n",
      "   0   1\n",
      "0  0   9\n",
      "1  1  13\n",
      "2  2  40\n"
     ]
    }
   ],
   "source": [
    "# Hierarchical clustering of random log-odds draw\n",
    "labels_16S = md.doClustering(ran_lo_16S, 3)\n",
    "labels_18S = md.doClustering(ran_lo_18S, 3)\n",
    "print(labels_16S)\n",
    "print()\n",
    "print(pd.DataFrame(np.array(np.unique(labels_16S, return_counts=True)).T))"
   ]
  },
  {
   "cell_type": "code",
   "execution_count": 27,
   "id": "4999c2e4-6852-4d2e-84ce-983e8be96631",
   "metadata": {},
   "outputs": [
    {
     "data": {
      "text/plain": [
       "array([[ 25.49206111,  84.7137536 , -34.34206551, ...,  -1.23307698,\n",
       "         -2.79409959,   0.57920196],\n",
       "       [-18.42153145,   5.65873184,  -6.82379606, ...,  18.91988693,\n",
       "          2.19003517,   1.3429332 ],\n",
       "       [-27.34574716,  -9.25383474, -10.2173538 , ..., -11.57300254,\n",
       "         10.68442746,  -9.79228245],\n",
       "       ...,\n",
       "       [ 68.0484502 , -17.11920111,  -8.16647394, ...,  -8.99971874,\n",
       "          7.85592597,  -2.64452975],\n",
       "       [ 71.59755892, -20.91048739, -10.14987516, ...,   1.70100373,\n",
       "         -7.08411702,   3.30721575],\n",
       "       [ 70.76914261, -20.65094749,  -5.07924005, ...,  -0.38237725,\n",
       "          1.53239329,  -5.3677356 ]])"
      ]
     },
     "execution_count": 27,
     "metadata": {},
     "output_type": "execute_result"
    }
   ],
   "source": [
    "pca_results_16S = md.doPCA(ran_lo_16S)\n",
    "pca_results_18S = md.doPCA(ran_lo_18S)\n",
    "pca_results_16S[\"scores\"]"
   ]
  },
  {
   "cell_type": "markdown",
   "id": "06fb813d-3a72-444d-89fc-287c6b2d4bdd",
   "metadata": {},
   "source": [
    "### Visualizing PCAs"
   ]
  },
  {
   "cell_type": "code",
   "execution_count": 31,
   "id": "53435a6e-e97f-4370-ac73-7da405c66537",
   "metadata": {},
   "outputs": [
    {
     "data": {
      "application/vnd.plotly.v1+json": {
       "config": {
        "plotlyServerURL": "https://plot.ly"
       },
       "data": [
        {
         "hovertemplate": "labels=0<br>0=%{x}<br>1=%{y}<extra></extra>",
         "legendgroup": "0",
         "marker": {
          "color": "#636efa",
          "symbol": "circle"
         },
         "mode": "markers",
         "name": "0",
         "orientation": "v",
         "showlegend": true,
         "type": "scatter",
         "x": [
          26.673172368980257,
          35.50625346407766,
          13.816232486790035,
          7.045889260034312,
          10.207445924904988,
          1.5837932371615175,
          17.31219383024299,
          13.776803162418009,
          32.79626878014582
         ],
         "xaxis": "x",
         "y": [
          80.34943932390952,
          102.14316074377842,
          35.10745772508141,
          9.875996556751055,
          26.690837075210798,
          -15.684983213087502,
          38.65755745320743,
          37.751076115474305,
          94.2612289499706
         ],
         "yaxis": "y"
        },
        {
         "hovertemplate": "labels=2<br>0=%{x}<br>1=%{y}<extra></extra>",
         "legendgroup": "2",
         "marker": {
          "color": "#EF553B",
          "symbol": "circle"
         },
         "mode": "markers",
         "name": "2",
         "orientation": "v",
         "showlegend": true,
         "type": "scatter",
         "x": [
          -18.4102624560719,
          -29.598764403111648,
          -24.943445627973148,
          -25.303094896868423,
          -29.047282608391672,
          -30.577672390032767,
          -24.65093747048006,
          2.2150479331341093,
          -32.83262061397537,
          -25.898055391540833,
          -30.359061024125072,
          -31.9517276718433,
          -24.595597075875826,
          -30.231419702454442,
          -29.198229404619976,
          -26.899137957563806,
          -19.05761404747652,
          -21.44425493410285,
          -14.725073260117904,
          -12.86086104596906,
          -26.982536513567275,
          -23.036032558084113,
          -17.678221676313495,
          -32.62420812271225,
          -24.796912548782213,
          -29.945043781092902,
          -14.929917191180126,
          -32.78673212949535,
          -32.71620117347647,
          -31.525542143769677,
          -30.36413015338425,
          -25.724406461360243,
          -25.121347389381636,
          -26.090973229128938,
          -29.268899806951325,
          -33.312398324411376,
          -21.445019834809795,
          -28.576949282891817,
          -27.509332522612535,
          -30.320901642596198
         ],
         "xaxis": "x",
         "y": [
          7.499906739697957,
          -14.122006157048192,
          -1.8977952246844472,
          -3.9319068323298403,
          -25.69554725569586,
          -12.156608344480235,
          -12.999366514881029,
          27.234834619774645,
          -16.109699356677186,
          -11.043879417558886,
          -9.543823312592501,
          -4.17496999550205,
          -4.896542047086097,
          -10.472921361032855,
          -5.54789992362847,
          5.16797208590505,
          2.117734698765993,
          5.741722124027194,
          21.19310726050588,
          11.929033626317693,
          -2.712110844840933,
          0.9703928920916245,
          12.603699639611905,
          -14.431937010125417,
          -4.774889546518418,
          -3.457377470268582,
          20.47225883618574,
          -14.792359882550635,
          -11.900062018994404,
          -10.12942290153613,
          -7.074297735275427,
          -8.381944622190975,
          -5.768839632740608,
          -11.151906541156627,
          -12.275232388803229,
          -11.583438071718566,
          6.414691987240316,
          -8.004404613831898,
          -3.9840743113798207,
          -9.19021393023333
         ],
         "yaxis": "y"
        },
        {
         "hovertemplate": "labels=1<br>0=%{x}<br>1=%{y}<extra></extra>",
         "legendgroup": "1",
         "marker": {
          "color": "#00cc96",
          "symbol": "circle"
         },
         "mode": "markers",
         "name": "1",
         "orientation": "v",
         "showlegend": true,
         "type": "scatter",
         "x": [
          64.67992584409846,
          67.5252627661432,
          67.48225279448393,
          50.29906200613865,
          62.68813272328454,
          65.04723029410937,
          73.18228607101703,
          70.218089039914,
          71.6310939726993,
          64.8506388025519,
          67.8064648204633,
          71.11744117209001,
          69.87983771371324
         ],
         "xaxis": "x",
         "y": [
          -20.81448230166785,
          -20.391775587555607,
          -27.58977672430804,
          -9.67573108056233,
          -21.478872179775347,
          -22.235578507598085,
          -20.932549973791907,
          -13.2489476218392,
          -18.61066877202359,
          -23.113135334431558,
          -20.139007676710936,
          -19.001220048224383,
          -21.059902166568637
         ],
         "yaxis": "y"
        }
       ],
       "layout": {
        "autosize": true,
        "legend": {
         "title": {
          "text": "labels"
         },
         "tracegroupgap": 0
        },
        "margin": {
         "t": 60
        },
        "template": {
         "data": {
          "bar": [
           {
            "error_x": {
             "color": "#2a3f5f"
            },
            "error_y": {
             "color": "#2a3f5f"
            },
            "marker": {
             "line": {
              "color": "#E5ECF6",
              "width": 0.5
             },
             "pattern": {
              "fillmode": "overlay",
              "size": 10,
              "solidity": 0.2
             }
            },
            "type": "bar"
           }
          ],
          "barpolar": [
           {
            "marker": {
             "line": {
              "color": "#E5ECF6",
              "width": 0.5
             },
             "pattern": {
              "fillmode": "overlay",
              "size": 10,
              "solidity": 0.2
             }
            },
            "type": "barpolar"
           }
          ],
          "carpet": [
           {
            "aaxis": {
             "endlinecolor": "#2a3f5f",
             "gridcolor": "white",
             "linecolor": "white",
             "minorgridcolor": "white",
             "startlinecolor": "#2a3f5f"
            },
            "baxis": {
             "endlinecolor": "#2a3f5f",
             "gridcolor": "white",
             "linecolor": "white",
             "minorgridcolor": "white",
             "startlinecolor": "#2a3f5f"
            },
            "type": "carpet"
           }
          ],
          "choropleth": [
           {
            "colorbar": {
             "outlinewidth": 0,
             "ticks": ""
            },
            "type": "choropleth"
           }
          ],
          "contour": [
           {
            "colorbar": {
             "outlinewidth": 0,
             "ticks": ""
            },
            "colorscale": [
             [
              0,
              "#0d0887"
             ],
             [
              0.1111111111111111,
              "#46039f"
             ],
             [
              0.2222222222222222,
              "#7201a8"
             ],
             [
              0.3333333333333333,
              "#9c179e"
             ],
             [
              0.4444444444444444,
              "#bd3786"
             ],
             [
              0.5555555555555556,
              "#d8576b"
             ],
             [
              0.6666666666666666,
              "#ed7953"
             ],
             [
              0.7777777777777778,
              "#fb9f3a"
             ],
             [
              0.8888888888888888,
              "#fdca26"
             ],
             [
              1,
              "#f0f921"
             ]
            ],
            "type": "contour"
           }
          ],
          "contourcarpet": [
           {
            "colorbar": {
             "outlinewidth": 0,
             "ticks": ""
            },
            "type": "contourcarpet"
           }
          ],
          "heatmap": [
           {
            "colorbar": {
             "outlinewidth": 0,
             "ticks": ""
            },
            "colorscale": [
             [
              0,
              "#0d0887"
             ],
             [
              0.1111111111111111,
              "#46039f"
             ],
             [
              0.2222222222222222,
              "#7201a8"
             ],
             [
              0.3333333333333333,
              "#9c179e"
             ],
             [
              0.4444444444444444,
              "#bd3786"
             ],
             [
              0.5555555555555556,
              "#d8576b"
             ],
             [
              0.6666666666666666,
              "#ed7953"
             ],
             [
              0.7777777777777778,
              "#fb9f3a"
             ],
             [
              0.8888888888888888,
              "#fdca26"
             ],
             [
              1,
              "#f0f921"
             ]
            ],
            "type": "heatmap"
           }
          ],
          "heatmapgl": [
           {
            "colorbar": {
             "outlinewidth": 0,
             "ticks": ""
            },
            "colorscale": [
             [
              0,
              "#0d0887"
             ],
             [
              0.1111111111111111,
              "#46039f"
             ],
             [
              0.2222222222222222,
              "#7201a8"
             ],
             [
              0.3333333333333333,
              "#9c179e"
             ],
             [
              0.4444444444444444,
              "#bd3786"
             ],
             [
              0.5555555555555556,
              "#d8576b"
             ],
             [
              0.6666666666666666,
              "#ed7953"
             ],
             [
              0.7777777777777778,
              "#fb9f3a"
             ],
             [
              0.8888888888888888,
              "#fdca26"
             ],
             [
              1,
              "#f0f921"
             ]
            ],
            "type": "heatmapgl"
           }
          ],
          "histogram": [
           {
            "marker": {
             "pattern": {
              "fillmode": "overlay",
              "size": 10,
              "solidity": 0.2
             }
            },
            "type": "histogram"
           }
          ],
          "histogram2d": [
           {
            "colorbar": {
             "outlinewidth": 0,
             "ticks": ""
            },
            "colorscale": [
             [
              0,
              "#0d0887"
             ],
             [
              0.1111111111111111,
              "#46039f"
             ],
             [
              0.2222222222222222,
              "#7201a8"
             ],
             [
              0.3333333333333333,
              "#9c179e"
             ],
             [
              0.4444444444444444,
              "#bd3786"
             ],
             [
              0.5555555555555556,
              "#d8576b"
             ],
             [
              0.6666666666666666,
              "#ed7953"
             ],
             [
              0.7777777777777778,
              "#fb9f3a"
             ],
             [
              0.8888888888888888,
              "#fdca26"
             ],
             [
              1,
              "#f0f921"
             ]
            ],
            "type": "histogram2d"
           }
          ],
          "histogram2dcontour": [
           {
            "colorbar": {
             "outlinewidth": 0,
             "ticks": ""
            },
            "colorscale": [
             [
              0,
              "#0d0887"
             ],
             [
              0.1111111111111111,
              "#46039f"
             ],
             [
              0.2222222222222222,
              "#7201a8"
             ],
             [
              0.3333333333333333,
              "#9c179e"
             ],
             [
              0.4444444444444444,
              "#bd3786"
             ],
             [
              0.5555555555555556,
              "#d8576b"
             ],
             [
              0.6666666666666666,
              "#ed7953"
             ],
             [
              0.7777777777777778,
              "#fb9f3a"
             ],
             [
              0.8888888888888888,
              "#fdca26"
             ],
             [
              1,
              "#f0f921"
             ]
            ],
            "type": "histogram2dcontour"
           }
          ],
          "mesh3d": [
           {
            "colorbar": {
             "outlinewidth": 0,
             "ticks": ""
            },
            "type": "mesh3d"
           }
          ],
          "parcoords": [
           {
            "line": {
             "colorbar": {
              "outlinewidth": 0,
              "ticks": ""
             }
            },
            "type": "parcoords"
           }
          ],
          "pie": [
           {
            "automargin": true,
            "type": "pie"
           }
          ],
          "scatter": [
           {
            "fillpattern": {
             "fillmode": "overlay",
             "size": 10,
             "solidity": 0.2
            },
            "type": "scatter"
           }
          ],
          "scatter3d": [
           {
            "line": {
             "colorbar": {
              "outlinewidth": 0,
              "ticks": ""
             }
            },
            "marker": {
             "colorbar": {
              "outlinewidth": 0,
              "ticks": ""
             }
            },
            "type": "scatter3d"
           }
          ],
          "scattercarpet": [
           {
            "marker": {
             "colorbar": {
              "outlinewidth": 0,
              "ticks": ""
             }
            },
            "type": "scattercarpet"
           }
          ],
          "scattergeo": [
           {
            "marker": {
             "colorbar": {
              "outlinewidth": 0,
              "ticks": ""
             }
            },
            "type": "scattergeo"
           }
          ],
          "scattergl": [
           {
            "marker": {
             "colorbar": {
              "outlinewidth": 0,
              "ticks": ""
             }
            },
            "type": "scattergl"
           }
          ],
          "scattermapbox": [
           {
            "marker": {
             "colorbar": {
              "outlinewidth": 0,
              "ticks": ""
             }
            },
            "type": "scattermapbox"
           }
          ],
          "scatterpolar": [
           {
            "marker": {
             "colorbar": {
              "outlinewidth": 0,
              "ticks": ""
             }
            },
            "type": "scatterpolar"
           }
          ],
          "scatterpolargl": [
           {
            "marker": {
             "colorbar": {
              "outlinewidth": 0,
              "ticks": ""
             }
            },
            "type": "scatterpolargl"
           }
          ],
          "scatterternary": [
           {
            "marker": {
             "colorbar": {
              "outlinewidth": 0,
              "ticks": ""
             }
            },
            "type": "scatterternary"
           }
          ],
          "surface": [
           {
            "colorbar": {
             "outlinewidth": 0,
             "ticks": ""
            },
            "colorscale": [
             [
              0,
              "#0d0887"
             ],
             [
              0.1111111111111111,
              "#46039f"
             ],
             [
              0.2222222222222222,
              "#7201a8"
             ],
             [
              0.3333333333333333,
              "#9c179e"
             ],
             [
              0.4444444444444444,
              "#bd3786"
             ],
             [
              0.5555555555555556,
              "#d8576b"
             ],
             [
              0.6666666666666666,
              "#ed7953"
             ],
             [
              0.7777777777777778,
              "#fb9f3a"
             ],
             [
              0.8888888888888888,
              "#fdca26"
             ],
             [
              1,
              "#f0f921"
             ]
            ],
            "type": "surface"
           }
          ],
          "table": [
           {
            "cells": {
             "fill": {
              "color": "#EBF0F8"
             },
             "line": {
              "color": "white"
             }
            },
            "header": {
             "fill": {
              "color": "#C8D4E3"
             },
             "line": {
              "color": "white"
             }
            },
            "type": "table"
           }
          ]
         },
         "layout": {
          "annotationdefaults": {
           "arrowcolor": "#2a3f5f",
           "arrowhead": 0,
           "arrowwidth": 1
          },
          "autotypenumbers": "strict",
          "coloraxis": {
           "colorbar": {
            "outlinewidth": 0,
            "ticks": ""
           }
          },
          "colorscale": {
           "diverging": [
            [
             0,
             "#8e0152"
            ],
            [
             0.1,
             "#c51b7d"
            ],
            [
             0.2,
             "#de77ae"
            ],
            [
             0.3,
             "#f1b6da"
            ],
            [
             0.4,
             "#fde0ef"
            ],
            [
             0.5,
             "#f7f7f7"
            ],
            [
             0.6,
             "#e6f5d0"
            ],
            [
             0.7,
             "#b8e186"
            ],
            [
             0.8,
             "#7fbc41"
            ],
            [
             0.9,
             "#4d9221"
            ],
            [
             1,
             "#276419"
            ]
           ],
           "sequential": [
            [
             0,
             "#0d0887"
            ],
            [
             0.1111111111111111,
             "#46039f"
            ],
            [
             0.2222222222222222,
             "#7201a8"
            ],
            [
             0.3333333333333333,
             "#9c179e"
            ],
            [
             0.4444444444444444,
             "#bd3786"
            ],
            [
             0.5555555555555556,
             "#d8576b"
            ],
            [
             0.6666666666666666,
             "#ed7953"
            ],
            [
             0.7777777777777778,
             "#fb9f3a"
            ],
            [
             0.8888888888888888,
             "#fdca26"
            ],
            [
             1,
             "#f0f921"
            ]
           ],
           "sequentialminus": [
            [
             0,
             "#0d0887"
            ],
            [
             0.1111111111111111,
             "#46039f"
            ],
            [
             0.2222222222222222,
             "#7201a8"
            ],
            [
             0.3333333333333333,
             "#9c179e"
            ],
            [
             0.4444444444444444,
             "#bd3786"
            ],
            [
             0.5555555555555556,
             "#d8576b"
            ],
            [
             0.6666666666666666,
             "#ed7953"
            ],
            [
             0.7777777777777778,
             "#fb9f3a"
            ],
            [
             0.8888888888888888,
             "#fdca26"
            ],
            [
             1,
             "#f0f921"
            ]
           ]
          },
          "colorway": [
           "#636efa",
           "#EF553B",
           "#00cc96",
           "#ab63fa",
           "#FFA15A",
           "#19d3f3",
           "#FF6692",
           "#B6E880",
           "#FF97FF",
           "#FECB52"
          ],
          "font": {
           "color": "#2a3f5f"
          },
          "geo": {
           "bgcolor": "white",
           "lakecolor": "white",
           "landcolor": "#E5ECF6",
           "showlakes": true,
           "showland": true,
           "subunitcolor": "white"
          },
          "hoverlabel": {
           "align": "left"
          },
          "hovermode": "closest",
          "mapbox": {
           "style": "light"
          },
          "paper_bgcolor": "white",
          "plot_bgcolor": "#E5ECF6",
          "polar": {
           "angularaxis": {
            "gridcolor": "white",
            "linecolor": "white",
            "ticks": ""
           },
           "bgcolor": "#E5ECF6",
           "radialaxis": {
            "gridcolor": "white",
            "linecolor": "white",
            "ticks": ""
           }
          },
          "scene": {
           "xaxis": {
            "backgroundcolor": "#E5ECF6",
            "gridcolor": "white",
            "gridwidth": 2,
            "linecolor": "white",
            "showbackground": true,
            "ticks": "",
            "zerolinecolor": "white"
           },
           "yaxis": {
            "backgroundcolor": "#E5ECF6",
            "gridcolor": "white",
            "gridwidth": 2,
            "linecolor": "white",
            "showbackground": true,
            "ticks": "",
            "zerolinecolor": "white"
           },
           "zaxis": {
            "backgroundcolor": "#E5ECF6",
            "gridcolor": "white",
            "gridwidth": 2,
            "linecolor": "white",
            "showbackground": true,
            "ticks": "",
            "zerolinecolor": "white"
           }
          },
          "shapedefaults": {
           "line": {
            "color": "#2a3f5f"
           }
          },
          "ternary": {
           "aaxis": {
            "gridcolor": "white",
            "linecolor": "white",
            "ticks": ""
           },
           "baxis": {
            "gridcolor": "white",
            "linecolor": "white",
            "ticks": ""
           },
           "bgcolor": "#E5ECF6",
           "caxis": {
            "gridcolor": "white",
            "linecolor": "white",
            "ticks": ""
           }
          },
          "title": {
           "x": 0.05
          },
          "xaxis": {
           "automargin": true,
           "gridcolor": "white",
           "linecolor": "white",
           "ticks": "",
           "title": {
            "standoff": 15
           },
           "zerolinecolor": "white",
           "zerolinewidth": 2
          },
          "yaxis": {
           "automargin": true,
           "gridcolor": "white",
           "linecolor": "white",
           "ticks": "",
           "title": {
            "standoff": 15
           },
           "zerolinecolor": "white",
           "zerolinewidth": 2
          }
         }
        },
        "xaxis": {
         "anchor": "y",
         "autorange": true,
         "domain": [
          0,
          1
         ],
         "range": [
          -39.76428482773084,
          79.63417257433649
         ],
         "title": {
          "text": "0"
         },
         "type": "linear"
        },
        "yaxis": {
         "anchor": "x",
         "autorange": true,
         "domain": [
          0,
          1
         ],
         "range": [
          -37.63471545215201,
          112.1880994716224
         ],
         "title": {
          "text": "1"
         },
         "type": "linear"
        }
       }
      },
      "image/png": "[encoded data removed]",
      "text/html": [
       "<div>                            <div id=\"6aa746b6-06fd-46d7-8f63-ae8224def5e2\" class=\"plotly-graph-div\" style=\"height:525px; width:100%;\"></div>            <script type=\"text/javascript\">                require([\"plotly\"], function(Plotly) {                    window.PLOTLYENV=window.PLOTLYENV || {};                                    if (document.getElementById(\"6aa746b6-06fd-46d7-8f63-ae8224def5e2\")) {                    Plotly.newPlot(                        \"6aa746b6-06fd-46d7-8f63-ae8224def5e2\",                        [{\"hovertemplate\":\"labels=0<br>0=%{x}<br>1=%{y}<extra></extra>\",\"legendgroup\":\"0\",\"marker\":{\"color\":\"#636efa\",\"symbol\":\"circle\"},\"mode\":\"markers\",\"name\":\"0\",\"orientation\":\"v\",\"showlegend\":true,\"x\":[26.673172368980257,35.50625346407766,13.816232486790035,7.045889260034312,10.207445924904988,1.5837932371615175,17.31219383024299,13.776803162418009,32.79626878014582],\"xaxis\":\"x\",\"y\":[80.34943932390952,102.14316074377842,35.10745772508141,9.875996556751055,26.690837075210798,-15.684983213087502,38.65755745320743,37.751076115474305,94.2612289499706],\"yaxis\":\"y\",\"type\":\"scatter\"},{\"hovertemplate\":\"labels=2<br>0=%{x}<br>1=%{y}<extra></extra>\",\"legendgroup\":\"2\",\"marker\":{\"color\":\"#EF553B\",\"symbol\":\"circle\"},\"mode\":\"markers\",\"name\":\"2\",\"orientation\":\"v\",\"showlegend\":true,\"x\":[-18.4102624560719,-29.598764403111648,-24.943445627973148,-25.303094896868423,-29.047282608391672,-30.577672390032767,-24.65093747048006,2.2150479331341093,-32.83262061397537,-25.898055391540833,-30.359061024125072,-31.9517276718433,-24.595597075875826,-30.231419702454442,-29.198229404619976,-26.899137957563806,-19.05761404747652,-21.44425493410285,-14.725073260117904,-12.86086104596906,-26.982536513567275,-23.036032558084113,-17.678221676313495,-32.62420812271225,-24.796912548782213,-29.945043781092902,-14.929917191180126,-32.78673212949535,-32.71620117347647,-31.525542143769677,-30.36413015338425,-25.724406461360243,-25.121347389381636,-26.090973229128938,-29.268899806951325,-33.312398324411376,-21.445019834809795,-28.576949282891817,-27.509332522612535,-30.320901642596198],\"xaxis\":\"x\",\"y\":[7.499906739697957,-14.122006157048192,-1.8977952246844472,-3.9319068323298403,-25.69554725569586,-12.156608344480235,-12.999366514881029,27.234834619774645,-16.109699356677186,-11.043879417558886,-9.543823312592501,-4.17496999550205,-4.896542047086097,-10.472921361032855,-5.54789992362847,5.16797208590505,2.117734698765993,5.741722124027194,21.19310726050588,11.929033626317693,-2.712110844840933,0.9703928920916245,12.603699639611905,-14.431937010125417,-4.774889546518418,-3.457377470268582,20.47225883618574,-14.792359882550635,-11.900062018994404,-10.12942290153613,-7.074297735275427,-8.381944622190975,-5.768839632740608,-11.151906541156627,-12.275232388803229,-11.583438071718566,6.414691987240316,-8.004404613831898,-3.9840743113798207,-9.19021393023333],\"yaxis\":\"y\",\"type\":\"scatter\"},{\"hovertemplate\":\"labels=1<br>0=%{x}<br>1=%{y}<extra></extra>\",\"legendgroup\":\"1\",\"marker\":{\"color\":\"#00cc96\",\"symbol\":\"circle\"},\"mode\":\"markers\",\"name\":\"1\",\"orientation\":\"v\",\"showlegend\":true,\"x\":[64.67992584409846,67.5252627661432,67.48225279448393,50.29906200613865,62.68813272328454,65.04723029410937,73.18228607101703,70.218089039914,71.6310939726993,64.8506388025519,67.8064648204633,71.11744117209001,69.87983771371324],\"xaxis\":\"x\",\"y\":[-20.81448230166785,-20.391775587555607,-27.58977672430804,-9.67573108056233,-21.478872179775347,-22.235578507598085,-20.932549973791907,-13.2489476218392,-18.61066877202359,-23.113135334431558,-20.139007676710936,-19.001220048224383,-21.059902166568637],\"yaxis\":\"y\",\"type\":\"scatter\"}],                        {\"template\":{\"data\":{\"histogram2dcontour\":[{\"type\":\"histogram2dcontour\",\"colorbar\":{\"outlinewidth\":0,\"ticks\":\"\"},\"colorscale\":[[0.0,\"#0d0887\"],[0.1111111111111111,\"#46039f\"],[0.2222222222222222,\"#7201a8\"],[0.3333333333333333,\"#9c179e\"],[0.4444444444444444,\"#bd3786\"],[0.5555555555555556,\"#d8576b\"],[0.6666666666666666,\"#ed7953\"],[0.7777777777777778,\"#fb9f3a\"],[0.8888888888888888,\"#fdca26\"],[1.0,\"#f0f921\"]]}],\"choropleth\":[{\"type\":\"choropleth\",\"colorbar\":{\"outlinewidth\":0,\"ticks\":\"\"}}],\"histogram2d\":[{\"type\":\"histogram2d\",\"colorbar\":{\"outlinewidth\":0,\"ticks\":\"\"},\"colorscale\":[[0.0,\"#0d0887\"],[0.1111111111111111,\"#46039f\"],[0.2222222222222222,\"#7201a8\"],[0.3333333333333333,\"#9c179e\"],[0.4444444444444444,\"#bd3786\"],[0.5555555555555556,\"#d8576b\"],[0.6666666666666666,\"#ed7953\"],[0.7777777777777778,\"#fb9f3a\"],[0.8888888888888888,\"#fdca26\"],[1.0,\"#f0f921\"]]}],\"heatmap\":[{\"type\":\"heatmap\",\"colorbar\":{\"outlinewidth\":0,\"ticks\":\"\"},\"colorscale\":[[0.0,\"#0d0887\"],[0.1111111111111111,\"#46039f\"],[0.2222222222222222,\"#7201a8\"],[0.3333333333333333,\"#9c179e\"],[0.4444444444444444,\"#bd3786\"],[0.5555555555555556,\"#d8576b\"],[0.6666666666666666,\"#ed7953\"],[0.7777777777777778,\"#fb9f3a\"],[0.8888888888888888,\"#fdca26\"],[1.0,\"#f0f921\"]]}],\"heatmapgl\":[{\"type\":\"heatmapgl\",\"colorbar\":{\"outlinewidth\":0,\"ticks\":\"\"},\"colorscale\":[[0.0,\"#0d0887\"],[0.1111111111111111,\"#46039f\"],[0.2222222222222222,\"#7201a8\"],[0.3333333333333333,\"#9c179e\"],[0.4444444444444444,\"#bd3786\"],[0.5555555555555556,\"#d8576b\"],[0.6666666666666666,\"#ed7953\"],[0.7777777777777778,\"#fb9f3a\"],[0.8888888888888888,\"#fdca26\"],[1.0,\"#f0f921\"]]}],\"contourcarpet\":[{\"type\":\"contourcarpet\",\"colorbar\":{\"outlinewidth\":0,\"ticks\":\"\"}}],\"contour\":[{\"type\":\"contour\",\"colorbar\":{\"outlinewidth\":0,\"ticks\":\"\"},\"colorscale\":[[0.0,\"#0d0887\"],[0.1111111111111111,\"#46039f\"],[0.2222222222222222,\"#7201a8\"],[0.3333333333333333,\"#9c179e\"],[0.4444444444444444,\"#bd3786\"],[0.5555555555555556,\"#d8576b\"],[0.6666666666666666,\"#ed7953\"],[0.7777777777777778,\"#fb9f3a\"],[0.8888888888888888,\"#fdca26\"],[1.0,\"#f0f921\"]]}],\"surface\":[{\"type\":\"surface\",\"colorbar\":{\"outlinewidth\":0,\"ticks\":\"\"},\"colorscale\":[[0.0,\"#0d0887\"],[0.1111111111111111,\"#46039f\"],[0.2222222222222222,\"#7201a8\"],[0.3333333333333333,\"#9c179e\"],[0.4444444444444444,\"#bd3786\"],[0.5555555555555556,\"#d8576b\"],[0.6666666666666666,\"#ed7953\"],[0.7777777777777778,\"#fb9f3a\"],[0.8888888888888888,\"#fdca26\"],[1.0,\"#f0f921\"]]}],\"mesh3d\":[{\"type\":\"mesh3d\",\"colorbar\":{\"outlinewidth\":0,\"ticks\":\"\"}}],\"scatter\":[{\"fillpattern\":{\"fillmode\":\"overlay\",\"size\":10,\"solidity\":0.2},\"type\":\"scatter\"}],\"parcoords\":[{\"type\":\"parcoords\",\"line\":{\"colorbar\":{\"outlinewidth\":0,\"ticks\":\"\"}}}],\"scatterpolargl\":[{\"type\":\"scatterpolargl\",\"marker\":{\"colorbar\":{\"outlinewidth\":0,\"ticks\":\"\"}}}],\"bar\":[{\"error_x\":{\"color\":\"#2a3f5f\"},\"error_y\":{\"color\":\"#2a3f5f\"},\"marker\":{\"line\":{\"color\":\"#E5ECF6\",\"width\":0.5},\"pattern\":{\"fillmode\":\"overlay\",\"size\":10,\"solidity\":0.2}},\"type\":\"bar\"}],\"scattergeo\":[{\"type\":\"scattergeo\",\"marker\":{\"colorbar\":{\"outlinewidth\":0,\"ticks\":\"\"}}}],\"scatterpolar\":[{\"type\":\"scatterpolar\",\"marker\":{\"colorbar\":{\"outlinewidth\":0,\"ticks\":\"\"}}}],\"histogram\":[{\"marker\":{\"pattern\":{\"fillmode\":\"overlay\",\"size\":10,\"solidity\":0.2}},\"type\":\"histogram\"}],\"scattergl\":[{\"type\":\"scattergl\",\"marker\":{\"colorbar\":{\"outlinewidth\":0,\"ticks\":\"\"}}}],\"scatter3d\":[{\"type\":\"scatter3d\",\"line\":{\"colorbar\":{\"outlinewidth\":0,\"ticks\":\"\"}},\"marker\":{\"colorbar\":{\"outlinewidth\":0,\"ticks\":\"\"}}}],\"scattermapbox\":[{\"type\":\"scattermapbox\",\"marker\":{\"colorbar\":{\"outlinewidth\":0,\"ticks\":\"\"}}}],\"scatterternary\":[{\"type\":\"scatterternary\",\"marker\":{\"colorbar\":{\"outlinewidth\":0,\"ticks\":\"\"}}}],\"scattercarpet\":[{\"type\":\"scattercarpet\",\"marker\":{\"colorbar\":{\"outlinewidth\":0,\"ticks\":\"\"}}}],\"carpet\":[{\"aaxis\":{\"endlinecolor\":\"#2a3f5f\",\"gridcolor\":\"white\",\"linecolor\":\"white\",\"minorgridcolor\":\"white\",\"startlinecolor\":\"#2a3f5f\"},\"baxis\":{\"endlinecolor\":\"#2a3f5f\",\"gridcolor\":\"white\",\"linecolor\":\"white\",\"minorgridcolor\":\"white\",\"startlinecolor\":\"#2a3f5f\"},\"type\":\"carpet\"}],\"table\":[{\"cells\":{\"fill\":{\"color\":\"#EBF0F8\"},\"line\":{\"color\":\"white\"}},\"header\":{\"fill\":{\"color\":\"#C8D4E3\"},\"line\":{\"color\":\"white\"}},\"type\":\"table\"}],\"barpolar\":[{\"marker\":{\"line\":{\"color\":\"#E5ECF6\",\"width\":0.5},\"pattern\":{\"fillmode\":\"overlay\",\"size\":10,\"solidity\":0.2}},\"type\":\"barpolar\"}],\"pie\":[{\"automargin\":true,\"type\":\"pie\"}]},\"layout\":{\"autotypenumbers\":\"strict\",\"colorway\":[\"#636efa\",\"#EF553B\",\"#00cc96\",\"#ab63fa\",\"#FFA15A\",\"#19d3f3\",\"#FF6692\",\"#B6E880\",\"#FF97FF\",\"#FECB52\"],\"font\":{\"color\":\"#2a3f5f\"},\"hovermode\":\"closest\",\"hoverlabel\":{\"align\":\"left\"},\"paper_bgcolor\":\"white\",\"plot_bgcolor\":\"#E5ECF6\",\"polar\":{\"bgcolor\":\"#E5ECF6\",\"angularaxis\":{\"gridcolor\":\"white\",\"linecolor\":\"white\",\"ticks\":\"\"},\"radialaxis\":{\"gridcolor\":\"white\",\"linecolor\":\"white\",\"ticks\":\"\"}},\"ternary\":{\"bgcolor\":\"#E5ECF6\",\"aaxis\":{\"gridcolor\":\"white\",\"linecolor\":\"white\",\"ticks\":\"\"},\"baxis\":{\"gridcolor\":\"white\",\"linecolor\":\"white\",\"ticks\":\"\"},\"caxis\":{\"gridcolor\":\"white\",\"linecolor\":\"white\",\"ticks\":\"\"}},\"coloraxis\":{\"colorbar\":{\"outlinewidth\":0,\"ticks\":\"\"}},\"colorscale\":{\"sequential\":[[0.0,\"#0d0887\"],[0.1111111111111111,\"#46039f\"],[0.2222222222222222,\"#7201a8\"],[0.3333333333333333,\"#9c179e\"],[0.4444444444444444,\"#bd3786\"],[0.5555555555555556,\"#d8576b\"],[0.6666666666666666,\"#ed7953\"],[0.7777777777777778,\"#fb9f3a\"],[0.8888888888888888,\"#fdca26\"],[1.0,\"#f0f921\"]],\"sequentialminus\":[[0.0,\"#0d0887\"],[0.1111111111111111,\"#46039f\"],[0.2222222222222222,\"#7201a8\"],[0.3333333333333333,\"#9c179e\"],[0.4444444444444444,\"#bd3786\"],[0.5555555555555556,\"#d8576b\"],[0.6666666666666666,\"#ed7953\"],[0.7777777777777778,\"#fb9f3a\"],[0.8888888888888888,\"#fdca26\"],[1.0,\"#f0f921\"]],\"diverging\":[[0,\"#8e0152\"],[0.1,\"#c51b7d\"],[0.2,\"#de77ae\"],[0.3,\"#f1b6da\"],[0.4,\"#fde0ef\"],[0.5,\"#f7f7f7\"],[0.6,\"#e6f5d0\"],[0.7,\"#b8e186\"],[0.8,\"#7fbc41\"],[0.9,\"#4d9221\"],[1,\"#276419\"]]},\"xaxis\":{\"gridcolor\":\"white\",\"linecolor\":\"white\",\"ticks\":\"\",\"title\":{\"standoff\":15},\"zerolinecolor\":\"white\",\"automargin\":true,\"zerolinewidth\":2},\"yaxis\":{\"gridcolor\":\"white\",\"linecolor\":\"white\",\"ticks\":\"\",\"title\":{\"standoff\":15},\"zerolinecolor\":\"white\",\"automargin\":true,\"zerolinewidth\":2},\"scene\":{\"xaxis\":{\"backgroundcolor\":\"#E5ECF6\",\"gridcolor\":\"white\",\"linecolor\":\"white\",\"showbackground\":true,\"ticks\":\"\",\"zerolinecolor\":\"white\",\"gridwidth\":2},\"yaxis\":{\"backgroundcolor\":\"#E5ECF6\",\"gridcolor\":\"white\",\"linecolor\":\"white\",\"showbackground\":true,\"ticks\":\"\",\"zerolinecolor\":\"white\",\"gridwidth\":2},\"zaxis\":{\"backgroundcolor\":\"#E5ECF6\",\"gridcolor\":\"white\",\"linecolor\":\"white\",\"showbackground\":true,\"ticks\":\"\",\"zerolinecolor\":\"white\",\"gridwidth\":2}},\"shapedefaults\":{\"line\":{\"color\":\"#2a3f5f\"}},\"annotationdefaults\":{\"arrowcolor\":\"#2a3f5f\",\"arrowhead\":0,\"arrowwidth\":1},\"geo\":{\"bgcolor\":\"white\",\"landcolor\":\"#E5ECF6\",\"subunitcolor\":\"white\",\"showland\":true,\"showlakes\":true,\"lakecolor\":\"white\"},\"title\":{\"x\":0.05},\"mapbox\":{\"style\":\"light\"}}},\"xaxis\":{\"anchor\":\"y\",\"domain\":[0.0,1.0],\"title\":{\"text\":\"0\"}},\"yaxis\":{\"anchor\":\"x\",\"domain\":[0.0,1.0],\"title\":{\"text\":\"1\"}},\"legend\":{\"title\":{\"text\":\"labels\"},\"tracegroupgap\":0},\"margin\":{\"t\":60}},                        {\"responsive\": true}                    ).then(function(){\n",
       "                            \n",
       "var gd = document.getElementById('6aa746b6-06fd-46d7-8f63-ae8224def5e2');\n",
       "var x = new MutationObserver(function (mutations, observer) {{\n",
       "        var display = window.getComputedStyle(gd).display;\n",
       "        if (!display || display === 'none') {{\n",
       "            console.log([gd, 'removed!']);\n",
       "            Plotly.purge(gd);\n",
       "            observer.disconnect();\n",
       "        }}\n",
       "}});\n",
       "\n",
       "// Listen for the removal of the full notebook cells\n",
       "var notebookContainer = gd.closest('#notebook-container');\n",
       "if (notebookContainer) {{\n",
       "    x.observe(notebookContainer, {childList: true});\n",
       "}}\n",
       "\n",
       "// Listen for the clearing of the current output cell\n",
       "var outputEl = gd.closest('.output');\n",
       "if (outputEl) {{\n",
       "    x.observe(outputEl, {childList: true});\n",
       "}}\n",
       "\n",
       "                        })                };                });            </script>        </div>"
      ]
     },
     "metadata": {},
     "output_type": "display_data"
    }
   ],
   "source": [
    "# 16S\n",
    "scores_16S = pd.DataFrame(md.doPCA(ran_lo_16S)[\"scores\"])\n",
    "scores_16S[\"labels\"] = labels\n",
    "fig_16S = px.scatter(\n",
    "    scores_16S,\n",
    "    x = 0,\n",
    "    y = 1,\n",
    "    color = \"labels\"\n",
    ")\n",
    "fig_16S.show()"
   ]
  },
  {
   "cell_type": "code",
   "execution_count": 32,
   "id": "a97e2e8a-5910-40e7-be39-fa83fc039df6",
   "metadata": {},
   "outputs": [
    {
     "data": {
      "application/vnd.plotly.v1+json": {
       "config": {
        "plotlyServerURL": "https://plot.ly"
       },
       "data": [
        {
         "hovertemplate": "labels=0<br>0=%{x}<br>1=%{y}<extra></extra>",
         "legendgroup": "0",
         "marker": {
          "color": "#636efa",
          "symbol": "circle"
         },
         "mode": "markers",
         "name": "0",
         "orientation": "v",
         "showlegend": true,
         "type": "scatter",
         "x": [
          -5.862797413066477,
          -38.16978903094363,
          16.374796394988238,
          68.3216261410464,
          68.05657123303901,
          12.372900502701302,
          35.441414392443285,
          53.79286602465877,
          23.304222248644177
         ],
         "xaxis": "x",
         "y": [
          -34.01522262112855,
          -13.03920639964461,
          82.5847707004312,
          18.678107035074365,
          26.27281489231111,
          74.92699013429426,
          59.326647672084654,
          51.12054370695637,
          80.01123527777015
         ],
         "yaxis": "y"
        },
        {
         "hovertemplate": "labels=2<br>0=%{x}<br>1=%{y}<extra></extra>",
         "legendgroup": "2",
         "marker": {
          "color": "#EF553B",
          "symbol": "circle"
         },
         "mode": "markers",
         "name": "2",
         "orientation": "v",
         "showlegend": true,
         "type": "scatter",
         "x": [
          -34.276515594814754,
          -33.88899961149318,
          -36.495972145590045,
          -47.64708888286968,
          -19.747553961621563,
          -43.83019447692232,
          -29.841008617302805,
          26.332302808133868,
          -28.316200486435065,
          -40.29762099750516,
          -21.99183342704275,
          -47.07592395793879,
          -46.545085593952564,
          -21.980894723651147,
          -13.789288309386366,
          -22.9476463227657,
          -12.478633204538397,
          -24.785590562233352,
          -36.60361397274886,
          -64.31763315942676,
          -26.389586424154373,
          -62.39592475349936,
          -61.1026894895655,
          -33.70400692348519,
          -31.872503484407453,
          -42.599991832908856,
          -60.26078037998443,
          -62.04256354684092,
          -51.25498131135975,
          -44.78091483600793,
          -33.311120114718825,
          -39.72386294247698,
          -13.044863068092912,
          -28.914698952692746,
          -23.546068480353405,
          -52.20057643841826,
          -23.06885352310162,
          -12.52263576840205,
          -21.035360052978763,
          -19.52634826802693
         ],
         "xaxis": "x",
         "y": [
          -12.616969066440554,
          -29.922807759328972,
          -27.215736327717345,
          -9.0714124085959,
          -7.037966595876011,
          -25.840358882309086,
          -19.488451528083438,
          -23.07160948800999,
          -25.718896135897264,
          -5.914755890681138,
          -21.34085172378806,
          -10.196196106324303,
          -19.796769079917414,
          -30.694183317965663,
          -23.561768652297324,
          21.017668478861534,
          7.104704375923793,
          16.17993426771546,
          24.654399460304703,
          37.88967777214435,
          42.44699757836081,
          51.127261344073084,
          34.47515993209377,
          -13.694662796673235,
          -4.206294257103765,
          -4.45833619673882,
          6.9171876920638695,
          14.348699788653274,
          -3.197887576720614,
          -1.5315404699538782,
          -14.900149092387014,
          -10.564950788423195,
          -13.764253362489425,
          -5.496355719592029,
          -11.599800353541779,
          -2.1497913736761154,
          -16.36485604855587,
          -23.019667725622984,
          -23.615045641453463,
          -17.591743289853678
         ],
         "yaxis": "y"
        },
        {
         "hovertemplate": "labels=1<br>0=%{x}<br>1=%{y}<extra></extra>",
         "legendgroup": "1",
         "marker": {
          "color": "#00cc96",
          "symbol": "circle"
         },
         "mode": "markers",
         "name": "1",
         "orientation": "v",
         "showlegend": true,
         "type": "scatter",
         "x": [
          77.95315127285109,
          85.02018024346529,
          84.14293645109527,
          65.5674544445962,
          84.34185845399185,
          81.90292322439026,
          74.27097632624664,
          103.87230467073692,
          90.20486913417878,
          88.82264611988322,
          92.0693759898579,
          87.55384064190952,
          94.4689983248677
         ],
         "xaxis": "x",
         "y": [
          -11.14393647607969,
          -12.391635001141415,
          -7.624688201336409,
          -3.426970695913802,
          -15.035370391992384,
          -5.721637237571294,
          -4.169563319022529,
          -21.622349251543383,
          -11.881428329870394,
          -13.978013613328747,
          -11.429288474193898,
          -8.364045383274997,
          -17.595377057056407
         ],
         "yaxis": "y"
        }
       ],
       "layout": {
        "autosize": true,
        "legend": {
         "title": {
          "text": "labels"
         },
         "tracegroupgap": 0
        },
        "margin": {
         "t": 60
        },
        "template": {
         "data": {
          "bar": [
           {
            "error_x": {
             "color": "#2a3f5f"
            },
            "error_y": {
             "color": "#2a3f5f"
            },
            "marker": {
             "line": {
              "color": "#E5ECF6",
              "width": 0.5
             },
             "pattern": {
              "fillmode": "overlay",
              "size": 10,
              "solidity": 0.2
             }
            },
            "type": "bar"
           }
          ],
          "barpolar": [
           {
            "marker": {
             "line": {
              "color": "#E5ECF6",
              "width": 0.5
             },
             "pattern": {
              "fillmode": "overlay",
              "size": 10,
              "solidity": 0.2
             }
            },
            "type": "barpolar"
           }
          ],
          "carpet": [
           {
            "aaxis": {
             "endlinecolor": "#2a3f5f",
             "gridcolor": "white",
             "linecolor": "white",
             "minorgridcolor": "white",
             "startlinecolor": "#2a3f5f"
            },
            "baxis": {
             "endlinecolor": "#2a3f5f",
             "gridcolor": "white",
             "linecolor": "white",
             "minorgridcolor": "white",
             "startlinecolor": "#2a3f5f"
            },
            "type": "carpet"
           }
          ],
          "choropleth": [
           {
            "colorbar": {
             "outlinewidth": 0,
             "ticks": ""
            },
            "type": "choropleth"
           }
          ],
          "contour": [
           {
            "colorbar": {
             "outlinewidth": 0,
             "ticks": ""
            },
            "colorscale": [
             [
              0,
              "#0d0887"
             ],
             [
              0.1111111111111111,
              "#46039f"
             ],
             [
              0.2222222222222222,
              "#7201a8"
             ],
             [
              0.3333333333333333,
              "#9c179e"
             ],
             [
              0.4444444444444444,
              "#bd3786"
             ],
             [
              0.5555555555555556,
              "#d8576b"
             ],
             [
              0.6666666666666666,
              "#ed7953"
             ],
             [
              0.7777777777777778,
              "#fb9f3a"
             ],
             [
              0.8888888888888888,
              "#fdca26"
             ],
             [
              1,
              "#f0f921"
             ]
            ],
            "type": "contour"
           }
          ],
          "contourcarpet": [
           {
            "colorbar": {
             "outlinewidth": 0,
             "ticks": ""
            },
            "type": "contourcarpet"
           }
          ],
          "heatmap": [
           {
            "colorbar": {
             "outlinewidth": 0,
             "ticks": ""
            },
            "colorscale": [
             [
              0,
              "#0d0887"
             ],
             [
              0.1111111111111111,
              "#46039f"
             ],
             [
              0.2222222222222222,
              "#7201a8"
             ],
             [
              0.3333333333333333,
              "#9c179e"
             ],
             [
              0.4444444444444444,
              "#bd3786"
             ],
             [
              0.5555555555555556,
              "#d8576b"
             ],
             [
              0.6666666666666666,
              "#ed7953"
             ],
             [
              0.7777777777777778,
              "#fb9f3a"
             ],
             [
              0.8888888888888888,
              "#fdca26"
             ],
             [
              1,
              "#f0f921"
             ]
            ],
            "type": "heatmap"
           }
          ],
          "heatmapgl": [
           {
            "colorbar": {
             "outlinewidth": 0,
             "ticks": ""
            },
            "colorscale": [
             [
              0,
              "#0d0887"
             ],
             [
              0.1111111111111111,
              "#46039f"
             ],
             [
              0.2222222222222222,
              "#7201a8"
             ],
             [
              0.3333333333333333,
              "#9c179e"
             ],
             [
              0.4444444444444444,
              "#bd3786"
             ],
             [
              0.5555555555555556,
              "#d8576b"
             ],
             [
              0.6666666666666666,
              "#ed7953"
             ],
             [
              0.7777777777777778,
              "#fb9f3a"
             ],
             [
              0.8888888888888888,
              "#fdca26"
             ],
             [
              1,
              "#f0f921"
             ]
            ],
            "type": "heatmapgl"
           }
          ],
          "histogram": [
           {
            "marker": {
             "pattern": {
              "fillmode": "overlay",
              "size": 10,
              "solidity": 0.2
             }
            },
            "type": "histogram"
           }
          ],
          "histogram2d": [
           {
            "colorbar": {
             "outlinewidth": 0,
             "ticks": ""
            },
            "colorscale": [
             [
              0,
              "#0d0887"
             ],
             [
              0.1111111111111111,
              "#46039f"
             ],
             [
              0.2222222222222222,
              "#7201a8"
             ],
             [
              0.3333333333333333,
              "#9c179e"
             ],
             [
              0.4444444444444444,
              "#bd3786"
             ],
             [
              0.5555555555555556,
              "#d8576b"
             ],
             [
              0.6666666666666666,
              "#ed7953"
             ],
             [
              0.7777777777777778,
              "#fb9f3a"
             ],
             [
              0.8888888888888888,
              "#fdca26"
             ],
             [
              1,
              "#f0f921"
             ]
            ],
            "type": "histogram2d"
           }
          ],
          "histogram2dcontour": [
           {
            "colorbar": {
             "outlinewidth": 0,
             "ticks": ""
            },
            "colorscale": [
             [
              0,
              "#0d0887"
             ],
             [
              0.1111111111111111,
              "#46039f"
             ],
             [
              0.2222222222222222,
              "#7201a8"
             ],
             [
              0.3333333333333333,
              "#9c179e"
             ],
             [
              0.4444444444444444,
              "#bd3786"
             ],
             [
              0.5555555555555556,
              "#d8576b"
             ],
             [
              0.6666666666666666,
              "#ed7953"
             ],
             [
              0.7777777777777778,
              "#fb9f3a"
             ],
             [
              0.8888888888888888,
              "#fdca26"
             ],
             [
              1,
              "#f0f921"
             ]
            ],
            "type": "histogram2dcontour"
           }
          ],
          "mesh3d": [
           {
            "colorbar": {
             "outlinewidth": 0,
             "ticks": ""
            },
            "type": "mesh3d"
           }
          ],
          "parcoords": [
           {
            "line": {
             "colorbar": {
              "outlinewidth": 0,
              "ticks": ""
             }
            },
            "type": "parcoords"
           }
          ],
          "pie": [
           {
            "automargin": true,
            "type": "pie"
           }
          ],
          "scatter": [
           {
            "fillpattern": {
             "fillmode": "overlay",
             "size": 10,
             "solidity": 0.2
            },
            "type": "scatter"
           }
          ],
          "scatter3d": [
           {
            "line": {
             "colorbar": {
              "outlinewidth": 0,
              "ticks": ""
             }
            },
            "marker": {
             "colorbar": {
              "outlinewidth": 0,
              "ticks": ""
             }
            },
            "type": "scatter3d"
           }
          ],
          "scattercarpet": [
           {
            "marker": {
             "colorbar": {
              "outlinewidth": 0,
              "ticks": ""
             }
            },
            "type": "scattercarpet"
           }
          ],
          "scattergeo": [
           {
            "marker": {
             "colorbar": {
              "outlinewidth": 0,
              "ticks": ""
             }
            },
            "type": "scattergeo"
           }
          ],
          "scattergl": [
           {
            "marker": {
             "colorbar": {
              "outlinewidth": 0,
              "ticks": ""
             }
            },
            "type": "scattergl"
           }
          ],
          "scattermapbox": [
           {
            "marker": {
             "colorbar": {
              "outlinewidth": 0,
              "ticks": ""
             }
            },
            "type": "scattermapbox"
           }
          ],
          "scatterpolar": [
           {
            "marker": {
             "colorbar": {
              "outlinewidth": 0,
              "ticks": ""
             }
            },
            "type": "scatterpolar"
           }
          ],
          "scatterpolargl": [
           {
            "marker": {
             "colorbar": {
              "outlinewidth": 0,
              "ticks": ""
             }
            },
            "type": "scatterpolargl"
           }
          ],
          "scatterternary": [
           {
            "marker": {
             "colorbar": {
              "outlinewidth": 0,
              "ticks": ""
             }
            },
            "type": "scatterternary"
           }
          ],
          "surface": [
           {
            "colorbar": {
             "outlinewidth": 0,
             "ticks": ""
            },
            "colorscale": [
             [
              0,
              "#0d0887"
             ],
             [
              0.1111111111111111,
              "#46039f"
             ],
             [
              0.2222222222222222,
              "#7201a8"
             ],
             [
              0.3333333333333333,
              "#9c179e"
             ],
             [
              0.4444444444444444,
              "#bd3786"
             ],
             [
              0.5555555555555556,
              "#d8576b"
             ],
             [
              0.6666666666666666,
              "#ed7953"
             ],
             [
              0.7777777777777778,
              "#fb9f3a"
             ],
             [
              0.8888888888888888,
              "#fdca26"
             ],
             [
              1,
              "#f0f921"
             ]
            ],
            "type": "surface"
           }
          ],
          "table": [
           {
            "cells": {
             "fill": {
              "color": "#EBF0F8"
             },
             "line": {
              "color": "white"
             }
            },
            "header": {
             "fill": {
              "color": "#C8D4E3"
             },
             "line": {
              "color": "white"
             }
            },
            "type": "table"
           }
          ]
         },
         "layout": {
          "annotationdefaults": {
           "arrowcolor": "#2a3f5f",
           "arrowhead": 0,
           "arrowwidth": 1
          },
          "autotypenumbers": "strict",
          "coloraxis": {
           "colorbar": {
            "outlinewidth": 0,
            "ticks": ""
           }
          },
          "colorscale": {
           "diverging": [
            [
             0,
             "#8e0152"
            ],
            [
             0.1,
             "#c51b7d"
            ],
            [
             0.2,
             "#de77ae"
            ],
            [
             0.3,
             "#f1b6da"
            ],
            [
             0.4,
             "#fde0ef"
            ],
            [
             0.5,
             "#f7f7f7"
            ],
            [
             0.6,
             "#e6f5d0"
            ],
            [
             0.7,
             "#b8e186"
            ],
            [
             0.8,
             "#7fbc41"
            ],
            [
             0.9,
             "#4d9221"
            ],
            [
             1,
             "#276419"
            ]
           ],
           "sequential": [
            [
             0,
             "#0d0887"
            ],
            [
             0.1111111111111111,
             "#46039f"
            ],
            [
             0.2222222222222222,
             "#7201a8"
            ],
            [
             0.3333333333333333,
             "#9c179e"
            ],
            [
             0.4444444444444444,
             "#bd3786"
            ],
            [
             0.5555555555555556,
             "#d8576b"
            ],
            [
             0.6666666666666666,
             "#ed7953"
            ],
            [
             0.7777777777777778,
             "#fb9f3a"
            ],
            [
             0.8888888888888888,
             "#fdca26"
            ],
            [
             1,
             "#f0f921"
            ]
           ],
           "sequentialminus": [
            [
             0,
             "#0d0887"
            ],
            [
             0.1111111111111111,
             "#46039f"
            ],
            [
             0.2222222222222222,
             "#7201a8"
            ],
            [
             0.3333333333333333,
             "#9c179e"
            ],
            [
             0.4444444444444444,
             "#bd3786"
            ],
            [
             0.5555555555555556,
             "#d8576b"
            ],
            [
             0.6666666666666666,
             "#ed7953"
            ],
            [
             0.7777777777777778,
             "#fb9f3a"
            ],
            [
             0.8888888888888888,
             "#fdca26"
            ],
            [
             1,
             "#f0f921"
            ]
           ]
          },
          "colorway": [
           "#636efa",
           "#EF553B",
           "#00cc96",
           "#ab63fa",
           "#FFA15A",
           "#19d3f3",
           "#FF6692",
           "#B6E880",
           "#FF97FF",
           "#FECB52"
          ],
          "font": {
           "color": "#2a3f5f"
          },
          "geo": {
           "bgcolor": "white",
           "lakecolor": "white",
           "landcolor": "#E5ECF6",
           "showlakes": true,
           "showland": true,
           "subunitcolor": "white"
          },
          "hoverlabel": {
           "align": "left"
          },
          "hovermode": "closest",
          "mapbox": {
           "style": "light"
          },
          "paper_bgcolor": "white",
          "plot_bgcolor": "#E5ECF6",
          "polar": {
           "angularaxis": {
            "gridcolor": "white",
            "linecolor": "white",
            "ticks": ""
           },
           "bgcolor": "#E5ECF6",
           "radialaxis": {
            "gridcolor": "white",
            "linecolor": "white",
            "ticks": ""
           }
          },
          "scene": {
           "xaxis": {
            "backgroundcolor": "#E5ECF6",
            "gridcolor": "white",
            "gridwidth": 2,
            "linecolor": "white",
            "showbackground": true,
            "ticks": "",
            "zerolinecolor": "white"
           },
           "yaxis": {
            "backgroundcolor": "#E5ECF6",
            "gridcolor": "white",
            "gridwidth": 2,
            "linecolor": "white",
            "showbackground": true,
            "ticks": "",
            "zerolinecolor": "white"
           },
           "zaxis": {
            "backgroundcolor": "#E5ECF6",
            "gridcolor": "white",
            "gridwidth": 2,
            "linecolor": "white",
            "showbackground": true,
            "ticks": "",
            "zerolinecolor": "white"
           }
          },
          "shapedefaults": {
           "line": {
            "color": "#2a3f5f"
           }
          },
          "ternary": {
           "aaxis": {
            "gridcolor": "white",
            "linecolor": "white",
            "ticks": ""
           },
           "baxis": {
            "gridcolor": "white",
            "linecolor": "white",
            "ticks": ""
           },
           "bgcolor": "#E5ECF6",
           "caxis": {
            "gridcolor": "white",
            "linecolor": "white",
            "ticks": ""
           }
          },
          "title": {
           "x": 0.05
          },
          "xaxis": {
           "automargin": true,
           "gridcolor": "white",
           "linecolor": "white",
           "ticks": "",
           "title": {
            "standoff": 15
           },
           "zerolinecolor": "white",
           "zerolinewidth": 2
          },
          "yaxis": {
           "automargin": true,
           "gridcolor": "white",
           "linecolor": "white",
           "ticks": "",
           "title": {
            "standoff": 15
           },
           "zerolinecolor": "white",
           "zerolinewidth": 2
          }
         }
        },
        "xaxis": {
         "anchor": "y",
         "autorange": true,
         "domain": [
          0,
          1
         ],
         "range": [
          -74.50727216386102,
          114.06194367517116
         ],
         "title": {
          "text": "0"
         },
         "type": "linear"
        },
        "yaxis": {
         "anchor": "x",
         "autorange": true,
         "domain": [
          0,
          1
         ],
         "range": [
          -43.043306093532784,
          91.61285417283544
         ],
         "title": {
          "text": "1"
         },
         "type": "linear"
        }
       }
      },
      "image/png": "[encoded data removed]",
      "text/html": [
       "<div>                            <div id=\"12f2debd-ee13-4cb4-8e70-34dc4d8ee846\" class=\"plotly-graph-div\" style=\"height:525px; width:100%;\"></div>            <script type=\"text/javascript\">                require([\"plotly\"], function(Plotly) {                    window.PLOTLYENV=window.PLOTLYENV || {};                                    if (document.getElementById(\"12f2debd-ee13-4cb4-8e70-34dc4d8ee846\")) {                    Plotly.newPlot(                        \"12f2debd-ee13-4cb4-8e70-34dc4d8ee846\",                        [{\"hovertemplate\":\"labels=0<br>0=%{x}<br>1=%{y}<extra></extra>\",\"legendgroup\":\"0\",\"marker\":{\"color\":\"#636efa\",\"symbol\":\"circle\"},\"mode\":\"markers\",\"name\":\"0\",\"orientation\":\"v\",\"showlegend\":true,\"x\":[-5.862797413066477,-38.16978903094363,16.374796394988238,68.3216261410464,68.05657123303901,12.372900502701302,35.441414392443285,53.79286602465877,23.304222248644177],\"xaxis\":\"x\",\"y\":[-34.01522262112855,-13.03920639964461,82.5847707004312,18.678107035074365,26.27281489231111,74.92699013429426,59.326647672084654,51.12054370695637,80.01123527777015],\"yaxis\":\"y\",\"type\":\"scatter\"},{\"hovertemplate\":\"labels=2<br>0=%{x}<br>1=%{y}<extra></extra>\",\"legendgroup\":\"2\",\"marker\":{\"color\":\"#EF553B\",\"symbol\":\"circle\"},\"mode\":\"markers\",\"name\":\"2\",\"orientation\":\"v\",\"showlegend\":true,\"x\":[-34.276515594814754,-33.88899961149318,-36.495972145590045,-47.64708888286968,-19.747553961621563,-43.83019447692232,-29.841008617302805,26.332302808133868,-28.316200486435065,-40.29762099750516,-21.99183342704275,-47.07592395793879,-46.545085593952564,-21.980894723651147,-13.789288309386366,-22.9476463227657,-12.478633204538397,-24.785590562233352,-36.60361397274886,-64.31763315942676,-26.389586424154373,-62.39592475349936,-61.1026894895655,-33.70400692348519,-31.872503484407453,-42.599991832908856,-60.26078037998443,-62.04256354684092,-51.25498131135975,-44.78091483600793,-33.311120114718825,-39.72386294247698,-13.044863068092912,-28.914698952692746,-23.546068480353405,-52.20057643841826,-23.06885352310162,-12.52263576840205,-21.035360052978763,-19.52634826802693],\"xaxis\":\"x\",\"y\":[-12.616969066440554,-29.922807759328972,-27.215736327717345,-9.0714124085959,-7.037966595876011,-25.840358882309086,-19.488451528083438,-23.07160948800999,-25.718896135897264,-5.914755890681138,-21.34085172378806,-10.196196106324303,-19.796769079917414,-30.694183317965663,-23.561768652297324,21.017668478861534,7.104704375923793,16.17993426771546,24.654399460304703,37.88967777214435,42.44699757836081,51.127261344073084,34.47515993209377,-13.694662796673235,-4.206294257103765,-4.45833619673882,6.9171876920638695,14.348699788653274,-3.197887576720614,-1.5315404699538782,-14.900149092387014,-10.564950788423195,-13.764253362489425,-5.496355719592029,-11.599800353541779,-2.1497913736761154,-16.36485604855587,-23.019667725622984,-23.615045641453463,-17.591743289853678],\"yaxis\":\"y\",\"type\":\"scatter\"},{\"hovertemplate\":\"labels=1<br>0=%{x}<br>1=%{y}<extra></extra>\",\"legendgroup\":\"1\",\"marker\":{\"color\":\"#00cc96\",\"symbol\":\"circle\"},\"mode\":\"markers\",\"name\":\"1\",\"orientation\":\"v\",\"showlegend\":true,\"x\":[77.95315127285109,85.02018024346529,84.14293645109527,65.5674544445962,84.34185845399185,81.90292322439026,74.27097632624664,103.87230467073692,90.20486913417878,88.82264611988322,92.0693759898579,87.55384064190952,94.4689983248677],\"xaxis\":\"x\",\"y\":[-11.14393647607969,-12.391635001141415,-7.624688201336409,-3.426970695913802,-15.035370391992384,-5.721637237571294,-4.169563319022529,-21.622349251543383,-11.881428329870394,-13.978013613328747,-11.429288474193898,-8.364045383274997,-17.595377057056407],\"yaxis\":\"y\",\"type\":\"scatter\"}],                        {\"template\":{\"data\":{\"histogram2dcontour\":[{\"type\":\"histogram2dcontour\",\"colorbar\":{\"outlinewidth\":0,\"ticks\":\"\"},\"colorscale\":[[0.0,\"#0d0887\"],[0.1111111111111111,\"#46039f\"],[0.2222222222222222,\"#7201a8\"],[0.3333333333333333,\"#9c179e\"],[0.4444444444444444,\"#bd3786\"],[0.5555555555555556,\"#d8576b\"],[0.6666666666666666,\"#ed7953\"],[0.7777777777777778,\"#fb9f3a\"],[0.8888888888888888,\"#fdca26\"],[1.0,\"#f0f921\"]]}],\"choropleth\":[{\"type\":\"choropleth\",\"colorbar\":{\"outlinewidth\":0,\"ticks\":\"\"}}],\"histogram2d\":[{\"type\":\"histogram2d\",\"colorbar\":{\"outlinewidth\":0,\"ticks\":\"\"},\"colorscale\":[[0.0,\"#0d0887\"],[0.1111111111111111,\"#46039f\"],[0.2222222222222222,\"#7201a8\"],[0.3333333333333333,\"#9c179e\"],[0.4444444444444444,\"#bd3786\"],[0.5555555555555556,\"#d8576b\"],[0.6666666666666666,\"#ed7953\"],[0.7777777777777778,\"#fb9f3a\"],[0.8888888888888888,\"#fdca26\"],[1.0,\"#f0f921\"]]}],\"heatmap\":[{\"type\":\"heatmap\",\"colorbar\":{\"outlinewidth\":0,\"ticks\":\"\"},\"colorscale\":[[0.0,\"#0d0887\"],[0.1111111111111111,\"#46039f\"],[0.2222222222222222,\"#7201a8\"],[0.3333333333333333,\"#9c179e\"],[0.4444444444444444,\"#bd3786\"],[0.5555555555555556,\"#d8576b\"],[0.6666666666666666,\"#ed7953\"],[0.7777777777777778,\"#fb9f3a\"],[0.8888888888888888,\"#fdca26\"],[1.0,\"#f0f921\"]]}],\"heatmapgl\":[{\"type\":\"heatmapgl\",\"colorbar\":{\"outlinewidth\":0,\"ticks\":\"\"},\"colorscale\":[[0.0,\"#0d0887\"],[0.1111111111111111,\"#46039f\"],[0.2222222222222222,\"#7201a8\"],[0.3333333333333333,\"#9c179e\"],[0.4444444444444444,\"#bd3786\"],[0.5555555555555556,\"#d8576b\"],[0.6666666666666666,\"#ed7953\"],[0.7777777777777778,\"#fb9f3a\"],[0.8888888888888888,\"#fdca26\"],[1.0,\"#f0f921\"]]}],\"contourcarpet\":[{\"type\":\"contourcarpet\",\"colorbar\":{\"outlinewidth\":0,\"ticks\":\"\"}}],\"contour\":[{\"type\":\"contour\",\"colorbar\":{\"outlinewidth\":0,\"ticks\":\"\"},\"colorscale\":[[0.0,\"#0d0887\"],[0.1111111111111111,\"#46039f\"],[0.2222222222222222,\"#7201a8\"],[0.3333333333333333,\"#9c179e\"],[0.4444444444444444,\"#bd3786\"],[0.5555555555555556,\"#d8576b\"],[0.6666666666666666,\"#ed7953\"],[0.7777777777777778,\"#fb9f3a\"],[0.8888888888888888,\"#fdca26\"],[1.0,\"#f0f921\"]]}],\"surface\":[{\"type\":\"surface\",\"colorbar\":{\"outlinewidth\":0,\"ticks\":\"\"},\"colorscale\":[[0.0,\"#0d0887\"],[0.1111111111111111,\"#46039f\"],[0.2222222222222222,\"#7201a8\"],[0.3333333333333333,\"#9c179e\"],[0.4444444444444444,\"#bd3786\"],[0.5555555555555556,\"#d8576b\"],[0.6666666666666666,\"#ed7953\"],[0.7777777777777778,\"#fb9f3a\"],[0.8888888888888888,\"#fdca26\"],[1.0,\"#f0f921\"]]}],\"mesh3d\":[{\"type\":\"mesh3d\",\"colorbar\":{\"outlinewidth\":0,\"ticks\":\"\"}}],\"scatter\":[{\"fillpattern\":{\"fillmode\":\"overlay\",\"size\":10,\"solidity\":0.2},\"type\":\"scatter\"}],\"parcoords\":[{\"type\":\"parcoords\",\"line\":{\"colorbar\":{\"outlinewidth\":0,\"ticks\":\"\"}}}],\"scatterpolargl\":[{\"type\":\"scatterpolargl\",\"marker\":{\"colorbar\":{\"outlinewidth\":0,\"ticks\":\"\"}}}],\"bar\":[{\"error_x\":{\"color\":\"#2a3f5f\"},\"error_y\":{\"color\":\"#2a3f5f\"},\"marker\":{\"line\":{\"color\":\"#E5ECF6\",\"width\":0.5},\"pattern\":{\"fillmode\":\"overlay\",\"size\":10,\"solidity\":0.2}},\"type\":\"bar\"}],\"scattergeo\":[{\"type\":\"scattergeo\",\"marker\":{\"colorbar\":{\"outlinewidth\":0,\"ticks\":\"\"}}}],\"scatterpolar\":[{\"type\":\"scatterpolar\",\"marker\":{\"colorbar\":{\"outlinewidth\":0,\"ticks\":\"\"}}}],\"histogram\":[{\"marker\":{\"pattern\":{\"fillmode\":\"overlay\",\"size\":10,\"solidity\":0.2}},\"type\":\"histogram\"}],\"scattergl\":[{\"type\":\"scattergl\",\"marker\":{\"colorbar\":{\"outlinewidth\":0,\"ticks\":\"\"}}}],\"scatter3d\":[{\"type\":\"scatter3d\",\"line\":{\"colorbar\":{\"outlinewidth\":0,\"ticks\":\"\"}},\"marker\":{\"colorbar\":{\"outlinewidth\":0,\"ticks\":\"\"}}}],\"scattermapbox\":[{\"type\":\"scattermapbox\",\"marker\":{\"colorbar\":{\"outlinewidth\":0,\"ticks\":\"\"}}}],\"scatterternary\":[{\"type\":\"scatterternary\",\"marker\":{\"colorbar\":{\"outlinewidth\":0,\"ticks\":\"\"}}}],\"scattercarpet\":[{\"type\":\"scattercarpet\",\"marker\":{\"colorbar\":{\"outlinewidth\":0,\"ticks\":\"\"}}}],\"carpet\":[{\"aaxis\":{\"endlinecolor\":\"#2a3f5f\",\"gridcolor\":\"white\",\"linecolor\":\"white\",\"minorgridcolor\":\"white\",\"startlinecolor\":\"#2a3f5f\"},\"baxis\":{\"endlinecolor\":\"#2a3f5f\",\"gridcolor\":\"white\",\"linecolor\":\"white\",\"minorgridcolor\":\"white\",\"startlinecolor\":\"#2a3f5f\"},\"type\":\"carpet\"}],\"table\":[{\"cells\":{\"fill\":{\"color\":\"#EBF0F8\"},\"line\":{\"color\":\"white\"}},\"header\":{\"fill\":{\"color\":\"#C8D4E3\"},\"line\":{\"color\":\"white\"}},\"type\":\"table\"}],\"barpolar\":[{\"marker\":{\"line\":{\"color\":\"#E5ECF6\",\"width\":0.5},\"pattern\":{\"fillmode\":\"overlay\",\"size\":10,\"solidity\":0.2}},\"type\":\"barpolar\"}],\"pie\":[{\"automargin\":true,\"type\":\"pie\"}]},\"layout\":{\"autotypenumbers\":\"strict\",\"colorway\":[\"#636efa\",\"#EF553B\",\"#00cc96\",\"#ab63fa\",\"#FFA15A\",\"#19d3f3\",\"#FF6692\",\"#B6E880\",\"#FF97FF\",\"#FECB52\"],\"font\":{\"color\":\"#2a3f5f\"},\"hovermode\":\"closest\",\"hoverlabel\":{\"align\":\"left\"},\"paper_bgcolor\":\"white\",\"plot_bgcolor\":\"#E5ECF6\",\"polar\":{\"bgcolor\":\"#E5ECF6\",\"angularaxis\":{\"gridcolor\":\"white\",\"linecolor\":\"white\",\"ticks\":\"\"},\"radialaxis\":{\"gridcolor\":\"white\",\"linecolor\":\"white\",\"ticks\":\"\"}},\"ternary\":{\"bgcolor\":\"#E5ECF6\",\"aaxis\":{\"gridcolor\":\"white\",\"linecolor\":\"white\",\"ticks\":\"\"},\"baxis\":{\"gridcolor\":\"white\",\"linecolor\":\"white\",\"ticks\":\"\"},\"caxis\":{\"gridcolor\":\"white\",\"linecolor\":\"white\",\"ticks\":\"\"}},\"coloraxis\":{\"colorbar\":{\"outlinewidth\":0,\"ticks\":\"\"}},\"colorscale\":{\"sequential\":[[0.0,\"#0d0887\"],[0.1111111111111111,\"#46039f\"],[0.2222222222222222,\"#7201a8\"],[0.3333333333333333,\"#9c179e\"],[0.4444444444444444,\"#bd3786\"],[0.5555555555555556,\"#d8576b\"],[0.6666666666666666,\"#ed7953\"],[0.7777777777777778,\"#fb9f3a\"],[0.8888888888888888,\"#fdca26\"],[1.0,\"#f0f921\"]],\"sequentialminus\":[[0.0,\"#0d0887\"],[0.1111111111111111,\"#46039f\"],[0.2222222222222222,\"#7201a8\"],[0.3333333333333333,\"#9c179e\"],[0.4444444444444444,\"#bd3786\"],[0.5555555555555556,\"#d8576b\"],[0.6666666666666666,\"#ed7953\"],[0.7777777777777778,\"#fb9f3a\"],[0.8888888888888888,\"#fdca26\"],[1.0,\"#f0f921\"]],\"diverging\":[[0,\"#8e0152\"],[0.1,\"#c51b7d\"],[0.2,\"#de77ae\"],[0.3,\"#f1b6da\"],[0.4,\"#fde0ef\"],[0.5,\"#f7f7f7\"],[0.6,\"#e6f5d0\"],[0.7,\"#b8e186\"],[0.8,\"#7fbc41\"],[0.9,\"#4d9221\"],[1,\"#276419\"]]},\"xaxis\":{\"gridcolor\":\"white\",\"linecolor\":\"white\",\"ticks\":\"\",\"title\":{\"standoff\":15},\"zerolinecolor\":\"white\",\"automargin\":true,\"zerolinewidth\":2},\"yaxis\":{\"gridcolor\":\"white\",\"linecolor\":\"white\",\"ticks\":\"\",\"title\":{\"standoff\":15},\"zerolinecolor\":\"white\",\"automargin\":true,\"zerolinewidth\":2},\"scene\":{\"xaxis\":{\"backgroundcolor\":\"#E5ECF6\",\"gridcolor\":\"white\",\"linecolor\":\"white\",\"showbackground\":true,\"ticks\":\"\",\"zerolinecolor\":\"white\",\"gridwidth\":2},\"yaxis\":{\"backgroundcolor\":\"#E5ECF6\",\"gridcolor\":\"white\",\"linecolor\":\"white\",\"showbackground\":true,\"ticks\":\"\",\"zerolinecolor\":\"white\",\"gridwidth\":2},\"zaxis\":{\"backgroundcolor\":\"#E5ECF6\",\"gridcolor\":\"white\",\"linecolor\":\"white\",\"showbackground\":true,\"ticks\":\"\",\"zerolinecolor\":\"white\",\"gridwidth\":2}},\"shapedefaults\":{\"line\":{\"color\":\"#2a3f5f\"}},\"annotationdefaults\":{\"arrowcolor\":\"#2a3f5f\",\"arrowhead\":0,\"arrowwidth\":1},\"geo\":{\"bgcolor\":\"white\",\"landcolor\":\"#E5ECF6\",\"subunitcolor\":\"white\",\"showland\":true,\"showlakes\":true,\"lakecolor\":\"white\"},\"title\":{\"x\":0.05},\"mapbox\":{\"style\":\"light\"}}},\"xaxis\":{\"anchor\":\"y\",\"domain\":[0.0,1.0],\"title\":{\"text\":\"0\"}},\"yaxis\":{\"anchor\":\"x\",\"domain\":[0.0,1.0],\"title\":{\"text\":\"1\"}},\"legend\":{\"title\":{\"text\":\"labels\"},\"tracegroupgap\":0},\"margin\":{\"t\":60}},                        {\"responsive\": true}                    ).then(function(){\n",
       "                            \n",
       "var gd = document.getElementById('12f2debd-ee13-4cb4-8e70-34dc4d8ee846');\n",
       "var x = new MutationObserver(function (mutations, observer) {{\n",
       "        var display = window.getComputedStyle(gd).display;\n",
       "        if (!display || display === 'none') {{\n",
       "            console.log([gd, 'removed!']);\n",
       "            Plotly.purge(gd);\n",
       "            observer.disconnect();\n",
       "        }}\n",
       "}});\n",
       "\n",
       "// Listen for the removal of the full notebook cells\n",
       "var notebookContainer = gd.closest('#notebook-container');\n",
       "if (notebookContainer) {{\n",
       "    x.observe(notebookContainer, {childList: true});\n",
       "}}\n",
       "\n",
       "// Listen for the clearing of the current output cell\n",
       "var outputEl = gd.closest('.output');\n",
       "if (outputEl) {{\n",
       "    x.observe(outputEl, {childList: true});\n",
       "}}\n",
       "\n",
       "                        })                };                });            </script>        </div>"
      ]
     },
     "metadata": {},
     "output_type": "display_data"
    }
   ],
   "source": [
    "# 18S\n",
    "scores_18S = pd.DataFrame(md.doPCA(ran_lo_18S)[\"scores\"])\n",
    "scores_18S[\"labels\"] = labels\n",
    "fig_18S = px.scatter(\n",
    "    scores_18S,\n",
    "    x = 0,\n",
    "    y = 1,\n",
    "    color = \"labels\"\n",
    ")\n",
    "fig_18S.show()"
   ]
  },
  {
   "cell_type": "markdown",
   "id": "bd16041c-6301-4b89-a072-ff2bdbd378bc",
   "metadata": {},
   "source": [
    "### Run sampleClust function n_rep times to assign n_clust clusters"
   ]
  },
  {
   "cell_type": "code",
   "execution_count": 33,
   "id": "661b0ba0-27fd-45c4-9354-ec340c617cdb",
   "metadata": {},
   "outputs": [
    {
     "data": {
      "text/html": [
       "<div>\n",
       "<style scoped>\n",
       "    .dataframe tbody tr th:only-of-type {\n",
       "        vertical-align: middle;\n",
       "    }\n",
       "\n",
       "    .dataframe tbody tr th {\n",
       "        vertical-align: top;\n",
       "    }\n",
       "\n",
       "    .dataframe thead th {\n",
       "        text-align: right;\n",
       "    }\n",
       "</style>\n",
       "<table border=\"1\" class=\"dataframe\">\n",
       "  <thead>\n",
       "    <tr style=\"text-align: right;\">\n",
       "      <th></th>\n",
       "      <th>0</th>\n",
       "      <th>1</th>\n",
       "      <th>2</th>\n",
       "      <th>3</th>\n",
       "      <th>4</th>\n",
       "      <th>5</th>\n",
       "      <th>6</th>\n",
       "      <th>7</th>\n",
       "      <th>8</th>\n",
       "      <th>9</th>\n",
       "    </tr>\n",
       "  </thead>\n",
       "  <tbody>\n",
       "    <tr>\n",
       "      <th>0</th>\n",
       "      <td>7</td>\n",
       "      <td>7</td>\n",
       "      <td>3</td>\n",
       "      <td>3</td>\n",
       "      <td>3</td>\n",
       "      <td>3</td>\n",
       "      <td>3</td>\n",
       "      <td>3</td>\n",
       "      <td>7</td>\n",
       "      <td>3</td>\n",
       "    </tr>\n",
       "    <tr>\n",
       "      <th>1</th>\n",
       "      <td>1</td>\n",
       "      <td>5</td>\n",
       "      <td>2</td>\n",
       "      <td>0</td>\n",
       "      <td>2</td>\n",
       "      <td>5</td>\n",
       "      <td>0</td>\n",
       "      <td>2</td>\n",
       "      <td>1</td>\n",
       "      <td>0</td>\n",
       "    </tr>\n",
       "    <tr>\n",
       "      <th>2</th>\n",
       "      <td>2</td>\n",
       "      <td>5</td>\n",
       "      <td>0</td>\n",
       "      <td>0</td>\n",
       "      <td>2</td>\n",
       "      <td>6</td>\n",
       "      <td>2</td>\n",
       "      <td>2</td>\n",
       "      <td>3</td>\n",
       "      <td>5</td>\n",
       "    </tr>\n",
       "    <tr>\n",
       "      <th>3</th>\n",
       "      <td>2</td>\n",
       "      <td>5</td>\n",
       "      <td>2</td>\n",
       "      <td>0</td>\n",
       "      <td>2</td>\n",
       "      <td>6</td>\n",
       "      <td>2</td>\n",
       "      <td>2</td>\n",
       "      <td>1</td>\n",
       "      <td>5</td>\n",
       "    </tr>\n",
       "    <tr>\n",
       "      <th>4</th>\n",
       "      <td>2</td>\n",
       "      <td>5</td>\n",
       "      <td>2</td>\n",
       "      <td>0</td>\n",
       "      <td>2</td>\n",
       "      <td>6</td>\n",
       "      <td>2</td>\n",
       "      <td>2</td>\n",
       "      <td>3</td>\n",
       "      <td>5</td>\n",
       "    </tr>\n",
       "    <tr>\n",
       "      <th>...</th>\n",
       "      <td>...</td>\n",
       "      <td>...</td>\n",
       "      <td>...</td>\n",
       "      <td>...</td>\n",
       "      <td>...</td>\n",
       "      <td>...</td>\n",
       "      <td>...</td>\n",
       "      <td>...</td>\n",
       "      <td>...</td>\n",
       "      <td>...</td>\n",
       "    </tr>\n",
       "    <tr>\n",
       "      <th>57</th>\n",
       "      <td>4</td>\n",
       "      <td>0</td>\n",
       "      <td>1</td>\n",
       "      <td>1</td>\n",
       "      <td>1</td>\n",
       "      <td>1</td>\n",
       "      <td>1</td>\n",
       "      <td>1</td>\n",
       "      <td>0</td>\n",
       "      <td>1</td>\n",
       "    </tr>\n",
       "    <tr>\n",
       "      <th>58</th>\n",
       "      <td>7</td>\n",
       "      <td>7</td>\n",
       "      <td>3</td>\n",
       "      <td>3</td>\n",
       "      <td>3</td>\n",
       "      <td>3</td>\n",
       "      <td>3</td>\n",
       "      <td>3</td>\n",
       "      <td>7</td>\n",
       "      <td>3</td>\n",
       "    </tr>\n",
       "    <tr>\n",
       "      <th>59</th>\n",
       "      <td>4</td>\n",
       "      <td>0</td>\n",
       "      <td>1</td>\n",
       "      <td>1</td>\n",
       "      <td>1</td>\n",
       "      <td>1</td>\n",
       "      <td>1</td>\n",
       "      <td>1</td>\n",
       "      <td>0</td>\n",
       "      <td>1</td>\n",
       "    </tr>\n",
       "    <tr>\n",
       "      <th>60</th>\n",
       "      <td>4</td>\n",
       "      <td>0</td>\n",
       "      <td>1</td>\n",
       "      <td>1</td>\n",
       "      <td>1</td>\n",
       "      <td>1</td>\n",
       "      <td>1</td>\n",
       "      <td>1</td>\n",
       "      <td>0</td>\n",
       "      <td>1</td>\n",
       "    </tr>\n",
       "    <tr>\n",
       "      <th>61</th>\n",
       "      <td>4</td>\n",
       "      <td>0</td>\n",
       "      <td>1</td>\n",
       "      <td>1</td>\n",
       "      <td>1</td>\n",
       "      <td>1</td>\n",
       "      <td>1</td>\n",
       "      <td>1</td>\n",
       "      <td>0</td>\n",
       "      <td>1</td>\n",
       "    </tr>\n",
       "  </tbody>\n",
       "</table>\n",
       "<p>62 rows × 10 columns</p>\n",
       "</div>"
      ],
      "text/plain": [
       "    0  1  2  3  4  5  6  7  8  9\n",
       "0   7  7  3  3  3  3  3  3  7  3\n",
       "1   1  5  2  0  2  5  0  2  1  0\n",
       "2   2  5  0  0  2  6  2  2  3  5\n",
       "3   2  5  2  0  2  6  2  2  1  5\n",
       "4   2  5  2  0  2  6  2  2  3  5\n",
       ".. .. .. .. .. .. .. .. .. .. ..\n",
       "57  4  0  1  1  1  1  1  1  0  1\n",
       "58  7  7  3  3  3  3  3  3  7  3\n",
       "59  4  0  1  1  1  1  1  1  0  1\n",
       "60  4  0  1  1  1  1  1  1  0  1\n",
       "61  4  0  1  1  1  1  1  1  0  1\n",
       "\n",
       "[62 rows x 10 columns]"
      ]
     },
     "execution_count": 33,
     "metadata": {},
     "output_type": "execute_result"
    }
   ],
   "source": [
    "n_clust = 8\n",
    "n_rep = 10\n",
    " \n",
    "cluster_samples_16S = [md.doClustering(md.ranRelPct(asvs_16S), n_clust) for i in range(n_rep)]\n",
    "cluster_samples_16S = pd.DataFrame(cluster_samples_16S).transpose()\n",
    "cluster_samples_16S"
   ]
  },
  {
   "cell_type": "code",
   "execution_count": 34,
   "id": "7d8c1700-68a6-4fd5-8d6d-ce916b2a5520",
   "metadata": {},
   "outputs": [
    {
     "data": {
      "text/html": [
       "<div>\n",
       "<style scoped>\n",
       "    .dataframe tbody tr th:only-of-type {\n",
       "        vertical-align: middle;\n",
       "    }\n",
       "\n",
       "    .dataframe tbody tr th {\n",
       "        vertical-align: top;\n",
       "    }\n",
       "\n",
       "    .dataframe thead th {\n",
       "        text-align: right;\n",
       "    }\n",
       "</style>\n",
       "<table border=\"1\" class=\"dataframe\">\n",
       "  <thead>\n",
       "    <tr style=\"text-align: right;\">\n",
       "      <th></th>\n",
       "      <th>0</th>\n",
       "      <th>1</th>\n",
       "      <th>2</th>\n",
       "      <th>3</th>\n",
       "      <th>4</th>\n",
       "      <th>5</th>\n",
       "      <th>6</th>\n",
       "      <th>7</th>\n",
       "      <th>8</th>\n",
       "      <th>9</th>\n",
       "    </tr>\n",
       "  </thead>\n",
       "  <tbody>\n",
       "    <tr>\n",
       "      <th>0</th>\n",
       "      <td>0</td>\n",
       "      <td>2</td>\n",
       "      <td>4</td>\n",
       "      <td>4</td>\n",
       "      <td>1</td>\n",
       "      <td>2</td>\n",
       "      <td>1</td>\n",
       "      <td>4</td>\n",
       "      <td>4</td>\n",
       "      <td>1</td>\n",
       "    </tr>\n",
       "    <tr>\n",
       "      <th>1</th>\n",
       "      <td>3</td>\n",
       "      <td>7</td>\n",
       "      <td>4</td>\n",
       "      <td>4</td>\n",
       "      <td>1</td>\n",
       "      <td>7</td>\n",
       "      <td>4</td>\n",
       "      <td>4</td>\n",
       "      <td>4</td>\n",
       "      <td>1</td>\n",
       "    </tr>\n",
       "    <tr>\n",
       "      <th>2</th>\n",
       "      <td>0</td>\n",
       "      <td>7</td>\n",
       "      <td>4</td>\n",
       "      <td>4</td>\n",
       "      <td>1</td>\n",
       "      <td>7</td>\n",
       "      <td>4</td>\n",
       "      <td>4</td>\n",
       "      <td>4</td>\n",
       "      <td>1</td>\n",
       "    </tr>\n",
       "    <tr>\n",
       "      <th>3</th>\n",
       "      <td>3</td>\n",
       "      <td>7</td>\n",
       "      <td>4</td>\n",
       "      <td>4</td>\n",
       "      <td>1</td>\n",
       "      <td>7</td>\n",
       "      <td>4</td>\n",
       "      <td>4</td>\n",
       "      <td>4</td>\n",
       "      <td>1</td>\n",
       "    </tr>\n",
       "    <tr>\n",
       "      <th>4</th>\n",
       "      <td>3</td>\n",
       "      <td>7</td>\n",
       "      <td>4</td>\n",
       "      <td>4</td>\n",
       "      <td>1</td>\n",
       "      <td>7</td>\n",
       "      <td>4</td>\n",
       "      <td>4</td>\n",
       "      <td>4</td>\n",
       "      <td>1</td>\n",
       "    </tr>\n",
       "    <tr>\n",
       "      <th>...</th>\n",
       "      <td>...</td>\n",
       "      <td>...</td>\n",
       "      <td>...</td>\n",
       "      <td>...</td>\n",
       "      <td>...</td>\n",
       "      <td>...</td>\n",
       "      <td>...</td>\n",
       "      <td>...</td>\n",
       "      <td>...</td>\n",
       "      <td>...</td>\n",
       "    </tr>\n",
       "    <tr>\n",
       "      <th>57</th>\n",
       "      <td>4</td>\n",
       "      <td>0</td>\n",
       "      <td>0</td>\n",
       "      <td>5</td>\n",
       "      <td>0</td>\n",
       "      <td>0</td>\n",
       "      <td>0</td>\n",
       "      <td>0</td>\n",
       "      <td>5</td>\n",
       "      <td>2</td>\n",
       "    </tr>\n",
       "    <tr>\n",
       "      <th>58</th>\n",
       "      <td>2</td>\n",
       "      <td>3</td>\n",
       "      <td>2</td>\n",
       "      <td>2</td>\n",
       "      <td>3</td>\n",
       "      <td>1</td>\n",
       "      <td>5</td>\n",
       "      <td>5</td>\n",
       "      <td>2</td>\n",
       "      <td>5</td>\n",
       "    </tr>\n",
       "    <tr>\n",
       "      <th>59</th>\n",
       "      <td>4</td>\n",
       "      <td>0</td>\n",
       "      <td>0</td>\n",
       "      <td>5</td>\n",
       "      <td>0</td>\n",
       "      <td>0</td>\n",
       "      <td>0</td>\n",
       "      <td>0</td>\n",
       "      <td>5</td>\n",
       "      <td>2</td>\n",
       "    </tr>\n",
       "    <tr>\n",
       "      <th>60</th>\n",
       "      <td>4</td>\n",
       "      <td>0</td>\n",
       "      <td>0</td>\n",
       "      <td>5</td>\n",
       "      <td>0</td>\n",
       "      <td>0</td>\n",
       "      <td>0</td>\n",
       "      <td>0</td>\n",
       "      <td>5</td>\n",
       "      <td>2</td>\n",
       "    </tr>\n",
       "    <tr>\n",
       "      <th>61</th>\n",
       "      <td>4</td>\n",
       "      <td>0</td>\n",
       "      <td>0</td>\n",
       "      <td>5</td>\n",
       "      <td>0</td>\n",
       "      <td>0</td>\n",
       "      <td>0</td>\n",
       "      <td>0</td>\n",
       "      <td>5</td>\n",
       "      <td>2</td>\n",
       "    </tr>\n",
       "  </tbody>\n",
       "</table>\n",
       "<p>62 rows × 10 columns</p>\n",
       "</div>"
      ],
      "text/plain": [
       "    0  1  2  3  4  5  6  7  8  9\n",
       "0   0  2  4  4  1  2  1  4  4  1\n",
       "1   3  7  4  4  1  7  4  4  4  1\n",
       "2   0  7  4  4  1  7  4  4  4  1\n",
       "3   3  7  4  4  1  7  4  4  4  1\n",
       "4   3  7  4  4  1  7  4  4  4  1\n",
       ".. .. .. .. .. .. .. .. .. .. ..\n",
       "57  4  0  0  5  0  0  0  0  5  2\n",
       "58  2  3  2  2  3  1  5  5  2  5\n",
       "59  4  0  0  5  0  0  0  0  5  2\n",
       "60  4  0  0  5  0  0  0  0  5  2\n",
       "61  4  0  0  5  0  0  0  0  5  2\n",
       "\n",
       "[62 rows x 10 columns]"
      ]
     },
     "execution_count": 34,
     "metadata": {},
     "output_type": "execute_result"
    }
   ],
   "source": [
    "n_clust = 8\n",
    "n_rep = 10\n",
    " \n",
    "cluster_samples_18S = [md.doClustering(md.ranRelPct(asvs_18S), n_clust) for i in range(n_rep)]\n",
    "cluster_samples_18S = pd.DataFrame(cluster_samples_18S).transpose()\n",
    "cluster_samples_18S"
   ]
  },
  {
   "cell_type": "code",
   "execution_count": 39,
   "id": "bbfea1db-6660-4f3e-be73-6bbd05dc2b06",
   "metadata": {},
   "outputs": [
    {
     "name": "stdout",
     "output_type": "stream",
     "text": [
      "False\n",
      "False\n"
     ]
    }
   ],
   "source": [
    "# A function to test if row pws[0] is the same cluster as row pws[1] in column 'col'\n",
    "def isSameCluster(pws, df, col):\n",
    "    return df.iloc[pws[0], col] == df.iloc[pws[1], col]\n",
    "\n",
    "print(isSameCluster((1, 3), cluster_samples_16S, 0))\n",
    "print(isSameCluster((0, 3), cluster_samples_16S, 0))"
   ]
  },
  {
   "cell_type": "markdown",
   "id": "39685d14-53f8-462c-8128-fb4f8dbd26cd",
   "metadata": {},
   "source": [
    "### Code to test if each pair of rows ((n^2 - 1)/2) = 1891) are the same for all columns"
   ]
  },
  {
   "cell_type": "code",
   "execution_count": 35,
   "id": "385fc025-fa7d-4001-998f-fe18c4f5a489",
   "metadata": {},
   "outputs": [],
   "source": [
    "import itertools"
   ]
  },
  {
   "cell_type": "code",
   "execution_count": 40,
   "id": "cb6f2fec-5620-490a-827e-e1109d7698bf",
   "metadata": {},
   "outputs": [
    {
     "data": {
      "text/html": [
       "<div>\n",
       "<style scoped>\n",
       "    .dataframe tbody tr th:only-of-type {\n",
       "        vertical-align: middle;\n",
       "    }\n",
       "\n",
       "    .dataframe tbody tr th {\n",
       "        vertical-align: top;\n",
       "    }\n",
       "\n",
       "    .dataframe thead th {\n",
       "        text-align: right;\n",
       "    }\n",
       "</style>\n",
       "<table border=\"1\" class=\"dataframe\">\n",
       "  <thead>\n",
       "    <tr style=\"text-align: right;\">\n",
       "      <th></th>\n",
       "      <th>0</th>\n",
       "      <th>1</th>\n",
       "      <th>2</th>\n",
       "      <th>3</th>\n",
       "      <th>4</th>\n",
       "      <th>5</th>\n",
       "      <th>6</th>\n",
       "      <th>7</th>\n",
       "      <th>8</th>\n",
       "      <th>9</th>\n",
       "    </tr>\n",
       "  </thead>\n",
       "  <tbody>\n",
       "    <tr>\n",
       "      <th>0</th>\n",
       "      <td>False</td>\n",
       "      <td>False</td>\n",
       "      <td>False</td>\n",
       "      <td>False</td>\n",
       "      <td>False</td>\n",
       "      <td>False</td>\n",
       "      <td>False</td>\n",
       "      <td>False</td>\n",
       "      <td>False</td>\n",
       "      <td>False</td>\n",
       "    </tr>\n",
       "    <tr>\n",
       "      <th>1</th>\n",
       "      <td>False</td>\n",
       "      <td>False</td>\n",
       "      <td>False</td>\n",
       "      <td>False</td>\n",
       "      <td>False</td>\n",
       "      <td>False</td>\n",
       "      <td>False</td>\n",
       "      <td>False</td>\n",
       "      <td>False</td>\n",
       "      <td>False</td>\n",
       "    </tr>\n",
       "    <tr>\n",
       "      <th>2</th>\n",
       "      <td>False</td>\n",
       "      <td>False</td>\n",
       "      <td>False</td>\n",
       "      <td>False</td>\n",
       "      <td>False</td>\n",
       "      <td>False</td>\n",
       "      <td>False</td>\n",
       "      <td>False</td>\n",
       "      <td>False</td>\n",
       "      <td>False</td>\n",
       "    </tr>\n",
       "    <tr>\n",
       "      <th>3</th>\n",
       "      <td>False</td>\n",
       "      <td>False</td>\n",
       "      <td>False</td>\n",
       "      <td>False</td>\n",
       "      <td>False</td>\n",
       "      <td>False</td>\n",
       "      <td>False</td>\n",
       "      <td>False</td>\n",
       "      <td>False</td>\n",
       "      <td>False</td>\n",
       "    </tr>\n",
       "    <tr>\n",
       "      <th>4</th>\n",
       "      <td>False</td>\n",
       "      <td>False</td>\n",
       "      <td>False</td>\n",
       "      <td>False</td>\n",
       "      <td>False</td>\n",
       "      <td>False</td>\n",
       "      <td>False</td>\n",
       "      <td>False</td>\n",
       "      <td>False</td>\n",
       "      <td>False</td>\n",
       "    </tr>\n",
       "    <tr>\n",
       "      <th>...</th>\n",
       "      <td>...</td>\n",
       "      <td>...</td>\n",
       "      <td>...</td>\n",
       "      <td>...</td>\n",
       "      <td>...</td>\n",
       "      <td>...</td>\n",
       "      <td>...</td>\n",
       "      <td>...</td>\n",
       "      <td>...</td>\n",
       "      <td>...</td>\n",
       "    </tr>\n",
       "    <tr>\n",
       "      <th>1886</th>\n",
       "      <td>False</td>\n",
       "      <td>False</td>\n",
       "      <td>False</td>\n",
       "      <td>False</td>\n",
       "      <td>False</td>\n",
       "      <td>False</td>\n",
       "      <td>False</td>\n",
       "      <td>False</td>\n",
       "      <td>False</td>\n",
       "      <td>False</td>\n",
       "    </tr>\n",
       "    <tr>\n",
       "      <th>1887</th>\n",
       "      <td>False</td>\n",
       "      <td>False</td>\n",
       "      <td>False</td>\n",
       "      <td>False</td>\n",
       "      <td>False</td>\n",
       "      <td>False</td>\n",
       "      <td>False</td>\n",
       "      <td>False</td>\n",
       "      <td>False</td>\n",
       "      <td>False</td>\n",
       "    </tr>\n",
       "    <tr>\n",
       "      <th>1888</th>\n",
       "      <td>True</td>\n",
       "      <td>True</td>\n",
       "      <td>True</td>\n",
       "      <td>True</td>\n",
       "      <td>True</td>\n",
       "      <td>True</td>\n",
       "      <td>True</td>\n",
       "      <td>True</td>\n",
       "      <td>True</td>\n",
       "      <td>True</td>\n",
       "    </tr>\n",
       "    <tr>\n",
       "      <th>1889</th>\n",
       "      <td>True</td>\n",
       "      <td>True</td>\n",
       "      <td>True</td>\n",
       "      <td>True</td>\n",
       "      <td>True</td>\n",
       "      <td>True</td>\n",
       "      <td>True</td>\n",
       "      <td>True</td>\n",
       "      <td>True</td>\n",
       "      <td>True</td>\n",
       "    </tr>\n",
       "    <tr>\n",
       "      <th>1890</th>\n",
       "      <td>True</td>\n",
       "      <td>True</td>\n",
       "      <td>True</td>\n",
       "      <td>True</td>\n",
       "      <td>True</td>\n",
       "      <td>True</td>\n",
       "      <td>True</td>\n",
       "      <td>True</td>\n",
       "      <td>True</td>\n",
       "      <td>True</td>\n",
       "    </tr>\n",
       "  </tbody>\n",
       "</table>\n",
       "<p>1891 rows × 10 columns</p>\n",
       "</div>"
      ],
      "text/plain": [
       "          0      1      2      3      4      5      6      7      8      9\n",
       "0     False  False  False  False  False  False  False  False  False  False\n",
       "1     False  False  False  False  False  False  False  False  False  False\n",
       "2     False  False  False  False  False  False  False  False  False  False\n",
       "3     False  False  False  False  False  False  False  False  False  False\n",
       "4     False  False  False  False  False  False  False  False  False  False\n",
       "...     ...    ...    ...    ...    ...    ...    ...    ...    ...    ...\n",
       "1886  False  False  False  False  False  False  False  False  False  False\n",
       "1887  False  False  False  False  False  False  False  False  False  False\n",
       "1888   True   True   True   True   True   True   True   True   True   True\n",
       "1889   True   True   True   True   True   True   True   True   True   True\n",
       "1890   True   True   True   True   True   True   True   True   True   True\n",
       "\n",
       "[1891 rows x 10 columns]"
      ]
     },
     "execution_count": 40,
     "metadata": {},
     "output_type": "execute_result"
    }
   ],
   "source": [
    "pws_rows_16S = itertools.combinations(range(cluster_samples_16S.shape[0]), 2)\n",
    "\n",
    "pws_same_16S = pd.DataFrame([[isSameCluster(pair, cluster_samples_16S, col) for col in range(cluster_samples_16S.shape[1])] for pair in pws_rows_16S])\n",
    "pws_same_16S"
   ]
  },
  {
   "cell_type": "code",
   "execution_count": 41,
   "id": "b3034b8f-e9e4-4267-a138-61f21630216b",
   "metadata": {},
   "outputs": [
    {
     "data": {
      "text/html": [
       "<div>\n",
       "<style scoped>\n",
       "    .dataframe tbody tr th:only-of-type {\n",
       "        vertical-align: middle;\n",
       "    }\n",
       "\n",
       "    .dataframe tbody tr th {\n",
       "        vertical-align: top;\n",
       "    }\n",
       "\n",
       "    .dataframe thead th {\n",
       "        text-align: right;\n",
       "    }\n",
       "</style>\n",
       "<table border=\"1\" class=\"dataframe\">\n",
       "  <thead>\n",
       "    <tr style=\"text-align: right;\">\n",
       "      <th></th>\n",
       "      <th>0</th>\n",
       "      <th>1</th>\n",
       "      <th>2</th>\n",
       "      <th>3</th>\n",
       "      <th>4</th>\n",
       "      <th>5</th>\n",
       "      <th>6</th>\n",
       "      <th>7</th>\n",
       "      <th>8</th>\n",
       "      <th>9</th>\n",
       "    </tr>\n",
       "  </thead>\n",
       "  <tbody>\n",
       "    <tr>\n",
       "      <th>0</th>\n",
       "      <td>False</td>\n",
       "      <td>False</td>\n",
       "      <td>True</td>\n",
       "      <td>True</td>\n",
       "      <td>True</td>\n",
       "      <td>False</td>\n",
       "      <td>False</td>\n",
       "      <td>True</td>\n",
       "      <td>True</td>\n",
       "      <td>True</td>\n",
       "    </tr>\n",
       "    <tr>\n",
       "      <th>1</th>\n",
       "      <td>True</td>\n",
       "      <td>False</td>\n",
       "      <td>True</td>\n",
       "      <td>True</td>\n",
       "      <td>True</td>\n",
       "      <td>False</td>\n",
       "      <td>False</td>\n",
       "      <td>True</td>\n",
       "      <td>True</td>\n",
       "      <td>True</td>\n",
       "    </tr>\n",
       "    <tr>\n",
       "      <th>2</th>\n",
       "      <td>False</td>\n",
       "      <td>False</td>\n",
       "      <td>True</td>\n",
       "      <td>True</td>\n",
       "      <td>True</td>\n",
       "      <td>False</td>\n",
       "      <td>False</td>\n",
       "      <td>True</td>\n",
       "      <td>True</td>\n",
       "      <td>True</td>\n",
       "    </tr>\n",
       "    <tr>\n",
       "      <th>3</th>\n",
       "      <td>False</td>\n",
       "      <td>False</td>\n",
       "      <td>True</td>\n",
       "      <td>True</td>\n",
       "      <td>True</td>\n",
       "      <td>False</td>\n",
       "      <td>False</td>\n",
       "      <td>True</td>\n",
       "      <td>True</td>\n",
       "      <td>True</td>\n",
       "    </tr>\n",
       "    <tr>\n",
       "      <th>4</th>\n",
       "      <td>False</td>\n",
       "      <td>False</td>\n",
       "      <td>True</td>\n",
       "      <td>True</td>\n",
       "      <td>True</td>\n",
       "      <td>False</td>\n",
       "      <td>False</td>\n",
       "      <td>True</td>\n",
       "      <td>True</td>\n",
       "      <td>True</td>\n",
       "    </tr>\n",
       "    <tr>\n",
       "      <th>...</th>\n",
       "      <td>...</td>\n",
       "      <td>...</td>\n",
       "      <td>...</td>\n",
       "      <td>...</td>\n",
       "      <td>...</td>\n",
       "      <td>...</td>\n",
       "      <td>...</td>\n",
       "      <td>...</td>\n",
       "      <td>...</td>\n",
       "      <td>...</td>\n",
       "    </tr>\n",
       "    <tr>\n",
       "      <th>1886</th>\n",
       "      <td>False</td>\n",
       "      <td>False</td>\n",
       "      <td>False</td>\n",
       "      <td>False</td>\n",
       "      <td>False</td>\n",
       "      <td>False</td>\n",
       "      <td>False</td>\n",
       "      <td>False</td>\n",
       "      <td>False</td>\n",
       "      <td>False</td>\n",
       "    </tr>\n",
       "    <tr>\n",
       "      <th>1887</th>\n",
       "      <td>False</td>\n",
       "      <td>False</td>\n",
       "      <td>False</td>\n",
       "      <td>False</td>\n",
       "      <td>False</td>\n",
       "      <td>False</td>\n",
       "      <td>False</td>\n",
       "      <td>False</td>\n",
       "      <td>False</td>\n",
       "      <td>False</td>\n",
       "    </tr>\n",
       "    <tr>\n",
       "      <th>1888</th>\n",
       "      <td>True</td>\n",
       "      <td>True</td>\n",
       "      <td>True</td>\n",
       "      <td>True</td>\n",
       "      <td>True</td>\n",
       "      <td>True</td>\n",
       "      <td>True</td>\n",
       "      <td>True</td>\n",
       "      <td>True</td>\n",
       "      <td>True</td>\n",
       "    </tr>\n",
       "    <tr>\n",
       "      <th>1889</th>\n",
       "      <td>True</td>\n",
       "      <td>True</td>\n",
       "      <td>True</td>\n",
       "      <td>True</td>\n",
       "      <td>True</td>\n",
       "      <td>True</td>\n",
       "      <td>True</td>\n",
       "      <td>True</td>\n",
       "      <td>True</td>\n",
       "      <td>True</td>\n",
       "    </tr>\n",
       "    <tr>\n",
       "      <th>1890</th>\n",
       "      <td>True</td>\n",
       "      <td>True</td>\n",
       "      <td>True</td>\n",
       "      <td>True</td>\n",
       "      <td>True</td>\n",
       "      <td>True</td>\n",
       "      <td>True</td>\n",
       "      <td>True</td>\n",
       "      <td>True</td>\n",
       "      <td>True</td>\n",
       "    </tr>\n",
       "  </tbody>\n",
       "</table>\n",
       "<p>1891 rows × 10 columns</p>\n",
       "</div>"
      ],
      "text/plain": [
       "          0      1      2      3      4      5      6      7      8      9\n",
       "0     False  False   True   True   True  False  False   True   True   True\n",
       "1      True  False   True   True   True  False  False   True   True   True\n",
       "2     False  False   True   True   True  False  False   True   True   True\n",
       "3     False  False   True   True   True  False  False   True   True   True\n",
       "4     False  False   True   True   True  False  False   True   True   True\n",
       "...     ...    ...    ...    ...    ...    ...    ...    ...    ...    ...\n",
       "1886  False  False  False  False  False  False  False  False  False  False\n",
       "1887  False  False  False  False  False  False  False  False  False  False\n",
       "1888   True   True   True   True   True   True   True   True   True   True\n",
       "1889   True   True   True   True   True   True   True   True   True   True\n",
       "1890   True   True   True   True   True   True   True   True   True   True\n",
       "\n",
       "[1891 rows x 10 columns]"
      ]
     },
     "execution_count": 41,
     "metadata": {},
     "output_type": "execute_result"
    }
   ],
   "source": [
    "pws_rows_18S = itertools.combinations(range(cluster_samples_18S.shape[0]), 2)\n",
    "\n",
    "pws_same_18S = pd.DataFrame([[isSameCluster(pair, cluster_samples_18S, col) for col in range(cluster_samples_18S.shape[1])] for pair in pws_rows_18S])\n",
    "pws_same_18S"
   ]
  },
  {
   "cell_type": "code",
   "execution_count": 42,
   "id": "5332e67c-b654-4e04-b231-61deffbb2953",
   "metadata": {},
   "outputs": [
    {
     "name": "stdout",
     "output_type": "stream",
     "text": [
      "10\n",
      "10\n"
     ]
    }
   ],
   "source": [
    "# Function to return maximum number of values that are the same in a each row\n",
    "def maxSame(row):\n",
    "    return row.value_counts().max()\n",
    "\n",
    "print(maxSame(pws_same_16S.iloc[0, :]))\n",
    "print(maxSame(pws_same_16S.iloc[1890, :]))"
   ]
  },
  {
   "cell_type": "code",
   "execution_count": 44,
   "id": "42c657e9-d7dd-423e-bb64-11885d867d43",
   "metadata": {},
   "outputs": [
    {
     "data": {
      "text/plain": [
       "97.04389212057113"
      ]
     },
     "execution_count": 44,
     "metadata": {},
     "output_type": "execute_result"
    }
   ],
   "source": [
    "# Code to return the percent of all values that were the same by row\n",
    "num_same = [maxSame(pws_same_18S.iloc[row, :]) for row in range(pws_same_18S.shape[0])]\n",
    "np.sum(num_same) * 100 / (pws_same_18S.shape[0] * pws_same_18S.shape[1])"
   ]
  },
  {
   "cell_type": "markdown",
   "id": "6c4cffd4-7750-44a4-8592-542afc6d4e36",
   "metadata": {},
   "source": [
    "## Putting it all together"
   ]
  },
  {
   "cell_type": "code",
   "execution_count": 45,
   "id": "342dd802-5c31-4adf-9ae5-04f0fe062ae7",
   "metadata": {},
   "outputs": [],
   "source": [
    "# Function to create n_rep draws of df and assign n_clusters and returns percent of draws that had same relative cluster assignments\n",
    "def pctSame(df, n_clust, n_rep):\n",
    "    if n_clust >= df.shape[0]:\n",
    "        return 100\n",
    "    \n",
    "    def isSameCluster(pws, df, col):\n",
    "        return df.iloc[pws[0], col] == df.iloc[pws[1], col]\n",
    "    \n",
    "    def maxSame(row):\n",
    "        return row.value_counts().max()\n",
    "    \n",
    "    # cluster a random sample of logit(relative percentages)\n",
    "    cluster_samples = [md.doClustering(md.ranRelPct(df), n_clust) for i in range(n_rep)]\n",
    "    cluster_samples = pd.DataFrame(cluster_samples).transpose()\n",
    "    # unique pairs of rows\n",
    "    pws_rows = itertools.combinations(range(cluster_samples.shape[0]), 2)\n",
    "    # identify pairs of samples that are in the same cluster (True) or in different clusters (False)\n",
    "    pws_same = pd.DataFrame([[isSameCluster(pair, cluster_samples, col) for col in range(cluster_samples.shape[1])] for pair in pws_rows])\n",
    "    # get the maximum number replicates that have the same value (True or False) for each sample\n",
    "    num_same = [maxSame(pws_same.iloc[row, :]) for row in range(pws_same.shape[0])]\n",
    "    # convert to percentage with maximum of same value across all replicates\n",
    "    return np.sum(num_same) * 100 / (pws_same.shape[0] * pws_same.shape[1])"
   ]
  },
  {
   "cell_type": "code",
   "execution_count": null,
   "id": "04546155-6c17-4e03-a5e1-bea589526535",
   "metadata": {},
   "outputs": [],
   "source": [
    "%%time\n",
    "# Code to return pct of draws that had the same relative cluster assignment for 2 to 62 clusters for n_rep replicates\n",
    "# NB: This takes a long time to run for a modest number of replicates!!\n",
    "\n",
    "n_rep = 50\n",
    "num_clust_16S = np.arange(2, asvs_16S.shape[1] + 1)\n",
    "pct_same_16S = [pctSame(asvs_16S, x, n_rep) for x in num_clust_16S]"
   ]
  },
  {
   "cell_type": "code",
   "execution_count": 48,
   "id": "53518060-b276-42e2-a8d6-7991d252f9c2",
   "metadata": {},
   "outputs": [
    {
     "name": "stdout",
     "output_type": "stream",
     "text": [
      "CPU times: user 7min 6s, sys: 47.5 ms, total: 7min 6s\n",
      "Wall time: 7min 6s\n"
     ]
    }
   ],
   "source": [
    "%%time\n",
    "# Code to return pct of draws that had the same relative cluster assignment for 2 to 62 clusters for n_rep replicates\n",
    "# NB: This takes a long time to run for a modest number of replicates!!\n",
    "\n",
    "n_rep = 50\n",
    "num_clust_18S = np.arange(2, asvs_18S.shape[1] + 1)\n",
    "pct_same_18S = [pctSame(asvs_18S, x, n_rep) for x in num_clust_18S]"
   ]
  },
  {
   "cell_type": "code",
   "execution_count": 49,
   "id": "50bc0dd5-dd94-4a2e-a9d6-6fe8b7f9ab05",
   "metadata": {},
   "outputs": [
    {
     "data": {
      "application/vnd.plotly.v1+json": {
       "config": {
        "plotlyServerURL": "https://plot.ly"
       },
       "data": [
        {
         "hovertemplate": "x=%{x}<br>y=%{y}<extra></extra>",
         "legendgroup": "",
         "line": {
          "color": "#636efa",
          "dash": "solid"
         },
         "marker": {
          "symbol": "circle"
         },
         "mode": "lines",
         "name": "",
         "orientation": "v",
         "showlegend": false,
         "type": "scatter",
         "x": [
          2,
          3,
          4,
          5,
          6,
          7,
          8,
          9,
          10,
          11,
          12,
          13,
          14,
          15,
          16,
          17,
          18,
          19,
          20,
          21,
          22,
          23,
          24,
          25,
          26,
          27,
          28,
          29,
          30,
          31,
          32,
          33,
          34,
          35,
          36,
          37,
          38,
          39,
          40,
          41,
          42,
          43,
          44,
          45,
          46,
          47,
          48,
          49,
          50,
          51,
          52,
          53,
          54,
          55,
          56,
          57,
          58,
          59,
          60,
          61,
          62
         ],
         "xaxis": "x",
         "y": [
          99.35483870967742,
          99.37810682178741,
          96.43257535695399,
          96.37334743521946,
          96.45690111052353,
          96.75621364357482,
          96.97514542570069,
          96.12268640930725,
          97.4690639873083,
          96.5637228979376,
          96.7392913802221,
          96.77207826546801,
          96.37440507667901,
          96.63881544156531,
          96.93072448439979,
          96.71708090957165,
          96.83870967741936,
          96.88841882601798,
          97.11686938127974,
          97.10946589106292,
          97.00687466948705,
          97.18773135906928,
          97.33897408778424,
          97.32522474881016,
          97.204653622422,
          97.49338974087784,
          97.43204653622422,
          97.58751983077737,
          97.48704389212057,
          97.73453199365414,
          97.62665256478054,
          97.65943945002644,
          97.8667371760973,
          97.97250132205183,
          97.91750396615548,
          98.09836065573771,
          98.10999471179271,
          98.24748810153358,
          98.37440507667901,
          98.44738233738762,
          98.5404547858276,
          98.59756742464305,
          98.6853516657853,
          98.76890534108936,
          98.86197778952935,
          98.93283976731888,
          99.00264410364886,
          99.08408249603384,
          99.15600211528292,
          99.21311475409836,
          99.30407191961925,
          99.38551031200423,
          99.46271813855103,
          99.55050237969328,
          99.61184558434691,
          99.69011105235325,
          99.76097303014278,
          99.83183500793231,
          99.89212057112638,
          99.94711792702275,
          100
         ],
         "yaxis": "y"
        }
       ],
       "layout": {
        "autosize": true,
        "legend": {
         "tracegroupgap": 0
        },
        "margin": {
         "t": 60
        },
        "template": {
         "data": {
          "bar": [
           {
            "error_x": {
             "color": "#2a3f5f"
            },
            "error_y": {
             "color": "#2a3f5f"
            },
            "marker": {
             "line": {
              "color": "#E5ECF6",
              "width": 0.5
             },
             "pattern": {
              "fillmode": "overlay",
              "size": 10,
              "solidity": 0.2
             }
            },
            "type": "bar"
           }
          ],
          "barpolar": [
           {
            "marker": {
             "line": {
              "color": "#E5ECF6",
              "width": 0.5
             },
             "pattern": {
              "fillmode": "overlay",
              "size": 10,
              "solidity": 0.2
             }
            },
            "type": "barpolar"
           }
          ],
          "carpet": [
           {
            "aaxis": {
             "endlinecolor": "#2a3f5f",
             "gridcolor": "white",
             "linecolor": "white",
             "minorgridcolor": "white",
             "startlinecolor": "#2a3f5f"
            },
            "baxis": {
             "endlinecolor": "#2a3f5f",
             "gridcolor": "white",
             "linecolor": "white",
             "minorgridcolor": "white",
             "startlinecolor": "#2a3f5f"
            },
            "type": "carpet"
           }
          ],
          "choropleth": [
           {
            "colorbar": {
             "outlinewidth": 0,
             "ticks": ""
            },
            "type": "choropleth"
           }
          ],
          "contour": [
           {
            "colorbar": {
             "outlinewidth": 0,
             "ticks": ""
            },
            "colorscale": [
             [
              0,
              "#0d0887"
             ],
             [
              0.1111111111111111,
              "#46039f"
             ],
             [
              0.2222222222222222,
              "#7201a8"
             ],
             [
              0.3333333333333333,
              "#9c179e"
             ],
             [
              0.4444444444444444,
              "#bd3786"
             ],
             [
              0.5555555555555556,
              "#d8576b"
             ],
             [
              0.6666666666666666,
              "#ed7953"
             ],
             [
              0.7777777777777778,
              "#fb9f3a"
             ],
             [
              0.8888888888888888,
              "#fdca26"
             ],
             [
              1,
              "#f0f921"
             ]
            ],
            "type": "contour"
           }
          ],
          "contourcarpet": [
           {
            "colorbar": {
             "outlinewidth": 0,
             "ticks": ""
            },
            "type": "contourcarpet"
           }
          ],
          "heatmap": [
           {
            "colorbar": {
             "outlinewidth": 0,
             "ticks": ""
            },
            "colorscale": [
             [
              0,
              "#0d0887"
             ],
             [
              0.1111111111111111,
              "#46039f"
             ],
             [
              0.2222222222222222,
              "#7201a8"
             ],
             [
              0.3333333333333333,
              "#9c179e"
             ],
             [
              0.4444444444444444,
              "#bd3786"
             ],
             [
              0.5555555555555556,
              "#d8576b"
             ],
             [
              0.6666666666666666,
              "#ed7953"
             ],
             [
              0.7777777777777778,
              "#fb9f3a"
             ],
             [
              0.8888888888888888,
              "#fdca26"
             ],
             [
              1,
              "#f0f921"
             ]
            ],
            "type": "heatmap"
           }
          ],
          "heatmapgl": [
           {
            "colorbar": {
             "outlinewidth": 0,
             "ticks": ""
            },
            "colorscale": [
             [
              0,
              "#0d0887"
             ],
             [
              0.1111111111111111,
              "#46039f"
             ],
             [
              0.2222222222222222,
              "#7201a8"
             ],
             [
              0.3333333333333333,
              "#9c179e"
             ],
             [
              0.4444444444444444,
              "#bd3786"
             ],
             [
              0.5555555555555556,
              "#d8576b"
             ],
             [
              0.6666666666666666,
              "#ed7953"
             ],
             [
              0.7777777777777778,
              "#fb9f3a"
             ],
             [
              0.8888888888888888,
              "#fdca26"
             ],
             [
              1,
              "#f0f921"
             ]
            ],
            "type": "heatmapgl"
           }
          ],
          "histogram": [
           {
            "marker": {
             "pattern": {
              "fillmode": "overlay",
              "size": 10,
              "solidity": 0.2
             }
            },
            "type": "histogram"
           }
          ],
          "histogram2d": [
           {
            "colorbar": {
             "outlinewidth": 0,
             "ticks": ""
            },
            "colorscale": [
             [
              0,
              "#0d0887"
             ],
             [
              0.1111111111111111,
              "#46039f"
             ],
             [
              0.2222222222222222,
              "#7201a8"
             ],
             [
              0.3333333333333333,
              "#9c179e"
             ],
             [
              0.4444444444444444,
              "#bd3786"
             ],
             [
              0.5555555555555556,
              "#d8576b"
             ],
             [
              0.6666666666666666,
              "#ed7953"
             ],
             [
              0.7777777777777778,
              "#fb9f3a"
             ],
             [
              0.8888888888888888,
              "#fdca26"
             ],
             [
              1,
              "#f0f921"
             ]
            ],
            "type": "histogram2d"
           }
          ],
          "histogram2dcontour": [
           {
            "colorbar": {
             "outlinewidth": 0,
             "ticks": ""
            },
            "colorscale": [
             [
              0,
              "#0d0887"
             ],
             [
              0.1111111111111111,
              "#46039f"
             ],
             [
              0.2222222222222222,
              "#7201a8"
             ],
             [
              0.3333333333333333,
              "#9c179e"
             ],
             [
              0.4444444444444444,
              "#bd3786"
             ],
             [
              0.5555555555555556,
              "#d8576b"
             ],
             [
              0.6666666666666666,
              "#ed7953"
             ],
             [
              0.7777777777777778,
              "#fb9f3a"
             ],
             [
              0.8888888888888888,
              "#fdca26"
             ],
             [
              1,
              "#f0f921"
             ]
            ],
            "type": "histogram2dcontour"
           }
          ],
          "mesh3d": [
           {
            "colorbar": {
             "outlinewidth": 0,
             "ticks": ""
            },
            "type": "mesh3d"
           }
          ],
          "parcoords": [
           {
            "line": {
             "colorbar": {
              "outlinewidth": 0,
              "ticks": ""
             }
            },
            "type": "parcoords"
           }
          ],
          "pie": [
           {
            "automargin": true,
            "type": "pie"
           }
          ],
          "scatter": [
           {
            "fillpattern": {
             "fillmode": "overlay",
             "size": 10,
             "solidity": 0.2
            },
            "type": "scatter"
           }
          ],
          "scatter3d": [
           {
            "line": {
             "colorbar": {
              "outlinewidth": 0,
              "ticks": ""
             }
            },
            "marker": {
             "colorbar": {
              "outlinewidth": 0,
              "ticks": ""
             }
            },
            "type": "scatter3d"
           }
          ],
          "scattercarpet": [
           {
            "marker": {
             "colorbar": {
              "outlinewidth": 0,
              "ticks": ""
             }
            },
            "type": "scattercarpet"
           }
          ],
          "scattergeo": [
           {
            "marker": {
             "colorbar": {
              "outlinewidth": 0,
              "ticks": ""
             }
            },
            "type": "scattergeo"
           }
          ],
          "scattergl": [
           {
            "marker": {
             "colorbar": {
              "outlinewidth": 0,
              "ticks": ""
             }
            },
            "type": "scattergl"
           }
          ],
          "scattermapbox": [
           {
            "marker": {
             "colorbar": {
              "outlinewidth": 0,
              "ticks": ""
             }
            },
            "type": "scattermapbox"
           }
          ],
          "scatterpolar": [
           {
            "marker": {
             "colorbar": {
              "outlinewidth": 0,
              "ticks": ""
             }
            },
            "type": "scatterpolar"
           }
          ],
          "scatterpolargl": [
           {
            "marker": {
             "colorbar": {
              "outlinewidth": 0,
              "ticks": ""
             }
            },
            "type": "scatterpolargl"
           }
          ],
          "scatterternary": [
           {
            "marker": {
             "colorbar": {
              "outlinewidth": 0,
              "ticks": ""
             }
            },
            "type": "scatterternary"
           }
          ],
          "surface": [
           {
            "colorbar": {
             "outlinewidth": 0,
             "ticks": ""
            },
            "colorscale": [
             [
              0,
              "#0d0887"
             ],
             [
              0.1111111111111111,
              "#46039f"
             ],
             [
              0.2222222222222222,
              "#7201a8"
             ],
             [
              0.3333333333333333,
              "#9c179e"
             ],
             [
              0.4444444444444444,
              "#bd3786"
             ],
             [
              0.5555555555555556,
              "#d8576b"
             ],
             [
              0.6666666666666666,
              "#ed7953"
             ],
             [
              0.7777777777777778,
              "#fb9f3a"
             ],
             [
              0.8888888888888888,
              "#fdca26"
             ],
             [
              1,
              "#f0f921"
             ]
            ],
            "type": "surface"
           }
          ],
          "table": [
           {
            "cells": {
             "fill": {
              "color": "#EBF0F8"
             },
             "line": {
              "color": "white"
             }
            },
            "header": {
             "fill": {
              "color": "#C8D4E3"
             },
             "line": {
              "color": "white"
             }
            },
            "type": "table"
           }
          ]
         },
         "layout": {
          "annotationdefaults": {
           "arrowcolor": "#2a3f5f",
           "arrowhead": 0,
           "arrowwidth": 1
          },
          "autotypenumbers": "strict",
          "coloraxis": {
           "colorbar": {
            "outlinewidth": 0,
            "ticks": ""
           }
          },
          "colorscale": {
           "diverging": [
            [
             0,
             "#8e0152"
            ],
            [
             0.1,
             "#c51b7d"
            ],
            [
             0.2,
             "#de77ae"
            ],
            [
             0.3,
             "#f1b6da"
            ],
            [
             0.4,
             "#fde0ef"
            ],
            [
             0.5,
             "#f7f7f7"
            ],
            [
             0.6,
             "#e6f5d0"
            ],
            [
             0.7,
             "#b8e186"
            ],
            [
             0.8,
             "#7fbc41"
            ],
            [
             0.9,
             "#4d9221"
            ],
            [
             1,
             "#276419"
            ]
           ],
           "sequential": [
            [
             0,
             "#0d0887"
            ],
            [
             0.1111111111111111,
             "#46039f"
            ],
            [
             0.2222222222222222,
             "#7201a8"
            ],
            [
             0.3333333333333333,
             "#9c179e"
            ],
            [
             0.4444444444444444,
             "#bd3786"
            ],
            [
             0.5555555555555556,
             "#d8576b"
            ],
            [
             0.6666666666666666,
             "#ed7953"
            ],
            [
             0.7777777777777778,
             "#fb9f3a"
            ],
            [
             0.8888888888888888,
             "#fdca26"
            ],
            [
             1,
             "#f0f921"
            ]
           ],
           "sequentialminus": [
            [
             0,
             "#0d0887"
            ],
            [
             0.1111111111111111,
             "#46039f"
            ],
            [
             0.2222222222222222,
             "#7201a8"
            ],
            [
             0.3333333333333333,
             "#9c179e"
            ],
            [
             0.4444444444444444,
             "#bd3786"
            ],
            [
             0.5555555555555556,
             "#d8576b"
            ],
            [
             0.6666666666666666,
             "#ed7953"
            ],
            [
             0.7777777777777778,
             "#fb9f3a"
            ],
            [
             0.8888888888888888,
             "#fdca26"
            ],
            [
             1,
             "#f0f921"
            ]
           ]
          },
          "colorway": [
           "#636efa",
           "#EF553B",
           "#00cc96",
           "#ab63fa",
           "#FFA15A",
           "#19d3f3",
           "#FF6692",
           "#B6E880",
           "#FF97FF",
           "#FECB52"
          ],
          "font": {
           "color": "#2a3f5f"
          },
          "geo": {
           "bgcolor": "white",
           "lakecolor": "white",
           "landcolor": "#E5ECF6",
           "showlakes": true,
           "showland": true,
           "subunitcolor": "white"
          },
          "hoverlabel": {
           "align": "left"
          },
          "hovermode": "closest",
          "mapbox": {
           "style": "light"
          },
          "paper_bgcolor": "white",
          "plot_bgcolor": "#E5ECF6",
          "polar": {
           "angularaxis": {
            "gridcolor": "white",
            "linecolor": "white",
            "ticks": ""
           },
           "bgcolor": "#E5ECF6",
           "radialaxis": {
            "gridcolor": "white",
            "linecolor": "white",
            "ticks": ""
           }
          },
          "scene": {
           "xaxis": {
            "backgroundcolor": "#E5ECF6",
            "gridcolor": "white",
            "gridwidth": 2,
            "linecolor": "white",
            "showbackground": true,
            "ticks": "",
            "zerolinecolor": "white"
           },
           "yaxis": {
            "backgroundcolor": "#E5ECF6",
            "gridcolor": "white",
            "gridwidth": 2,
            "linecolor": "white",
            "showbackground": true,
            "ticks": "",
            "zerolinecolor": "white"
           },
           "zaxis": {
            "backgroundcolor": "#E5ECF6",
            "gridcolor": "white",
            "gridwidth": 2,
            "linecolor": "white",
            "showbackground": true,
            "ticks": "",
            "zerolinecolor": "white"
           }
          },
          "shapedefaults": {
           "line": {
            "color": "#2a3f5f"
           }
          },
          "ternary": {
           "aaxis": {
            "gridcolor": "white",
            "linecolor": "white",
            "ticks": ""
           },
           "baxis": {
            "gridcolor": "white",
            "linecolor": "white",
            "ticks": ""
           },
           "bgcolor": "#E5ECF6",
           "caxis": {
            "gridcolor": "white",
            "linecolor": "white",
            "ticks": ""
           }
          },
          "title": {
           "x": 0.05
          },
          "xaxis": {
           "automargin": true,
           "gridcolor": "white",
           "linecolor": "white",
           "ticks": "",
           "title": {
            "standoff": 15
           },
           "zerolinecolor": "white",
           "zerolinewidth": 2
          },
          "yaxis": {
           "automargin": true,
           "gridcolor": "white",
           "linecolor": "white",
           "ticks": "",
           "title": {
            "standoff": 15
           },
           "zerolinecolor": "white",
           "zerolinewidth": 2
          }
         }
        },
        "xaxis": {
         "anchor": "y",
         "autorange": true,
         "domain": [
          0,
          1
         ],
         "range": [
          2,
          62
         ],
         "title": {
          "text": "x"
         },
         "type": "linear"
        },
        "yaxis": {
         "anchor": "x",
         "autorange": true,
         "domain": [
          0,
          1
         ],
         "range": [
          95.9072800987132,
          100.21540631059405
         ],
         "title": {
          "text": "y"
         },
         "type": "linear"
        }
       }
      },
      "image/png": "[encoded data removed]",
      "text/html": [
       "<div>                            <div id=\"be54f5e3-5e53-4c33-84cb-448d2a6cfbc5\" class=\"plotly-graph-div\" style=\"height:525px; width:100%;\"></div>            <script type=\"text/javascript\">                require([\"plotly\"], function(Plotly) {                    window.PLOTLYENV=window.PLOTLYENV || {};                                    if (document.getElementById(\"be54f5e3-5e53-4c33-84cb-448d2a6cfbc5\")) {                    Plotly.newPlot(                        \"be54f5e3-5e53-4c33-84cb-448d2a6cfbc5\",                        [{\"hovertemplate\":\"x=%{x}<br>y=%{y}<extra></extra>\",\"legendgroup\":\"\",\"line\":{\"color\":\"#636efa\",\"dash\":\"solid\"},\"marker\":{\"symbol\":\"circle\"},\"mode\":\"lines\",\"name\":\"\",\"orientation\":\"v\",\"showlegend\":false,\"x\":[2,3,4,5,6,7,8,9,10,11,12,13,14,15,16,17,18,19,20,21,22,23,24,25,26,27,28,29,30,31,32,33,34,35,36,37,38,39,40,41,42,43,44,45,46,47,48,49,50,51,52,53,54,55,56,57,58,59,60,61,62],\"xaxis\":\"x\",\"y\":[99.35483870967742,99.37810682178741,96.43257535695399,96.37334743521946,96.45690111052353,96.75621364357482,96.97514542570069,96.12268640930725,97.4690639873083,96.5637228979376,96.7392913802221,96.77207826546801,96.37440507667901,96.63881544156531,96.93072448439979,96.71708090957165,96.83870967741936,96.88841882601798,97.11686938127974,97.10946589106292,97.00687466948705,97.18773135906928,97.33897408778424,97.32522474881016,97.204653622422,97.49338974087784,97.43204653622422,97.58751983077737,97.48704389212057,97.73453199365414,97.62665256478054,97.65943945002644,97.8667371760973,97.97250132205183,97.91750396615548,98.09836065573771,98.10999471179271,98.24748810153358,98.37440507667901,98.44738233738762,98.5404547858276,98.59756742464305,98.6853516657853,98.76890534108936,98.86197778952935,98.93283976731888,99.00264410364886,99.08408249603384,99.15600211528292,99.21311475409836,99.30407191961925,99.38551031200423,99.46271813855103,99.55050237969328,99.61184558434691,99.69011105235325,99.76097303014278,99.83183500793231,99.89212057112638,99.94711792702275,100.0],\"yaxis\":\"y\",\"type\":\"scatter\"}],                        {\"template\":{\"data\":{\"histogram2dcontour\":[{\"type\":\"histogram2dcontour\",\"colorbar\":{\"outlinewidth\":0,\"ticks\":\"\"},\"colorscale\":[[0.0,\"#0d0887\"],[0.1111111111111111,\"#46039f\"],[0.2222222222222222,\"#7201a8\"],[0.3333333333333333,\"#9c179e\"],[0.4444444444444444,\"#bd3786\"],[0.5555555555555556,\"#d8576b\"],[0.6666666666666666,\"#ed7953\"],[0.7777777777777778,\"#fb9f3a\"],[0.8888888888888888,\"#fdca26\"],[1.0,\"#f0f921\"]]}],\"choropleth\":[{\"type\":\"choropleth\",\"colorbar\":{\"outlinewidth\":0,\"ticks\":\"\"}}],\"histogram2d\":[{\"type\":\"histogram2d\",\"colorbar\":{\"outlinewidth\":0,\"ticks\":\"\"},\"colorscale\":[[0.0,\"#0d0887\"],[0.1111111111111111,\"#46039f\"],[0.2222222222222222,\"#7201a8\"],[0.3333333333333333,\"#9c179e\"],[0.4444444444444444,\"#bd3786\"],[0.5555555555555556,\"#d8576b\"],[0.6666666666666666,\"#ed7953\"],[0.7777777777777778,\"#fb9f3a\"],[0.8888888888888888,\"#fdca26\"],[1.0,\"#f0f921\"]]}],\"heatmap\":[{\"type\":\"heatmap\",\"colorbar\":{\"outlinewidth\":0,\"ticks\":\"\"},\"colorscale\":[[0.0,\"#0d0887\"],[0.1111111111111111,\"#46039f\"],[0.2222222222222222,\"#7201a8\"],[0.3333333333333333,\"#9c179e\"],[0.4444444444444444,\"#bd3786\"],[0.5555555555555556,\"#d8576b\"],[0.6666666666666666,\"#ed7953\"],[0.7777777777777778,\"#fb9f3a\"],[0.8888888888888888,\"#fdca26\"],[1.0,\"#f0f921\"]]}],\"heatmapgl\":[{\"type\":\"heatmapgl\",\"colorbar\":{\"outlinewidth\":0,\"ticks\":\"\"},\"colorscale\":[[0.0,\"#0d0887\"],[0.1111111111111111,\"#46039f\"],[0.2222222222222222,\"#7201a8\"],[0.3333333333333333,\"#9c179e\"],[0.4444444444444444,\"#bd3786\"],[0.5555555555555556,\"#d8576b\"],[0.6666666666666666,\"#ed7953\"],[0.7777777777777778,\"#fb9f3a\"],[0.8888888888888888,\"#fdca26\"],[1.0,\"#f0f921\"]]}],\"contourcarpet\":[{\"type\":\"contourcarpet\",\"colorbar\":{\"outlinewidth\":0,\"ticks\":\"\"}}],\"contour\":[{\"type\":\"contour\",\"colorbar\":{\"outlinewidth\":0,\"ticks\":\"\"},\"colorscale\":[[0.0,\"#0d0887\"],[0.1111111111111111,\"#46039f\"],[0.2222222222222222,\"#7201a8\"],[0.3333333333333333,\"#9c179e\"],[0.4444444444444444,\"#bd3786\"],[0.5555555555555556,\"#d8576b\"],[0.6666666666666666,\"#ed7953\"],[0.7777777777777778,\"#fb9f3a\"],[0.8888888888888888,\"#fdca26\"],[1.0,\"#f0f921\"]]}],\"surface\":[{\"type\":\"surface\",\"colorbar\":{\"outlinewidth\":0,\"ticks\":\"\"},\"colorscale\":[[0.0,\"#0d0887\"],[0.1111111111111111,\"#46039f\"],[0.2222222222222222,\"#7201a8\"],[0.3333333333333333,\"#9c179e\"],[0.4444444444444444,\"#bd3786\"],[0.5555555555555556,\"#d8576b\"],[0.6666666666666666,\"#ed7953\"],[0.7777777777777778,\"#fb9f3a\"],[0.8888888888888888,\"#fdca26\"],[1.0,\"#f0f921\"]]}],\"mesh3d\":[{\"type\":\"mesh3d\",\"colorbar\":{\"outlinewidth\":0,\"ticks\":\"\"}}],\"scatter\":[{\"fillpattern\":{\"fillmode\":\"overlay\",\"size\":10,\"solidity\":0.2},\"type\":\"scatter\"}],\"parcoords\":[{\"type\":\"parcoords\",\"line\":{\"colorbar\":{\"outlinewidth\":0,\"ticks\":\"\"}}}],\"scatterpolargl\":[{\"type\":\"scatterpolargl\",\"marker\":{\"colorbar\":{\"outlinewidth\":0,\"ticks\":\"\"}}}],\"bar\":[{\"error_x\":{\"color\":\"#2a3f5f\"},\"error_y\":{\"color\":\"#2a3f5f\"},\"marker\":{\"line\":{\"color\":\"#E5ECF6\",\"width\":0.5},\"pattern\":{\"fillmode\":\"overlay\",\"size\":10,\"solidity\":0.2}},\"type\":\"bar\"}],\"scattergeo\":[{\"type\":\"scattergeo\",\"marker\":{\"colorbar\":{\"outlinewidth\":0,\"ticks\":\"\"}}}],\"scatterpolar\":[{\"type\":\"scatterpolar\",\"marker\":{\"colorbar\":{\"outlinewidth\":0,\"ticks\":\"\"}}}],\"histogram\":[{\"marker\":{\"pattern\":{\"fillmode\":\"overlay\",\"size\":10,\"solidity\":0.2}},\"type\":\"histogram\"}],\"scattergl\":[{\"type\":\"scattergl\",\"marker\":{\"colorbar\":{\"outlinewidth\":0,\"ticks\":\"\"}}}],\"scatter3d\":[{\"type\":\"scatter3d\",\"line\":{\"colorbar\":{\"outlinewidth\":0,\"ticks\":\"\"}},\"marker\":{\"colorbar\":{\"outlinewidth\":0,\"ticks\":\"\"}}}],\"scattermapbox\":[{\"type\":\"scattermapbox\",\"marker\":{\"colorbar\":{\"outlinewidth\":0,\"ticks\":\"\"}}}],\"scatterternary\":[{\"type\":\"scatterternary\",\"marker\":{\"colorbar\":{\"outlinewidth\":0,\"ticks\":\"\"}}}],\"scattercarpet\":[{\"type\":\"scattercarpet\",\"marker\":{\"colorbar\":{\"outlinewidth\":0,\"ticks\":\"\"}}}],\"carpet\":[{\"aaxis\":{\"endlinecolor\":\"#2a3f5f\",\"gridcolor\":\"white\",\"linecolor\":\"white\",\"minorgridcolor\":\"white\",\"startlinecolor\":\"#2a3f5f\"},\"baxis\":{\"endlinecolor\":\"#2a3f5f\",\"gridcolor\":\"white\",\"linecolor\":\"white\",\"minorgridcolor\":\"white\",\"startlinecolor\":\"#2a3f5f\"},\"type\":\"carpet\"}],\"table\":[{\"cells\":{\"fill\":{\"color\":\"#EBF0F8\"},\"line\":{\"color\":\"white\"}},\"header\":{\"fill\":{\"color\":\"#C8D4E3\"},\"line\":{\"color\":\"white\"}},\"type\":\"table\"}],\"barpolar\":[{\"marker\":{\"line\":{\"color\":\"#E5ECF6\",\"width\":0.5},\"pattern\":{\"fillmode\":\"overlay\",\"size\":10,\"solidity\":0.2}},\"type\":\"barpolar\"}],\"pie\":[{\"automargin\":true,\"type\":\"pie\"}]},\"layout\":{\"autotypenumbers\":\"strict\",\"colorway\":[\"#636efa\",\"#EF553B\",\"#00cc96\",\"#ab63fa\",\"#FFA15A\",\"#19d3f3\",\"#FF6692\",\"#B6E880\",\"#FF97FF\",\"#FECB52\"],\"font\":{\"color\":\"#2a3f5f\"},\"hovermode\":\"closest\",\"hoverlabel\":{\"align\":\"left\"},\"paper_bgcolor\":\"white\",\"plot_bgcolor\":\"#E5ECF6\",\"polar\":{\"bgcolor\":\"#E5ECF6\",\"angularaxis\":{\"gridcolor\":\"white\",\"linecolor\":\"white\",\"ticks\":\"\"},\"radialaxis\":{\"gridcolor\":\"white\",\"linecolor\":\"white\",\"ticks\":\"\"}},\"ternary\":{\"bgcolor\":\"#E5ECF6\",\"aaxis\":{\"gridcolor\":\"white\",\"linecolor\":\"white\",\"ticks\":\"\"},\"baxis\":{\"gridcolor\":\"white\",\"linecolor\":\"white\",\"ticks\":\"\"},\"caxis\":{\"gridcolor\":\"white\",\"linecolor\":\"white\",\"ticks\":\"\"}},\"coloraxis\":{\"colorbar\":{\"outlinewidth\":0,\"ticks\":\"\"}},\"colorscale\":{\"sequential\":[[0.0,\"#0d0887\"],[0.1111111111111111,\"#46039f\"],[0.2222222222222222,\"#7201a8\"],[0.3333333333333333,\"#9c179e\"],[0.4444444444444444,\"#bd3786\"],[0.5555555555555556,\"#d8576b\"],[0.6666666666666666,\"#ed7953\"],[0.7777777777777778,\"#fb9f3a\"],[0.8888888888888888,\"#fdca26\"],[1.0,\"#f0f921\"]],\"sequentialminus\":[[0.0,\"#0d0887\"],[0.1111111111111111,\"#46039f\"],[0.2222222222222222,\"#7201a8\"],[0.3333333333333333,\"#9c179e\"],[0.4444444444444444,\"#bd3786\"],[0.5555555555555556,\"#d8576b\"],[0.6666666666666666,\"#ed7953\"],[0.7777777777777778,\"#fb9f3a\"],[0.8888888888888888,\"#fdca26\"],[1.0,\"#f0f921\"]],\"diverging\":[[0,\"#8e0152\"],[0.1,\"#c51b7d\"],[0.2,\"#de77ae\"],[0.3,\"#f1b6da\"],[0.4,\"#fde0ef\"],[0.5,\"#f7f7f7\"],[0.6,\"#e6f5d0\"],[0.7,\"#b8e186\"],[0.8,\"#7fbc41\"],[0.9,\"#4d9221\"],[1,\"#276419\"]]},\"xaxis\":{\"gridcolor\":\"white\",\"linecolor\":\"white\",\"ticks\":\"\",\"title\":{\"standoff\":15},\"zerolinecolor\":\"white\",\"automargin\":true,\"zerolinewidth\":2},\"yaxis\":{\"gridcolor\":\"white\",\"linecolor\":\"white\",\"ticks\":\"\",\"title\":{\"standoff\":15},\"zerolinecolor\":\"white\",\"automargin\":true,\"zerolinewidth\":2},\"scene\":{\"xaxis\":{\"backgroundcolor\":\"#E5ECF6\",\"gridcolor\":\"white\",\"linecolor\":\"white\",\"showbackground\":true,\"ticks\":\"\",\"zerolinecolor\":\"white\",\"gridwidth\":2},\"yaxis\":{\"backgroundcolor\":\"#E5ECF6\",\"gridcolor\":\"white\",\"linecolor\":\"white\",\"showbackground\":true,\"ticks\":\"\",\"zerolinecolor\":\"white\",\"gridwidth\":2},\"zaxis\":{\"backgroundcolor\":\"#E5ECF6\",\"gridcolor\":\"white\",\"linecolor\":\"white\",\"showbackground\":true,\"ticks\":\"\",\"zerolinecolor\":\"white\",\"gridwidth\":2}},\"shapedefaults\":{\"line\":{\"color\":\"#2a3f5f\"}},\"annotationdefaults\":{\"arrowcolor\":\"#2a3f5f\",\"arrowhead\":0,\"arrowwidth\":1},\"geo\":{\"bgcolor\":\"white\",\"landcolor\":\"#E5ECF6\",\"subunitcolor\":\"white\",\"showland\":true,\"showlakes\":true,\"lakecolor\":\"white\"},\"title\":{\"x\":0.05},\"mapbox\":{\"style\":\"light\"}}},\"xaxis\":{\"anchor\":\"y\",\"domain\":[0.0,1.0],\"title\":{\"text\":\"x\"}},\"yaxis\":{\"anchor\":\"x\",\"domain\":[0.0,1.0],\"title\":{\"text\":\"y\"}},\"legend\":{\"tracegroupgap\":0},\"margin\":{\"t\":60}},                        {\"responsive\": true}                    ).then(function(){\n",
       "                            \n",
       "var gd = document.getElementById('be54f5e3-5e53-4c33-84cb-448d2a6cfbc5');\n",
       "var x = new MutationObserver(function (mutations, observer) {{\n",
       "        var display = window.getComputedStyle(gd).display;\n",
       "        if (!display || display === 'none') {{\n",
       "            console.log([gd, 'removed!']);\n",
       "            Plotly.purge(gd);\n",
       "            observer.disconnect();\n",
       "        }}\n",
       "}});\n",
       "\n",
       "// Listen for the removal of the full notebook cells\n",
       "var notebookContainer = gd.closest('#notebook-container');\n",
       "if (notebookContainer) {{\n",
       "    x.observe(notebookContainer, {childList: true});\n",
       "}}\n",
       "\n",
       "// Listen for the clearing of the current output cell\n",
       "var outputEl = gd.closest('.output');\n",
       "if (outputEl) {{\n",
       "    x.observe(outputEl, {childList: true});\n",
       "}}\n",
       "\n",
       "                        })                };                });            </script>        </div>"
      ]
     },
     "metadata": {},
     "output_type": "display_data"
    }
   ],
   "source": [
    "# Plot percent of draws the same for each number of clusters\n",
    "px.line(x = num_clust_18S, y = pct_same_18S)"
   ]
  },
  {
   "cell_type": "code",
   "execution_count": null,
   "id": "6c7b3b7a-2984-420b-bf4e-d991a0cc16f0",
   "metadata": {},
   "outputs": [],
   "source": [
    "# Plot percent of draws the same for each number of clusters\n",
    "px.line(x = num_clust_16S, y = pct_same_16S)"
   ]
  }
 ],
 "metadata": {
  "kernelspec": {
   "display_name": "Python 3 (ipykernel)",
   "language": "python",
   "name": "python3"
  },
  "language_info": {
   "codemirror_mode": {
    "name": "ipython",
    "version": 3
   },
   "file_extension": ".py",
   "mimetype": "text/x-python",
   "name": "python",
   "nbconvert_exporter": "python",
   "pygments_lexer": "ipython3",
   "version": "3.9.13"
  }
 },
 "nbformat": 4,
 "nbformat_minor": 5
}
