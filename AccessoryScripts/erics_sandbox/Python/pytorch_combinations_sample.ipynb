{
 "cells": [
  {
   "cell_type": "code",
   "execution_count": 1,
   "id": "9beaffba-52c3-47aa-a908-d4e85697df30",
   "metadata": {},
   "outputs": [],
   "source": [
    "import torch\n",
    "import itertools"
   ]
  },
  {
   "cell_type": "code",
   "execution_count": 11,
   "id": "027f695a-936e-4c21-84cd-fc301170b6f7",
   "metadata": {},
   "outputs": [
    {
     "data": {
      "text/plain": [
       "[(1, 2), (1, 3), (2, 3)]"
      ]
     },
     "execution_count": 11,
     "metadata": {},
     "output_type": "execute_result"
    }
   ],
   "source": [
    "a = [1, 2, 3]\n",
    "# r is the number of values in each combination (2 = a pair of samples)\n",
    "list(itertools.combinations(a, r=2))\n",
    "#list(itertools.combinations(a, r=3))\n",
    "#list(itertools.combinations_with_replacement(a, r=2)) # this includes pairs of the same sample"
   ]
  },
  {
   "cell_type": "code",
   "execution_count": 13,
   "id": "5a1f3ccc-0482-4dd7-aa65-e63e3e1e924f",
   "metadata": {},
   "outputs": [
    {
     "data": {
      "text/plain": [
       "tensor([[1, 2, 3]], device='cuda:0')"
      ]
     },
     "execution_count": 13,
     "metadata": {},
     "output_type": "execute_result"
    }
   ],
   "source": [
    "tensor_a = torch.tensor(a)\n",
    "torch.combinations(tensor_a.cuda())\n",
    "#torch.combinations(tensor_a.cuda(), r=3)\n",
    "#torch.combinations(tensor_a.cuda(), with_replacement=True)"
   ]
  },
  {
   "cell_type": "code",
   "execution_count": null,
   "id": "84b92fec-1659-4ddc-a5a4-154e3374b903",
   "metadata": {},
   "outputs": [],
   "source": []
  }
 ],
 "metadata": {
  "kernelspec": {
   "display_name": "Python 3 (ipykernel)",
   "language": "python",
   "name": "python3"
  },
  "language_info": {
   "codemirror_mode": {
    "name": "ipython",
    "version": 3
   },
   "file_extension": ".py",
   "mimetype": "text/x-python",
   "name": "python",
   "nbconvert_exporter": "python",
   "pygments_lexer": "ipython3",
   "version": "3.9.13"
  }
 },
 "nbformat": 4,
 "nbformat_minor": 5
}
