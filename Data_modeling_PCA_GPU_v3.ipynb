{
 "cells": [
  {
   "cell_type": "markdown",
   "metadata": {},
   "source": [
    "Amplicon data of two different marker genes from the same samples\n",
    "========\n",
    "\n",
    "### Testing functionality with RAPIDS"
   ]
  },
  {
   "cell_type": "markdown",
   "metadata": {},
   "source": [
    "#### Import all the dependencies"
   ]
  },
  {
   "cell_type": "code",
   "execution_count": 1,
   "metadata": {},
   "outputs": [],
   "source": [
    "import matplotlib.pyplot as plt\n",
    "import seaborn as sns # will this work with RAPIDS?\n",
    "import pandas as pd\n",
    "\n",
    "# RAPIDS libraries\n",
    "import cudf # RAPIDS equivalent of pandas\n",
    "import cupy as cp # RAPIDS equivalent of numpy\n",
    "from cuml.decomposition import PCA # RAPIDS equivalent of scikit-learn"
   ]
  },
  {
   "cell_type": "code",
   "execution_count": 2,
   "metadata": {},
   "outputs": [
    {
     "name": "stdout",
     "output_type": "stream",
     "text": [
      "Tue Feb 21 21:38:10 2023       \n",
      "+-----------------------------------------------------------------------------+\n",
      "| NVIDIA-SMI 525.85.12    Driver Version: 525.85.12    CUDA Version: 12.0     |\n",
      "|-------------------------------+----------------------+----------------------+\n",
      "| GPU  Name        Persistence-M| Bus-Id        Disp.A | Volatile Uncorr. ECC |\n",
      "| Fan  Temp  Perf  Pwr:Usage/Cap|         Memory-Usage | GPU-Util  Compute M. |\n",
      "|                               |                      |               MIG M. |\n",
      "|===============================+======================+======================|\n",
      "|   0  NVIDIA RTX A6000    On   | 00000000:21:00.0  On |                  Off |\n",
      "| 30%   49C    P2    78W / 300W |    441MiB / 49140MiB |      0%      Default |\n",
      "|                               |                      |                  N/A |\n",
      "+-------------------------------+----------------------+----------------------+\n",
      "                                                                               \n",
      "+-----------------------------------------------------------------------------+\n",
      "| Processes:                                                                  |\n",
      "|  GPU   GI   CI        PID   Type   Process name                  GPU Memory |\n",
      "|        ID   ID                                                   Usage      |\n",
      "|=============================================================================|\n",
      "+-----------------------------------------------------------------------------+\n"
     ]
    }
   ],
   "source": [
    "# Check hardware configuration\n",
    "!nvidia-smi"
   ]
  },
  {
   "cell_type": "markdown",
   "metadata": {},
   "source": [
    "## Create helper functions"
   ]
  },
  {
   "cell_type": "markdown",
   "metadata": {},
   "source": [
    "#### Return data frame of a draw of relative percent of occurrence from a beta distribution fit to observed occurrence counts df: data frame where rows = samples and columns = ASVs"
   ]
  },
  {
   "cell_type": "code",
   "execution_count": null,
   "metadata": {},
   "outputs": [],
   "source": [
    "def ranRelPct(df, asLogOdds = True):\n",
    "    # function to return a random draw from a beta distribution for a row\n",
    "    def betaRow(row):\n",
    "        ran_row = cupy.random.beta(row + 1, row.sum() - row + 1)\n",
    "        ran_row = ran_row / ran_row.sum()\n",
    "        return ran_row\n",
    "    # apply betaRow function to every row to draw sample of relative percent occurrence\n",
    "    result = df.apply(lambda x: betaRow(x), axis = 1, result_type = 'expand') \n",
    "    # assign row and column names\n",
    "    result.index = df.index.values\n",
    "    result.columns = df.columns.values\n",
    "    # convert to log-odds if requested\n",
    "    if asLogOdds:\n",
    "        result = cupy.log(result / (1 - result))\n",
    "    return result"
   ]
  },
  {
   "cell_type": "markdown",
   "metadata": {},
   "source": [
    "#### Draws sample of relative percent of occurrence and conducts PCA df: data frame where rows = samples and columns = ASVs \n",
    "#### Returns a dictionary containing : \n",
    "#####   df: data frame containing a random draw of the original count data frame as log-odds\n",
    "#####   scores: array of PCA scores\n",
    "#####   loadings: array of PCA loadings"
   ]
  },
  {
   "cell_type": "code",
   "execution_count": null,
   "metadata": {},
   "outputs": [],
   "source": [
    "def samplePCA(df, num_pcs):\n",
    "    ran_df = ranRelPct(df, asLogOdds = True)\n",
    "    pca = PCA(n_components = num_pcs)\n",
    "    pca_fit = pca.fit(ran_df)\n",
    "    scores = pca_fit.transform(ran_df)\n",
    "    loadings = cupy.transpose(pca_fit.components_)\n",
    "    pca_results = {\n",
    "        \"df\": ran_df,\n",
    "        \"scores\": scores,\n",
    "        \"loadings\": loadings\n",
    "    }\n",
    "    return pca_results"
   ]
  },
  {
   "cell_type": "markdown",
   "metadata": {},
   "source": [
    "#### If the sign of the first element in a column in matrices after the first is different than the first, multiply all values in that column by -1"
   ]
  },
  {
   "cell_type": "code",
   "execution_count": null,
   "metadata": {},
   "outputs": [],
   "source": [
    "def harmonizeColumnSigns(mat_list):\n",
    "    for i in range(1, len(mat_list)):\n",
    "        for col in range(mat_list[i].shape[1]):\n",
    "            if cupy.sign(mat_list[i][0, col]) != cupy.sign(mat_list[0][0, col]):\n",
    "                mat_list[i][:, col] *= -1\n",
    "    return mat_list"
   ]
  },
  {
   "cell_type": "markdown",
   "metadata": {},
   "source": [
    "#### Sorts PCA loadings from a list "
   ]
  },
  {
   "cell_type": "code",
   "execution_count": null,
   "metadata": {},
   "outputs": [],
   "source": [
    "def sortLoadings(loading_list, pc, asvs, asRanks = False):\n",
    "    # Harmonize signs across replicates\n",
    "    harm_loadings = harmonizeColumnSigns(loading_list)\n",
    "    # Create 3 dimensional array and select component 'pc'\n",
    "    loadings = cupy.stack(harm_loadings, axis = 2)[:, pc, :]\n",
    "    # Convert to ranks if 'asRanks == True'\n",
    "    if asRanks:\n",
    "        loadings = cupy.array([rankdata(loadings[:, i]) for i in range(loadings.shape[1])]).transpose()\n",
    "    # Get sorted order based on median for each ASV \n",
    "    row_sort = cupy.apply_along_axis(np.median, 1, loadings).ravel().argsort()[::-1]\n",
    "    # Sort based on median, add ASV names (also sorted) and return data frame\n",
    "    df = cudf.DataFrame(loadings[row_sort, :])\n",
    "    df.index = asvs[row_sort]\n",
    "    return df"
   ]
  },
  {
   "cell_type": "markdown",
   "metadata": {},
   "source": [
    "#### Run functions with one data set"
   ]
  },
  {
   "cell_type": "code",
   "execution_count": null,
   "metadata": {},
   "outputs": [],
   "source": [
    "file1 = \"./Data/Flyer2018_16S_table_counts.tsv\"\n",
    "asvs1 = cudf.read_csv(file1, index_col=0, sep=\"\\t\").transpose()"
   ]
  },
  {
   "cell_type": "code",
   "execution_count": 3,
   "metadata": {
    "tags": []
   },
   "outputs": [],
   "source": [
    "asv_PCAs = [samplePCA(asvs1, 3) for i in range(10)]\n",
    "raw_loadings = [x[\"loadings\"] for x in asv_PCAs]"
   ]
  },
  {
   "cell_type": "code",
   "execution_count": null,
   "metadata": {},
   "outputs": [],
   "source": [
    "df = sortLoadings(raw_loadings, 0, asvs1.columns.values, True)\n",
    "sns.heatmap(df)"
   ]
  },
  {
   "cell_type": "markdown",
   "metadata": {},
   "source": [
    "#### Create a list of files to plot"
   ]
  },
  {
   "cell_type": "code",
   "execution_count": 4,
   "metadata": {},
   "outputs": [],
   "source": [
    "# Set the folder containing the data\n",
    "DATA_DIR = \"./Data/\"\n",
    "\n",
    "file_names = [\"Flyer2018_16S_table_counts.tsv\",\n",
    "              \"Flyer2018_18S_table_counts.tsv\"]\n",
    "for file in file_names:\n",
    "    # Create the file path \n",
    "    file_path = DATA_DIR + file\n",
    "    \n",
    "    # Load the dataframe\n",
    "    asvs = cudf.read_csv(file_name, index_col=0, sep=\"\\t\").transpose()\n",
    "    \n",
    "    ### DO OTHER STUFF HERE\n",
    "    asv_PCAs = [samplePCA(asvs, 3) for i in range(10)]\n",
    "    raw_loadings = [x[\"loadings\"] for x in asv_PCAs]\n",
    "    \n",
    "    df = sortLoadings(raw_loadings, 0, asvs1.columns.values, True)\n",
    "    sns.heatmap(df)"
   ]
  }
 ],
 "metadata": {
  "kernelspec": {
   "display_name": "Python 3 (ipykernel)",
   "language": "python",
   "name": "python3"
  },
  "language_info": {
   "codemirror_mode": {
    "name": "ipython",
    "version": 3
   },
   "file_extension": ".py",
   "mimetype": "text/x-python",
   "name": "python",
   "nbconvert_exporter": "python",
   "pygments_lexer": "ipython3",
   "version": "3.8.15"
  }
 },
 "nbformat": 4,
 "nbformat_minor": 4
}
