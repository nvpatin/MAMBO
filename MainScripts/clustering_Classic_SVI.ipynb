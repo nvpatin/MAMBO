{
 "cells": [
  {
   "cell_type": "markdown",
   "id": "6114e5e7-da43-4998-926c-0d2ee3bdf897",
   "metadata": {},
   "source": [
    "# Run \"Classic\" pandas version of processing with SVI Bayesian method"
   ]
  },
  {
   "cell_type": "code",
   "execution_count": 53,
   "id": "significant-cornell",
   "metadata": {},
   "outputs": [
    {
     "name": "stdout",
     "output_type": "stream",
     "text": [
      "The autoreload extension is already loaded. To reload it, use:\n",
      "  %reload_ext autoreload\n"
     ]
    }
   ],
   "source": [
    "import pandas as pd\n",
    "#import MarineDNA as md\n",
    "import plotly.express as px\n",
    "import numpy as np\n",
    "from sklearn.cluster import AgglomerativeClustering\n",
    "from sklearn.decomposition import PCA\n",
    "\n",
    "import itertools\n",
    "\n",
    "%load_ext autoreload\n",
    "%autoreload 2"
   ]
  },
  {
   "cell_type": "markdown",
   "id": "138afed9-494a-4130-a327-f29b33cad6bc",
   "metadata": {},
   "source": [
    "## Import the data"
   ]
  },
  {
   "cell_type": "code",
   "execution_count": 54,
   "id": "f5e32982-5d77-43e7-8aeb-d0d7f4b2717b",
   "metadata": {},
   "outputs": [],
   "source": [
    "file1 = \"../Data/merged_data/no_duplicates/Merged2018_16S_otu_filtered.csv\"\n",
    "file2 = \"../Data/merged_data/no_duplicates/Merged2018_18S_otu_filtered.csv\"\n",
    "asvs_16S = pd.read_csv(file1, index_col=0)\n",
    "asvs_18S = pd.read_csv(file2, index_col=0)\n"
   ]
  },
  {
   "cell_type": "code",
   "execution_count": 55,
   "id": "58142fa5-3b5a-4826-a595-65790a71b92c",
   "metadata": {},
   "outputs": [
    {
     "name": "stdout",
     "output_type": "stream",
     "text": [
      "Number of 16S ASVs: 7077\n",
      "Number of 16S samples: 131\n",
      "Number of 18S ASVs: 10475\n",
      "Number of 18S samples: 131\n"
     ]
    }
   ],
   "source": [
    "# get lists of sample and asv names\n",
    "labels_samples_16S = list(asvs_16S)\n",
    "labels_samples_18S = list(asvs_18S)\n",
    "labels_asvs_16S = asvs_16S.index.tolist()\n",
    "labels_asvs_18S = asvs_18S.index.tolist()\n",
    "\n",
    "print('Number of 16S ASVs:', len(labels_asvs_16S))\n",
    "print('Number of 16S samples:', len(labels_samples_16S))\n",
    "print('Number of 18S ASVs:', len(labels_asvs_18S))\n",
    "print('Number of 18S samples:', len(labels_samples_18S))"
   ]
  },
  {
   "cell_type": "markdown",
   "id": "997d7dde-f6b7-45cf-9fb3-4dc01741252a",
   "metadata": {},
   "source": [
    "## Functions"
   ]
  },
  {
   "cell_type": "code",
   "execution_count": 4,
   "id": "41fdc9f0-4904-4ee2-91f0-0a30f2aeb530",
   "metadata": {},
   "outputs": [],
   "source": [
    "# Return data frame of a draw of relative percent of occurrence from a beta distribution\n",
    "# fit to observed occurrence counts\n",
    "#   df: data frame where rows = ASVs and columns = samples\n",
    "def ranRelPct(df, asLogOdds = True):\n",
    "    import pandas as pd\n",
    "    import numpy as np\n",
    "    \n",
    "    def betaCol(col):\n",
    "        beta_dist = np.random.beta(col + 1, col.sum() - col + 1)\n",
    "        return beta_dist / beta_dist.sum()\n",
    "    result = np.empty([df.shape[0], df.shape[1]])\n",
    "    for i in range(result.shape[1]):\n",
    "        result[:,i] = betaCol(df.iloc[:,i])\n",
    "    if asLogOdds:\n",
    "        result = np.log(result / (1 - result))\n",
    "    return pd.DataFrame(result, index = df.index, columns = df.columns).transpose()"
   ]
  },
  {
   "cell_type": "code",
   "execution_count": 5,
   "id": "206f917e-cc41-45d3-8f14-a436866798c2",
   "metadata": {},
   "outputs": [],
   "source": [
    "# Does hierarchical clustering on data frame where rows are samples and columns are ASVs\n",
    "# Returns array of cluster labels for rows\n",
    "def doClustering(df, num_clusts, num_pcs = None):\n",
    "    from sklearn.cluster import AgglomerativeClustering\n",
    "    \n",
    "    agg_clust = AgglomerativeClustering(n_clusters = num_clusts, metric = \"euclidean\", linkage = \"ward\")\n",
    "    labels = agg_clust.fit_predict(df)\n",
    "    return labels.astype(str)"
   ]
  },
  {
   "cell_type": "code",
   "execution_count": 6,
   "id": "dcd0fafa-89ad-4102-bc3b-38a73befd3b3",
   "metadata": {},
   "outputs": [],
   "source": [
    "def pctSame(df, n_clust, n_rep):\n",
    "    if n_clust >= df.shape[0]:\n",
    "        return 100\n",
    "    \n",
    "    def isSameCluster(pws, df, col):\n",
    "        return df.iloc[pws[0], col] == df.iloc[pws[1], col]\n",
    "    \n",
    "    def maxSame(row):\n",
    "        unique, counts = np.unique(row, return_counts=True)\n",
    "        return max(counts)\n",
    "    \n",
    "    # cluster a random sample of logit(relative percentages)\n",
    "    cluster_samples = [md.doClustering(md.ranRelPct(df), n_clust) for i in range(n_rep)]\n",
    "    cluster_samples = pd.DataFrame(cluster_samples).transpose()\n",
    "    # unique pairs of rows\n",
    "    *pws_rows, = itertools.combinations(range(cluster_samples.shape[0]), 2)\n",
    "    pws_same = np.empty([len(pws_rows), n_rep])\n",
    "    for c in range(pws_same.shape[1]):\n",
    "        for r in range(pws_same.shape[0]):\n",
    "            pws_same[r, c] = cluster_samples.iloc[pws_rows[r][0], c] == cluster_samples.iloc[pws_rows[r][1], c]\n",
    "    \n",
    "    # get the maximum number replicates that have the same value (True or False) for each sample\n",
    "    num_same = [maxSame(pws_same[row, :]) for row in range(pws_same.shape[0])]\n",
    "    # convert to percentage with maximum of same value across all replicates\n",
    "    return np.sum(num_same) * 100 / (pws_same.shape[0] * pws_same.shape[1])"
   ]
  },
  {
   "cell_type": "code",
   "execution_count": 7,
   "id": "d914b6d2-0865-4c3b-890b-c8a699c704d2",
   "metadata": {},
   "outputs": [],
   "source": [
    "# Does PCA\n",
    "#   df: data frame where rows = samples and columns = ASVs\n",
    "#   num_pcs: number of components to return. if None, return maximum number\n",
    "# Returns a dictionary containing :\n",
    "#   scores: array of PCA scores\n",
    "#   loadings: array of PCA loadings\n",
    "def doPCA(df, num_pcs = None):\n",
    "    import numpy as np\n",
    "    from sklearn.decomposition import PCA\n",
    "    \n",
    "    max_pcs = min(df.shape[0] - 1, df.shape[1] - 1)\n",
    "    if num_pcs is None:\n",
    "        num_pcs = max_pcs\n",
    "    elif num_pcs > max_pcs:\n",
    "        num_pcs = max_pcs\n",
    "    pca = PCA(n_components = num_pcs)\n",
    "    pca_fit = pca.fit(df)\n",
    "    pca_results = {\n",
    "        \"scores\": pca_fit.transform(df),\n",
    "        \"loadings\": np.transpose(pca_fit.components_),\n",
    "        \"explained_variance\": pca.explained_variance_ratio_\n",
    "        # add line exported explained variance\n",
    "    }\n",
    "    return pca_results"
   ]
  },
  {
   "cell_type": "markdown",
   "id": "bb8abc01-d82d-4d1e-80a4-1e930968517b",
   "metadata": {
    "tags": []
   },
   "source": [
    "## One draw"
   ]
  },
  {
   "cell_type": "code",
   "execution_count": 8,
   "id": "fe46a2f5-9c08-4a55-9690-dcdb03ed703a",
   "metadata": {},
   "outputs": [],
   "source": [
    "# one random draw\n",
    "ran_lo_16S = ranRelPct(asvs_16S)\n",
    "ran_lo_18S = ranRelPct(asvs_18S)\n",
    "# one PCA\n",
    "pca_results_16S = doPCA(ran_lo_16S,num_pcs =6)\n",
    "pca_results_18S = doPCA(ran_lo_18S,num_pcs =6)"
   ]
  },
  {
   "cell_type": "code",
   "execution_count": 9,
   "id": "793fbe5f-72f3-42ba-8a1d-0680be5a79b1",
   "metadata": {},
   "outputs": [
    {
     "data": {
      "text/html": [
       "<div>\n",
       "<style scoped>\n",
       "    .dataframe tbody tr th:only-of-type {\n",
       "        vertical-align: middle;\n",
       "    }\n",
       "\n",
       "    .dataframe tbody tr th {\n",
       "        vertical-align: top;\n",
       "    }\n",
       "\n",
       "    .dataframe thead th {\n",
       "        text-align: right;\n",
       "    }\n",
       "</style>\n",
       "<table border=\"1\" class=\"dataframe\">\n",
       "  <thead>\n",
       "    <tr style=\"text-align: right;\">\n",
       "      <th></th>\n",
       "      <th>18S_PC1</th>\n",
       "      <th>18S_PC2</th>\n",
       "      <th>18S_PC3</th>\n",
       "      <th>18S_PC4</th>\n",
       "      <th>18S_PC5</th>\n",
       "      <th>18S_PC6</th>\n",
       "    </tr>\n",
       "  </thead>\n",
       "  <tbody>\n",
       "    <tr>\n",
       "      <th>CN18FESPkoa_SC24</th>\n",
       "      <td>27.168385</td>\n",
       "      <td>55.672389</td>\n",
       "      <td>-23.867697</td>\n",
       "      <td>1.061495</td>\n",
       "      <td>-4.938960</td>\n",
       "      <td>-9.462011</td>\n",
       "    </tr>\n",
       "    <tr>\n",
       "      <th>CN18Fc21_6_eDNA</th>\n",
       "      <td>-32.399833</td>\n",
       "      <td>55.545274</td>\n",
       "      <td>-25.455611</td>\n",
       "      <td>4.140598</td>\n",
       "      <td>-2.818571</td>\n",
       "      <td>7.004974</td>\n",
       "    </tr>\n",
       "    <tr>\n",
       "      <th>CN18Fc22_6_eDNA</th>\n",
       "      <td>-28.113601</td>\n",
       "      <td>57.174851</td>\n",
       "      <td>-23.526761</td>\n",
       "      <td>6.749939</td>\n",
       "      <td>3.728687</td>\n",
       "      <td>9.672329</td>\n",
       "    </tr>\n",
       "    <tr>\n",
       "      <th>CN18Fc24_6_eDNA</th>\n",
       "      <td>-6.576927</td>\n",
       "      <td>56.577954</td>\n",
       "      <td>-26.070029</td>\n",
       "      <td>1.258048</td>\n",
       "      <td>-0.281699</td>\n",
       "      <td>4.559508</td>\n",
       "    </tr>\n",
       "    <tr>\n",
       "      <th>CN18Fc25_5_eDNA</th>\n",
       "      <td>-21.993674</td>\n",
       "      <td>31.913772</td>\n",
       "      <td>-10.837168</td>\n",
       "      <td>-3.257475</td>\n",
       "      <td>-7.573353</td>\n",
       "      <td>9.147380</td>\n",
       "    </tr>\n",
       "  </tbody>\n",
       "</table>\n",
       "</div>"
      ],
      "text/plain": [
       "                    18S_PC1    18S_PC2    18S_PC3   18S_PC4   18S_PC5  \\\n",
       "CN18FESPkoa_SC24  27.168385  55.672389 -23.867697  1.061495 -4.938960   \n",
       "CN18Fc21_6_eDNA  -32.399833  55.545274 -25.455611  4.140598 -2.818571   \n",
       "CN18Fc22_6_eDNA  -28.113601  57.174851 -23.526761  6.749939  3.728687   \n",
       "CN18Fc24_6_eDNA   -6.576927  56.577954 -26.070029  1.258048 -0.281699   \n",
       "CN18Fc25_5_eDNA  -21.993674  31.913772 -10.837168 -3.257475 -7.573353   \n",
       "\n",
       "                   18S_PC6  \n",
       "CN18FESPkoa_SC24 -9.462011  \n",
       "CN18Fc21_6_eDNA   7.004974  \n",
       "CN18Fc22_6_eDNA   9.672329  \n",
       "CN18Fc24_6_eDNA   4.559508  \n",
       "CN18Fc25_5_eDNA   9.147380  "
      ]
     },
     "execution_count": 9,
     "metadata": {},
     "output_type": "execute_result"
    }
   ],
   "source": [
    "# Format PCA results:\n",
    "#16S\n",
    "df = pd.DataFrame(pca_results_16S[\"scores\"], index=labels_samples_16S)\n",
    "df.columns = '16S_PC'+(df.columns + 1).astype(str)\n",
    "pca_scores_16S = df.copy()\n",
    "\n",
    "#18S\n",
    "df = pd.DataFrame(pca_results_18S[\"scores\"], index=labels_samples_18S)\n",
    "df.columns = '18S_PC'+(df.columns + 1).astype(str)\n",
    "pca_scores_18S = df.copy()\n",
    "df.head()"
   ]
  },
  {
   "cell_type": "code",
   "execution_count": 16,
   "id": "79300874-f292-4b6e-a361-8d874b23f2b7",
   "metadata": {},
   "outputs": [
    {
     "data": {
      "text/html": [
       "<div>\n",
       "<style scoped>\n",
       "    .dataframe tbody tr th:only-of-type {\n",
       "        vertical-align: middle;\n",
       "    }\n",
       "\n",
       "    .dataframe tbody tr th {\n",
       "        vertical-align: top;\n",
       "    }\n",
       "\n",
       "    .dataframe thead th {\n",
       "        text-align: right;\n",
       "    }\n",
       "</style>\n",
       "<table border=\"1\" class=\"dataframe\">\n",
       "  <thead>\n",
       "    <tr style=\"text-align: right;\">\n",
       "      <th></th>\n",
       "      <th>16S_PC1</th>\n",
       "      <th>16S_PC2</th>\n",
       "      <th>16S_PC3</th>\n",
       "      <th>16S_PC4</th>\n",
       "      <th>16S_PC5</th>\n",
       "      <th>16S_PC6</th>\n",
       "      <th>18S_PC1</th>\n",
       "      <th>18S_PC2</th>\n",
       "    </tr>\n",
       "  </thead>\n",
       "  <tbody>\n",
       "    <tr>\n",
       "      <th>CN18Fc43_5_eDNA</th>\n",
       "      <td>-57.979814</td>\n",
       "      <td>4.694228</td>\n",
       "      <td>15.656741</td>\n",
       "      <td>-4.089590</td>\n",
       "      <td>0.158013</td>\n",
       "      <td>-5.874627</td>\n",
       "      <td>-45.980560</td>\n",
       "      <td>51.302749</td>\n",
       "    </tr>\n",
       "    <tr>\n",
       "      <th>CN18FESPkoa_SC58</th>\n",
       "      <td>-56.143555</td>\n",
       "      <td>7.528719</td>\n",
       "      <td>11.314178</td>\n",
       "      <td>-5.004067</td>\n",
       "      <td>-0.389400</td>\n",
       "      <td>-0.290039</td>\n",
       "      <td>-45.561586</td>\n",
       "      <td>52.832804</td>\n",
       "    </tr>\n",
       "    <tr>\n",
       "      <th>CN18FESPkoa_SC43</th>\n",
       "      <td>-59.480435</td>\n",
       "      <td>1.803356</td>\n",
       "      <td>9.862384</td>\n",
       "      <td>-4.636202</td>\n",
       "      <td>0.136230</td>\n",
       "      <td>-6.480024</td>\n",
       "      <td>-20.298630</td>\n",
       "      <td>63.203718</td>\n",
       "    </tr>\n",
       "    <tr>\n",
       "      <th>CN18FESPkoa_SC40</th>\n",
       "      <td>-65.979320</td>\n",
       "      <td>0.487794</td>\n",
       "      <td>2.551180</td>\n",
       "      <td>-11.356311</td>\n",
       "      <td>2.118224</td>\n",
       "      <td>-6.846544</td>\n",
       "      <td>13.661724</td>\n",
       "      <td>62.289604</td>\n",
       "    </tr>\n",
       "    <tr>\n",
       "      <th>CN18FESPkoa_SC37</th>\n",
       "      <td>-13.187137</td>\n",
       "      <td>27.358086</td>\n",
       "      <td>41.178335</td>\n",
       "      <td>3.955064</td>\n",
       "      <td>-3.589539</td>\n",
       "      <td>-3.299929</td>\n",
       "      <td>0.260851</td>\n",
       "      <td>67.681505</td>\n",
       "    </tr>\n",
       "  </tbody>\n",
       "</table>\n",
       "</div>"
      ],
      "text/plain": [
       "                    16S_PC1    16S_PC2    16S_PC3    16S_PC4   16S_PC5  \\\n",
       "CN18Fc43_5_eDNA  -57.979814   4.694228  15.656741  -4.089590  0.158013   \n",
       "CN18FESPkoa_SC58 -56.143555   7.528719  11.314178  -5.004067 -0.389400   \n",
       "CN18FESPkoa_SC43 -59.480435   1.803356   9.862384  -4.636202  0.136230   \n",
       "CN18FESPkoa_SC40 -65.979320   0.487794   2.551180 -11.356311  2.118224   \n",
       "CN18FESPkoa_SC37 -13.187137  27.358086  41.178335   3.955064 -3.589539   \n",
       "\n",
       "                   16S_PC6    18S_PC1    18S_PC2  \n",
       "CN18Fc43_5_eDNA  -5.874627 -45.980560  51.302749  \n",
       "CN18FESPkoa_SC58 -0.290039 -45.561586  52.832804  \n",
       "CN18FESPkoa_SC43 -6.480024 -20.298630  63.203718  \n",
       "CN18FESPkoa_SC40 -6.846544  13.661724  62.289604  \n",
       "CN18FESPkoa_SC37 -3.299929   0.260851  67.681505  "
      ]
     },
     "execution_count": 16,
     "metadata": {},
     "output_type": "execute_result"
    }
   ],
   "source": [
    "# Make dataframe of first 6 16S PC scores and first 2 18S PC scores\n",
    "df = pd.concat([pca_scores_16S.iloc[:,:7], pca_scores_18S.iloc[:,:2]], axis=1)\n",
    "comb_scores = df.copy()\n",
    "comb_scores.head()"
   ]
  },
  {
   "cell_type": "markdown",
   "id": "501c8782-6642-411e-b175-e049039de8ae",
   "metadata": {},
   "source": [
    "# SVI Method"
   ]
  },
  {
   "cell_type": "markdown",
   "id": "399547c3-a762-4b92-af14-7631076f4392",
   "metadata": {},
   "source": [
    "### Import libraries"
   ]
  },
  {
   "cell_type": "code",
   "execution_count": null,
   "id": "b1d72b4e-d1c4-4724-b93c-ccfe909365ce",
   "metadata": {},
   "outputs": [],
   "source": []
  },
  {
   "cell_type": "code",
   "execution_count": null,
   "id": "96e7deb6-ae4d-4efe-8c42-d031cffa7731",
   "metadata": {},
   "outputs": [],
   "source": []
  },
  {
   "cell_type": "code",
   "execution_count": null,
   "id": "847f38ed-902d-4f96-90f1-476667f5dc6c",
   "metadata": {},
   "outputs": [],
   "source": []
  },
  {
   "cell_type": "code",
   "execution_count": 14,
   "id": "9c25e20a-89d0-48c6-86e5-d30202d0bded",
   "metadata": {
    "tags": []
   },
   "outputs": [
    {
     "name": "stdout",
     "output_type": "stream",
     "text": [
      "Collecting pyro-ppl\n",
      "  Downloading pyro_ppl-1.8.4-py3-none-any.whl (730 kB)\n",
      "\u001b[2K     \u001b[90m━━━━━━━━━━━━━━━━━━━━━━━━━━━━━━━━━━━━━━━\u001b[0m \u001b[32m730.7/730.7 kB\u001b[0m \u001b[31m9.9 MB/s\u001b[0m eta \u001b[36m0:00:00\u001b[0m00:01\u001b[0m00:01\u001b[0m\n",
      "\u001b[?25hCollecting pyro-api>=0.1.1\n",
      "  Downloading pyro_api-0.1.2-py3-none-any.whl (11 kB)\n",
      "Requirement already satisfied: opt-einsum>=2.3.2 in /opt/conda/envs/rapids/lib/python3.9/site-packages (from pyro-ppl) (3.3.0)\n",
      "Requirement already satisfied: torch>=1.11.0 in /opt/conda/envs/rapids/lib/python3.9/site-packages (from pyro-ppl) (1.13.1)\n",
      "Requirement already satisfied: numpy>=1.7 in /opt/conda/envs/rapids/lib/python3.9/site-packages (from pyro-ppl) (1.23.4)\n",
      "Requirement already satisfied: tqdm>=4.36 in /opt/conda/envs/rapids/lib/python3.9/site-packages (from pyro-ppl) (4.64.1)\n",
      "Requirement already satisfied: nvidia-cublas-cu11==11.10.3.66 in /opt/conda/envs/rapids/lib/python3.9/site-packages (from torch>=1.11.0->pyro-ppl) (11.10.3.66)\n",
      "Requirement already satisfied: nvidia-cuda-nvrtc-cu11==11.7.99 in /opt/conda/envs/rapids/lib/python3.9/site-packages (from torch>=1.11.0->pyro-ppl) (11.7.99)\n",
      "Requirement already satisfied: typing-extensions in /opt/conda/envs/rapids/lib/python3.9/site-packages (from torch>=1.11.0->pyro-ppl) (4.4.0)\n",
      "Requirement already satisfied: nvidia-cuda-runtime-cu11==11.7.99 in /opt/conda/envs/rapids/lib/python3.9/site-packages (from torch>=1.11.0->pyro-ppl) (11.7.99)\n",
      "Requirement already satisfied: nvidia-cudnn-cu11==8.5.0.96 in /opt/conda/envs/rapids/lib/python3.9/site-packages (from torch>=1.11.0->pyro-ppl) (8.5.0.96)\n",
      "Requirement already satisfied: wheel in /opt/conda/envs/rapids/lib/python3.9/site-packages (from nvidia-cublas-cu11==11.10.3.66->torch>=1.11.0->pyro-ppl) (0.37.1)\n",
      "Requirement already satisfied: setuptools in /opt/conda/envs/rapids/lib/python3.9/site-packages (from nvidia-cublas-cu11==11.10.3.66->torch>=1.11.0->pyro-ppl) (60.10.0)\n",
      "Installing collected packages: pyro-api, pyro-ppl\n",
      "Successfully installed pyro-api-0.1.2 pyro-ppl-1.8.4\n",
      "\u001b[33mWARNING: Running pip as the 'root' user can result in broken permissions and conflicting behaviour with the system package manager. It is recommended to use a virtual environment instead: https://pip.pypa.io/warnings/venv\u001b[0m\u001b[33m\n",
      "\u001b[0m"
     ]
    }
   ],
   "source": [
    "# !pip3 install pyro-ppl "
   ]
  },
  {
   "cell_type": "code",
   "execution_count": 26,
   "id": "64efb6a6-47de-4421-9817-52af4415a7a3",
   "metadata": {},
   "outputs": [],
   "source": [
    "from pyro.optim import Adam\n",
    "from pyro.infer import SVI, Trace_ELBO\n",
    "from pyro.infer import Predictive\n",
    "\n",
    "import logging\n",
    "import os\n",
    "\n",
    "import torch\n",
    "import numpy as np\n",
    "import pandas as pd\n",
    "import seaborn as sns\n",
    "import matplotlib.pyplot as plt\n",
    "\n",
    "import pyro\n",
    "import pyro.distributions as dist\n",
    "import pyro.distributions as dist\n",
    "import pyro.optim as optim\n",
    "\n",
    "import torch"
   ]
  },
  {
   "cell_type": "code",
   "execution_count": 28,
   "id": "1718b9bc-c3a2-4ea5-84cc-eb8a14e85122",
   "metadata": {},
   "outputs": [
    {
     "data": {
      "text/plain": [
       "'1.8.4'"
      ]
     },
     "execution_count": 28,
     "metadata": {},
     "output_type": "execute_result"
    }
   ],
   "source": [
    "pyro.__version__"
   ]
  },
  {
   "cell_type": "code",
   "execution_count": 29,
   "id": "36f24a19-eaf4-4338-82d5-7dbef3b2b387",
   "metadata": {},
   "outputs": [],
   "source": [
    "smoke_test = ('CI' in os.environ)\n",
    "assert pyro.__version__.startswith('1.8.4') #Changed from 1.8.4\n",
    "pyro.set_rng_seed(1)\n",
    "\n",
    "pyro.enable_validation(True)\n",
    "pyro.set_rng_seed(1)\n",
    "logging.basicConfig(format='%(message)s', level=logging.INFO)\n",
    "\n",
    "# Set matplotlib settings\n",
    "%matplotlib inline\n",
    "plt.style.use('default')\n",
    "import warnings\n",
    "warnings.filterwarnings('ignore')"
   ]
  },
  {
   "cell_type": "code",
   "execution_count": 38,
   "id": "00a6c761-d29a-4eb6-9ac3-d78ff8eeb364",
   "metadata": {},
   "outputs": [],
   "source": [
    "from collections import defaultdict\n",
    "from pprint import pprint\n",
    "import functools\n",
    "import math\n",
    "import os\n",
    "import torch\n",
    "import pyro\n",
    "import pyro.distributions as dist\n",
    "import pyro.poutine as poutine\n",
    "from pyro.distributions import constraints\n",
    "from pyro.infer import SVI, Trace_ELBO\n",
    "from pyro.infer.autoguide import (\n",
    "    AutoDelta,\n",
    "    AutoNormal,\n",
    "    AutoMultivariateNormal,\n",
    "    AutoLowRankMultivariateNormal,\n",
    "    AutoGuideList,\n",
    "    init_to_feasible,\n",
    ")\n",
    "from pyro.infer.reparam import AutoReparam, LocScaleReparam\n",
    "from pyro.nn.module import PyroParam\n",
    "from pyro.optim import ClippedAdam\n",
    "from pyro.ops.special import sparse_multinomial_likelihood\n",
    "import matplotlib.pyplot as plt"
   ]
  },
  {
   "cell_type": "code",
   "execution_count": 61,
   "id": "f1d1a897-7d7a-4928-b106-d3b47371355c",
   "metadata": {},
   "outputs": [
    {
     "name": "stdout",
     "output_type": "stream",
     "text": [
      "(62, 6) (62, 2) (62, 8)\n"
     ]
    }
   ],
   "source": [
    "'''\n",
    "# Divide data into attributes and labels\n",
    "df1 = pcs_16S.iloc[:,0:6]\n",
    "df1.columns = ['pc1_values_16',  'pc2_values_16','pc3_values_16','pc4_values_16','pc5_values_16','pc6_values_16']\n",
    "df2 = pcs_18S.iloc[:,0:2]\n",
    "df2.columns = ['pc1_values_18',  'pc2_values_18']\n",
    "df = pd.merge(df1, df2, left_index=True, right_index=True)\n",
    "print(df1.shape, df2.shape, df.shape)\n",
    "'''"
   ]
  },
  {
   "cell_type": "code",
   "execution_count": 35,
   "id": "ddc82d76-781a-458d-844f-09241c45a867",
   "metadata": {},
   "outputs": [
    {
     "data": {
      "text/html": [
       "<div>\n",
       "<style scoped>\n",
       "    .dataframe tbody tr th:only-of-type {\n",
       "        vertical-align: middle;\n",
       "    }\n",
       "\n",
       "    .dataframe tbody tr th {\n",
       "        vertical-align: top;\n",
       "    }\n",
       "\n",
       "    .dataframe thead th {\n",
       "        text-align: right;\n",
       "    }\n",
       "</style>\n",
       "<table border=\"1\" class=\"dataframe\">\n",
       "  <thead>\n",
       "    <tr style=\"text-align: right;\">\n",
       "      <th></th>\n",
       "      <th>16S_PC1</th>\n",
       "      <th>16S_PC2</th>\n",
       "      <th>16S_PC3</th>\n",
       "      <th>16S_PC4</th>\n",
       "      <th>16S_PC5</th>\n",
       "      <th>16S_PC6</th>\n",
       "      <th>18S_PC1</th>\n",
       "    </tr>\n",
       "  </thead>\n",
       "  <tbody>\n",
       "    <tr>\n",
       "      <th>CN18Fc43_5_eDNA</th>\n",
       "      <td>-57.979814</td>\n",
       "      <td>4.694228</td>\n",
       "      <td>15.656741</td>\n",
       "      <td>-4.089590</td>\n",
       "      <td>0.158013</td>\n",
       "      <td>-5.874627</td>\n",
       "      <td>-45.980560</td>\n",
       "    </tr>\n",
       "    <tr>\n",
       "      <th>CN18FESPkoa_SC58</th>\n",
       "      <td>-56.143555</td>\n",
       "      <td>7.528719</td>\n",
       "      <td>11.314178</td>\n",
       "      <td>-5.004067</td>\n",
       "      <td>-0.389400</td>\n",
       "      <td>-0.290039</td>\n",
       "      <td>-45.561586</td>\n",
       "    </tr>\n",
       "    <tr>\n",
       "      <th>CN18FESPkoa_SC43</th>\n",
       "      <td>-59.480435</td>\n",
       "      <td>1.803356</td>\n",
       "      <td>9.862384</td>\n",
       "      <td>-4.636202</td>\n",
       "      <td>0.136230</td>\n",
       "      <td>-6.480024</td>\n",
       "      <td>-20.298630</td>\n",
       "    </tr>\n",
       "    <tr>\n",
       "      <th>CN18FESPkoa_SC40</th>\n",
       "      <td>-65.979320</td>\n",
       "      <td>0.487794</td>\n",
       "      <td>2.551180</td>\n",
       "      <td>-11.356311</td>\n",
       "      <td>2.118224</td>\n",
       "      <td>-6.846544</td>\n",
       "      <td>13.661724</td>\n",
       "    </tr>\n",
       "    <tr>\n",
       "      <th>CN18FESPkoa_SC37</th>\n",
       "      <td>-13.187137</td>\n",
       "      <td>27.358086</td>\n",
       "      <td>41.178335</td>\n",
       "      <td>3.955064</td>\n",
       "      <td>-3.589539</td>\n",
       "      <td>-3.299929</td>\n",
       "      <td>0.260851</td>\n",
       "    </tr>\n",
       "    <tr>\n",
       "      <th>...</th>\n",
       "      <td>...</td>\n",
       "      <td>...</td>\n",
       "      <td>...</td>\n",
       "      <td>...</td>\n",
       "      <td>...</td>\n",
       "      <td>...</td>\n",
       "      <td>...</td>\n",
       "    </tr>\n",
       "    <tr>\n",
       "      <th>Lasker18Sc145_19</th>\n",
       "      <td>17.521956</td>\n",
       "      <td>23.881409</td>\n",
       "      <td>-42.854088</td>\n",
       "      <td>16.696716</td>\n",
       "      <td>-12.079959</td>\n",
       "      <td>-19.580485</td>\n",
       "      <td>105.385730</td>\n",
       "    </tr>\n",
       "    <tr>\n",
       "      <th>Lasker18Sc145_3</th>\n",
       "      <td>23.402840</td>\n",
       "      <td>-22.288937</td>\n",
       "      <td>6.926224</td>\n",
       "      <td>-22.906383</td>\n",
       "      <td>-11.264705</td>\n",
       "      <td>7.597653</td>\n",
       "      <td>-16.299639</td>\n",
       "    </tr>\n",
       "    <tr>\n",
       "      <th>Lasker18Sc145_5</th>\n",
       "      <td>35.000140</td>\n",
       "      <td>-11.435591</td>\n",
       "      <td>17.247814</td>\n",
       "      <td>-19.206092</td>\n",
       "      <td>-6.273073</td>\n",
       "      <td>7.908136</td>\n",
       "      <td>2.042756</td>\n",
       "    </tr>\n",
       "    <tr>\n",
       "      <th>Lasker18Sc150_17</th>\n",
       "      <td>3.265337</td>\n",
       "      <td>12.107446</td>\n",
       "      <td>-56.502622</td>\n",
       "      <td>0.801042</td>\n",
       "      <td>-12.863163</td>\n",
       "      <td>-12.125489</td>\n",
       "      <td>96.627604</td>\n",
       "    </tr>\n",
       "    <tr>\n",
       "      <th>Lasker18Sc135_17</th>\n",
       "      <td>33.197613</td>\n",
       "      <td>30.000198</td>\n",
       "      <td>-12.387052</td>\n",
       "      <td>12.872080</td>\n",
       "      <td>-7.553988</td>\n",
       "      <td>-13.565766</td>\n",
       "      <td>118.579181</td>\n",
       "    </tr>\n",
       "  </tbody>\n",
       "</table>\n",
       "<p>131 rows × 7 columns</p>\n",
       "</div>"
      ],
      "text/plain": [
       "                    16S_PC1    16S_PC2    16S_PC3    16S_PC4    16S_PC5  \\\n",
       "CN18Fc43_5_eDNA  -57.979814   4.694228  15.656741  -4.089590   0.158013   \n",
       "CN18FESPkoa_SC58 -56.143555   7.528719  11.314178  -5.004067  -0.389400   \n",
       "CN18FESPkoa_SC43 -59.480435   1.803356   9.862384  -4.636202   0.136230   \n",
       "CN18FESPkoa_SC40 -65.979320   0.487794   2.551180 -11.356311   2.118224   \n",
       "CN18FESPkoa_SC37 -13.187137  27.358086  41.178335   3.955064  -3.589539   \n",
       "...                     ...        ...        ...        ...        ...   \n",
       "Lasker18Sc145_19  17.521956  23.881409 -42.854088  16.696716 -12.079959   \n",
       "Lasker18Sc145_3   23.402840 -22.288937   6.926224 -22.906383 -11.264705   \n",
       "Lasker18Sc145_5   35.000140 -11.435591  17.247814 -19.206092  -6.273073   \n",
       "Lasker18Sc150_17   3.265337  12.107446 -56.502622   0.801042 -12.863163   \n",
       "Lasker18Sc135_17  33.197613  30.000198 -12.387052  12.872080  -7.553988   \n",
       "\n",
       "                    16S_PC6     18S_PC1  \n",
       "CN18Fc43_5_eDNA   -5.874627  -45.980560  \n",
       "CN18FESPkoa_SC58  -0.290039  -45.561586  \n",
       "CN18FESPkoa_SC43  -6.480024  -20.298630  \n",
       "CN18FESPkoa_SC40  -6.846544   13.661724  \n",
       "CN18FESPkoa_SC37  -3.299929    0.260851  \n",
       "...                     ...         ...  \n",
       "Lasker18Sc145_19 -19.580485  105.385730  \n",
       "Lasker18Sc145_3    7.597653  -16.299639  \n",
       "Lasker18Sc145_5    7.908136    2.042756  \n",
       "Lasker18Sc150_17 -12.125489   96.627604  \n",
       "Lasker18Sc135_17 -13.565766  118.579181  \n",
       "\n",
       "[131 rows x 7 columns]"
      ]
     },
     "execution_count": 35,
     "metadata": {},
     "output_type": "execute_result"
    }
   ],
   "source": [
    "dataset_HA2 =comb_scores.copy()\n",
    "dataset_HA2 = dataset_HA2.iloc[:,:-1]\n",
    "dataset_HA2"
   ]
  },
  {
   "cell_type": "code",
   "execution_count": 22,
   "id": "07982d0c-d392-420c-88de-4cc5a89501b8",
   "metadata": {},
   "outputs": [],
   "source": [
    "# Prepare training data\n",
    "# dataset_HA2 = df[['pc1_values_16',  'pc2_values_16','pc3_values_16','pc4_values_16','pc5_values_16','pc6_values_16', 'pc1_values_18'\n",
    "#                          ]]\n",
    "\n",
    "\n",
    "train = torch.tensor(dataset_HA2.values, dtype=torch.float)\n",
    "pc1_values_16,  pc2_values_16,pc3_values_16,pc4_values_16, pc5_values_16, pc6_values_16, pc1_values_18 = train[:, 0], train[:, 1], train[:, 2], train[:, 3], train[:, 4], train[:, 5], train[:, 6]\n"
   ]
  },
  {
   "cell_type": "code",
   "execution_count": 23,
   "id": "78252b06-6f8c-40ab-a8f5-47f956bde8ca",
   "metadata": {},
   "outputs": [],
   "source": [
    "def model(pc1_values_16,  pc2_values_16,pc3_values_16,pc4_values_16, pc5_values_16, pc6_values_16, pc1_values_18):\n",
    "    a = pyro.sample(\"a\", dist.Normal(0., 10.))\n",
    "    b_PC1 = pyro.sample(\"b1\", dist.Normal(0., 1.))\n",
    "    b_PC2 = pyro.sample(\"b2\", dist.Normal(0., 1.))\n",
    "    b_PC3 = pyro.sample(\"b3\", dist.Normal(0., 1.))\n",
    "    b_PC4 = pyro.sample(\"b4\", dist.Normal(0., 1.))\n",
    "    b_PC5 = pyro.sample(\"b5\", dist.Normal(0., 1.))\n",
    "    b_PC6 = pyro.sample(\"b6\", dist.Normal(0., 1.))\n",
    "    sigma = pyro.sample(\"sigma\", dist.Uniform(0., 100.))\n",
    "    \n",
    "    mean = a + b_PC1 * pc1_values_16 + b_PC2 * pc2_values_16 + b_PC3 * pc3_values_16 + b_PC4 * pc4_values_16 + b_PC5 * pc5_values_16 + b_PC6 * pc6_values_16\n",
    "    with pyro.plate(\"data\", len(pc6_values_16)):\n",
    "        return pyro.sample(\"obs\", dist.Normal(mean, sigma), obs=pc1_values_18)"
   ]
  },
  {
   "cell_type": "code",
   "execution_count": 24,
   "id": "735b4a92-8238-4f7f-bdb5-c3cae6415583",
   "metadata": {},
   "outputs": [],
   "source": [
    "def guide(pc1_values_16,  pc2_values_16,pc3_values_16,pc4_values_16, pc5_values_16, pc6_values_16, pc1_values_18):\n",
    "    a_loc = pyro.param('a_loc', torch.tensor(0.))\n",
    "    a_scale = pyro.param('a_scale', torch.tensor(1.), constraint=constraints.positive\n",
    "                        )\n",
    "    sigma_loc = pyro.param('sigma_loc', torch.tensor(1.),\n",
    "                             constraint=constraints.positive)\n",
    "    weights_loc = pyro.param('weights_loc', torch.randn(6))\n",
    "    weights_scale = pyro.param('weights_scale', torch.ones(6),\n",
    "                               constraint=constraints.positive)\n",
    "    a = pyro.sample(\"a\", dist.Normal(a_loc, a_scale))\n",
    "    b_PC1 = pyro.sample(\"b1\", dist.Normal(weights_loc[0], weights_scale[0]))\n",
    "    b_PC2 = pyro.sample(\"b2\", dist.Normal(weights_loc[1], weights_scale[1]))\n",
    "    b_PC3 = pyro.sample(\"b3\", dist.Normal(weights_loc[2], weights_scale[2]))\n",
    "    b_PC4 = pyro.sample(\"b4\", dist.Normal(weights_loc[3], weights_scale[3]))\n",
    "    b_PC5 = pyro.sample(\"b5\", dist.Normal(weights_loc[4], weights_scale[4]))\n",
    "    b_PC6 = pyro.sample(\"b6\", dist.Normal(weights_loc[5], weights_scale[5]))\n",
    "    sigma = pyro.sample(\"sigma\", dist.Normal(sigma_loc, torch.tensor(0.05)))\n",
    "    mean = a + b_PC1 * pc1_values_16 + b_PC2 * pc2_values_16 + b_PC3 * pc3_values_16 + b_PC4 * pc4_values_16 + b_PC5 * pc5_values_16 + b_PC6 * pc6_values_16"
   ]
  },
  {
   "cell_type": "code",
   "execution_count": 31,
   "id": "72bf41ed-7522-41ed-a7e1-19d3639a6321",
   "metadata": {},
   "outputs": [],
   "source": [
    "#pyro.render_model(guide, model_args=(pc1_values_16,  pc2_values_16,pc3_values_16,pc4_values_16, pc5_values_16, pc6_values_16, pc1_values_18), render_params=True)\n",
    "\n"
   ]
  },
  {
   "cell_type": "code",
   "execution_count": 36,
   "id": "739323ca-d5b4-4287-99dd-4dbf16b2773a",
   "metadata": {},
   "outputs": [],
   "source": [
    "# Utility function to print latent sites' quantile information.\n",
    "def summary(samples):\n",
    "    site_stats = {}\n",
    "    for site_name, values in samples.items():\n",
    "        marginal_site = pd.DataFrame(values)\n",
    "        describe = marginal_site.describe(percentiles=[.05, 0.25, 0.5, 0.75, 0.95]).transpose()\n",
    "        site_stats[site_name] = describe[[\"mean\", \"std\", \"5%\", \"25%\", \"50%\", \"75%\", \"95%\"]]\n",
    "    return site_stats\n",
    "\n",
    "# Prepare training data\n",
    "#dataset_HA2 = df[['pc1_values_16',  'pc2_values_16','pc3_values_16','pc4_values_16','pc5_values_16','pc6_values_16', 'pc1_values_18'\n",
    "#                         ]]\n",
    "\n",
    "#dataset_HA2 = comb_scores.copy()\n",
    "train = torch.tensor(dataset_HA2.values, dtype=torch.float)"
   ]
  },
  {
   "cell_type": "code",
   "execution_count": 39,
   "id": "3f8befed-7c49-4ad5-ac46-808131c56511",
   "metadata": {},
   "outputs": [
    {
     "name": "stderr",
     "output_type": "stream",
     "text": [
      "Elbo loss: 359000.4772158265\n",
      "Elbo loss: 1067.332346379757\n",
      "Elbo loss: 757.3592447638512\n",
      "Elbo loss: 678.0222053527832\n",
      "Elbo loss: 639.4407227039337\n",
      "Elbo loss: 635.1555226445198\n",
      "Elbo loss: 631.0551912784576\n",
      "Elbo loss: 626.2030476927757\n",
      "Elbo loss: 630.7398564219475\n",
      "Elbo loss: 632.7477408051491\n"
     ]
    },
    {
     "name": "stdout",
     "output_type": "stream",
     "text": [
      "CPU times: user 18.7 s, sys: 0 ns, total: 18.7 s\n",
      "Wall time: 18.7 s\n"
     ]
    }
   ],
   "source": [
    "%%time\n",
    "from pyro.infer import SVI, Trace_ELBO\n",
    "\n",
    "\n",
    "svi = SVI(model,\n",
    "          guide,\n",
    "          optim.Adam({\"lr\": .05}),\n",
    "          loss=Trace_ELBO())\n",
    "\n",
    "pc1_values_16,  pc2_values_16,pc3_values_16,pc4_values_16, pc5_values_16, pc6_values_16, pc1_values_18 = train[:, 0], train[:, 1], train[:, 2], train[:, 3], train[:, 4], train[:, 5], train[:, 6]\n",
    "pyro.clear_param_store()\n",
    "num_iters = 5000 if not smoke_test else 2\n",
    "for i in range(num_iters):\n",
    "    elbo = svi.step(pc1_values_16,  pc2_values_16,pc3_values_16,pc4_values_16, pc5_values_16, pc6_values_16, pc1_values_18)\n",
    "    if i % 500 == 0:\n",
    "        logging.info(\"Elbo loss: {}\".format(elbo))"
   ]
  },
  {
   "cell_type": "code",
   "execution_count": 40,
   "id": "4b065732-e97a-49f4-9387-f3444d933f66",
   "metadata": {},
   "outputs": [],
   "source": [
    "from pyro.infer import Predictive\n",
    "\n",
    "\n",
    "num_samples = 1000\n",
    "predictive = Predictive(model, guide=guide, num_samples=num_samples)\n",
    "svi_samples = {k: v.reshape(num_samples).detach().cpu().numpy()\n",
    "               for k, v in predictive(pc1_values_16,  pc2_values_16,pc3_values_16,pc4_values_16, pc5_values_16, pc6_values_16, pc1_values_18).items()\n",
    "               if k != \"obs\"}\n"
   ]
  },
  {
   "cell_type": "code",
   "execution_count": 41,
   "id": "980e748f-1d4f-4720-b081-6d8cd1c8e517",
   "metadata": {},
   "outputs": [
    {
     "name": "stdout",
     "output_type": "stream",
     "text": [
      "Site: a\n",
      "       mean     std        5%       25%       50%       75%       95%\n",
      "0 -0.039921  2.0022 -3.322593 -1.403902 -0.023122  1.352853  3.209348 \n",
      "\n",
      "Site: b1\n",
      "      mean       std        5%       25%       50%       75%       95%\n",
      "0  0.31844  0.123144  0.127625  0.231816  0.315646  0.400401  0.519494 \n",
      "\n",
      "Site: b2\n",
      "       mean       std        5%       25%       50%       75%       95%\n",
      "0  1.158815  0.137397  0.933367  1.062448  1.156211  1.259422  1.379297 \n",
      "\n",
      "Site: b3\n",
      "       mean       std        5%       25%       50%       75%       95%\n",
      "0 -1.256707  0.144156 -1.500172 -1.355758 -1.257961 -1.158848 -1.026424 \n",
      "\n",
      "Site: b4\n",
      "       mean      std        5%       25%      50%       75%       95%\n",
      "0 -0.518866  0.14905 -0.766603 -0.620141 -0.52301 -0.419651 -0.269504 \n",
      "\n",
      "Site: b5\n",
      "       mean       std        5%       25%       50%       75%       95%\n",
      "0  0.373338  0.136124  0.141822  0.287789  0.372826  0.457444  0.595564 \n",
      "\n",
      "Site: b6\n",
      "       mean      std        5%       25%       50%       75%      95%\n",
      "0 -0.884244  0.18206 -1.190845 -1.005518 -0.880693 -0.761386 -0.58637 \n",
      "\n",
      "Site: sigma\n",
      "        mean       std         5%        25%        50%        75%        95%\n",
      "0  25.940399  0.049499  25.860651  25.908088  25.940512  25.970995  26.023261 \n",
      "\n"
     ]
    }
   ],
   "source": [
    "for site, values in summary(svi_samples).items():\n",
    "    print(\"Site: {}\".format(site))\n",
    "    print(values, \"\\n\")"
   ]
  },
  {
   "cell_type": "code",
   "execution_count": null,
   "id": "d4fea029-9b3d-435e-858e-f22a512c7727",
   "metadata": {},
   "outputs": [],
   "source": [
    "# y = a +b1x1 + biXi + sigma\n",
    "# b1 to b6 are slopes of the different 16S PCs\n",
    "# sigma: error\n",
    "# alpha: intercept"
   ]
  },
  {
   "cell_type": "code",
   "execution_count": 42,
   "id": "1414dd38-3751-46d9-a67d-2697ea4a13f0",
   "metadata": {},
   "outputs": [
    {
     "data": {
      "text/plain": [
       "{'a':        mean     std        5%       25%       50%       75%       95%\n",
       " 0 -0.039921  2.0022 -3.322593 -1.403902 -0.023122  1.352853  3.209348,\n",
       " 'b1':       mean       std        5%       25%       50%       75%       95%\n",
       " 0  0.31844  0.123144  0.127625  0.231816  0.315646  0.400401  0.519494,\n",
       " 'b2':        mean       std        5%       25%       50%       75%       95%\n",
       " 0  1.158815  0.137397  0.933367  1.062448  1.156211  1.259422  1.379297,\n",
       " 'b3':        mean       std        5%       25%       50%       75%       95%\n",
       " 0 -1.256707  0.144156 -1.500172 -1.355758 -1.257961 -1.158848 -1.026424,\n",
       " 'b4':        mean      std        5%       25%      50%       75%       95%\n",
       " 0 -0.518866  0.14905 -0.766603 -0.620141 -0.52301 -0.419651 -0.269504,\n",
       " 'b5':        mean       std        5%       25%       50%       75%       95%\n",
       " 0  0.373338  0.136124  0.141822  0.287789  0.372826  0.457444  0.595564,\n",
       " 'b6':        mean      std        5%       25%       50%       75%      95%\n",
       " 0 -0.884244  0.18206 -1.190845 -1.005518 -0.880693 -0.761386 -0.58637,\n",
       " 'sigma':         mean       std         5%        25%        50%        75%        95%\n",
       " 0  25.940399  0.049499  25.860651  25.908088  25.940512  25.970995  26.023261}"
      ]
     },
     "execution_count": 42,
     "metadata": {},
     "output_type": "execute_result"
    }
   ],
   "source": [
    "summary(svi_samples)"
   ]
  },
  {
   "cell_type": "code",
   "execution_count": 69,
   "id": "fd922082-5e19-443e-b25e-82caef5800de",
   "metadata": {},
   "outputs": [
    {
     "data": {
      "text/html": [
       "<div>\n",
       "<style scoped>\n",
       "    .dataframe tbody tr th:only-of-type {\n",
       "        vertical-align: middle;\n",
       "    }\n",
       "\n",
       "    .dataframe tbody tr th {\n",
       "        vertical-align: top;\n",
       "    }\n",
       "\n",
       "    .dataframe thead th {\n",
       "        text-align: right;\n",
       "    }\n",
       "</style>\n",
       "<table border=\"1\" class=\"dataframe\">\n",
       "  <thead>\n",
       "    <tr style=\"text-align: right;\">\n",
       "      <th></th>\n",
       "      <th>mean</th>\n",
       "      <th>abs</th>\n",
       "    </tr>\n",
       "  </thead>\n",
       "  <tbody>\n",
       "    <tr>\n",
       "      <th>sigma</th>\n",
       "      <td>25.940399</td>\n",
       "      <td>25.940399</td>\n",
       "    </tr>\n",
       "    <tr>\n",
       "      <th>b3</th>\n",
       "      <td>-1.256707</td>\n",
       "      <td>1.256707</td>\n",
       "    </tr>\n",
       "    <tr>\n",
       "      <th>b2</th>\n",
       "      <td>1.158815</td>\n",
       "      <td>1.158815</td>\n",
       "    </tr>\n",
       "    <tr>\n",
       "      <th>b6</th>\n",
       "      <td>-0.884244</td>\n",
       "      <td>0.884244</td>\n",
       "    </tr>\n",
       "    <tr>\n",
       "      <th>b4</th>\n",
       "      <td>-0.518866</td>\n",
       "      <td>0.518866</td>\n",
       "    </tr>\n",
       "    <tr>\n",
       "      <th>b5</th>\n",
       "      <td>0.373338</td>\n",
       "      <td>0.373338</td>\n",
       "    </tr>\n",
       "    <tr>\n",
       "      <th>b1</th>\n",
       "      <td>0.318440</td>\n",
       "      <td>0.318440</td>\n",
       "    </tr>\n",
       "    <tr>\n",
       "      <th>a</th>\n",
       "      <td>-0.039921</td>\n",
       "      <td>0.039921</td>\n",
       "    </tr>\n",
       "  </tbody>\n",
       "</table>\n",
       "</div>"
      ],
      "text/plain": [
       "            mean        abs\n",
       "sigma  25.940399  25.940399\n",
       "b3     -1.256707   1.256707\n",
       "b2      1.158815   1.158815\n",
       "b6     -0.884244   0.884244\n",
       "b4     -0.518866   0.518866\n",
       "b5      0.373338   0.373338\n",
       "b1      0.318440   0.318440\n",
       "a      -0.039921   0.039921"
      ]
     },
     "execution_count": 69,
     "metadata": {},
     "output_type": "execute_result"
    }
   ],
   "source": [
    "df = pd.DataFrame(svi_samples)\n",
    "df = df.T\n",
    "df['mean'] = df.mean(axis=1)\n",
    "df['abs'] = df['mean'].abs()\n",
    "df = df.sort_values('abs', ascending=False)\n",
    "df= df[['mean', 'abs']]\n",
    "#for i in list(df):\n",
    "#    print(i)\n",
    "#    print(df[i].mean())\n",
    "df"
   ]
  },
  {
   "cell_type": "code",
   "execution_count": 51,
   "id": "2668ef00-80d8-4bd9-9101-b3d4e20f6afe",
   "metadata": {},
   "outputs": [
    {
     "data": {
      "text/plain": [
       "(1000,)"
      ]
     },
     "execution_count": 51,
     "metadata": {},
     "output_type": "execute_result"
    }
   ],
   "source": [
    "svi_samples['a'].shape"
   ]
  },
  {
   "cell_type": "code",
   "execution_count": 52,
   "id": "b1058060-ce1d-4610-bb49-ac48abd11cab",
   "metadata": {},
   "outputs": [
    {
     "data": {
      "text/plain": [
       "(1000,)"
      ]
     },
     "execution_count": 52,
     "metadata": {},
     "output_type": "execute_result"
    }
   ],
   "source": [
    "svi_samples['b1'].shape"
   ]
  },
  {
   "cell_type": "code",
   "execution_count": 71,
   "id": "fd5090e1-71a5-4d2b-95fc-55d0bcba069a",
   "metadata": {},
   "outputs": [
    {
     "data": {
      "text/html": [
       "<div>\n",
       "<style scoped>\n",
       "    .dataframe tbody tr th:only-of-type {\n",
       "        vertical-align: middle;\n",
       "    }\n",
       "\n",
       "    .dataframe tbody tr th {\n",
       "        vertical-align: top;\n",
       "    }\n",
       "\n",
       "    .dataframe thead th {\n",
       "        text-align: right;\n",
       "    }\n",
       "</style>\n",
       "<table border=\"1\" class=\"dataframe\">\n",
       "  <thead>\n",
       "    <tr style=\"text-align: right;\">\n",
       "      <th></th>\n",
       "      <th>a</th>\n",
       "      <th>b1</th>\n",
       "      <th>b2</th>\n",
       "      <th>b3</th>\n",
       "      <th>b4</th>\n",
       "      <th>b5</th>\n",
       "      <th>b6</th>\n",
       "      <th>sigma</th>\n",
       "    </tr>\n",
       "  </thead>\n",
       "  <tbody>\n",
       "    <tr>\n",
       "      <th>0</th>\n",
       "      <td>0.550789</td>\n",
       "      <td>0.277237</td>\n",
       "      <td>1.121218</td>\n",
       "      <td>-1.425569</td>\n",
       "      <td>-0.523369</td>\n",
       "      <td>0.670448</td>\n",
       "      <td>-0.689515</td>\n",
       "      <td>25.889242</td>\n",
       "    </tr>\n",
       "    <tr>\n",
       "      <th>1</th>\n",
       "      <td>0.881519</td>\n",
       "      <td>0.240437</td>\n",
       "      <td>1.206461</td>\n",
       "      <td>-1.147769</td>\n",
       "      <td>-0.447855</td>\n",
       "      <td>0.363975</td>\n",
       "      <td>-0.822714</td>\n",
       "      <td>25.909508</td>\n",
       "    </tr>\n",
       "    <tr>\n",
       "      <th>2</th>\n",
       "      <td>-0.442581</td>\n",
       "      <td>0.426901</td>\n",
       "      <td>1.071464</td>\n",
       "      <td>-1.194875</td>\n",
       "      <td>-0.574559</td>\n",
       "      <td>0.633605</td>\n",
       "      <td>-0.951488</td>\n",
       "      <td>25.903515</td>\n",
       "    </tr>\n",
       "    <tr>\n",
       "      <th>3</th>\n",
       "      <td>-2.489302</td>\n",
       "      <td>0.382955</td>\n",
       "      <td>1.052810</td>\n",
       "      <td>-1.451820</td>\n",
       "      <td>-0.619553</td>\n",
       "      <td>0.384279</td>\n",
       "      <td>-0.997043</td>\n",
       "      <td>25.949289</td>\n",
       "    </tr>\n",
       "    <tr>\n",
       "      <th>4</th>\n",
       "      <td>4.308858</td>\n",
       "      <td>0.631551</td>\n",
       "      <td>1.386798</td>\n",
       "      <td>-1.447052</td>\n",
       "      <td>-0.631455</td>\n",
       "      <td>0.526137</td>\n",
       "      <td>-0.771245</td>\n",
       "      <td>25.941401</td>\n",
       "    </tr>\n",
       "  </tbody>\n",
       "</table>\n",
       "</div>"
      ],
      "text/plain": [
       "          a        b1        b2        b3        b4        b5        b6  \\\n",
       "0  0.550789  0.277237  1.121218 -1.425569 -0.523369  0.670448 -0.689515   \n",
       "1  0.881519  0.240437  1.206461 -1.147769 -0.447855  0.363975 -0.822714   \n",
       "2 -0.442581  0.426901  1.071464 -1.194875 -0.574559  0.633605 -0.951488   \n",
       "3 -2.489302  0.382955  1.052810 -1.451820 -0.619553  0.384279 -0.997043   \n",
       "4  4.308858  0.631551  1.386798 -1.447052 -0.631455  0.526137 -0.771245   \n",
       "\n",
       "       sigma  \n",
       "0  25.889242  \n",
       "1  25.909508  \n",
       "2  25.903515  \n",
       "3  25.949289  \n",
       "4  25.941401  "
      ]
     },
     "execution_count": 71,
     "metadata": {},
     "output_type": "execute_result"
    }
   ],
   "source": [
    "df = pd.DataFrame(svi_samples)\n",
    "df.head()"
   ]
  },
  {
   "cell_type": "code",
   "execution_count": 57,
   "id": "855246f2-82b0-4b94-ad6e-8752cb1a7196",
   "metadata": {},
   "outputs": [
    {
     "data": {
      "image/png": "[encoded data removed]",
      "text/plain": [
       "<Figure size 1200x1200 with 8 Axes>"
      ]
     },
     "metadata": {},
     "output_type": "display_data"
    }
   ],
   "source": [
    "sites = [\"a\", \"b1\", \"b2\", \"b3\", \"b4\", \"b5\", \"b6\",\"sigma\"]\n",
    "\n",
    "fig, axs = plt.subplots(nrows=4, ncols=2, figsize=(12, 12))\n",
    "fig.suptitle(\"Marginal Posterior density - Regression Coefficients\", fontsize=16)\n",
    "for i, ax in enumerate(axs.reshape(-1)):\n",
    "    site = sites[i]\n",
    "    sns.distplot(svi_samples[site], ax=ax, label=\"HMC1\")\n",
    "    #sns.distplot(hmc_samples[site], ax=ax, label=\"HMC2\")\n",
    "    ax.set_title(site)\n",
    "handles, labels = ax.get_legend_handles_labels()\n",
    "fig.legend(handles, labels, loc='upper right');"
   ]
  },
  {
   "cell_type": "code",
   "execution_count": null,
   "id": "109ebaf8-9cfd-4c1e-8d9e-bec93360fb2c",
   "metadata": {},
   "outputs": [],
   "source": []
  }
 ],
 "metadata": {
  "kernelspec": {
   "display_name": "Python 3 (ipykernel)",
   "language": "python",
   "name": "python3"
  },
  "language_info": {
   "codemirror_mode": {
    "name": "ipython",
    "version": 3
   },
   "file_extension": ".py",
   "mimetype": "text/x-python",
   "name": "python",
   "nbconvert_exporter": "python",
   "pygments_lexer": "ipython3",
   "version": "3.9.13"
  }
 },
 "nbformat": 4,
 "nbformat_minor": 5
}
