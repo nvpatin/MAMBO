{
 "cells": [
  {
   "cell_type": "code",
   "execution_count": 1,
   "id": "significant-cornell",
   "metadata": {
    "tags": []
   },
   "outputs": [
    {
     "ename": "ModuleNotFoundError",
     "evalue": "No module named 'pandas'",
     "output_type": "error",
     "traceback": [
      "\u001b[0;31m---------------------------------------------------------------------------\u001b[0m",
      "\u001b[0;31mModuleNotFoundError\u001b[0m                       Traceback (most recent call last)",
      "Cell \u001b[0;32mIn[1], line 1\u001b[0m\n\u001b[0;32m----> 1\u001b[0m \u001b[38;5;28;01mimport\u001b[39;00m \u001b[38;5;21;01mpandas\u001b[39;00m \u001b[38;5;28;01mas\u001b[39;00m \u001b[38;5;21;01mpd\u001b[39;00m\n\u001b[1;32m      2\u001b[0m \u001b[38;5;28;01mimport\u001b[39;00m \u001b[38;5;21;01mMarineDNA_Classic\u001b[39;00m \u001b[38;5;28;01mas\u001b[39;00m \u001b[38;5;21;01mmd\u001b[39;00m\n\u001b[1;32m      3\u001b[0m \u001b[38;5;28;01mimport\u001b[39;00m \u001b[38;5;21;01mplotly\u001b[39;00m\u001b[38;5;21;01m.\u001b[39;00m\u001b[38;5;21;01mexpress\u001b[39;00m \u001b[38;5;28;01mas\u001b[39;00m \u001b[38;5;21;01mpx\u001b[39;00m\n",
      "\u001b[0;31mModuleNotFoundError\u001b[0m: No module named 'pandas'"
     ]
    }
   ],
   "source": [
    "import pandas as pd\n",
    "import MarineDNA_Classic as md\n",
    "import plotly.express as px\n",
    "import numpy as np\n",
    "from sklearn.cluster import AgglomerativeClustering\n",
    "from sklearn.decomposition import PCA\n",
    "\n",
    "%load_ext autoreload\n",
    "%autoreload 2"
   ]
  },
  {
   "cell_type": "code",
   "execution_count": 2,
   "id": "2825ca48-5bdb-45ac-b446-d0a27f9fa622",
   "metadata": {},
   "outputs": [],
   "source": [
    "import sklearn"
   ]
  },
  {
   "cell_type": "code",
   "execution_count": 3,
   "id": "5d5cf5ba-be50-41ec-b097-f6a8be2297f3",
   "metadata": {},
   "outputs": [
    {
     "data": {
      "text/plain": [
       "'1.2.2'"
      ]
     },
     "execution_count": 3,
     "metadata": {},
     "output_type": "execute_result"
    }
   ],
   "source": [
    "sklearn.__version__"
   ]
  },
  {
   "cell_type": "markdown",
   "id": "138afed9-494a-4130-a327-f29b33cad6bc",
   "metadata": {},
   "source": [
    "### Import the data"
   ]
  },
  {
   "cell_type": "code",
   "execution_count": 4,
   "id": "f5e32982-5d77-43e7-8aeb-d0d7f4b2717b",
   "metadata": {},
   "outputs": [],
   "source": [
    "file1 = \"../Data/merged_data/no_duplicates/Merged2018_16S_otu_filtered.csv\"\n",
    "file2 = \"../Data/merged_data/no_duplicates/Merged2018_18S_otu_filtered.csv\"\n",
    "asvs_16S = pd.read_csv(file1, index_col=0)\n",
    "asvs_18S = pd.read_csv(file2, index_col=0)"
   ]
  },
  {
   "cell_type": "markdown",
   "id": "761b4f2c-6ba0-482b-a43a-4e95ba8f54b7",
   "metadata": {},
   "source": [
    "### 01. Random draws of the ASV count data"
   ]
  },
  {
   "cell_type": "code",
   "execution_count": 5,
   "id": "186e91cb-539f-49d3-857e-b0be36cf330d",
   "metadata": {},
   "outputs": [
    {
     "data": {
      "text/html": [
       "<div>\n",
       "<style scoped>\n",
       "    .dataframe tbody tr th:only-of-type {\n",
       "        vertical-align: middle;\n",
       "    }\n",
       "\n",
       "    .dataframe tbody tr th {\n",
       "        vertical-align: top;\n",
       "    }\n",
       "\n",
       "    .dataframe thead th {\n",
       "        text-align: right;\n",
       "    }\n",
       "</style>\n",
       "<table border=\"1\" class=\"dataframe\">\n",
       "  <thead>\n",
       "    <tr style=\"text-align: right;\">\n",
       "      <th></th>\n",
       "      <th>ASV_1</th>\n",
       "      <th>ASV_2</th>\n",
       "      <th>ASV_3</th>\n",
       "      <th>ASV_4</th>\n",
       "      <th>ASV_5</th>\n",
       "      <th>ASV_6</th>\n",
       "      <th>ASV_7</th>\n",
       "      <th>ASV_8</th>\n",
       "      <th>ASV_9</th>\n",
       "      <th>ASV_10</th>\n",
       "      <th>...</th>\n",
       "      <th>ASV_8120</th>\n",
       "      <th>ASV_8124</th>\n",
       "      <th>ASV_8125</th>\n",
       "      <th>ASV_8126</th>\n",
       "      <th>ASV_8127</th>\n",
       "      <th>ASV_8128</th>\n",
       "      <th>ASV_8129</th>\n",
       "      <th>ASV_8130</th>\n",
       "      <th>ASV_8132</th>\n",
       "      <th>ASV_8133</th>\n",
       "    </tr>\n",
       "  </thead>\n",
       "  <tbody>\n",
       "    <tr>\n",
       "      <th>CN18Fc43_5_eDNA</th>\n",
       "      <td>-3.155015</td>\n",
       "      <td>-1.945488</td>\n",
       "      <td>-3.378410</td>\n",
       "      <td>-7.188581</td>\n",
       "      <td>-5.198552</td>\n",
       "      <td>-4.365477</td>\n",
       "      <td>-5.808667</td>\n",
       "      <td>-4.476509</td>\n",
       "      <td>-3.372602</td>\n",
       "      <td>-4.008598</td>\n",
       "      <td>...</td>\n",
       "      <td>-13.350237</td>\n",
       "      <td>-10.203872</td>\n",
       "      <td>-10.261561</td>\n",
       "      <td>-12.842581</td>\n",
       "      <td>-10.624522</td>\n",
       "      <td>-11.169263</td>\n",
       "      <td>-10.132744</td>\n",
       "      <td>-11.265096</td>\n",
       "      <td>-11.710576</td>\n",
       "      <td>-11.242311</td>\n",
       "    </tr>\n",
       "    <tr>\n",
       "      <th>CN18FESPkoa_SC58</th>\n",
       "      <td>-3.065901</td>\n",
       "      <td>-1.994863</td>\n",
       "      <td>-3.567997</td>\n",
       "      <td>-6.827136</td>\n",
       "      <td>-5.003771</td>\n",
       "      <td>-4.187768</td>\n",
       "      <td>-5.824563</td>\n",
       "      <td>-4.542914</td>\n",
       "      <td>-2.872891</td>\n",
       "      <td>-4.230169</td>\n",
       "      <td>...</td>\n",
       "      <td>-10.805139</td>\n",
       "      <td>-9.900254</td>\n",
       "      <td>-11.299666</td>\n",
       "      <td>-12.633307</td>\n",
       "      <td>-10.813645</td>\n",
       "      <td>-11.493865</td>\n",
       "      <td>-14.643173</td>\n",
       "      <td>-13.646224</td>\n",
       "      <td>-10.239582</td>\n",
       "      <td>-16.382004</td>\n",
       "    </tr>\n",
       "    <tr>\n",
       "      <th>CN18FESPkoa_SC43</th>\n",
       "      <td>-3.182165</td>\n",
       "      <td>-1.825833</td>\n",
       "      <td>-3.317963</td>\n",
       "      <td>-6.600422</td>\n",
       "      <td>-4.878955</td>\n",
       "      <td>-4.125611</td>\n",
       "      <td>-5.583561</td>\n",
       "      <td>-4.481335</td>\n",
       "      <td>-2.961002</td>\n",
       "      <td>-4.216138</td>\n",
       "      <td>...</td>\n",
       "      <td>-13.213244</td>\n",
       "      <td>-12.425379</td>\n",
       "      <td>-11.373472</td>\n",
       "      <td>-11.142120</td>\n",
       "      <td>-11.573270</td>\n",
       "      <td>-11.253187</td>\n",
       "      <td>-9.657654</td>\n",
       "      <td>-15.790520</td>\n",
       "      <td>-10.951877</td>\n",
       "      <td>-11.226980</td>\n",
       "    </tr>\n",
       "  </tbody>\n",
       "</table>\n",
       "<p>3 rows × 7077 columns</p>\n",
       "</div>"
      ],
      "text/plain": [
       "                     ASV_1     ASV_2     ASV_3     ASV_4     ASV_5     ASV_6  \\\n",
       "CN18Fc43_5_eDNA  -3.155015 -1.945488 -3.378410 -7.188581 -5.198552 -4.365477   \n",
       "CN18FESPkoa_SC58 -3.065901 -1.994863 -3.567997 -6.827136 -5.003771 -4.187768   \n",
       "CN18FESPkoa_SC43 -3.182165 -1.825833 -3.317963 -6.600422 -4.878955 -4.125611   \n",
       "\n",
       "                     ASV_7     ASV_8     ASV_9    ASV_10  ...   ASV_8120  \\\n",
       "CN18Fc43_5_eDNA  -5.808667 -4.476509 -3.372602 -4.008598  ... -13.350237   \n",
       "CN18FESPkoa_SC58 -5.824563 -4.542914 -2.872891 -4.230169  ... -10.805139   \n",
       "CN18FESPkoa_SC43 -5.583561 -4.481335 -2.961002 -4.216138  ... -13.213244   \n",
       "\n",
       "                   ASV_8124   ASV_8125   ASV_8126   ASV_8127   ASV_8128  \\\n",
       "CN18Fc43_5_eDNA  -10.203872 -10.261561 -12.842581 -10.624522 -11.169263   \n",
       "CN18FESPkoa_SC58  -9.900254 -11.299666 -12.633307 -10.813645 -11.493865   \n",
       "CN18FESPkoa_SC43 -12.425379 -11.373472 -11.142120 -11.573270 -11.253187   \n",
       "\n",
       "                   ASV_8129   ASV_8130   ASV_8132   ASV_8133  \n",
       "CN18Fc43_5_eDNA  -10.132744 -11.265096 -11.710576 -11.242311  \n",
       "CN18FESPkoa_SC58 -14.643173 -13.646224 -10.239582 -16.382004  \n",
       "CN18FESPkoa_SC43  -9.657654 -15.790520 -10.951877 -11.226980  \n",
       "\n",
       "[3 rows x 7077 columns]"
      ]
     },
     "execution_count": 5,
     "metadata": {},
     "output_type": "execute_result"
    }
   ],
   "source": [
    "# one random draw\n",
    "ran_lo_16S = md.ranRelPct(asvs_16S)\n",
    "ran_lo_18S = md.ranRelPct(asvs_18S)\n",
    "ran_lo_16S.head(3)"
   ]
  },
  {
   "cell_type": "markdown",
   "id": "9c67636a-8e15-44b0-b061-a70ff28ff627",
   "metadata": {},
   "source": [
    "## 02. PCAs using the random draws"
   ]
  },
  {
   "cell_type": "markdown",
   "id": "104c73e2-8393-4fc8-b6b8-7a733b64a8c5",
   "metadata": {},
   "source": [
    "### Perform single PCAs"
   ]
  },
  {
   "cell_type": "code",
   "execution_count": 18,
   "id": "4999c2e4-6852-4d2e-84ce-983e8be96631",
   "metadata": {},
   "outputs": [
    {
     "data": {
      "text/plain": [
       "array([[-57.36263513,  -1.02706115,  16.33661477, ...,  27.602283  ,\n",
       "        -15.39222967,  12.6241144 ],\n",
       "       [-57.03111527,  -3.8044483 ,  11.60325039, ...,   5.81414969,\n",
       "         -2.55178581,  -9.17469756],\n",
       "       [-60.78974801,  -2.34828737,   8.33789449, ...,   4.66725347,\n",
       "         -5.6566885 ,   3.06108665],\n",
       "       ...,\n",
       "       [ 31.86639962,  16.29130788,  15.17729746, ...,  13.75774979,\n",
       "         -0.15272658,  -2.9349443 ],\n",
       "       [  4.98068069, -20.03400347, -53.77761554, ...,  -2.91161738,\n",
       "         -4.30386271,  -1.6699346 ],\n",
       "       [ 36.10645652, -32.0964878 ,  -6.86895165, ..., -11.51891042,\n",
       "         16.93818013,   1.92896279]])"
      ]
     },
     "execution_count": 18,
     "metadata": {},
     "output_type": "execute_result"
    }
   ],
   "source": [
    "pca_results_16S = md.doPCA(ran_lo_16S)\n",
    "pca_results_18S = md.doPCA(ran_lo_18S)\n",
    "pca_results_16S[\"scores\"]"
   ]
  },
  {
   "cell_type": "markdown",
   "id": "228a3a0f-cb0d-4186-9dd4-e3464f7a29ab",
   "metadata": {},
   "source": [
    "### Hierarchical clustering of random log-odds draw"
   ]
  },
  {
   "cell_type": "markdown",
   "id": "32cc7158-f1b0-48ea-8412-6e3cf281c21f",
   "metadata": {},
   "source": [
    "#### Need these labels for the PCA; main clustering analysis comes later"
   ]
  },
  {
   "cell_type": "code",
   "execution_count": 7,
   "id": "9fc93f31-2599-4d14-9b66-cb5622599a1d",
   "metadata": {},
   "outputs": [
    {
     "name": "stdout",
     "output_type": "stream",
     "text": [
      "['1' '1' '1' '1' '1' '1' '1' '1' '1' '1' '1' '1' '3' '1' '1' '1' '1' '1'\n",
      " '1' '1' '1' '1' '1' '1' '1' '1' '1' '3' '1' '1' '1' '1' '1' '1' '1' '1'\n",
      " '1' '1' '1' '1' '1' '1' '2' '2' '0' '2' '0' '0' '0' '0' '0' '0' '1' '2'\n",
      " '0' '2' '0' '3' '0' '0' '0' '0' '2' '0' '2' '0' '0' '2' '2' '0' '0' '2'\n",
      " '2' '0' '0' '2' '2' '0' '0' '2' '2' '2' '0' '0' '2' '2' '0' '2' '0' '2'\n",
      " '0' '0' '2' '0' '0' '2' '0' '0' '2' '2' '0' '0' '2' '2' '0' '2' '0' '2'\n",
      " '0' '0' '2' '2' '0' '2' '0' '2' '2' '0' '0' '2' '2' '0' '0' '0' '2' '2'\n",
      " '2' '0' '0' '2' '2']\n",
      "\n",
      "   0   1\n",
      "0  0  47\n",
      "1  1  41\n",
      "2  2  40\n",
      "3  3   3\n"
     ]
    }
   ],
   "source": [
    "# Assign 4 clusters arbitrarily\n",
    "labels_16S = md.doClustering(ran_lo_16S, 4)\n",
    "labels_18S = md.doClustering(ran_lo_18S, 4)\n",
    "print(labels_16S)\n",
    "print()\n",
    "print(pd.DataFrame(np.array(np.unique(labels_16S, return_counts=True)).T))"
   ]
  },
  {
   "cell_type": "markdown",
   "id": "06fb813d-3a72-444d-89fc-287c6b2d4bdd",
   "metadata": {},
   "source": [
    "### Visualize single PCAs on first two PCs"
   ]
  },
  {
   "cell_type": "code",
   "execution_count": 19,
   "id": "53435a6e-e97f-4370-ac73-7da405c66537",
   "metadata": {},
   "outputs": [
    {
     "data": {
      "application/vnd.plotly.v1+json": {
       "config": {
        "plotlyServerURL": "https://plot.ly"
       },
       "data": [
        {
         "hovertemplate": "labels=1<br>0=%{x}<br>1=%{y}<extra></extra>",
         "legendgroup": "1",
         "marker": {
          "color": "#636efa",
          "symbol": "circle"
         },
         "mode": "markers",
         "name": "1",
         "orientation": "v",
         "showlegend": true,
         "type": "scatter",
         "x": [
          -57.36263512696234,
          -57.031115266932886,
          -60.789748013984834,
          -63.22028280138892,
          -15.847456931061906,
          -51.68525306769706,
          -44.17528357651125,
          -66.15878222167714,
          -38.01168111653563,
          -48.43023464903589,
          -60.33215949963794,
          -44.76969818613099,
          -28.85530893983111,
          -54.825127057523964,
          -53.87645669087749,
          -41.87811805304325,
          -33.61096763117472,
          8.174983416072305,
          -60.16506869732381,
          -56.50728343452982,
          -57.63497871161263,
          -48.26760045651114,
          -55.047460146225184,
          -56.98394079021323,
          -43.81342344687047,
          -51.888268769589615,
          -36.08832121023299,
          -34.69217593445416,
          -12.254398259435185,
          -76.10701807568135,
          -31.963935345934793,
          -21.708557508814433,
          -59.63267863872578,
          -20.978316198857385,
          -60.81383259161259,
          -52.51363837487497,
          -51.329346380393105,
          -46.89520176612013,
          -53.521991128287986,
          -49.07838322828154,
          -77.8677879693778
         ],
         "xaxis": "x",
         "y": [
          -1.0270611499794795,
          -3.8044482955876675,
          -2.3482873749334443,
          -1.8667790044906123,
          -16.55710672100412,
          -5.22985204306111,
          -5.17454938315462,
          1.956984427424771,
          -5.1200289238392775,
          -5.603129614415634,
          0.41306115474845573,
          -5.564140122529346,
          -10.098321469845356,
          -0.4807796499756838,
          -5.140868146280622,
          -5.504746461004503,
          -7.069045078300084,
          -9.991588656668347,
          2.7366984862185726,
          6.561599861614199,
          0.5661577022644466,
          -0.7899209318855006,
          -2.33427182818759,
          -3.53435243736067,
          -3.538792538138864,
          -3.842010378886697,
          -10.89588006683349,
          -8.708583593183484,
          -18.059472796263137,
          17.83133006955647,
          -11.087048691525297,
          -13.654464489451986,
          2.300887894607961,
          -13.693836178804347,
          -0.7914717646969545,
          -1.8892167754761169,
          -1.944845438172333,
          -3.746603046157521,
          -0.7915318137952596,
          -8.728445239391352,
          29.63453834952832
         ],
         "yaxis": "y"
        },
        {
         "hovertemplate": "labels=3<br>0=%{x}<br>1=%{y}<extra></extra>",
         "legendgroup": "3",
         "marker": {
          "color": "#EF553B",
          "symbol": "circle"
         },
         "mode": "markers",
         "name": "3",
         "orientation": "v",
         "showlegend": true,
         "type": "scatter",
         "x": [
          66.08358957058105,
          86.71502708920302,
          87.2940134327121
         ],
         "xaxis": "x",
         "y": [
          -36.89897458780623,
          -42.73715994698861,
          -49.57078522474695
         ],
         "yaxis": "y"
        },
        {
         "hovertemplate": "labels=2<br>0=%{x}<br>1=%{y}<extra></extra>",
         "legendgroup": "2",
         "marker": {
          "color": "#00cc96",
          "symbol": "circle"
         },
         "mode": "markers",
         "name": "2",
         "orientation": "v",
         "showlegend": true,
         "type": "scatter",
         "x": [
          9.243638058618217,
          -16.683202020472343,
          26.782503967192056,
          27.993603203197534,
          23.45173100135497,
          -1.8349192700115993,
          27.91894176091018,
          45.86806267871907,
          40.117778956114115,
          18.10685599331592,
          19.972051435590174,
          9.432609480526748,
          11.117116795056628,
          11.537977587638746,
          32.69219858170023,
          4.457393182454407,
          12.152034061749202,
          15.269614232709214,
          11.495919052493315,
          7.894003582593326,
          22.0682042200882,
          -0.1101263112044309,
          11.287226872280455,
          -3.3620289824592247,
          5.497360291669098,
          13.98333711720365,
          3.0643216016195955,
          1.5545132187385338,
          4.613101602896246,
          11.94601544544202,
          15.16978208642187,
          5.472005789477322,
          24.009690593219553,
          28.144074916164893,
          21.526807270439736,
          23.53589550499752,
          29.400557643646053,
          15.239862076103506,
          4.980680690809064,
          36.10645652381159
         ],
         "xaxis": "x",
         "y": [
          -24.5707970923113,
          -7.636021368800001,
          -34.51929158865428,
          -36.17596684408173,
          -31.920561379876975,
          -21.943819716556433,
          -35.51004513147758,
          -38.40349705819188,
          -40.412331541866536,
          -36.19859044546194,
          -34.05693728322658,
          -29.51165381389951,
          -28.81715218638145,
          -29.53588940787589,
          -31.83687162556037,
          -23.294582848020507,
          -28.26539973721125,
          -27.98106022253268,
          -33.30800273076562,
          -20.766039086864474,
          -33.69055058192977,
          -24.226003417112068,
          -29.743568850831274,
          -26.49267892357031,
          -25.088215618096577,
          -31.52697043077547,
          -27.82569922284041,
          -19.403131710267132,
          -28.0434761885061,
          -29.34879556849738,
          -26.406574552606774,
          -26.20178858747967,
          -32.56205995226429,
          -38.18327409302265,
          -37.34798050221711,
          -30.099102283528083,
          -34.61152300142867,
          -31.09923462491505,
          -20.034003469543684,
          -32.09648780443382
         ],
         "yaxis": "y"
        },
        {
         "hovertemplate": "labels=0<br>0=%{x}<br>1=%{y}<extra></extra>",
         "legendgroup": "0",
         "marker": {
          "color": "#ab63fa",
          "symbol": "circle"
         },
         "mode": "markers",
         "name": "0",
         "orientation": "v",
         "showlegend": true,
         "type": "scatter",
         "x": [
          5.9495679054997685,
          9.56990986487356,
          11.909310605991354,
          5.9109108191318445,
          14.901765635755877,
          9.893886864632197,
          19.531145802848048,
          3.111914150677544,
          6.444532001076626,
          12.490293856640225,
          10.792852548728847,
          17.292400556820652,
          12.506854565348428,
          15.711465767625842,
          30.36377807375383,
          25.25030728917876,
          -1.5157152255639252,
          19.918593213999294,
          44.36986322008354,
          40.66720053767019,
          32.09292135398662,
          34.60850549183414,
          9.069687239085068,
          43.50842908377315,
          20.54674975930497,
          22.943070968681095,
          36.82480297831106,
          50.5279837085082,
          46.29141741943059,
          40.43308259030729,
          26.22065547556813,
          24.287356793220287,
          24.154909911972865,
          27.934369111133524,
          33.01866221104718,
          19.95323644539195,
          33.38962054116555,
          41.06208600807421,
          18.97937732051301,
          14.657192974847593,
          29.261702635373286,
          34.947595675263926,
          16.810589904876693,
          28.729079601117675,
          -5.7268602767138885,
          25.769189294378034,
          31.866399617359537
         ],
         "xaxis": "x",
         "y": [
          56.81002715558753,
          36.94563163891023,
          54.01087204453115,
          53.406678831354746,
          59.88545608252082,
          57.203353642274,
          50.96419814243079,
          61.22695240939768,
          59.22998466260022,
          54.92573012796829,
          59.62713493247764,
          53.24042334578362,
          56.28430593394262,
          7.759834924111795,
          17.27060143795647,
          22.457619567597384,
          18.05999575191419,
          2.3008736942436787,
          26.62588823418895,
          27.939274262508505,
          36.34537948582712,
          36.92802091869192,
          35.09826914323936,
          16.185143103596996,
          24.424408536096454,
          25.01440085735923,
          28.276019093485345,
          16.419582926588884,
          24.35791019398504,
          29.425507118391888,
          33.300434309147676,
          33.66695561860482,
          37.235728026557574,
          30.283048738395628,
          7.459030629407118,
          20.39217466334061,
          29.86987111911788,
          20.40562223573797,
          8.239894257334374,
          26.37902623988773,
          26.25294810404168,
          18.799277862702674,
          -8.810382628828552,
          16.225175213362053,
          -1.881199506026893,
          21.754381450268916,
          16.291307877728602
         ],
         "yaxis": "y"
        }
       ],
       "layout": {
        "autosize": true,
        "legend": {
         "title": {
          "text": "labels"
         },
         "tracegroupgap": 0
        },
        "margin": {
         "t": 60
        },
        "template": {
         "data": {
          "bar": [
           {
            "error_x": {
             "color": "#2a3f5f"
            },
            "error_y": {
             "color": "#2a3f5f"
            },
            "marker": {
             "line": {
              "color": "#E5ECF6",
              "width": 0.5
             },
             "pattern": {
              "fillmode": "overlay",
              "size": 10,
              "solidity": 0.2
             }
            },
            "type": "bar"
           }
          ],
          "barpolar": [
           {
            "marker": {
             "line": {
              "color": "#E5ECF6",
              "width": 0.5
             },
             "pattern": {
              "fillmode": "overlay",
              "size": 10,
              "solidity": 0.2
             }
            },
            "type": "barpolar"
           }
          ],
          "carpet": [
           {
            "aaxis": {
             "endlinecolor": "#2a3f5f",
             "gridcolor": "white",
             "linecolor": "white",
             "minorgridcolor": "white",
             "startlinecolor": "#2a3f5f"
            },
            "baxis": {
             "endlinecolor": "#2a3f5f",
             "gridcolor": "white",
             "linecolor": "white",
             "minorgridcolor": "white",
             "startlinecolor": "#2a3f5f"
            },
            "type": "carpet"
           }
          ],
          "choropleth": [
           {
            "colorbar": {
             "outlinewidth": 0,
             "ticks": ""
            },
            "type": "choropleth"
           }
          ],
          "contour": [
           {
            "colorbar": {
             "outlinewidth": 0,
             "ticks": ""
            },
            "colorscale": [
             [
              0,
              "#0d0887"
             ],
             [
              0.1111111111111111,
              "#46039f"
             ],
             [
              0.2222222222222222,
              "#7201a8"
             ],
             [
              0.3333333333333333,
              "#9c179e"
             ],
             [
              0.4444444444444444,
              "#bd3786"
             ],
             [
              0.5555555555555556,
              "#d8576b"
             ],
             [
              0.6666666666666666,
              "#ed7953"
             ],
             [
              0.7777777777777778,
              "#fb9f3a"
             ],
             [
              0.8888888888888888,
              "#fdca26"
             ],
             [
              1,
              "#f0f921"
             ]
            ],
            "type": "contour"
           }
          ],
          "contourcarpet": [
           {
            "colorbar": {
             "outlinewidth": 0,
             "ticks": ""
            },
            "type": "contourcarpet"
           }
          ],
          "heatmap": [
           {
            "colorbar": {
             "outlinewidth": 0,
             "ticks": ""
            },
            "colorscale": [
             [
              0,
              "#0d0887"
             ],
             [
              0.1111111111111111,
              "#46039f"
             ],
             [
              0.2222222222222222,
              "#7201a8"
             ],
             [
              0.3333333333333333,
              "#9c179e"
             ],
             [
              0.4444444444444444,
              "#bd3786"
             ],
             [
              0.5555555555555556,
              "#d8576b"
             ],
             [
              0.6666666666666666,
              "#ed7953"
             ],
             [
              0.7777777777777778,
              "#fb9f3a"
             ],
             [
              0.8888888888888888,
              "#fdca26"
             ],
             [
              1,
              "#f0f921"
             ]
            ],
            "type": "heatmap"
           }
          ],
          "heatmapgl": [
           {
            "colorbar": {
             "outlinewidth": 0,
             "ticks": ""
            },
            "colorscale": [
             [
              0,
              "#0d0887"
             ],
             [
              0.1111111111111111,
              "#46039f"
             ],
             [
              0.2222222222222222,
              "#7201a8"
             ],
             [
              0.3333333333333333,
              "#9c179e"
             ],
             [
              0.4444444444444444,
              "#bd3786"
             ],
             [
              0.5555555555555556,
              "#d8576b"
             ],
             [
              0.6666666666666666,
              "#ed7953"
             ],
             [
              0.7777777777777778,
              "#fb9f3a"
             ],
             [
              0.8888888888888888,
              "#fdca26"
             ],
             [
              1,
              "#f0f921"
             ]
            ],
            "type": "heatmapgl"
           }
          ],
          "histogram": [
           {
            "marker": {
             "pattern": {
              "fillmode": "overlay",
              "size": 10,
              "solidity": 0.2
             }
            },
            "type": "histogram"
           }
          ],
          "histogram2d": [
           {
            "colorbar": {
             "outlinewidth": 0,
             "ticks": ""
            },
            "colorscale": [
             [
              0,
              "#0d0887"
             ],
             [
              0.1111111111111111,
              "#46039f"
             ],
             [
              0.2222222222222222,
              "#7201a8"
             ],
             [
              0.3333333333333333,
              "#9c179e"
             ],
             [
              0.4444444444444444,
              "#bd3786"
             ],
             [
              0.5555555555555556,
              "#d8576b"
             ],
             [
              0.6666666666666666,
              "#ed7953"
             ],
             [
              0.7777777777777778,
              "#fb9f3a"
             ],
             [
              0.8888888888888888,
              "#fdca26"
             ],
             [
              1,
              "#f0f921"
             ]
            ],
            "type": "histogram2d"
           }
          ],
          "histogram2dcontour": [
           {
            "colorbar": {
             "outlinewidth": 0,
             "ticks": ""
            },
            "colorscale": [
             [
              0,
              "#0d0887"
             ],
             [
              0.1111111111111111,
              "#46039f"
             ],
             [
              0.2222222222222222,
              "#7201a8"
             ],
             [
              0.3333333333333333,
              "#9c179e"
             ],
             [
              0.4444444444444444,
              "#bd3786"
             ],
             [
              0.5555555555555556,
              "#d8576b"
             ],
             [
              0.6666666666666666,
              "#ed7953"
             ],
             [
              0.7777777777777778,
              "#fb9f3a"
             ],
             [
              0.8888888888888888,
              "#fdca26"
             ],
             [
              1,
              "#f0f921"
             ]
            ],
            "type": "histogram2dcontour"
           }
          ],
          "mesh3d": [
           {
            "colorbar": {
             "outlinewidth": 0,
             "ticks": ""
            },
            "type": "mesh3d"
           }
          ],
          "parcoords": [
           {
            "line": {
             "colorbar": {
              "outlinewidth": 0,
              "ticks": ""
             }
            },
            "type": "parcoords"
           }
          ],
          "pie": [
           {
            "automargin": true,
            "type": "pie"
           }
          ],
          "scatter": [
           {
            "fillpattern": {
             "fillmode": "overlay",
             "size": 10,
             "solidity": 0.2
            },
            "type": "scatter"
           }
          ],
          "scatter3d": [
           {
            "line": {
             "colorbar": {
              "outlinewidth": 0,
              "ticks": ""
             }
            },
            "marker": {
             "colorbar": {
              "outlinewidth": 0,
              "ticks": ""
             }
            },
            "type": "scatter3d"
           }
          ],
          "scattercarpet": [
           {
            "marker": {
             "colorbar": {
              "outlinewidth": 0,
              "ticks": ""
             }
            },
            "type": "scattercarpet"
           }
          ],
          "scattergeo": [
           {
            "marker": {
             "colorbar": {
              "outlinewidth": 0,
              "ticks": ""
             }
            },
            "type": "scattergeo"
           }
          ],
          "scattergl": [
           {
            "marker": {
             "colorbar": {
              "outlinewidth": 0,
              "ticks": ""
             }
            },
            "type": "scattergl"
           }
          ],
          "scattermapbox": [
           {
            "marker": {
             "colorbar": {
              "outlinewidth": 0,
              "ticks": ""
             }
            },
            "type": "scattermapbox"
           }
          ],
          "scatterpolar": [
           {
            "marker": {
             "colorbar": {
              "outlinewidth": 0,
              "ticks": ""
             }
            },
            "type": "scatterpolar"
           }
          ],
          "scatterpolargl": [
           {
            "marker": {
             "colorbar": {
              "outlinewidth": 0,
              "ticks": ""
             }
            },
            "type": "scatterpolargl"
           }
          ],
          "scatterternary": [
           {
            "marker": {
             "colorbar": {
              "outlinewidth": 0,
              "ticks": ""
             }
            },
            "type": "scatterternary"
           }
          ],
          "surface": [
           {
            "colorbar": {
             "outlinewidth": 0,
             "ticks": ""
            },
            "colorscale": [
             [
              0,
              "#0d0887"
             ],
             [
              0.1111111111111111,
              "#46039f"
             ],
             [
              0.2222222222222222,
              "#7201a8"
             ],
             [
              0.3333333333333333,
              "#9c179e"
             ],
             [
              0.4444444444444444,
              "#bd3786"
             ],
             [
              0.5555555555555556,
              "#d8576b"
             ],
             [
              0.6666666666666666,
              "#ed7953"
             ],
             [
              0.7777777777777778,
              "#fb9f3a"
             ],
             [
              0.8888888888888888,
              "#fdca26"
             ],
             [
              1,
              "#f0f921"
             ]
            ],
            "type": "surface"
           }
          ],
          "table": [
           {
            "cells": {
             "fill": {
              "color": "#EBF0F8"
             },
             "line": {
              "color": "white"
             }
            },
            "header": {
             "fill": {
              "color": "#C8D4E3"
             },
             "line": {
              "color": "white"
             }
            },
            "type": "table"
           }
          ]
         },
         "layout": {
          "annotationdefaults": {
           "arrowcolor": "#2a3f5f",
           "arrowhead": 0,
           "arrowwidth": 1
          },
          "autotypenumbers": "strict",
          "coloraxis": {
           "colorbar": {
            "outlinewidth": 0,
            "ticks": ""
           }
          },
          "colorscale": {
           "diverging": [
            [
             0,
             "#8e0152"
            ],
            [
             0.1,
             "#c51b7d"
            ],
            [
             0.2,
             "#de77ae"
            ],
            [
             0.3,
             "#f1b6da"
            ],
            [
             0.4,
             "#fde0ef"
            ],
            [
             0.5,
             "#f7f7f7"
            ],
            [
             0.6,
             "#e6f5d0"
            ],
            [
             0.7,
             "#b8e186"
            ],
            [
             0.8,
             "#7fbc41"
            ],
            [
             0.9,
             "#4d9221"
            ],
            [
             1,
             "#276419"
            ]
           ],
           "sequential": [
            [
             0,
             "#0d0887"
            ],
            [
             0.1111111111111111,
             "#46039f"
            ],
            [
             0.2222222222222222,
             "#7201a8"
            ],
            [
             0.3333333333333333,
             "#9c179e"
            ],
            [
             0.4444444444444444,
             "#bd3786"
            ],
            [
             0.5555555555555556,
             "#d8576b"
            ],
            [
             0.6666666666666666,
             "#ed7953"
            ],
            [
             0.7777777777777778,
             "#fb9f3a"
            ],
            [
             0.8888888888888888,
             "#fdca26"
            ],
            [
             1,
             "#f0f921"
            ]
           ],
           "sequentialminus": [
            [
             0,
             "#0d0887"
            ],
            [
             0.1111111111111111,
             "#46039f"
            ],
            [
             0.2222222222222222,
             "#7201a8"
            ],
            [
             0.3333333333333333,
             "#9c179e"
            ],
            [
             0.4444444444444444,
             "#bd3786"
            ],
            [
             0.5555555555555556,
             "#d8576b"
            ],
            [
             0.6666666666666666,
             "#ed7953"
            ],
            [
             0.7777777777777778,
             "#fb9f3a"
            ],
            [
             0.8888888888888888,
             "#fdca26"
            ],
            [
             1,
             "#f0f921"
            ]
           ]
          },
          "colorway": [
           "#636efa",
           "#EF553B",
           "#00cc96",
           "#ab63fa",
           "#FFA15A",
           "#19d3f3",
           "#FF6692",
           "#B6E880",
           "#FF97FF",
           "#FECB52"
          ],
          "font": {
           "color": "#2a3f5f"
          },
          "geo": {
           "bgcolor": "white",
           "lakecolor": "white",
           "landcolor": "#E5ECF6",
           "showlakes": true,
           "showland": true,
           "subunitcolor": "white"
          },
          "hoverlabel": {
           "align": "left"
          },
          "hovermode": "closest",
          "mapbox": {
           "style": "light"
          },
          "paper_bgcolor": "white",
          "plot_bgcolor": "#E5ECF6",
          "polar": {
           "angularaxis": {
            "gridcolor": "white",
            "linecolor": "white",
            "ticks": ""
           },
           "bgcolor": "#E5ECF6",
           "radialaxis": {
            "gridcolor": "white",
            "linecolor": "white",
            "ticks": ""
           }
          },
          "scene": {
           "xaxis": {
            "backgroundcolor": "#E5ECF6",
            "gridcolor": "white",
            "gridwidth": 2,
            "linecolor": "white",
            "showbackground": true,
            "ticks": "",
            "zerolinecolor": "white"
           },
           "yaxis": {
            "backgroundcolor": "#E5ECF6",
            "gridcolor": "white",
            "gridwidth": 2,
            "linecolor": "white",
            "showbackground": true,
            "ticks": "",
            "zerolinecolor": "white"
           },
           "zaxis": {
            "backgroundcolor": "#E5ECF6",
            "gridcolor": "white",
            "gridwidth": 2,
            "linecolor": "white",
            "showbackground": true,
            "ticks": "",
            "zerolinecolor": "white"
           }
          },
          "shapedefaults": {
           "line": {
            "color": "#2a3f5f"
           }
          },
          "ternary": {
           "aaxis": {
            "gridcolor": "white",
            "linecolor": "white",
            "ticks": ""
           },
           "baxis": {
            "gridcolor": "white",
            "linecolor": "white",
            "ticks": ""
           },
           "bgcolor": "#E5ECF6",
           "caxis": {
            "gridcolor": "white",
            "linecolor": "white",
            "ticks": ""
           }
          },
          "title": {
           "x": 0.05
          },
          "xaxis": {
           "automargin": true,
           "gridcolor": "white",
           "linecolor": "white",
           "ticks": "",
           "title": {
            "standoff": 15
           },
           "zerolinecolor": "white",
           "zerolinewidth": 2
          },
          "yaxis": {
           "automargin": true,
           "gridcolor": "white",
           "linecolor": "white",
           "ticks": "",
           "title": {
            "standoff": 15
           },
           "zerolinecolor": "white",
           "zerolinewidth": 2
          }
         }
        },
        "xaxis": {
         "anchor": "y",
         "autorange": true,
         "domain": [
          0,
          1
         ],
         "range": [
          -88.85681428137457,
          98.28303974470887
         ],
         "title": {
          "text": "0"
         },
         "type": "linear"
        },
        "yaxis": {
         "anchor": "x",
         "autorange": true,
         "domain": [
          0,
          1
         ],
         "range": [
          -58.149612679359194,
          69.80577986400993
         ],
         "title": {
          "text": "1"
         },
         "type": "linear"
        }
       }
      },
      "image/png": "[encoded data removed]",
      "text/html": [
       "<div>                            <div id=\"da00588c-4057-42f0-acc1-61d37a6f7995\" class=\"plotly-graph-div\" style=\"height:525px; width:100%;\"></div>            <script type=\"text/javascript\">                require([\"plotly\"], function(Plotly) {                    window.PLOTLYENV=window.PLOTLYENV || {};                                    if (document.getElementById(\"da00588c-4057-42f0-acc1-61d37a6f7995\")) {                    Plotly.newPlot(                        \"da00588c-4057-42f0-acc1-61d37a6f7995\",                        [{\"hovertemplate\":\"labels=1<br>0=%{x}<br>1=%{y}<extra></extra>\",\"legendgroup\":\"1\",\"marker\":{\"color\":\"#636efa\",\"symbol\":\"circle\"},\"mode\":\"markers\",\"name\":\"1\",\"orientation\":\"v\",\"showlegend\":true,\"x\":[-57.36263512696234,-57.031115266932886,-60.789748013984834,-63.22028280138892,-15.847456931061906,-51.68525306769706,-44.17528357651125,-66.15878222167714,-38.01168111653563,-48.43023464903589,-60.33215949963794,-44.76969818613099,-28.85530893983111,-54.825127057523964,-53.87645669087749,-41.87811805304325,-33.61096763117472,8.174983416072305,-60.16506869732381,-56.50728343452982,-57.63497871161263,-48.26760045651114,-55.047460146225184,-56.98394079021323,-43.81342344687047,-51.888268769589615,-36.08832121023299,-34.69217593445416,-12.254398259435185,-76.10701807568135,-31.963935345934793,-21.708557508814433,-59.63267863872578,-20.978316198857385,-60.81383259161259,-52.51363837487497,-51.329346380393105,-46.89520176612013,-53.521991128287986,-49.07838322828154,-77.8677879693778],\"xaxis\":\"x\",\"y\":[-1.0270611499794795,-3.8044482955876675,-2.3482873749334443,-1.8667790044906123,-16.55710672100412,-5.22985204306111,-5.17454938315462,1.956984427424771,-5.1200289238392775,-5.603129614415634,0.41306115474845573,-5.564140122529346,-10.098321469845356,-0.4807796499756838,-5.140868146280622,-5.504746461004503,-7.069045078300084,-9.991588656668347,2.7366984862185726,6.561599861614199,0.5661577022644466,-0.7899209318855006,-2.33427182818759,-3.53435243736067,-3.538792538138864,-3.842010378886697,-10.89588006683349,-8.708583593183484,-18.059472796263137,17.83133006955647,-11.087048691525297,-13.654464489451986,2.300887894607961,-13.693836178804347,-0.7914717646969545,-1.8892167754761169,-1.944845438172333,-3.746603046157521,-0.7915318137952596,-8.728445239391352,29.63453834952832],\"yaxis\":\"y\",\"type\":\"scatter\"},{\"hovertemplate\":\"labels=3<br>0=%{x}<br>1=%{y}<extra></extra>\",\"legendgroup\":\"3\",\"marker\":{\"color\":\"#EF553B\",\"symbol\":\"circle\"},\"mode\":\"markers\",\"name\":\"3\",\"orientation\":\"v\",\"showlegend\":true,\"x\":[66.08358957058105,86.71502708920302,87.2940134327121],\"xaxis\":\"x\",\"y\":[-36.89897458780623,-42.73715994698861,-49.57078522474695],\"yaxis\":\"y\",\"type\":\"scatter\"},{\"hovertemplate\":\"labels=2<br>0=%{x}<br>1=%{y}<extra></extra>\",\"legendgroup\":\"2\",\"marker\":{\"color\":\"#00cc96\",\"symbol\":\"circle\"},\"mode\":\"markers\",\"name\":\"2\",\"orientation\":\"v\",\"showlegend\":true,\"x\":[9.243638058618217,-16.683202020472343,26.782503967192056,27.993603203197534,23.45173100135497,-1.8349192700115993,27.91894176091018,45.86806267871907,40.117778956114115,18.10685599331592,19.972051435590174,9.432609480526748,11.117116795056628,11.537977587638746,32.69219858170023,4.457393182454407,12.152034061749202,15.269614232709214,11.495919052493315,7.894003582593326,22.0682042200882,-0.1101263112044309,11.287226872280455,-3.3620289824592247,5.497360291669098,13.98333711720365,3.0643216016195955,1.5545132187385338,4.613101602896246,11.94601544544202,15.16978208642187,5.472005789477322,24.009690593219553,28.144074916164893,21.526807270439736,23.53589550499752,29.400557643646053,15.239862076103506,4.980680690809064,36.10645652381159],\"xaxis\":\"x\",\"y\":[-24.5707970923113,-7.636021368800001,-34.51929158865428,-36.17596684408173,-31.920561379876975,-21.943819716556433,-35.51004513147758,-38.40349705819188,-40.412331541866536,-36.19859044546194,-34.05693728322658,-29.51165381389951,-28.81715218638145,-29.53588940787589,-31.83687162556037,-23.294582848020507,-28.26539973721125,-27.98106022253268,-33.30800273076562,-20.766039086864474,-33.69055058192977,-24.226003417112068,-29.743568850831274,-26.49267892357031,-25.088215618096577,-31.52697043077547,-27.82569922284041,-19.403131710267132,-28.0434761885061,-29.34879556849738,-26.406574552606774,-26.20178858747967,-32.56205995226429,-38.18327409302265,-37.34798050221711,-30.099102283528083,-34.61152300142867,-31.09923462491505,-20.034003469543684,-32.09648780443382],\"yaxis\":\"y\",\"type\":\"scatter\"},{\"hovertemplate\":\"labels=0<br>0=%{x}<br>1=%{y}<extra></extra>\",\"legendgroup\":\"0\",\"marker\":{\"color\":\"#ab63fa\",\"symbol\":\"circle\"},\"mode\":\"markers\",\"name\":\"0\",\"orientation\":\"v\",\"showlegend\":true,\"x\":[5.9495679054997685,9.56990986487356,11.909310605991354,5.9109108191318445,14.901765635755877,9.893886864632197,19.531145802848048,3.111914150677544,6.444532001076626,12.490293856640225,10.792852548728847,17.292400556820652,12.506854565348428,15.711465767625842,30.36377807375383,25.25030728917876,-1.5157152255639252,19.918593213999294,44.36986322008354,40.66720053767019,32.09292135398662,34.60850549183414,9.069687239085068,43.50842908377315,20.54674975930497,22.943070968681095,36.82480297831106,50.5279837085082,46.29141741943059,40.43308259030729,26.22065547556813,24.287356793220287,24.154909911972865,27.934369111133524,33.01866221104718,19.95323644539195,33.38962054116555,41.06208600807421,18.97937732051301,14.657192974847593,29.261702635373286,34.947595675263926,16.810589904876693,28.729079601117675,-5.7268602767138885,25.769189294378034,31.866399617359537],\"xaxis\":\"x\",\"y\":[56.81002715558753,36.94563163891023,54.01087204453115,53.406678831354746,59.88545608252082,57.203353642274,50.96419814243079,61.22695240939768,59.22998466260022,54.92573012796829,59.62713493247764,53.24042334578362,56.28430593394262,7.759834924111795,17.27060143795647,22.457619567597384,18.05999575191419,2.3008736942436787,26.62588823418895,27.939274262508505,36.34537948582712,36.92802091869192,35.09826914323936,16.185143103596996,24.424408536096454,25.01440085735923,28.276019093485345,16.419582926588884,24.35791019398504,29.425507118391888,33.300434309147676,33.66695561860482,37.235728026557574,30.283048738395628,7.459030629407118,20.39217466334061,29.86987111911788,20.40562223573797,8.239894257334374,26.37902623988773,26.25294810404168,18.799277862702674,-8.810382628828552,16.225175213362053,-1.881199506026893,21.754381450268916,16.291307877728602],\"yaxis\":\"y\",\"type\":\"scatter\"}],                        {\"template\":{\"data\":{\"histogram2dcontour\":[{\"type\":\"histogram2dcontour\",\"colorbar\":{\"outlinewidth\":0,\"ticks\":\"\"},\"colorscale\":[[0.0,\"#0d0887\"],[0.1111111111111111,\"#46039f\"],[0.2222222222222222,\"#7201a8\"],[0.3333333333333333,\"#9c179e\"],[0.4444444444444444,\"#bd3786\"],[0.5555555555555556,\"#d8576b\"],[0.6666666666666666,\"#ed7953\"],[0.7777777777777778,\"#fb9f3a\"],[0.8888888888888888,\"#fdca26\"],[1.0,\"#f0f921\"]]}],\"choropleth\":[{\"type\":\"choropleth\",\"colorbar\":{\"outlinewidth\":0,\"ticks\":\"\"}}],\"histogram2d\":[{\"type\":\"histogram2d\",\"colorbar\":{\"outlinewidth\":0,\"ticks\":\"\"},\"colorscale\":[[0.0,\"#0d0887\"],[0.1111111111111111,\"#46039f\"],[0.2222222222222222,\"#7201a8\"],[0.3333333333333333,\"#9c179e\"],[0.4444444444444444,\"#bd3786\"],[0.5555555555555556,\"#d8576b\"],[0.6666666666666666,\"#ed7953\"],[0.7777777777777778,\"#fb9f3a\"],[0.8888888888888888,\"#fdca26\"],[1.0,\"#f0f921\"]]}],\"heatmap\":[{\"type\":\"heatmap\",\"colorbar\":{\"outlinewidth\":0,\"ticks\":\"\"},\"colorscale\":[[0.0,\"#0d0887\"],[0.1111111111111111,\"#46039f\"],[0.2222222222222222,\"#7201a8\"],[0.3333333333333333,\"#9c179e\"],[0.4444444444444444,\"#bd3786\"],[0.5555555555555556,\"#d8576b\"],[0.6666666666666666,\"#ed7953\"],[0.7777777777777778,\"#fb9f3a\"],[0.8888888888888888,\"#fdca26\"],[1.0,\"#f0f921\"]]}],\"heatmapgl\":[{\"type\":\"heatmapgl\",\"colorbar\":{\"outlinewidth\":0,\"ticks\":\"\"},\"colorscale\":[[0.0,\"#0d0887\"],[0.1111111111111111,\"#46039f\"],[0.2222222222222222,\"#7201a8\"],[0.3333333333333333,\"#9c179e\"],[0.4444444444444444,\"#bd3786\"],[0.5555555555555556,\"#d8576b\"],[0.6666666666666666,\"#ed7953\"],[0.7777777777777778,\"#fb9f3a\"],[0.8888888888888888,\"#fdca26\"],[1.0,\"#f0f921\"]]}],\"contourcarpet\":[{\"type\":\"contourcarpet\",\"colorbar\":{\"outlinewidth\":0,\"ticks\":\"\"}}],\"contour\":[{\"type\":\"contour\",\"colorbar\":{\"outlinewidth\":0,\"ticks\":\"\"},\"colorscale\":[[0.0,\"#0d0887\"],[0.1111111111111111,\"#46039f\"],[0.2222222222222222,\"#7201a8\"],[0.3333333333333333,\"#9c179e\"],[0.4444444444444444,\"#bd3786\"],[0.5555555555555556,\"#d8576b\"],[0.6666666666666666,\"#ed7953\"],[0.7777777777777778,\"#fb9f3a\"],[0.8888888888888888,\"#fdca26\"],[1.0,\"#f0f921\"]]}],\"surface\":[{\"type\":\"surface\",\"colorbar\":{\"outlinewidth\":0,\"ticks\":\"\"},\"colorscale\":[[0.0,\"#0d0887\"],[0.1111111111111111,\"#46039f\"],[0.2222222222222222,\"#7201a8\"],[0.3333333333333333,\"#9c179e\"],[0.4444444444444444,\"#bd3786\"],[0.5555555555555556,\"#d8576b\"],[0.6666666666666666,\"#ed7953\"],[0.7777777777777778,\"#fb9f3a\"],[0.8888888888888888,\"#fdca26\"],[1.0,\"#f0f921\"]]}],\"mesh3d\":[{\"type\":\"mesh3d\",\"colorbar\":{\"outlinewidth\":0,\"ticks\":\"\"}}],\"scatter\":[{\"fillpattern\":{\"fillmode\":\"overlay\",\"size\":10,\"solidity\":0.2},\"type\":\"scatter\"}],\"parcoords\":[{\"type\":\"parcoords\",\"line\":{\"colorbar\":{\"outlinewidth\":0,\"ticks\":\"\"}}}],\"scatterpolargl\":[{\"type\":\"scatterpolargl\",\"marker\":{\"colorbar\":{\"outlinewidth\":0,\"ticks\":\"\"}}}],\"bar\":[{\"error_x\":{\"color\":\"#2a3f5f\"},\"error_y\":{\"color\":\"#2a3f5f\"},\"marker\":{\"line\":{\"color\":\"#E5ECF6\",\"width\":0.5},\"pattern\":{\"fillmode\":\"overlay\",\"size\":10,\"solidity\":0.2}},\"type\":\"bar\"}],\"scattergeo\":[{\"type\":\"scattergeo\",\"marker\":{\"colorbar\":{\"outlinewidth\":0,\"ticks\":\"\"}}}],\"scatterpolar\":[{\"type\":\"scatterpolar\",\"marker\":{\"colorbar\":{\"outlinewidth\":0,\"ticks\":\"\"}}}],\"histogram\":[{\"marker\":{\"pattern\":{\"fillmode\":\"overlay\",\"size\":10,\"solidity\":0.2}},\"type\":\"histogram\"}],\"scattergl\":[{\"type\":\"scattergl\",\"marker\":{\"colorbar\":{\"outlinewidth\":0,\"ticks\":\"\"}}}],\"scatter3d\":[{\"type\":\"scatter3d\",\"line\":{\"colorbar\":{\"outlinewidth\":0,\"ticks\":\"\"}},\"marker\":{\"colorbar\":{\"outlinewidth\":0,\"ticks\":\"\"}}}],\"scattermapbox\":[{\"type\":\"scattermapbox\",\"marker\":{\"colorbar\":{\"outlinewidth\":0,\"ticks\":\"\"}}}],\"scatterternary\":[{\"type\":\"scatterternary\",\"marker\":{\"colorbar\":{\"outlinewidth\":0,\"ticks\":\"\"}}}],\"scattercarpet\":[{\"type\":\"scattercarpet\",\"marker\":{\"colorbar\":{\"outlinewidth\":0,\"ticks\":\"\"}}}],\"carpet\":[{\"aaxis\":{\"endlinecolor\":\"#2a3f5f\",\"gridcolor\":\"white\",\"linecolor\":\"white\",\"minorgridcolor\":\"white\",\"startlinecolor\":\"#2a3f5f\"},\"baxis\":{\"endlinecolor\":\"#2a3f5f\",\"gridcolor\":\"white\",\"linecolor\":\"white\",\"minorgridcolor\":\"white\",\"startlinecolor\":\"#2a3f5f\"},\"type\":\"carpet\"}],\"table\":[{\"cells\":{\"fill\":{\"color\":\"#EBF0F8\"},\"line\":{\"color\":\"white\"}},\"header\":{\"fill\":{\"color\":\"#C8D4E3\"},\"line\":{\"color\":\"white\"}},\"type\":\"table\"}],\"barpolar\":[{\"marker\":{\"line\":{\"color\":\"#E5ECF6\",\"width\":0.5},\"pattern\":{\"fillmode\":\"overlay\",\"size\":10,\"solidity\":0.2}},\"type\":\"barpolar\"}],\"pie\":[{\"automargin\":true,\"type\":\"pie\"}]},\"layout\":{\"autotypenumbers\":\"strict\",\"colorway\":[\"#636efa\",\"#EF553B\",\"#00cc96\",\"#ab63fa\",\"#FFA15A\",\"#19d3f3\",\"#FF6692\",\"#B6E880\",\"#FF97FF\",\"#FECB52\"],\"font\":{\"color\":\"#2a3f5f\"},\"hovermode\":\"closest\",\"hoverlabel\":{\"align\":\"left\"},\"paper_bgcolor\":\"white\",\"plot_bgcolor\":\"#E5ECF6\",\"polar\":{\"bgcolor\":\"#E5ECF6\",\"angularaxis\":{\"gridcolor\":\"white\",\"linecolor\":\"white\",\"ticks\":\"\"},\"radialaxis\":{\"gridcolor\":\"white\",\"linecolor\":\"white\",\"ticks\":\"\"}},\"ternary\":{\"bgcolor\":\"#E5ECF6\",\"aaxis\":{\"gridcolor\":\"white\",\"linecolor\":\"white\",\"ticks\":\"\"},\"baxis\":{\"gridcolor\":\"white\",\"linecolor\":\"white\",\"ticks\":\"\"},\"caxis\":{\"gridcolor\":\"white\",\"linecolor\":\"white\",\"ticks\":\"\"}},\"coloraxis\":{\"colorbar\":{\"outlinewidth\":0,\"ticks\":\"\"}},\"colorscale\":{\"sequential\":[[0.0,\"#0d0887\"],[0.1111111111111111,\"#46039f\"],[0.2222222222222222,\"#7201a8\"],[0.3333333333333333,\"#9c179e\"],[0.4444444444444444,\"#bd3786\"],[0.5555555555555556,\"#d8576b\"],[0.6666666666666666,\"#ed7953\"],[0.7777777777777778,\"#fb9f3a\"],[0.8888888888888888,\"#fdca26\"],[1.0,\"#f0f921\"]],\"sequentialminus\":[[0.0,\"#0d0887\"],[0.1111111111111111,\"#46039f\"],[0.2222222222222222,\"#7201a8\"],[0.3333333333333333,\"#9c179e\"],[0.4444444444444444,\"#bd3786\"],[0.5555555555555556,\"#d8576b\"],[0.6666666666666666,\"#ed7953\"],[0.7777777777777778,\"#fb9f3a\"],[0.8888888888888888,\"#fdca26\"],[1.0,\"#f0f921\"]],\"diverging\":[[0,\"#8e0152\"],[0.1,\"#c51b7d\"],[0.2,\"#de77ae\"],[0.3,\"#f1b6da\"],[0.4,\"#fde0ef\"],[0.5,\"#f7f7f7\"],[0.6,\"#e6f5d0\"],[0.7,\"#b8e186\"],[0.8,\"#7fbc41\"],[0.9,\"#4d9221\"],[1,\"#276419\"]]},\"xaxis\":{\"gridcolor\":\"white\",\"linecolor\":\"white\",\"ticks\":\"\",\"title\":{\"standoff\":15},\"zerolinecolor\":\"white\",\"automargin\":true,\"zerolinewidth\":2},\"yaxis\":{\"gridcolor\":\"white\",\"linecolor\":\"white\",\"ticks\":\"\",\"title\":{\"standoff\":15},\"zerolinecolor\":\"white\",\"automargin\":true,\"zerolinewidth\":2},\"scene\":{\"xaxis\":{\"backgroundcolor\":\"#E5ECF6\",\"gridcolor\":\"white\",\"linecolor\":\"white\",\"showbackground\":true,\"ticks\":\"\",\"zerolinecolor\":\"white\",\"gridwidth\":2},\"yaxis\":{\"backgroundcolor\":\"#E5ECF6\",\"gridcolor\":\"white\",\"linecolor\":\"white\",\"showbackground\":true,\"ticks\":\"\",\"zerolinecolor\":\"white\",\"gridwidth\":2},\"zaxis\":{\"backgroundcolor\":\"#E5ECF6\",\"gridcolor\":\"white\",\"linecolor\":\"white\",\"showbackground\":true,\"ticks\":\"\",\"zerolinecolor\":\"white\",\"gridwidth\":2}},\"shapedefaults\":{\"line\":{\"color\":\"#2a3f5f\"}},\"annotationdefaults\":{\"arrowcolor\":\"#2a3f5f\",\"arrowhead\":0,\"arrowwidth\":1},\"geo\":{\"bgcolor\":\"white\",\"landcolor\":\"#E5ECF6\",\"subunitcolor\":\"white\",\"showland\":true,\"showlakes\":true,\"lakecolor\":\"white\"},\"title\":{\"x\":0.05},\"mapbox\":{\"style\":\"light\"}}},\"xaxis\":{\"anchor\":\"y\",\"domain\":[0.0,1.0],\"title\":{\"text\":\"0\"}},\"yaxis\":{\"anchor\":\"x\",\"domain\":[0.0,1.0],\"title\":{\"text\":\"1\"}},\"legend\":{\"title\":{\"text\":\"labels\"},\"tracegroupgap\":0},\"margin\":{\"t\":60}},                        {\"responsive\": true}                    ).then(function(){\n",
       "                            \n",
       "var gd = document.getElementById('da00588c-4057-42f0-acc1-61d37a6f7995');\n",
       "var x = new MutationObserver(function (mutations, observer) {{\n",
       "        var display = window.getComputedStyle(gd).display;\n",
       "        if (!display || display === 'none') {{\n",
       "            console.log([gd, 'removed!']);\n",
       "            Plotly.purge(gd);\n",
       "            observer.disconnect();\n",
       "        }}\n",
       "}});\n",
       "\n",
       "// Listen for the removal of the full notebook cells\n",
       "var notebookContainer = gd.closest('#notebook-container');\n",
       "if (notebookContainer) {{\n",
       "    x.observe(notebookContainer, {childList: true});\n",
       "}}\n",
       "\n",
       "// Listen for the clearing of the current output cell\n",
       "var outputEl = gd.closest('.output');\n",
       "if (outputEl) {{\n",
       "    x.observe(outputEl, {childList: true});\n",
       "}}\n",
       "\n",
       "                        })                };                });            </script>        </div>"
      ]
     },
     "metadata": {},
     "output_type": "display_data"
    }
   ],
   "source": [
    "# 16S\n",
    "scores_16S = pd.DataFrame(pca_results_16S[\"scores\"])\n",
    "scores_16S[\"labels\"] = labels_16S\n",
    "fig_16S = px.scatter(\n",
    "    scores_16S,\n",
    "    x = 0,\n",
    "    y = 1,\n",
    "    color = \"labels\"\n",
    ")\n",
    "fig_16S.show()"
   ]
  },
  {
   "cell_type": "code",
   "execution_count": 20,
   "id": "a97e2e8a-5910-40e7-be39-fa83fc039df6",
   "metadata": {},
   "outputs": [
    {
     "data": {
      "application/vnd.plotly.v1+json": {
       "config": {
        "plotlyServerURL": "https://plot.ly"
       },
       "data": [
        {
         "hovertemplate": "labels=2<br>0=%{x}<br>1=%{y}<extra></extra>",
         "legendgroup": "2",
         "marker": {
          "color": "#636efa",
          "symbol": "circle"
         },
         "mode": "markers",
         "name": "2",
         "orientation": "v",
         "showlegend": true,
         "type": "scatter",
         "x": [
          -26.842183318869168,
          36.695115433385475,
          29.388363586378812,
          5.251855106216712,
          21.858439227362368,
          28.54566926404427,
          23.518365338158603,
          22.967505865516056,
          39.04810037854803,
          23.235372954682653,
          12.556986380342492,
          11.869076772670164,
          14.354897132914717,
          45.56499995488128,
          51.605755578917794,
          13.379512571472631,
          28.122318111858814,
          17.609888808565763,
          8.389161973313197,
          44.10328334450994,
          63.01501918319043,
          76.96126538739776,
          47.88575001907051,
          46.20732936964905,
          -40.57586206843445,
          -21.58140806463773,
          37.442523027866194,
          27.959148147704774,
          22.852659658461583,
          -2.1046183537200616,
          -12.348889034229412,
          16.627970576768032,
          2.529045353803488,
          38.02991926328732,
          19.509720122777487,
          45.000058132963666,
          14.047482389602004,
          36.08801622094952,
          53.91278252734629,
          52.25908481565268,
          23.70878827518729,
          30.239005548445032
         ],
         "xaxis": "x",
         "y": [
          -54.54555553378376,
          -52.160791306298634,
          -56.534348147999204,
          -56.87820437268034,
          -32.66079642268574,
          -62.89521716901262,
          -63.15278514697524,
          -40.5804262587155,
          -55.057980273012646,
          -52.18201528579025,
          -49.347097556889146,
          -61.99891737161212,
          -61.81763477018841,
          -53.85863728189307,
          -51.123098785763474,
          -39.65813302439665,
          -35.59137362026017,
          -41.65399698283496,
          -48.86449542041413,
          -49.78802443540611,
          -41.510126170803616,
          -17.967315055870483,
          -51.52592236475733,
          -50.61268494470423,
          -45.8373849085751,
          -52.40749477993583,
          -60.005349687124586,
          -54.76662195085546,
          -64.86750275096522,
          -67.03330029528047,
          -63.5969297433021,
          -63.27569731950729,
          -31.04337941020443,
          -58.623182649830596,
          -61.81681880685489,
          -51.83484457386995,
          -64.04465097056327,
          -49.68578481504173,
          -49.16736496577996,
          -50.213188272550326,
          -61.46149850163428,
          -54.825424546402
         ],
         "yaxis": "y"
        },
        {
         "hovertemplate": "labels=3<br>0=%{x}<br>1=%{y}<extra></extra>",
         "legendgroup": "3",
         "marker": {
          "color": "#EF553B",
          "symbol": "circle"
         },
         "mode": "markers",
         "name": "3",
         "orientation": "v",
         "showlegend": true,
         "type": "scatter",
         "x": [
          93.56944650238425,
          86.6171156882028,
          86.92957413700832,
          82.9588003508122,
          83.03756731453011,
          84.10761631609554,
          74.81703649780172,
          84.87840394048354,
          71.58576538914889,
          107.58785527079762,
          122.8799166709781,
          36.313298521392845,
          100.52642672676944,
          56.14362810777455,
          100.27811858794423,
          107.75968297724617,
          92.8028281564693
         ],
         "xaxis": "x",
         "y": [
          41.663825733182634,
          45.75252752548905,
          45.68790843558652,
          33.718998882825304,
          7.3629526500932965,
          47.801415932066405,
          44.35253267860475,
          8.38521278871856,
          50.94879587832738,
          37.84461415480435,
          26.53313281844834,
          7.875222153225676,
          36.682764942340775,
          9.504039074737694,
          43.07169094180256,
          37.27226544196465,
          42.39010509224084
         ],
         "yaxis": "y"
        },
        {
         "hovertemplate": "labels=1<br>0=%{x}<br>1=%{y}<extra></extra>",
         "legendgroup": "1",
         "marker": {
          "color": "#00cc96",
          "symbol": "circle"
         },
         "mode": "markers",
         "name": "1",
         "orientation": "v",
         "showlegend": true,
         "type": "scatter",
         "x": [
          -17.146411279286617,
          4.3209325142442445,
          8.491955651138648,
          -3.194583184556057,
          17.325333992995,
          -26.989691515065573,
          -19.842360096597396,
          23.48348036429466,
          -16.585380511297597,
          13.304456993557613,
          25.74768640405728,
          18.451943204595874,
          24.302079365058855,
          17.10501799177262,
          13.522054816082603,
          -6.381558961841755,
          27.622959280065302,
          47.958985803730805,
          35.62216220137419,
          5.5589416736750685,
          -3.976468857394671,
          -4.670753885149065,
          -23.308482763956505,
          17.168791495121283,
          14.348221938338606,
          6.2021149377621265,
          34.78111975223435,
          -0.8980806368212575,
          35.33544554011581,
          31.68615275689336,
          7.661581320411409,
          -23.822751330003086,
          -20.490174939711252,
          -5.018681125590016,
          29.947439646171706,
          4.68178097946641,
          -3.0307879432391105
         ],
         "xaxis": "x",
         "y": [
          8.86218037849791,
          6.776651291682511,
          7.470442288592854,
          43.683299211723906,
          53.58006042376795,
          15.736745273444807,
          52.63448993859817,
          54.915589160713,
          11.732035729854658,
          41.04508129357984,
          44.59345628007136,
          67.17777249630147,
          63.68457513105873,
          43.091531688773955,
          47.256873655079346,
          49.05437167959546,
          62.684991292597395,
          51.37868784586291,
          41.98092758035303,
          36.718414691458634,
          35.02853219880808,
          42.109279936287415,
          34.70329293631693,
          29.332628802197988,
          32.94603913996581,
          42.756633500489485,
          56.16670307839941,
          36.000858792955306,
          49.56577103195985,
          49.479028175406114,
          6.87007318499131,
          9.259027184160544,
          46.704290415864534,
          46.51003532862461,
          41.11063439875827,
          39.40224959728906,
          37.59800766848012
         ],
         "yaxis": "y"
        },
        {
         "hovertemplate": "labels=0<br>0=%{x}<br>1=%{y}<extra></extra>",
         "legendgroup": "0",
         "marker": {
          "color": "#ab63fa",
          "symbol": "circle"
         },
         "mode": "markers",
         "name": "0",
         "orientation": "v",
         "showlegend": true,
         "type": "scatter",
         "x": [
          -104.17373362127566,
          -69.22626210888487,
          -74.51468497522022,
          -117.74718668944374,
          -83.54552264683161,
          -81.0379179384639,
          -96.8939499131114,
          -101.42593280094484,
          -87.89206187540844,
          -84.88451144739713,
          -120.23941237033705,
          -99.5148827284154,
          -62.54047767101737,
          -84.45500276337687,
          -114.02437699260193,
          -102.50105152779673,
          -63.56554643876613,
          -73.06680340483405,
          -79.41481934502075,
          -85.09508437891145,
          -89.59927478773307,
          -18.85041865535453,
          -30.280730020582325,
          -53.762978355536134,
          -83.80831176165647,
          -76.80616709228879,
          -92.17745693192893,
          -87.96784505687461,
          -87.19293407500707,
          -78.82285334862485,
          -78.90960020919978,
          -79.02483420149375,
          -70.99144963633044,
          -17.15945665784433,
          -59.84129528394486
         ],
         "xaxis": "x",
         "y": [
          6.532291132471659,
          9.992002233200031,
          8.156942156293645,
          8.066046403285299,
          8.79619267797307,
          9.423860320229823,
          11.755940830601036,
          10.538379074014761,
          11.398461719050811,
          8.791553702812461,
          10.13520692598315,
          15.79894116196386,
          14.521186905578489,
          9.78938814733303,
          7.763832266217128,
          9.847725883132979,
          11.9354734018611,
          7.44215705619717,
          -5.543231416834831,
          8.236216142297764,
          -1.9324420543536427,
          -5.715853606577587,
          -8.387414975340201,
          6.666902387480153,
          -7.814410920175801,
          -7.584013750763033,
          5.501918845495815,
          0.7799581704964434,
          9.890626189998242,
          8.727366183579596,
          10.116951832519895,
          0.09304902948051658,
          -7.0375694182451065,
          -2.391069532711334,
          -4.269836280542839
         ],
         "yaxis": "y"
        }
       ],
       "layout": {
        "autosize": true,
        "legend": {
         "title": {
          "text": "labels"
         },
         "tracegroupgap": 0
        },
        "margin": {
         "t": 60
        },
        "template": {
         "data": {
          "bar": [
           {
            "error_x": {
             "color": "#2a3f5f"
            },
            "error_y": {
             "color": "#2a3f5f"
            },
            "marker": {
             "line": {
              "color": "#E5ECF6",
              "width": 0.5
             },
             "pattern": {
              "fillmode": "overlay",
              "size": 10,
              "solidity": 0.2
             }
            },
            "type": "bar"
           }
          ],
          "barpolar": [
           {
            "marker": {
             "line": {
              "color": "#E5ECF6",
              "width": 0.5
             },
             "pattern": {
              "fillmode": "overlay",
              "size": 10,
              "solidity": 0.2
             }
            },
            "type": "barpolar"
           }
          ],
          "carpet": [
           {
            "aaxis": {
             "endlinecolor": "#2a3f5f",
             "gridcolor": "white",
             "linecolor": "white",
             "minorgridcolor": "white",
             "startlinecolor": "#2a3f5f"
            },
            "baxis": {
             "endlinecolor": "#2a3f5f",
             "gridcolor": "white",
             "linecolor": "white",
             "minorgridcolor": "white",
             "startlinecolor": "#2a3f5f"
            },
            "type": "carpet"
           }
          ],
          "choropleth": [
           {
            "colorbar": {
             "outlinewidth": 0,
             "ticks": ""
            },
            "type": "choropleth"
           }
          ],
          "contour": [
           {
            "colorbar": {
             "outlinewidth": 0,
             "ticks": ""
            },
            "colorscale": [
             [
              0,
              "#0d0887"
             ],
             [
              0.1111111111111111,
              "#46039f"
             ],
             [
              0.2222222222222222,
              "#7201a8"
             ],
             [
              0.3333333333333333,
              "#9c179e"
             ],
             [
              0.4444444444444444,
              "#bd3786"
             ],
             [
              0.5555555555555556,
              "#d8576b"
             ],
             [
              0.6666666666666666,
              "#ed7953"
             ],
             [
              0.7777777777777778,
              "#fb9f3a"
             ],
             [
              0.8888888888888888,
              "#fdca26"
             ],
             [
              1,
              "#f0f921"
             ]
            ],
            "type": "contour"
           }
          ],
          "contourcarpet": [
           {
            "colorbar": {
             "outlinewidth": 0,
             "ticks": ""
            },
            "type": "contourcarpet"
           }
          ],
          "heatmap": [
           {
            "colorbar": {
             "outlinewidth": 0,
             "ticks": ""
            },
            "colorscale": [
             [
              0,
              "#0d0887"
             ],
             [
              0.1111111111111111,
              "#46039f"
             ],
             [
              0.2222222222222222,
              "#7201a8"
             ],
             [
              0.3333333333333333,
              "#9c179e"
             ],
             [
              0.4444444444444444,
              "#bd3786"
             ],
             [
              0.5555555555555556,
              "#d8576b"
             ],
             [
              0.6666666666666666,
              "#ed7953"
             ],
             [
              0.7777777777777778,
              "#fb9f3a"
             ],
             [
              0.8888888888888888,
              "#fdca26"
             ],
             [
              1,
              "#f0f921"
             ]
            ],
            "type": "heatmap"
           }
          ],
          "heatmapgl": [
           {
            "colorbar": {
             "outlinewidth": 0,
             "ticks": ""
            },
            "colorscale": [
             [
              0,
              "#0d0887"
             ],
             [
              0.1111111111111111,
              "#46039f"
             ],
             [
              0.2222222222222222,
              "#7201a8"
             ],
             [
              0.3333333333333333,
              "#9c179e"
             ],
             [
              0.4444444444444444,
              "#bd3786"
             ],
             [
              0.5555555555555556,
              "#d8576b"
             ],
             [
              0.6666666666666666,
              "#ed7953"
             ],
             [
              0.7777777777777778,
              "#fb9f3a"
             ],
             [
              0.8888888888888888,
              "#fdca26"
             ],
             [
              1,
              "#f0f921"
             ]
            ],
            "type": "heatmapgl"
           }
          ],
          "histogram": [
           {
            "marker": {
             "pattern": {
              "fillmode": "overlay",
              "size": 10,
              "solidity": 0.2
             }
            },
            "type": "histogram"
           }
          ],
          "histogram2d": [
           {
            "colorbar": {
             "outlinewidth": 0,
             "ticks": ""
            },
            "colorscale": [
             [
              0,
              "#0d0887"
             ],
             [
              0.1111111111111111,
              "#46039f"
             ],
             [
              0.2222222222222222,
              "#7201a8"
             ],
             [
              0.3333333333333333,
              "#9c179e"
             ],
             [
              0.4444444444444444,
              "#bd3786"
             ],
             [
              0.5555555555555556,
              "#d8576b"
             ],
             [
              0.6666666666666666,
              "#ed7953"
             ],
             [
              0.7777777777777778,
              "#fb9f3a"
             ],
             [
              0.8888888888888888,
              "#fdca26"
             ],
             [
              1,
              "#f0f921"
             ]
            ],
            "type": "histogram2d"
           }
          ],
          "histogram2dcontour": [
           {
            "colorbar": {
             "outlinewidth": 0,
             "ticks": ""
            },
            "colorscale": [
             [
              0,
              "#0d0887"
             ],
             [
              0.1111111111111111,
              "#46039f"
             ],
             [
              0.2222222222222222,
              "#7201a8"
             ],
             [
              0.3333333333333333,
              "#9c179e"
             ],
             [
              0.4444444444444444,
              "#bd3786"
             ],
             [
              0.5555555555555556,
              "#d8576b"
             ],
             [
              0.6666666666666666,
              "#ed7953"
             ],
             [
              0.7777777777777778,
              "#fb9f3a"
             ],
             [
              0.8888888888888888,
              "#fdca26"
             ],
             [
              1,
              "#f0f921"
             ]
            ],
            "type": "histogram2dcontour"
           }
          ],
          "mesh3d": [
           {
            "colorbar": {
             "outlinewidth": 0,
             "ticks": ""
            },
            "type": "mesh3d"
           }
          ],
          "parcoords": [
           {
            "line": {
             "colorbar": {
              "outlinewidth": 0,
              "ticks": ""
             }
            },
            "type": "parcoords"
           }
          ],
          "pie": [
           {
            "automargin": true,
            "type": "pie"
           }
          ],
          "scatter": [
           {
            "fillpattern": {
             "fillmode": "overlay",
             "size": 10,
             "solidity": 0.2
            },
            "type": "scatter"
           }
          ],
          "scatter3d": [
           {
            "line": {
             "colorbar": {
              "outlinewidth": 0,
              "ticks": ""
             }
            },
            "marker": {
             "colorbar": {
              "outlinewidth": 0,
              "ticks": ""
             }
            },
            "type": "scatter3d"
           }
          ],
          "scattercarpet": [
           {
            "marker": {
             "colorbar": {
              "outlinewidth": 0,
              "ticks": ""
             }
            },
            "type": "scattercarpet"
           }
          ],
          "scattergeo": [
           {
            "marker": {
             "colorbar": {
              "outlinewidth": 0,
              "ticks": ""
             }
            },
            "type": "scattergeo"
           }
          ],
          "scattergl": [
           {
            "marker": {
             "colorbar": {
              "outlinewidth": 0,
              "ticks": ""
             }
            },
            "type": "scattergl"
           }
          ],
          "scattermapbox": [
           {
            "marker": {
             "colorbar": {
              "outlinewidth": 0,
              "ticks": ""
             }
            },
            "type": "scattermapbox"
           }
          ],
          "scatterpolar": [
           {
            "marker": {
             "colorbar": {
              "outlinewidth": 0,
              "ticks": ""
             }
            },
            "type": "scatterpolar"
           }
          ],
          "scatterpolargl": [
           {
            "marker": {
             "colorbar": {
              "outlinewidth": 0,
              "ticks": ""
             }
            },
            "type": "scatterpolargl"
           }
          ],
          "scatterternary": [
           {
            "marker": {
             "colorbar": {
              "outlinewidth": 0,
              "ticks": ""
             }
            },
            "type": "scatterternary"
           }
          ],
          "surface": [
           {
            "colorbar": {
             "outlinewidth": 0,
             "ticks": ""
            },
            "colorscale": [
             [
              0,
              "#0d0887"
             ],
             [
              0.1111111111111111,
              "#46039f"
             ],
             [
              0.2222222222222222,
              "#7201a8"
             ],
             [
              0.3333333333333333,
              "#9c179e"
             ],
             [
              0.4444444444444444,
              "#bd3786"
             ],
             [
              0.5555555555555556,
              "#d8576b"
             ],
             [
              0.6666666666666666,
              "#ed7953"
             ],
             [
              0.7777777777777778,
              "#fb9f3a"
             ],
             [
              0.8888888888888888,
              "#fdca26"
             ],
             [
              1,
              "#f0f921"
             ]
            ],
            "type": "surface"
           }
          ],
          "table": [
           {
            "cells": {
             "fill": {
              "color": "#EBF0F8"
             },
             "line": {
              "color": "white"
             }
            },
            "header": {
             "fill": {
              "color": "#C8D4E3"
             },
             "line": {
              "color": "white"
             }
            },
            "type": "table"
           }
          ]
         },
         "layout": {
          "annotationdefaults": {
           "arrowcolor": "#2a3f5f",
           "arrowhead": 0,
           "arrowwidth": 1
          },
          "autotypenumbers": "strict",
          "coloraxis": {
           "colorbar": {
            "outlinewidth": 0,
            "ticks": ""
           }
          },
          "colorscale": {
           "diverging": [
            [
             0,
             "#8e0152"
            ],
            [
             0.1,
             "#c51b7d"
            ],
            [
             0.2,
             "#de77ae"
            ],
            [
             0.3,
             "#f1b6da"
            ],
            [
             0.4,
             "#fde0ef"
            ],
            [
             0.5,
             "#f7f7f7"
            ],
            [
             0.6,
             "#e6f5d0"
            ],
            [
             0.7,
             "#b8e186"
            ],
            [
             0.8,
             "#7fbc41"
            ],
            [
             0.9,
             "#4d9221"
            ],
            [
             1,
             "#276419"
            ]
           ],
           "sequential": [
            [
             0,
             "#0d0887"
            ],
            [
             0.1111111111111111,
             "#46039f"
            ],
            [
             0.2222222222222222,
             "#7201a8"
            ],
            [
             0.3333333333333333,
             "#9c179e"
            ],
            [
             0.4444444444444444,
             "#bd3786"
            ],
            [
             0.5555555555555556,
             "#d8576b"
            ],
            [
             0.6666666666666666,
             "#ed7953"
            ],
            [
             0.7777777777777778,
             "#fb9f3a"
            ],
            [
             0.8888888888888888,
             "#fdca26"
            ],
            [
             1,
             "#f0f921"
            ]
           ],
           "sequentialminus": [
            [
             0,
             "#0d0887"
            ],
            [
             0.1111111111111111,
             "#46039f"
            ],
            [
             0.2222222222222222,
             "#7201a8"
            ],
            [
             0.3333333333333333,
             "#9c179e"
            ],
            [
             0.4444444444444444,
             "#bd3786"
            ],
            [
             0.5555555555555556,
             "#d8576b"
            ],
            [
             0.6666666666666666,
             "#ed7953"
            ],
            [
             0.7777777777777778,
             "#fb9f3a"
            ],
            [
             0.8888888888888888,
             "#fdca26"
            ],
            [
             1,
             "#f0f921"
            ]
           ]
          },
          "colorway": [
           "#636efa",
           "#EF553B",
           "#00cc96",
           "#ab63fa",
           "#FFA15A",
           "#19d3f3",
           "#FF6692",
           "#B6E880",
           "#FF97FF",
           "#FECB52"
          ],
          "font": {
           "color": "#2a3f5f"
          },
          "geo": {
           "bgcolor": "white",
           "lakecolor": "white",
           "landcolor": "#E5ECF6",
           "showlakes": true,
           "showland": true,
           "subunitcolor": "white"
          },
          "hoverlabel": {
           "align": "left"
          },
          "hovermode": "closest",
          "mapbox": {
           "style": "light"
          },
          "paper_bgcolor": "white",
          "plot_bgcolor": "#E5ECF6",
          "polar": {
           "angularaxis": {
            "gridcolor": "white",
            "linecolor": "white",
            "ticks": ""
           },
           "bgcolor": "#E5ECF6",
           "radialaxis": {
            "gridcolor": "white",
            "linecolor": "white",
            "ticks": ""
           }
          },
          "scene": {
           "xaxis": {
            "backgroundcolor": "#E5ECF6",
            "gridcolor": "white",
            "gridwidth": 2,
            "linecolor": "white",
            "showbackground": true,
            "ticks": "",
            "zerolinecolor": "white"
           },
           "yaxis": {
            "backgroundcolor": "#E5ECF6",
            "gridcolor": "white",
            "gridwidth": 2,
            "linecolor": "white",
            "showbackground": true,
            "ticks": "",
            "zerolinecolor": "white"
           },
           "zaxis": {
            "backgroundcolor": "#E5ECF6",
            "gridcolor": "white",
            "gridwidth": 2,
            "linecolor": "white",
            "showbackground": true,
            "ticks": "",
            "zerolinecolor": "white"
           }
          },
          "shapedefaults": {
           "line": {
            "color": "#2a3f5f"
           }
          },
          "ternary": {
           "aaxis": {
            "gridcolor": "white",
            "linecolor": "white",
            "ticks": ""
           },
           "baxis": {
            "gridcolor": "white",
            "linecolor": "white",
            "ticks": ""
           },
           "bgcolor": "#E5ECF6",
           "caxis": {
            "gridcolor": "white",
            "linecolor": "white",
            "ticks": ""
           }
          },
          "title": {
           "x": 0.05
          },
          "xaxis": {
           "automargin": true,
           "gridcolor": "white",
           "linecolor": "white",
           "ticks": "",
           "title": {
            "standoff": 15
           },
           "zerolinecolor": "white",
           "zerolinewidth": 2
          },
          "yaxis": {
           "automargin": true,
           "gridcolor": "white",
           "linecolor": "white",
           "ticks": "",
           "title": {
            "standoff": 15
           },
           "zerolinecolor": "white",
           "zerolinewidth": 2
          }
         }
        },
        "xaxis": {
         "anchor": "y",
         "autorange": true,
         "domain": [
          0,
          1
         ],
         "range": [
          -136.41533610760504,
          139.0558404082461
         ],
         "title": {
          "text": "0"
         },
         "type": "linear"
        },
        "yaxis": {
         "anchor": "x",
         "autorange": true,
         "domain": [
          0,
          1
         ],
         "range": [
          -77.4249712857048,
          77.5694434867258
         ],
         "title": {
          "text": "1"
         },
         "type": "linear"
        }
       }
      },
      "image/png": "[encoded data removed]",
      "text/html": [
       "<div>                            <div id=\"0f68d9d3-4644-4b0d-a3b4-2ed1b234103e\" class=\"plotly-graph-div\" style=\"height:525px; width:100%;\"></div>            <script type=\"text/javascript\">                require([\"plotly\"], function(Plotly) {                    window.PLOTLYENV=window.PLOTLYENV || {};                                    if (document.getElementById(\"0f68d9d3-4644-4b0d-a3b4-2ed1b234103e\")) {                    Plotly.newPlot(                        \"0f68d9d3-4644-4b0d-a3b4-2ed1b234103e\",                        [{\"hovertemplate\":\"labels=2<br>0=%{x}<br>1=%{y}<extra></extra>\",\"legendgroup\":\"2\",\"marker\":{\"color\":\"#636efa\",\"symbol\":\"circle\"},\"mode\":\"markers\",\"name\":\"2\",\"orientation\":\"v\",\"showlegend\":true,\"x\":[-26.842183318869168,36.695115433385475,29.388363586378812,5.251855106216712,21.858439227362368,28.54566926404427,23.518365338158603,22.967505865516056,39.04810037854803,23.235372954682653,12.556986380342492,11.869076772670164,14.354897132914717,45.56499995488128,51.605755578917794,13.379512571472631,28.122318111858814,17.609888808565763,8.389161973313197,44.10328334450994,63.01501918319043,76.96126538739776,47.88575001907051,46.20732936964905,-40.57586206843445,-21.58140806463773,37.442523027866194,27.959148147704774,22.852659658461583,-2.1046183537200616,-12.348889034229412,16.627970576768032,2.529045353803488,38.02991926328732,19.509720122777487,45.000058132963666,14.047482389602004,36.08801622094952,53.91278252734629,52.25908481565268,23.70878827518729,30.239005548445032],\"xaxis\":\"x\",\"y\":[-54.54555553378376,-52.160791306298634,-56.534348147999204,-56.87820437268034,-32.66079642268574,-62.89521716901262,-63.15278514697524,-40.5804262587155,-55.057980273012646,-52.18201528579025,-49.347097556889146,-61.99891737161212,-61.81763477018841,-53.85863728189307,-51.123098785763474,-39.65813302439665,-35.59137362026017,-41.65399698283496,-48.86449542041413,-49.78802443540611,-41.510126170803616,-17.967315055870483,-51.52592236475733,-50.61268494470423,-45.8373849085751,-52.40749477993583,-60.005349687124586,-54.76662195085546,-64.86750275096522,-67.03330029528047,-63.5969297433021,-63.27569731950729,-31.04337941020443,-58.623182649830596,-61.81681880685489,-51.83484457386995,-64.04465097056327,-49.68578481504173,-49.16736496577996,-50.213188272550326,-61.46149850163428,-54.825424546402],\"yaxis\":\"y\",\"type\":\"scatter\"},{\"hovertemplate\":\"labels=3<br>0=%{x}<br>1=%{y}<extra></extra>\",\"legendgroup\":\"3\",\"marker\":{\"color\":\"#EF553B\",\"symbol\":\"circle\"},\"mode\":\"markers\",\"name\":\"3\",\"orientation\":\"v\",\"showlegend\":true,\"x\":[93.56944650238425,86.6171156882028,86.92957413700832,82.9588003508122,83.03756731453011,84.10761631609554,74.81703649780172,84.87840394048354,71.58576538914889,107.58785527079762,122.8799166709781,36.313298521392845,100.52642672676944,56.14362810777455,100.27811858794423,107.75968297724617,92.8028281564693],\"xaxis\":\"x\",\"y\":[41.663825733182634,45.75252752548905,45.68790843558652,33.718998882825304,7.3629526500932965,47.801415932066405,44.35253267860475,8.38521278871856,50.94879587832738,37.84461415480435,26.53313281844834,7.875222153225676,36.682764942340775,9.504039074737694,43.07169094180256,37.27226544196465,42.39010509224084],\"yaxis\":\"y\",\"type\":\"scatter\"},{\"hovertemplate\":\"labels=1<br>0=%{x}<br>1=%{y}<extra></extra>\",\"legendgroup\":\"1\",\"marker\":{\"color\":\"#00cc96\",\"symbol\":\"circle\"},\"mode\":\"markers\",\"name\":\"1\",\"orientation\":\"v\",\"showlegend\":true,\"x\":[-17.146411279286617,4.3209325142442445,8.491955651138648,-3.194583184556057,17.325333992995,-26.989691515065573,-19.842360096597396,23.48348036429466,-16.585380511297597,13.304456993557613,25.74768640405728,18.451943204595874,24.302079365058855,17.10501799177262,13.522054816082603,-6.381558961841755,27.622959280065302,47.958985803730805,35.62216220137419,5.5589416736750685,-3.976468857394671,-4.670753885149065,-23.308482763956505,17.168791495121283,14.348221938338606,6.2021149377621265,34.78111975223435,-0.8980806368212575,35.33544554011581,31.68615275689336,7.661581320411409,-23.822751330003086,-20.490174939711252,-5.018681125590016,29.947439646171706,4.68178097946641,-3.0307879432391105],\"xaxis\":\"x\",\"y\":[8.86218037849791,6.776651291682511,7.470442288592854,43.683299211723906,53.58006042376795,15.736745273444807,52.63448993859817,54.915589160713,11.732035729854658,41.04508129357984,44.59345628007136,67.17777249630147,63.68457513105873,43.091531688773955,47.256873655079346,49.05437167959546,62.684991292597395,51.37868784586291,41.98092758035303,36.718414691458634,35.02853219880808,42.109279936287415,34.70329293631693,29.332628802197988,32.94603913996581,42.756633500489485,56.16670307839941,36.000858792955306,49.56577103195985,49.479028175406114,6.87007318499131,9.259027184160544,46.704290415864534,46.51003532862461,41.11063439875827,39.40224959728906,37.59800766848012],\"yaxis\":\"y\",\"type\":\"scatter\"},{\"hovertemplate\":\"labels=0<br>0=%{x}<br>1=%{y}<extra></extra>\",\"legendgroup\":\"0\",\"marker\":{\"color\":\"#ab63fa\",\"symbol\":\"circle\"},\"mode\":\"markers\",\"name\":\"0\",\"orientation\":\"v\",\"showlegend\":true,\"x\":[-104.17373362127566,-69.22626210888487,-74.51468497522022,-117.74718668944374,-83.54552264683161,-81.0379179384639,-96.8939499131114,-101.42593280094484,-87.89206187540844,-84.88451144739713,-120.23941237033705,-99.5148827284154,-62.54047767101737,-84.45500276337687,-114.02437699260193,-102.50105152779673,-63.56554643876613,-73.06680340483405,-79.41481934502075,-85.09508437891145,-89.59927478773307,-18.85041865535453,-30.280730020582325,-53.762978355536134,-83.80831176165647,-76.80616709228879,-92.17745693192893,-87.96784505687461,-87.19293407500707,-78.82285334862485,-78.90960020919978,-79.02483420149375,-70.99144963633044,-17.15945665784433,-59.84129528394486],\"xaxis\":\"x\",\"y\":[6.532291132471659,9.992002233200031,8.156942156293645,8.066046403285299,8.79619267797307,9.423860320229823,11.755940830601036,10.538379074014761,11.398461719050811,8.791553702812461,10.13520692598315,15.79894116196386,14.521186905578489,9.78938814733303,7.763832266217128,9.847725883132979,11.9354734018611,7.44215705619717,-5.543231416834831,8.236216142297764,-1.9324420543536427,-5.715853606577587,-8.387414975340201,6.666902387480153,-7.814410920175801,-7.584013750763033,5.501918845495815,0.7799581704964434,9.890626189998242,8.727366183579596,10.116951832519895,0.09304902948051658,-7.0375694182451065,-2.391069532711334,-4.269836280542839],\"yaxis\":\"y\",\"type\":\"scatter\"}],                        {\"template\":{\"data\":{\"histogram2dcontour\":[{\"type\":\"histogram2dcontour\",\"colorbar\":{\"outlinewidth\":0,\"ticks\":\"\"},\"colorscale\":[[0.0,\"#0d0887\"],[0.1111111111111111,\"#46039f\"],[0.2222222222222222,\"#7201a8\"],[0.3333333333333333,\"#9c179e\"],[0.4444444444444444,\"#bd3786\"],[0.5555555555555556,\"#d8576b\"],[0.6666666666666666,\"#ed7953\"],[0.7777777777777778,\"#fb9f3a\"],[0.8888888888888888,\"#fdca26\"],[1.0,\"#f0f921\"]]}],\"choropleth\":[{\"type\":\"choropleth\",\"colorbar\":{\"outlinewidth\":0,\"ticks\":\"\"}}],\"histogram2d\":[{\"type\":\"histogram2d\",\"colorbar\":{\"outlinewidth\":0,\"ticks\":\"\"},\"colorscale\":[[0.0,\"#0d0887\"],[0.1111111111111111,\"#46039f\"],[0.2222222222222222,\"#7201a8\"],[0.3333333333333333,\"#9c179e\"],[0.4444444444444444,\"#bd3786\"],[0.5555555555555556,\"#d8576b\"],[0.6666666666666666,\"#ed7953\"],[0.7777777777777778,\"#fb9f3a\"],[0.8888888888888888,\"#fdca26\"],[1.0,\"#f0f921\"]]}],\"heatmap\":[{\"type\":\"heatmap\",\"colorbar\":{\"outlinewidth\":0,\"ticks\":\"\"},\"colorscale\":[[0.0,\"#0d0887\"],[0.1111111111111111,\"#46039f\"],[0.2222222222222222,\"#7201a8\"],[0.3333333333333333,\"#9c179e\"],[0.4444444444444444,\"#bd3786\"],[0.5555555555555556,\"#d8576b\"],[0.6666666666666666,\"#ed7953\"],[0.7777777777777778,\"#fb9f3a\"],[0.8888888888888888,\"#fdca26\"],[1.0,\"#f0f921\"]]}],\"heatmapgl\":[{\"type\":\"heatmapgl\",\"colorbar\":{\"outlinewidth\":0,\"ticks\":\"\"},\"colorscale\":[[0.0,\"#0d0887\"],[0.1111111111111111,\"#46039f\"],[0.2222222222222222,\"#7201a8\"],[0.3333333333333333,\"#9c179e\"],[0.4444444444444444,\"#bd3786\"],[0.5555555555555556,\"#d8576b\"],[0.6666666666666666,\"#ed7953\"],[0.7777777777777778,\"#fb9f3a\"],[0.8888888888888888,\"#fdca26\"],[1.0,\"#f0f921\"]]}],\"contourcarpet\":[{\"type\":\"contourcarpet\",\"colorbar\":{\"outlinewidth\":0,\"ticks\":\"\"}}],\"contour\":[{\"type\":\"contour\",\"colorbar\":{\"outlinewidth\":0,\"ticks\":\"\"},\"colorscale\":[[0.0,\"#0d0887\"],[0.1111111111111111,\"#46039f\"],[0.2222222222222222,\"#7201a8\"],[0.3333333333333333,\"#9c179e\"],[0.4444444444444444,\"#bd3786\"],[0.5555555555555556,\"#d8576b\"],[0.6666666666666666,\"#ed7953\"],[0.7777777777777778,\"#fb9f3a\"],[0.8888888888888888,\"#fdca26\"],[1.0,\"#f0f921\"]]}],\"surface\":[{\"type\":\"surface\",\"colorbar\":{\"outlinewidth\":0,\"ticks\":\"\"},\"colorscale\":[[0.0,\"#0d0887\"],[0.1111111111111111,\"#46039f\"],[0.2222222222222222,\"#7201a8\"],[0.3333333333333333,\"#9c179e\"],[0.4444444444444444,\"#bd3786\"],[0.5555555555555556,\"#d8576b\"],[0.6666666666666666,\"#ed7953\"],[0.7777777777777778,\"#fb9f3a\"],[0.8888888888888888,\"#fdca26\"],[1.0,\"#f0f921\"]]}],\"mesh3d\":[{\"type\":\"mesh3d\",\"colorbar\":{\"outlinewidth\":0,\"ticks\":\"\"}}],\"scatter\":[{\"fillpattern\":{\"fillmode\":\"overlay\",\"size\":10,\"solidity\":0.2},\"type\":\"scatter\"}],\"parcoords\":[{\"type\":\"parcoords\",\"line\":{\"colorbar\":{\"outlinewidth\":0,\"ticks\":\"\"}}}],\"scatterpolargl\":[{\"type\":\"scatterpolargl\",\"marker\":{\"colorbar\":{\"outlinewidth\":0,\"ticks\":\"\"}}}],\"bar\":[{\"error_x\":{\"color\":\"#2a3f5f\"},\"error_y\":{\"color\":\"#2a3f5f\"},\"marker\":{\"line\":{\"color\":\"#E5ECF6\",\"width\":0.5},\"pattern\":{\"fillmode\":\"overlay\",\"size\":10,\"solidity\":0.2}},\"type\":\"bar\"}],\"scattergeo\":[{\"type\":\"scattergeo\",\"marker\":{\"colorbar\":{\"outlinewidth\":0,\"ticks\":\"\"}}}],\"scatterpolar\":[{\"type\":\"scatterpolar\",\"marker\":{\"colorbar\":{\"outlinewidth\":0,\"ticks\":\"\"}}}],\"histogram\":[{\"marker\":{\"pattern\":{\"fillmode\":\"overlay\",\"size\":10,\"solidity\":0.2}},\"type\":\"histogram\"}],\"scattergl\":[{\"type\":\"scattergl\",\"marker\":{\"colorbar\":{\"outlinewidth\":0,\"ticks\":\"\"}}}],\"scatter3d\":[{\"type\":\"scatter3d\",\"line\":{\"colorbar\":{\"outlinewidth\":0,\"ticks\":\"\"}},\"marker\":{\"colorbar\":{\"outlinewidth\":0,\"ticks\":\"\"}}}],\"scattermapbox\":[{\"type\":\"scattermapbox\",\"marker\":{\"colorbar\":{\"outlinewidth\":0,\"ticks\":\"\"}}}],\"scatterternary\":[{\"type\":\"scatterternary\",\"marker\":{\"colorbar\":{\"outlinewidth\":0,\"ticks\":\"\"}}}],\"scattercarpet\":[{\"type\":\"scattercarpet\",\"marker\":{\"colorbar\":{\"outlinewidth\":0,\"ticks\":\"\"}}}],\"carpet\":[{\"aaxis\":{\"endlinecolor\":\"#2a3f5f\",\"gridcolor\":\"white\",\"linecolor\":\"white\",\"minorgridcolor\":\"white\",\"startlinecolor\":\"#2a3f5f\"},\"baxis\":{\"endlinecolor\":\"#2a3f5f\",\"gridcolor\":\"white\",\"linecolor\":\"white\",\"minorgridcolor\":\"white\",\"startlinecolor\":\"#2a3f5f\"},\"type\":\"carpet\"}],\"table\":[{\"cells\":{\"fill\":{\"color\":\"#EBF0F8\"},\"line\":{\"color\":\"white\"}},\"header\":{\"fill\":{\"color\":\"#C8D4E3\"},\"line\":{\"color\":\"white\"}},\"type\":\"table\"}],\"barpolar\":[{\"marker\":{\"line\":{\"color\":\"#E5ECF6\",\"width\":0.5},\"pattern\":{\"fillmode\":\"overlay\",\"size\":10,\"solidity\":0.2}},\"type\":\"barpolar\"}],\"pie\":[{\"automargin\":true,\"type\":\"pie\"}]},\"layout\":{\"autotypenumbers\":\"strict\",\"colorway\":[\"#636efa\",\"#EF553B\",\"#00cc96\",\"#ab63fa\",\"#FFA15A\",\"#19d3f3\",\"#FF6692\",\"#B6E880\",\"#FF97FF\",\"#FECB52\"],\"font\":{\"color\":\"#2a3f5f\"},\"hovermode\":\"closest\",\"hoverlabel\":{\"align\":\"left\"},\"paper_bgcolor\":\"white\",\"plot_bgcolor\":\"#E5ECF6\",\"polar\":{\"bgcolor\":\"#E5ECF6\",\"angularaxis\":{\"gridcolor\":\"white\",\"linecolor\":\"white\",\"ticks\":\"\"},\"radialaxis\":{\"gridcolor\":\"white\",\"linecolor\":\"white\",\"ticks\":\"\"}},\"ternary\":{\"bgcolor\":\"#E5ECF6\",\"aaxis\":{\"gridcolor\":\"white\",\"linecolor\":\"white\",\"ticks\":\"\"},\"baxis\":{\"gridcolor\":\"white\",\"linecolor\":\"white\",\"ticks\":\"\"},\"caxis\":{\"gridcolor\":\"white\",\"linecolor\":\"white\",\"ticks\":\"\"}},\"coloraxis\":{\"colorbar\":{\"outlinewidth\":0,\"ticks\":\"\"}},\"colorscale\":{\"sequential\":[[0.0,\"#0d0887\"],[0.1111111111111111,\"#46039f\"],[0.2222222222222222,\"#7201a8\"],[0.3333333333333333,\"#9c179e\"],[0.4444444444444444,\"#bd3786\"],[0.5555555555555556,\"#d8576b\"],[0.6666666666666666,\"#ed7953\"],[0.7777777777777778,\"#fb9f3a\"],[0.8888888888888888,\"#fdca26\"],[1.0,\"#f0f921\"]],\"sequentialminus\":[[0.0,\"#0d0887\"],[0.1111111111111111,\"#46039f\"],[0.2222222222222222,\"#7201a8\"],[0.3333333333333333,\"#9c179e\"],[0.4444444444444444,\"#bd3786\"],[0.5555555555555556,\"#d8576b\"],[0.6666666666666666,\"#ed7953\"],[0.7777777777777778,\"#fb9f3a\"],[0.8888888888888888,\"#fdca26\"],[1.0,\"#f0f921\"]],\"diverging\":[[0,\"#8e0152\"],[0.1,\"#c51b7d\"],[0.2,\"#de77ae\"],[0.3,\"#f1b6da\"],[0.4,\"#fde0ef\"],[0.5,\"#f7f7f7\"],[0.6,\"#e6f5d0\"],[0.7,\"#b8e186\"],[0.8,\"#7fbc41\"],[0.9,\"#4d9221\"],[1,\"#276419\"]]},\"xaxis\":{\"gridcolor\":\"white\",\"linecolor\":\"white\",\"ticks\":\"\",\"title\":{\"standoff\":15},\"zerolinecolor\":\"white\",\"automargin\":true,\"zerolinewidth\":2},\"yaxis\":{\"gridcolor\":\"white\",\"linecolor\":\"white\",\"ticks\":\"\",\"title\":{\"standoff\":15},\"zerolinecolor\":\"white\",\"automargin\":true,\"zerolinewidth\":2},\"scene\":{\"xaxis\":{\"backgroundcolor\":\"#E5ECF6\",\"gridcolor\":\"white\",\"linecolor\":\"white\",\"showbackground\":true,\"ticks\":\"\",\"zerolinecolor\":\"white\",\"gridwidth\":2},\"yaxis\":{\"backgroundcolor\":\"#E5ECF6\",\"gridcolor\":\"white\",\"linecolor\":\"white\",\"showbackground\":true,\"ticks\":\"\",\"zerolinecolor\":\"white\",\"gridwidth\":2},\"zaxis\":{\"backgroundcolor\":\"#E5ECF6\",\"gridcolor\":\"white\",\"linecolor\":\"white\",\"showbackground\":true,\"ticks\":\"\",\"zerolinecolor\":\"white\",\"gridwidth\":2}},\"shapedefaults\":{\"line\":{\"color\":\"#2a3f5f\"}},\"annotationdefaults\":{\"arrowcolor\":\"#2a3f5f\",\"arrowhead\":0,\"arrowwidth\":1},\"geo\":{\"bgcolor\":\"white\",\"landcolor\":\"#E5ECF6\",\"subunitcolor\":\"white\",\"showland\":true,\"showlakes\":true,\"lakecolor\":\"white\"},\"title\":{\"x\":0.05},\"mapbox\":{\"style\":\"light\"}}},\"xaxis\":{\"anchor\":\"y\",\"domain\":[0.0,1.0],\"title\":{\"text\":\"0\"}},\"yaxis\":{\"anchor\":\"x\",\"domain\":[0.0,1.0],\"title\":{\"text\":\"1\"}},\"legend\":{\"title\":{\"text\":\"labels\"},\"tracegroupgap\":0},\"margin\":{\"t\":60}},                        {\"responsive\": true}                    ).then(function(){\n",
       "                            \n",
       "var gd = document.getElementById('0f68d9d3-4644-4b0d-a3b4-2ed1b234103e');\n",
       "var x = new MutationObserver(function (mutations, observer) {{\n",
       "        var display = window.getComputedStyle(gd).display;\n",
       "        if (!display || display === 'none') {{\n",
       "            console.log([gd, 'removed!']);\n",
       "            Plotly.purge(gd);\n",
       "            observer.disconnect();\n",
       "        }}\n",
       "}});\n",
       "\n",
       "// Listen for the removal of the full notebook cells\n",
       "var notebookContainer = gd.closest('#notebook-container');\n",
       "if (notebookContainer) {{\n",
       "    x.observe(notebookContainer, {childList: true});\n",
       "}}\n",
       "\n",
       "// Listen for the clearing of the current output cell\n",
       "var outputEl = gd.closest('.output');\n",
       "if (outputEl) {{\n",
       "    x.observe(outputEl, {childList: true});\n",
       "}}\n",
       "\n",
       "                        })                };                });            </script>        </div>"
      ]
     },
     "metadata": {},
     "output_type": "display_data"
    }
   ],
   "source": [
    "# 18S\n",
    "scores_18S = pd.DataFrame(pca_results_18S[\"scores\"])\n",
    "scores_18S[\"labels\"] = labels_18S\n",
    "fig_18S = px.scatter(\n",
    "    scores_18S,\n",
    "    x = 0,\n",
    "    y = 1,\n",
    "    color = \"labels\"\n",
    ")\n",
    "fig_18S.show()"
   ]
  },
  {
   "cell_type": "markdown",
   "id": "15a75d62-3f1f-4e9f-88c3-2a757450f8d9",
   "metadata": {},
   "source": [
    "## Run multiple PCAs based on multiple random draws"
   ]
  },
  {
   "cell_type": "markdown",
   "id": "45e9dcf6-7923-4cb7-a567-9712091deecf",
   "metadata": {},
   "source": [
    "#### This creates data frames with scores and loadings for each ASV in each random draw"
   ]
  },
  {
   "cell_type": "markdown",
   "id": "6ab2977c-c883-469d-97a1-89afe86855b3",
   "metadata": {
    "tags": []
   },
   "source": [
    "#### This is a slow step that could be sped up!"
   ]
  },
  {
   "cell_type": "code",
   "execution_count": 10,
   "id": "1672bef7-dc9c-4922-80ef-d662f43a2e94",
   "metadata": {},
   "outputs": [],
   "source": [
    "num_reps = 100\n",
    "\n",
    "pca_list_16S =  [md.doPCA(md.ranRelPct(asvs_16S)) for i in range(num_reps)]\n",
    "pca_list_18S =  [md.doPCA(md.ranRelPct(asvs_18S)) for i in range(num_reps)]"
   ]
  },
  {
   "cell_type": "markdown",
   "id": "e37583c1-fb9a-4695-817b-894c656f305f",
   "metadata": {},
   "source": [
    "#### Pull out scores\n",
    "##### These are associated with each sample"
   ]
  },
  {
   "cell_type": "code",
   "execution_count": 12,
   "id": "f6d3edb6-ea86-488f-90ab-cb6a323d7ebe",
   "metadata": {},
   "outputs": [
    {
     "data": {
      "text/plain": [
       "0     [[-56.794759678030104, -1.7885282812627532, 15...\n",
       "1     [[-56.316531324298914, 2.536760558492138, 16.7...\n",
       "2     [[-57.010736175158236, -1.1906523052877287, 15...\n",
       "3     [[-54.93944988350951, 2.53514470253945, 16.324...\n",
       "4     [[-55.6017997604475, 5.33815128243242, 15.6762...\n",
       "                            ...                        \n",
       "95    [[-56.242676856536455, 8.036664649191284, 14.4...\n",
       "96    [[-57.44411850662497, -6.7093408565364205, 13....\n",
       "97    [[-55.79410981521834, 7.765832220191618, 15.35...\n",
       "98    [[-56.63355622325838, 7.240885943176597, 15.91...\n",
       "99    [[-54.45744809937028, -4.8064207115796105, 16....\n",
       "Name: scores, Length: 100, dtype: object"
      ]
     },
     "execution_count": 12,
     "metadata": {},
     "output_type": "execute_result"
    }
   ],
   "source": [
    "pd.DataFrame(pca_list_16S)[\"scores\"]"
   ]
  },
  {
   "cell_type": "markdown",
   "id": "a27a8a00-898b-4c4c-a2c7-16a26b32ea8e",
   "metadata": {},
   "source": [
    "#### Summarize loadings for first component\n",
    "##### Loading scores are associated with each ASV"
   ]
  },
  {
   "cell_type": "code",
   "execution_count": 13,
   "id": "ad9fd3a8-24f7-41a2-9ede-66c76dd86278",
   "metadata": {},
   "outputs": [],
   "source": [
    "# 16S\n",
    "loadings_16S = [x[\"loadings\"] for x in pca_list_16S]\n",
    "\n",
    "smry0_16S = md.loadingSummary(\n",
    "    loadings_16S, \n",
    "    pc = 0, \n",
    "    asv_labels = \n",
    "    asvs_16S.transpose().columns.values,\n",
    "    z_thresh = 3,\n",
    "    pct_outlier_thresh = 0.95\n",
    ")"
   ]
  },
  {
   "cell_type": "code",
   "execution_count": 14,
   "id": "5aa217a3-13cd-44c4-9a29-159cefa8b2ad",
   "metadata": {},
   "outputs": [],
   "source": [
    "loadings_18S = [x[\"loadings\"] for x in pca_list_18S]\n",
    "\n",
    "smry0_18S = md.loadingSummary(\n",
    "    loadings_18S, \n",
    "    pc = 0, \n",
    "    asv_labels = \n",
    "    asvs_18S.transpose().columns.values,\n",
    "    z_thresh = 3,\n",
    "    pct_outlier_thresh = 0.95\n",
    ")"
   ]
  },
  {
   "cell_type": "markdown",
   "id": "56dc6c71-f539-4500-8024-f2ea602ef73e",
   "metadata": {},
   "source": [
    "#### Positive loading ASVs on the first component (16S)"
   ]
  },
  {
   "cell_type": "code",
   "execution_count": 16,
   "id": "af2bcb24-49e5-4c6d-ab84-f4280cc74eff",
   "metadata": {},
   "outputs": [
    {
     "data": {
      "text/html": [
       "<div>\n",
       "<style scoped>\n",
       "    .dataframe tbody tr th:only-of-type {\n",
       "        vertical-align: middle;\n",
       "    }\n",
       "\n",
       "    .dataframe tbody tr th {\n",
       "        vertical-align: top;\n",
       "    }\n",
       "\n",
       "    .dataframe thead th {\n",
       "        text-align: right;\n",
       "    }\n",
       "</style>\n",
       "<table border=\"1\" class=\"dataframe\">\n",
       "  <thead>\n",
       "    <tr style=\"text-align: right;\">\n",
       "      <th></th>\n",
       "      <th>mean_loading</th>\n",
       "      <th>median_loading</th>\n",
       "      <th>mean_rank</th>\n",
       "      <th>median_rank</th>\n",
       "      <th>pct_outlier_IQR</th>\n",
       "      <th>pct_outlier_Z</th>\n",
       "    </tr>\n",
       "  </thead>\n",
       "  <tbody>\n",
       "    <tr>\n",
       "      <th>ASV_72</th>\n",
       "      <td>0.048724</td>\n",
       "      <td>0.048899</td>\n",
       "      <td>7076.47</td>\n",
       "      <td>7077.0</td>\n",
       "      <td>1.0</td>\n",
       "      <td>1.0</td>\n",
       "    </tr>\n",
       "    <tr>\n",
       "      <th>ASV_15</th>\n",
       "      <td>0.046196</td>\n",
       "      <td>0.046199</td>\n",
       "      <td>7075.29</td>\n",
       "      <td>7076.0</td>\n",
       "      <td>1.0</td>\n",
       "      <td>1.0</td>\n",
       "    </tr>\n",
       "    <tr>\n",
       "      <th>ASV_89</th>\n",
       "      <td>0.044432</td>\n",
       "      <td>0.044641</td>\n",
       "      <td>7074.07</td>\n",
       "      <td>7075.0</td>\n",
       "      <td>1.0</td>\n",
       "      <td>1.0</td>\n",
       "    </tr>\n",
       "  </tbody>\n",
       "</table>\n",
       "</div>"
      ],
      "text/plain": [
       "        mean_loading  median_loading  mean_rank  median_rank  pct_outlier_IQR  \\\n",
       "ASV_72      0.048724        0.048899    7076.47       7077.0              1.0   \n",
       "ASV_15      0.046196        0.046199    7075.29       7076.0              1.0   \n",
       "ASV_89      0.044432        0.044641    7074.07       7075.0              1.0   \n",
       "\n",
       "        pct_outlier_Z  \n",
       "ASV_72            1.0  \n",
       "ASV_15            1.0  \n",
       "ASV_89            1.0  "
      ]
     },
     "execution_count": 16,
     "metadata": {},
     "output_type": "execute_result"
    }
   ],
   "source": [
    "smry0_16S['positive'].head(3)"
   ]
  },
  {
   "cell_type": "markdown",
   "id": "17c2f547-e635-4359-bbdf-fa35ea399989",
   "metadata": {},
   "source": [
    "#### Negative loading ASVs on the first component (16S)"
   ]
  },
  {
   "cell_type": "code",
   "execution_count": 17,
   "id": "a33dd048-0304-40cb-a34e-62f901035f88",
   "metadata": {},
   "outputs": [
    {
     "data": {
      "text/html": [
       "<div>\n",
       "<style scoped>\n",
       "    .dataframe tbody tr th:only-of-type {\n",
       "        vertical-align: middle;\n",
       "    }\n",
       "\n",
       "    .dataframe tbody tr th {\n",
       "        vertical-align: top;\n",
       "    }\n",
       "\n",
       "    .dataframe thead th {\n",
       "        text-align: right;\n",
       "    }\n",
       "</style>\n",
       "<table border=\"1\" class=\"dataframe\">\n",
       "  <thead>\n",
       "    <tr style=\"text-align: right;\">\n",
       "      <th></th>\n",
       "      <th>mean_loading</th>\n",
       "      <th>median_loading</th>\n",
       "      <th>mean_rank</th>\n",
       "      <th>median_rank</th>\n",
       "      <th>pct_outlier_IQR</th>\n",
       "      <th>pct_outlier_Z</th>\n",
       "    </tr>\n",
       "  </thead>\n",
       "  <tbody>\n",
       "    <tr>\n",
       "      <th>ASV_2</th>\n",
       "      <td>-0.075493</td>\n",
       "      <td>-0.075388</td>\n",
       "      <td>1.08</td>\n",
       "      <td>1.0</td>\n",
       "      <td>1.0</td>\n",
       "      <td>1.0</td>\n",
       "    </tr>\n",
       "    <tr>\n",
       "      <th>ASV_27</th>\n",
       "      <td>-0.072152</td>\n",
       "      <td>-0.072222</td>\n",
       "      <td>2.12</td>\n",
       "      <td>2.0</td>\n",
       "      <td>1.0</td>\n",
       "      <td>1.0</td>\n",
       "    </tr>\n",
       "    <tr>\n",
       "      <th>ASV_32</th>\n",
       "      <td>-0.069268</td>\n",
       "      <td>-0.069051</td>\n",
       "      <td>3.35</td>\n",
       "      <td>3.0</td>\n",
       "      <td>1.0</td>\n",
       "      <td>1.0</td>\n",
       "    </tr>\n",
       "  </tbody>\n",
       "</table>\n",
       "</div>"
      ],
      "text/plain": [
       "        mean_loading  median_loading  mean_rank  median_rank  pct_outlier_IQR  \\\n",
       "ASV_2      -0.075493       -0.075388       1.08          1.0              1.0   \n",
       "ASV_27     -0.072152       -0.072222       2.12          2.0              1.0   \n",
       "ASV_32     -0.069268       -0.069051       3.35          3.0              1.0   \n",
       "\n",
       "        pct_outlier_Z  \n",
       "ASV_2             1.0  \n",
       "ASV_27            1.0  \n",
       "ASV_32            1.0  "
      ]
     },
     "execution_count": 17,
     "metadata": {},
     "output_type": "execute_result"
    }
   ],
   "source": [
    "smry0_16S['negative'].head(3)"
   ]
  },
  {
   "cell_type": "markdown",
   "id": "d14c9b9a-28a1-47dd-80f9-70968ea7643e",
   "metadata": {
    "tags": []
   },
   "source": [
    "## Summarize loadings for all components"
   ]
  },
  {
   "cell_type": "markdown",
   "id": "6ee2dd02-6759-40e1-8629-6b0569a55820",
   "metadata": {},
   "source": [
    "#### This is a very slow step that could be sped up!"
   ]
  },
  {
   "cell_type": "code",
   "execution_count": 19,
   "id": "6a431ce5-c87c-4a2d-bed7-e1099cc778cb",
   "metadata": {},
   "outputs": [],
   "source": [
    "# 16S\n",
    "smry_all_16S = [\n",
    "    md.loadingSummary(\n",
    "        loadings_16S, \n",
    "        pc = pc, \n",
    "        asv_labels = \n",
    "        asvs_16S.transpose().columns.values,\n",
    "        z_thresh = 3,\n",
    "        pct_outlier_thresh = 0.95\n",
    "    ) for pc in range(len(loadings_16S))\n",
    "]"
   ]
  },
  {
   "cell_type": "code",
   "execution_count": 22,
   "id": "340856f2-d78a-4223-bb86-182df32921df",
   "metadata": {},
   "outputs": [],
   "source": [
    "# 18S\n",
    "smry_all_18S = [\n",
    "    md.loadingSummary(\n",
    "        loadings_18S, \n",
    "        pc = pc, \n",
    "        asv_labels = \n",
    "        asvs_18S.transpose().columns.values,\n",
    "        z_thresh = 3,\n",
    "        pct_outlier_thresh = 0.95\n",
    "    ) for pc in range(len(loadings_18S))\n",
    "]"
   ]
  },
  {
   "cell_type": "code",
   "execution_count": 24,
   "id": "308d6946-cbad-4459-b0ed-b24f90f4e853",
   "metadata": {},
   "outputs": [
    {
     "data": {
      "text/html": [
       "<div>\n",
       "<style scoped>\n",
       "    .dataframe tbody tr th:only-of-type {\n",
       "        vertical-align: middle;\n",
       "    }\n",
       "\n",
       "    .dataframe tbody tr th {\n",
       "        vertical-align: top;\n",
       "    }\n",
       "\n",
       "    .dataframe thead th {\n",
       "        text-align: right;\n",
       "    }\n",
       "</style>\n",
       "<table border=\"1\" class=\"dataframe\">\n",
       "  <thead>\n",
       "    <tr style=\"text-align: right;\">\n",
       "      <th></th>\n",
       "      <th>mean_loading</th>\n",
       "      <th>median_loading</th>\n",
       "      <th>mean_rank</th>\n",
       "      <th>median_rank</th>\n",
       "      <th>pct_outlier_IQR</th>\n",
       "      <th>pct_outlier_Z</th>\n",
       "    </tr>\n",
       "  </thead>\n",
       "  <tbody>\n",
       "    <tr>\n",
       "      <th>ASV_72</th>\n",
       "      <td>0.048724</td>\n",
       "      <td>0.048899</td>\n",
       "      <td>7076.47</td>\n",
       "      <td>7077.0</td>\n",
       "      <td>1.0</td>\n",
       "      <td>1.0</td>\n",
       "    </tr>\n",
       "    <tr>\n",
       "      <th>ASV_15</th>\n",
       "      <td>0.046196</td>\n",
       "      <td>0.046199</td>\n",
       "      <td>7075.29</td>\n",
       "      <td>7076.0</td>\n",
       "      <td>1.0</td>\n",
       "      <td>1.0</td>\n",
       "    </tr>\n",
       "    <tr>\n",
       "      <th>ASV_89</th>\n",
       "      <td>0.044432</td>\n",
       "      <td>0.044641</td>\n",
       "      <td>7074.07</td>\n",
       "      <td>7075.0</td>\n",
       "      <td>1.0</td>\n",
       "      <td>1.0</td>\n",
       "    </tr>\n",
       "  </tbody>\n",
       "</table>\n",
       "</div>"
      ],
      "text/plain": [
       "        mean_loading  median_loading  mean_rank  median_rank  pct_outlier_IQR  \\\n",
       "ASV_72      0.048724        0.048899    7076.47       7077.0              1.0   \n",
       "ASV_15      0.046196        0.046199    7075.29       7076.0              1.0   \n",
       "ASV_89      0.044432        0.044641    7074.07       7075.0              1.0   \n",
       "\n",
       "        pct_outlier_Z  \n",
       "ASV_72            1.0  \n",
       "ASV_15            1.0  \n",
       "ASV_89            1.0  "
      ]
     },
     "execution_count": 24,
     "metadata": {},
     "output_type": "execute_result"
    }
   ],
   "source": [
    "smry_all_16S[2]['positive'].head(3)"
   ]
  },
  {
   "cell_type": "code",
   "execution_count": 25,
   "id": "53e1f27b-671e-4082-94d9-7f47317b1152",
   "metadata": {},
   "outputs": [
    {
     "data": {
      "text/html": [
       "<div>\n",
       "<style scoped>\n",
       "    .dataframe tbody tr th:only-of-type {\n",
       "        vertical-align: middle;\n",
       "    }\n",
       "\n",
       "    .dataframe tbody tr th {\n",
       "        vertical-align: top;\n",
       "    }\n",
       "\n",
       "    .dataframe thead th {\n",
       "        text-align: right;\n",
       "    }\n",
       "</style>\n",
       "<table border=\"1\" class=\"dataframe\">\n",
       "  <thead>\n",
       "    <tr style=\"text-align: right;\">\n",
       "      <th></th>\n",
       "      <th>mean_loading</th>\n",
       "      <th>median_loading</th>\n",
       "      <th>mean_rank</th>\n",
       "      <th>median_rank</th>\n",
       "      <th>pct_outlier_IQR</th>\n",
       "      <th>pct_outlier_Z</th>\n",
       "    </tr>\n",
       "  </thead>\n",
       "  <tbody>\n",
       "    <tr>\n",
       "      <th>ASV_2</th>\n",
       "      <td>-0.075493</td>\n",
       "      <td>-0.075388</td>\n",
       "      <td>1.08</td>\n",
       "      <td>1.0</td>\n",
       "      <td>1.0</td>\n",
       "      <td>1.0</td>\n",
       "    </tr>\n",
       "    <tr>\n",
       "      <th>ASV_27</th>\n",
       "      <td>-0.072152</td>\n",
       "      <td>-0.072222</td>\n",
       "      <td>2.12</td>\n",
       "      <td>2.0</td>\n",
       "      <td>1.0</td>\n",
       "      <td>1.0</td>\n",
       "    </tr>\n",
       "    <tr>\n",
       "      <th>ASV_32</th>\n",
       "      <td>-0.069268</td>\n",
       "      <td>-0.069051</td>\n",
       "      <td>3.35</td>\n",
       "      <td>3.0</td>\n",
       "      <td>1.0</td>\n",
       "      <td>1.0</td>\n",
       "    </tr>\n",
       "  </tbody>\n",
       "</table>\n",
       "</div>"
      ],
      "text/plain": [
       "        mean_loading  median_loading  mean_rank  median_rank  pct_outlier_IQR  \\\n",
       "ASV_2      -0.075493       -0.075388       1.08          1.0              1.0   \n",
       "ASV_27     -0.072152       -0.072222       2.12          2.0              1.0   \n",
       "ASV_32     -0.069268       -0.069051       3.35          3.0              1.0   \n",
       "\n",
       "        pct_outlier_Z  \n",
       "ASV_2             1.0  \n",
       "ASV_27            1.0  \n",
       "ASV_32            1.0  "
      ]
     },
     "execution_count": 25,
     "metadata": {},
     "output_type": "execute_result"
    }
   ],
   "source": [
    "smry_all_16S[2]['negative'].head(3)"
   ]
  },
  {
   "cell_type": "code",
   "execution_count": 26,
   "id": "043db668-cca7-4e71-a748-81a86c1dc639",
   "metadata": {},
   "outputs": [
    {
     "data": {
      "text/html": [
       "<div>\n",
       "<style scoped>\n",
       "    .dataframe tbody tr th:only-of-type {\n",
       "        vertical-align: middle;\n",
       "    }\n",
       "\n",
       "    .dataframe tbody tr th {\n",
       "        vertical-align: top;\n",
       "    }\n",
       "\n",
       "    .dataframe thead th {\n",
       "        text-align: right;\n",
       "    }\n",
       "</style>\n",
       "<table border=\"1\" class=\"dataframe\">\n",
       "  <thead>\n",
       "    <tr style=\"text-align: right;\">\n",
       "      <th></th>\n",
       "      <th>mean_loading</th>\n",
       "      <th>median_loading</th>\n",
       "      <th>mean_rank</th>\n",
       "      <th>median_rank</th>\n",
       "      <th>pct_outlier_IQR</th>\n",
       "      <th>pct_outlier_Z</th>\n",
       "    </tr>\n",
       "  </thead>\n",
       "  <tbody>\n",
       "    <tr>\n",
       "      <th>ASV_15</th>\n",
       "      <td>0.039276</td>\n",
       "      <td>0.039285</td>\n",
       "      <td>10475.00</td>\n",
       "      <td>10475.0</td>\n",
       "      <td>1.0</td>\n",
       "      <td>1.0</td>\n",
       "    </tr>\n",
       "    <tr>\n",
       "      <th>ASV_163</th>\n",
       "      <td>0.033035</td>\n",
       "      <td>0.033161</td>\n",
       "      <td>10471.82</td>\n",
       "      <td>10473.0</td>\n",
       "      <td>1.0</td>\n",
       "      <td>1.0</td>\n",
       "    </tr>\n",
       "    <tr>\n",
       "      <th>ASV_29</th>\n",
       "      <td>0.033003</td>\n",
       "      <td>0.032965</td>\n",
       "      <td>10472.11</td>\n",
       "      <td>10473.0</td>\n",
       "      <td>1.0</td>\n",
       "      <td>1.0</td>\n",
       "    </tr>\n",
       "  </tbody>\n",
       "</table>\n",
       "</div>"
      ],
      "text/plain": [
       "         mean_loading  median_loading  mean_rank  median_rank  \\\n",
       "ASV_15       0.039276        0.039285   10475.00      10475.0   \n",
       "ASV_163      0.033035        0.033161   10471.82      10473.0   \n",
       "ASV_29       0.033003        0.032965   10472.11      10473.0   \n",
       "\n",
       "         pct_outlier_IQR  pct_outlier_Z  \n",
       "ASV_15               1.0            1.0  \n",
       "ASV_163              1.0            1.0  \n",
       "ASV_29               1.0            1.0  "
      ]
     },
     "execution_count": 26,
     "metadata": {},
     "output_type": "execute_result"
    }
   ],
   "source": [
    "smry_all_18S[2]['positive'].head(3)"
   ]
  },
  {
   "cell_type": "code",
   "execution_count": 27,
   "id": "846b8c41-0369-4626-8f44-e6beeec576d2",
   "metadata": {},
   "outputs": [
    {
     "data": {
      "text/html": [
       "<div>\n",
       "<style scoped>\n",
       "    .dataframe tbody tr th:only-of-type {\n",
       "        vertical-align: middle;\n",
       "    }\n",
       "\n",
       "    .dataframe tbody tr th {\n",
       "        vertical-align: top;\n",
       "    }\n",
       "\n",
       "    .dataframe thead th {\n",
       "        text-align: right;\n",
       "    }\n",
       "</style>\n",
       "<table border=\"1\" class=\"dataframe\">\n",
       "  <thead>\n",
       "    <tr style=\"text-align: right;\">\n",
       "      <th></th>\n",
       "      <th>mean_loading</th>\n",
       "      <th>median_loading</th>\n",
       "      <th>mean_rank</th>\n",
       "      <th>median_rank</th>\n",
       "      <th>pct_outlier_IQR</th>\n",
       "      <th>pct_outlier_Z</th>\n",
       "    </tr>\n",
       "  </thead>\n",
       "  <tbody>\n",
       "    <tr>\n",
       "      <th>ASV_3</th>\n",
       "      <td>-0.035798</td>\n",
       "      <td>-0.035523</td>\n",
       "      <td>1.05</td>\n",
       "      <td>1.0</td>\n",
       "      <td>1.0</td>\n",
       "      <td>1.0</td>\n",
       "    </tr>\n",
       "    <tr>\n",
       "      <th>ASV_1</th>\n",
       "      <td>-0.033425</td>\n",
       "      <td>-0.033500</td>\n",
       "      <td>1.95</td>\n",
       "      <td>2.0</td>\n",
       "      <td>1.0</td>\n",
       "      <td>1.0</td>\n",
       "    </tr>\n",
       "    <tr>\n",
       "      <th>ASV_13</th>\n",
       "      <td>-0.029328</td>\n",
       "      <td>-0.029377</td>\n",
       "      <td>3.44</td>\n",
       "      <td>3.0</td>\n",
       "      <td>1.0</td>\n",
       "      <td>1.0</td>\n",
       "    </tr>\n",
       "  </tbody>\n",
       "</table>\n",
       "</div>"
      ],
      "text/plain": [
       "        mean_loading  median_loading  mean_rank  median_rank  pct_outlier_IQR  \\\n",
       "ASV_3      -0.035798       -0.035523       1.05          1.0              1.0   \n",
       "ASV_1      -0.033425       -0.033500       1.95          2.0              1.0   \n",
       "ASV_13     -0.029328       -0.029377       3.44          3.0              1.0   \n",
       "\n",
       "        pct_outlier_Z  \n",
       "ASV_3             1.0  \n",
       "ASV_1             1.0  \n",
       "ASV_13            1.0  "
      ]
     },
     "execution_count": 27,
     "metadata": {},
     "output_type": "execute_result"
    }
   ],
   "source": [
    "smry_all_18S[2]['negative'].head(3)"
   ]
  },
  {
   "cell_type": "markdown",
   "id": "51e6cc76-93a3-40cd-a55a-7fa06e0f4e34",
   "metadata": {
    "tags": []
   },
   "source": [
    "#### Extract the defining ASVs for the third component from the smry_all list"
   ]
  },
  {
   "cell_type": "code",
   "execution_count": 29,
   "id": "3f26ed76-ec39-43d4-80a5-3595f171a44c",
   "metadata": {},
   "outputs": [
    {
     "data": {
      "text/html": [
       "<div>\n",
       "<style scoped>\n",
       "    .dataframe tbody tr th:only-of-type {\n",
       "        vertical-align: middle;\n",
       "    }\n",
       "\n",
       "    .dataframe tbody tr th {\n",
       "        vertical-align: top;\n",
       "    }\n",
       "\n",
       "    .dataframe thead th {\n",
       "        text-align: right;\n",
       "    }\n",
       "</style>\n",
       "<table border=\"1\" class=\"dataframe\">\n",
       "  <thead>\n",
       "    <tr style=\"text-align: right;\">\n",
       "      <th></th>\n",
       "      <th>0</th>\n",
       "      <th>1</th>\n",
       "      <th>2</th>\n",
       "      <th>3</th>\n",
       "      <th>4</th>\n",
       "      <th>5</th>\n",
       "      <th>6</th>\n",
       "      <th>7</th>\n",
       "      <th>8</th>\n",
       "      <th>9</th>\n",
       "      <th>...</th>\n",
       "      <th>90</th>\n",
       "      <th>91</th>\n",
       "      <th>92</th>\n",
       "      <th>93</th>\n",
       "      <th>94</th>\n",
       "      <th>95</th>\n",
       "      <th>96</th>\n",
       "      <th>97</th>\n",
       "      <th>98</th>\n",
       "      <th>99</th>\n",
       "    </tr>\n",
       "  </thead>\n",
       "  <tbody>\n",
       "    <tr>\n",
       "      <th>ASV_72</th>\n",
       "      <td>0.053906</td>\n",
       "      <td>0.046194</td>\n",
       "      <td>0.056242</td>\n",
       "      <td>0.049464</td>\n",
       "      <td>0.045239</td>\n",
       "      <td>0.039541</td>\n",
       "      <td>0.048083</td>\n",
       "      <td>0.050631</td>\n",
       "      <td>0.046081</td>\n",
       "      <td>0.048950</td>\n",
       "      <td>...</td>\n",
       "      <td>0.050513</td>\n",
       "      <td>0.045867</td>\n",
       "      <td>0.050557</td>\n",
       "      <td>0.052524</td>\n",
       "      <td>0.053899</td>\n",
       "      <td>0.051235</td>\n",
       "      <td>0.053743</td>\n",
       "      <td>0.047769</td>\n",
       "      <td>0.052054</td>\n",
       "      <td>0.050484</td>\n",
       "    </tr>\n",
       "    <tr>\n",
       "      <th>ASV_15</th>\n",
       "      <td>0.044549</td>\n",
       "      <td>0.041594</td>\n",
       "      <td>0.041461</td>\n",
       "      <td>0.046474</td>\n",
       "      <td>0.044692</td>\n",
       "      <td>0.050816</td>\n",
       "      <td>0.044171</td>\n",
       "      <td>0.053228</td>\n",
       "      <td>0.049368</td>\n",
       "      <td>0.042837</td>\n",
       "      <td>...</td>\n",
       "      <td>0.045066</td>\n",
       "      <td>0.049177</td>\n",
       "      <td>0.049601</td>\n",
       "      <td>0.048361</td>\n",
       "      <td>0.048962</td>\n",
       "      <td>0.045100</td>\n",
       "      <td>0.047587</td>\n",
       "      <td>0.045671</td>\n",
       "      <td>0.041094</td>\n",
       "      <td>0.050604</td>\n",
       "    </tr>\n",
       "    <tr>\n",
       "      <th>ASV_89</th>\n",
       "      <td>0.047292</td>\n",
       "      <td>0.048937</td>\n",
       "      <td>0.037473</td>\n",
       "      <td>0.044677</td>\n",
       "      <td>0.041966</td>\n",
       "      <td>0.041197</td>\n",
       "      <td>0.046021</td>\n",
       "      <td>0.044024</td>\n",
       "      <td>0.043673</td>\n",
       "      <td>0.044596</td>\n",
       "      <td>...</td>\n",
       "      <td>0.047047</td>\n",
       "      <td>0.045560</td>\n",
       "      <td>0.045741</td>\n",
       "      <td>0.046174</td>\n",
       "      <td>0.042567</td>\n",
       "      <td>0.043326</td>\n",
       "      <td>0.038766</td>\n",
       "      <td>0.040407</td>\n",
       "      <td>0.044472</td>\n",
       "      <td>0.041815</td>\n",
       "    </tr>\n",
       "  </tbody>\n",
       "</table>\n",
       "<p>3 rows × 100 columns</p>\n",
       "</div>"
      ],
      "text/plain": [
       "              0         1         2         3         4         5         6   \\\n",
       "ASV_72  0.053906  0.046194  0.056242  0.049464  0.045239  0.039541  0.048083   \n",
       "ASV_15  0.044549  0.041594  0.041461  0.046474  0.044692  0.050816  0.044171   \n",
       "ASV_89  0.047292  0.048937  0.037473  0.044677  0.041966  0.041197  0.046021   \n",
       "\n",
       "              7         8         9   ...        90        91        92  \\\n",
       "ASV_72  0.050631  0.046081  0.048950  ...  0.050513  0.045867  0.050557   \n",
       "ASV_15  0.053228  0.049368  0.042837  ...  0.045066  0.049177  0.049601   \n",
       "ASV_89  0.044024  0.043673  0.044596  ...  0.047047  0.045560  0.045741   \n",
       "\n",
       "              93        94        95        96        97        98        99  \n",
       "ASV_72  0.052524  0.053899  0.051235  0.053743  0.047769  0.052054  0.050484  \n",
       "ASV_15  0.048361  0.048962  0.045100  0.047587  0.045671  0.041094  0.050604  \n",
       "ASV_89  0.046174  0.042567  0.043326  0.038766  0.040407  0.044472  0.041815  \n",
       "\n",
       "[3 rows x 100 columns]"
      ]
     },
     "execution_count": 29,
     "metadata": {},
     "output_type": "execute_result"
    }
   ],
   "source": [
    "smry_all_16S[2]['metrics']['loadings'].head(3)"
   ]
  },
  {
   "cell_type": "markdown",
   "id": "1f55d364-27a1-4eee-bdbb-6d312d9c91a0",
   "metadata": {},
   "source": [
    "### Loadings heat map"
   ]
  },
  {
   "cell_type": "markdown",
   "id": "22a0ebf8-2920-41ee-abb4-d9252ac5b917",
   "metadata": {},
   "source": [
    "##### To do: import taxonomy list and link taxon names with ASVs. Group ASVs by phylum/class?"
   ]
  },
  {
   "cell_type": "code",
   "execution_count": 31,
   "id": "b2efc3ab-888d-4855-a962-79d1359bc14e",
   "metadata": {},
   "outputs": [],
   "source": [
    "import plotly.io as pio\n",
    "pio.renderers.default = 'iframe' # or 'colab' or 'iframe' or 'iframe_connected' or 'sphinx_gallery'"
   ]
  },
  {
   "cell_type": "code",
   "execution_count": 32,
   "id": "db6c0a95-d80c-475f-842e-efaaead54956",
   "metadata": {},
   "outputs": [
    {
     "data": {
      "text/html": [
       "<iframe\n",
       "    scrolling=\"no\"\n",
       "    width=\"100%\"\n",
       "    height=\"545px\"\n",
       "    src=\"iframe_figures/figure_32.html\"\n",
       "    frameborder=\"0\"\n",
       "    allowfullscreen\n",
       "></iframe>\n"
      ]
     },
     "metadata": {},
     "output_type": "display_data"
    }
   ],
   "source": [
    "fig = px.imshow(smry_all_16S[0]['metrics']['loadings'])\n",
    "fig.show()"
   ]
  },
  {
   "cell_type": "code",
   "execution_count": 33,
   "id": "65cecc89-1766-46cd-858b-0303ebce0be9",
   "metadata": {},
   "outputs": [
    {
     "data": {
      "text/html": [
       "<iframe\n",
       "    scrolling=\"no\"\n",
       "    width=\"100%\"\n",
       "    height=\"545px\"\n",
       "    src=\"iframe_figures/figure_33.html\"\n",
       "    frameborder=\"0\"\n",
       "    allowfullscreen\n",
       "></iframe>\n"
      ]
     },
     "metadata": {},
     "output_type": "display_data"
    }
   ],
   "source": [
    "fig = px.imshow(smry_all_18S[0]['metrics']['loadings'])\n",
    "fig.show()"
   ]
  },
  {
   "cell_type": "markdown",
   "id": "df1e6fb8-662e-406f-af75-022a5d216374",
   "metadata": {},
   "source": [
    "## 03. Hierarchical Clustering"
   ]
  },
  {
   "cell_type": "markdown",
   "id": "bd16041c-6301-4b89-a072-ff2bdbd378bc",
   "metadata": {},
   "source": [
    "### Cluster samples based on n_rep random draws and n_clust clusters"
   ]
  },
  {
   "cell_type": "code",
   "execution_count": 10,
   "id": "661b0ba0-27fd-45c4-9354-ec340c617cdb",
   "metadata": {},
   "outputs": [
    {
     "data": {
      "text/html": [
       "<div>\n",
       "<style scoped>\n",
       "    .dataframe tbody tr th:only-of-type {\n",
       "        vertical-align: middle;\n",
       "    }\n",
       "\n",
       "    .dataframe tbody tr th {\n",
       "        vertical-align: top;\n",
       "    }\n",
       "\n",
       "    .dataframe thead th {\n",
       "        text-align: right;\n",
       "    }\n",
       "</style>\n",
       "<table border=\"1\" class=\"dataframe\">\n",
       "  <thead>\n",
       "    <tr style=\"text-align: right;\">\n",
       "      <th></th>\n",
       "      <th>0</th>\n",
       "      <th>1</th>\n",
       "      <th>2</th>\n",
       "      <th>3</th>\n",
       "      <th>4</th>\n",
       "      <th>5</th>\n",
       "      <th>6</th>\n",
       "      <th>7</th>\n",
       "      <th>8</th>\n",
       "      <th>9</th>\n",
       "    </tr>\n",
       "  </thead>\n",
       "  <tbody>\n",
       "    <tr>\n",
       "      <th>0</th>\n",
       "      <td>1</td>\n",
       "      <td>1</td>\n",
       "      <td>1</td>\n",
       "      <td>1</td>\n",
       "      <td>1</td>\n",
       "      <td>1</td>\n",
       "      <td>1</td>\n",
       "      <td>1</td>\n",
       "      <td>1</td>\n",
       "      <td>1</td>\n",
       "    </tr>\n",
       "    <tr>\n",
       "      <th>1</th>\n",
       "      <td>1</td>\n",
       "      <td>1</td>\n",
       "      <td>1</td>\n",
       "      <td>1</td>\n",
       "      <td>1</td>\n",
       "      <td>1</td>\n",
       "      <td>1</td>\n",
       "      <td>1</td>\n",
       "      <td>1</td>\n",
       "      <td>1</td>\n",
       "    </tr>\n",
       "    <tr>\n",
       "      <th>2</th>\n",
       "      <td>1</td>\n",
       "      <td>1</td>\n",
       "      <td>1</td>\n",
       "      <td>1</td>\n",
       "      <td>1</td>\n",
       "      <td>1</td>\n",
       "      <td>1</td>\n",
       "      <td>1</td>\n",
       "      <td>1</td>\n",
       "      <td>1</td>\n",
       "    </tr>\n",
       "  </tbody>\n",
       "</table>\n",
       "</div>"
      ],
      "text/plain": [
       "   0  1  2  3  4  5  6  7  8  9\n",
       "0  1  1  1  1  1  1  1  1  1  1\n",
       "1  1  1  1  1  1  1  1  1  1  1\n",
       "2  1  1  1  1  1  1  1  1  1  1"
      ]
     },
     "execution_count": 10,
     "metadata": {},
     "output_type": "execute_result"
    }
   ],
   "source": [
    "# 16S\n",
    "n_clust = 8\n",
    "n_rep = 10\n",
    " \n",
    "cluster_samples_16S = [md.doClustering(md.ranRelPct(asvs_16S), \n",
    "                                       n_clust) for i in range(n_rep)]\n",
    "cluster_samples_16S = pd.DataFrame(cluster_samples_16S).transpose()\n",
    "cluster_samples_16S.head(3)"
   ]
  },
  {
   "cell_type": "code",
   "execution_count": 11,
   "id": "7d8c1700-68a6-4fd5-8d6d-ce916b2a5520",
   "metadata": {},
   "outputs": [
    {
     "data": {
      "text/html": [
       "<div>\n",
       "<style scoped>\n",
       "    .dataframe tbody tr th:only-of-type {\n",
       "        vertical-align: middle;\n",
       "    }\n",
       "\n",
       "    .dataframe tbody tr th {\n",
       "        vertical-align: top;\n",
       "    }\n",
       "\n",
       "    .dataframe thead th {\n",
       "        text-align: right;\n",
       "    }\n",
       "</style>\n",
       "<table border=\"1\" class=\"dataframe\">\n",
       "  <thead>\n",
       "    <tr style=\"text-align: right;\">\n",
       "      <th></th>\n",
       "      <th>0</th>\n",
       "      <th>1</th>\n",
       "      <th>2</th>\n",
       "      <th>3</th>\n",
       "      <th>4</th>\n",
       "      <th>5</th>\n",
       "      <th>6</th>\n",
       "      <th>7</th>\n",
       "      <th>8</th>\n",
       "      <th>9</th>\n",
       "    </tr>\n",
       "  </thead>\n",
       "  <tbody>\n",
       "    <tr>\n",
       "      <th>0</th>\n",
       "      <td>0</td>\n",
       "      <td>7</td>\n",
       "      <td>7</td>\n",
       "      <td>7</td>\n",
       "      <td>7</td>\n",
       "      <td>7</td>\n",
       "      <td>7</td>\n",
       "      <td>7</td>\n",
       "      <td>7</td>\n",
       "      <td>0</td>\n",
       "    </tr>\n",
       "    <tr>\n",
       "      <th>1</th>\n",
       "      <td>0</td>\n",
       "      <td>4</td>\n",
       "      <td>3</td>\n",
       "      <td>3</td>\n",
       "      <td>3</td>\n",
       "      <td>3</td>\n",
       "      <td>3</td>\n",
       "      <td>3</td>\n",
       "      <td>3</td>\n",
       "      <td>0</td>\n",
       "    </tr>\n",
       "    <tr>\n",
       "      <th>2</th>\n",
       "      <td>0</td>\n",
       "      <td>4</td>\n",
       "      <td>3</td>\n",
       "      <td>3</td>\n",
       "      <td>3</td>\n",
       "      <td>3</td>\n",
       "      <td>3</td>\n",
       "      <td>3</td>\n",
       "      <td>3</td>\n",
       "      <td>0</td>\n",
       "    </tr>\n",
       "  </tbody>\n",
       "</table>\n",
       "</div>"
      ],
      "text/plain": [
       "   0  1  2  3  4  5  6  7  8  9\n",
       "0  0  7  7  7  7  7  7  7  7  0\n",
       "1  0  4  3  3  3  3  3  3  3  0\n",
       "2  0  4  3  3  3  3  3  3  3  0"
      ]
     },
     "execution_count": 11,
     "metadata": {},
     "output_type": "execute_result"
    }
   ],
   "source": [
    "# 18S\n",
    "n_clust = 8\n",
    "n_rep = 10\n",
    " \n",
    "cluster_samples_18S = [md.doClustering(md.ranRelPct(asvs_18S), n_clust) for i in range(n_rep)]\n",
    "cluster_samples_18S = pd.DataFrame(cluster_samples_18S).transpose()\n",
    "cluster_samples_18S.head(3)"
   ]
  },
  {
   "cell_type": "markdown",
   "id": "9ea599da-fa7f-4cc6-a9f4-b601cb132344",
   "metadata": {},
   "source": [
    "### Assign n_clusters based n_rep draws of ASV df and return percent of draws that had same relative cluster assignments"
   ]
  },
  {
   "cell_type": "code",
   "execution_count": 12,
   "id": "385fc025-fa7d-4001-998f-fe18c4f5a489",
   "metadata": {},
   "outputs": [],
   "source": [
    "import itertools"
   ]
  },
  {
   "cell_type": "code",
   "execution_count": 16,
   "id": "eb52759f-8db0-4fc9-98e3-40ea827ecda5",
   "metadata": {},
   "outputs": [
    {
     "name": "stdout",
     "output_type": "stream",
     "text": [
      "CPU times: user 16min 13s, sys: 12.6 s, total: 16min 26s\n",
      "Wall time: 16min 25s\n"
     ]
    }
   ],
   "source": [
    "%%time\n",
    "# Code to return pct of draws that had the same relative cluster assignment for 2 to [num_samples] clusters for n_rep replicates\n",
    "# NB: This takes a long time to run!! 16 min for 10 replicates\n",
    "\n",
    "n_rep = 10\n",
    "num_clust_16S = np.arange(2, asvs_16S.shape[1] + 1)\n",
    "pct_same_16S = [md.pctSame(asvs_16S, x, n_rep) for x in num_clust_16S]"
   ]
  },
  {
   "cell_type": "code",
   "execution_count": 17,
   "id": "a420b420-03f3-4e81-b926-9db73b670629",
   "metadata": {},
   "outputs": [
    {
     "data": {
      "application/vnd.plotly.v1+json": {
       "config": {
        "plotlyServerURL": "https://plot.ly"
       },
       "data": [
        {
         "hovertemplate": "x=%{x}<br>y=%{y}<extra></extra>",
         "legendgroup": "",
         "line": {
          "color": "#636efa",
          "dash": "solid"
         },
         "marker": {
          "symbol": "circle"
         },
         "mode": "lines",
         "name": "",
         "orientation": "v",
         "showlegend": false,
         "type": "scatter",
         "x": [
          2,
          3,
          4,
          5,
          6,
          7,
          8,
          9,
          10,
          11,
          12,
          13,
          14,
          15,
          16,
          17,
          18,
          19,
          20,
          21,
          22,
          23,
          24,
          25,
          26,
          27,
          28,
          29,
          30,
          31,
          32,
          33,
          34,
          35,
          36,
          37,
          38,
          39,
          40,
          41,
          42,
          43,
          44,
          45,
          46,
          47,
          48,
          49,
          50,
          51,
          52,
          53,
          54,
          55,
          56,
          57,
          58,
          59,
          60,
          61,
          62,
          63,
          64,
          65,
          66,
          67,
          68,
          69,
          70,
          71,
          72,
          73,
          74,
          75,
          76,
          77,
          78,
          79,
          80,
          81,
          82,
          83,
          84,
          85,
          86,
          87,
          88,
          89,
          90,
          91,
          92,
          93,
          94,
          95,
          96,
          97,
          98,
          99,
          100,
          101,
          102,
          103,
          104,
          105,
          106,
          107,
          108,
          109,
          110,
          111,
          112,
          113,
          114,
          115,
          116,
          117,
          118,
          119,
          120,
          121,
          122,
          123,
          124,
          125,
          126,
          127,
          128,
          129,
          130,
          131
         ],
         "xaxis": "x",
         "y": [
          99.69465648854961,
          97.21432765707574,
          99.70522607163828,
          99.29183793305931,
          98.11156782149149,
          98.66118614210217,
          99.39635936582502,
          98.89489136817382,
          98.21491485613623,
          98.33940105695831,
          97.68408690546094,
          98.2254844392249,
          97.99765120375807,
          97.96594245449208,
          98.75396359365826,
          98.35114503816794,
          98.00352319436288,
          97.56429829712272,
          97.6218438050499,
          97.52436876100998,
          97.71579565472695,
          97.87903699354081,
          97.49148561362301,
          97.66412213740458,
          97.53846153846153,
          97.68995889606576,
          97.39753376394597,
          97.29418672930123,
          97.6253669994128,
          97.52319436288901,
          97.73928361714621,
          97.44450968878449,
          97.53846153846153,
          97.65825014679976,
          97.62419260129184,
          97.67234292425132,
          97.65355255431591,
          97.80035231943629,
          97.64298297122724,
          97.78038755137992,
          97.76864357017028,
          97.88960657662948,
          97.93893129770993,
          97.97886083382267,
          97.83558426306517,
          97.8191426893717,
          97.9588960657663,
          97.96594245449208,
          97.91896652965356,
          98.03523194362889,
          97.90957134468584,
          97.93305930710511,
          98.17263652378156,
          98.11274221961244,
          98.2477980035232,
          98.13857897827363,
          98.21374045801527,
          98.27950675278919,
          98.32883147386964,
          98.39577216676453,
          98.36054022313564,
          98.47680563711099,
          98.33822665883734,
          98.4509688784498,
          98.44509688784498,
          98.56253669994128,
          98.65531415149736,
          98.60598943041691,
          98.59424544920728,
          98.6130358191427,
          98.56723429242513,
          98.69759248385202,
          98.7457428068115,
          98.70111567821492,
          98.79389312977099,
          98.8537874339401,
          98.80446271285966,
          98.83617146212566,
          98.92894891368174,
          98.9301233118027,
          98.99236641221374,
          99.01233118027011,
          99.00528479154433,
          98.9395184967704,
          99.0510863182619,
          99.12272460364063,
          99.15091015854375,
          99.14151497357604,
          99.14503816793894,
          99.28126834997065,
          99.24603640634174,
          99.28126834997065,
          99.29888432178508,
          99.2859659424545,
          99.31062830299471,
          99.39635936582502,
          99.42924251321197,
          99.37404580152672,
          99.41984732824427,
          99.45155607751028,
          99.45625366999413,
          99.50910158543746,
          99.51614797416325,
          99.55725190839695,
          99.59953024075162,
          99.58778625954199,
          99.60775102759835,
          99.64768056371109,
          99.62654139753377,
          99.68056371109806,
          99.70405167351733,
          99.70992366412214,
          99.72636523781561,
          99.75807398708162,
          99.78038755137992,
          99.79213153258955,
          99.80387551379918,
          99.8379330593071,
          99.8567234292425,
          99.85789782736347,
          99.88138578978274,
          99.89430416911333,
          99.904873752202,
          99.92483852025836,
          99.94010569583088,
          99.95184967704051,
          99.96359365825015,
          99.97651203758073,
          99.98825601879037,
          100
         ],
         "yaxis": "y"
        }
       ],
       "layout": {
        "autosize": true,
        "legend": {
         "tracegroupgap": 0
        },
        "margin": {
         "t": 60
        },
        "template": {
         "data": {
          "bar": [
           {
            "error_x": {
             "color": "#2a3f5f"
            },
            "error_y": {
             "color": "#2a3f5f"
            },
            "marker": {
             "line": {
              "color": "#E5ECF6",
              "width": 0.5
             },
             "pattern": {
              "fillmode": "overlay",
              "size": 10,
              "solidity": 0.2
             }
            },
            "type": "bar"
           }
          ],
          "barpolar": [
           {
            "marker": {
             "line": {
              "color": "#E5ECF6",
              "width": 0.5
             },
             "pattern": {
              "fillmode": "overlay",
              "size": 10,
              "solidity": 0.2
             }
            },
            "type": "barpolar"
           }
          ],
          "carpet": [
           {
            "aaxis": {
             "endlinecolor": "#2a3f5f",
             "gridcolor": "white",
             "linecolor": "white",
             "minorgridcolor": "white",
             "startlinecolor": "#2a3f5f"
            },
            "baxis": {
             "endlinecolor": "#2a3f5f",
             "gridcolor": "white",
             "linecolor": "white",
             "minorgridcolor": "white",
             "startlinecolor": "#2a3f5f"
            },
            "type": "carpet"
           }
          ],
          "choropleth": [
           {
            "colorbar": {
             "outlinewidth": 0,
             "ticks": ""
            },
            "type": "choropleth"
           }
          ],
          "contour": [
           {
            "colorbar": {
             "outlinewidth": 0,
             "ticks": ""
            },
            "colorscale": [
             [
              0,
              "#0d0887"
             ],
             [
              0.1111111111111111,
              "#46039f"
             ],
             [
              0.2222222222222222,
              "#7201a8"
             ],
             [
              0.3333333333333333,
              "#9c179e"
             ],
             [
              0.4444444444444444,
              "#bd3786"
             ],
             [
              0.5555555555555556,
              "#d8576b"
             ],
             [
              0.6666666666666666,
              "#ed7953"
             ],
             [
              0.7777777777777778,
              "#fb9f3a"
             ],
             [
              0.8888888888888888,
              "#fdca26"
             ],
             [
              1,
              "#f0f921"
             ]
            ],
            "type": "contour"
           }
          ],
          "contourcarpet": [
           {
            "colorbar": {
             "outlinewidth": 0,
             "ticks": ""
            },
            "type": "contourcarpet"
           }
          ],
          "heatmap": [
           {
            "colorbar": {
             "outlinewidth": 0,
             "ticks": ""
            },
            "colorscale": [
             [
              0,
              "#0d0887"
             ],
             [
              0.1111111111111111,
              "#46039f"
             ],
             [
              0.2222222222222222,
              "#7201a8"
             ],
             [
              0.3333333333333333,
              "#9c179e"
             ],
             [
              0.4444444444444444,
              "#bd3786"
             ],
             [
              0.5555555555555556,
              "#d8576b"
             ],
             [
              0.6666666666666666,
              "#ed7953"
             ],
             [
              0.7777777777777778,
              "#fb9f3a"
             ],
             [
              0.8888888888888888,
              "#fdca26"
             ],
             [
              1,
              "#f0f921"
             ]
            ],
            "type": "heatmap"
           }
          ],
          "heatmapgl": [
           {
            "colorbar": {
             "outlinewidth": 0,
             "ticks": ""
            },
            "colorscale": [
             [
              0,
              "#0d0887"
             ],
             [
              0.1111111111111111,
              "#46039f"
             ],
             [
              0.2222222222222222,
              "#7201a8"
             ],
             [
              0.3333333333333333,
              "#9c179e"
             ],
             [
              0.4444444444444444,
              "#bd3786"
             ],
             [
              0.5555555555555556,
              "#d8576b"
             ],
             [
              0.6666666666666666,
              "#ed7953"
             ],
             [
              0.7777777777777778,
              "#fb9f3a"
             ],
             [
              0.8888888888888888,
              "#fdca26"
             ],
             [
              1,
              "#f0f921"
             ]
            ],
            "type": "heatmapgl"
           }
          ],
          "histogram": [
           {
            "marker": {
             "pattern": {
              "fillmode": "overlay",
              "size": 10,
              "solidity": 0.2
             }
            },
            "type": "histogram"
           }
          ],
          "histogram2d": [
           {
            "colorbar": {
             "outlinewidth": 0,
             "ticks": ""
            },
            "colorscale": [
             [
              0,
              "#0d0887"
             ],
             [
              0.1111111111111111,
              "#46039f"
             ],
             [
              0.2222222222222222,
              "#7201a8"
             ],
             [
              0.3333333333333333,
              "#9c179e"
             ],
             [
              0.4444444444444444,
              "#bd3786"
             ],
             [
              0.5555555555555556,
              "#d8576b"
             ],
             [
              0.6666666666666666,
              "#ed7953"
             ],
             [
              0.7777777777777778,
              "#fb9f3a"
             ],
             [
              0.8888888888888888,
              "#fdca26"
             ],
             [
              1,
              "#f0f921"
             ]
            ],
            "type": "histogram2d"
           }
          ],
          "histogram2dcontour": [
           {
            "colorbar": {
             "outlinewidth": 0,
             "ticks": ""
            },
            "colorscale": [
             [
              0,
              "#0d0887"
             ],
             [
              0.1111111111111111,
              "#46039f"
             ],
             [
              0.2222222222222222,
              "#7201a8"
             ],
             [
              0.3333333333333333,
              "#9c179e"
             ],
             [
              0.4444444444444444,
              "#bd3786"
             ],
             [
              0.5555555555555556,
              "#d8576b"
             ],
             [
              0.6666666666666666,
              "#ed7953"
             ],
             [
              0.7777777777777778,
              "#fb9f3a"
             ],
             [
              0.8888888888888888,
              "#fdca26"
             ],
             [
              1,
              "#f0f921"
             ]
            ],
            "type": "histogram2dcontour"
           }
          ],
          "mesh3d": [
           {
            "colorbar": {
             "outlinewidth": 0,
             "ticks": ""
            },
            "type": "mesh3d"
           }
          ],
          "parcoords": [
           {
            "line": {
             "colorbar": {
              "outlinewidth": 0,
              "ticks": ""
             }
            },
            "type": "parcoords"
           }
          ],
          "pie": [
           {
            "automargin": true,
            "type": "pie"
           }
          ],
          "scatter": [
           {
            "fillpattern": {
             "fillmode": "overlay",
             "size": 10,
             "solidity": 0.2
            },
            "type": "scatter"
           }
          ],
          "scatter3d": [
           {
            "line": {
             "colorbar": {
              "outlinewidth": 0,
              "ticks": ""
             }
            },
            "marker": {
             "colorbar": {
              "outlinewidth": 0,
              "ticks": ""
             }
            },
            "type": "scatter3d"
           }
          ],
          "scattercarpet": [
           {
            "marker": {
             "colorbar": {
              "outlinewidth": 0,
              "ticks": ""
             }
            },
            "type": "scattercarpet"
           }
          ],
          "scattergeo": [
           {
            "marker": {
             "colorbar": {
              "outlinewidth": 0,
              "ticks": ""
             }
            },
            "type": "scattergeo"
           }
          ],
          "scattergl": [
           {
            "marker": {
             "colorbar": {
              "outlinewidth": 0,
              "ticks": ""
             }
            },
            "type": "scattergl"
           }
          ],
          "scattermapbox": [
           {
            "marker": {
             "colorbar": {
              "outlinewidth": 0,
              "ticks": ""
             }
            },
            "type": "scattermapbox"
           }
          ],
          "scatterpolar": [
           {
            "marker": {
             "colorbar": {
              "outlinewidth": 0,
              "ticks": ""
             }
            },
            "type": "scatterpolar"
           }
          ],
          "scatterpolargl": [
           {
            "marker": {
             "colorbar": {
              "outlinewidth": 0,
              "ticks": ""
             }
            },
            "type": "scatterpolargl"
           }
          ],
          "scatterternary": [
           {
            "marker": {
             "colorbar": {
              "outlinewidth": 0,
              "ticks": ""
             }
            },
            "type": "scatterternary"
           }
          ],
          "surface": [
           {
            "colorbar": {
             "outlinewidth": 0,
             "ticks": ""
            },
            "colorscale": [
             [
              0,
              "#0d0887"
             ],
             [
              0.1111111111111111,
              "#46039f"
             ],
             [
              0.2222222222222222,
              "#7201a8"
             ],
             [
              0.3333333333333333,
              "#9c179e"
             ],
             [
              0.4444444444444444,
              "#bd3786"
             ],
             [
              0.5555555555555556,
              "#d8576b"
             ],
             [
              0.6666666666666666,
              "#ed7953"
             ],
             [
              0.7777777777777778,
              "#fb9f3a"
             ],
             [
              0.8888888888888888,
              "#fdca26"
             ],
             [
              1,
              "#f0f921"
             ]
            ],
            "type": "surface"
           }
          ],
          "table": [
           {
            "cells": {
             "fill": {
              "color": "#EBF0F8"
             },
             "line": {
              "color": "white"
             }
            },
            "header": {
             "fill": {
              "color": "#C8D4E3"
             },
             "line": {
              "color": "white"
             }
            },
            "type": "table"
           }
          ]
         },
         "layout": {
          "annotationdefaults": {
           "arrowcolor": "#2a3f5f",
           "arrowhead": 0,
           "arrowwidth": 1
          },
          "autotypenumbers": "strict",
          "coloraxis": {
           "colorbar": {
            "outlinewidth": 0,
            "ticks": ""
           }
          },
          "colorscale": {
           "diverging": [
            [
             0,
             "#8e0152"
            ],
            [
             0.1,
             "#c51b7d"
            ],
            [
             0.2,
             "#de77ae"
            ],
            [
             0.3,
             "#f1b6da"
            ],
            [
             0.4,
             "#fde0ef"
            ],
            [
             0.5,
             "#f7f7f7"
            ],
            [
             0.6,
             "#e6f5d0"
            ],
            [
             0.7,
             "#b8e186"
            ],
            [
             0.8,
             "#7fbc41"
            ],
            [
             0.9,
             "#4d9221"
            ],
            [
             1,
             "#276419"
            ]
           ],
           "sequential": [
            [
             0,
             "#0d0887"
            ],
            [
             0.1111111111111111,
             "#46039f"
            ],
            [
             0.2222222222222222,
             "#7201a8"
            ],
            [
             0.3333333333333333,
             "#9c179e"
            ],
            [
             0.4444444444444444,
             "#bd3786"
            ],
            [
             0.5555555555555556,
             "#d8576b"
            ],
            [
             0.6666666666666666,
             "#ed7953"
            ],
            [
             0.7777777777777778,
             "#fb9f3a"
            ],
            [
             0.8888888888888888,
             "#fdca26"
            ],
            [
             1,
             "#f0f921"
            ]
           ],
           "sequentialminus": [
            [
             0,
             "#0d0887"
            ],
            [
             0.1111111111111111,
             "#46039f"
            ],
            [
             0.2222222222222222,
             "#7201a8"
            ],
            [
             0.3333333333333333,
             "#9c179e"
            ],
            [
             0.4444444444444444,
             "#bd3786"
            ],
            [
             0.5555555555555556,
             "#d8576b"
            ],
            [
             0.6666666666666666,
             "#ed7953"
            ],
            [
             0.7777777777777778,
             "#fb9f3a"
            ],
            [
             0.8888888888888888,
             "#fdca26"
            ],
            [
             1,
             "#f0f921"
            ]
           ]
          },
          "colorway": [
           "#636efa",
           "#EF553B",
           "#00cc96",
           "#ab63fa",
           "#FFA15A",
           "#19d3f3",
           "#FF6692",
           "#B6E880",
           "#FF97FF",
           "#FECB52"
          ],
          "font": {
           "color": "#2a3f5f"
          },
          "geo": {
           "bgcolor": "white",
           "lakecolor": "white",
           "landcolor": "#E5ECF6",
           "showlakes": true,
           "showland": true,
           "subunitcolor": "white"
          },
          "hoverlabel": {
           "align": "left"
          },
          "hovermode": "closest",
          "mapbox": {
           "style": "light"
          },
          "paper_bgcolor": "white",
          "plot_bgcolor": "#E5ECF6",
          "polar": {
           "angularaxis": {
            "gridcolor": "white",
            "linecolor": "white",
            "ticks": ""
           },
           "bgcolor": "#E5ECF6",
           "radialaxis": {
            "gridcolor": "white",
            "linecolor": "white",
            "ticks": ""
           }
          },
          "scene": {
           "xaxis": {
            "backgroundcolor": "#E5ECF6",
            "gridcolor": "white",
            "gridwidth": 2,
            "linecolor": "white",
            "showbackground": true,
            "ticks": "",
            "zerolinecolor": "white"
           },
           "yaxis": {
            "backgroundcolor": "#E5ECF6",
            "gridcolor": "white",
            "gridwidth": 2,
            "linecolor": "white",
            "showbackground": true,
            "ticks": "",
            "zerolinecolor": "white"
           },
           "zaxis": {
            "backgroundcolor": "#E5ECF6",
            "gridcolor": "white",
            "gridwidth": 2,
            "linecolor": "white",
            "showbackground": true,
            "ticks": "",
            "zerolinecolor": "white"
           }
          },
          "shapedefaults": {
           "line": {
            "color": "#2a3f5f"
           }
          },
          "ternary": {
           "aaxis": {
            "gridcolor": "white",
            "linecolor": "white",
            "ticks": ""
           },
           "baxis": {
            "gridcolor": "white",
            "linecolor": "white",
            "ticks": ""
           },
           "bgcolor": "#E5ECF6",
           "caxis": {
            "gridcolor": "white",
            "linecolor": "white",
            "ticks": ""
           }
          },
          "title": {
           "x": 0.05
          },
          "xaxis": {
           "automargin": true,
           "gridcolor": "white",
           "linecolor": "white",
           "ticks": "",
           "title": {
            "standoff": 15
           },
           "zerolinecolor": "white",
           "zerolinewidth": 2
          },
          "yaxis": {
           "automargin": true,
           "gridcolor": "white",
           "linecolor": "white",
           "ticks": "",
           "title": {
            "standoff": 15
           },
           "zerolinecolor": "white",
           "zerolinewidth": 2
          }
         }
        },
        "xaxis": {
         "anchor": "y",
         "autorange": true,
         "domain": [
          0,
          1
         ],
         "range": [
          2,
          131
         ],
         "title": {
          "text": "x"
         },
         "type": "linear"
        },
        "yaxis": {
         "anchor": "x",
         "autorange": true,
         "domain": [
          0,
          1
         ],
         "range": [
          97.05956808246884,
          100.1547595746069
         ],
         "title": {
          "text": "y"
         },
         "type": "linear"
        }
       }
      },
      "image/png": "[encoded data removed]",
      "text/html": [
       "<div>                            <div id=\"05ffab7b-79e2-4814-93d0-da14d01aaf30\" class=\"plotly-graph-div\" style=\"height:525px; width:100%;\"></div>            <script type=\"text/javascript\">                require([\"plotly\"], function(Plotly) {                    window.PLOTLYENV=window.PLOTLYENV || {};                                    if (document.getElementById(\"05ffab7b-79e2-4814-93d0-da14d01aaf30\")) {                    Plotly.newPlot(                        \"05ffab7b-79e2-4814-93d0-da14d01aaf30\",                        [{\"hovertemplate\":\"x=%{x}<br>y=%{y}<extra></extra>\",\"legendgroup\":\"\",\"line\":{\"color\":\"#636efa\",\"dash\":\"solid\"},\"marker\":{\"symbol\":\"circle\"},\"mode\":\"lines\",\"name\":\"\",\"orientation\":\"v\",\"showlegend\":false,\"x\":[2,3,4,5,6,7,8,9,10,11,12,13,14,15,16,17,18,19,20,21,22,23,24,25,26,27,28,29,30,31,32,33,34,35,36,37,38,39,40,41,42,43,44,45,46,47,48,49,50,51,52,53,54,55,56,57,58,59,60,61,62,63,64,65,66,67,68,69,70,71,72,73,74,75,76,77,78,79,80,81,82,83,84,85,86,87,88,89,90,91,92,93,94,95,96,97,98,99,100,101,102,103,104,105,106,107,108,109,110,111,112,113,114,115,116,117,118,119,120,121,122,123,124,125,126,127,128,129,130,131],\"xaxis\":\"x\",\"y\":[99.69465648854961,97.21432765707574,99.70522607163828,99.29183793305931,98.11156782149149,98.66118614210217,99.39635936582502,98.89489136817382,98.21491485613623,98.33940105695831,97.68408690546094,98.2254844392249,97.99765120375807,97.96594245449208,98.75396359365826,98.35114503816794,98.00352319436288,97.56429829712272,97.6218438050499,97.52436876100998,97.71579565472695,97.87903699354081,97.49148561362301,97.66412213740458,97.53846153846153,97.68995889606576,97.39753376394597,97.29418672930123,97.6253669994128,97.52319436288901,97.73928361714621,97.44450968878449,97.53846153846153,97.65825014679976,97.62419260129184,97.67234292425132,97.65355255431591,97.80035231943629,97.64298297122724,97.78038755137992,97.76864357017028,97.88960657662948,97.93893129770993,97.97886083382267,97.83558426306517,97.8191426893717,97.9588960657663,97.96594245449208,97.91896652965356,98.03523194362889,97.90957134468584,97.93305930710511,98.17263652378156,98.11274221961244,98.2477980035232,98.13857897827363,98.21374045801527,98.27950675278919,98.32883147386964,98.39577216676453,98.36054022313564,98.47680563711099,98.33822665883734,98.4509688784498,98.44509688784498,98.56253669994128,98.65531415149736,98.60598943041691,98.59424544920728,98.6130358191427,98.56723429242513,98.69759248385202,98.7457428068115,98.70111567821492,98.79389312977099,98.8537874339401,98.80446271285966,98.83617146212566,98.92894891368174,98.9301233118027,98.99236641221374,99.01233118027011,99.00528479154433,98.9395184967704,99.0510863182619,99.12272460364063,99.15091015854375,99.14151497357604,99.14503816793894,99.28126834997065,99.24603640634174,99.28126834997065,99.29888432178508,99.2859659424545,99.31062830299471,99.39635936582502,99.42924251321197,99.37404580152672,99.41984732824427,99.45155607751028,99.45625366999413,99.50910158543746,99.51614797416325,99.55725190839695,99.59953024075162,99.58778625954199,99.60775102759835,99.64768056371109,99.62654139753377,99.68056371109806,99.70405167351733,99.70992366412214,99.72636523781561,99.75807398708162,99.78038755137992,99.79213153258955,99.80387551379918,99.8379330593071,99.8567234292425,99.85789782736347,99.88138578978274,99.89430416911333,99.904873752202,99.92483852025836,99.94010569583088,99.95184967704051,99.96359365825015,99.97651203758073,99.98825601879037,100.0],\"yaxis\":\"y\",\"type\":\"scatter\"}],                        {\"template\":{\"data\":{\"histogram2dcontour\":[{\"type\":\"histogram2dcontour\",\"colorbar\":{\"outlinewidth\":0,\"ticks\":\"\"},\"colorscale\":[[0.0,\"#0d0887\"],[0.1111111111111111,\"#46039f\"],[0.2222222222222222,\"#7201a8\"],[0.3333333333333333,\"#9c179e\"],[0.4444444444444444,\"#bd3786\"],[0.5555555555555556,\"#d8576b\"],[0.6666666666666666,\"#ed7953\"],[0.7777777777777778,\"#fb9f3a\"],[0.8888888888888888,\"#fdca26\"],[1.0,\"#f0f921\"]]}],\"choropleth\":[{\"type\":\"choropleth\",\"colorbar\":{\"outlinewidth\":0,\"ticks\":\"\"}}],\"histogram2d\":[{\"type\":\"histogram2d\",\"colorbar\":{\"outlinewidth\":0,\"ticks\":\"\"},\"colorscale\":[[0.0,\"#0d0887\"],[0.1111111111111111,\"#46039f\"],[0.2222222222222222,\"#7201a8\"],[0.3333333333333333,\"#9c179e\"],[0.4444444444444444,\"#bd3786\"],[0.5555555555555556,\"#d8576b\"],[0.6666666666666666,\"#ed7953\"],[0.7777777777777778,\"#fb9f3a\"],[0.8888888888888888,\"#fdca26\"],[1.0,\"#f0f921\"]]}],\"heatmap\":[{\"type\":\"heatmap\",\"colorbar\":{\"outlinewidth\":0,\"ticks\":\"\"},\"colorscale\":[[0.0,\"#0d0887\"],[0.1111111111111111,\"#46039f\"],[0.2222222222222222,\"#7201a8\"],[0.3333333333333333,\"#9c179e\"],[0.4444444444444444,\"#bd3786\"],[0.5555555555555556,\"#d8576b\"],[0.6666666666666666,\"#ed7953\"],[0.7777777777777778,\"#fb9f3a\"],[0.8888888888888888,\"#fdca26\"],[1.0,\"#f0f921\"]]}],\"heatmapgl\":[{\"type\":\"heatmapgl\",\"colorbar\":{\"outlinewidth\":0,\"ticks\":\"\"},\"colorscale\":[[0.0,\"#0d0887\"],[0.1111111111111111,\"#46039f\"],[0.2222222222222222,\"#7201a8\"],[0.3333333333333333,\"#9c179e\"],[0.4444444444444444,\"#bd3786\"],[0.5555555555555556,\"#d8576b\"],[0.6666666666666666,\"#ed7953\"],[0.7777777777777778,\"#fb9f3a\"],[0.8888888888888888,\"#fdca26\"],[1.0,\"#f0f921\"]]}],\"contourcarpet\":[{\"type\":\"contourcarpet\",\"colorbar\":{\"outlinewidth\":0,\"ticks\":\"\"}}],\"contour\":[{\"type\":\"contour\",\"colorbar\":{\"outlinewidth\":0,\"ticks\":\"\"},\"colorscale\":[[0.0,\"#0d0887\"],[0.1111111111111111,\"#46039f\"],[0.2222222222222222,\"#7201a8\"],[0.3333333333333333,\"#9c179e\"],[0.4444444444444444,\"#bd3786\"],[0.5555555555555556,\"#d8576b\"],[0.6666666666666666,\"#ed7953\"],[0.7777777777777778,\"#fb9f3a\"],[0.8888888888888888,\"#fdca26\"],[1.0,\"#f0f921\"]]}],\"surface\":[{\"type\":\"surface\",\"colorbar\":{\"outlinewidth\":0,\"ticks\":\"\"},\"colorscale\":[[0.0,\"#0d0887\"],[0.1111111111111111,\"#46039f\"],[0.2222222222222222,\"#7201a8\"],[0.3333333333333333,\"#9c179e\"],[0.4444444444444444,\"#bd3786\"],[0.5555555555555556,\"#d8576b\"],[0.6666666666666666,\"#ed7953\"],[0.7777777777777778,\"#fb9f3a\"],[0.8888888888888888,\"#fdca26\"],[1.0,\"#f0f921\"]]}],\"mesh3d\":[{\"type\":\"mesh3d\",\"colorbar\":{\"outlinewidth\":0,\"ticks\":\"\"}}],\"scatter\":[{\"fillpattern\":{\"fillmode\":\"overlay\",\"size\":10,\"solidity\":0.2},\"type\":\"scatter\"}],\"parcoords\":[{\"type\":\"parcoords\",\"line\":{\"colorbar\":{\"outlinewidth\":0,\"ticks\":\"\"}}}],\"scatterpolargl\":[{\"type\":\"scatterpolargl\",\"marker\":{\"colorbar\":{\"outlinewidth\":0,\"ticks\":\"\"}}}],\"bar\":[{\"error_x\":{\"color\":\"#2a3f5f\"},\"error_y\":{\"color\":\"#2a3f5f\"},\"marker\":{\"line\":{\"color\":\"#E5ECF6\",\"width\":0.5},\"pattern\":{\"fillmode\":\"overlay\",\"size\":10,\"solidity\":0.2}},\"type\":\"bar\"}],\"scattergeo\":[{\"type\":\"scattergeo\",\"marker\":{\"colorbar\":{\"outlinewidth\":0,\"ticks\":\"\"}}}],\"scatterpolar\":[{\"type\":\"scatterpolar\",\"marker\":{\"colorbar\":{\"outlinewidth\":0,\"ticks\":\"\"}}}],\"histogram\":[{\"marker\":{\"pattern\":{\"fillmode\":\"overlay\",\"size\":10,\"solidity\":0.2}},\"type\":\"histogram\"}],\"scattergl\":[{\"type\":\"scattergl\",\"marker\":{\"colorbar\":{\"outlinewidth\":0,\"ticks\":\"\"}}}],\"scatter3d\":[{\"type\":\"scatter3d\",\"line\":{\"colorbar\":{\"outlinewidth\":0,\"ticks\":\"\"}},\"marker\":{\"colorbar\":{\"outlinewidth\":0,\"ticks\":\"\"}}}],\"scattermapbox\":[{\"type\":\"scattermapbox\",\"marker\":{\"colorbar\":{\"outlinewidth\":0,\"ticks\":\"\"}}}],\"scatterternary\":[{\"type\":\"scatterternary\",\"marker\":{\"colorbar\":{\"outlinewidth\":0,\"ticks\":\"\"}}}],\"scattercarpet\":[{\"type\":\"scattercarpet\",\"marker\":{\"colorbar\":{\"outlinewidth\":0,\"ticks\":\"\"}}}],\"carpet\":[{\"aaxis\":{\"endlinecolor\":\"#2a3f5f\",\"gridcolor\":\"white\",\"linecolor\":\"white\",\"minorgridcolor\":\"white\",\"startlinecolor\":\"#2a3f5f\"},\"baxis\":{\"endlinecolor\":\"#2a3f5f\",\"gridcolor\":\"white\",\"linecolor\":\"white\",\"minorgridcolor\":\"white\",\"startlinecolor\":\"#2a3f5f\"},\"type\":\"carpet\"}],\"table\":[{\"cells\":{\"fill\":{\"color\":\"#EBF0F8\"},\"line\":{\"color\":\"white\"}},\"header\":{\"fill\":{\"color\":\"#C8D4E3\"},\"line\":{\"color\":\"white\"}},\"type\":\"table\"}],\"barpolar\":[{\"marker\":{\"line\":{\"color\":\"#E5ECF6\",\"width\":0.5},\"pattern\":{\"fillmode\":\"overlay\",\"size\":10,\"solidity\":0.2}},\"type\":\"barpolar\"}],\"pie\":[{\"automargin\":true,\"type\":\"pie\"}]},\"layout\":{\"autotypenumbers\":\"strict\",\"colorway\":[\"#636efa\",\"#EF553B\",\"#00cc96\",\"#ab63fa\",\"#FFA15A\",\"#19d3f3\",\"#FF6692\",\"#B6E880\",\"#FF97FF\",\"#FECB52\"],\"font\":{\"color\":\"#2a3f5f\"},\"hovermode\":\"closest\",\"hoverlabel\":{\"align\":\"left\"},\"paper_bgcolor\":\"white\",\"plot_bgcolor\":\"#E5ECF6\",\"polar\":{\"bgcolor\":\"#E5ECF6\",\"angularaxis\":{\"gridcolor\":\"white\",\"linecolor\":\"white\",\"ticks\":\"\"},\"radialaxis\":{\"gridcolor\":\"white\",\"linecolor\":\"white\",\"ticks\":\"\"}},\"ternary\":{\"bgcolor\":\"#E5ECF6\",\"aaxis\":{\"gridcolor\":\"white\",\"linecolor\":\"white\",\"ticks\":\"\"},\"baxis\":{\"gridcolor\":\"white\",\"linecolor\":\"white\",\"ticks\":\"\"},\"caxis\":{\"gridcolor\":\"white\",\"linecolor\":\"white\",\"ticks\":\"\"}},\"coloraxis\":{\"colorbar\":{\"outlinewidth\":0,\"ticks\":\"\"}},\"colorscale\":{\"sequential\":[[0.0,\"#0d0887\"],[0.1111111111111111,\"#46039f\"],[0.2222222222222222,\"#7201a8\"],[0.3333333333333333,\"#9c179e\"],[0.4444444444444444,\"#bd3786\"],[0.5555555555555556,\"#d8576b\"],[0.6666666666666666,\"#ed7953\"],[0.7777777777777778,\"#fb9f3a\"],[0.8888888888888888,\"#fdca26\"],[1.0,\"#f0f921\"]],\"sequentialminus\":[[0.0,\"#0d0887\"],[0.1111111111111111,\"#46039f\"],[0.2222222222222222,\"#7201a8\"],[0.3333333333333333,\"#9c179e\"],[0.4444444444444444,\"#bd3786\"],[0.5555555555555556,\"#d8576b\"],[0.6666666666666666,\"#ed7953\"],[0.7777777777777778,\"#fb9f3a\"],[0.8888888888888888,\"#fdca26\"],[1.0,\"#f0f921\"]],\"diverging\":[[0,\"#8e0152\"],[0.1,\"#c51b7d\"],[0.2,\"#de77ae\"],[0.3,\"#f1b6da\"],[0.4,\"#fde0ef\"],[0.5,\"#f7f7f7\"],[0.6,\"#e6f5d0\"],[0.7,\"#b8e186\"],[0.8,\"#7fbc41\"],[0.9,\"#4d9221\"],[1,\"#276419\"]]},\"xaxis\":{\"gridcolor\":\"white\",\"linecolor\":\"white\",\"ticks\":\"\",\"title\":{\"standoff\":15},\"zerolinecolor\":\"white\",\"automargin\":true,\"zerolinewidth\":2},\"yaxis\":{\"gridcolor\":\"white\",\"linecolor\":\"white\",\"ticks\":\"\",\"title\":{\"standoff\":15},\"zerolinecolor\":\"white\",\"automargin\":true,\"zerolinewidth\":2},\"scene\":{\"xaxis\":{\"backgroundcolor\":\"#E5ECF6\",\"gridcolor\":\"white\",\"linecolor\":\"white\",\"showbackground\":true,\"ticks\":\"\",\"zerolinecolor\":\"white\",\"gridwidth\":2},\"yaxis\":{\"backgroundcolor\":\"#E5ECF6\",\"gridcolor\":\"white\",\"linecolor\":\"white\",\"showbackground\":true,\"ticks\":\"\",\"zerolinecolor\":\"white\",\"gridwidth\":2},\"zaxis\":{\"backgroundcolor\":\"#E5ECF6\",\"gridcolor\":\"white\",\"linecolor\":\"white\",\"showbackground\":true,\"ticks\":\"\",\"zerolinecolor\":\"white\",\"gridwidth\":2}},\"shapedefaults\":{\"line\":{\"color\":\"#2a3f5f\"}},\"annotationdefaults\":{\"arrowcolor\":\"#2a3f5f\",\"arrowhead\":0,\"arrowwidth\":1},\"geo\":{\"bgcolor\":\"white\",\"landcolor\":\"#E5ECF6\",\"subunitcolor\":\"white\",\"showland\":true,\"showlakes\":true,\"lakecolor\":\"white\"},\"title\":{\"x\":0.05},\"mapbox\":{\"style\":\"light\"}}},\"xaxis\":{\"anchor\":\"y\",\"domain\":[0.0,1.0],\"title\":{\"text\":\"x\"}},\"yaxis\":{\"anchor\":\"x\",\"domain\":[0.0,1.0],\"title\":{\"text\":\"y\"}},\"legend\":{\"tracegroupgap\":0},\"margin\":{\"t\":60}},                        {\"responsive\": true}                    ).then(function(){\n",
       "                            \n",
       "var gd = document.getElementById('05ffab7b-79e2-4814-93d0-da14d01aaf30');\n",
       "var x = new MutationObserver(function (mutations, observer) {{\n",
       "        var display = window.getComputedStyle(gd).display;\n",
       "        if (!display || display === 'none') {{\n",
       "            console.log([gd, 'removed!']);\n",
       "            Plotly.purge(gd);\n",
       "            observer.disconnect();\n",
       "        }}\n",
       "}});\n",
       "\n",
       "// Listen for the removal of the full notebook cells\n",
       "var notebookContainer = gd.closest('#notebook-container');\n",
       "if (notebookContainer) {{\n",
       "    x.observe(notebookContainer, {childList: true});\n",
       "}}\n",
       "\n",
       "// Listen for the clearing of the current output cell\n",
       "var outputEl = gd.closest('.output');\n",
       "if (outputEl) {{\n",
       "    x.observe(outputEl, {childList: true});\n",
       "}}\n",
       "\n",
       "                        })                };                });            </script>        </div>"
      ]
     },
     "metadata": {},
     "output_type": "display_data"
    }
   ],
   "source": [
    "# Plot percent of draws the same for each number of clusters\n",
    "px.line(x = num_clust_16S, y = pct_same_16S)"
   ]
  },
  {
   "cell_type": "code",
   "execution_count": null,
   "id": "305abc88-08ad-4dac-bf29-413e413bb7ca",
   "metadata": {},
   "outputs": [],
   "source": [
    "%%time\n",
    "# Code to return pct of draws that had the same relative cluster assignment for 2 to 62 clusters for n_rep replicates\n",
    "# NB: This takes a long time to run for a modest number of replicates!!\n",
    "\n",
    "n_rep = 1\n",
    "num_clust_18S = np.arange(2, asvs_18S.shape[1] + 1)\n",
    "pct_same_18S = [pctSame_new(asvs_18S, x, n_rep) for x in num_clust_18S]"
   ]
  },
  {
   "cell_type": "code",
   "execution_count": 35,
   "id": "50bc0dd5-dd94-4a2e-a9d6-6fe8b7f9ab05",
   "metadata": {},
   "outputs": [
    {
     "data": {
      "application/vnd.plotly.v1+json": {
       "config": {
        "plotlyServerURL": "https://plot.ly"
       },
       "data": [
        {
         "hovertemplate": "x=%{x}<br>y=%{y}<extra></extra>",
         "legendgroup": "",
         "line": {
          "color": "#636efa",
          "dash": "solid"
         },
         "marker": {
          "symbol": "circle"
         },
         "mode": "lines",
         "name": "",
         "orientation": "v",
         "showlegend": false,
         "type": "scatter",
         "x": [
          2,
          3,
          4,
          5,
          6,
          7,
          8,
          9,
          10,
          11,
          12,
          13,
          14,
          15,
          16,
          17,
          18,
          19,
          20,
          21,
          22,
          23,
          24,
          25,
          26,
          27,
          28,
          29,
          30,
          31,
          32,
          33,
          34,
          35,
          36,
          37,
          38,
          39,
          40,
          41,
          42,
          43,
          44,
          45,
          46,
          47,
          48,
          49,
          50,
          51,
          52,
          53,
          54,
          55,
          56,
          57,
          58,
          59,
          60,
          61,
          62,
          63,
          64,
          65,
          66,
          67,
          68,
          69,
          70,
          71,
          72,
          73,
          74,
          75,
          76,
          77,
          78,
          79,
          80,
          81,
          82,
          83,
          84,
          85,
          86,
          87,
          88,
          89,
          90,
          91,
          92,
          93,
          94,
          95,
          96,
          97,
          98,
          99,
          100,
          101,
          102,
          103,
          104,
          105,
          106,
          107,
          108,
          109,
          110,
          111,
          112,
          113,
          114,
          115,
          116,
          117,
          118,
          119,
          120,
          121,
          122,
          123,
          124,
          125,
          126,
          127,
          128,
          129,
          130,
          131
         ],
         "xaxis": "x",
         "y": [
          100,
          99.77686435701703,
          99.49312977099237,
          99.24486200822079,
          98.82536699941281,
          99.45273047563124,
          97.40246623605402,
          98.56136230182031,
          98.80399295361127,
          98.84509688784497,
          98.32319436288903,
          98.41996476805637,
          97.90299471520845,
          97.39448032883148,
          98.45167351732238,
          98.35631238990018,
          98.45684086905462,
          98.44791544333529,
          98.61608925425719,
          98.63675866118614,
          98.62736347621843,
          98.7492660011744,
          98.7779213153259,
          98.89817968291251,
          98.93881385789783,
          98.80211391661773,
          98.62548443922489,
          98.78238402818556,
          98.72155020551968,
          98.85566647093364,
          98.91579565472695,
          98.90945390487376,
          99.02337052260717,
          99.0125660598943,
          99.0409864944216,
          99.01092190252496,
          99.06729301233118,
          98.97803875513799,
          98.98837345860247,
          99.04333529066353,
          99.03863769817968,
          98.95619495008808,
          99.01327069876689,
          98.99917792131532,
          99.04239577216677,
          99.04497944803288,
          99.05202583675866,
          99.04920728126835,
          99.03534938344099,
          99.05601879036993,
          99.09031121550206,
          99.08796241926012,
          99.11074574280681,
          99.11544333529066,
          99.11027598355842,
          99.13869641808573,
          99.12836171462126,
          99.142689371697,
          99.12436876100998,
          99.12155020551967,
          99.1586611861421,
          99.17627715795655,
          99.15607751027598,
          99.18285378743394,
          99.2063417498532,
          99.19201409277746,
          99.18543746330006,
          99.24509688784498,
          99.24603640634174,
          99.24603640634174,
          99.26741045214328,
          99.26482677627716,
          99.2981796829125,
          99.2732824427481,
          99.32425132119789,
          99.31133294186729,
          99.29794480328832,
          99.33669994128009,
          99.3519671168526,
          99.37874339401057,
          99.39213153258954,
          99.38649442160893,
          99.37451556077511,
          99.40857310628303,
          99.40058719906048,
          99.4313564298297,
          99.41749853200236,
          99.44192601291837,
          99.46870229007634,
          99.4698766881973,
          99.47246036406342,
          99.48162066940692,
          99.5013505578391,
          99.50534351145038,
          99.5107457428068,
          99.5206106870229,
          99.54221961244862,
          99.56711685261304,
          99.59459776864357,
          99.56876100998238,
          99.58802113916617,
          99.6,
          99.61033470346447,
          99.63617146212566,
          99.62489724016442,
          99.64979448032884,
          99.68032883147387,
          99.69277745155608,
          99.69747504403993,
          99.6986494421609,
          99.72472108044627,
          99.73458602466236,
          99.74938344098649,
          99.77075748678801,
          99.77357604227834,
          99.79541984732825,
          99.80645918966529,
          99.82407516147974,
          99.84145625366999,
          99.85578391074574,
          99.87457428068114,
          99.88866705813271,
          99.90299471520845,
          99.91873165002936,
          99.9332941867293,
          99.94973576042278,
          99.96335877862596,
          99.97580739870816,
          99.98825601879037,
          100
         ],
         "yaxis": "y"
        }
       ],
       "layout": {
        "autosize": true,
        "legend": {
         "tracegroupgap": 0
        },
        "margin": {
         "t": 60
        },
        "template": {
         "data": {
          "bar": [
           {
            "error_x": {
             "color": "#2a3f5f"
            },
            "error_y": {
             "color": "#2a3f5f"
            },
            "marker": {
             "line": {
              "color": "#E5ECF6",
              "width": 0.5
             },
             "pattern": {
              "fillmode": "overlay",
              "size": 10,
              "solidity": 0.2
             }
            },
            "type": "bar"
           }
          ],
          "barpolar": [
           {
            "marker": {
             "line": {
              "color": "#E5ECF6",
              "width": 0.5
             },
             "pattern": {
              "fillmode": "overlay",
              "size": 10,
              "solidity": 0.2
             }
            },
            "type": "barpolar"
           }
          ],
          "carpet": [
           {
            "aaxis": {
             "endlinecolor": "#2a3f5f",
             "gridcolor": "white",
             "linecolor": "white",
             "minorgridcolor": "white",
             "startlinecolor": "#2a3f5f"
            },
            "baxis": {
             "endlinecolor": "#2a3f5f",
             "gridcolor": "white",
             "linecolor": "white",
             "minorgridcolor": "white",
             "startlinecolor": "#2a3f5f"
            },
            "type": "carpet"
           }
          ],
          "choropleth": [
           {
            "colorbar": {
             "outlinewidth": 0,
             "ticks": ""
            },
            "type": "choropleth"
           }
          ],
          "contour": [
           {
            "colorbar": {
             "outlinewidth": 0,
             "ticks": ""
            },
            "colorscale": [
             [
              0,
              "#0d0887"
             ],
             [
              0.1111111111111111,
              "#46039f"
             ],
             [
              0.2222222222222222,
              "#7201a8"
             ],
             [
              0.3333333333333333,
              "#9c179e"
             ],
             [
              0.4444444444444444,
              "#bd3786"
             ],
             [
              0.5555555555555556,
              "#d8576b"
             ],
             [
              0.6666666666666666,
              "#ed7953"
             ],
             [
              0.7777777777777778,
              "#fb9f3a"
             ],
             [
              0.8888888888888888,
              "#fdca26"
             ],
             [
              1,
              "#f0f921"
             ]
            ],
            "type": "contour"
           }
          ],
          "contourcarpet": [
           {
            "colorbar": {
             "outlinewidth": 0,
             "ticks": ""
            },
            "type": "contourcarpet"
           }
          ],
          "heatmap": [
           {
            "colorbar": {
             "outlinewidth": 0,
             "ticks": ""
            },
            "colorscale": [
             [
              0,
              "#0d0887"
             ],
             [
              0.1111111111111111,
              "#46039f"
             ],
             [
              0.2222222222222222,
              "#7201a8"
             ],
             [
              0.3333333333333333,
              "#9c179e"
             ],
             [
              0.4444444444444444,
              "#bd3786"
             ],
             [
              0.5555555555555556,
              "#d8576b"
             ],
             [
              0.6666666666666666,
              "#ed7953"
             ],
             [
              0.7777777777777778,
              "#fb9f3a"
             ],
             [
              0.8888888888888888,
              "#fdca26"
             ],
             [
              1,
              "#f0f921"
             ]
            ],
            "type": "heatmap"
           }
          ],
          "heatmapgl": [
           {
            "colorbar": {
             "outlinewidth": 0,
             "ticks": ""
            },
            "colorscale": [
             [
              0,
              "#0d0887"
             ],
             [
              0.1111111111111111,
              "#46039f"
             ],
             [
              0.2222222222222222,
              "#7201a8"
             ],
             [
              0.3333333333333333,
              "#9c179e"
             ],
             [
              0.4444444444444444,
              "#bd3786"
             ],
             [
              0.5555555555555556,
              "#d8576b"
             ],
             [
              0.6666666666666666,
              "#ed7953"
             ],
             [
              0.7777777777777778,
              "#fb9f3a"
             ],
             [
              0.8888888888888888,
              "#fdca26"
             ],
             [
              1,
              "#f0f921"
             ]
            ],
            "type": "heatmapgl"
           }
          ],
          "histogram": [
           {
            "marker": {
             "pattern": {
              "fillmode": "overlay",
              "size": 10,
              "solidity": 0.2
             }
            },
            "type": "histogram"
           }
          ],
          "histogram2d": [
           {
            "colorbar": {
             "outlinewidth": 0,
             "ticks": ""
            },
            "colorscale": [
             [
              0,
              "#0d0887"
             ],
             [
              0.1111111111111111,
              "#46039f"
             ],
             [
              0.2222222222222222,
              "#7201a8"
             ],
             [
              0.3333333333333333,
              "#9c179e"
             ],
             [
              0.4444444444444444,
              "#bd3786"
             ],
             [
              0.5555555555555556,
              "#d8576b"
             ],
             [
              0.6666666666666666,
              "#ed7953"
             ],
             [
              0.7777777777777778,
              "#fb9f3a"
             ],
             [
              0.8888888888888888,
              "#fdca26"
             ],
             [
              1,
              "#f0f921"
             ]
            ],
            "type": "histogram2d"
           }
          ],
          "histogram2dcontour": [
           {
            "colorbar": {
             "outlinewidth": 0,
             "ticks": ""
            },
            "colorscale": [
             [
              0,
              "#0d0887"
             ],
             [
              0.1111111111111111,
              "#46039f"
             ],
             [
              0.2222222222222222,
              "#7201a8"
             ],
             [
              0.3333333333333333,
              "#9c179e"
             ],
             [
              0.4444444444444444,
              "#bd3786"
             ],
             [
              0.5555555555555556,
              "#d8576b"
             ],
             [
              0.6666666666666666,
              "#ed7953"
             ],
             [
              0.7777777777777778,
              "#fb9f3a"
             ],
             [
              0.8888888888888888,
              "#fdca26"
             ],
             [
              1,
              "#f0f921"
             ]
            ],
            "type": "histogram2dcontour"
           }
          ],
          "mesh3d": [
           {
            "colorbar": {
             "outlinewidth": 0,
             "ticks": ""
            },
            "type": "mesh3d"
           }
          ],
          "parcoords": [
           {
            "line": {
             "colorbar": {
              "outlinewidth": 0,
              "ticks": ""
             }
            },
            "type": "parcoords"
           }
          ],
          "pie": [
           {
            "automargin": true,
            "type": "pie"
           }
          ],
          "scatter": [
           {
            "fillpattern": {
             "fillmode": "overlay",
             "size": 10,
             "solidity": 0.2
            },
            "type": "scatter"
           }
          ],
          "scatter3d": [
           {
            "line": {
             "colorbar": {
              "outlinewidth": 0,
              "ticks": ""
             }
            },
            "marker": {
             "colorbar": {
              "outlinewidth": 0,
              "ticks": ""
             }
            },
            "type": "scatter3d"
           }
          ],
          "scattercarpet": [
           {
            "marker": {
             "colorbar": {
              "outlinewidth": 0,
              "ticks": ""
             }
            },
            "type": "scattercarpet"
           }
          ],
          "scattergeo": [
           {
            "marker": {
             "colorbar": {
              "outlinewidth": 0,
              "ticks": ""
             }
            },
            "type": "scattergeo"
           }
          ],
          "scattergl": [
           {
            "marker": {
             "colorbar": {
              "outlinewidth": 0,
              "ticks": ""
             }
            },
            "type": "scattergl"
           }
          ],
          "scattermapbox": [
           {
            "marker": {
             "colorbar": {
              "outlinewidth": 0,
              "ticks": ""
             }
            },
            "type": "scattermapbox"
           }
          ],
          "scatterpolar": [
           {
            "marker": {
             "colorbar": {
              "outlinewidth": 0,
              "ticks": ""
             }
            },
            "type": "scatterpolar"
           }
          ],
          "scatterpolargl": [
           {
            "marker": {
             "colorbar": {
              "outlinewidth": 0,
              "ticks": ""
             }
            },
            "type": "scatterpolargl"
           }
          ],
          "scatterternary": [
           {
            "marker": {
             "colorbar": {
              "outlinewidth": 0,
              "ticks": ""
             }
            },
            "type": "scatterternary"
           }
          ],
          "surface": [
           {
            "colorbar": {
             "outlinewidth": 0,
             "ticks": ""
            },
            "colorscale": [
             [
              0,
              "#0d0887"
             ],
             [
              0.1111111111111111,
              "#46039f"
             ],
             [
              0.2222222222222222,
              "#7201a8"
             ],
             [
              0.3333333333333333,
              "#9c179e"
             ],
             [
              0.4444444444444444,
              "#bd3786"
             ],
             [
              0.5555555555555556,
              "#d8576b"
             ],
             [
              0.6666666666666666,
              "#ed7953"
             ],
             [
              0.7777777777777778,
              "#fb9f3a"
             ],
             [
              0.8888888888888888,
              "#fdca26"
             ],
             [
              1,
              "#f0f921"
             ]
            ],
            "type": "surface"
           }
          ],
          "table": [
           {
            "cells": {
             "fill": {
              "color": "#EBF0F8"
             },
             "line": {
              "color": "white"
             }
            },
            "header": {
             "fill": {
              "color": "#C8D4E3"
             },
             "line": {
              "color": "white"
             }
            },
            "type": "table"
           }
          ]
         },
         "layout": {
          "annotationdefaults": {
           "arrowcolor": "#2a3f5f",
           "arrowhead": 0,
           "arrowwidth": 1
          },
          "autotypenumbers": "strict",
          "coloraxis": {
           "colorbar": {
            "outlinewidth": 0,
            "ticks": ""
           }
          },
          "colorscale": {
           "diverging": [
            [
             0,
             "#8e0152"
            ],
            [
             0.1,
             "#c51b7d"
            ],
            [
             0.2,
             "#de77ae"
            ],
            [
             0.3,
             "#f1b6da"
            ],
            [
             0.4,
             "#fde0ef"
            ],
            [
             0.5,
             "#f7f7f7"
            ],
            [
             0.6,
             "#e6f5d0"
            ],
            [
             0.7,
             "#b8e186"
            ],
            [
             0.8,
             "#7fbc41"
            ],
            [
             0.9,
             "#4d9221"
            ],
            [
             1,
             "#276419"
            ]
           ],
           "sequential": [
            [
             0,
             "#0d0887"
            ],
            [
             0.1111111111111111,
             "#46039f"
            ],
            [
             0.2222222222222222,
             "#7201a8"
            ],
            [
             0.3333333333333333,
             "#9c179e"
            ],
            [
             0.4444444444444444,
             "#bd3786"
            ],
            [
             0.5555555555555556,
             "#d8576b"
            ],
            [
             0.6666666666666666,
             "#ed7953"
            ],
            [
             0.7777777777777778,
             "#fb9f3a"
            ],
            [
             0.8888888888888888,
             "#fdca26"
            ],
            [
             1,
             "#f0f921"
            ]
           ],
           "sequentialminus": [
            [
             0,
             "#0d0887"
            ],
            [
             0.1111111111111111,
             "#46039f"
            ],
            [
             0.2222222222222222,
             "#7201a8"
            ],
            [
             0.3333333333333333,
             "#9c179e"
            ],
            [
             0.4444444444444444,
             "#bd3786"
            ],
            [
             0.5555555555555556,
             "#d8576b"
            ],
            [
             0.6666666666666666,
             "#ed7953"
            ],
            [
             0.7777777777777778,
             "#fb9f3a"
            ],
            [
             0.8888888888888888,
             "#fdca26"
            ],
            [
             1,
             "#f0f921"
            ]
           ]
          },
          "colorway": [
           "#636efa",
           "#EF553B",
           "#00cc96",
           "#ab63fa",
           "#FFA15A",
           "#19d3f3",
           "#FF6692",
           "#B6E880",
           "#FF97FF",
           "#FECB52"
          ],
          "font": {
           "color": "#2a3f5f"
          },
          "geo": {
           "bgcolor": "white",
           "lakecolor": "white",
           "landcolor": "#E5ECF6",
           "showlakes": true,
           "showland": true,
           "subunitcolor": "white"
          },
          "hoverlabel": {
           "align": "left"
          },
          "hovermode": "closest",
          "mapbox": {
           "style": "light"
          },
          "paper_bgcolor": "white",
          "plot_bgcolor": "#E5ECF6",
          "polar": {
           "angularaxis": {
            "gridcolor": "white",
            "linecolor": "white",
            "ticks": ""
           },
           "bgcolor": "#E5ECF6",
           "radialaxis": {
            "gridcolor": "white",
            "linecolor": "white",
            "ticks": ""
           }
          },
          "scene": {
           "xaxis": {
            "backgroundcolor": "#E5ECF6",
            "gridcolor": "white",
            "gridwidth": 2,
            "linecolor": "white",
            "showbackground": true,
            "ticks": "",
            "zerolinecolor": "white"
           },
           "yaxis": {
            "backgroundcolor": "#E5ECF6",
            "gridcolor": "white",
            "gridwidth": 2,
            "linecolor": "white",
            "showbackground": true,
            "ticks": "",
            "zerolinecolor": "white"
           },
           "zaxis": {
            "backgroundcolor": "#E5ECF6",
            "gridcolor": "white",
            "gridwidth": 2,
            "linecolor": "white",
            "showbackground": true,
            "ticks": "",
            "zerolinecolor": "white"
           }
          },
          "shapedefaults": {
           "line": {
            "color": "#2a3f5f"
           }
          },
          "ternary": {
           "aaxis": {
            "gridcolor": "white",
            "linecolor": "white",
            "ticks": ""
           },
           "baxis": {
            "gridcolor": "white",
            "linecolor": "white",
            "ticks": ""
           },
           "bgcolor": "#E5ECF6",
           "caxis": {
            "gridcolor": "white",
            "linecolor": "white",
            "ticks": ""
           }
          },
          "title": {
           "x": 0.05
          },
          "xaxis": {
           "automargin": true,
           "gridcolor": "white",
           "linecolor": "white",
           "ticks": "",
           "title": {
            "standoff": 15
           },
           "zerolinecolor": "white",
           "zerolinewidth": 2
          },
          "yaxis": {
           "automargin": true,
           "gridcolor": "white",
           "linecolor": "white",
           "ticks": "",
           "title": {
            "standoff": 15
           },
           "zerolinecolor": "white",
           "zerolinewidth": 2
          }
         }
        },
        "xaxis": {
         "anchor": "y",
         "autorange": true,
         "domain": [
          0,
          1
         ],
         "range": [
          2,
          131
         ],
         "title": {
          "text": "x"
         },
         "type": "linear"
        },
        "yaxis": {
         "anchor": "x",
         "autorange": true,
         "domain": [
          0,
          1
         ],
         "range": [
          97.24972923598878,
          100.1447510928427
         ],
         "title": {
          "text": "y"
         },
         "type": "linear"
        }
       }
      },
      "image/png": "[encoded data removed]",
      "text/html": [
       "<div>                            <div id=\"4f360feb-6f08-491b-b50e-8db7688abeae\" class=\"plotly-graph-div\" style=\"height:525px; width:100%;\"></div>            <script type=\"text/javascript\">                require([\"plotly\"], function(Plotly) {                    window.PLOTLYENV=window.PLOTLYENV || {};                                    if (document.getElementById(\"4f360feb-6f08-491b-b50e-8db7688abeae\")) {                    Plotly.newPlot(                        \"4f360feb-6f08-491b-b50e-8db7688abeae\",                        [{\"hovertemplate\":\"x=%{x}<br>y=%{y}<extra></extra>\",\"legendgroup\":\"\",\"line\":{\"color\":\"#636efa\",\"dash\":\"solid\"},\"marker\":{\"symbol\":\"circle\"},\"mode\":\"lines\",\"name\":\"\",\"orientation\":\"v\",\"showlegend\":false,\"x\":[2,3,4,5,6,7,8,9,10,11,12,13,14,15,16,17,18,19,20,21,22,23,24,25,26,27,28,29,30,31,32,33,34,35,36,37,38,39,40,41,42,43,44,45,46,47,48,49,50,51,52,53,54,55,56,57,58,59,60,61,62,63,64,65,66,67,68,69,70,71,72,73,74,75,76,77,78,79,80,81,82,83,84,85,86,87,88,89,90,91,92,93,94,95,96,97,98,99,100,101,102,103,104,105,106,107,108,109,110,111,112,113,114,115,116,117,118,119,120,121,122,123,124,125,126,127,128,129,130,131],\"xaxis\":\"x\",\"y\":[100.0,99.77686435701703,99.49312977099237,99.24486200822079,98.82536699941281,99.45273047563124,97.40246623605402,98.56136230182031,98.80399295361127,98.84509688784497,98.32319436288903,98.41996476805637,97.90299471520845,97.39448032883148,98.45167351732238,98.35631238990018,98.45684086905462,98.44791544333529,98.61608925425719,98.63675866118614,98.62736347621843,98.7492660011744,98.7779213153259,98.89817968291251,98.93881385789783,98.80211391661773,98.62548443922489,98.78238402818556,98.72155020551968,98.85566647093364,98.91579565472695,98.90945390487376,99.02337052260717,99.0125660598943,99.0409864944216,99.01092190252496,99.06729301233118,98.97803875513799,98.98837345860247,99.04333529066353,99.03863769817968,98.95619495008808,99.01327069876689,98.99917792131532,99.04239577216677,99.04497944803288,99.05202583675866,99.04920728126835,99.03534938344099,99.05601879036993,99.09031121550206,99.08796241926012,99.11074574280681,99.11544333529066,99.11027598355842,99.13869641808573,99.12836171462126,99.142689371697,99.12436876100998,99.12155020551967,99.1586611861421,99.17627715795655,99.15607751027598,99.18285378743394,99.2063417498532,99.19201409277746,99.18543746330006,99.24509688784498,99.24603640634174,99.24603640634174,99.26741045214328,99.26482677627716,99.2981796829125,99.2732824427481,99.32425132119789,99.31133294186729,99.29794480328832,99.33669994128009,99.3519671168526,99.37874339401057,99.39213153258954,99.38649442160893,99.37451556077511,99.40857310628303,99.40058719906048,99.4313564298297,99.41749853200236,99.44192601291837,99.46870229007634,99.4698766881973,99.47246036406342,99.48162066940692,99.5013505578391,99.50534351145038,99.5107457428068,99.5206106870229,99.54221961244862,99.56711685261304,99.59459776864357,99.56876100998238,99.58802113916617,99.6,99.61033470346447,99.63617146212566,99.62489724016442,99.64979448032884,99.68032883147387,99.69277745155608,99.69747504403993,99.6986494421609,99.72472108044627,99.73458602466236,99.74938344098649,99.77075748678801,99.77357604227834,99.79541984732825,99.80645918966529,99.82407516147974,99.84145625366999,99.85578391074574,99.87457428068114,99.88866705813271,99.90299471520845,99.91873165002936,99.9332941867293,99.94973576042278,99.96335877862596,99.97580739870816,99.98825601879037,100.0],\"yaxis\":\"y\",\"type\":\"scatter\"}],                        {\"template\":{\"data\":{\"histogram2dcontour\":[{\"type\":\"histogram2dcontour\",\"colorbar\":{\"outlinewidth\":0,\"ticks\":\"\"},\"colorscale\":[[0.0,\"#0d0887\"],[0.1111111111111111,\"#46039f\"],[0.2222222222222222,\"#7201a8\"],[0.3333333333333333,\"#9c179e\"],[0.4444444444444444,\"#bd3786\"],[0.5555555555555556,\"#d8576b\"],[0.6666666666666666,\"#ed7953\"],[0.7777777777777778,\"#fb9f3a\"],[0.8888888888888888,\"#fdca26\"],[1.0,\"#f0f921\"]]}],\"choropleth\":[{\"type\":\"choropleth\",\"colorbar\":{\"outlinewidth\":0,\"ticks\":\"\"}}],\"histogram2d\":[{\"type\":\"histogram2d\",\"colorbar\":{\"outlinewidth\":0,\"ticks\":\"\"},\"colorscale\":[[0.0,\"#0d0887\"],[0.1111111111111111,\"#46039f\"],[0.2222222222222222,\"#7201a8\"],[0.3333333333333333,\"#9c179e\"],[0.4444444444444444,\"#bd3786\"],[0.5555555555555556,\"#d8576b\"],[0.6666666666666666,\"#ed7953\"],[0.7777777777777778,\"#fb9f3a\"],[0.8888888888888888,\"#fdca26\"],[1.0,\"#f0f921\"]]}],\"heatmap\":[{\"type\":\"heatmap\",\"colorbar\":{\"outlinewidth\":0,\"ticks\":\"\"},\"colorscale\":[[0.0,\"#0d0887\"],[0.1111111111111111,\"#46039f\"],[0.2222222222222222,\"#7201a8\"],[0.3333333333333333,\"#9c179e\"],[0.4444444444444444,\"#bd3786\"],[0.5555555555555556,\"#d8576b\"],[0.6666666666666666,\"#ed7953\"],[0.7777777777777778,\"#fb9f3a\"],[0.8888888888888888,\"#fdca26\"],[1.0,\"#f0f921\"]]}],\"heatmapgl\":[{\"type\":\"heatmapgl\",\"colorbar\":{\"outlinewidth\":0,\"ticks\":\"\"},\"colorscale\":[[0.0,\"#0d0887\"],[0.1111111111111111,\"#46039f\"],[0.2222222222222222,\"#7201a8\"],[0.3333333333333333,\"#9c179e\"],[0.4444444444444444,\"#bd3786\"],[0.5555555555555556,\"#d8576b\"],[0.6666666666666666,\"#ed7953\"],[0.7777777777777778,\"#fb9f3a\"],[0.8888888888888888,\"#fdca26\"],[1.0,\"#f0f921\"]]}],\"contourcarpet\":[{\"type\":\"contourcarpet\",\"colorbar\":{\"outlinewidth\":0,\"ticks\":\"\"}}],\"contour\":[{\"type\":\"contour\",\"colorbar\":{\"outlinewidth\":0,\"ticks\":\"\"},\"colorscale\":[[0.0,\"#0d0887\"],[0.1111111111111111,\"#46039f\"],[0.2222222222222222,\"#7201a8\"],[0.3333333333333333,\"#9c179e\"],[0.4444444444444444,\"#bd3786\"],[0.5555555555555556,\"#d8576b\"],[0.6666666666666666,\"#ed7953\"],[0.7777777777777778,\"#fb9f3a\"],[0.8888888888888888,\"#fdca26\"],[1.0,\"#f0f921\"]]}],\"surface\":[{\"type\":\"surface\",\"colorbar\":{\"outlinewidth\":0,\"ticks\":\"\"},\"colorscale\":[[0.0,\"#0d0887\"],[0.1111111111111111,\"#46039f\"],[0.2222222222222222,\"#7201a8\"],[0.3333333333333333,\"#9c179e\"],[0.4444444444444444,\"#bd3786\"],[0.5555555555555556,\"#d8576b\"],[0.6666666666666666,\"#ed7953\"],[0.7777777777777778,\"#fb9f3a\"],[0.8888888888888888,\"#fdca26\"],[1.0,\"#f0f921\"]]}],\"mesh3d\":[{\"type\":\"mesh3d\",\"colorbar\":{\"outlinewidth\":0,\"ticks\":\"\"}}],\"scatter\":[{\"fillpattern\":{\"fillmode\":\"overlay\",\"size\":10,\"solidity\":0.2},\"type\":\"scatter\"}],\"parcoords\":[{\"type\":\"parcoords\",\"line\":{\"colorbar\":{\"outlinewidth\":0,\"ticks\":\"\"}}}],\"scatterpolargl\":[{\"type\":\"scatterpolargl\",\"marker\":{\"colorbar\":{\"outlinewidth\":0,\"ticks\":\"\"}}}],\"bar\":[{\"error_x\":{\"color\":\"#2a3f5f\"},\"error_y\":{\"color\":\"#2a3f5f\"},\"marker\":{\"line\":{\"color\":\"#E5ECF6\",\"width\":0.5},\"pattern\":{\"fillmode\":\"overlay\",\"size\":10,\"solidity\":0.2}},\"type\":\"bar\"}],\"scattergeo\":[{\"type\":\"scattergeo\",\"marker\":{\"colorbar\":{\"outlinewidth\":0,\"ticks\":\"\"}}}],\"scatterpolar\":[{\"type\":\"scatterpolar\",\"marker\":{\"colorbar\":{\"outlinewidth\":0,\"ticks\":\"\"}}}],\"histogram\":[{\"marker\":{\"pattern\":{\"fillmode\":\"overlay\",\"size\":10,\"solidity\":0.2}},\"type\":\"histogram\"}],\"scattergl\":[{\"type\":\"scattergl\",\"marker\":{\"colorbar\":{\"outlinewidth\":0,\"ticks\":\"\"}}}],\"scatter3d\":[{\"type\":\"scatter3d\",\"line\":{\"colorbar\":{\"outlinewidth\":0,\"ticks\":\"\"}},\"marker\":{\"colorbar\":{\"outlinewidth\":0,\"ticks\":\"\"}}}],\"scattermapbox\":[{\"type\":\"scattermapbox\",\"marker\":{\"colorbar\":{\"outlinewidth\":0,\"ticks\":\"\"}}}],\"scatterternary\":[{\"type\":\"scatterternary\",\"marker\":{\"colorbar\":{\"outlinewidth\":0,\"ticks\":\"\"}}}],\"scattercarpet\":[{\"type\":\"scattercarpet\",\"marker\":{\"colorbar\":{\"outlinewidth\":0,\"ticks\":\"\"}}}],\"carpet\":[{\"aaxis\":{\"endlinecolor\":\"#2a3f5f\",\"gridcolor\":\"white\",\"linecolor\":\"white\",\"minorgridcolor\":\"white\",\"startlinecolor\":\"#2a3f5f\"},\"baxis\":{\"endlinecolor\":\"#2a3f5f\",\"gridcolor\":\"white\",\"linecolor\":\"white\",\"minorgridcolor\":\"white\",\"startlinecolor\":\"#2a3f5f\"},\"type\":\"carpet\"}],\"table\":[{\"cells\":{\"fill\":{\"color\":\"#EBF0F8\"},\"line\":{\"color\":\"white\"}},\"header\":{\"fill\":{\"color\":\"#C8D4E3\"},\"line\":{\"color\":\"white\"}},\"type\":\"table\"}],\"barpolar\":[{\"marker\":{\"line\":{\"color\":\"#E5ECF6\",\"width\":0.5},\"pattern\":{\"fillmode\":\"overlay\",\"size\":10,\"solidity\":0.2}},\"type\":\"barpolar\"}],\"pie\":[{\"automargin\":true,\"type\":\"pie\"}]},\"layout\":{\"autotypenumbers\":\"strict\",\"colorway\":[\"#636efa\",\"#EF553B\",\"#00cc96\",\"#ab63fa\",\"#FFA15A\",\"#19d3f3\",\"#FF6692\",\"#B6E880\",\"#FF97FF\",\"#FECB52\"],\"font\":{\"color\":\"#2a3f5f\"},\"hovermode\":\"closest\",\"hoverlabel\":{\"align\":\"left\"},\"paper_bgcolor\":\"white\",\"plot_bgcolor\":\"#E5ECF6\",\"polar\":{\"bgcolor\":\"#E5ECF6\",\"angularaxis\":{\"gridcolor\":\"white\",\"linecolor\":\"white\",\"ticks\":\"\"},\"radialaxis\":{\"gridcolor\":\"white\",\"linecolor\":\"white\",\"ticks\":\"\"}},\"ternary\":{\"bgcolor\":\"#E5ECF6\",\"aaxis\":{\"gridcolor\":\"white\",\"linecolor\":\"white\",\"ticks\":\"\"},\"baxis\":{\"gridcolor\":\"white\",\"linecolor\":\"white\",\"ticks\":\"\"},\"caxis\":{\"gridcolor\":\"white\",\"linecolor\":\"white\",\"ticks\":\"\"}},\"coloraxis\":{\"colorbar\":{\"outlinewidth\":0,\"ticks\":\"\"}},\"colorscale\":{\"sequential\":[[0.0,\"#0d0887\"],[0.1111111111111111,\"#46039f\"],[0.2222222222222222,\"#7201a8\"],[0.3333333333333333,\"#9c179e\"],[0.4444444444444444,\"#bd3786\"],[0.5555555555555556,\"#d8576b\"],[0.6666666666666666,\"#ed7953\"],[0.7777777777777778,\"#fb9f3a\"],[0.8888888888888888,\"#fdca26\"],[1.0,\"#f0f921\"]],\"sequentialminus\":[[0.0,\"#0d0887\"],[0.1111111111111111,\"#46039f\"],[0.2222222222222222,\"#7201a8\"],[0.3333333333333333,\"#9c179e\"],[0.4444444444444444,\"#bd3786\"],[0.5555555555555556,\"#d8576b\"],[0.6666666666666666,\"#ed7953\"],[0.7777777777777778,\"#fb9f3a\"],[0.8888888888888888,\"#fdca26\"],[1.0,\"#f0f921\"]],\"diverging\":[[0,\"#8e0152\"],[0.1,\"#c51b7d\"],[0.2,\"#de77ae\"],[0.3,\"#f1b6da\"],[0.4,\"#fde0ef\"],[0.5,\"#f7f7f7\"],[0.6,\"#e6f5d0\"],[0.7,\"#b8e186\"],[0.8,\"#7fbc41\"],[0.9,\"#4d9221\"],[1,\"#276419\"]]},\"xaxis\":{\"gridcolor\":\"white\",\"linecolor\":\"white\",\"ticks\":\"\",\"title\":{\"standoff\":15},\"zerolinecolor\":\"white\",\"automargin\":true,\"zerolinewidth\":2},\"yaxis\":{\"gridcolor\":\"white\",\"linecolor\":\"white\",\"ticks\":\"\",\"title\":{\"standoff\":15},\"zerolinecolor\":\"white\",\"automargin\":true,\"zerolinewidth\":2},\"scene\":{\"xaxis\":{\"backgroundcolor\":\"#E5ECF6\",\"gridcolor\":\"white\",\"linecolor\":\"white\",\"showbackground\":true,\"ticks\":\"\",\"zerolinecolor\":\"white\",\"gridwidth\":2},\"yaxis\":{\"backgroundcolor\":\"#E5ECF6\",\"gridcolor\":\"white\",\"linecolor\":\"white\",\"showbackground\":true,\"ticks\":\"\",\"zerolinecolor\":\"white\",\"gridwidth\":2},\"zaxis\":{\"backgroundcolor\":\"#E5ECF6\",\"gridcolor\":\"white\",\"linecolor\":\"white\",\"showbackground\":true,\"ticks\":\"\",\"zerolinecolor\":\"white\",\"gridwidth\":2}},\"shapedefaults\":{\"line\":{\"color\":\"#2a3f5f\"}},\"annotationdefaults\":{\"arrowcolor\":\"#2a3f5f\",\"arrowhead\":0,\"arrowwidth\":1},\"geo\":{\"bgcolor\":\"white\",\"landcolor\":\"#E5ECF6\",\"subunitcolor\":\"white\",\"showland\":true,\"showlakes\":true,\"lakecolor\":\"white\"},\"title\":{\"x\":0.05},\"mapbox\":{\"style\":\"light\"}}},\"xaxis\":{\"anchor\":\"y\",\"domain\":[0.0,1.0],\"title\":{\"text\":\"x\"}},\"yaxis\":{\"anchor\":\"x\",\"domain\":[0.0,1.0],\"title\":{\"text\":\"y\"}},\"legend\":{\"tracegroupgap\":0},\"margin\":{\"t\":60}},                        {\"responsive\": true}                    ).then(function(){\n",
       "                            \n",
       "var gd = document.getElementById('4f360feb-6f08-491b-b50e-8db7688abeae');\n",
       "var x = new MutationObserver(function (mutations, observer) {{\n",
       "        var display = window.getComputedStyle(gd).display;\n",
       "        if (!display || display === 'none') {{\n",
       "            console.log([gd, 'removed!']);\n",
       "            Plotly.purge(gd);\n",
       "            observer.disconnect();\n",
       "        }}\n",
       "}});\n",
       "\n",
       "// Listen for the removal of the full notebook cells\n",
       "var notebookContainer = gd.closest('#notebook-container');\n",
       "if (notebookContainer) {{\n",
       "    x.observe(notebookContainer, {childList: true});\n",
       "}}\n",
       "\n",
       "// Listen for the clearing of the current output cell\n",
       "var outputEl = gd.closest('.output');\n",
       "if (outputEl) {{\n",
       "    x.observe(outputEl, {childList: true});\n",
       "}}\n",
       "\n",
       "                        })                };                });            </script>        </div>"
      ]
     },
     "metadata": {},
     "output_type": "display_data"
    }
   ],
   "source": [
    "# Plot percent of draws the same for each number of clusters\n",
    "px.line(x = num_clust_18S, y = pct_same_18S)"
   ]
  },
  {
   "cell_type": "code",
   "execution_count": null,
   "id": "6c7b3b7a-2984-420b-bf4e-d991a0cc16f0",
   "metadata": {},
   "outputs": [],
   "source": [
    "# Plot percent of draws the same for each number of clusters\n",
    "px.line(x = num_clust_16S, y = pct_same_16S)"
   ]
  },
  {
   "cell_type": "markdown",
   "id": "dbe18451-368e-4f70-a1a3-7f22a1f2ec90",
   "metadata": {},
   "source": [
    "### Now we have the \"answer\" for how many clusters is appropriate for our data set, and we can run the PCAs with labels from that number of clusters"
   ]
  },
  {
   "cell_type": "code",
   "execution_count": null,
   "id": "8cbd908c-f9d6-4a5e-bb5f-91094fc93eb4",
   "metadata": {},
   "outputs": [],
   "source": []
  }
 ],
 "metadata": {
  "kernelspec": {
   "display_name": "Python 3 (ipykernel)",
   "language": "python",
   "name": "python3"
  },
  "language_info": {
   "codemirror_mode": {
    "name": "ipython",
    "version": 3
   },
   "file_extension": ".py",
   "mimetype": "text/x-python",
   "name": "python",
   "nbconvert_exporter": "python",
   "pygments_lexer": "ipython3",
   "version": "3.10.10"
  }
 },
 "nbformat": 4,
 "nbformat_minor": 5
}
