{
 "cells": [
  {
   "cell_type": "markdown",
   "metadata": {},
   "source": [
    "## In this notebook, amplicon data will be imported as raw read counts and each ASV occurrence will be modeled as a probability distribution. Samples will then be clustered based on their overall community composition."
   ]
  },
  {
   "cell_type": "markdown",
   "metadata": {},
   "source": [
    "### Import all the dependencies"
   ]
  },
  {
   "cell_type": "code",
   "execution_count": 1,
   "metadata": {},
   "outputs": [],
   "source": [
    "import os\n",
    "import pandas as pd\n",
    "import numpy as np\n",
    "import subprocess"
   ]
  },
  {
   "cell_type": "markdown",
   "metadata": {},
   "source": [
    "### Move to working directory"
   ]
  },
  {
   "cell_type": "code",
   "execution_count": 2,
   "metadata": {},
   "outputs": [],
   "source": [
    "os.chdir('/Users/nastassia.patin/GitHub/NOAA-NCAR-Hackathon')"
   ]
  },
  {
   "cell_type": "markdown",
   "metadata": {},
   "source": [
    "### 01. This section imports the amplicon data as raw counts and calls an R script to model the ASV occurrence as a probability distribution. "
   ]
  },
  {
   "cell_type": "markdown",
   "metadata": {},
   "source": [
    "#### Import example amplicon data sheet and take a look"
   ]
  },
  {
   "cell_type": "code",
   "execution_count": 3,
   "metadata": {},
   "outputs": [
    {
     "data": {
      "text/html": [
       "<div>\n",
       "<style scoped>\n",
       "    .dataframe tbody tr th:only-of-type {\n",
       "        vertical-align: middle;\n",
       "    }\n",
       "\n",
       "    .dataframe tbody tr th {\n",
       "        vertical-align: top;\n",
       "    }\n",
       "\n",
       "    .dataframe thead th {\n",
       "        text-align: right;\n",
       "    }\n",
       "</style>\n",
       "<table border=\"1\" class=\"dataframe\">\n",
       "  <thead>\n",
       "    <tr style=\"text-align: right;\">\n",
       "      <th></th>\n",
       "      <th>CN18FESPkoa_SC24</th>\n",
       "      <th>CN18FESPkoa_SC26</th>\n",
       "      <th>CN18FESPkoa_SC29</th>\n",
       "      <th>CN18FESPkoa_SC30</th>\n",
       "      <th>CN18FESPkoa_SC31</th>\n",
       "      <th>CN18FESPkoa_SC32</th>\n",
       "      <th>CN18FESPkoa_SC34</th>\n",
       "      <th>CN18FESPkoa_SC37</th>\n",
       "      <th>CN18FESPkoa_SC40</th>\n",
       "      <th>CN18FESPkoa_SC41</th>\n",
       "      <th>...</th>\n",
       "      <th>CN18Sc09_2_eDNA</th>\n",
       "      <th>CN18Sc10_2_eDNA</th>\n",
       "      <th>CN18Sc14_2_eDNA</th>\n",
       "      <th>CN18Sc14_8_eDNA</th>\n",
       "      <th>CN18Sc15_2_eDNA</th>\n",
       "      <th>CN18Sc15_8_eDNA</th>\n",
       "      <th>CN18Sc18_2_eDNA</th>\n",
       "      <th>CN18Sc18_8_eDNA</th>\n",
       "      <th>CN18Sc27_2_eDNA</th>\n",
       "      <th>CN18Sc27_8_eDNA</th>\n",
       "    </tr>\n",
       "    <tr>\n",
       "      <th>ASV ID</th>\n",
       "      <th></th>\n",
       "      <th></th>\n",
       "      <th></th>\n",
       "      <th></th>\n",
       "      <th></th>\n",
       "      <th></th>\n",
       "      <th></th>\n",
       "      <th></th>\n",
       "      <th></th>\n",
       "      <th></th>\n",
       "      <th></th>\n",
       "      <th></th>\n",
       "      <th></th>\n",
       "      <th></th>\n",
       "      <th></th>\n",
       "      <th></th>\n",
       "      <th></th>\n",
       "      <th></th>\n",
       "      <th></th>\n",
       "      <th></th>\n",
       "      <th></th>\n",
       "    </tr>\n",
       "  </thead>\n",
       "  <tbody>\n",
       "    <tr>\n",
       "      <th>ASV_1</th>\n",
       "      <td>31</td>\n",
       "      <td>7</td>\n",
       "      <td>5</td>\n",
       "      <td>587</td>\n",
       "      <td>1</td>\n",
       "      <td>4</td>\n",
       "      <td>3</td>\n",
       "      <td>5</td>\n",
       "      <td>0</td>\n",
       "      <td>1</td>\n",
       "      <td>...</td>\n",
       "      <td>7</td>\n",
       "      <td>0</td>\n",
       "      <td>8</td>\n",
       "      <td>9</td>\n",
       "      <td>4</td>\n",
       "      <td>6</td>\n",
       "      <td>7</td>\n",
       "      <td>0</td>\n",
       "      <td>3</td>\n",
       "      <td>2</td>\n",
       "    </tr>\n",
       "    <tr>\n",
       "      <th>ASV_2</th>\n",
       "      <td>3</td>\n",
       "      <td>0</td>\n",
       "      <td>2</td>\n",
       "      <td>0</td>\n",
       "      <td>0</td>\n",
       "      <td>1</td>\n",
       "      <td>0</td>\n",
       "      <td>0</td>\n",
       "      <td>0</td>\n",
       "      <td>6</td>\n",
       "      <td>...</td>\n",
       "      <td>3</td>\n",
       "      <td>1</td>\n",
       "      <td>0</td>\n",
       "      <td>2</td>\n",
       "      <td>1</td>\n",
       "      <td>0</td>\n",
       "      <td>2</td>\n",
       "      <td>0</td>\n",
       "      <td>0</td>\n",
       "      <td>1</td>\n",
       "    </tr>\n",
       "    <tr>\n",
       "      <th>ASV_3</th>\n",
       "      <td>0</td>\n",
       "      <td>0</td>\n",
       "      <td>2</td>\n",
       "      <td>0</td>\n",
       "      <td>0</td>\n",
       "      <td>0</td>\n",
       "      <td>0</td>\n",
       "      <td>0</td>\n",
       "      <td>0</td>\n",
       "      <td>0</td>\n",
       "      <td>...</td>\n",
       "      <td>17</td>\n",
       "      <td>12</td>\n",
       "      <td>52</td>\n",
       "      <td>2</td>\n",
       "      <td>9</td>\n",
       "      <td>0</td>\n",
       "      <td>110</td>\n",
       "      <td>2</td>\n",
       "      <td>418</td>\n",
       "      <td>0</td>\n",
       "    </tr>\n",
       "    <tr>\n",
       "      <th>ASV_4</th>\n",
       "      <td>4</td>\n",
       "      <td>0</td>\n",
       "      <td>0</td>\n",
       "      <td>2</td>\n",
       "      <td>4</td>\n",
       "      <td>275</td>\n",
       "      <td>3</td>\n",
       "      <td>4</td>\n",
       "      <td>0</td>\n",
       "      <td>9</td>\n",
       "      <td>...</td>\n",
       "      <td>5</td>\n",
       "      <td>1</td>\n",
       "      <td>4</td>\n",
       "      <td>1</td>\n",
       "      <td>3</td>\n",
       "      <td>2091</td>\n",
       "      <td>2</td>\n",
       "      <td>1268</td>\n",
       "      <td>2</td>\n",
       "      <td>1</td>\n",
       "    </tr>\n",
       "    <tr>\n",
       "      <th>ASV_5</th>\n",
       "      <td>1220</td>\n",
       "      <td>115</td>\n",
       "      <td>124</td>\n",
       "      <td>93</td>\n",
       "      <td>109</td>\n",
       "      <td>86</td>\n",
       "      <td>123</td>\n",
       "      <td>165</td>\n",
       "      <td>106</td>\n",
       "      <td>190</td>\n",
       "      <td>...</td>\n",
       "      <td>67</td>\n",
       "      <td>42</td>\n",
       "      <td>109</td>\n",
       "      <td>90</td>\n",
       "      <td>13</td>\n",
       "      <td>3817</td>\n",
       "      <td>26</td>\n",
       "      <td>141</td>\n",
       "      <td>19</td>\n",
       "      <td>452</td>\n",
       "    </tr>\n",
       "    <tr>\n",
       "      <th>...</th>\n",
       "      <td>...</td>\n",
       "      <td>...</td>\n",
       "      <td>...</td>\n",
       "      <td>...</td>\n",
       "      <td>...</td>\n",
       "      <td>...</td>\n",
       "      <td>...</td>\n",
       "      <td>...</td>\n",
       "      <td>...</td>\n",
       "      <td>...</td>\n",
       "      <td>...</td>\n",
       "      <td>...</td>\n",
       "      <td>...</td>\n",
       "      <td>...</td>\n",
       "      <td>...</td>\n",
       "      <td>...</td>\n",
       "      <td>...</td>\n",
       "      <td>...</td>\n",
       "      <td>...</td>\n",
       "      <td>...</td>\n",
       "      <td>...</td>\n",
       "    </tr>\n",
       "    <tr>\n",
       "      <th>ASV_12614</th>\n",
       "      <td>0</td>\n",
       "      <td>0</td>\n",
       "      <td>0</td>\n",
       "      <td>0</td>\n",
       "      <td>0</td>\n",
       "      <td>0</td>\n",
       "      <td>0</td>\n",
       "      <td>0</td>\n",
       "      <td>0</td>\n",
       "      <td>0</td>\n",
       "      <td>...</td>\n",
       "      <td>0</td>\n",
       "      <td>0</td>\n",
       "      <td>0</td>\n",
       "      <td>0</td>\n",
       "      <td>0</td>\n",
       "      <td>0</td>\n",
       "      <td>0</td>\n",
       "      <td>0</td>\n",
       "      <td>0</td>\n",
       "      <td>0</td>\n",
       "    </tr>\n",
       "    <tr>\n",
       "      <th>ASV_12622</th>\n",
       "      <td>0</td>\n",
       "      <td>0</td>\n",
       "      <td>0</td>\n",
       "      <td>0</td>\n",
       "      <td>0</td>\n",
       "      <td>0</td>\n",
       "      <td>0</td>\n",
       "      <td>0</td>\n",
       "      <td>0</td>\n",
       "      <td>0</td>\n",
       "      <td>...</td>\n",
       "      <td>0</td>\n",
       "      <td>0</td>\n",
       "      <td>0</td>\n",
       "      <td>0</td>\n",
       "      <td>0</td>\n",
       "      <td>0</td>\n",
       "      <td>0</td>\n",
       "      <td>0</td>\n",
       "      <td>0</td>\n",
       "      <td>0</td>\n",
       "    </tr>\n",
       "    <tr>\n",
       "      <th>ASV_12628</th>\n",
       "      <td>0</td>\n",
       "      <td>0</td>\n",
       "      <td>0</td>\n",
       "      <td>0</td>\n",
       "      <td>0</td>\n",
       "      <td>0</td>\n",
       "      <td>0</td>\n",
       "      <td>0</td>\n",
       "      <td>0</td>\n",
       "      <td>0</td>\n",
       "      <td>...</td>\n",
       "      <td>0</td>\n",
       "      <td>0</td>\n",
       "      <td>0</td>\n",
       "      <td>0</td>\n",
       "      <td>0</td>\n",
       "      <td>0</td>\n",
       "      <td>0</td>\n",
       "      <td>0</td>\n",
       "      <td>0</td>\n",
       "      <td>0</td>\n",
       "    </tr>\n",
       "    <tr>\n",
       "      <th>ASV_12632</th>\n",
       "      <td>0</td>\n",
       "      <td>0</td>\n",
       "      <td>0</td>\n",
       "      <td>0</td>\n",
       "      <td>0</td>\n",
       "      <td>0</td>\n",
       "      <td>0</td>\n",
       "      <td>0</td>\n",
       "      <td>0</td>\n",
       "      <td>0</td>\n",
       "      <td>...</td>\n",
       "      <td>0</td>\n",
       "      <td>0</td>\n",
       "      <td>0</td>\n",
       "      <td>0</td>\n",
       "      <td>0</td>\n",
       "      <td>0</td>\n",
       "      <td>0</td>\n",
       "      <td>0</td>\n",
       "      <td>0</td>\n",
       "      <td>0</td>\n",
       "    </tr>\n",
       "    <tr>\n",
       "      <th>ASV_12654</th>\n",
       "      <td>0</td>\n",
       "      <td>0</td>\n",
       "      <td>0</td>\n",
       "      <td>0</td>\n",
       "      <td>0</td>\n",
       "      <td>0</td>\n",
       "      <td>0</td>\n",
       "      <td>0</td>\n",
       "      <td>0</td>\n",
       "      <td>0</td>\n",
       "      <td>...</td>\n",
       "      <td>0</td>\n",
       "      <td>0</td>\n",
       "      <td>0</td>\n",
       "      <td>0</td>\n",
       "      <td>0</td>\n",
       "      <td>0</td>\n",
       "      <td>0</td>\n",
       "      <td>0</td>\n",
       "      <td>0</td>\n",
       "      <td>0</td>\n",
       "    </tr>\n",
       "  </tbody>\n",
       "</table>\n",
       "<p>7385 rows × 62 columns</p>\n",
       "</div>"
      ],
      "text/plain": [
       "           CN18FESPkoa_SC24  CN18FESPkoa_SC26  CN18FESPkoa_SC29  \\\n",
       "ASV ID                                                            \n",
       "ASV_1                    31                 7                 5   \n",
       "ASV_2                     3                 0                 2   \n",
       "ASV_3                     0                 0                 2   \n",
       "ASV_4                     4                 0                 0   \n",
       "ASV_5                  1220               115               124   \n",
       "...                     ...               ...               ...   \n",
       "ASV_12614                 0                 0                 0   \n",
       "ASV_12622                 0                 0                 0   \n",
       "ASV_12628                 0                 0                 0   \n",
       "ASV_12632                 0                 0                 0   \n",
       "ASV_12654                 0                 0                 0   \n",
       "\n",
       "           CN18FESPkoa_SC30  CN18FESPkoa_SC31  CN18FESPkoa_SC32  \\\n",
       "ASV ID                                                            \n",
       "ASV_1                   587                 1                 4   \n",
       "ASV_2                     0                 0                 1   \n",
       "ASV_3                     0                 0                 0   \n",
       "ASV_4                     2                 4               275   \n",
       "ASV_5                    93               109                86   \n",
       "...                     ...               ...               ...   \n",
       "ASV_12614                 0                 0                 0   \n",
       "ASV_12622                 0                 0                 0   \n",
       "ASV_12628                 0                 0                 0   \n",
       "ASV_12632                 0                 0                 0   \n",
       "ASV_12654                 0                 0                 0   \n",
       "\n",
       "           CN18FESPkoa_SC34  CN18FESPkoa_SC37  CN18FESPkoa_SC40  \\\n",
       "ASV ID                                                            \n",
       "ASV_1                     3                 5                 0   \n",
       "ASV_2                     0                 0                 0   \n",
       "ASV_3                     0                 0                 0   \n",
       "ASV_4                     3                 4                 0   \n",
       "ASV_5                   123               165               106   \n",
       "...                     ...               ...               ...   \n",
       "ASV_12614                 0                 0                 0   \n",
       "ASV_12622                 0                 0                 0   \n",
       "ASV_12628                 0                 0                 0   \n",
       "ASV_12632                 0                 0                 0   \n",
       "ASV_12654                 0                 0                 0   \n",
       "\n",
       "           CN18FESPkoa_SC41  ...  CN18Sc09_2_eDNA  CN18Sc10_2_eDNA  \\\n",
       "ASV ID                       ...                                     \n",
       "ASV_1                     1  ...                7                0   \n",
       "ASV_2                     6  ...                3                1   \n",
       "ASV_3                     0  ...               17               12   \n",
       "ASV_4                     9  ...                5                1   \n",
       "ASV_5                   190  ...               67               42   \n",
       "...                     ...  ...              ...              ...   \n",
       "ASV_12614                 0  ...                0                0   \n",
       "ASV_12622                 0  ...                0                0   \n",
       "ASV_12628                 0  ...                0                0   \n",
       "ASV_12632                 0  ...                0                0   \n",
       "ASV_12654                 0  ...                0                0   \n",
       "\n",
       "           CN18Sc14_2_eDNA  CN18Sc14_8_eDNA  CN18Sc15_2_eDNA  CN18Sc15_8_eDNA  \\\n",
       "ASV ID                                                                          \n",
       "ASV_1                    8                9                4                6   \n",
       "ASV_2                    0                2                1                0   \n",
       "ASV_3                   52                2                9                0   \n",
       "ASV_4                    4                1                3             2091   \n",
       "ASV_5                  109               90               13             3817   \n",
       "...                    ...              ...              ...              ...   \n",
       "ASV_12614                0                0                0                0   \n",
       "ASV_12622                0                0                0                0   \n",
       "ASV_12628                0                0                0                0   \n",
       "ASV_12632                0                0                0                0   \n",
       "ASV_12654                0                0                0                0   \n",
       "\n",
       "           CN18Sc18_2_eDNA  CN18Sc18_8_eDNA  CN18Sc27_2_eDNA  CN18Sc27_8_eDNA  \n",
       "ASV ID                                                                         \n",
       "ASV_1                    7                0                3                2  \n",
       "ASV_2                    2                0                0                1  \n",
       "ASV_3                  110                2              418                0  \n",
       "ASV_4                    2             1268                2                1  \n",
       "ASV_5                   26              141               19              452  \n",
       "...                    ...              ...              ...              ...  \n",
       "ASV_12614                0                0                0                0  \n",
       "ASV_12622                0                0                0                0  \n",
       "ASV_12628                0                0                0                0  \n",
       "ASV_12632                0                0                0                0  \n",
       "ASV_12654                0                0                0                0  \n",
       "\n",
       "[7385 rows x 62 columns]"
      ]
     },
     "execution_count": 3,
     "metadata": {},
     "output_type": "execute_result"
    }
   ],
   "source": [
    "file = 'Data/Flyer2018_18S_table_counts.tsv'\n",
    "asvs = pd.read_csv(file, index_col=0, sep='\\t')\n",
    "asvs"
   ]
  },
  {
   "cell_type": "markdown",
   "metadata": {},
   "source": [
    "### Call the R script to model the ASV count distributions"
   ]
  },
  {
   "cell_type": "markdown",
   "metadata": {},
   "source": [
    "#### Function to run R program on input data given the file name"
   ]
  },
  {
   "cell_type": "code",
   "execution_count": 12,
   "metadata": {},
   "outputs": [],
   "source": [
    "def call_Rscript_for_amplicon_modeling(path, sample_num, arg1):\n",
    "    # Use subprocess.Popen to open executable Rscript and extract stdout from 'print' command in R\n",
    "    with subprocess.Popen(['Rscript', path, '--args', '--vanilla', arg1], \n",
    "                          stdout=subprocess.PIPE) as result:\n",
    "        asvs_freq = result.stdout.read()\n",
    "    \n",
    "    # The R output gets imported as \"bytes\"; need to convert to string\n",
    "    y = asvs_freq.decode(\"utf-8\")\n",
    "    y = y.replace(\",\", \"\").split()\n",
    "\n",
    "    # remove the column and row headers\n",
    "    z = [ x for x in y if \"[\" not in x ]\n",
    "\n",
    "    # Convert to numpy array\n",
    "    array = np.asarray(z)\n",
    "    # Reshape to original dimensions; number of samples (columns) is second field, \n",
    "    # unknown number of ASVs can be supplied with '-1'\n",
    "    mat = np.reshape(array, (-1, sample_num))\n",
    "\n",
    "    # Convert to data frame with sample names as columns\n",
    "    names = np.arange(1, sample_num+1, 1)\n",
    "    df = pd.DataFrame(mat, columns=names)\n",
    "    df = df.astype(float)\n",
    "    return(df)"
   ]
  },
  {
   "cell_type": "markdown",
   "metadata": {},
   "source": [
    "#### Define arguments"
   ]
  },
  {
   "cell_type": "code",
   "execution_count": 15,
   "metadata": {},
   "outputs": [],
   "source": [
    "path_to_rscript = '/Users/nastassia.patin/GitHub/NOAA-NCAR-Hackathon/ranRelPct_testdata.R'\n",
    "data_file_name = 'Flyer2018_18S_table_counts.tsv'\n",
    "number_of_samples = 62"
   ]
  },
  {
   "cell_type": "code",
   "execution_count": 26,
   "metadata": {},
   "outputs": [],
   "source": [
    "asvs_modeled = call_Rscript_for_amplicon_modeling(path_to_rscript, \n",
    "                                                  number_of_samples, \n",
    "                                                  data_file_name)"
   ]
  },
  {
   "cell_type": "markdown",
   "metadata": {},
   "source": [
    "## 02. Use the modeled counts table generated in [01] to reduce dimensionality and visualize principal components"
   ]
  },
  {
   "cell_type": "code",
   "execution_count": 18,
   "metadata": {},
   "outputs": [],
   "source": [
    "from sklearn.decomposition import PCA\n",
    "import seaborn as sns"
   ]
  },
  {
   "cell_type": "markdown",
   "metadata": {},
   "source": [
    "#### Transpose data frame so columns are ASVs and rows are samples"
   ]
  },
  {
   "cell_type": "code",
   "execution_count": 27,
   "metadata": {},
   "outputs": [],
   "source": [
    "asvs_modeled = asvs_modeled.T"
   ]
  },
  {
   "cell_type": "markdown",
   "metadata": {},
   "source": [
    "#### Log-transform data for Euclidean distances"
   ]
  },
  {
   "cell_type": "code",
   "execution_count": 28,
   "metadata": {},
   "outputs": [],
   "source": [
    "df = np.log10(asvs_modeled)"
   ]
  },
  {
   "cell_type": "markdown",
   "metadata": {},
   "source": [
    "#### From untransformed matrix"
   ]
  },
  {
   "cell_type": "code",
   "execution_count": 29,
   "metadata": {},
   "outputs": [
    {
     "data": {
      "text/plain": [
       "array([0.13323192, 0.2610745 , 0.33932453, 0.40669935, 0.46752482,\n",
       "       0.52369433, 0.5690844 , 0.61109656, 0.65021641, 0.68659966])"
      ]
     },
     "execution_count": 29,
     "metadata": {},
     "output_type": "execute_result"
    }
   ],
   "source": [
    "pca = PCA(n_components=10)\n",
    "pca.fit_transform(asvs_modeled)\n",
    "pca.explained_variance_ratio_.cumsum()"
   ]
  },
  {
   "cell_type": "markdown",
   "metadata": {},
   "source": [
    "#### From log-transformed matrix"
   ]
  },
  {
   "cell_type": "code",
   "execution_count": 30,
   "metadata": {},
   "outputs": [
    {
     "data": {
      "text/plain": [
       "array([0.03524784, 0.0685224 , 0.10102335, 0.13246037, 0.16374668,\n",
       "       0.19257638, 0.21924745, 0.2444913 , 0.2674754 , 0.28984556])"
      ]
     },
     "execution_count": 30,
     "metadata": {},
     "output_type": "execute_result"
    }
   ],
   "source": [
    "pca = PCA(n_components=10)\n",
    "pca.fit_transform(df)\n",
    "pca.explained_variance_ratio_.cumsum()"
   ]
  },
  {
   "cell_type": "markdown",
   "metadata": {},
   "source": [
    "### We can see that log-transforming the data causes dimensionality reduction to explain even less of the variance than untransformed data. Moreover, even 10 components of the untransformed PCA don't explain most of the variance (max 67%). We'll have to work on this going forward."
   ]
  },
  {
   "cell_type": "code",
   "execution_count": 31,
   "metadata": {},
   "outputs": [
    {
     "data": {
      "text/plain": [
       "<AxesSubplot:>"
      ]
     },
     "execution_count": 31,
     "metadata": {},
     "output_type": "execute_result"
    },
    {
     "data": {
      "image/png": "[encoded data removed]",
      "text/plain": [
       "<Figure size 432x288 with 1 Axes>"
      ]
     },
     "metadata": {
      "needs_background": "light"
     },
     "output_type": "display_data"
    }
   ],
   "source": [
    "ca = PCA(n_components=3)\n",
    "pcs = pca.fit_transform(asvs_modeled)\n",
    "\n",
    "pc1_values = pcs[:,0]\n",
    "pc2_values = pcs[:,1]\n",
    "sns.scatterplot(x=pc1_values, y=pc2_values)"
   ]
  },
  {
   "cell_type": "markdown",
   "metadata": {},
   "source": [
    "## 03. Performing hierarchical clustering: default SciPy model"
   ]
  },
  {
   "cell_type": "code",
   "execution_count": 13,
   "metadata": {},
   "outputs": [],
   "source": [
    "import scipy.cluster.hierarchy as shc\n",
    "import matplotlib.pyplot as plt"
   ]
  },
  {
   "cell_type": "code",
   "execution_count": 38,
   "metadata": {},
   "outputs": [
    {
     "data": {
      "image/png": "[encoded data removed]",
      "text/plain": [
       "<Figure size 720x504 with 1 Axes>"
      ]
     },
     "metadata": {
      "needs_background": "light"
     },
     "output_type": "display_data"
    }
   ],
   "source": [
    "plt.figure(figsize=(10, 7))\n",
    "plt.title(\"Flyer 2018 16S Sample Clusters\")\n",
    "\n",
    "# Make the clusters\n",
    "clusters = shc.linkage(pcs, \n",
    "            method='ward', \n",
    "            metric='euclidean')\n",
    "shc.dendrogram(Z=clusters)\n",
    "plt.show()"
   ]
  },
  {
   "cell_type": "markdown",
   "metadata": {},
   "source": [
    "## 04. Performing hierarchical clustering: create an agglomerative hierarchical clustering model with Scikit-Learn"
   ]
  },
  {
   "cell_type": "code",
   "execution_count": 39,
   "metadata": {},
   "outputs": [
    {
     "data": {
      "text/html": [
       "<div>\n",
       "<style scoped>\n",
       "    .dataframe tbody tr th:only-of-type {\n",
       "        vertical-align: middle;\n",
       "    }\n",
       "\n",
       "    .dataframe tbody tr th {\n",
       "        vertical-align: top;\n",
       "    }\n",
       "\n",
       "    .dataframe thead th {\n",
       "        text-align: right;\n",
       "    }\n",
       "</style>\n",
       "<table border=\"1\" class=\"dataframe\">\n",
       "  <thead>\n",
       "    <tr style=\"text-align: right;\">\n",
       "      <th></th>\n",
       "      <th>PC_1</th>\n",
       "      <th>PC_2</th>\n",
       "    </tr>\n",
       "  </thead>\n",
       "  <tbody>\n",
       "    <tr>\n",
       "      <th>0</th>\n",
       "      <td>0.247990</td>\n",
       "      <td>-0.159481</td>\n",
       "    </tr>\n",
       "    <tr>\n",
       "      <th>1</th>\n",
       "      <td>0.057539</td>\n",
       "      <td>-0.015130</td>\n",
       "    </tr>\n",
       "    <tr>\n",
       "      <th>2</th>\n",
       "      <td>0.032431</td>\n",
       "      <td>-0.005551</td>\n",
       "    </tr>\n",
       "    <tr>\n",
       "      <th>3</th>\n",
       "      <td>0.029195</td>\n",
       "      <td>-0.004026</td>\n",
       "    </tr>\n",
       "    <tr>\n",
       "      <th>4</th>\n",
       "      <td>0.012108</td>\n",
       "      <td>-0.001554</td>\n",
       "    </tr>\n",
       "    <tr>\n",
       "      <th>...</th>\n",
       "      <td>...</td>\n",
       "      <td>...</td>\n",
       "    </tr>\n",
       "    <tr>\n",
       "      <th>2747</th>\n",
       "      <td>-0.002748</td>\n",
       "      <td>-0.000171</td>\n",
       "    </tr>\n",
       "    <tr>\n",
       "      <th>2748</th>\n",
       "      <td>-0.002747</td>\n",
       "      <td>-0.000157</td>\n",
       "    </tr>\n",
       "    <tr>\n",
       "      <th>2749</th>\n",
       "      <td>-0.002726</td>\n",
       "      <td>-0.000142</td>\n",
       "    </tr>\n",
       "    <tr>\n",
       "      <th>2750</th>\n",
       "      <td>-0.002749</td>\n",
       "      <td>-0.000162</td>\n",
       "    </tr>\n",
       "    <tr>\n",
       "      <th>2751</th>\n",
       "      <td>-0.002634</td>\n",
       "      <td>-0.000134</td>\n",
       "    </tr>\n",
       "  </tbody>\n",
       "</table>\n",
       "<p>2752 rows × 2 columns</p>\n",
       "</div>"
      ],
      "text/plain": [
       "          PC_1      PC_2\n",
       "0     0.247990 -0.159481\n",
       "1     0.057539 -0.015130\n",
       "2     0.032431 -0.005551\n",
       "3     0.029195 -0.004026\n",
       "4     0.012108 -0.001554\n",
       "...        ...       ...\n",
       "2747 -0.002748 -0.000171\n",
       "2748 -0.002747 -0.000157\n",
       "2749 -0.002726 -0.000142\n",
       "2750 -0.002749 -0.000162\n",
       "2751 -0.002634 -0.000134\n",
       "\n",
       "[2752 rows x 2 columns]"
      ]
     },
     "execution_count": 39,
     "metadata": {},
     "output_type": "execute_result"
    }
   ],
   "source": [
    "pcs_select = pd.DataFrame(pcs)\n",
    "pcs_select = pcs_select.iloc[:, 0:2]\n",
    "pcs_select = pcs_select.set_axis(['PC_1', 'PC_2'], axis=1, inplace=False)\n",
    "pcs_select"
   ]
  },
  {
   "cell_type": "code",
   "execution_count": 17,
   "metadata": {},
   "outputs": [],
   "source": [
    "from sklearn.cluster import AgglomerativeClustering"
   ]
  },
  {
   "cell_type": "code",
   "execution_count": 42,
   "metadata": {},
   "outputs": [
    {
     "data": {
      "text/plain": [
       "array([3, 4, 4, ..., 4, 4, 4])"
      ]
     },
     "execution_count": 42,
     "metadata": {},
     "output_type": "execute_result"
    }
   ],
   "source": [
    "# Linkage options are \"ward\", \"average\", \"complete\", and \"single\"\n",
    "clustering_model = AgglomerativeClustering(n_clusters=5, \n",
    "                                           affinity='euclidean', \n",
    "                                           linkage='complete')\n",
    "clustering_model.fit(pcs_select)\n",
    "clustering_model.labels_"
   ]
  },
  {
   "cell_type": "code",
   "execution_count": 44,
   "metadata": {},
   "outputs": [
    {
     "data": {
      "text/plain": [
       "Text(0.5, 1.0, 'Flyer 2018 16S Samples')"
      ]
     },
     "execution_count": 44,
     "metadata": {},
     "output_type": "execute_result"
    },
    {
     "data": {
      "image/png": "[encoded data removed]",
      "text/plain": [
       "<Figure size 432x288 with 1 Axes>"
      ]
     },
     "metadata": {
      "needs_background": "light"
     },
     "output_type": "display_data"
    }
   ],
   "source": [
    "data_labels = clustering_model.labels_\n",
    "sns.scatterplot(data=pcs_select, \n",
    "                x='PC_1',\n",
    "                y='PC_2',\n",
    "                hue=data_labels,\n",
    "                palette=\"rainbow\").set_title('Flyer 2018 16S Samples')"
   ]
  },
  {
   "cell_type": "markdown",
   "metadata": {},
   "source": [
    "## 05. DBSCAN clustering"
   ]
  },
  {
   "cell_type": "code",
   "execution_count": 28,
   "metadata": {},
   "outputs": [],
   "source": [
    "from sklearn.cluster import DBSCAN\n",
    "from sklearn import metrics"
   ]
  },
  {
   "cell_type": "code",
   "execution_count": 29,
   "metadata": {},
   "outputs": [
    {
     "name": "stdout",
     "output_type": "stream",
     "text": [
      "Estimated number of clusters: 1\n",
      "Estimated number of noise points: 1\n"
     ]
    }
   ],
   "source": [
    "db = DBSCAN(eps=0.3, min_samples=10).fit(pcs_select)\n",
    "labels = db.labels_\n",
    "\n",
    "# Number of clusters in labels, ignoring noise if present.\n",
    "n_clusters_ = len(set(labels)) - (1 if -1 in labels else 0)\n",
    "n_noise_ = list(labels).count(-1)\n",
    "\n",
    "print(\"Estimated number of clusters: %d\" % n_clusters_)\n",
    "print(\"Estimated number of noise points: %d\" % n_noise_)"
   ]
  },
  {
   "cell_type": "markdown",
   "metadata": {},
   "source": [
    "### Well...that's not very promising. Seems like these data do not have a lot of structure."
   ]
  },
  {
   "cell_type": "markdown",
   "metadata": {},
   "source": [
    "### EXTRA NOTE: Below is something I did for a k-means analysis once; it was a useful way of determining how many clusters are informative. Need to figure out how to do this with hierarchical clustering."
   ]
  },
  {
   "cell_type": "markdown",
   "metadata": {},
   "source": [
    "#### Determine how many clusters are most informative. Once the line starts to level out, more clusters become less useful."
   ]
  },
  {
   "cell_type": "code",
   "execution_count": 233,
   "metadata": {},
   "outputs": [
    {
     "data": {
      "image/png": "[encoded data removed]",
      "text/plain": [
       "<Figure size 432x288 with 1 Axes>"
      ]
     },
     "metadata": {},
     "output_type": "display_data"
    }
   ],
   "source": [
    "plt.plot(ks, inertias, '-o', color='black')\n",
    "plt.xlabel('number of clusters, k')\n",
    "plt.ylabel('inertia')\n",
    "plt.xticks(ks)\n",
    "plt.show()"
   ]
  }
 ],
 "metadata": {
  "kernelspec": {
   "display_name": "Python 3",
   "language": "python",
   "name": "python3"
  },
  "language_info": {
   "codemirror_mode": {
    "name": "ipython",
    "version": 3
   },
   "file_extension": ".py",
   "mimetype": "text/x-python",
   "name": "python",
   "nbconvert_exporter": "python",
   "pygments_lexer": "ipython3",
   "version": "3.8.3"
  }
 },
 "nbformat": 4,
 "nbformat_minor": 2
}
