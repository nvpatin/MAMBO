{
 "cells": [
  {
   "cell_type": "code",
   "execution_count": 1,
   "id": "acknowledged-screen",
   "metadata": {},
   "outputs": [],
   "source": [
    "import pandas as pd\n",
    "import numpy as np\n",
    "import glob as glob\n",
    "import os as os\n",
    "from sklearn.ensemble import RandomForestClassifier"
   ]
  },
  {
   "cell_type": "code",
   "execution_count": 2,
   "id": "southern-package",
   "metadata": {},
   "outputs": [],
   "source": [
    "os.chdir(\"/Users/nastassia.patin/Desktop/Projects/eCruises_2018/Amplicons/tourmo_eCruises2018_noPCs_PE/02-output-dada2-pe-unfiltered/00-table-repseqs/for_RF\")"
   ]
  },
  {
   "cell_type": "markdown",
   "id": "cross-frame",
   "metadata": {},
   "source": [
    "### Import microbiome data set (relative abundances)\n",
    "#### The raw data will have a column with sample names, and a column with the corresponding sample property (eg, 'High' or 'Low' phytoplankton levels). All other columns will be ASV relative abundances."
   ]
  },
  {
   "cell_type": "code",
   "execution_count": 145,
   "id": "published-madison",
   "metadata": {},
   "outputs": [
    {
     "data": {
      "text/html": [
       "<div>\n",
       "<style scoped>\n",
       "    .dataframe tbody tr th:only-of-type {\n",
       "        vertical-align: middle;\n",
       "    }\n",
       "\n",
       "    .dataframe tbody tr th {\n",
       "        vertical-align: top;\n",
       "    }\n",
       "\n",
       "    .dataframe thead th {\n",
       "        text-align: right;\n",
       "    }\n",
       "</style>\n",
       "<table border=\"1\" class=\"dataframe\">\n",
       "  <thead>\n",
       "    <tr style=\"text-align: right;\">\n",
       "      <th></th>\n",
       "      <th>Sample</th>\n",
       "      <th>Noelaerhabdaceae</th>\n",
       "      <th>495c1bd1608a1dad54d3e2824ce899ef</th>\n",
       "      <th>a900b6678ce86851fb16bfafb87f3326</th>\n",
       "      <th>c8e360969108fa2125a3d56eb4dad24f</th>\n",
       "      <th>72143fd9e63fe40c1258948d2f0d79c3</th>\n",
       "      <th>7b6b178fad5599c0e9a734e4fb09fd64</th>\n",
       "      <th>4bbec3bb723375416616a87d785ac74a</th>\n",
       "      <th>0c35cfa523aa27921ef8544a16d1cd36</th>\n",
       "      <th>7ec69f2c62aad60e060e588ef687bdd0</th>\n",
       "      <th>...</th>\n",
       "      <th>995cc65bcfa53a868c42615004e99ad3</th>\n",
       "      <th>46b90aab075ecd8e4db549da708550d8</th>\n",
       "      <th>c4e1933274329209b7cf24daf18dfe0d</th>\n",
       "      <th>aa9e141a5e2781d280406c513bf34d45</th>\n",
       "      <th>d7682f536589fc5f920533513dd0002b</th>\n",
       "      <th>674933a0d44342a0647f7a5b4591f26e</th>\n",
       "      <th>bebe1b9a7e9aaa78172c1208111f4570</th>\n",
       "      <th>0128431733f67d02efad766d717fe6fd</th>\n",
       "      <th>41102a7dd1f4647ba5477c947daabc0e</th>\n",
       "      <th>51440f89c391fb32f9ee895db22bf8f8</th>\n",
       "    </tr>\n",
       "  </thead>\n",
       "  <tbody>\n",
       "    <tr>\n",
       "      <th>0</th>\n",
       "      <td>CN18Fc12_8_eDNA</td>\n",
       "      <td>High</td>\n",
       "      <td>0.139324</td>\n",
       "      <td>0.053004</td>\n",
       "      <td>0.036598</td>\n",
       "      <td>0.032812</td>\n",
       "      <td>0.039374</td>\n",
       "      <td>0.012367</td>\n",
       "      <td>0.000000</td>\n",
       "      <td>0.022463</td>\n",
       "      <td>...</td>\n",
       "      <td>0.0</td>\n",
       "      <td>0.0</td>\n",
       "      <td>0.0</td>\n",
       "      <td>0.0</td>\n",
       "      <td>0.0</td>\n",
       "      <td>0.00000</td>\n",
       "      <td>0.0</td>\n",
       "      <td>0.0</td>\n",
       "      <td>0.0</td>\n",
       "      <td>0.0</td>\n",
       "    </tr>\n",
       "    <tr>\n",
       "      <th>1</th>\n",
       "      <td>CN18Fc21_6_eDNA</td>\n",
       "      <td>High</td>\n",
       "      <td>0.138750</td>\n",
       "      <td>0.044532</td>\n",
       "      <td>0.040123</td>\n",
       "      <td>0.039901</td>\n",
       "      <td>0.027928</td>\n",
       "      <td>0.012481</td>\n",
       "      <td>0.010023</td>\n",
       "      <td>0.018428</td>\n",
       "      <td>...</td>\n",
       "      <td>0.0</td>\n",
       "      <td>0.0</td>\n",
       "      <td>0.0</td>\n",
       "      <td>0.0</td>\n",
       "      <td>0.0</td>\n",
       "      <td>0.00000</td>\n",
       "      <td>0.0</td>\n",
       "      <td>0.0</td>\n",
       "      <td>0.0</td>\n",
       "      <td>0.0</td>\n",
       "    </tr>\n",
       "    <tr>\n",
       "      <th>2</th>\n",
       "      <td>CN18Fc22_6_eDNA</td>\n",
       "      <td>High</td>\n",
       "      <td>0.163262</td>\n",
       "      <td>0.039394</td>\n",
       "      <td>0.041777</td>\n",
       "      <td>0.043619</td>\n",
       "      <td>0.037151</td>\n",
       "      <td>0.010214</td>\n",
       "      <td>0.007070</td>\n",
       "      <td>0.015020</td>\n",
       "      <td>...</td>\n",
       "      <td>0.0</td>\n",
       "      <td>0.0</td>\n",
       "      <td>0.0</td>\n",
       "      <td>0.0</td>\n",
       "      <td>0.0</td>\n",
       "      <td>0.00000</td>\n",
       "      <td>0.0</td>\n",
       "      <td>0.0</td>\n",
       "      <td>0.0</td>\n",
       "      <td>0.0</td>\n",
       "    </tr>\n",
       "    <tr>\n",
       "      <th>3</th>\n",
       "      <td>CN18Fc24_6_eDNA</td>\n",
       "      <td>High</td>\n",
       "      <td>0.139116</td>\n",
       "      <td>0.032631</td>\n",
       "      <td>0.045754</td>\n",
       "      <td>0.044055</td>\n",
       "      <td>0.035384</td>\n",
       "      <td>0.014060</td>\n",
       "      <td>0.006015</td>\n",
       "      <td>0.017341</td>\n",
       "      <td>...</td>\n",
       "      <td>0.0</td>\n",
       "      <td>0.0</td>\n",
       "      <td>0.0</td>\n",
       "      <td>0.0</td>\n",
       "      <td>0.0</td>\n",
       "      <td>0.00000</td>\n",
       "      <td>0.0</td>\n",
       "      <td>0.0</td>\n",
       "      <td>0.0</td>\n",
       "      <td>0.0</td>\n",
       "    </tr>\n",
       "    <tr>\n",
       "      <th>4</th>\n",
       "      <td>CN18Fc25_5_eDNA</td>\n",
       "      <td>Low</td>\n",
       "      <td>0.126853</td>\n",
       "      <td>0.050161</td>\n",
       "      <td>0.024458</td>\n",
       "      <td>0.034026</td>\n",
       "      <td>0.025193</td>\n",
       "      <td>0.011315</td>\n",
       "      <td>0.011631</td>\n",
       "      <td>0.017871</td>\n",
       "      <td>...</td>\n",
       "      <td>0.0</td>\n",
       "      <td>0.0</td>\n",
       "      <td>0.0</td>\n",
       "      <td>0.0</td>\n",
       "      <td>0.0</td>\n",
       "      <td>0.00001</td>\n",
       "      <td>0.0</td>\n",
       "      <td>0.0</td>\n",
       "      <td>0.0</td>\n",
       "      <td>0.0</td>\n",
       "    </tr>\n",
       "  </tbody>\n",
       "</table>\n",
       "<p>5 rows × 2754 columns</p>\n",
       "</div>"
      ],
      "text/plain": [
       "            Sample Noelaerhabdaceae  495c1bd1608a1dad54d3e2824ce899ef  \\\n",
       "0  CN18Fc12_8_eDNA             High                          0.139324   \n",
       "1  CN18Fc21_6_eDNA             High                          0.138750   \n",
       "2  CN18Fc22_6_eDNA             High                          0.163262   \n",
       "3  CN18Fc24_6_eDNA             High                          0.139116   \n",
       "4  CN18Fc25_5_eDNA              Low                          0.126853   \n",
       "\n",
       "   a900b6678ce86851fb16bfafb87f3326  c8e360969108fa2125a3d56eb4dad24f  \\\n",
       "0                          0.053004                          0.036598   \n",
       "1                          0.044532                          0.040123   \n",
       "2                          0.039394                          0.041777   \n",
       "3                          0.032631                          0.045754   \n",
       "4                          0.050161                          0.024458   \n",
       "\n",
       "   72143fd9e63fe40c1258948d2f0d79c3  7b6b178fad5599c0e9a734e4fb09fd64  \\\n",
       "0                          0.032812                          0.039374   \n",
       "1                          0.039901                          0.027928   \n",
       "2                          0.043619                          0.037151   \n",
       "3                          0.044055                          0.035384   \n",
       "4                          0.034026                          0.025193   \n",
       "\n",
       "   4bbec3bb723375416616a87d785ac74a  0c35cfa523aa27921ef8544a16d1cd36  \\\n",
       "0                          0.012367                          0.000000   \n",
       "1                          0.012481                          0.010023   \n",
       "2                          0.010214                          0.007070   \n",
       "3                          0.014060                          0.006015   \n",
       "4                          0.011315                          0.011631   \n",
       "\n",
       "   7ec69f2c62aad60e060e588ef687bdd0  ...  995cc65bcfa53a868c42615004e99ad3  \\\n",
       "0                          0.022463  ...                               0.0   \n",
       "1                          0.018428  ...                               0.0   \n",
       "2                          0.015020  ...                               0.0   \n",
       "3                          0.017341  ...                               0.0   \n",
       "4                          0.017871  ...                               0.0   \n",
       "\n",
       "   46b90aab075ecd8e4db549da708550d8  c4e1933274329209b7cf24daf18dfe0d  \\\n",
       "0                               0.0                               0.0   \n",
       "1                               0.0                               0.0   \n",
       "2                               0.0                               0.0   \n",
       "3                               0.0                               0.0   \n",
       "4                               0.0                               0.0   \n",
       "\n",
       "   aa9e141a5e2781d280406c513bf34d45  d7682f536589fc5f920533513dd0002b  \\\n",
       "0                               0.0                               0.0   \n",
       "1                               0.0                               0.0   \n",
       "2                               0.0                               0.0   \n",
       "3                               0.0                               0.0   \n",
       "4                               0.0                               0.0   \n",
       "\n",
       "   674933a0d44342a0647f7a5b4591f26e  bebe1b9a7e9aaa78172c1208111f4570  \\\n",
       "0                           0.00000                               0.0   \n",
       "1                           0.00000                               0.0   \n",
       "2                           0.00000                               0.0   \n",
       "3                           0.00000                               0.0   \n",
       "4                           0.00001                               0.0   \n",
       "\n",
       "   0128431733f67d02efad766d717fe6fd  41102a7dd1f4647ba5477c947daabc0e  \\\n",
       "0                               0.0                               0.0   \n",
       "1                               0.0                               0.0   \n",
       "2                               0.0                               0.0   \n",
       "3                               0.0                               0.0   \n",
       "4                               0.0                               0.0   \n",
       "\n",
       "   51440f89c391fb32f9ee895db22bf8f8  \n",
       "0                               0.0  \n",
       "1                               0.0  \n",
       "2                               0.0  \n",
       "3                               0.0  \n",
       "4                               0.0  \n",
       "\n",
       "[5 rows x 2754 columns]"
      ]
     },
     "execution_count": 145,
     "metadata": {},
     "output_type": "execute_result"
    }
   ],
   "source": [
    "df = pd.read_csv(\"table-noNCs-relfreq_forEhuxRF.tsv\", sep='\\t')\n",
    "df.head()"
   ]
  },
  {
   "cell_type": "code",
   "execution_count": 146,
   "id": "liable-proof",
   "metadata": {},
   "outputs": [
    {
     "data": {
      "text/html": [
       "<div>\n",
       "<style scoped>\n",
       "    .dataframe tbody tr th:only-of-type {\n",
       "        vertical-align: middle;\n",
       "    }\n",
       "\n",
       "    .dataframe tbody tr th {\n",
       "        vertical-align: top;\n",
       "    }\n",
       "\n",
       "    .dataframe thead th {\n",
       "        text-align: right;\n",
       "    }\n",
       "</style>\n",
       "<table border=\"1\" class=\"dataframe\">\n",
       "  <thead>\n",
       "    <tr style=\"text-align: right;\">\n",
       "      <th></th>\n",
       "      <th>Noelaerhabdaceae</th>\n",
       "      <th>495c1bd1608a1dad54d3e2824ce899ef</th>\n",
       "      <th>a900b6678ce86851fb16bfafb87f3326</th>\n",
       "      <th>c8e360969108fa2125a3d56eb4dad24f</th>\n",
       "      <th>72143fd9e63fe40c1258948d2f0d79c3</th>\n",
       "      <th>7b6b178fad5599c0e9a734e4fb09fd64</th>\n",
       "      <th>4bbec3bb723375416616a87d785ac74a</th>\n",
       "      <th>0c35cfa523aa27921ef8544a16d1cd36</th>\n",
       "      <th>7ec69f2c62aad60e060e588ef687bdd0</th>\n",
       "      <th>61e9a50f4346bb3a5b16179b8eca71fa</th>\n",
       "      <th>...</th>\n",
       "      <th>995cc65bcfa53a868c42615004e99ad3</th>\n",
       "      <th>46b90aab075ecd8e4db549da708550d8</th>\n",
       "      <th>c4e1933274329209b7cf24daf18dfe0d</th>\n",
       "      <th>aa9e141a5e2781d280406c513bf34d45</th>\n",
       "      <th>d7682f536589fc5f920533513dd0002b</th>\n",
       "      <th>674933a0d44342a0647f7a5b4591f26e</th>\n",
       "      <th>bebe1b9a7e9aaa78172c1208111f4570</th>\n",
       "      <th>0128431733f67d02efad766d717fe6fd</th>\n",
       "      <th>41102a7dd1f4647ba5477c947daabc0e</th>\n",
       "      <th>51440f89c391fb32f9ee895db22bf8f8</th>\n",
       "    </tr>\n",
       "  </thead>\n",
       "  <tbody>\n",
       "    <tr>\n",
       "      <th>0</th>\n",
       "      <td>High</td>\n",
       "      <td>0.139324</td>\n",
       "      <td>0.053004</td>\n",
       "      <td>0.036598</td>\n",
       "      <td>0.032812</td>\n",
       "      <td>0.039374</td>\n",
       "      <td>0.012367</td>\n",
       "      <td>0.000000</td>\n",
       "      <td>0.022463</td>\n",
       "      <td>0.047956</td>\n",
       "      <td>...</td>\n",
       "      <td>0.0</td>\n",
       "      <td>0.0</td>\n",
       "      <td>0.0</td>\n",
       "      <td>0.0</td>\n",
       "      <td>0.0</td>\n",
       "      <td>0.00000</td>\n",
       "      <td>0.0</td>\n",
       "      <td>0.0</td>\n",
       "      <td>0.0</td>\n",
       "      <td>0.0</td>\n",
       "    </tr>\n",
       "    <tr>\n",
       "      <th>1</th>\n",
       "      <td>High</td>\n",
       "      <td>0.138750</td>\n",
       "      <td>0.044532</td>\n",
       "      <td>0.040123</td>\n",
       "      <td>0.039901</td>\n",
       "      <td>0.027928</td>\n",
       "      <td>0.012481</td>\n",
       "      <td>0.010023</td>\n",
       "      <td>0.018428</td>\n",
       "      <td>0.024502</td>\n",
       "      <td>...</td>\n",
       "      <td>0.0</td>\n",
       "      <td>0.0</td>\n",
       "      <td>0.0</td>\n",
       "      <td>0.0</td>\n",
       "      <td>0.0</td>\n",
       "      <td>0.00000</td>\n",
       "      <td>0.0</td>\n",
       "      <td>0.0</td>\n",
       "      <td>0.0</td>\n",
       "      <td>0.0</td>\n",
       "    </tr>\n",
       "    <tr>\n",
       "      <th>2</th>\n",
       "      <td>High</td>\n",
       "      <td>0.163262</td>\n",
       "      <td>0.039394</td>\n",
       "      <td>0.041777</td>\n",
       "      <td>0.043619</td>\n",
       "      <td>0.037151</td>\n",
       "      <td>0.010214</td>\n",
       "      <td>0.007070</td>\n",
       "      <td>0.015020</td>\n",
       "      <td>0.019787</td>\n",
       "      <td>...</td>\n",
       "      <td>0.0</td>\n",
       "      <td>0.0</td>\n",
       "      <td>0.0</td>\n",
       "      <td>0.0</td>\n",
       "      <td>0.0</td>\n",
       "      <td>0.00000</td>\n",
       "      <td>0.0</td>\n",
       "      <td>0.0</td>\n",
       "      <td>0.0</td>\n",
       "      <td>0.0</td>\n",
       "    </tr>\n",
       "    <tr>\n",
       "      <th>3</th>\n",
       "      <td>High</td>\n",
       "      <td>0.139116</td>\n",
       "      <td>0.032631</td>\n",
       "      <td>0.045754</td>\n",
       "      <td>0.044055</td>\n",
       "      <td>0.035384</td>\n",
       "      <td>0.014060</td>\n",
       "      <td>0.006015</td>\n",
       "      <td>0.017341</td>\n",
       "      <td>0.023023</td>\n",
       "      <td>...</td>\n",
       "      <td>0.0</td>\n",
       "      <td>0.0</td>\n",
       "      <td>0.0</td>\n",
       "      <td>0.0</td>\n",
       "      <td>0.0</td>\n",
       "      <td>0.00000</td>\n",
       "      <td>0.0</td>\n",
       "      <td>0.0</td>\n",
       "      <td>0.0</td>\n",
       "      <td>0.0</td>\n",
       "    </tr>\n",
       "    <tr>\n",
       "      <th>4</th>\n",
       "      <td>Low</td>\n",
       "      <td>0.126853</td>\n",
       "      <td>0.050161</td>\n",
       "      <td>0.024458</td>\n",
       "      <td>0.034026</td>\n",
       "      <td>0.025193</td>\n",
       "      <td>0.011315</td>\n",
       "      <td>0.011631</td>\n",
       "      <td>0.017871</td>\n",
       "      <td>0.024233</td>\n",
       "      <td>...</td>\n",
       "      <td>0.0</td>\n",
       "      <td>0.0</td>\n",
       "      <td>0.0</td>\n",
       "      <td>0.0</td>\n",
       "      <td>0.0</td>\n",
       "      <td>0.00001</td>\n",
       "      <td>0.0</td>\n",
       "      <td>0.0</td>\n",
       "      <td>0.0</td>\n",
       "      <td>0.0</td>\n",
       "    </tr>\n",
       "  </tbody>\n",
       "</table>\n",
       "<p>5 rows × 2753 columns</p>\n",
       "</div>"
      ],
      "text/plain": [
       "  Noelaerhabdaceae  495c1bd1608a1dad54d3e2824ce899ef  \\\n",
       "0             High                          0.139324   \n",
       "1             High                          0.138750   \n",
       "2             High                          0.163262   \n",
       "3             High                          0.139116   \n",
       "4              Low                          0.126853   \n",
       "\n",
       "   a900b6678ce86851fb16bfafb87f3326  c8e360969108fa2125a3d56eb4dad24f  \\\n",
       "0                          0.053004                          0.036598   \n",
       "1                          0.044532                          0.040123   \n",
       "2                          0.039394                          0.041777   \n",
       "3                          0.032631                          0.045754   \n",
       "4                          0.050161                          0.024458   \n",
       "\n",
       "   72143fd9e63fe40c1258948d2f0d79c3  7b6b178fad5599c0e9a734e4fb09fd64  \\\n",
       "0                          0.032812                          0.039374   \n",
       "1                          0.039901                          0.027928   \n",
       "2                          0.043619                          0.037151   \n",
       "3                          0.044055                          0.035384   \n",
       "4                          0.034026                          0.025193   \n",
       "\n",
       "   4bbec3bb723375416616a87d785ac74a  0c35cfa523aa27921ef8544a16d1cd36  \\\n",
       "0                          0.012367                          0.000000   \n",
       "1                          0.012481                          0.010023   \n",
       "2                          0.010214                          0.007070   \n",
       "3                          0.014060                          0.006015   \n",
       "4                          0.011315                          0.011631   \n",
       "\n",
       "   7ec69f2c62aad60e060e588ef687bdd0  61e9a50f4346bb3a5b16179b8eca71fa  ...  \\\n",
       "0                          0.022463                          0.047956  ...   \n",
       "1                          0.018428                          0.024502  ...   \n",
       "2                          0.015020                          0.019787  ...   \n",
       "3                          0.017341                          0.023023  ...   \n",
       "4                          0.017871                          0.024233  ...   \n",
       "\n",
       "   995cc65bcfa53a868c42615004e99ad3  46b90aab075ecd8e4db549da708550d8  \\\n",
       "0                               0.0                               0.0   \n",
       "1                               0.0                               0.0   \n",
       "2                               0.0                               0.0   \n",
       "3                               0.0                               0.0   \n",
       "4                               0.0                               0.0   \n",
       "\n",
       "   c4e1933274329209b7cf24daf18dfe0d  aa9e141a5e2781d280406c513bf34d45  \\\n",
       "0                               0.0                               0.0   \n",
       "1                               0.0                               0.0   \n",
       "2                               0.0                               0.0   \n",
       "3                               0.0                               0.0   \n",
       "4                               0.0                               0.0   \n",
       "\n",
       "   d7682f536589fc5f920533513dd0002b  674933a0d44342a0647f7a5b4591f26e  \\\n",
       "0                               0.0                           0.00000   \n",
       "1                               0.0                           0.00000   \n",
       "2                               0.0                           0.00000   \n",
       "3                               0.0                           0.00000   \n",
       "4                               0.0                           0.00001   \n",
       "\n",
       "   bebe1b9a7e9aaa78172c1208111f4570  0128431733f67d02efad766d717fe6fd  \\\n",
       "0                               0.0                               0.0   \n",
       "1                               0.0                               0.0   \n",
       "2                               0.0                               0.0   \n",
       "3                               0.0                               0.0   \n",
       "4                               0.0                               0.0   \n",
       "\n",
       "   41102a7dd1f4647ba5477c947daabc0e  51440f89c391fb32f9ee895db22bf8f8  \n",
       "0                               0.0                               0.0  \n",
       "1                               0.0                               0.0  \n",
       "2                               0.0                               0.0  \n",
       "3                               0.0                               0.0  \n",
       "4                               0.0                               0.0  \n",
       "\n",
       "[5 rows x 2753 columns]"
      ]
     },
     "execution_count": 146,
     "metadata": {},
     "output_type": "execute_result"
    }
   ],
   "source": [
    "df = df.drop(columns=['Sample'])\n",
    "df.head()"
   ]
  },
  {
   "cell_type": "code",
   "execution_count": 147,
   "id": "continental-supervision",
   "metadata": {},
   "outputs": [],
   "source": [
    "# Randomly assign some rows (samples) to be used for training set\n",
    "# In this case we will use 80% of the samples as training\n",
    "df['is_train'] = np.random.uniform(0, 1, len(df)) <= .80"
   ]
  },
  {
   "cell_type": "code",
   "execution_count": 148,
   "id": "sticky-jaguar",
   "metadata": {},
   "outputs": [],
   "source": [
    "# Create two new dataframes, one with the training rows, one with the test rows\n",
    "train, test = df[df['is_train']==True], df[df['is_train']==False]"
   ]
  },
  {
   "cell_type": "code",
   "execution_count": 149,
   "id": "infinite-currency",
   "metadata": {},
   "outputs": [
    {
     "name": "stdout",
     "output_type": "stream",
     "text": [
      "Number of observations in the training data: 45\n",
      "Number of observations in the test data: 13\n"
     ]
    }
   ],
   "source": [
    "# Show the number of observations for the test and training dataframes\n",
    "print('Number of observations in the training data:', len(train))\n",
    "print('Number of observations in the test data:',len(test))"
   ]
  },
  {
   "cell_type": "markdown",
   "id": "through-closer",
   "metadata": {},
   "source": [
    "### Pre Process Data"
   ]
  },
  {
   "cell_type": "code",
   "execution_count": 150,
   "id": "false-thesaurus",
   "metadata": {},
   "outputs": [
    {
     "data": {
      "text/plain": [
       "Index(['495c1bd1608a1dad54d3e2824ce899ef', 'a900b6678ce86851fb16bfafb87f3326',\n",
       "       'c8e360969108fa2125a3d56eb4dad24f', '72143fd9e63fe40c1258948d2f0d79c3',\n",
       "       '7b6b178fad5599c0e9a734e4fb09fd64', '4bbec3bb723375416616a87d785ac74a',\n",
       "       '0c35cfa523aa27921ef8544a16d1cd36', '7ec69f2c62aad60e060e588ef687bdd0',\n",
       "       '61e9a50f4346bb3a5b16179b8eca71fa', 'a140195871278e8fcf9447e42bad8786',\n",
       "       ...\n",
       "       '46b90aab075ecd8e4db549da708550d8', 'c4e1933274329209b7cf24daf18dfe0d',\n",
       "       'aa9e141a5e2781d280406c513bf34d45', 'd7682f536589fc5f920533513dd0002b',\n",
       "       '674933a0d44342a0647f7a5b4591f26e', 'bebe1b9a7e9aaa78172c1208111f4570',\n",
       "       '0128431733f67d02efad766d717fe6fd', '41102a7dd1f4647ba5477c947daabc0e',\n",
       "       '51440f89c391fb32f9ee895db22bf8f8', 'is_train'],\n",
       "      dtype='object', length=2753)"
      ]
     },
     "execution_count": 150,
     "metadata": {},
     "output_type": "execute_result"
    }
   ],
   "source": [
    "# Create a list of the feature column's names\n",
    "features = df.columns[1:]\n",
    "\n",
    "# View features\n",
    "features"
   ]
  },
  {
   "cell_type": "code",
   "execution_count": 151,
   "id": "former-branch",
   "metadata": {},
   "outputs": [
    {
     "data": {
      "text/plain": [
       "array([0, 0, 0, 1, 0, 0, 1, 0, 0, 0, 0, 1, 1, 0, 1, 0, 1, 1, 1, 1, 0, 1,\n",
       "       1, 1, 1, 1, 1, 1, 0, 0, 1, 0, 0, 1, 0, 1, 1, 1, 1, 0, 1, 0, 1, 1,\n",
       "       0])"
      ]
     },
     "execution_count": 151,
     "metadata": {},
     "output_type": "execute_result"
    }
   ],
   "source": [
    "# train['Noelaerhabdaceae'] contains the actual sample classifications. Before we can use it,\n",
    "# we need to convert each category into a digit. In this case there are two categories, \"High\" and \"Low\".\n",
    "y = pd.factorize(train['Noelaerhabdaceae'])[0]\n",
    "y"
   ]
  },
  {
   "cell_type": "code",
   "execution_count": 152,
   "id": "refined-delta",
   "metadata": {},
   "outputs": [
    {
     "data": {
      "text/plain": [
       "Index(['High', 'Low'], dtype='object')"
      ]
     },
     "execution_count": 152,
     "metadata": {},
     "output_type": "execute_result"
    }
   ],
   "source": [
    "z = pd.factorize(train['Noelaerhabdaceae'])[1]\n",
    "z"
   ]
  },
  {
   "cell_type": "markdown",
   "id": "subject-college",
   "metadata": {},
   "source": [
    "### Train the Random Forest Classifier"
   ]
  },
  {
   "cell_type": "code",
   "execution_count": 153,
   "id": "beginning-netherlands",
   "metadata": {},
   "outputs": [
    {
     "data": {
      "text/plain": [
       "RandomForestClassifier(n_jobs=2, random_state=0)"
      ]
     },
     "execution_count": 153,
     "metadata": {},
     "output_type": "execute_result"
    }
   ],
   "source": [
    "# Create a random forest Classifier. By convention, clf means 'Classifier'\n",
    "clf = RandomForestClassifier(n_jobs=2, random_state=0, bootstrap=True)\n",
    "\n",
    "# Train the Classifier to take the training features and learn how they relate to the training y (E. hux level)\n",
    "clf.fit(train[features], y)"
   ]
  },
  {
   "cell_type": "markdown",
   "id": "civic-wiring",
   "metadata": {},
   "source": [
    "### Apply Classifier to test data"
   ]
  },
  {
   "cell_type": "code",
   "execution_count": 154,
   "id": "desirable-importance",
   "metadata": {},
   "outputs": [
    {
     "data": {
      "text/plain": [
       "array([0, 1, 0, 0, 1, 1, 1, 0, 1, 0, 0, 1, 0])"
      ]
     },
     "execution_count": 154,
     "metadata": {},
     "output_type": "execute_result"
    }
   ],
   "source": [
    "# Apply the Classifier we trained to the test data (which, remember, it has never seen before)\n",
    "clf.predict(test[features])"
   ]
  },
  {
   "cell_type": "code",
   "execution_count": 155,
   "id": "blind-lancaster",
   "metadata": {},
   "outputs": [
    {
     "data": {
      "text/plain": [
       "array([[0.68, 0.32],\n",
       "       [0.47, 0.53],\n",
       "       [0.6 , 0.4 ],\n",
       "       [0.62, 0.38],\n",
       "       [0.48, 0.52],\n",
       "       [0.31, 0.69],\n",
       "       [0.26, 0.74],\n",
       "       [0.51, 0.49],\n",
       "       [0.38, 0.62],\n",
       "       [0.62, 0.38]])"
      ]
     },
     "execution_count": 155,
     "metadata": {},
     "output_type": "execute_result"
    }
   ],
   "source": [
    "# View the predicted probabilities of the first 10 observations\n",
    "clf.predict_proba(test[features])[0:10]"
   ]
  },
  {
   "cell_type": "markdown",
   "id": "rolled-fleece",
   "metadata": {},
   "source": [
    "### Evaluate classifier"
   ]
  },
  {
   "cell_type": "code",
   "execution_count": 156,
   "id": "sized-selling",
   "metadata": {},
   "outputs": [],
   "source": [
    "# Revert predicted state to original classification state (\"High\" and \"Low\")\n",
    "preds = z[clf.predict(test[features])]"
   ]
  },
  {
   "cell_type": "code",
   "execution_count": 157,
   "id": "surrounded-manor",
   "metadata": {},
   "outputs": [
    {
     "data": {
      "text/plain": [
       "Index(['High', 'Low', 'High', 'High', 'Low', 'Low', 'Low', 'High', 'Low',\n",
       "       'High', 'High', 'Low', 'High'],\n",
       "      dtype='object')"
      ]
     },
     "execution_count": 157,
     "metadata": {},
     "output_type": "execute_result"
    }
   ],
   "source": [
    "# View the PREDICTED categories for each sample\n",
    "preds"
   ]
  },
  {
   "cell_type": "code",
   "execution_count": 158,
   "id": "continuous-wilson",
   "metadata": {},
   "outputs": [
    {
     "data": {
      "text/plain": [
       "1     High\n",
       "5     High\n",
       "9     High\n",
       "11    High\n",
       "16    High\n",
       "24     Low\n",
       "34     Low\n",
       "36     Low\n",
       "37    High\n",
       "41     Low\n",
       "46     Low\n",
       "48     Low\n",
       "55    High\n",
       "Name: Noelaerhabdaceae, dtype: object"
      ]
     },
     "execution_count": 158,
     "metadata": {},
     "output_type": "execute_result"
    }
   ],
   "source": [
    "# View the ACTUAL categories for each sample\n",
    "test['Noelaerhabdaceae']"
   ]
  },
  {
   "cell_type": "markdown",
   "id": "wicked-dairy",
   "metadata": {},
   "source": [
    "### Create a confusion matrix"
   ]
  },
  {
   "cell_type": "code",
   "execution_count": 159,
   "id": "noticed-resort",
   "metadata": {},
   "outputs": [
    {
     "data": {
      "text/html": [
       "<div>\n",
       "<style scoped>\n",
       "    .dataframe tbody tr th:only-of-type {\n",
       "        vertical-align: middle;\n",
       "    }\n",
       "\n",
       "    .dataframe tbody tr th {\n",
       "        vertical-align: top;\n",
       "    }\n",
       "\n",
       "    .dataframe thead th {\n",
       "        text-align: right;\n",
       "    }\n",
       "</style>\n",
       "<table border=\"1\" class=\"dataframe\">\n",
       "  <thead>\n",
       "    <tr style=\"text-align: right;\">\n",
       "      <th>Predicted Category</th>\n",
       "      <th>High</th>\n",
       "      <th>Low</th>\n",
       "    </tr>\n",
       "    <tr>\n",
       "      <th>Actual Category</th>\n",
       "      <th></th>\n",
       "      <th></th>\n",
       "    </tr>\n",
       "  </thead>\n",
       "  <tbody>\n",
       "    <tr>\n",
       "      <th>High</th>\n",
       "      <td>4</td>\n",
       "      <td>3</td>\n",
       "    </tr>\n",
       "    <tr>\n",
       "      <th>Low</th>\n",
       "      <td>3</td>\n",
       "      <td>3</td>\n",
       "    </tr>\n",
       "  </tbody>\n",
       "</table>\n",
       "</div>"
      ],
      "text/plain": [
       "Predicted Category  High  Low\n",
       "Actual Category              \n",
       "High                   4    3\n",
       "Low                    3    3"
      ]
     },
     "execution_count": 159,
     "metadata": {},
     "output_type": "execute_result"
    }
   ],
   "source": [
    "pd.crosstab(test['Noelaerhabdaceae'], preds, rownames=['Actual Category'], colnames=['Predicted Category'])"
   ]
  },
  {
   "cell_type": "markdown",
   "id": "organic-lincoln",
   "metadata": {},
   "source": [
    "## Identify the most important features driving the correlation and re-train the RF using only those important features"
   ]
  },
  {
   "cell_type": "markdown",
   "id": "killing-pioneer",
   "metadata": {},
   "source": [
    "### View feature importance"
   ]
  },
  {
   "cell_type": "code",
   "execution_count": 160,
   "id": "processed-freedom",
   "metadata": {},
   "outputs": [],
   "source": [
    "# View a list of the features and their importance scores\n",
    "fimp_list = list(zip(train[features], clf.feature_importances_))"
   ]
  },
  {
   "cell_type": "markdown",
   "id": "metric-feelings",
   "metadata": {},
   "source": [
    "#### Remove features with an importance above some value"
   ]
  },
  {
   "cell_type": "code",
   "execution_count": 161,
   "id": "skilled-avenue",
   "metadata": {},
   "outputs": [
    {
     "data": {
      "text/html": [
       "<div>\n",
       "<style scoped>\n",
       "    .dataframe tbody tr th:only-of-type {\n",
       "        vertical-align: middle;\n",
       "    }\n",
       "\n",
       "    .dataframe tbody tr th {\n",
       "        vertical-align: top;\n",
       "    }\n",
       "\n",
       "    .dataframe thead th {\n",
       "        text-align: right;\n",
       "    }\n",
       "</style>\n",
       "<table border=\"1\" class=\"dataframe\">\n",
       "  <thead>\n",
       "    <tr style=\"text-align: right;\">\n",
       "      <th></th>\n",
       "      <th>0</th>\n",
       "      <th>1</th>\n",
       "    </tr>\n",
       "  </thead>\n",
       "  <tbody>\n",
       "    <tr>\n",
       "      <th>0</th>\n",
       "      <td>495c1bd1608a1dad54d3e2824ce899ef</td>\n",
       "      <td>0.000000</td>\n",
       "    </tr>\n",
       "    <tr>\n",
       "      <th>1</th>\n",
       "      <td>a900b6678ce86851fb16bfafb87f3326</td>\n",
       "      <td>0.001630</td>\n",
       "    </tr>\n",
       "    <tr>\n",
       "      <th>2</th>\n",
       "      <td>c8e360969108fa2125a3d56eb4dad24f</td>\n",
       "      <td>0.001446</td>\n",
       "    </tr>\n",
       "    <tr>\n",
       "      <th>3</th>\n",
       "      <td>72143fd9e63fe40c1258948d2f0d79c3</td>\n",
       "      <td>0.003410</td>\n",
       "    </tr>\n",
       "    <tr>\n",
       "      <th>4</th>\n",
       "      <td>7b6b178fad5599c0e9a734e4fb09fd64</td>\n",
       "      <td>0.000863</td>\n",
       "    </tr>\n",
       "  </tbody>\n",
       "</table>\n",
       "</div>"
      ],
      "text/plain": [
       "                                  0         1\n",
       "0  495c1bd1608a1dad54d3e2824ce899ef  0.000000\n",
       "1  a900b6678ce86851fb16bfafb87f3326  0.001630\n",
       "2  c8e360969108fa2125a3d56eb4dad24f  0.001446\n",
       "3  72143fd9e63fe40c1258948d2f0d79c3  0.003410\n",
       "4  7b6b178fad5599c0e9a734e4fb09fd64  0.000863"
      ]
     },
     "execution_count": 161,
     "metadata": {},
     "output_type": "execute_result"
    }
   ],
   "source": [
    "# Convert to dataframe\n",
    "feature_imps = pd.DataFrame(fimp_list)\n",
    "feature_nonzero_imps = feature_imps.loc[feature_imps[1] > 0.001]\n",
    "feature_imps.head()"
   ]
  },
  {
   "cell_type": "code",
   "execution_count": 162,
   "id": "straight-confusion",
   "metadata": {},
   "outputs": [
    {
     "data": {
      "text/plain": [
       "(2753, 2)"
      ]
     },
     "execution_count": 162,
     "metadata": {},
     "output_type": "execute_result"
    }
   ],
   "source": [
    "feature_imps.shape"
   ]
  },
  {
   "cell_type": "code",
   "execution_count": 163,
   "id": "adjustable-turkey",
   "metadata": {},
   "outputs": [
    {
     "data": {
      "text/plain": [
       "(281, 2)"
      ]
     },
     "execution_count": 163,
     "metadata": {},
     "output_type": "execute_result"
    }
   ],
   "source": [
    "feature_nonzero_imps.shape"
   ]
  },
  {
   "cell_type": "code",
   "execution_count": 164,
   "id": "altered-philippines",
   "metadata": {},
   "outputs": [],
   "source": [
    "# Make a list of features with nonzero importance\n",
    "asvs_nonzero = feature_nonzero_imps[0].tolist()"
   ]
  },
  {
   "cell_type": "code",
   "execution_count": 178,
   "id": "organized-hours",
   "metadata": {},
   "outputs": [
    {
     "data": {
      "text/html": [
       "<div>\n",
       "<style scoped>\n",
       "    .dataframe tbody tr th:only-of-type {\n",
       "        vertical-align: middle;\n",
       "    }\n",
       "\n",
       "    .dataframe tbody tr th {\n",
       "        vertical-align: top;\n",
       "    }\n",
       "\n",
       "    .dataframe thead th {\n",
       "        text-align: right;\n",
       "    }\n",
       "</style>\n",
       "<table border=\"1\" class=\"dataframe\">\n",
       "  <thead>\n",
       "    <tr style=\"text-align: right;\">\n",
       "      <th></th>\n",
       "      <th>a900b6678ce86851fb16bfafb87f3326</th>\n",
       "      <th>c8e360969108fa2125a3d56eb4dad24f</th>\n",
       "      <th>72143fd9e63fe40c1258948d2f0d79c3</th>\n",
       "      <th>4bbec3bb723375416616a87d785ac74a</th>\n",
       "      <th>0c35cfa523aa27921ef8544a16d1cd36</th>\n",
       "      <th>61e9a50f4346bb3a5b16179b8eca71fa</th>\n",
       "      <th>a140195871278e8fcf9447e42bad8786</th>\n",
       "      <th>1f9d97b07aa566b3b35536b0e7302bb0</th>\n",
       "      <th>33e3d7409266a86935f571199ff9cc58</th>\n",
       "      <th>b96ea0d3eaa1a062c1e8411c138f7e28</th>\n",
       "      <th>...</th>\n",
       "      <th>ce96254356d98a3e5023a32e8be899cf</th>\n",
       "      <th>16ec87a9ca205bcd412d48d61975c591</th>\n",
       "      <th>83a477353e76b41335fb9470b5bcaa94</th>\n",
       "      <th>ce6cd1dcfe080dec5b0f409b2bf650b7</th>\n",
       "      <th>3c4db98ad400e85a11cddb49ce508374</th>\n",
       "      <th>dd39851591ee5eab8bd3ef808eed9df8</th>\n",
       "      <th>b18bff56026036d35ea85628311c88c9</th>\n",
       "      <th>ba317104ebdc300f47e45b03ba33f214</th>\n",
       "      <th>89896fba045deb2935da13334de1c601</th>\n",
       "      <th>56381d3c6ffb6a33ce11e28ebb733fa9</th>\n",
       "    </tr>\n",
       "  </thead>\n",
       "  <tbody>\n",
       "    <tr>\n",
       "      <th>0</th>\n",
       "      <td>0.053004</td>\n",
       "      <td>0.036598</td>\n",
       "      <td>0.032812</td>\n",
       "      <td>0.012367</td>\n",
       "      <td>0.000000</td>\n",
       "      <td>0.047956</td>\n",
       "      <td>0.024483</td>\n",
       "      <td>0.008582</td>\n",
       "      <td>0.020949</td>\n",
       "      <td>0.000000</td>\n",
       "      <td>...</td>\n",
       "      <td>0.0</td>\n",
       "      <td>0.0</td>\n",
       "      <td>0.00000</td>\n",
       "      <td>0.0</td>\n",
       "      <td>0.0</td>\n",
       "      <td>0.0</td>\n",
       "      <td>0.0</td>\n",
       "      <td>0.0</td>\n",
       "      <td>0.0</td>\n",
       "      <td>0.0</td>\n",
       "    </tr>\n",
       "    <tr>\n",
       "      <th>1</th>\n",
       "      <td>0.044532</td>\n",
       "      <td>0.040123</td>\n",
       "      <td>0.039901</td>\n",
       "      <td>0.012481</td>\n",
       "      <td>0.010023</td>\n",
       "      <td>0.024502</td>\n",
       "      <td>0.019855</td>\n",
       "      <td>0.009293</td>\n",
       "      <td>0.019522</td>\n",
       "      <td>0.000000</td>\n",
       "      <td>...</td>\n",
       "      <td>0.0</td>\n",
       "      <td>0.0</td>\n",
       "      <td>0.00000</td>\n",
       "      <td>0.0</td>\n",
       "      <td>0.0</td>\n",
       "      <td>0.0</td>\n",
       "      <td>0.0</td>\n",
       "      <td>0.0</td>\n",
       "      <td>0.0</td>\n",
       "      <td>0.0</td>\n",
       "    </tr>\n",
       "    <tr>\n",
       "      <th>2</th>\n",
       "      <td>0.039394</td>\n",
       "      <td>0.041777</td>\n",
       "      <td>0.043619</td>\n",
       "      <td>0.010214</td>\n",
       "      <td>0.007070</td>\n",
       "      <td>0.019787</td>\n",
       "      <td>0.018105</td>\n",
       "      <td>0.007811</td>\n",
       "      <td>0.020268</td>\n",
       "      <td>0.000000</td>\n",
       "      <td>...</td>\n",
       "      <td>0.0</td>\n",
       "      <td>0.0</td>\n",
       "      <td>0.00008</td>\n",
       "      <td>0.0</td>\n",
       "      <td>0.0</td>\n",
       "      <td>0.0</td>\n",
       "      <td>0.0</td>\n",
       "      <td>0.0</td>\n",
       "      <td>0.0</td>\n",
       "      <td>0.0</td>\n",
       "    </tr>\n",
       "    <tr>\n",
       "      <th>3</th>\n",
       "      <td>0.032631</td>\n",
       "      <td>0.045754</td>\n",
       "      <td>0.044055</td>\n",
       "      <td>0.014060</td>\n",
       "      <td>0.006015</td>\n",
       "      <td>0.023023</td>\n",
       "      <td>0.016091</td>\n",
       "      <td>0.006015</td>\n",
       "      <td>0.018610</td>\n",
       "      <td>0.000000</td>\n",
       "      <td>...</td>\n",
       "      <td>0.0</td>\n",
       "      <td>0.0</td>\n",
       "      <td>0.00000</td>\n",
       "      <td>0.0</td>\n",
       "      <td>0.0</td>\n",
       "      <td>0.0</td>\n",
       "      <td>0.0</td>\n",
       "      <td>0.0</td>\n",
       "      <td>0.0</td>\n",
       "      <td>0.0</td>\n",
       "    </tr>\n",
       "    <tr>\n",
       "      <th>4</th>\n",
       "      <td>0.050161</td>\n",
       "      <td>0.024458</td>\n",
       "      <td>0.034026</td>\n",
       "      <td>0.011315</td>\n",
       "      <td>0.011631</td>\n",
       "      <td>0.024233</td>\n",
       "      <td>0.017922</td>\n",
       "      <td>0.014409</td>\n",
       "      <td>0.017095</td>\n",
       "      <td>0.000848</td>\n",
       "      <td>...</td>\n",
       "      <td>0.0</td>\n",
       "      <td>0.0</td>\n",
       "      <td>0.00000</td>\n",
       "      <td>0.0</td>\n",
       "      <td>0.0</td>\n",
       "      <td>0.0</td>\n",
       "      <td>0.0</td>\n",
       "      <td>0.0</td>\n",
       "      <td>0.0</td>\n",
       "      <td>0.0</td>\n",
       "    </tr>\n",
       "  </tbody>\n",
       "</table>\n",
       "<p>5 rows × 281 columns</p>\n",
       "</div>"
      ],
      "text/plain": [
       "   a900b6678ce86851fb16bfafb87f3326  c8e360969108fa2125a3d56eb4dad24f  \\\n",
       "0                          0.053004                          0.036598   \n",
       "1                          0.044532                          0.040123   \n",
       "2                          0.039394                          0.041777   \n",
       "3                          0.032631                          0.045754   \n",
       "4                          0.050161                          0.024458   \n",
       "\n",
       "   72143fd9e63fe40c1258948d2f0d79c3  4bbec3bb723375416616a87d785ac74a  \\\n",
       "0                          0.032812                          0.012367   \n",
       "1                          0.039901                          0.012481   \n",
       "2                          0.043619                          0.010214   \n",
       "3                          0.044055                          0.014060   \n",
       "4                          0.034026                          0.011315   \n",
       "\n",
       "   0c35cfa523aa27921ef8544a16d1cd36  61e9a50f4346bb3a5b16179b8eca71fa  \\\n",
       "0                          0.000000                          0.047956   \n",
       "1                          0.010023                          0.024502   \n",
       "2                          0.007070                          0.019787   \n",
       "3                          0.006015                          0.023023   \n",
       "4                          0.011631                          0.024233   \n",
       "\n",
       "   a140195871278e8fcf9447e42bad8786  1f9d97b07aa566b3b35536b0e7302bb0  \\\n",
       "0                          0.024483                          0.008582   \n",
       "1                          0.019855                          0.009293   \n",
       "2                          0.018105                          0.007811   \n",
       "3                          0.016091                          0.006015   \n",
       "4                          0.017922                          0.014409   \n",
       "\n",
       "   33e3d7409266a86935f571199ff9cc58  b96ea0d3eaa1a062c1e8411c138f7e28  ...  \\\n",
       "0                          0.020949                          0.000000  ...   \n",
       "1                          0.019522                          0.000000  ...   \n",
       "2                          0.020268                          0.000000  ...   \n",
       "3                          0.018610                          0.000000  ...   \n",
       "4                          0.017095                          0.000848  ...   \n",
       "\n",
       "   ce96254356d98a3e5023a32e8be899cf  16ec87a9ca205bcd412d48d61975c591  \\\n",
       "0                               0.0                               0.0   \n",
       "1                               0.0                               0.0   \n",
       "2                               0.0                               0.0   \n",
       "3                               0.0                               0.0   \n",
       "4                               0.0                               0.0   \n",
       "\n",
       "   83a477353e76b41335fb9470b5bcaa94  ce6cd1dcfe080dec5b0f409b2bf650b7  \\\n",
       "0                           0.00000                               0.0   \n",
       "1                           0.00000                               0.0   \n",
       "2                           0.00008                               0.0   \n",
       "3                           0.00000                               0.0   \n",
       "4                           0.00000                               0.0   \n",
       "\n",
       "   3c4db98ad400e85a11cddb49ce508374  dd39851591ee5eab8bd3ef808eed9df8  \\\n",
       "0                               0.0                               0.0   \n",
       "1                               0.0                               0.0   \n",
       "2                               0.0                               0.0   \n",
       "3                               0.0                               0.0   \n",
       "4                               0.0                               0.0   \n",
       "\n",
       "   b18bff56026036d35ea85628311c88c9  ba317104ebdc300f47e45b03ba33f214  \\\n",
       "0                               0.0                               0.0   \n",
       "1                               0.0                               0.0   \n",
       "2                               0.0                               0.0   \n",
       "3                               0.0                               0.0   \n",
       "4                               0.0                               0.0   \n",
       "\n",
       "   89896fba045deb2935da13334de1c601  56381d3c6ffb6a33ce11e28ebb733fa9  \n",
       "0                               0.0                               0.0  \n",
       "1                               0.0                               0.0  \n",
       "2                               0.0                               0.0  \n",
       "3                               0.0                               0.0  \n",
       "4                               0.0                               0.0  \n",
       "\n",
       "[5 rows x 281 columns]"
      ]
     },
     "execution_count": 178,
     "metadata": {},
     "output_type": "execute_result"
    }
   ],
   "source": [
    "# Subsample dataframe for features with nonzero importance\n",
    "df2 = df[asvs_nonzero]\n",
    "df2.head()"
   ]
  },
  {
   "cell_type": "code",
   "execution_count": 185,
   "id": "democratic-means",
   "metadata": {},
   "outputs": [
    {
     "data": {
      "text/plain": [
       "(58, 2754)"
      ]
     },
     "execution_count": 185,
     "metadata": {},
     "output_type": "execute_result"
    }
   ],
   "source": [
    "df.shape"
   ]
  },
  {
   "cell_type": "code",
   "execution_count": 186,
   "id": "searching-particular",
   "metadata": {},
   "outputs": [
    {
     "data": {
      "text/plain": [
       "(58, 281)"
      ]
     },
     "execution_count": 186,
     "metadata": {},
     "output_type": "execute_result"
    }
   ],
   "source": [
    "df2.shape"
   ]
  },
  {
   "cell_type": "code",
   "execution_count": 192,
   "id": "desperate-manufacturer",
   "metadata": {},
   "outputs": [
    {
     "name": "stderr",
     "output_type": "stream",
     "text": [
      "<ipython-input-192-fefda8c2fe53>:1: SettingWithCopyWarning: \n",
      "A value is trying to be set on a copy of a slice from a DataFrame.\n",
      "Try using .loc[row_indexer,col_indexer] = value instead\n",
      "\n",
      "See the caveats in the documentation: https://pandas.pydata.org/pandas-docs/stable/user_guide/indexing.html#returning-a-view-versus-a-copy\n",
      "  df2['Noelaerhabdaceae'] = df.loc[:]['Noelaerhabdaceae']\n"
     ]
    },
    {
     "data": {
      "text/html": [
       "<div>\n",
       "<style scoped>\n",
       "    .dataframe tbody tr th:only-of-type {\n",
       "        vertical-align: middle;\n",
       "    }\n",
       "\n",
       "    .dataframe tbody tr th {\n",
       "        vertical-align: top;\n",
       "    }\n",
       "\n",
       "    .dataframe thead th {\n",
       "        text-align: right;\n",
       "    }\n",
       "</style>\n",
       "<table border=\"1\" class=\"dataframe\">\n",
       "  <thead>\n",
       "    <tr style=\"text-align: right;\">\n",
       "      <th></th>\n",
       "      <th>a900b6678ce86851fb16bfafb87f3326</th>\n",
       "      <th>c8e360969108fa2125a3d56eb4dad24f</th>\n",
       "      <th>72143fd9e63fe40c1258948d2f0d79c3</th>\n",
       "      <th>4bbec3bb723375416616a87d785ac74a</th>\n",
       "      <th>0c35cfa523aa27921ef8544a16d1cd36</th>\n",
       "      <th>61e9a50f4346bb3a5b16179b8eca71fa</th>\n",
       "      <th>a140195871278e8fcf9447e42bad8786</th>\n",
       "      <th>1f9d97b07aa566b3b35536b0e7302bb0</th>\n",
       "      <th>33e3d7409266a86935f571199ff9cc58</th>\n",
       "      <th>b96ea0d3eaa1a062c1e8411c138f7e28</th>\n",
       "      <th>...</th>\n",
       "      <th>16ec87a9ca205bcd412d48d61975c591</th>\n",
       "      <th>83a477353e76b41335fb9470b5bcaa94</th>\n",
       "      <th>ce6cd1dcfe080dec5b0f409b2bf650b7</th>\n",
       "      <th>3c4db98ad400e85a11cddb49ce508374</th>\n",
       "      <th>dd39851591ee5eab8bd3ef808eed9df8</th>\n",
       "      <th>b18bff56026036d35ea85628311c88c9</th>\n",
       "      <th>ba317104ebdc300f47e45b03ba33f214</th>\n",
       "      <th>89896fba045deb2935da13334de1c601</th>\n",
       "      <th>56381d3c6ffb6a33ce11e28ebb733fa9</th>\n",
       "      <th>Noelaerhabdaceae</th>\n",
       "    </tr>\n",
       "  </thead>\n",
       "  <tbody>\n",
       "    <tr>\n",
       "      <th>0</th>\n",
       "      <td>0.053004</td>\n",
       "      <td>0.036598</td>\n",
       "      <td>0.032812</td>\n",
       "      <td>0.012367</td>\n",
       "      <td>0.000000</td>\n",
       "      <td>0.047956</td>\n",
       "      <td>0.024483</td>\n",
       "      <td>0.008582</td>\n",
       "      <td>0.020949</td>\n",
       "      <td>0.000000</td>\n",
       "      <td>...</td>\n",
       "      <td>0.0</td>\n",
       "      <td>0.00000</td>\n",
       "      <td>0.0</td>\n",
       "      <td>0.0</td>\n",
       "      <td>0.0</td>\n",
       "      <td>0.0</td>\n",
       "      <td>0.0</td>\n",
       "      <td>0.0</td>\n",
       "      <td>0.0</td>\n",
       "      <td>High</td>\n",
       "    </tr>\n",
       "    <tr>\n",
       "      <th>1</th>\n",
       "      <td>0.044532</td>\n",
       "      <td>0.040123</td>\n",
       "      <td>0.039901</td>\n",
       "      <td>0.012481</td>\n",
       "      <td>0.010023</td>\n",
       "      <td>0.024502</td>\n",
       "      <td>0.019855</td>\n",
       "      <td>0.009293</td>\n",
       "      <td>0.019522</td>\n",
       "      <td>0.000000</td>\n",
       "      <td>...</td>\n",
       "      <td>0.0</td>\n",
       "      <td>0.00000</td>\n",
       "      <td>0.0</td>\n",
       "      <td>0.0</td>\n",
       "      <td>0.0</td>\n",
       "      <td>0.0</td>\n",
       "      <td>0.0</td>\n",
       "      <td>0.0</td>\n",
       "      <td>0.0</td>\n",
       "      <td>High</td>\n",
       "    </tr>\n",
       "    <tr>\n",
       "      <th>2</th>\n",
       "      <td>0.039394</td>\n",
       "      <td>0.041777</td>\n",
       "      <td>0.043619</td>\n",
       "      <td>0.010214</td>\n",
       "      <td>0.007070</td>\n",
       "      <td>0.019787</td>\n",
       "      <td>0.018105</td>\n",
       "      <td>0.007811</td>\n",
       "      <td>0.020268</td>\n",
       "      <td>0.000000</td>\n",
       "      <td>...</td>\n",
       "      <td>0.0</td>\n",
       "      <td>0.00008</td>\n",
       "      <td>0.0</td>\n",
       "      <td>0.0</td>\n",
       "      <td>0.0</td>\n",
       "      <td>0.0</td>\n",
       "      <td>0.0</td>\n",
       "      <td>0.0</td>\n",
       "      <td>0.0</td>\n",
       "      <td>High</td>\n",
       "    </tr>\n",
       "    <tr>\n",
       "      <th>3</th>\n",
       "      <td>0.032631</td>\n",
       "      <td>0.045754</td>\n",
       "      <td>0.044055</td>\n",
       "      <td>0.014060</td>\n",
       "      <td>0.006015</td>\n",
       "      <td>0.023023</td>\n",
       "      <td>0.016091</td>\n",
       "      <td>0.006015</td>\n",
       "      <td>0.018610</td>\n",
       "      <td>0.000000</td>\n",
       "      <td>...</td>\n",
       "      <td>0.0</td>\n",
       "      <td>0.00000</td>\n",
       "      <td>0.0</td>\n",
       "      <td>0.0</td>\n",
       "      <td>0.0</td>\n",
       "      <td>0.0</td>\n",
       "      <td>0.0</td>\n",
       "      <td>0.0</td>\n",
       "      <td>0.0</td>\n",
       "      <td>High</td>\n",
       "    </tr>\n",
       "    <tr>\n",
       "      <th>4</th>\n",
       "      <td>0.050161</td>\n",
       "      <td>0.024458</td>\n",
       "      <td>0.034026</td>\n",
       "      <td>0.011315</td>\n",
       "      <td>0.011631</td>\n",
       "      <td>0.024233</td>\n",
       "      <td>0.017922</td>\n",
       "      <td>0.014409</td>\n",
       "      <td>0.017095</td>\n",
       "      <td>0.000848</td>\n",
       "      <td>...</td>\n",
       "      <td>0.0</td>\n",
       "      <td>0.00000</td>\n",
       "      <td>0.0</td>\n",
       "      <td>0.0</td>\n",
       "      <td>0.0</td>\n",
       "      <td>0.0</td>\n",
       "      <td>0.0</td>\n",
       "      <td>0.0</td>\n",
       "      <td>0.0</td>\n",
       "      <td>Low</td>\n",
       "    </tr>\n",
       "  </tbody>\n",
       "</table>\n",
       "<p>5 rows × 282 columns</p>\n",
       "</div>"
      ],
      "text/plain": [
       "   a900b6678ce86851fb16bfafb87f3326  c8e360969108fa2125a3d56eb4dad24f  \\\n",
       "0                          0.053004                          0.036598   \n",
       "1                          0.044532                          0.040123   \n",
       "2                          0.039394                          0.041777   \n",
       "3                          0.032631                          0.045754   \n",
       "4                          0.050161                          0.024458   \n",
       "\n",
       "   72143fd9e63fe40c1258948d2f0d79c3  4bbec3bb723375416616a87d785ac74a  \\\n",
       "0                          0.032812                          0.012367   \n",
       "1                          0.039901                          0.012481   \n",
       "2                          0.043619                          0.010214   \n",
       "3                          0.044055                          0.014060   \n",
       "4                          0.034026                          0.011315   \n",
       "\n",
       "   0c35cfa523aa27921ef8544a16d1cd36  61e9a50f4346bb3a5b16179b8eca71fa  \\\n",
       "0                          0.000000                          0.047956   \n",
       "1                          0.010023                          0.024502   \n",
       "2                          0.007070                          0.019787   \n",
       "3                          0.006015                          0.023023   \n",
       "4                          0.011631                          0.024233   \n",
       "\n",
       "   a140195871278e8fcf9447e42bad8786  1f9d97b07aa566b3b35536b0e7302bb0  \\\n",
       "0                          0.024483                          0.008582   \n",
       "1                          0.019855                          0.009293   \n",
       "2                          0.018105                          0.007811   \n",
       "3                          0.016091                          0.006015   \n",
       "4                          0.017922                          0.014409   \n",
       "\n",
       "   33e3d7409266a86935f571199ff9cc58  b96ea0d3eaa1a062c1e8411c138f7e28  ...  \\\n",
       "0                          0.020949                          0.000000  ...   \n",
       "1                          0.019522                          0.000000  ...   \n",
       "2                          0.020268                          0.000000  ...   \n",
       "3                          0.018610                          0.000000  ...   \n",
       "4                          0.017095                          0.000848  ...   \n",
       "\n",
       "   16ec87a9ca205bcd412d48d61975c591  83a477353e76b41335fb9470b5bcaa94  \\\n",
       "0                               0.0                           0.00000   \n",
       "1                               0.0                           0.00000   \n",
       "2                               0.0                           0.00008   \n",
       "3                               0.0                           0.00000   \n",
       "4                               0.0                           0.00000   \n",
       "\n",
       "   ce6cd1dcfe080dec5b0f409b2bf650b7  3c4db98ad400e85a11cddb49ce508374  \\\n",
       "0                               0.0                               0.0   \n",
       "1                               0.0                               0.0   \n",
       "2                               0.0                               0.0   \n",
       "3                               0.0                               0.0   \n",
       "4                               0.0                               0.0   \n",
       "\n",
       "   dd39851591ee5eab8bd3ef808eed9df8  b18bff56026036d35ea85628311c88c9  \\\n",
       "0                               0.0                               0.0   \n",
       "1                               0.0                               0.0   \n",
       "2                               0.0                               0.0   \n",
       "3                               0.0                               0.0   \n",
       "4                               0.0                               0.0   \n",
       "\n",
       "   ba317104ebdc300f47e45b03ba33f214  89896fba045deb2935da13334de1c601  \\\n",
       "0                               0.0                               0.0   \n",
       "1                               0.0                               0.0   \n",
       "2                               0.0                               0.0   \n",
       "3                               0.0                               0.0   \n",
       "4                               0.0                               0.0   \n",
       "\n",
       "   56381d3c6ffb6a33ce11e28ebb733fa9  Noelaerhabdaceae  \n",
       "0                               0.0              High  \n",
       "1                               0.0              High  \n",
       "2                               0.0              High  \n",
       "3                               0.0              High  \n",
       "4                               0.0               Low  \n",
       "\n",
       "[5 rows x 282 columns]"
      ]
     },
     "execution_count": 192,
     "metadata": {},
     "output_type": "execute_result"
    }
   ],
   "source": [
    "df2['Noelaerhabdaceae'] = df.loc[:]['Noelaerhabdaceae']\n",
    "df2.head()"
   ]
  },
  {
   "cell_type": "code",
   "execution_count": 193,
   "id": "arbitrary-anaheim",
   "metadata": {},
   "outputs": [
    {
     "data": {
      "text/plain": [
       "(58, 282)"
      ]
     },
     "execution_count": 193,
     "metadata": {},
     "output_type": "execute_result"
    }
   ],
   "source": [
    "df2.shape"
   ]
  },
  {
   "cell_type": "code",
   "execution_count": 194,
   "id": "latter-equipment",
   "metadata": {},
   "outputs": [
    {
     "data": {
      "text/plain": [
       "(58, 2754)"
      ]
     },
     "execution_count": 194,
     "metadata": {},
     "output_type": "execute_result"
    }
   ],
   "source": [
    "df.shape"
   ]
  },
  {
   "cell_type": "markdown",
   "id": "continuing-opportunity",
   "metadata": {},
   "source": [
    "### Repeat model training and running"
   ]
  },
  {
   "cell_type": "code",
   "execution_count": 206,
   "id": "varying-cleveland",
   "metadata": {},
   "outputs": [
    {
     "name": "stdout",
     "output_type": "stream",
     "text": [
      "Number of observations in the training data: 49\n",
      "Number of observations in the test data: 9\n"
     ]
    },
    {
     "name": "stderr",
     "output_type": "stream",
     "text": [
      "<ipython-input-206-542d92407314>:2: SettingWithCopyWarning: \n",
      "A value is trying to be set on a copy of a slice from a DataFrame.\n",
      "Try using .loc[row_indexer,col_indexer] = value instead\n",
      "\n",
      "See the caveats in the documentation: https://pandas.pydata.org/pandas-docs/stable/user_guide/indexing.html#returning-a-view-versus-a-copy\n",
      "  df2['is_train'] = np.random.uniform(0, 1, len(df2)) <= .8\n"
     ]
    }
   ],
   "source": [
    "# Randomly assign some rows (samples) to be used for training set\n",
    "df2['is_train'] = np.random.uniform(0, 1, len(df2)) <= .8\n",
    "# Create two new dataframes, one with the training rows, one with the test rows\n",
    "train, test = df2[df2['is_train']==True], df2[df2['is_train']==False]\n",
    "# Show the number of observations for the test and training dataframes\n",
    "print('Number of observations in the training data:', len(train))\n",
    "print('Number of observations in the test data:',len(test))"
   ]
  },
  {
   "cell_type": "code",
   "execution_count": 207,
   "id": "sacred-thousand",
   "metadata": {},
   "outputs": [
    {
     "data": {
      "text/html": [
       "<div>\n",
       "<style scoped>\n",
       "    .dataframe tbody tr th:only-of-type {\n",
       "        vertical-align: middle;\n",
       "    }\n",
       "\n",
       "    .dataframe tbody tr th {\n",
       "        vertical-align: top;\n",
       "    }\n",
       "\n",
       "    .dataframe thead th {\n",
       "        text-align: right;\n",
       "    }\n",
       "</style>\n",
       "<table border=\"1\" class=\"dataframe\">\n",
       "  <thead>\n",
       "    <tr style=\"text-align: right;\">\n",
       "      <th></th>\n",
       "      <th>a900b6678ce86851fb16bfafb87f3326</th>\n",
       "      <th>c8e360969108fa2125a3d56eb4dad24f</th>\n",
       "      <th>72143fd9e63fe40c1258948d2f0d79c3</th>\n",
       "      <th>4bbec3bb723375416616a87d785ac74a</th>\n",
       "      <th>0c35cfa523aa27921ef8544a16d1cd36</th>\n",
       "      <th>61e9a50f4346bb3a5b16179b8eca71fa</th>\n",
       "      <th>a140195871278e8fcf9447e42bad8786</th>\n",
       "      <th>1f9d97b07aa566b3b35536b0e7302bb0</th>\n",
       "      <th>33e3d7409266a86935f571199ff9cc58</th>\n",
       "      <th>b96ea0d3eaa1a062c1e8411c138f7e28</th>\n",
       "      <th>...</th>\n",
       "      <th>83a477353e76b41335fb9470b5bcaa94</th>\n",
       "      <th>ce6cd1dcfe080dec5b0f409b2bf650b7</th>\n",
       "      <th>3c4db98ad400e85a11cddb49ce508374</th>\n",
       "      <th>dd39851591ee5eab8bd3ef808eed9df8</th>\n",
       "      <th>b18bff56026036d35ea85628311c88c9</th>\n",
       "      <th>ba317104ebdc300f47e45b03ba33f214</th>\n",
       "      <th>89896fba045deb2935da13334de1c601</th>\n",
       "      <th>56381d3c6ffb6a33ce11e28ebb733fa9</th>\n",
       "      <th>Noelaerhabdaceae</th>\n",
       "      <th>is_train</th>\n",
       "    </tr>\n",
       "  </thead>\n",
       "  <tbody>\n",
       "    <tr>\n",
       "      <th>0</th>\n",
       "      <td>0.053004</td>\n",
       "      <td>0.036598</td>\n",
       "      <td>0.032812</td>\n",
       "      <td>0.012367</td>\n",
       "      <td>0.000000</td>\n",
       "      <td>0.047956</td>\n",
       "      <td>0.024483</td>\n",
       "      <td>0.008582</td>\n",
       "      <td>0.020949</td>\n",
       "      <td>0.0</td>\n",
       "      <td>...</td>\n",
       "      <td>0.00000</td>\n",
       "      <td>0.0</td>\n",
       "      <td>0.0</td>\n",
       "      <td>0.0</td>\n",
       "      <td>0.0</td>\n",
       "      <td>0.0</td>\n",
       "      <td>0.0</td>\n",
       "      <td>0.0</td>\n",
       "      <td>High</td>\n",
       "      <td>True</td>\n",
       "    </tr>\n",
       "    <tr>\n",
       "      <th>1</th>\n",
       "      <td>0.044532</td>\n",
       "      <td>0.040123</td>\n",
       "      <td>0.039901</td>\n",
       "      <td>0.012481</td>\n",
       "      <td>0.010023</td>\n",
       "      <td>0.024502</td>\n",
       "      <td>0.019855</td>\n",
       "      <td>0.009293</td>\n",
       "      <td>0.019522</td>\n",
       "      <td>0.0</td>\n",
       "      <td>...</td>\n",
       "      <td>0.00000</td>\n",
       "      <td>0.0</td>\n",
       "      <td>0.0</td>\n",
       "      <td>0.0</td>\n",
       "      <td>0.0</td>\n",
       "      <td>0.0</td>\n",
       "      <td>0.0</td>\n",
       "      <td>0.0</td>\n",
       "      <td>High</td>\n",
       "      <td>True</td>\n",
       "    </tr>\n",
       "    <tr>\n",
       "      <th>2</th>\n",
       "      <td>0.039394</td>\n",
       "      <td>0.041777</td>\n",
       "      <td>0.043619</td>\n",
       "      <td>0.010214</td>\n",
       "      <td>0.007070</td>\n",
       "      <td>0.019787</td>\n",
       "      <td>0.018105</td>\n",
       "      <td>0.007811</td>\n",
       "      <td>0.020268</td>\n",
       "      <td>0.0</td>\n",
       "      <td>...</td>\n",
       "      <td>0.00008</td>\n",
       "      <td>0.0</td>\n",
       "      <td>0.0</td>\n",
       "      <td>0.0</td>\n",
       "      <td>0.0</td>\n",
       "      <td>0.0</td>\n",
       "      <td>0.0</td>\n",
       "      <td>0.0</td>\n",
       "      <td>High</td>\n",
       "      <td>True</td>\n",
       "    </tr>\n",
       "    <tr>\n",
       "      <th>3</th>\n",
       "      <td>0.032631</td>\n",
       "      <td>0.045754</td>\n",
       "      <td>0.044055</td>\n",
       "      <td>0.014060</td>\n",
       "      <td>0.006015</td>\n",
       "      <td>0.023023</td>\n",
       "      <td>0.016091</td>\n",
       "      <td>0.006015</td>\n",
       "      <td>0.018610</td>\n",
       "      <td>0.0</td>\n",
       "      <td>...</td>\n",
       "      <td>0.00000</td>\n",
       "      <td>0.0</td>\n",
       "      <td>0.0</td>\n",
       "      <td>0.0</td>\n",
       "      <td>0.0</td>\n",
       "      <td>0.0</td>\n",
       "      <td>0.0</td>\n",
       "      <td>0.0</td>\n",
       "      <td>High</td>\n",
       "      <td>True</td>\n",
       "    </tr>\n",
       "    <tr>\n",
       "      <th>5</th>\n",
       "      <td>0.040802</td>\n",
       "      <td>0.092341</td>\n",
       "      <td>0.040086</td>\n",
       "      <td>0.015032</td>\n",
       "      <td>0.000000</td>\n",
       "      <td>0.042949</td>\n",
       "      <td>0.024338</td>\n",
       "      <td>0.000000</td>\n",
       "      <td>0.020043</td>\n",
       "      <td>0.0</td>\n",
       "      <td>...</td>\n",
       "      <td>0.00000</td>\n",
       "      <td>0.0</td>\n",
       "      <td>0.0</td>\n",
       "      <td>0.0</td>\n",
       "      <td>0.0</td>\n",
       "      <td>0.0</td>\n",
       "      <td>0.0</td>\n",
       "      <td>0.0</td>\n",
       "      <td>High</td>\n",
       "      <td>True</td>\n",
       "    </tr>\n",
       "  </tbody>\n",
       "</table>\n",
       "<p>5 rows × 283 columns</p>\n",
       "</div>"
      ],
      "text/plain": [
       "   a900b6678ce86851fb16bfafb87f3326  c8e360969108fa2125a3d56eb4dad24f  \\\n",
       "0                          0.053004                          0.036598   \n",
       "1                          0.044532                          0.040123   \n",
       "2                          0.039394                          0.041777   \n",
       "3                          0.032631                          0.045754   \n",
       "5                          0.040802                          0.092341   \n",
       "\n",
       "   72143fd9e63fe40c1258948d2f0d79c3  4bbec3bb723375416616a87d785ac74a  \\\n",
       "0                          0.032812                          0.012367   \n",
       "1                          0.039901                          0.012481   \n",
       "2                          0.043619                          0.010214   \n",
       "3                          0.044055                          0.014060   \n",
       "5                          0.040086                          0.015032   \n",
       "\n",
       "   0c35cfa523aa27921ef8544a16d1cd36  61e9a50f4346bb3a5b16179b8eca71fa  \\\n",
       "0                          0.000000                          0.047956   \n",
       "1                          0.010023                          0.024502   \n",
       "2                          0.007070                          0.019787   \n",
       "3                          0.006015                          0.023023   \n",
       "5                          0.000000                          0.042949   \n",
       "\n",
       "   a140195871278e8fcf9447e42bad8786  1f9d97b07aa566b3b35536b0e7302bb0  \\\n",
       "0                          0.024483                          0.008582   \n",
       "1                          0.019855                          0.009293   \n",
       "2                          0.018105                          0.007811   \n",
       "3                          0.016091                          0.006015   \n",
       "5                          0.024338                          0.000000   \n",
       "\n",
       "   33e3d7409266a86935f571199ff9cc58  b96ea0d3eaa1a062c1e8411c138f7e28  ...  \\\n",
       "0                          0.020949                               0.0  ...   \n",
       "1                          0.019522                               0.0  ...   \n",
       "2                          0.020268                               0.0  ...   \n",
       "3                          0.018610                               0.0  ...   \n",
       "5                          0.020043                               0.0  ...   \n",
       "\n",
       "   83a477353e76b41335fb9470b5bcaa94  ce6cd1dcfe080dec5b0f409b2bf650b7  \\\n",
       "0                           0.00000                               0.0   \n",
       "1                           0.00000                               0.0   \n",
       "2                           0.00008                               0.0   \n",
       "3                           0.00000                               0.0   \n",
       "5                           0.00000                               0.0   \n",
       "\n",
       "   3c4db98ad400e85a11cddb49ce508374  dd39851591ee5eab8bd3ef808eed9df8  \\\n",
       "0                               0.0                               0.0   \n",
       "1                               0.0                               0.0   \n",
       "2                               0.0                               0.0   \n",
       "3                               0.0                               0.0   \n",
       "5                               0.0                               0.0   \n",
       "\n",
       "   b18bff56026036d35ea85628311c88c9  ba317104ebdc300f47e45b03ba33f214  \\\n",
       "0                               0.0                               0.0   \n",
       "1                               0.0                               0.0   \n",
       "2                               0.0                               0.0   \n",
       "3                               0.0                               0.0   \n",
       "5                               0.0                               0.0   \n",
       "\n",
       "   89896fba045deb2935da13334de1c601  56381d3c6ffb6a33ce11e28ebb733fa9  \\\n",
       "0                               0.0                               0.0   \n",
       "1                               0.0                               0.0   \n",
       "2                               0.0                               0.0   \n",
       "3                               0.0                               0.0   \n",
       "5                               0.0                               0.0   \n",
       "\n",
       "   Noelaerhabdaceae  is_train  \n",
       "0              High      True  \n",
       "1              High      True  \n",
       "2              High      True  \n",
       "3              High      True  \n",
       "5              High      True  \n",
       "\n",
       "[5 rows x 283 columns]"
      ]
     },
     "execution_count": 207,
     "metadata": {},
     "output_type": "execute_result"
    }
   ],
   "source": [
    "train.head()"
   ]
  },
  {
   "cell_type": "code",
   "execution_count": 208,
   "id": "atomic-sheet",
   "metadata": {},
   "outputs": [
    {
     "data": {
      "text/plain": [
       "Index(['a900b6678ce86851fb16bfafb87f3326', 'c8e360969108fa2125a3d56eb4dad24f',\n",
       "       '72143fd9e63fe40c1258948d2f0d79c3', '4bbec3bb723375416616a87d785ac74a',\n",
       "       '0c35cfa523aa27921ef8544a16d1cd36', '61e9a50f4346bb3a5b16179b8eca71fa'],\n",
       "      dtype='object')"
      ]
     },
     "execution_count": 208,
     "metadata": {},
     "output_type": "execute_result"
    }
   ],
   "source": [
    "# Create a list of the feature column's names\n",
    "# Final column value needs to be 2 LESS THAN # columns in df2\n",
    "features = df2.columns[:6]\n",
    "# View features\n",
    "features"
   ]
  },
  {
   "cell_type": "code",
   "execution_count": 209,
   "id": "functional-reminder",
   "metadata": {},
   "outputs": [],
   "source": [
    "# train['Noelaerhabdaceae'] contains the actual sample classifications. Before we can use it,\n",
    "# we need to convert each category into a digit. In this case there are two categories, \"High\" and \"Low\".\n",
    "y = pd.factorize(train['Noelaerhabdaceae'])[0]\n",
    "z = pd.factorize(train['Noelaerhabdaceae'])[1]"
   ]
  },
  {
   "cell_type": "code",
   "execution_count": 210,
   "id": "sticky-victor",
   "metadata": {
    "scrolled": true
   },
   "outputs": [
    {
     "data": {
      "text/plain": [
       "array([0, 0, 0, 0, 0, 0, 1, 0, 0, 0, 0, 1, 0, 1, 0, 1, 0, 1, 1, 1, 1, 0,\n",
       "       1, 1, 1, 1, 1, 1, 1, 0, 1, 0, 0, 1, 0, 0, 0, 1, 1, 1, 1, 1, 0, 1,\n",
       "       0, 1, 0, 1, 0])"
      ]
     },
     "execution_count": 210,
     "metadata": {},
     "output_type": "execute_result"
    }
   ],
   "source": [
    "y"
   ]
  },
  {
   "cell_type": "code",
   "execution_count": 211,
   "id": "comparative-environment",
   "metadata": {},
   "outputs": [
    {
     "data": {
      "text/plain": [
       "Index(['High', 'Low'], dtype='object')"
      ]
     },
     "execution_count": 211,
     "metadata": {},
     "output_type": "execute_result"
    }
   ],
   "source": [
    "z"
   ]
  },
  {
   "cell_type": "code",
   "execution_count": 212,
   "id": "distributed-rachel",
   "metadata": {},
   "outputs": [
    {
     "data": {
      "text/plain": [
       "RandomForestClassifier(class_weight={0: 1, 1: 2}, n_jobs=2, random_state=0)"
      ]
     },
     "execution_count": 212,
     "metadata": {},
     "output_type": "execute_result"
    }
   ],
   "source": [
    "# Create a random forest Classifier. By convention, clf means 'Classifier'\n",
    "# This model assigned weight 1 to 'High' class and weight 2 to 'Low' class\n",
    "clf = RandomForestClassifier(n_jobs=2, random_state=0, bootstrap=True, class_weight={0:1,1:2})\n",
    "\n",
    "# Train the Classifier to take the training features and learn how they relate to the training y (E. hux level)\n",
    "clf.fit(train[features], y)"
   ]
  },
  {
   "cell_type": "code",
   "execution_count": 213,
   "id": "virtual-allowance",
   "metadata": {},
   "outputs": [
    {
     "data": {
      "text/plain": [
       "array([[0.52, 0.48],\n",
       "       [0.43, 0.57],\n",
       "       [0.8 , 0.2 ],\n",
       "       [0.66, 0.34],\n",
       "       [0.14, 0.86],\n",
       "       [0.88, 0.12],\n",
       "       [0.42, 0.58],\n",
       "       [0.06, 0.94],\n",
       "       [0.06, 0.94]])"
      ]
     },
     "execution_count": 213,
     "metadata": {},
     "output_type": "execute_result"
    }
   ],
   "source": [
    "# Apply the Classifier we trained to the test data (which, remember, it has never seen before)\n",
    "clf.predict(test[features])\n",
    "# View the predicted probabilities of the first 10 observations\n",
    "clf.predict_proba(test[features])[0:10]"
   ]
  },
  {
   "cell_type": "code",
   "execution_count": 214,
   "id": "brave-serum",
   "metadata": {},
   "outputs": [],
   "source": [
    "# Revert predicted state to original classification state (\"High\" and \"Low\")\n",
    "preds = z[clf.predict(test[features])]"
   ]
  },
  {
   "cell_type": "code",
   "execution_count": 215,
   "id": "designed-monaco",
   "metadata": {},
   "outputs": [
    {
     "data": {
      "text/html": [
       "<div>\n",
       "<style scoped>\n",
       "    .dataframe tbody tr th:only-of-type {\n",
       "        vertical-align: middle;\n",
       "    }\n",
       "\n",
       "    .dataframe tbody tr th {\n",
       "        vertical-align: top;\n",
       "    }\n",
       "\n",
       "    .dataframe thead th {\n",
       "        text-align: right;\n",
       "    }\n",
       "</style>\n",
       "<table border=\"1\" class=\"dataframe\">\n",
       "  <thead>\n",
       "    <tr style=\"text-align: right;\">\n",
       "      <th>Predicted Category</th>\n",
       "      <th>High</th>\n",
       "      <th>Low</th>\n",
       "    </tr>\n",
       "    <tr>\n",
       "      <th>Actual Category</th>\n",
       "      <th></th>\n",
       "      <th></th>\n",
       "    </tr>\n",
       "  </thead>\n",
       "  <tbody>\n",
       "    <tr>\n",
       "      <th>High</th>\n",
       "      <td>2</td>\n",
       "      <td>1</td>\n",
       "    </tr>\n",
       "    <tr>\n",
       "      <th>Low</th>\n",
       "      <td>2</td>\n",
       "      <td>4</td>\n",
       "    </tr>\n",
       "  </tbody>\n",
       "</table>\n",
       "</div>"
      ],
      "text/plain": [
       "Predicted Category  High  Low\n",
       "Actual Category              \n",
       "High                   2    1\n",
       "Low                    2    4"
      ]
     },
     "execution_count": 215,
     "metadata": {},
     "output_type": "execute_result"
    }
   ],
   "source": [
    "pd.crosstab(test['Noelaerhabdaceae'], preds, rownames=['Actual Category'], colnames=['Predicted Category'])"
   ]
  },
  {
   "cell_type": "markdown",
   "id": "governmental-saint",
   "metadata": {},
   "source": [
    "### No better than the model with all features!"
   ]
  }
 ],
 "metadata": {
  "kernelspec": {
   "display_name": "Python 3",
   "language": "python",
   "name": "python3"
  },
  "language_info": {
   "codemirror_mode": {
    "name": "ipython",
    "version": 3
   },
   "file_extension": ".py",
   "mimetype": "text/x-python",
   "name": "python",
   "nbconvert_exporter": "python",
   "pygments_lexer": "ipython3",
   "version": "3.8.3"
  }
 },
 "nbformat": 4,
 "nbformat_minor": 5
}
