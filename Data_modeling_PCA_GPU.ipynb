{
 "cells": [
  {
   "cell_type": "markdown",
   "metadata": {},
   "source": [
    "Amplicon data of two different marker genes from the same samples\n",
    "========\n",
    "\n",
    "### Testing functionality with RAPIDS"
   ]
  },
  {
   "cell_type": "markdown",
   "metadata": {},
   "source": [
    "#### Import all the dependencies"
   ]
  },
  {
   "cell_type": "code",
   "execution_count": 2,
   "metadata": {},
   "outputs": [],
   "source": [
    "import os\n",
    "import matplotlib.pyplot as plt\n",
    "from sklearn.decomposition import PCA # is this necessary with cuml?\n",
    "import seaborn as sns # will this work with RAPIDS?\n",
    "\n",
    "# RAPIDS libraries\n",
    "import cudf # RAPIDS equivalent of pandas\n",
    "import cupy as cp # RAPIDS equivalent of numpy\n",
    "from cuml.decomposition import PCA # RAPIDS equivalent of scikit-learn"
   ]
  },
  {
   "cell_type": "code",
   "execution_count": null,
   "metadata": {},
   "outputs": [],
   "source": [
    "# Check hardware configuration\n",
    "!nvidia-smi"
   ]
  },
  {
   "cell_type": "code",
   "execution_count": 113,
   "metadata": {},
   "outputs": [
    {
     "data": {
      "text/plain": [
       "'Quadro T2000'"
      ]
     },
     "execution_count": 113,
     "metadata": {},
     "output_type": "execute_result"
    }
   ],
   "source": [
    "# Test for cuda device\n",
    "torch.cuda.get_device_name(0)"
   ]
  },
  {
   "cell_type": "markdown",
   "metadata": {},
   "source": [
    "#### Move to working directory"
   ]
  },
  {
   "cell_type": "code",
   "execution_count": 5,
   "metadata": {},
   "outputs": [],
   "source": [
    "# Need to upload our data to the cluster and provide cluster path\n",
    "os.chdir(\"/Users/nastassia.patin/GitHub/MarineDNA/Data\")"
   ]
  },
  {
   "cell_type": "markdown",
   "metadata": {},
   "source": [
    "## 01. This section imports the amplicon data sets as raw counts and calls an model the ASV occurrences as probability distributions. "
   ]
  },
  {
   "cell_type": "markdown",
   "metadata": {},
   "source": [
    "#### Import amplicon data sheets as pandas dataframes and take a look"
   ]
  },
  {
   "cell_type": "code",
   "execution_count": null,
   "metadata": {},
   "outputs": [],
   "source": [
    "file1 = \"Flyer2018_16S_table_counts.tsv\"\n",
    "file2 = \"Flyer2018_18S_table_counts.tsv\"\n",
    "asvs1 = cudf.read_csv(file1, index_col=0, sep=\"\\t\")\n",
    "asvs2 = cudf.read_csv(file2, index_col=0, sep=\"\\t\")"
   ]
  },
  {
   "cell_type": "markdown",
   "metadata": {},
   "source": [
    "### Function to model the ASV count distributions"
   ]
  },
  {
   "cell_type": "code",
   "execution_count": null,
   "metadata": {},
   "outputs": [],
   "source": [
    "def ranRelPct_df(df):\n",
    "    def betaRow(row):\n",
    "      ran_row = cp.random.beta(row + 1, row.sum() - row + 1)\n",
    "      return ran_row\n",
    "    return df.apply(lambda x: betaRow(x), axis = 1, result_type='expand') "
   ]
  },
  {
   "cell_type": "markdown",
   "metadata": {},
   "source": [
    "#### Run the function in a loop over both amplicon data sets and make a list of the two data frames"
   ]
  },
  {
   "cell_type": "code",
   "execution_count": null,
   "metadata": {},
   "outputs": [],
   "source": [
    "asvs_list = []\n",
    "\n",
    "for file in [file1, file2]:\n",
    "    asvs = cudf.read_csv(file, index_col=0, sep='\\t')\n",
    "    asvs_modeled = ranRelPct_df(asvs)\n",
    "    asvs_list.append(asvs_modeled)"
   ]
  },
  {
   "cell_type": "code",
   "execution_count": null,
   "metadata": {},
   "outputs": [],
   "source": [
    "# We lose sample names in this operation\n",
    "asvs_list"
   ]
  },
  {
   "cell_type": "markdown",
   "metadata": {},
   "source": [
    "#### Separate the two data frames into the 16S and 18S modeled ASV counts and transpose for PCA"
   ]
  },
  {
   "cell_type": "code",
   "execution_count": null,
   "metadata": {},
   "outputs": [],
   "source": [
    "df_16S = asvs_list[0].T\n",
    "df_18S = asvs_list[1].T"
   ]
  },
  {
   "cell_type": "markdown",
   "metadata": {},
   "source": [
    "## 02. Reduce dimensionality and visualize principal components"
   ]
  },
  {
   "cell_type": "code",
   "execution_count": 18,
   "metadata": {},
   "outputs": [],
   "source": [
    "# Untransformed 16S\n",
    "pca = PCA(n_components=62)\n",
    "pca.fit_transform(df_16S)\n",
    "exp_var = pca.explained_variance_ratio_\n",
    "variance_array_16S = cp.cumsum(exp_var * 100)"
   ]
  },
  {
   "cell_type": "code",
   "execution_count": 19,
   "metadata": {},
   "outputs": [],
   "source": [
    "# Untransformed 18S\n",
    "pca = PCA(n_components=62)\n",
    "pca.fit_transform(df_18S)\n",
    "exp_var = pca.explained_variance_ratio_\n",
    "variance_array_18S = cp.cumsum(exp_var * 100)"
   ]
  },
  {
   "cell_type": "markdown",
   "metadata": {},
   "source": [
    "### Plot components vs variance explained"
   ]
  },
  {
   "cell_type": "markdown",
   "metadata": {},
   "source": [
    "#### Function to format variance numpy array for seaborn plot"
   ]
  },
  {
   "cell_type": "code",
   "execution_count": 22,
   "metadata": {},
   "outputs": [],
   "source": [
    "def format_variance_data_for_plotting(variance_array):\n",
    "    df = cudf.DataFrame(variance_array, columns = [\"Explained variance\"])\n",
    "    df = df.reset_index(level=0)\n",
    "    df['index'] = df['index'] + 1\n",
    "    df = df.rename(columns = {\"index\" : \"Component number\"})\n",
    "    return(df)"
   ]
  },
  {
   "cell_type": "markdown",
   "metadata": {},
   "source": [
    "#### Apply function to raw count probabilities"
   ]
  },
  {
   "cell_type": "code",
   "execution_count": 23,
   "metadata": {},
   "outputs": [
    {
     "data": {
      "text/plain": [
       "[Text(0.5, 1.0, 'Principal components of ASV count probabilities')]"
      ]
     },
     "execution_count": 23,
     "metadata": {},
     "output_type": "execute_result"
    },
    {
     "data": {
      "image/png": "[encoded data removed]",
      "text/plain": [
       "<Figure size 432x288 with 1 Axes>"
      ]
     },
     "metadata": {
      "needs_background": "light"
     },
     "output_type": "display_data"
    }
   ],
   "source": [
    "# 16S count data\n",
    "df_variance = format_variance_data_for_plotting(variance_array_16S)\n",
    "sns.lineplot(data=df_variance, x=\"Component number\", \n",
    "             y=\"Explained variance\").set(title='Principal components of ASV count probabilities') "
   ]
  },
  {
   "cell_type": "code",
   "execution_count": 24,
   "metadata": {},
   "outputs": [
    {
     "data": {
      "text/plain": [
       "[Text(0.5, 1.0, 'Principal components of ASV count probabilities')]"
      ]
     },
     "execution_count": 24,
     "metadata": {},
     "output_type": "execute_result"
    },
    {
     "data": {
      "image/png": "[encoded data removed]",
      "text/plain": [
       "<Figure size 432x288 with 1 Axes>"
      ]
     },
     "metadata": {
      "needs_background": "light"
     },
     "output_type": "display_data"
    }
   ],
   "source": [
    "# 18S count data\n",
    "df_variance = format_variance_data_for_plotting(variance_array_16S)\n",
    "sns.lineplot(data=df_variance, x=\"Component number\", \n",
    "             y=\"Explained variance\").set(title='Principal components of ASV count probabilities') "
   ]
  },
  {
   "cell_type": "markdown",
   "metadata": {},
   "source": [
    "### Plot principal components of raw ASV count probabilities"
   ]
  },
  {
   "cell_type": "code",
   "execution_count": 25,
   "metadata": {},
   "outputs": [
    {
     "data": {
      "text/plain": [
       "[Text(0.5, 1.0, '16S PCA, raw count probabilities')]"
      ]
     },
     "execution_count": 25,
     "metadata": {},
     "output_type": "execute_result"
    },
    {
     "data": {
      "image/png": "[encoded data removed]",
      "text/plain": [
       "<Figure size 432x288 with 1 Axes>"
      ]
     },
     "metadata": {
      "needs_background": "light"
     },
     "output_type": "display_data"
    }
   ],
   "source": [
    "pca_16 = PCA(n_components=3)\n",
    "pcs_16 = pca.fit_transform(df_16S) \n",
    "\n",
    "pc1_values_16 = pcs_16[:,0]\n",
    "pc2_values_16 = pcs_16[:,1]\n",
    "sns.scatterplot(x=pc1_values_16, y=pc2_values_16).set(title=\"16S PCA, raw count probabilities\")"
   ]
  },
  {
   "cell_type": "code",
   "execution_count": 26,
   "metadata": {},
   "outputs": [
    {
     "data": {
      "text/plain": [
       "[Text(0.5, 1.0, '18S PCA, raw count probabilities')]"
      ]
     },
     "execution_count": 26,
     "metadata": {},
     "output_type": "execute_result"
    },
    {
     "data": {
      "image/png": "[encoded data removed]",
      "text/plain": [
       "<Figure size 432x288 with 1 Axes>"
      ]
     },
     "metadata": {
      "needs_background": "light"
     },
     "output_type": "display_data"
    }
   ],
   "source": [
    "pca_118 = PCA(n_components=3)\n",
    "pcs_18 = pca.fit_transform(df_18S)\n",
    "\n",
    "pc1_values_18 = pcs_18[:,0]\n",
    "pc2_values_18 = pcs_18[:,1]\n",
    "sns.scatterplot(x=pc1_values_18, y=pc2_values_18).set(title=\"18S PCA, raw count probabilities\")"
   ]
  }
 ],
 "metadata": {
  "kernelspec": {
   "display_name": "Python 3 (ipykernel)",
   "language": "python",
   "name": "python3"
  },
  "language_info": {
   "codemirror_mode": {
    "name": "ipython",
    "version": 3
   },
   "file_extension": ".py",
   "mimetype": "text/x-python",
   "name": "python",
   "nbconvert_exporter": "python",
   "pygments_lexer": "ipython3",
   "version": "3.10.4"
  }
 },
 "nbformat": 4,
 "nbformat_minor": 4
}
